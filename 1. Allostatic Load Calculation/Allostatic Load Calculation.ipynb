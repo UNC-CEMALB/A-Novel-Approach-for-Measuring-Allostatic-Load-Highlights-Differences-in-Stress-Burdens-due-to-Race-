{
 "cells": [
  {
   "cell_type": "code",
   "execution_count": 1,
   "id": "afe5e3d3-04b1-4a43-9b17-ace254311150",
   "metadata": {},
   "outputs": [
    {
     "name": "stderr",
     "output_type": "stream",
     "text": [
      "── \u001b[1mAttaching core tidyverse packages\u001b[22m ──────────────────────── tidyverse 2.0.0 ──\n",
      "\u001b[32m✔\u001b[39m \u001b[34mdplyr    \u001b[39m 1.1.3     \u001b[32m✔\u001b[39m \u001b[34mreadr    \u001b[39m 2.1.4\n",
      "\u001b[32m✔\u001b[39m \u001b[34mforcats  \u001b[39m 1.0.0     \u001b[32m✔\u001b[39m \u001b[34mstringr  \u001b[39m 1.5.0\n",
      "\u001b[32m✔\u001b[39m \u001b[34mggplot2  \u001b[39m 3.4.3     \u001b[32m✔\u001b[39m \u001b[34mtibble   \u001b[39m 3.2.1\n",
      "\u001b[32m✔\u001b[39m \u001b[34mlubridate\u001b[39m 1.9.2     \u001b[32m✔\u001b[39m \u001b[34mtidyr    \u001b[39m 1.3.0\n",
      "\u001b[32m✔\u001b[39m \u001b[34mpurrr    \u001b[39m 1.0.2     \n",
      "── \u001b[1mConflicts\u001b[22m ────────────────────────────────────────── tidyverse_conflicts() ──\n",
      "\u001b[31m✖\u001b[39m \u001b[34mdplyr\u001b[39m::\u001b[32mfilter()\u001b[39m masks \u001b[34mstats\u001b[39m::filter()\n",
      "\u001b[31m✖\u001b[39m \u001b[34mdplyr\u001b[39m::\u001b[32mlag()\u001b[39m    masks \u001b[34mstats\u001b[39m::lag()\n",
      "\u001b[36mℹ\u001b[39m Use the conflicted package (\u001b[3m\u001b[34m<http://conflicted.r-lib.org/>\u001b[39m\u001b[23m) to force all conflicts to become errors\n",
      "Warning message:\n",
      "“Expecting numeric in D1077 / R1077C4: got 'NA'”\n",
      "Warning message:\n",
      "“Expecting numeric in D1080 / R1080C4: got 'NA'”\n",
      "Warning message:\n",
      "“Expecting numeric in D1083 / R1083C4: got 'NA'”\n",
      "Warning message:\n",
      "“Expecting numeric in D1091 / R1091C4: got 'NA'”\n",
      "Warning message:\n",
      "“Expecting numeric in D1097 / R1097C4: got 'NA'”\n",
      "Warning message:\n",
      "“Expecting numeric in D1098 / R1098C4: got 'NA'”\n",
      "Warning message:\n",
      "“Expecting numeric in D1114 / R1114C4: got 'NA'”\n",
      "Warning message:\n",
      "“Expecting numeric in D1124 / R1124C4: got 'NA'”\n",
      "Warning message:\n",
      "“Expecting numeric in D1126 / R1126C4: got 'NA'”\n",
      "Warning message:\n",
      "“Expecting numeric in D1128 / R1128C4: got 'NA'”\n",
      "Warning message:\n",
      "“Expecting numeric in D1132 / R1132C4: got 'NA'”\n"
     ]
    }
   ],
   "source": [
    "Output = ('/Users/alexis/Library/CloudStorage/OneDrive-UniversityofNorthCarolinaatChapelHill/CEMALB_DataAnalysisPM/Projects/P1012. Cytokine Scoring/P1012.3. Analyses/P1012.3.1. Allostatic Load Calculation/Output')\n",
    "cur_date = \"051324\"\n",
    "\n",
    "library(readxl)\n",
    "library(openxlsx)\n",
    "library(tidyverse)\n",
    "\n",
    "# reading in file\n",
    "cytokine_df = data.frame(read_excel(\"Input/Allostatic_Mediator_Data_050824.xlsx\", sheet = 2)) \n",
    "bp_df = data.frame(read_excel(\"Input/Allostatic_Mediator_Data_050824.xlsx\", sheet = 4)) \n",
    "subject_info_df = data.frame(read_excel(\"Input/Subject_Info_050824.xlsx\", sheet = 2))"
   ]
  },
  {
   "cell_type": "code",
   "execution_count": 10,
   "id": "d4982004-c8a6-47e3-a936-438603433027",
   "metadata": {},
   "outputs": [
    {
     "name": "stderr",
     "output_type": "stream",
     "text": [
      "\u001b[1m\u001b[22mJoining with `by = join_by(Subject_ID)`\n"
     ]
    },
    {
     "data": {
      "text/html": [
       "<table class=\"dataframe\">\n",
       "<caption>A data.frame: 6 × 11</caption>\n",
       "<thead>\n",
       "\t<tr><th></th><th scope=col>Study</th><th scope=col>Original_Subject_Number</th><th scope=col>Subject_Number</th><th scope=col>Group</th><th scope=col>Subject_ID</th><th scope=col>Sex</th><th scope=col>Age</th><th scope=col>Race</th><th scope=col>Category</th><th scope=col>Variable</th><th scope=col>Value</th></tr>\n",
       "\t<tr><th></th><th scope=col>&lt;chr&gt;</th><th scope=col>&lt;dbl&gt;</th><th scope=col>&lt;dbl&gt;</th><th scope=col>&lt;chr&gt;</th><th scope=col>&lt;chr&gt;</th><th scope=col>&lt;chr&gt;</th><th scope=col>&lt;dbl&gt;</th><th scope=col>&lt;chr&gt;</th><th scope=col>&lt;chr&gt;</th><th scope=col>&lt;chr&gt;</th><th scope=col>&lt;dbl&gt;</th></tr>\n",
       "</thead>\n",
       "<tbody>\n",
       "\t<tr><th scope=row>1</th><td>TCORS LAIV</td><td>39</td><td>5</td><td>CS</td><td>CS_5</td><td>M</td><td>21</td><td>W</td><td>AL Biomarker</td><td>Cortisol     </td><td>    116.602</td></tr>\n",
       "\t<tr><th scope=row>2</th><td>TCORS LAIV</td><td>39</td><td>5</td><td>CS</td><td>CS_5</td><td>M</td><td>21</td><td>W</td><td>AL Biomarker</td><td>Noradrenaline</td><td>   6214.280</td></tr>\n",
       "\t<tr><th scope=row>3</th><td>TCORS LAIV</td><td>39</td><td>5</td><td>CS</td><td>CS_5</td><td>M</td><td>21</td><td>W</td><td>AL Biomarker</td><td>Hba1c        </td><td>   8901.778</td></tr>\n",
       "\t<tr><th scope=row>4</th><td>TCORS LAIV</td><td>39</td><td>5</td><td>CS</td><td>CS_5</td><td>M</td><td>21</td><td>W</td><td>AL Biomarker</td><td>Fibrinogen   </td><td>1106446.956</td></tr>\n",
       "\t<tr><th scope=row>5</th><td>TCORS LAIV</td><td>39</td><td>5</td><td>CS</td><td>CS_5</td><td>M</td><td>21</td><td>W</td><td>AL Biomarker</td><td>CRP          </td><td> 896782.493</td></tr>\n",
       "\t<tr><th scope=row>6</th><td>TCORS LAIV</td><td>39</td><td>5</td><td>CS</td><td>CS_5</td><td>M</td><td>21</td><td>W</td><td>Cytokine    </td><td>IP10         </td><td>    123.031</td></tr>\n",
       "</tbody>\n",
       "</table>\n"
      ],
      "text/latex": [
       "A data.frame: 6 × 11\n",
       "\\begin{tabular}{r|lllllllllll}\n",
       "  & Study & Original\\_Subject\\_Number & Subject\\_Number & Group & Subject\\_ID & Sex & Age & Race & Category & Variable & Value\\\\\n",
       "  & <chr> & <dbl> & <dbl> & <chr> & <chr> & <chr> & <dbl> & <chr> & <chr> & <chr> & <dbl>\\\\\n",
       "\\hline\n",
       "\t1 & TCORS LAIV & 39 & 5 & CS & CS\\_5 & M & 21 & W & AL Biomarker & Cortisol      &     116.602\\\\\n",
       "\t2 & TCORS LAIV & 39 & 5 & CS & CS\\_5 & M & 21 & W & AL Biomarker & Noradrenaline &    6214.280\\\\\n",
       "\t3 & TCORS LAIV & 39 & 5 & CS & CS\\_5 & M & 21 & W & AL Biomarker & Hba1c         &    8901.778\\\\\n",
       "\t4 & TCORS LAIV & 39 & 5 & CS & CS\\_5 & M & 21 & W & AL Biomarker & Fibrinogen    & 1106446.956\\\\\n",
       "\t5 & TCORS LAIV & 39 & 5 & CS & CS\\_5 & M & 21 & W & AL Biomarker & CRP           &  896782.493\\\\\n",
       "\t6 & TCORS LAIV & 39 & 5 & CS & CS\\_5 & M & 21 & W & Cytokine     & IP10          &     123.031\\\\\n",
       "\\end{tabular}\n"
      ],
      "text/markdown": [
       "\n",
       "A data.frame: 6 × 11\n",
       "\n",
       "| <!--/--> | Study &lt;chr&gt; | Original_Subject_Number &lt;dbl&gt; | Subject_Number &lt;dbl&gt; | Group &lt;chr&gt; | Subject_ID &lt;chr&gt; | Sex &lt;chr&gt; | Age &lt;dbl&gt; | Race &lt;chr&gt; | Category &lt;chr&gt; | Variable &lt;chr&gt; | Value &lt;dbl&gt; |\n",
       "|---|---|---|---|---|---|---|---|---|---|---|---|\n",
       "| 1 | TCORS LAIV | 39 | 5 | CS | CS_5 | M | 21 | W | AL Biomarker | Cortisol      |     116.602 |\n",
       "| 2 | TCORS LAIV | 39 | 5 | CS | CS_5 | M | 21 | W | AL Biomarker | Noradrenaline |    6214.280 |\n",
       "| 3 | TCORS LAIV | 39 | 5 | CS | CS_5 | M | 21 | W | AL Biomarker | Hba1c         |    8901.778 |\n",
       "| 4 | TCORS LAIV | 39 | 5 | CS | CS_5 | M | 21 | W | AL Biomarker | Fibrinogen    | 1106446.956 |\n",
       "| 5 | TCORS LAIV | 39 | 5 | CS | CS_5 | M | 21 | W | AL Biomarker | CRP           |  896782.493 |\n",
       "| 6 | TCORS LAIV | 39 | 5 | CS | CS_5 | M | 21 | W | Cytokine     | IP10          |     123.031 |\n",
       "\n"
      ],
      "text/plain": [
       "  Study      Original_Subject_Number Subject_Number Group Subject_ID Sex Age\n",
       "1 TCORS LAIV 39                      5              CS    CS_5       M   21 \n",
       "2 TCORS LAIV 39                      5              CS    CS_5       M   21 \n",
       "3 TCORS LAIV 39                      5              CS    CS_5       M   21 \n",
       "4 TCORS LAIV 39                      5              CS    CS_5       M   21 \n",
       "5 TCORS LAIV 39                      5              CS    CS_5       M   21 \n",
       "6 TCORS LAIV 39                      5              CS    CS_5       M   21 \n",
       "  Race Category     Variable      Value      \n",
       "1 W    AL Biomarker Cortisol          116.602\n",
       "2 W    AL Biomarker Noradrenaline    6214.280\n",
       "3 W    AL Biomarker Hba1c            8901.778\n",
       "4 W    AL Biomarker Fibrinogen    1106446.956\n",
       "5 W    AL Biomarker CRP            896782.493\n",
       "6 W    Cytokine     IP10              123.031"
      ]
     },
     "metadata": {},
     "output_type": "display_data"
    }
   ],
   "source": [
    "# creating 1 df\n",
    "full_df = inner_join(subject_info_df, cytokine_df) %>%\n",
    "    # filtering for subjects who have blood pressure measurements\n",
    "    filter(Subject_ID %in% unique(bp_df$Subject_ID))\n",
    "head(full_df)"
   ]
  },
  {
   "cell_type": "markdown",
   "id": "5b3ff21b-6837-40db-a37d-7e7c4f62c715",
   "metadata": {},
   "source": [
    "Goal is to generate allostatic loading scores which is an index of atherosclerotic risk protection from these allostatic load biomarkers and to compare based on tobacco smoke exposure and race as potential covariates."
   ]
  },
  {
   "cell_type": "code",
   "execution_count": 11,
   "id": "49b0e5de-22ab-4e87-8f2d-cf34056d3a31",
   "metadata": {},
   "outputs": [
    {
     "data": {
      "text/html": [
       "<table class=\"dataframe\">\n",
       "<caption>A tibble: 6 × 11</caption>\n",
       "<thead>\n",
       "\t<tr><th scope=col>Study</th><th scope=col>Original_Subject_Number</th><th scope=col>Subject_Number</th><th scope=col>Group</th><th scope=col>Subject_ID</th><th scope=col>Sex</th><th scope=col>Age</th><th scope=col>Race</th><th scope=col>Category</th><th scope=col>Variable</th><th scope=col>Value</th></tr>\n",
       "\t<tr><th scope=col>&lt;chr&gt;</th><th scope=col>&lt;dbl&gt;</th><th scope=col>&lt;dbl&gt;</th><th scope=col>&lt;chr&gt;</th><th scope=col>&lt;chr&gt;</th><th scope=col>&lt;chr&gt;</th><th scope=col>&lt;dbl&gt;</th><th scope=col>&lt;chr&gt;</th><th scope=col>&lt;chr&gt;</th><th scope=col>&lt;chr&gt;</th><th scope=col>&lt;dbl&gt;</th></tr>\n",
       "</thead>\n",
       "<tbody>\n",
       "\t<tr><td>Woodsie</td><td>1</td><td>37</td><td>NS</td><td>NS_37</td><td>F</td><td>21</td><td>B</td><td>AL Biomarker</td><td>Cortisol     </td><td>    106.118</td></tr>\n",
       "\t<tr><td>Woodsie</td><td>1</td><td>37</td><td>NS</td><td>NS_37</td><td>F</td><td>21</td><td>B</td><td>AL Biomarker</td><td>Noradrenaline</td><td>   3939.929</td></tr>\n",
       "\t<tr><td>Woodsie</td><td>1</td><td>37</td><td>NS</td><td>NS_37</td><td>F</td><td>21</td><td>B</td><td>AL Biomarker</td><td>Hba1c        </td><td>  13432.363</td></tr>\n",
       "\t<tr><td>Woodsie</td><td>1</td><td>37</td><td>NS</td><td>NS_37</td><td>F</td><td>21</td><td>B</td><td>AL Biomarker</td><td>Fibrinogen   </td><td>1885217.243</td></tr>\n",
       "\t<tr><td>Woodsie</td><td>1</td><td>37</td><td>NS</td><td>NS_37</td><td>F</td><td>21</td><td>B</td><td>AL Biomarker</td><td>CRP          </td><td>1003162.185</td></tr>\n",
       "\t<tr><td>Woodsie</td><td>1</td><td>37</td><td>NS</td><td>NS_37</td><td>F</td><td>21</td><td>B</td><td>Cytokine    </td><td>IP10         </td><td>     90.615</td></tr>\n",
       "</tbody>\n",
       "</table>\n"
      ],
      "text/latex": [
       "A tibble: 6 × 11\n",
       "\\begin{tabular}{lllllllllll}\n",
       " Study & Original\\_Subject\\_Number & Subject\\_Number & Group & Subject\\_ID & Sex & Age & Race & Category & Variable & Value\\\\\n",
       " <chr> & <dbl> & <dbl> & <chr> & <chr> & <chr> & <dbl> & <chr> & <chr> & <chr> & <dbl>\\\\\n",
       "\\hline\n",
       "\t Woodsie & 1 & 37 & NS & NS\\_37 & F & 21 & B & AL Biomarker & Cortisol      &     106.118\\\\\n",
       "\t Woodsie & 1 & 37 & NS & NS\\_37 & F & 21 & B & AL Biomarker & Noradrenaline &    3939.929\\\\\n",
       "\t Woodsie & 1 & 37 & NS & NS\\_37 & F & 21 & B & AL Biomarker & Hba1c         &   13432.363\\\\\n",
       "\t Woodsie & 1 & 37 & NS & NS\\_37 & F & 21 & B & AL Biomarker & Fibrinogen    & 1885217.243\\\\\n",
       "\t Woodsie & 1 & 37 & NS & NS\\_37 & F & 21 & B & AL Biomarker & CRP           & 1003162.185\\\\\n",
       "\t Woodsie & 1 & 37 & NS & NS\\_37 & F & 21 & B & Cytokine     & IP10          &      90.615\\\\\n",
       "\\end{tabular}\n"
      ],
      "text/markdown": [
       "\n",
       "A tibble: 6 × 11\n",
       "\n",
       "| Study &lt;chr&gt; | Original_Subject_Number &lt;dbl&gt; | Subject_Number &lt;dbl&gt; | Group &lt;chr&gt; | Subject_ID &lt;chr&gt; | Sex &lt;chr&gt; | Age &lt;dbl&gt; | Race &lt;chr&gt; | Category &lt;chr&gt; | Variable &lt;chr&gt; | Value &lt;dbl&gt; |\n",
       "|---|---|---|---|---|---|---|---|---|---|---|\n",
       "| Woodsie | 1 | 37 | NS | NS_37 | F | 21 | B | AL Biomarker | Cortisol      |     106.118 |\n",
       "| Woodsie | 1 | 37 | NS | NS_37 | F | 21 | B | AL Biomarker | Noradrenaline |    3939.929 |\n",
       "| Woodsie | 1 | 37 | NS | NS_37 | F | 21 | B | AL Biomarker | Hba1c         |   13432.363 |\n",
       "| Woodsie | 1 | 37 | NS | NS_37 | F | 21 | B | AL Biomarker | Fibrinogen    | 1885217.243 |\n",
       "| Woodsie | 1 | 37 | NS | NS_37 | F | 21 | B | AL Biomarker | CRP           | 1003162.185 |\n",
       "| Woodsie | 1 | 37 | NS | NS_37 | F | 21 | B | Cytokine     | IP10          |      90.615 |\n",
       "\n"
      ],
      "text/plain": [
       "  Study   Original_Subject_Number Subject_Number Group Subject_ID Sex Age Race\n",
       "1 Woodsie 1                       37             NS    NS_37      F   21  B   \n",
       "2 Woodsie 1                       37             NS    NS_37      F   21  B   \n",
       "3 Woodsie 1                       37             NS    NS_37      F   21  B   \n",
       "4 Woodsie 1                       37             NS    NS_37      F   21  B   \n",
       "5 Woodsie 1                       37             NS    NS_37      F   21  B   \n",
       "6 Woodsie 1                       37             NS    NS_37      F   21  B   \n",
       "  Category     Variable      Value      \n",
       "1 AL Biomarker Cortisol          106.118\n",
       "2 AL Biomarker Noradrenaline    3939.929\n",
       "3 AL Biomarker Hba1c           13432.363\n",
       "4 AL Biomarker Fibrinogen    1885217.243\n",
       "5 AL Biomarker CRP           1003162.185\n",
       "6 Cytokine     IP10               90.615"
      ]
     },
     "metadata": {},
     "output_type": "display_data"
    }
   ],
   "source": [
    "# creating all dfs to be analyzed\n",
    "nonsmoker_df = full_df %>%\n",
    "    filter(Group == \"NS\")\n",
    "smoker_df = full_df %>%\n",
    "    filter(Group == \"CS\")\n",
    "\n",
    "# splitting the df based on group and race, so to make the code more efficient\n",
    "split_allostatic_df = full_df %>%\n",
    "    group_by(Group, Race) %>%\n",
    "    # splitting the df based on those variables\n",
    "    group_split()\n",
    "\n",
    "black_nonsmoker_df = split_allostatic_df[[3]]\n",
    "black_smoker_df = split_allostatic_df[[1]]\n",
    "white_nonsmoker_df = split_allostatic_df[[4]]\n",
    "white_smoker_df = split_allostatic_df[[2]]\n",
    "\n",
    "# viewing one of the dataframes \n",
    "head(black_nonsmoker_df)"
   ]
  },
  {
   "cell_type": "code",
   "execution_count": 12,
   "id": "cea5342a-1d31-42b7-bd5f-b64a04f85eda",
   "metadata": {},
   "outputs": [],
   "source": [
    "mediator_score = function(df){\n",
    "    # \"\"\"\n",
    "    # Creating a scoring function for each mediator.\n",
    "    # :param (input): initial df (df)\n",
    "    # :output: df containing the variable (biomarker) name, subject ID, and score\n",
    "    # \"\"\"\n",
    "    \n",
    "    # creating an empty df to store values\n",
    "    score_df = data.frame()\n",
    "    \n",
    "    # getting all variable names for loop to iterate through\n",
    "    mediators = unique(df$Variable)\n",
    "    \n",
    "    for (i in 1:length(mediators)){\n",
    "\n",
    "        # filtering df for each mediator\n",
    "        filtered_df = df %>%\n",
    "            filter(Variable == mediators[i])\n",
    "        \n",
    "        # now iterating through each value of the filtered_df\n",
    "        for (j in 1:length(filtered_df$Value)){\n",
    "\n",
    "            # score = (mediator value - mediator min)/ (mediator max - mediator min)\n",
    "            mediator_score_formula = (filtered_df$Value[j] - min(filtered_df$Value))/(max(filtered_df$Value) - min(filtered_df$Value))\n",
    "\n",
    "            # storing mediator, subject id, and score\n",
    "            values_vector = cbind(mediators[i], filtered_df$Subject_ID[j], mediator_score_formula)\n",
    "            score_df = rbind(score_df, values_vector)\n",
    "        }\n",
    "    }\n",
    "    \n",
    "    # renaming columns\n",
    "    colnames(score_df) = c(\"Variable\", \"Subject_ID\", \"Mediator_Score\")\n",
    "    \n",
    "    # for some reason the Mediator_Score is a character type, so changing to a numeric\n",
    "    score_df$Mediator_Score = as.numeric(score_df$Mediator_Score)\n",
    "    \n",
    "    return(score_df)\n",
    "}"
   ]
  },
  {
   "cell_type": "code",
   "execution_count": 13,
   "id": "d875b96d-1c38-4115-8487-ef6f97fbe61e",
   "metadata": {},
   "outputs": [
    {
     "data": {
      "text/html": [
       "<table class=\"dataframe\">\n",
       "<caption>A data.frame: 6 × 3</caption>\n",
       "<thead>\n",
       "\t<tr><th></th><th scope=col>Variable</th><th scope=col>Subject_ID</th><th scope=col>Mediator_Score</th></tr>\n",
       "\t<tr><th></th><th scope=col>&lt;chr&gt;</th><th scope=col>&lt;chr&gt;</th><th scope=col>&lt;dbl&gt;</th></tr>\n",
       "</thead>\n",
       "<tbody>\n",
       "\t<tr><th scope=row>1</th><td>Cortisol</td><td>NS_37</td><td>0.19949402</td></tr>\n",
       "\t<tr><th scope=row>2</th><td>Cortisol</td><td>NS_38</td><td>1.00000000</td></tr>\n",
       "\t<tr><th scope=row>3</th><td>Cortisol</td><td>NS_39</td><td>0.09488444</td></tr>\n",
       "\t<tr><th scope=row>4</th><td>Cortisol</td><td>NS_40</td><td>0.00000000</td></tr>\n",
       "\t<tr><th scope=row>5</th><td>Cortisol</td><td>NS_41</td><td>0.80006861</td></tr>\n",
       "\t<tr><th scope=row>6</th><td>Cortisol</td><td>NS_49</td><td>0.22797050</td></tr>\n",
       "</tbody>\n",
       "</table>\n"
      ],
      "text/latex": [
       "A data.frame: 6 × 3\n",
       "\\begin{tabular}{r|lll}\n",
       "  & Variable & Subject\\_ID & Mediator\\_Score\\\\\n",
       "  & <chr> & <chr> & <dbl>\\\\\n",
       "\\hline\n",
       "\t1 & Cortisol & NS\\_37 & 0.19949402\\\\\n",
       "\t2 & Cortisol & NS\\_38 & 1.00000000\\\\\n",
       "\t3 & Cortisol & NS\\_39 & 0.09488444\\\\\n",
       "\t4 & Cortisol & NS\\_40 & 0.00000000\\\\\n",
       "\t5 & Cortisol & NS\\_41 & 0.80006861\\\\\n",
       "\t6 & Cortisol & NS\\_49 & 0.22797050\\\\\n",
       "\\end{tabular}\n"
      ],
      "text/markdown": [
       "\n",
       "A data.frame: 6 × 3\n",
       "\n",
       "| <!--/--> | Variable &lt;chr&gt; | Subject_ID &lt;chr&gt; | Mediator_Score &lt;dbl&gt; |\n",
       "|---|---|---|---|\n",
       "| 1 | Cortisol | NS_37 | 0.19949402 |\n",
       "| 2 | Cortisol | NS_38 | 1.00000000 |\n",
       "| 3 | Cortisol | NS_39 | 0.09488444 |\n",
       "| 4 | Cortisol | NS_40 | 0.00000000 |\n",
       "| 5 | Cortisol | NS_41 | 0.80006861 |\n",
       "| 6 | Cortisol | NS_49 | 0.22797050 |\n",
       "\n"
      ],
      "text/plain": [
       "  Variable Subject_ID Mediator_Score\n",
       "1 Cortisol NS_37      0.19949402    \n",
       "2 Cortisol NS_38      1.00000000    \n",
       "3 Cortisol NS_39      0.09488444    \n",
       "4 Cortisol NS_40      0.00000000    \n",
       "5 Cortisol NS_41      0.80006861    \n",
       "6 Cortisol NS_49      0.22797050    "
      ]
     },
     "metadata": {},
     "output_type": "display_data"
    }
   ],
   "source": [
    "# calling function\n",
    "NS_mediator_score_df = mediator_score(nonsmoker_df)\n",
    "CS_mediator_score_df = mediator_score(smoker_df)\n",
    "black_NS_mediator_score_df = mediator_score(black_nonsmoker_df)\n",
    "black_CS_mediator_score_df = mediator_score(black_smoker_df)\n",
    "white_NS_mediator_score_df = mediator_score(white_nonsmoker_df)\n",
    "white_CS_mediator_score_df = mediator_score(white_smoker_df)\n",
    "\n",
    "head(NS_mediator_score_df)"
   ]
  },
  {
   "cell_type": "code",
   "execution_count": 14,
   "id": "157be5c7-dca6-4a5d-b925-9ef3750b03b7",
   "metadata": {},
   "outputs": [],
   "source": [
    "allostatic_score = function(mediator_score_df, Group, Covariate){\n",
    "    # \"\"\"\n",
    "    # Creating a scoring function for allostatic load.\n",
    "    # :param (input): mediator score df (mediator_score_df), smoking group of subjects, race of subjects\n",
    "    # :output: df containing the group, covariate (race) either black or white, and allostatic score\n",
    "    # \"\"\"\n",
    "    \n",
    "    # creating a vector for variables that increase atherosclerotic risk\n",
    "    allostatic_load_biomarkers = c('Cortisol','Noradrenaline','Hba1c','Fibrinogen','CRP')\n",
    "    \n",
    "    # filtering df for these allostatic load biomarkers\n",
    "    load_df = mediator_score_df %>%\n",
    "        filter(Variable %in% allostatic_load_biomarkers) \n",
    "    \n",
    "    # filtering for HDL\n",
    "    HDL_df = mediator_score_df %>%\n",
    "        filter(Variable == \"HDL\") %>%\n",
    "        select(-Variable)\n",
    "    \n",
    "    # summing the mediator scores for biomarkers that increase atherosclerotic risk\n",
    "    biomarker_load_df = load_df %>%\n",
    "        group_by(Subject_ID) %>%\n",
    "        summarize(Mediator_Score_Sum = sum(Mediator_Score))\n",
    "    \n",
    "    # allostatic score = sum of scores of all load biomarkers for a subject - individual subject HDL score\n",
    "    # storing this value in the df as another col\n",
    "    allostatic_load_df = data.frame(Subject_ID = biomarker_load_df$Subject_ID, \n",
    "                                    Allostatic_Load = biomarker_load_df$Mediator_Score_Sum - HDL_df$Mediator_Score)\n",
    "    \n",
    "    # putting these values into a vector and adding to the df\n",
    "    score_df = cbind(Group, Covariate, allostatic_load_df)\n",
    "    \n",
    "    return(score_df)\n",
    "}"
   ]
  },
  {
   "cell_type": "code",
   "execution_count": 15,
   "id": "3c5937a8-f0b8-499c-bd89-717424cb8577",
   "metadata": {},
   "outputs": [
    {
     "data": {
      "text/html": [
       "<table class=\"dataframe\">\n",
       "<caption>A data.frame: 6 × 4</caption>\n",
       "<thead>\n",
       "\t<tr><th></th><th scope=col>Group</th><th scope=col>Covariate</th><th scope=col>Subject_ID</th><th scope=col>Allostatic_Load</th></tr>\n",
       "\t<tr><th></th><th scope=col>&lt;chr&gt;</th><th scope=col>&lt;lgl&gt;</th><th scope=col>&lt;chr&gt;</th><th scope=col>&lt;dbl&gt;</th></tr>\n",
       "</thead>\n",
       "<tbody>\n",
       "\t<tr><th scope=row>1</th><td>NS</td><td>NA</td><td>NS_37</td><td>1.127845</td></tr>\n",
       "\t<tr><th scope=row>2</th><td>NS</td><td>NA</td><td>NS_38</td><td>2.320600</td></tr>\n",
       "\t<tr><th scope=row>3</th><td>NS</td><td>NA</td><td>NS_39</td><td>1.282577</td></tr>\n",
       "\t<tr><th scope=row>4</th><td>NS</td><td>NA</td><td>NS_40</td><td>1.012015</td></tr>\n",
       "\t<tr><th scope=row>5</th><td>NS</td><td>NA</td><td>NS_41</td><td>2.045814</td></tr>\n",
       "\t<tr><th scope=row>6</th><td>NS</td><td>NA</td><td>NS_49</td><td>1.953981</td></tr>\n",
       "</tbody>\n",
       "</table>\n"
      ],
      "text/latex": [
       "A data.frame: 6 × 4\n",
       "\\begin{tabular}{r|llll}\n",
       "  & Group & Covariate & Subject\\_ID & Allostatic\\_Load\\\\\n",
       "  & <chr> & <lgl> & <chr> & <dbl>\\\\\n",
       "\\hline\n",
       "\t1 & NS & NA & NS\\_37 & 1.127845\\\\\n",
       "\t2 & NS & NA & NS\\_38 & 2.320600\\\\\n",
       "\t3 & NS & NA & NS\\_39 & 1.282577\\\\\n",
       "\t4 & NS & NA & NS\\_40 & 1.012015\\\\\n",
       "\t5 & NS & NA & NS\\_41 & 2.045814\\\\\n",
       "\t6 & NS & NA & NS\\_49 & 1.953981\\\\\n",
       "\\end{tabular}\n"
      ],
      "text/markdown": [
       "\n",
       "A data.frame: 6 × 4\n",
       "\n",
       "| <!--/--> | Group &lt;chr&gt; | Covariate &lt;lgl&gt; | Subject_ID &lt;chr&gt; | Allostatic_Load &lt;dbl&gt; |\n",
       "|---|---|---|---|---|\n",
       "| 1 | NS | NA | NS_37 | 1.127845 |\n",
       "| 2 | NS | NA | NS_38 | 2.320600 |\n",
       "| 3 | NS | NA | NS_39 | 1.282577 |\n",
       "| 4 | NS | NA | NS_40 | 1.012015 |\n",
       "| 5 | NS | NA | NS_41 | 2.045814 |\n",
       "| 6 | NS | NA | NS_49 | 1.953981 |\n",
       "\n"
      ],
      "text/plain": [
       "  Group Covariate Subject_ID Allostatic_Load\n",
       "1 NS    NA        NS_37      1.127845       \n",
       "2 NS    NA        NS_38      2.320600       \n",
       "3 NS    NA        NS_39      1.282577       \n",
       "4 NS    NA        NS_40      1.012015       \n",
       "5 NS    NA        NS_41      2.045814       \n",
       "6 NS    NA        NS_49      1.953981       "
      ]
     },
     "metadata": {},
     "output_type": "display_data"
    }
   ],
   "source": [
    "# calling function\n",
    "# these first two lines of code have \"NA\" values for race, since we weren't looking at race as a covariate until \n",
    "# the dfs were stratified later by race\n",
    "NS_allostatic_score_df = allostatic_score(NS_mediator_score_df, \"NS\", NA)\n",
    "CS_allostatic_score_df = allostatic_score(CS_mediator_score_df, \"CS\", NA)\n",
    "black_NS_allostatic_score_df = allostatic_score(black_NS_mediator_score_df, \"NS\", \"B\")\n",
    "black_CS_allostatic_score_df = allostatic_score(black_CS_mediator_score_df, \"CS\", \"B\")\n",
    "white_NS_allostatic_score_df = allostatic_score(white_NS_mediator_score_df, \"NS\", \"W\")\n",
    "white_CS_allostatic_score_df = allostatic_score(white_CS_mediator_score_df, \"CS\", \"W\")\n",
    "\n",
    "# viewing one of the outputs\n",
    "head(NS_allostatic_score_df)"
   ]
  },
  {
   "cell_type": "code",
   "execution_count": 16,
   "id": "cc2f6191-970e-4a20-ad24-a12da6a89db2",
   "metadata": {},
   "outputs": [
    {
     "data": {
      "text/html": [
       "<table class=\"dataframe\">\n",
       "<caption>A data.frame: 6 × 4</caption>\n",
       "<thead>\n",
       "\t<tr><th></th><th scope=col>Group</th><th scope=col>Covariate</th><th scope=col>Subject_ID</th><th scope=col>Allostatic_Load</th></tr>\n",
       "\t<tr><th></th><th scope=col>&lt;chr&gt;</th><th scope=col>&lt;chr&gt;</th><th scope=col>&lt;chr&gt;</th><th scope=col>&lt;dbl&gt;</th></tr>\n",
       "</thead>\n",
       "<tbody>\n",
       "\t<tr><th scope=row>1</th><td>NS</td><td>B </td><td>NS_50</td><td>3.075079</td></tr>\n",
       "\t<tr><th scope=row>2</th><td>CS</td><td>B </td><td>CS_24</td><td>2.982104</td></tr>\n",
       "\t<tr><th scope=row>3</th><td>CS</td><td>NA</td><td>CS_32</td><td>2.902104</td></tr>\n",
       "\t<tr><th scope=row>4</th><td>NS</td><td>W </td><td>NS_49</td><td>2.873066</td></tr>\n",
       "\t<tr><th scope=row>5</th><td>CS</td><td>W </td><td>CS_31</td><td>2.832494</td></tr>\n",
       "\t<tr><th scope=row>6</th><td>NS</td><td>W </td><td>NS_38</td><td>2.815190</td></tr>\n",
       "</tbody>\n",
       "</table>\n"
      ],
      "text/latex": [
       "A data.frame: 6 × 4\n",
       "\\begin{tabular}{r|llll}\n",
       "  & Group & Covariate & Subject\\_ID & Allostatic\\_Load\\\\\n",
       "  & <chr> & <chr> & <chr> & <dbl>\\\\\n",
       "\\hline\n",
       "\t1 & NS & B  & NS\\_50 & 3.075079\\\\\n",
       "\t2 & CS & B  & CS\\_24 & 2.982104\\\\\n",
       "\t3 & CS & NA & CS\\_32 & 2.902104\\\\\n",
       "\t4 & NS & W  & NS\\_49 & 2.873066\\\\\n",
       "\t5 & CS & W  & CS\\_31 & 2.832494\\\\\n",
       "\t6 & NS & W  & NS\\_38 & 2.815190\\\\\n",
       "\\end{tabular}\n"
      ],
      "text/markdown": [
       "\n",
       "A data.frame: 6 × 4\n",
       "\n",
       "| <!--/--> | Group &lt;chr&gt; | Covariate &lt;chr&gt; | Subject_ID &lt;chr&gt; | Allostatic_Load &lt;dbl&gt; |\n",
       "|---|---|---|---|---|\n",
       "| 1 | NS | B  | NS_50 | 3.075079 |\n",
       "| 2 | CS | B  | CS_24 | 2.982104 |\n",
       "| 3 | CS | NA | CS_32 | 2.902104 |\n",
       "| 4 | NS | W  | NS_49 | 2.873066 |\n",
       "| 5 | CS | W  | CS_31 | 2.832494 |\n",
       "| 6 | NS | W  | NS_38 | 2.815190 |\n",
       "\n"
      ],
      "text/plain": [
       "  Group Covariate Subject_ID Allostatic_Load\n",
       "1 NS    B         NS_50      3.075079       \n",
       "2 CS    B         CS_24      2.982104       \n",
       "3 CS    NA        CS_32      2.902104       \n",
       "4 NS    W         NS_49      2.873066       \n",
       "5 CS    W         CS_31      2.832494       \n",
       "6 NS    W         NS_38      2.815190       "
      ]
     },
     "metadata": {},
     "output_type": "display_data"
    }
   ],
   "source": [
    "# creating 1 df for the allostatic scores\n",
    "# using the rbind function to combine by rows\n",
    "allostatic_score_df = rbind(NS_allostatic_score_df, CS_allostatic_score_df, black_NS_allostatic_score_df, \n",
    "                            black_CS_allostatic_score_df, white_NS_allostatic_score_df, \n",
    "                            white_CS_allostatic_score_df) %>%\n",
    "    # sorting the df from highest to lowest for easier viewing\n",
    "    arrange(-Allostatic_Load)\n",
    "\n",
    "head(allostatic_score_df)"
   ]
  },
  {
   "cell_type": "code",
   "execution_count": 17,
   "id": "4756203b-007f-444f-a4cc-b8bb53ed956c",
   "metadata": {},
   "outputs": [],
   "source": [
    "# exporting results\n",
    "write.xlsx(allostatic_score_df, paste0(Output,\"/\", \"Allostatic_Load_BP_Subjects_\", cur_date, \".xlsx\"), rowNames = FALSE)"
   ]
  },
  {
   "cell_type": "markdown",
   "id": "9650fe30-812a-46c2-958a-0a8d0a6aba9a",
   "metadata": {},
   "source": [
    "ADD WORDS ABOUT THREE DIFFERENT METHODS\n",
    "\n",
    "# Expression Change Summation (ECS)\n",
    "\n",
    "sum of absolute FC, but what am I taking the fC between?\n",
    "\n",
    "https://github.com/UNC-CEMALB/P1005_Miscellaneous-Analyses/blob/main/P1005.2.%20Allostatic%20Load/P1005.2.3.1.%20Allostatic%20Load%20Calculation/Allostatic%20Load%20Calculation.ipynb"
   ]
  },
  {
   "cell_type": "code",
   "execution_count": null,
   "id": "68a0fe03-11fa-4a1d-8f4a-372b982c51c0",
   "metadata": {},
   "outputs": [],
   "source": []
  }
 ],
 "metadata": {
  "kernelspec": {
   "display_name": "R",
   "language": "R",
   "name": "ir"
  },
  "language_info": {
   "codemirror_mode": "r",
   "file_extension": ".r",
   "mimetype": "text/x-r-source",
   "name": "R",
   "pygments_lexer": "r",
   "version": "4.3.1"
  }
 },
 "nbformat": 4,
 "nbformat_minor": 5
}
