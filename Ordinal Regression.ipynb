{
 "cells": [
  {
   "cell_type": "code",
   "execution_count": 2,
   "id": "9863b40f-c1d0-4b36-83a8-07055c92fe8f",
   "metadata": {},
   "outputs": [
    {
     "name": "stderr",
     "output_type": "stream",
     "text": [
      "── \u001b[1mAttaching core tidyverse packages\u001b[22m ──────────────────────── tidyverse 2.0.0 ──\n",
      "\u001b[32m✔\u001b[39m \u001b[34mdplyr    \u001b[39m 1.1.3     \u001b[32m✔\u001b[39m \u001b[34mreadr    \u001b[39m 2.1.4\n",
      "\u001b[32m✔\u001b[39m \u001b[34mforcats  \u001b[39m 1.0.0     \u001b[32m✔\u001b[39m \u001b[34mstringr  \u001b[39m 1.5.0\n",
      "\u001b[32m✔\u001b[39m \u001b[34mggplot2  \u001b[39m 3.4.3     \u001b[32m✔\u001b[39m \u001b[34mtibble   \u001b[39m 3.2.1\n",
      "\u001b[32m✔\u001b[39m \u001b[34mlubridate\u001b[39m 1.9.2     \u001b[32m✔\u001b[39m \u001b[34mtidyr    \u001b[39m 1.3.0\n",
      "\u001b[32m✔\u001b[39m \u001b[34mpurrr    \u001b[39m 1.0.2     \n",
      "── \u001b[1mConflicts\u001b[22m ────────────────────────────────────────── tidyverse_conflicts() ──\n",
      "\u001b[31m✖\u001b[39m \u001b[34mdplyr\u001b[39m::\u001b[32mfilter()\u001b[39m masks \u001b[34mstats\u001b[39m::filter()\n",
      "\u001b[31m✖\u001b[39m \u001b[34mdplyr\u001b[39m::\u001b[32mlag()\u001b[39m    masks \u001b[34mstats\u001b[39m::lag()\n",
      "\u001b[36mℹ\u001b[39m Use the conflicted package (\u001b[3m\u001b[34m<http://conflicted.r-lib.org/>\u001b[39m\u001b[23m) to force all conflicts to become errors\n",
      "Warning message:\n",
      "“Expecting numeric in D1077 / R1077C4: got 'NA'”\n",
      "Warning message:\n",
      "“Expecting numeric in D1080 / R1080C4: got 'NA'”\n",
      "Warning message:\n",
      "“Expecting numeric in D1083 / R1083C4: got 'NA'”\n",
      "Warning message:\n",
      "“Expecting numeric in D1091 / R1091C4: got 'NA'”\n",
      "Warning message:\n",
      "“Expecting numeric in D1097 / R1097C4: got 'NA'”\n",
      "Warning message:\n",
      "“Expecting numeric in D1098 / R1098C4: got 'NA'”\n",
      "Warning message:\n",
      "“Expecting numeric in D1114 / R1114C4: got 'NA'”\n",
      "Warning message:\n",
      "“Expecting numeric in D1124 / R1124C4: got 'NA'”\n",
      "Warning message:\n",
      "“Expecting numeric in D1126 / R1126C4: got 'NA'”\n",
      "Warning message:\n",
      "“Expecting numeric in D1128 / R1128C4: got 'NA'”\n",
      "Warning message:\n",
      "“Expecting numeric in D1132 / R1132C4: got 'NA'”\n"
     ]
    }
   ],
   "source": [
    "Output = ('/Users/alexis/Library/CloudStorage/OneDrive-UniversityofNorthCarolinaatChapelHill/CEMALB_DataAnalysisPM/Projects/P1012. Allostatic Load/P1012.3. Analyses/P1012.3.2. Ordinal Regression/Output')\n",
    "cur_date = \"052124\"\n",
    "\n",
    "library(readxl)\n",
    "library(openxlsx)\n",
    "library(tidyverse)\n",
    "\n",
    "# reading in file\n",
    "cytokine_df = data.frame(read_excel(\"Input/Allostatic_Mediator_Data_050824.xlsx\", sheet = 2)) \n",
    "bp_df = data.frame(read_excel(\"Input/Allostatic_Mediator_Data_050824.xlsx\", sheet = 4)) \n",
    "subject_info_df = data.frame(read_excel(\"Input/Subject_Info_050824.xlsx\", sheet = 2))\n",
    "subject_info_df = data.frame(read_excel(\"Input/Subject_Info_050824.xlsx\", sheet = 2))\n",
    "allostatic_load_df = data.frame(read_excel(\"Input/Allostatic_Load_BP_Subjects_051324.xlsx\"))"
   ]
  },
  {
   "cell_type": "code",
   "execution_count": 19,
   "id": "c921b84d-4579-4f4f-b1d5-7705201c472d",
   "metadata": {},
   "outputs": [
    {
     "name": "stderr",
     "output_type": "stream",
     "text": [
      "\u001b[1m\u001b[22mJoining with `by = join_by(Subject_ID)`\n",
      "\u001b[1m\u001b[22mJoining with `by = join_by(Group, Subject_ID)`\n"
     ]
    },
    {
     "data": {
      "text/html": [
       "<table class=\"dataframe\">\n",
       "<caption>A data.frame: 6 × 12</caption>\n",
       "<thead>\n",
       "\t<tr><th></th><th scope=col>Study</th><th scope=col>Original_Subject_Number</th><th scope=col>Subject_Number</th><th scope=col>Group</th><th scope=col>Subject_ID</th><th scope=col>Sex</th><th scope=col>Age</th><th scope=col>Race</th><th scope=col>Category</th><th scope=col>Variable</th><th scope=col>Value</th><th scope=col>Allostatic_Load</th></tr>\n",
       "\t<tr><th></th><th scope=col>&lt;chr&gt;</th><th scope=col>&lt;dbl&gt;</th><th scope=col>&lt;dbl&gt;</th><th scope=col>&lt;chr&gt;</th><th scope=col>&lt;chr&gt;</th><th scope=col>&lt;chr&gt;</th><th scope=col>&lt;dbl&gt;</th><th scope=col>&lt;chr&gt;</th><th scope=col>&lt;chr&gt;</th><th scope=col>&lt;chr&gt;</th><th scope=col>&lt;dbl&gt;</th><th scope=col>&lt;dbl&gt;</th></tr>\n",
       "</thead>\n",
       "<tbody>\n",
       "\t<tr><th scope=row>1</th><td>TCORS LAIV</td><td>39</td><td>5</td><td>CS</td><td>CS_5</td><td>M</td><td>21</td><td>W</td><td>AL Biomarker</td><td>Cortisol     </td><td>    116.602</td><td>1.492657</td></tr>\n",
       "\t<tr><th scope=row>2</th><td>TCORS LAIV</td><td>39</td><td>5</td><td>CS</td><td>CS_5</td><td>M</td><td>21</td><td>W</td><td>AL Biomarker</td><td>Noradrenaline</td><td>   6214.280</td><td>1.492657</td></tr>\n",
       "\t<tr><th scope=row>3</th><td>TCORS LAIV</td><td>39</td><td>5</td><td>CS</td><td>CS_5</td><td>M</td><td>21</td><td>W</td><td>AL Biomarker</td><td>Hba1c        </td><td>   8901.778</td><td>1.492657</td></tr>\n",
       "\t<tr><th scope=row>4</th><td>TCORS LAIV</td><td>39</td><td>5</td><td>CS</td><td>CS_5</td><td>M</td><td>21</td><td>W</td><td>AL Biomarker</td><td>Fibrinogen   </td><td>1106446.956</td><td>1.492657</td></tr>\n",
       "\t<tr><th scope=row>5</th><td>TCORS LAIV</td><td>39</td><td>5</td><td>CS</td><td>CS_5</td><td>M</td><td>21</td><td>W</td><td>AL Biomarker</td><td>CRP          </td><td> 896782.493</td><td>1.492657</td></tr>\n",
       "\t<tr><th scope=row>6</th><td>TCORS LAIV</td><td>39</td><td>5</td><td>CS</td><td>CS_5</td><td>M</td><td>21</td><td>W</td><td>Cytokine    </td><td>IP10         </td><td>    123.031</td><td>1.492657</td></tr>\n",
       "</tbody>\n",
       "</table>\n"
      ],
      "text/latex": [
       "A data.frame: 6 × 12\n",
       "\\begin{tabular}{r|llllllllllll}\n",
       "  & Study & Original\\_Subject\\_Number & Subject\\_Number & Group & Subject\\_ID & Sex & Age & Race & Category & Variable & Value & Allostatic\\_Load\\\\\n",
       "  & <chr> & <dbl> & <dbl> & <chr> & <chr> & <chr> & <dbl> & <chr> & <chr> & <chr> & <dbl> & <dbl>\\\\\n",
       "\\hline\n",
       "\t1 & TCORS LAIV & 39 & 5 & CS & CS\\_5 & M & 21 & W & AL Biomarker & Cortisol      &     116.602 & 1.492657\\\\\n",
       "\t2 & TCORS LAIV & 39 & 5 & CS & CS\\_5 & M & 21 & W & AL Biomarker & Noradrenaline &    6214.280 & 1.492657\\\\\n",
       "\t3 & TCORS LAIV & 39 & 5 & CS & CS\\_5 & M & 21 & W & AL Biomarker & Hba1c         &    8901.778 & 1.492657\\\\\n",
       "\t4 & TCORS LAIV & 39 & 5 & CS & CS\\_5 & M & 21 & W & AL Biomarker & Fibrinogen    & 1106446.956 & 1.492657\\\\\n",
       "\t5 & TCORS LAIV & 39 & 5 & CS & CS\\_5 & M & 21 & W & AL Biomarker & CRP           &  896782.493 & 1.492657\\\\\n",
       "\t6 & TCORS LAIV & 39 & 5 & CS & CS\\_5 & M & 21 & W & Cytokine     & IP10          &     123.031 & 1.492657\\\\\n",
       "\\end{tabular}\n"
      ],
      "text/markdown": [
       "\n",
       "A data.frame: 6 × 12\n",
       "\n",
       "| <!--/--> | Study &lt;chr&gt; | Original_Subject_Number &lt;dbl&gt; | Subject_Number &lt;dbl&gt; | Group &lt;chr&gt; | Subject_ID &lt;chr&gt; | Sex &lt;chr&gt; | Age &lt;dbl&gt; | Race &lt;chr&gt; | Category &lt;chr&gt; | Variable &lt;chr&gt; | Value &lt;dbl&gt; | Allostatic_Load &lt;dbl&gt; |\n",
       "|---|---|---|---|---|---|---|---|---|---|---|---|---|\n",
       "| 1 | TCORS LAIV | 39 | 5 | CS | CS_5 | M | 21 | W | AL Biomarker | Cortisol      |     116.602 | 1.492657 |\n",
       "| 2 | TCORS LAIV | 39 | 5 | CS | CS_5 | M | 21 | W | AL Biomarker | Noradrenaline |    6214.280 | 1.492657 |\n",
       "| 3 | TCORS LAIV | 39 | 5 | CS | CS_5 | M | 21 | W | AL Biomarker | Hba1c         |    8901.778 | 1.492657 |\n",
       "| 4 | TCORS LAIV | 39 | 5 | CS | CS_5 | M | 21 | W | AL Biomarker | Fibrinogen    | 1106446.956 | 1.492657 |\n",
       "| 5 | TCORS LAIV | 39 | 5 | CS | CS_5 | M | 21 | W | AL Biomarker | CRP           |  896782.493 | 1.492657 |\n",
       "| 6 | TCORS LAIV | 39 | 5 | CS | CS_5 | M | 21 | W | Cytokine     | IP10          |     123.031 | 1.492657 |\n",
       "\n"
      ],
      "text/plain": [
       "  Study      Original_Subject_Number Subject_Number Group Subject_ID Sex Age\n",
       "1 TCORS LAIV 39                      5              CS    CS_5       M   21 \n",
       "2 TCORS LAIV 39                      5              CS    CS_5       M   21 \n",
       "3 TCORS LAIV 39                      5              CS    CS_5       M   21 \n",
       "4 TCORS LAIV 39                      5              CS    CS_5       M   21 \n",
       "5 TCORS LAIV 39                      5              CS    CS_5       M   21 \n",
       "6 TCORS LAIV 39                      5              CS    CS_5       M   21 \n",
       "  Race Category     Variable      Value       Allostatic_Load\n",
       "1 W    AL Biomarker Cortisol          116.602 1.492657       \n",
       "2 W    AL Biomarker Noradrenaline    6214.280 1.492657       \n",
       "3 W    AL Biomarker Hba1c            8901.778 1.492657       \n",
       "4 W    AL Biomarker Fibrinogen    1106446.956 1.492657       \n",
       "5 W    AL Biomarker CRP            896782.493 1.492657       \n",
       "6 W    Cytokine     IP10              123.031 1.492657       "
      ]
     },
     "metadata": {},
     "output_type": "display_data"
    }
   ],
   "source": [
    "# creating 1 df\n",
    "full_df = inner_join(subject_info_df, cytokine_df) %>%\n",
    "    # filtering for subjects who have blood pressure measurements\n",
    "    filter(Subject_ID %in% unique(bp_df$Subject_ID)) %>%\n",
    "    # adding allostatic load data\n",
    "    inner_join(allostatic_load_df %>%\n",
    "    # only keep overall allostatic load scores   \n",
    "    filter(if_any(Covariate, is.na))) %>%\n",
    "    select(-Covariate)\n",
    "\n",
    "head(full_df)"
   ]
  },
  {
   "cell_type": "markdown",
   "id": "669315c1-27e1-461d-a364-7f4c977191ab",
   "metadata": {},
   "source": [
    "knownData is a data frame containing the sample names under the first column, the feature data in the next n-1 columns, and the response data in the last column under response. This order matters for line 25, where you get a matrix of just the features. Could be obtained in better ways.\n",
    "Line 27 runs the actual regression using the matrix of features, and a factor of responses, both having the same order of samples they were obtained from."
   ]
  },
  {
   "cell_type": "code",
   "execution_count": null,
   "id": "ebaea5d5-9dc1-472a-a2d9-b3db502485bf",
   "metadata": {},
   "outputs": [],
   "source": [
    "################ Create Required Functions ###################################\n",
    "\n",
    "#split into 2 functions ord and ga\n",
    "############## Start Weight Estimation Process #####################\n",
    "estimateOrdWeights <- function(knownData, model){\n",
    "  ################# Perform Ordinal Regression ################################\n",
    "  \n",
    "  ############# get required Regression Parameters\n",
    "\n",
    "  #get number of response levels\n",
    "  NoBins <- length(unique(knownData$response))\n",
    "  #get number of slices\n",
    "  noSlices <- length(names(model))\n",
    "  \n",
    "  #set ordering of response levels as factor\n",
    "  orderedBins <- vector()\n",
    "  for(i in 1:NoBins){\n",
    "    orderedBins <- c(orderedBins, as.character(i))\n",
    "  }\n",
    "  Bins_factor <- factor(knownData[,'response'], ordered = TRUE, levels = orderedBins)\n",
    "  trues <- rep(TRUE, noSlices)\n",
    "  \n",
    "  #run the regression\n",
    "  tmpData <- as.matrix(knownData[,c(2:(ncol(knownData)-1))])\n",
    "  class(tmpData) <- \"numeric\"\n",
    "  result <- ordinalNet(tmpData, Bins_factor, positiveID = trues, lambdaVals = 0, maxiterOut = 100)\n",
    "  testW <- result$coefs[NoBins:(noSlices+NoBins-1)]\n",
    "  testW <- testW/sum(testW)\n",
    "\n",
    "  return(testW)\n",
    "}"
   ]
  },
  {
   "cell_type": "code",
   "execution_count": null,
   "id": "e2602d27-f0f1-4158-96cd-b259bbce49ef",
   "metadata": {},
   "outputs": [],
   "source": [
    "############## Create Testing Function #########################################\n",
    "testWeights <- function(data, knownData, w, observedResponse, binRanks){\n",
    "  idName <- 'Name'\n",
    "  tmpData <- as.matrix(data[,-1])\n",
    "  class(tmpData) <- \"numeric\"\n",
    "  score <- rowSums(tmpData*rep(w, each = NROW(tmpData)), na.rm = TRUE)\n",
    "  testData <- cbind(data,score)\n",
    "  \n",
    "  #sort the data based on new scores\n",
    "  testData <- testData[order(testData[,'score'], decreasing = TRUE),]\n",
    "  \n",
    "  #determine the rank and responses of \"known\" profiles using the proposed weights\n",
    "  noSamples <- nrow(data)\n",
    "  noKnown <- nrow(knownData)\n",
    "  rank <- c(1:noSamples)\n",
    "  testData <- cbind(testData, rank)\n",
    "  testData <- cbind(testData, observedResponse)\n",
    "  testKnowns <- testData[testData[,idName] %in% knownData[,idName],]\n",
    "  \n",
    "  #get fitness of weights based on deviation of bins*(indices from bin) for known profiles\n",
    "  deviation <- 0\n",
    "  for(i in 1:noKnown){\n",
    "    #get sample info\n",
    "    id <- testKnowns[i,idName]\n",
    "    trueBin <- knownData[knownData[,idName] == id,'response']\n",
    "    observedBin <- testKnowns[testKnowns[,idName] == id,'observedResponse']\n",
    "    observedRank <- testKnowns[testKnowns[,idName] == id,'rank']\n",
    "    #get rank distance of sample from true bin\n",
    "    if(trueBin < observedBin){\n",
    "      binDist <- abs(binRanks[trueBin+1] - observedRank - 1)\n",
    "    } else if(trueBin > observedBin){\n",
    "      binDist <- binRanks[trueBin] - observedRank\n",
    "    } else {\n",
    "      binDist <- 0\n",
    "    }\n",
    "    #add sample deviations together\n",
    "    deviation <- deviation + abs(trueBin - observedBin)*binDist\n",
    "  }\n",
    "  return(deviation)\n",
    "}"
   ]
  }
 ],
 "metadata": {
  "kernelspec": {
   "display_name": "R",
   "language": "R",
   "name": "ir"
  },
  "language_info": {
   "codemirror_mode": "r",
   "file_extension": ".r",
   "mimetype": "text/x-r-source",
   "name": "R",
   "pygments_lexer": "r",
   "version": "4.3.1"
  }
 },
 "nbformat": 4,
 "nbformat_minor": 5
}
