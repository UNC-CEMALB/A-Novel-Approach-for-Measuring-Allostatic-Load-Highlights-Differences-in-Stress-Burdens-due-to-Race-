{
 "cells": [
  {
   "cell_type": "code",
   "execution_count": 1,
   "id": "9863b40f-c1d0-4b36-83a8-07055c92fe8f",
   "metadata": {},
   "outputs": [
    {
     "name": "stderr",
     "output_type": "stream",
     "text": [
      "── \u001b[1mAttaching core tidyverse packages\u001b[22m ──────────────────────── tidyverse 2.0.0 ──\n",
      "\u001b[32m✔\u001b[39m \u001b[34mdplyr    \u001b[39m 1.1.3     \u001b[32m✔\u001b[39m \u001b[34mreadr    \u001b[39m 2.1.4\n",
      "\u001b[32m✔\u001b[39m \u001b[34mforcats  \u001b[39m 1.0.0     \u001b[32m✔\u001b[39m \u001b[34mstringr  \u001b[39m 1.5.0\n",
      "\u001b[32m✔\u001b[39m \u001b[34mggplot2  \u001b[39m 3.4.3     \u001b[32m✔\u001b[39m \u001b[34mtibble   \u001b[39m 3.2.1\n",
      "\u001b[32m✔\u001b[39m \u001b[34mlubridate\u001b[39m 1.9.2     \u001b[32m✔\u001b[39m \u001b[34mtidyr    \u001b[39m 1.3.0\n",
      "\u001b[32m✔\u001b[39m \u001b[34mpurrr    \u001b[39m 1.0.2     \n",
      "── \u001b[1mConflicts\u001b[22m ────────────────────────────────────────── tidyverse_conflicts() ──\n",
      "\u001b[31m✖\u001b[39m \u001b[34mdplyr\u001b[39m::\u001b[32mfilter()\u001b[39m masks \u001b[34mstats\u001b[39m::filter()\n",
      "\u001b[31m✖\u001b[39m \u001b[34mdplyr\u001b[39m::\u001b[32mlag()\u001b[39m    masks \u001b[34mstats\u001b[39m::lag()\n",
      "\u001b[36mℹ\u001b[39m Use the conflicted package (\u001b[3m\u001b[34m<http://conflicted.r-lib.org/>\u001b[39m\u001b[23m) to force all conflicts to become errors\n",
      "\n",
      "Attaching package: ‘reshape2’\n",
      "\n",
      "\n",
      "The following object is masked from ‘package:tidyr’:\n",
      "\n",
      "    smiths\n",
      "\n",
      "\n",
      "Warning message:\n",
      "“Expecting numeric in D1077 / R1077C4: got 'NA'”\n",
      "Warning message:\n",
      "“Expecting numeric in D1080 / R1080C4: got 'NA'”\n",
      "Warning message:\n",
      "“Expecting numeric in D1083 / R1083C4: got 'NA'”\n",
      "Warning message:\n",
      "“Expecting numeric in D1091 / R1091C4: got 'NA'”\n",
      "Warning message:\n",
      "“Expecting numeric in D1097 / R1097C4: got 'NA'”\n",
      "Warning message:\n",
      "“Expecting numeric in D1098 / R1098C4: got 'NA'”\n",
      "Warning message:\n",
      "“Expecting numeric in D1114 / R1114C4: got 'NA'”\n",
      "Warning message:\n",
      "“Expecting numeric in D1124 / R1124C4: got 'NA'”\n",
      "Warning message:\n",
      "“Expecting numeric in D1126 / R1126C4: got 'NA'”\n",
      "Warning message:\n",
      "“Expecting numeric in D1128 / R1128C4: got 'NA'”\n",
      "Warning message:\n",
      "“Expecting numeric in D1132 / R1132C4: got 'NA'”\n"
     ]
    }
   ],
   "source": [
    "Output = ('/Users/alexis/Library/CloudStorage/OneDrive-UniversityofNorthCarolinaatChapelHill/CEMALB_DataAnalysisPM/Projects/P1012. Allostatic Load/P1012.3. Analyses/P1012.3.2. Ordinal Regression/Output')\n",
    "cur_date = \"053124\"\n",
    "\n",
    "library(readxl)\n",
    "library(openxlsx)\n",
    "library(tidyverse)\n",
    "library(ordinalNet)\n",
    "library(reshape2)\n",
    "\n",
    "# reading in file\n",
    "biomarker_df = data.frame(read_excel(\"Input/Allostatic_Mediator_Data_050824.xlsx\", sheet = 2)) # GO BACK FOR IMPUTED VALUES!!!\n",
    "bp_df = data.frame(read_excel(\"Input/Allostatic_Mediator_Data_050824.xlsx\", sheet = 4)) \n",
    "subject_info_df = data.frame(read_excel(\"Input/Subject_Info_050824.xlsx\", sheet = 2))\n",
    "mediator_scores_df = data.frame(read_excel(\"Input/Mediator_Scores_BP_Subjects_052724.xlsx\"))"
   ]
  },
  {
   "cell_type": "code",
   "execution_count": 2,
   "id": "4eae0161-33b8-4c89-80c2-75116265c536",
   "metadata": {},
   "outputs": [
    {
     "data": {
      "text/html": [
       "<table class=\"dataframe\">\n",
       "<caption>A data.frame: 6 × 4</caption>\n",
       "<thead>\n",
       "\t<tr><th></th><th scope=col>Subject_ID</th><th scope=col>Systolic</th><th scope=col>Diastolic</th><th scope=col>BP_Classification</th></tr>\n",
       "\t<tr><th></th><th scope=col>&lt;chr&gt;</th><th scope=col>&lt;dbl&gt;</th><th scope=col>&lt;dbl&gt;</th><th scope=col>&lt;chr&gt;</th></tr>\n",
       "</thead>\n",
       "<tbody>\n",
       "\t<tr><th scope=row>1</th><td>CS_26</td><td>133</td><td>86</td><td>1</td></tr>\n",
       "\t<tr><th scope=row>2</th><td>CS_29</td><td>116</td><td>84</td><td>N</td></tr>\n",
       "\t<tr><th scope=row>3</th><td>CS_17</td><td>118</td><td>80</td><td>N</td></tr>\n",
       "\t<tr><th scope=row>4</th><td>NS_63</td><td>122</td><td>85</td><td>E</td></tr>\n",
       "\t<tr><th scope=row>5</th><td>CS_21</td><td>112</td><td>77</td><td>N</td></tr>\n",
       "\t<tr><th scope=row>6</th><td>CS_27</td><td>131</td><td>91</td><td>1</td></tr>\n",
       "</tbody>\n",
       "</table>\n"
      ],
      "text/latex": [
       "A data.frame: 6 × 4\n",
       "\\begin{tabular}{r|llll}\n",
       "  & Subject\\_ID & Systolic & Diastolic & BP\\_Classification\\\\\n",
       "  & <chr> & <dbl> & <dbl> & <chr>\\\\\n",
       "\\hline\n",
       "\t1 & CS\\_26 & 133 & 86 & 1\\\\\n",
       "\t2 & CS\\_29 & 116 & 84 & N\\\\\n",
       "\t3 & CS\\_17 & 118 & 80 & N\\\\\n",
       "\t4 & NS\\_63 & 122 & 85 & E\\\\\n",
       "\t5 & CS\\_21 & 112 & 77 & N\\\\\n",
       "\t6 & CS\\_27 & 131 & 91 & 1\\\\\n",
       "\\end{tabular}\n"
      ],
      "text/markdown": [
       "\n",
       "A data.frame: 6 × 4\n",
       "\n",
       "| <!--/--> | Subject_ID &lt;chr&gt; | Systolic &lt;dbl&gt; | Diastolic &lt;dbl&gt; | BP_Classification &lt;chr&gt; |\n",
       "|---|---|---|---|---|\n",
       "| 1 | CS_26 | 133 | 86 | 1 |\n",
       "| 2 | CS_29 | 116 | 84 | N |\n",
       "| 3 | CS_17 | 118 | 80 | N |\n",
       "| 4 | NS_63 | 122 | 85 | E |\n",
       "| 5 | CS_21 | 112 | 77 | N |\n",
       "| 6 | CS_27 | 131 | 91 | 1 |\n",
       "\n"
      ],
      "text/plain": [
       "  Subject_ID Systolic Diastolic BP_Classification\n",
       "1 CS_26      133      86        1                \n",
       "2 CS_29      116      84        N                \n",
       "3 CS_17      118      80        N                \n",
       "4 NS_63      122      85        E                \n",
       "5 CS_21      112      77        N                \n",
       "6 CS_27      131      91        1                "
      ]
     },
     "metadata": {},
     "output_type": "display_data"
    },
    {
     "data": {
      "text/html": [
       "<table class=\"dataframe\">\n",
       "<caption>A data.frame: 6 × 8</caption>\n",
       "<thead>\n",
       "\t<tr><th></th><th scope=col>Study</th><th scope=col>Original_Subject_Number</th><th scope=col>Subject_Number</th><th scope=col>Group</th><th scope=col>Subject_ID</th><th scope=col>Sex</th><th scope=col>Age</th><th scope=col>Race</th></tr>\n",
       "\t<tr><th></th><th scope=col>&lt;chr&gt;</th><th scope=col>&lt;dbl&gt;</th><th scope=col>&lt;dbl&gt;</th><th scope=col>&lt;chr&gt;</th><th scope=col>&lt;chr&gt;</th><th scope=col>&lt;chr&gt;</th><th scope=col>&lt;dbl&gt;</th><th scope=col>&lt;chr&gt;</th></tr>\n",
       "</thead>\n",
       "<tbody>\n",
       "\t<tr><th scope=row>1</th><td>FM2       </td><td> 97</td><td>1</td><td>CS</td><td>CS_1</td><td>M</td><td>18</td><td>B</td></tr>\n",
       "\t<tr><th scope=row>2</th><td>FM2       </td><td> 99</td><td>2</td><td>CS</td><td>CS_2</td><td>F</td><td>20</td><td>W</td></tr>\n",
       "\t<tr><th scope=row>3</th><td>FM2       </td><td>101</td><td>3</td><td>CS</td><td>CS_3</td><td>F</td><td>20</td><td>W</td></tr>\n",
       "\t<tr><th scope=row>4</th><td>FM2       </td><td> 98</td><td>4</td><td>CS</td><td>CS_4</td><td>F</td><td>21</td><td>W</td></tr>\n",
       "\t<tr><th scope=row>5</th><td>TCORS LAIV</td><td> 39</td><td>5</td><td>CS</td><td>CS_5</td><td>M</td><td>21</td><td>W</td></tr>\n",
       "\t<tr><th scope=row>6</th><td>FM2       </td><td>100</td><td>6</td><td>CS</td><td>CS_6</td><td>F</td><td>22</td><td>W</td></tr>\n",
       "</tbody>\n",
       "</table>\n"
      ],
      "text/latex": [
       "A data.frame: 6 × 8\n",
       "\\begin{tabular}{r|llllllll}\n",
       "  & Study & Original\\_Subject\\_Number & Subject\\_Number & Group & Subject\\_ID & Sex & Age & Race\\\\\n",
       "  & <chr> & <dbl> & <dbl> & <chr> & <chr> & <chr> & <dbl> & <chr>\\\\\n",
       "\\hline\n",
       "\t1 & FM2        &  97 & 1 & CS & CS\\_1 & M & 18 & B\\\\\n",
       "\t2 & FM2        &  99 & 2 & CS & CS\\_2 & F & 20 & W\\\\\n",
       "\t3 & FM2        & 101 & 3 & CS & CS\\_3 & F & 20 & W\\\\\n",
       "\t4 & FM2        &  98 & 4 & CS & CS\\_4 & F & 21 & W\\\\\n",
       "\t5 & TCORS LAIV &  39 & 5 & CS & CS\\_5 & M & 21 & W\\\\\n",
       "\t6 & FM2        & 100 & 6 & CS & CS\\_6 & F & 22 & W\\\\\n",
       "\\end{tabular}\n"
      ],
      "text/markdown": [
       "\n",
       "A data.frame: 6 × 8\n",
       "\n",
       "| <!--/--> | Study &lt;chr&gt; | Original_Subject_Number &lt;dbl&gt; | Subject_Number &lt;dbl&gt; | Group &lt;chr&gt; | Subject_ID &lt;chr&gt; | Sex &lt;chr&gt; | Age &lt;dbl&gt; | Race &lt;chr&gt; |\n",
       "|---|---|---|---|---|---|---|---|---|\n",
       "| 1 | FM2        |  97 | 1 | CS | CS_1 | M | 18 | B |\n",
       "| 2 | FM2        |  99 | 2 | CS | CS_2 | F | 20 | W |\n",
       "| 3 | FM2        | 101 | 3 | CS | CS_3 | F | 20 | W |\n",
       "| 4 | FM2        |  98 | 4 | CS | CS_4 | F | 21 | W |\n",
       "| 5 | TCORS LAIV |  39 | 5 | CS | CS_5 | M | 21 | W |\n",
       "| 6 | FM2        | 100 | 6 | CS | CS_6 | F | 22 | W |\n",
       "\n"
      ],
      "text/plain": [
       "  Study      Original_Subject_Number Subject_Number Group Subject_ID Sex Age\n",
       "1 FM2         97                     1              CS    CS_1       M   18 \n",
       "2 FM2         99                     2              CS    CS_2       F   20 \n",
       "3 FM2        101                     3              CS    CS_3       F   20 \n",
       "4 FM2         98                     4              CS    CS_4       F   21 \n",
       "5 TCORS LAIV  39                     5              CS    CS_5       M   21 \n",
       "6 FM2        100                     6              CS    CS_6       F   22 \n",
       "  Race\n",
       "1 B   \n",
       "2 W   \n",
       "3 W   \n",
       "4 W   \n",
       "5 W   \n",
       "6 W   "
      ]
     },
     "metadata": {},
     "output_type": "display_data"
    },
    {
     "data": {
      "text/html": [
       "<table class=\"dataframe\">\n",
       "<caption>A data.frame: 6 × 3</caption>\n",
       "<thead>\n",
       "\t<tr><th></th><th scope=col>Variable</th><th scope=col>Subject_ID</th><th scope=col>Mediator_Score</th></tr>\n",
       "\t<tr><th></th><th scope=col>&lt;chr&gt;</th><th scope=col>&lt;chr&gt;</th><th scope=col>&lt;dbl&gt;</th></tr>\n",
       "</thead>\n",
       "<tbody>\n",
       "\t<tr><th scope=row>1</th><td>Noradrenaline</td><td>CS_5 </td><td>0.9209663</td></tr>\n",
       "\t<tr><th scope=row>2</th><td>Noradrenaline</td><td>CS_8 </td><td>0.5018144</td></tr>\n",
       "\t<tr><th scope=row>3</th><td>Noradrenaline</td><td>CS_10</td><td>0.8466564</td></tr>\n",
       "\t<tr><th scope=row>4</th><td>Noradrenaline</td><td>CS_16</td><td>0.5018144</td></tr>\n",
       "\t<tr><th scope=row>5</th><td>Noradrenaline</td><td>CS_17</td><td>0.3297612</td></tr>\n",
       "\t<tr><th scope=row>6</th><td>Noradrenaline</td><td>CS_21</td><td>0.2711344</td></tr>\n",
       "</tbody>\n",
       "</table>\n"
      ],
      "text/latex": [
       "A data.frame: 6 × 3\n",
       "\\begin{tabular}{r|lll}\n",
       "  & Variable & Subject\\_ID & Mediator\\_Score\\\\\n",
       "  & <chr> & <chr> & <dbl>\\\\\n",
       "\\hline\n",
       "\t1 & Noradrenaline & CS\\_5  & 0.9209663\\\\\n",
       "\t2 & Noradrenaline & CS\\_8  & 0.5018144\\\\\n",
       "\t3 & Noradrenaline & CS\\_10 & 0.8466564\\\\\n",
       "\t4 & Noradrenaline & CS\\_16 & 0.5018144\\\\\n",
       "\t5 & Noradrenaline & CS\\_17 & 0.3297612\\\\\n",
       "\t6 & Noradrenaline & CS\\_21 & 0.2711344\\\\\n",
       "\\end{tabular}\n"
      ],
      "text/markdown": [
       "\n",
       "A data.frame: 6 × 3\n",
       "\n",
       "| <!--/--> | Variable &lt;chr&gt; | Subject_ID &lt;chr&gt; | Mediator_Score &lt;dbl&gt; |\n",
       "|---|---|---|---|\n",
       "| 1 | Noradrenaline | CS_5  | 0.9209663 |\n",
       "| 2 | Noradrenaline | CS_8  | 0.5018144 |\n",
       "| 3 | Noradrenaline | CS_10 | 0.8466564 |\n",
       "| 4 | Noradrenaline | CS_16 | 0.5018144 |\n",
       "| 5 | Noradrenaline | CS_17 | 0.3297612 |\n",
       "| 6 | Noradrenaline | CS_21 | 0.2711344 |\n",
       "\n"
      ],
      "text/plain": [
       "  Variable      Subject_ID Mediator_Score\n",
       "1 Noradrenaline CS_5       0.9209663     \n",
       "2 Noradrenaline CS_8       0.5018144     \n",
       "3 Noradrenaline CS_10      0.8466564     \n",
       "4 Noradrenaline CS_16      0.5018144     \n",
       "5 Noradrenaline CS_17      0.3297612     \n",
       "6 Noradrenaline CS_21      0.2711344     "
      ]
     },
     "metadata": {},
     "output_type": "display_data"
    }
   ],
   "source": [
    "head(bp_df)\n",
    "head(subject_info_df)\n",
    "head(mediator_scores_df)"
   ]
  },
  {
   "cell_type": "markdown",
   "id": "93dedb52-1e14-4811-9dfa-cbb225fed96a",
   "metadata": {},
   "source": [
    "In this analysis, we're using [ordinal regression](https://www.statisticssolutions.com/free-resources/directory-of-statistical-analyses/ordinal-regression/) to predict blood pressure classification using mediator scores from 17 biomarkers. "
   ]
  },
  {
   "cell_type": "code",
   "execution_count": 3,
   "id": "c921b84d-4579-4f4f-b1d5-7705201c472d",
   "metadata": {},
   "outputs": [
    {
     "name": "stderr",
     "output_type": "stream",
     "text": [
      "\u001b[1m\u001b[22mJoining with `by = join_by(Subject_ID)`\n",
      "\u001b[1m\u001b[22mJoining with `by = join_by(Subject_ID)`\n"
     ]
    },
    {
     "data": {
      "text/html": [
       "<table class=\"dataframe\">\n",
       "<caption>A tibble: 6 × 23</caption>\n",
       "<thead>\n",
       "\t<tr><th scope=col>Subject_ID</th><th scope=col>Group</th><th scope=col>Sex</th><th scope=col>Age</th><th scope=col>Race</th><th scope=col>Noradrenaline</th><th scope=col>Hba1c</th><th scope=col>Fibrinogen</th><th scope=col>CRP</th><th scope=col>IP10</th><th scope=col>⋯</th><th scope=col>IL13</th><th scope=col>IL1B</th><th scope=col>IL2</th><th scope=col>IL4</th><th scope=col>IL6</th><th scope=col>IL8</th><th scope=col>TNFa</th><th scope=col>HDL</th><th scope=col>Epinephrine</th><th scope=col>BP_Classification</th></tr>\n",
       "\t<tr><th scope=col>&lt;chr&gt;</th><th scope=col>&lt;chr&gt;</th><th scope=col>&lt;chr&gt;</th><th scope=col>&lt;dbl&gt;</th><th scope=col>&lt;chr&gt;</th><th scope=col>&lt;dbl&gt;</th><th scope=col>&lt;dbl&gt;</th><th scope=col>&lt;dbl&gt;</th><th scope=col>&lt;dbl&gt;</th><th scope=col>&lt;dbl&gt;</th><th scope=col>⋯</th><th scope=col>&lt;dbl&gt;</th><th scope=col>&lt;dbl&gt;</th><th scope=col>&lt;dbl&gt;</th><th scope=col>&lt;dbl&gt;</th><th scope=col>&lt;dbl&gt;</th><th scope=col>&lt;dbl&gt;</th><th scope=col>&lt;dbl&gt;</th><th scope=col>&lt;dbl&gt;</th><th scope=col>&lt;dbl&gt;</th><th scope=col>&lt;fct&gt;</th></tr>\n",
       "</thead>\n",
       "<tbody>\n",
       "\t<tr><td>CS_26</td><td>CS</td><td>F</td><td>34</td><td>B</td><td>0.00000000</td><td>0.1261076</td><td>0.35238170</td><td>0.03189947</td><td>0.07017161</td><td>⋯</td><td>0.3271404</td><td>0.00000000</td><td>2.351685e-07</td><td>0.25823172</td><td>0.18675526</td><td>0.001686759</td><td>0.14780720</td><td>0.01961938</td><td>0.09668427</td><td>1</td></tr>\n",
       "\t<tr><td>CS_29</td><td>CS</td><td>F</td><td>36</td><td>B</td><td>0.09028609</td><td>0.3276962</td><td>0.18618128</td><td>0.04754286</td><td>0.03571227</td><td>⋯</td><td>0.7220417</td><td>0.01153174</td><td>1.419332e-08</td><td>0.53046857</td><td>0.43704343</td><td>0.355268670</td><td>0.08243793</td><td>0.29810436</td><td>0.48260060</td><td>N</td></tr>\n",
       "\t<tr><td>CS_17</td><td>CS</td><td>M</td><td>29</td><td>W</td><td>0.32976117</td><td>0.2873836</td><td>0.18107212</td><td>0.01664812</td><td>0.12055087</td><td>⋯</td><td>0.3411684</td><td>0.00000000</td><td>6.761111e-08</td><td>0.49508420</td><td>0.03189408</td><td>0.147350214</td><td>0.26384236</td><td>0.52779975</td><td>0.72404411</td><td>N</td></tr>\n",
       "\t<tr><td>NS_63</td><td>NS</td><td>M</td><td>43</td><td>B</td><td>0.25782803</td><td>0.4462655</td><td>0.11215630</td><td>0.22912585</td><td>0.42703285</td><td>⋯</td><td>0.6317240</td><td>0.00000000</td><td>1.132208e-06</td><td>0.60115086</td><td>1.00000000</td><td>0.119470619</td><td>0.42067290</td><td>0.13049306</td><td>0.67048546</td><td>E</td></tr>\n",
       "\t<tr><td>CS_21</td><td>CS</td><td>F</td><td>31</td><td>B</td><td>0.27113435</td><td>0.7550424</td><td>0.16931582</td><td>0.12987698</td><td>0.35359516</td><td>⋯</td><td>0.2035670</td><td>0.00000000</td><td>9.701944e-07</td><td>0.07874693</td><td>0.30264289</td><td>0.418614119</td><td>0.26384236</td><td>0.06673031</td><td>0.31548045</td><td>N</td></tr>\n",
       "\t<tr><td>CS_27</td><td>CS</td><td>F</td><td>35</td><td>W</td><td>0.23404945</td><td>0.3807725</td><td>0.03079665</td><td>0.02882542</td><td>0.02232779</td><td>⋯</td><td>0.4987997</td><td>0.00000000</td><td>7.491238e-08</td><td>0.35320369</td><td>0.14274251</td><td>0.033546943</td><td>0.38209701</td><td>0.14858426</td><td>0.00000000</td><td>1</td></tr>\n",
       "</tbody>\n",
       "</table>\n"
      ],
      "text/latex": [
       "A tibble: 6 × 23\n",
       "\\begin{tabular}{lllllllllllllllllllll}\n",
       " Subject\\_ID & Group & Sex & Age & Race & Noradrenaline & Hba1c & Fibrinogen & CRP & IP10 & ⋯ & IL13 & IL1B & IL2 & IL4 & IL6 & IL8 & TNFa & HDL & Epinephrine & BP\\_Classification\\\\\n",
       " <chr> & <chr> & <chr> & <dbl> & <chr> & <dbl> & <dbl> & <dbl> & <dbl> & <dbl> & ⋯ & <dbl> & <dbl> & <dbl> & <dbl> & <dbl> & <dbl> & <dbl> & <dbl> & <dbl> & <fct>\\\\\n",
       "\\hline\n",
       "\t CS\\_26 & CS & F & 34 & B & 0.00000000 & 0.1261076 & 0.35238170 & 0.03189947 & 0.07017161 & ⋯ & 0.3271404 & 0.00000000 & 2.351685e-07 & 0.25823172 & 0.18675526 & 0.001686759 & 0.14780720 & 0.01961938 & 0.09668427 & 1\\\\\n",
       "\t CS\\_29 & CS & F & 36 & B & 0.09028609 & 0.3276962 & 0.18618128 & 0.04754286 & 0.03571227 & ⋯ & 0.7220417 & 0.01153174 & 1.419332e-08 & 0.53046857 & 0.43704343 & 0.355268670 & 0.08243793 & 0.29810436 & 0.48260060 & N\\\\\n",
       "\t CS\\_17 & CS & M & 29 & W & 0.32976117 & 0.2873836 & 0.18107212 & 0.01664812 & 0.12055087 & ⋯ & 0.3411684 & 0.00000000 & 6.761111e-08 & 0.49508420 & 0.03189408 & 0.147350214 & 0.26384236 & 0.52779975 & 0.72404411 & N\\\\\n",
       "\t NS\\_63 & NS & M & 43 & B & 0.25782803 & 0.4462655 & 0.11215630 & 0.22912585 & 0.42703285 & ⋯ & 0.6317240 & 0.00000000 & 1.132208e-06 & 0.60115086 & 1.00000000 & 0.119470619 & 0.42067290 & 0.13049306 & 0.67048546 & E\\\\\n",
       "\t CS\\_21 & CS & F & 31 & B & 0.27113435 & 0.7550424 & 0.16931582 & 0.12987698 & 0.35359516 & ⋯ & 0.2035670 & 0.00000000 & 9.701944e-07 & 0.07874693 & 0.30264289 & 0.418614119 & 0.26384236 & 0.06673031 & 0.31548045 & N\\\\\n",
       "\t CS\\_27 & CS & F & 35 & W & 0.23404945 & 0.3807725 & 0.03079665 & 0.02882542 & 0.02232779 & ⋯ & 0.4987997 & 0.00000000 & 7.491238e-08 & 0.35320369 & 0.14274251 & 0.033546943 & 0.38209701 & 0.14858426 & 0.00000000 & 1\\\\\n",
       "\\end{tabular}\n"
      ],
      "text/markdown": [
       "\n",
       "A tibble: 6 × 23\n",
       "\n",
       "| Subject_ID &lt;chr&gt; | Group &lt;chr&gt; | Sex &lt;chr&gt; | Age &lt;dbl&gt; | Race &lt;chr&gt; | Noradrenaline &lt;dbl&gt; | Hba1c &lt;dbl&gt; | Fibrinogen &lt;dbl&gt; | CRP &lt;dbl&gt; | IP10 &lt;dbl&gt; | ⋯ ⋯ | IL13 &lt;dbl&gt; | IL1B &lt;dbl&gt; | IL2 &lt;dbl&gt; | IL4 &lt;dbl&gt; | IL6 &lt;dbl&gt; | IL8 &lt;dbl&gt; | TNFa &lt;dbl&gt; | HDL &lt;dbl&gt; | Epinephrine &lt;dbl&gt; | BP_Classification &lt;fct&gt; |\n",
       "|---|---|---|---|---|---|---|---|---|---|---|---|---|---|---|---|---|---|---|---|---|\n",
       "| CS_26 | CS | F | 34 | B | 0.00000000 | 0.1261076 | 0.35238170 | 0.03189947 | 0.07017161 | ⋯ | 0.3271404 | 0.00000000 | 2.351685e-07 | 0.25823172 | 0.18675526 | 0.001686759 | 0.14780720 | 0.01961938 | 0.09668427 | 1 |\n",
       "| CS_29 | CS | F | 36 | B | 0.09028609 | 0.3276962 | 0.18618128 | 0.04754286 | 0.03571227 | ⋯ | 0.7220417 | 0.01153174 | 1.419332e-08 | 0.53046857 | 0.43704343 | 0.355268670 | 0.08243793 | 0.29810436 | 0.48260060 | N |\n",
       "| CS_17 | CS | M | 29 | W | 0.32976117 | 0.2873836 | 0.18107212 | 0.01664812 | 0.12055087 | ⋯ | 0.3411684 | 0.00000000 | 6.761111e-08 | 0.49508420 | 0.03189408 | 0.147350214 | 0.26384236 | 0.52779975 | 0.72404411 | N |\n",
       "| NS_63 | NS | M | 43 | B | 0.25782803 | 0.4462655 | 0.11215630 | 0.22912585 | 0.42703285 | ⋯ | 0.6317240 | 0.00000000 | 1.132208e-06 | 0.60115086 | 1.00000000 | 0.119470619 | 0.42067290 | 0.13049306 | 0.67048546 | E |\n",
       "| CS_21 | CS | F | 31 | B | 0.27113435 | 0.7550424 | 0.16931582 | 0.12987698 | 0.35359516 | ⋯ | 0.2035670 | 0.00000000 | 9.701944e-07 | 0.07874693 | 0.30264289 | 0.418614119 | 0.26384236 | 0.06673031 | 0.31548045 | N |\n",
       "| CS_27 | CS | F | 35 | W | 0.23404945 | 0.3807725 | 0.03079665 | 0.02882542 | 0.02232779 | ⋯ | 0.4987997 | 0.00000000 | 7.491238e-08 | 0.35320369 | 0.14274251 | 0.033546943 | 0.38209701 | 0.14858426 | 0.00000000 | 1 |\n",
       "\n"
      ],
      "text/plain": [
       "  Subject_ID Group Sex Age Race Noradrenaline Hba1c     Fibrinogen CRP       \n",
       "1 CS_26      CS    F   34  B    0.00000000    0.1261076 0.35238170 0.03189947\n",
       "2 CS_29      CS    F   36  B    0.09028609    0.3276962 0.18618128 0.04754286\n",
       "3 CS_17      CS    M   29  W    0.32976117    0.2873836 0.18107212 0.01664812\n",
       "4 NS_63      NS    M   43  B    0.25782803    0.4462655 0.11215630 0.22912585\n",
       "5 CS_21      CS    F   31  B    0.27113435    0.7550424 0.16931582 0.12987698\n",
       "6 CS_27      CS    F   35  W    0.23404945    0.3807725 0.03079665 0.02882542\n",
       "  IP10       ⋯ IL13      IL1B       IL2          IL4        IL6       \n",
       "1 0.07017161 ⋯ 0.3271404 0.00000000 2.351685e-07 0.25823172 0.18675526\n",
       "2 0.03571227 ⋯ 0.7220417 0.01153174 1.419332e-08 0.53046857 0.43704343\n",
       "3 0.12055087 ⋯ 0.3411684 0.00000000 6.761111e-08 0.49508420 0.03189408\n",
       "4 0.42703285 ⋯ 0.6317240 0.00000000 1.132208e-06 0.60115086 1.00000000\n",
       "5 0.35359516 ⋯ 0.2035670 0.00000000 9.701944e-07 0.07874693 0.30264289\n",
       "6 0.02232779 ⋯ 0.4987997 0.00000000 7.491238e-08 0.35320369 0.14274251\n",
       "  IL8         TNFa       HDL        Epinephrine BP_Classification\n",
       "1 0.001686759 0.14780720 0.01961938 0.09668427  1                \n",
       "2 0.355268670 0.08243793 0.29810436 0.48260060  N                \n",
       "3 0.147350214 0.26384236 0.52779975 0.72404411  N                \n",
       "4 0.119470619 0.42067290 0.13049306 0.67048546  E                \n",
       "5 0.418614119 0.26384236 0.06673031 0.31548045  N                \n",
       "6 0.033546943 0.38209701 0.14858426 0.00000000  1                "
      ]
     },
     "metadata": {},
     "output_type": "display_data"
    }
   ],
   "source": [
    "# creating a vector for variables that increase atherosclerotic risk\n",
    "# HDL decreases risk\n",
    "#allostatic_load_biomarkers = c('Cortisol','Noradrenaline','Epinephrine','Hba1c','Fibrinogen','CRP', 'HDL')\n",
    "\n",
    "# creating 1 df\n",
    "ordinal_regression_df = inner_join(bp_df[,c(1,4)], subject_info_df[,4:8]) %>%\n",
    "    # adding allostatic load data\n",
    "    inner_join(mediator_scores_df) %>%\n",
    "    # obtaining allostatic load biomarkers only\n",
    "    #filter(Variable %in% allostatic_load_biomarkers) %>%\n",
    "    pivot_wider(names_from = Variable, values_from = Mediator_Score)\n",
    "\n",
    "# turning BP into a factor\n",
    "ordinal_regression_df$BP_Classification = factor(ordinal_regression_df$BP_Classification, levels = c(\"N\", \"E\", \"1\", '2'))\n",
    "\n",
    "#reordering columns\n",
    "ordinal_regression_df = ordinal_regression_df[,c(1,3:23,2)]\n",
    "    \n",
    "\n",
    "head(ordinal_regression_df)"
   ]
  },
  {
   "cell_type": "code",
   "execution_count": 4,
   "id": "fb1ed418-053f-4b77-a625-f236f975aded",
   "metadata": {},
   "outputs": [
    {
     "data": {
      "text/html": [
       "<table class=\"dataframe\">\n",
       "<caption>A data.frame: 6 × 2</caption>\n",
       "<thead>\n",
       "\t<tr><th></th><th scope=col>Variable</th><th scope=col>Coefficient</th></tr>\n",
       "\t<tr><th></th><th scope=col>&lt;chr&gt;</th><th scope=col>&lt;dbl&gt;</th></tr>\n",
       "</thead>\n",
       "<tbody>\n",
       "\t<tr><th scope=row>1</th><td>IL2        </td><td>0.35626845</td></tr>\n",
       "\t<tr><th scope=row>2</th><td>IL8        </td><td>0.17808930</td></tr>\n",
       "\t<tr><th scope=row>3</th><td>IL12p70    </td><td>0.14744960</td></tr>\n",
       "\t<tr><th scope=row>4</th><td>HDL        </td><td>0.09240571</td></tr>\n",
       "\t<tr><th scope=row>5</th><td>IL10       </td><td>0.08858715</td></tr>\n",
       "\t<tr><th scope=row>6</th><td>Epinephrine</td><td>0.05554931</td></tr>\n",
       "</tbody>\n",
       "</table>\n"
      ],
      "text/latex": [
       "A data.frame: 6 × 2\n",
       "\\begin{tabular}{r|ll}\n",
       "  & Variable & Coefficient\\\\\n",
       "  & <chr> & <dbl>\\\\\n",
       "\\hline\n",
       "\t1 & IL2         & 0.35626845\\\\\n",
       "\t2 & IL8         & 0.17808930\\\\\n",
       "\t3 & IL12p70     & 0.14744960\\\\\n",
       "\t4 & HDL         & 0.09240571\\\\\n",
       "\t5 & IL10        & 0.08858715\\\\\n",
       "\t6 & Epinephrine & 0.05554931\\\\\n",
       "\\end{tabular}\n"
      ],
      "text/markdown": [
       "\n",
       "A data.frame: 6 × 2\n",
       "\n",
       "| <!--/--> | Variable &lt;chr&gt; | Coefficient &lt;dbl&gt; |\n",
       "|---|---|---|\n",
       "| 1 | IL2         | 0.35626845 |\n",
       "| 2 | IL8         | 0.17808930 |\n",
       "| 3 | IL12p70     | 0.14744960 |\n",
       "| 4 | HDL         | 0.09240571 |\n",
       "| 5 | IL10        | 0.08858715 |\n",
       "| 6 | Epinephrine | 0.05554931 |\n",
       "\n"
      ],
      "text/plain": [
       "  Variable    Coefficient\n",
       "1 IL2         0.35626845 \n",
       "2 IL8         0.17808930 \n",
       "3 IL12p70     0.14744960 \n",
       "4 HDL         0.09240571 \n",
       "5 IL10        0.08858715 \n",
       "6 Epinephrine 0.05554931 "
      ]
     },
     "metadata": {},
     "output_type": "display_data"
    }
   ],
   "source": [
    "# creating a vector of booleans that specifies whether or not the coefficient should be\n",
    "# positive (TRUE) or negative (FALSE), only HDL will be negative\n",
    "biomarker_coefficients = c(rep(TRUE, ncol(ordinal_regression_df) - 8), FALSE, TRUE)\n",
    "\n",
    "estimateOrdWeights <- function(dataset, response, coefficients_magnitude){\n",
    "    # ADD WORDS\n",
    "    # ordinal regression or estimating ordinal weights\n",
    "    \n",
    "    ############# get required Regression Parameters\n",
    "    \n",
    "    #get number of response levels\n",
    "    NoBins <- length(unique(dataset[[response]]))\n",
    "\n",
    "    #get number of features or slieces\n",
    "    noSlices <- ncol(dataset) - 2\n",
    "    \n",
    "    #run the regression\n",
    "    feature_data <- as.matrix(dataset[,c(2:(ncol(dataset)-1))])\n",
    "    #class(featuredata) <- \"numeric\"\n",
    "\n",
    "    # ordinal regression\n",
    "    # positiveID specifies whether or not each coefficient for each ind. variable should be constrained to be non-negative\n",
    "    regression_model <- ordinalNet(feature_data, dataset[[response]], positiveID = coefficients_magnitude, \n",
    "                            #lambdaVals defines how quickly your coefficients drop to 0\n",
    "                            # keeping it at 0 tries to minimize feature reduction\n",
    "                            # maxiterout defines the number of iterations before it stops\n",
    "                         lambdaVals = 0, maxiterOut = 100)\n",
    "    testW <- regression_model$coefs[NoBins:(noSlices + NoBins - 1)]\n",
    "\n",
    "    # rescaling the coefficients so that they sum to 1\n",
    "    normalizer = 1/sum(testW)\n",
    "    rescaled_weight <- testW * normalizer\n",
    "\n",
    "    # adding the variable names back in \n",
    "    test_weights_df = data.frame(Variable = colnames(feature_data), Coefficient = rescaled_weight) %>%\n",
    "        arrange(-Coefficient) \n",
    "    \n",
    "    return(test_weights_df)\n",
    "}\n",
    "\n",
    "# calling fn\n",
    "biomarker_coefficients_df = estimateOrdWeights(ordinal_regression_df[,c(1,6:23)], 'BP_Classification', biomarker_coefficients)\n",
    "\n",
    "head(biomarker_coefficients_df)"
   ]
  },
  {
   "cell_type": "markdown",
   "id": "83f580e0-19d4-436e-a87e-06dabef40b33",
   "metadata": {},
   "source": [
    "Why wasn't HDL able to be constrained to negative?\n",
    "What do the values mean? What considered high vs. low?\n",
    "How does this first function relate to the second function below?\n",
    "\n",
    "Run a linear regression to determine allostatic load score before looking at the chunk below. This will allow me to focus on the known samples and rank those using the code\n",
    "\n",
    "# Linear Regression\n",
    "\n",
    "Now that we have these weights from the ordinal regression, we'll use a linear regression to calculate allostatic load scores for each subject based on their raw biomarker sample values.\n",
    "\n",
    "First, we'll combine our data."
   ]
  },
  {
   "cell_type": "code",
   "execution_count": 5,
   "id": "c3e5970f-7266-4af6-8e34-c53db0070055",
   "metadata": {},
   "outputs": [
    {
     "data": {
      "text/html": [
       "<table class=\"dataframe\">\n",
       "<caption>A data.frame: 6 × 4</caption>\n",
       "<thead>\n",
       "\t<tr><th></th><th scope=col>Subject_ID</th><th scope=col>Category</th><th scope=col>Variable</th><th scope=col>Value</th></tr>\n",
       "\t<tr><th></th><th scope=col>&lt;chr&gt;</th><th scope=col>&lt;chr&gt;</th><th scope=col>&lt;chr&gt;</th><th scope=col>&lt;dbl&gt;</th></tr>\n",
       "</thead>\n",
       "<tbody>\n",
       "\t<tr><th scope=row>1</th><td>CS_1</td><td>AL Biomarker</td><td>Cortisol</td><td>140.304</td></tr>\n",
       "\t<tr><th scope=row>2</th><td>CS_2</td><td>AL Biomarker</td><td>Cortisol</td><td>246.542</td></tr>\n",
       "\t<tr><th scope=row>3</th><td>CS_3</td><td>AL Biomarker</td><td>Cortisol</td><td> 50.878</td></tr>\n",
       "\t<tr><th scope=row>4</th><td>CS_4</td><td>AL Biomarker</td><td>Cortisol</td><td>137.387</td></tr>\n",
       "\t<tr><th scope=row>5</th><td>CS_5</td><td>AL Biomarker</td><td>Cortisol</td><td>116.602</td></tr>\n",
       "\t<tr><th scope=row>6</th><td>CS_6</td><td>AL Biomarker</td><td>Cortisol</td><td> 54.030</td></tr>\n",
       "</tbody>\n",
       "</table>\n"
      ],
      "text/latex": [
       "A data.frame: 6 × 4\n",
       "\\begin{tabular}{r|llll}\n",
       "  & Subject\\_ID & Category & Variable & Value\\\\\n",
       "  & <chr> & <chr> & <chr> & <dbl>\\\\\n",
       "\\hline\n",
       "\t1 & CS\\_1 & AL Biomarker & Cortisol & 140.304\\\\\n",
       "\t2 & CS\\_2 & AL Biomarker & Cortisol & 246.542\\\\\n",
       "\t3 & CS\\_3 & AL Biomarker & Cortisol &  50.878\\\\\n",
       "\t4 & CS\\_4 & AL Biomarker & Cortisol & 137.387\\\\\n",
       "\t5 & CS\\_5 & AL Biomarker & Cortisol & 116.602\\\\\n",
       "\t6 & CS\\_6 & AL Biomarker & Cortisol &  54.030\\\\\n",
       "\\end{tabular}\n"
      ],
      "text/markdown": [
       "\n",
       "A data.frame: 6 × 4\n",
       "\n",
       "| <!--/--> | Subject_ID &lt;chr&gt; | Category &lt;chr&gt; | Variable &lt;chr&gt; | Value &lt;dbl&gt; |\n",
       "|---|---|---|---|---|\n",
       "| 1 | CS_1 | AL Biomarker | Cortisol | 140.304 |\n",
       "| 2 | CS_2 | AL Biomarker | Cortisol | 246.542 |\n",
       "| 3 | CS_3 | AL Biomarker | Cortisol |  50.878 |\n",
       "| 4 | CS_4 | AL Biomarker | Cortisol | 137.387 |\n",
       "| 5 | CS_5 | AL Biomarker | Cortisol | 116.602 |\n",
       "| 6 | CS_6 | AL Biomarker | Cortisol |  54.030 |\n",
       "\n"
      ],
      "text/plain": [
       "  Subject_ID Category     Variable Value  \n",
       "1 CS_1       AL Biomarker Cortisol 140.304\n",
       "2 CS_2       AL Biomarker Cortisol 246.542\n",
       "3 CS_3       AL Biomarker Cortisol  50.878\n",
       "4 CS_4       AL Biomarker Cortisol 137.387\n",
       "5 CS_5       AL Biomarker Cortisol 116.602\n",
       "6 CS_6       AL Biomarker Cortisol  54.030"
      ]
     },
     "metadata": {},
     "output_type": "display_data"
    }
   ],
   "source": [
    "head(biomarker_df)"
   ]
  },
  {
   "cell_type": "code",
   "execution_count": 14,
   "id": "74837d21-07ab-4d1e-a84c-521fb3ac8c4d",
   "metadata": {},
   "outputs": [
    {
     "name": "stderr",
     "output_type": "stream",
     "text": [
      "\u001b[1m\u001b[22mJoining with `by = join_by(Variable)`\n"
     ]
    },
    {
     "data": {
      "text/html": [
       "<table class=\"dataframe\">\n",
       "<caption>A data.frame: 6 × 64</caption>\n",
       "<thead>\n",
       "\t<tr><th></th><th scope=col>CS_1</th><th scope=col>CS_10</th><th scope=col>CS_11</th><th scope=col>CS_12</th><th scope=col>CS_13</th><th scope=col>CS_14</th><th scope=col>CS_15</th><th scope=col>CS_16</th><th scope=col>CS_17</th><th scope=col>CS_18</th><th scope=col>⋯</th><th scope=col>NS_55</th><th scope=col>NS_56</th><th scope=col>NS_57</th><th scope=col>NS_58</th><th scope=col>NS_59</th><th scope=col>NS_60</th><th scope=col>NS_61</th><th scope=col>NS_62</th><th scope=col>NS_63</th><th scope=col>Coefficient</th></tr>\n",
       "\t<tr><th></th><th scope=col>&lt;dbl&gt;</th><th scope=col>&lt;dbl&gt;</th><th scope=col>&lt;dbl&gt;</th><th scope=col>&lt;dbl&gt;</th><th scope=col>&lt;dbl&gt;</th><th scope=col>&lt;dbl&gt;</th><th scope=col>&lt;dbl&gt;</th><th scope=col>&lt;dbl&gt;</th><th scope=col>&lt;dbl&gt;</th><th scope=col>&lt;dbl&gt;</th><th scope=col>⋯</th><th scope=col>&lt;dbl&gt;</th><th scope=col>&lt;dbl&gt;</th><th scope=col>&lt;dbl&gt;</th><th scope=col>&lt;dbl&gt;</th><th scope=col>&lt;dbl&gt;</th><th scope=col>&lt;dbl&gt;</th><th scope=col>&lt;dbl&gt;</th><th scope=col>&lt;dbl&gt;</th><th scope=col>&lt;dbl&gt;</th><th scope=col>&lt;dbl&gt;</th></tr>\n",
       "</thead>\n",
       "<tbody>\n",
       "\t<tr><th scope=row>CRP</th><td>5.559845e+04</td><td>2.863647e+06</td><td> 77646.97829</td><td>2.080247e+05</td><td>4.750068e+06</td><td>3478791.4520</td><td>5.037985e+06</td><td>1.296296e+06</td><td>8.458425e+05</td><td>4.158242e+06</td><td>⋯</td><td>7.252398e+06</td><td>6.516544e+06</td><td>4.517126e+06</td><td>9.830317e+04</td><td>2.782011e+07</td><td>1.560861e+07</td><td>1.734071e+07</td><td>4.514378e+07</td><td>1.055221e+07</td><td>0.00000000</td></tr>\n",
       "\t<tr><th scope=row>Epinephrine</th><td>5.405000e+00</td><td>6.495000e+00</td><td>          NA</td><td>4.843000e+00</td><td>4.221000e+00</td><td>      5.3940</td><td>8.817000e+00</td><td>1.094700e+01</td><td>9.020000e+00</td><td>7.161000e+00</td><td>⋯</td><td>3.842000e+00</td><td>          NA</td><td>9.262000e+00</td><td>5.655000e+00</td><td>6.193000e+00</td><td>          NA</td><td>8.111000e+00</td><td>5.844000e+00</td><td>8.646000e+00</td><td>0.05554931</td></tr>\n",
       "\t<tr><th scope=row>Fibrinogen</th><td>9.448052e+05</td><td>1.177711e+06</td><td>355916.01900</td><td>2.570534e+06</td><td>7.491614e+05</td><td> 290255.0780</td><td>3.788870e+05</td><td>3.866305e+05</td><td>9.346629e+05</td><td>9.929176e+05</td><td>⋯</td><td>9.841312e+05</td><td>1.045044e+06</td><td>1.633222e+06</td><td>8.622901e+05</td><td>1.027264e+06</td><td>8.765986e+05</td><td>2.277013e+06</td><td>1.303893e+06</td><td>7.260825e+05</td><td>0.00000000</td></tr>\n",
       "\t<tr><th scope=row>Hba1c</th><td>3.000829e+03</td><td>2.033487e+04</td><td>   199.15000</td><td>9.529201e+03</td><td>1.718140e+02</td><td>    611.6580</td><td>6.109290e+02</td><td>9.741940e+03</td><td>1.324357e+04</td><td>4.094500e+02</td><td>⋯</td><td>4.485130e+02</td><td>1.418739e+04</td><td>1.572274e+04</td><td>1.190690e+04</td><td>2.151225e+04</td><td>1.069195e+04</td><td>7.531294e+03</td><td>2.102216e+04</td><td>1.640163e+04</td><td>0.00000000</td></tr>\n",
       "\t<tr><th scope=row>HDL</th><td>2.342104e+03</td><td>6.781930e+02</td><td>  1638.45200</td><td>3.487302e+03</td><td>2.103010e+03</td><td>   1945.3195</td><td>1.468414e+03</td><td>1.164451e+03</td><td>2.309097e+03</td><td>2.216117e+03</td><td>⋯</td><td>2.639136e+03</td><td>8.904290e+02</td><td>1.518944e+03</td><td>1.357090e+03</td><td>1.158884e+03</td><td>1.261489e+03</td><td>2.226878e+03</td><td>1.026427e+03</td><td>1.020604e+03</td><td>0.09240571</td></tr>\n",
       "\t<tr><th scope=row>IFNg</th><td>8.934312e+00</td><td>1.641966e+00</td><td>    20.58531</td><td>1.814071e+01</td><td>2.501686e+01</td><td>     16.6021</td><td>2.269073e+01</td><td>1.907438e+01</td><td>3.998119e+00</td><td>1.373203e+01</td><td>⋯</td><td>7.950224e+00</td><td>5.419301e+00</td><td>3.051331e+00</td><td>1.893192e+00</td><td>1.058480e+01</td><td>4.823686e+00</td><td>5.547756e+00</td><td>1.253785e+01</td><td>4.678406e+00</td><td>0.00000000</td></tr>\n",
       "</tbody>\n",
       "</table>\n"
      ],
      "text/latex": [
       "A data.frame: 6 × 64\n",
       "\\begin{tabular}{r|lllllllllllllllllllll}\n",
       "  & CS\\_1 & CS\\_10 & CS\\_11 & CS\\_12 & CS\\_13 & CS\\_14 & CS\\_15 & CS\\_16 & CS\\_17 & CS\\_18 & ⋯ & NS\\_55 & NS\\_56 & NS\\_57 & NS\\_58 & NS\\_59 & NS\\_60 & NS\\_61 & NS\\_62 & NS\\_63 & Coefficient\\\\\n",
       "  & <dbl> & <dbl> & <dbl> & <dbl> & <dbl> & <dbl> & <dbl> & <dbl> & <dbl> & <dbl> & ⋯ & <dbl> & <dbl> & <dbl> & <dbl> & <dbl> & <dbl> & <dbl> & <dbl> & <dbl> & <dbl>\\\\\n",
       "\\hline\n",
       "\tCRP & 5.559845e+04 & 2.863647e+06 &  77646.97829 & 2.080247e+05 & 4.750068e+06 & 3478791.4520 & 5.037985e+06 & 1.296296e+06 & 8.458425e+05 & 4.158242e+06 & ⋯ & 7.252398e+06 & 6.516544e+06 & 4.517126e+06 & 9.830317e+04 & 2.782011e+07 & 1.560861e+07 & 1.734071e+07 & 4.514378e+07 & 1.055221e+07 & 0.00000000\\\\\n",
       "\tEpinephrine & 5.405000e+00 & 6.495000e+00 &           NA & 4.843000e+00 & 4.221000e+00 &       5.3940 & 8.817000e+00 & 1.094700e+01 & 9.020000e+00 & 7.161000e+00 & ⋯ & 3.842000e+00 &           NA & 9.262000e+00 & 5.655000e+00 & 6.193000e+00 &           NA & 8.111000e+00 & 5.844000e+00 & 8.646000e+00 & 0.05554931\\\\\n",
       "\tFibrinogen & 9.448052e+05 & 1.177711e+06 & 355916.01900 & 2.570534e+06 & 7.491614e+05 &  290255.0780 & 3.788870e+05 & 3.866305e+05 & 9.346629e+05 & 9.929176e+05 & ⋯ & 9.841312e+05 & 1.045044e+06 & 1.633222e+06 & 8.622901e+05 & 1.027264e+06 & 8.765986e+05 & 2.277013e+06 & 1.303893e+06 & 7.260825e+05 & 0.00000000\\\\\n",
       "\tHba1c & 3.000829e+03 & 2.033487e+04 &    199.15000 & 9.529201e+03 & 1.718140e+02 &     611.6580 & 6.109290e+02 & 9.741940e+03 & 1.324357e+04 & 4.094500e+02 & ⋯ & 4.485130e+02 & 1.418739e+04 & 1.572274e+04 & 1.190690e+04 & 2.151225e+04 & 1.069195e+04 & 7.531294e+03 & 2.102216e+04 & 1.640163e+04 & 0.00000000\\\\\n",
       "\tHDL & 2.342104e+03 & 6.781930e+02 &   1638.45200 & 3.487302e+03 & 2.103010e+03 &    1945.3195 & 1.468414e+03 & 1.164451e+03 & 2.309097e+03 & 2.216117e+03 & ⋯ & 2.639136e+03 & 8.904290e+02 & 1.518944e+03 & 1.357090e+03 & 1.158884e+03 & 1.261489e+03 & 2.226878e+03 & 1.026427e+03 & 1.020604e+03 & 0.09240571\\\\\n",
       "\tIFNg & 8.934312e+00 & 1.641966e+00 &     20.58531 & 1.814071e+01 & 2.501686e+01 &      16.6021 & 2.269073e+01 & 1.907438e+01 & 3.998119e+00 & 1.373203e+01 & ⋯ & 7.950224e+00 & 5.419301e+00 & 3.051331e+00 & 1.893192e+00 & 1.058480e+01 & 4.823686e+00 & 5.547756e+00 & 1.253785e+01 & 4.678406e+00 & 0.00000000\\\\\n",
       "\\end{tabular}\n"
      ],
      "text/markdown": [
       "\n",
       "A data.frame: 6 × 64\n",
       "\n",
       "| <!--/--> | CS_1 &lt;dbl&gt; | CS_10 &lt;dbl&gt; | CS_11 &lt;dbl&gt; | CS_12 &lt;dbl&gt; | CS_13 &lt;dbl&gt; | CS_14 &lt;dbl&gt; | CS_15 &lt;dbl&gt; | CS_16 &lt;dbl&gt; | CS_17 &lt;dbl&gt; | CS_18 &lt;dbl&gt; | ⋯ ⋯ | NS_55 &lt;dbl&gt; | NS_56 &lt;dbl&gt; | NS_57 &lt;dbl&gt; | NS_58 &lt;dbl&gt; | NS_59 &lt;dbl&gt; | NS_60 &lt;dbl&gt; | NS_61 &lt;dbl&gt; | NS_62 &lt;dbl&gt; | NS_63 &lt;dbl&gt; | Coefficient &lt;dbl&gt; |\n",
       "|---|---|---|---|---|---|---|---|---|---|---|---|---|---|---|---|---|---|---|---|---|---|\n",
       "| CRP | 5.559845e+04 | 2.863647e+06 |  77646.97829 | 2.080247e+05 | 4.750068e+06 | 3478791.4520 | 5.037985e+06 | 1.296296e+06 | 8.458425e+05 | 4.158242e+06 | ⋯ | 7.252398e+06 | 6.516544e+06 | 4.517126e+06 | 9.830317e+04 | 2.782011e+07 | 1.560861e+07 | 1.734071e+07 | 4.514378e+07 | 1.055221e+07 | 0.00000000 |\n",
       "| Epinephrine | 5.405000e+00 | 6.495000e+00 |           NA | 4.843000e+00 | 4.221000e+00 |       5.3940 | 8.817000e+00 | 1.094700e+01 | 9.020000e+00 | 7.161000e+00 | ⋯ | 3.842000e+00 |           NA | 9.262000e+00 | 5.655000e+00 | 6.193000e+00 |           NA | 8.111000e+00 | 5.844000e+00 | 8.646000e+00 | 0.05554931 |\n",
       "| Fibrinogen | 9.448052e+05 | 1.177711e+06 | 355916.01900 | 2.570534e+06 | 7.491614e+05 |  290255.0780 | 3.788870e+05 | 3.866305e+05 | 9.346629e+05 | 9.929176e+05 | ⋯ | 9.841312e+05 | 1.045044e+06 | 1.633222e+06 | 8.622901e+05 | 1.027264e+06 | 8.765986e+05 | 2.277013e+06 | 1.303893e+06 | 7.260825e+05 | 0.00000000 |\n",
       "| Hba1c | 3.000829e+03 | 2.033487e+04 |    199.15000 | 9.529201e+03 | 1.718140e+02 |     611.6580 | 6.109290e+02 | 9.741940e+03 | 1.324357e+04 | 4.094500e+02 | ⋯ | 4.485130e+02 | 1.418739e+04 | 1.572274e+04 | 1.190690e+04 | 2.151225e+04 | 1.069195e+04 | 7.531294e+03 | 2.102216e+04 | 1.640163e+04 | 0.00000000 |\n",
       "| HDL | 2.342104e+03 | 6.781930e+02 |   1638.45200 | 3.487302e+03 | 2.103010e+03 |    1945.3195 | 1.468414e+03 | 1.164451e+03 | 2.309097e+03 | 2.216117e+03 | ⋯ | 2.639136e+03 | 8.904290e+02 | 1.518944e+03 | 1.357090e+03 | 1.158884e+03 | 1.261489e+03 | 2.226878e+03 | 1.026427e+03 | 1.020604e+03 | 0.09240571 |\n",
       "| IFNg | 8.934312e+00 | 1.641966e+00 |     20.58531 | 1.814071e+01 | 2.501686e+01 |      16.6021 | 2.269073e+01 | 1.907438e+01 | 3.998119e+00 | 1.373203e+01 | ⋯ | 7.950224e+00 | 5.419301e+00 | 3.051331e+00 | 1.893192e+00 | 1.058480e+01 | 4.823686e+00 | 5.547756e+00 | 1.253785e+01 | 4.678406e+00 | 0.00000000 |\n",
       "\n"
      ],
      "text/plain": [
       "            CS_1         CS_10        CS_11        CS_12        CS_13       \n",
       "CRP         5.559845e+04 2.863647e+06  77646.97829 2.080247e+05 4.750068e+06\n",
       "Epinephrine 5.405000e+00 6.495000e+00           NA 4.843000e+00 4.221000e+00\n",
       "Fibrinogen  9.448052e+05 1.177711e+06 355916.01900 2.570534e+06 7.491614e+05\n",
       "Hba1c       3.000829e+03 2.033487e+04    199.15000 9.529201e+03 1.718140e+02\n",
       "HDL         2.342104e+03 6.781930e+02   1638.45200 3.487302e+03 2.103010e+03\n",
       "IFNg        8.934312e+00 1.641966e+00     20.58531 1.814071e+01 2.501686e+01\n",
       "            CS_14        CS_15        CS_16        CS_17        CS_18        ⋯\n",
       "CRP         3478791.4520 5.037985e+06 1.296296e+06 8.458425e+05 4.158242e+06 ⋯\n",
       "Epinephrine       5.3940 8.817000e+00 1.094700e+01 9.020000e+00 7.161000e+00 ⋯\n",
       "Fibrinogen   290255.0780 3.788870e+05 3.866305e+05 9.346629e+05 9.929176e+05 ⋯\n",
       "Hba1c           611.6580 6.109290e+02 9.741940e+03 1.324357e+04 4.094500e+02 ⋯\n",
       "HDL            1945.3195 1.468414e+03 1.164451e+03 2.309097e+03 2.216117e+03 ⋯\n",
       "IFNg             16.6021 2.269073e+01 1.907438e+01 3.998119e+00 1.373203e+01 ⋯\n",
       "            NS_55        NS_56        NS_57        NS_58        NS_59       \n",
       "CRP         7.252398e+06 6.516544e+06 4.517126e+06 9.830317e+04 2.782011e+07\n",
       "Epinephrine 3.842000e+00           NA 9.262000e+00 5.655000e+00 6.193000e+00\n",
       "Fibrinogen  9.841312e+05 1.045044e+06 1.633222e+06 8.622901e+05 1.027264e+06\n",
       "Hba1c       4.485130e+02 1.418739e+04 1.572274e+04 1.190690e+04 2.151225e+04\n",
       "HDL         2.639136e+03 8.904290e+02 1.518944e+03 1.357090e+03 1.158884e+03\n",
       "IFNg        7.950224e+00 5.419301e+00 3.051331e+00 1.893192e+00 1.058480e+01\n",
       "            NS_60        NS_61        NS_62        NS_63        Coefficient\n",
       "CRP         1.560861e+07 1.734071e+07 4.514378e+07 1.055221e+07 0.00000000 \n",
       "Epinephrine           NA 8.111000e+00 5.844000e+00 8.646000e+00 0.05554931 \n",
       "Fibrinogen  8.765986e+05 2.277013e+06 1.303893e+06 7.260825e+05 0.00000000 \n",
       "Hba1c       1.069195e+04 7.531294e+03 2.102216e+04 1.640163e+04 0.00000000 \n",
       "HDL         1.261489e+03 2.226878e+03 1.026427e+03 1.020604e+03 0.09240571 \n",
       "IFNg        4.823686e+00 5.547756e+00 1.253785e+01 4.678406e+00 0.00000000 "
      ]
     },
     "metadata": {},
     "output_type": "display_data"
    }
   ],
   "source": [
    "wider_biomarker_df = dcast(biomarker_df, Variable ~ Subject_ID, value.var = \"Value\") %>% \n",
    "    inner_join(biomarker_coefficients_df) %>%\n",
    "    column_to_rownames(\"Variable\")\n",
    "\n",
    "head(wider_biomarker_df)"
   ]
  },
  {
   "cell_type": "code",
   "execution_count": 12,
   "id": "11ef04fd-22f7-45af-b74a-a6fc15613817",
   "metadata": {},
   "outputs": [
    {
     "data": {
      "text/html": [
       "94.30963724884"
      ],
      "text/latex": [
       "94.30963724884"
      ],
      "text/markdown": [
       "94.30963724884"
      ],
      "text/plain": [
       "[1] 94.30964"
      ]
     },
     "metadata": {},
     "output_type": "display_data"
    }
   ],
   "source": [
    "0.09240571*1020.604"
   ]
  },
  {
   "cell_type": "code",
   "execution_count": 20,
   "id": "3d09c8e6-db70-4932-ba39-56e1fe6fb23b",
   "metadata": {},
   "outputs": [
    {
     "data": {
      "text/html": [
       "<table class=\"dataframe\">\n",
       "<caption>A data.frame: 17 × 63</caption>\n",
       "<thead>\n",
       "\t<tr><th></th><th scope=col>CS_1</th><th scope=col>CS_10</th><th scope=col>CS_11</th><th scope=col>CS_12</th><th scope=col>CS_13</th><th scope=col>CS_14</th><th scope=col>CS_15</th><th scope=col>CS_16</th><th scope=col>CS_17</th><th scope=col>CS_18</th><th scope=col>⋯</th><th scope=col>NS_54</th><th scope=col>NS_55</th><th scope=col>NS_56</th><th scope=col>NS_57</th><th scope=col>NS_58</th><th scope=col>NS_59</th><th scope=col>NS_60</th><th scope=col>NS_61</th><th scope=col>NS_62</th><th scope=col>NS_63</th></tr>\n",
       "\t<tr><th></th><th scope=col>&lt;dbl&gt;</th><th scope=col>&lt;dbl&gt;</th><th scope=col>&lt;dbl&gt;</th><th scope=col>&lt;dbl&gt;</th><th scope=col>&lt;dbl&gt;</th><th scope=col>&lt;dbl&gt;</th><th scope=col>&lt;dbl&gt;</th><th scope=col>&lt;dbl&gt;</th><th scope=col>&lt;dbl&gt;</th><th scope=col>&lt;dbl&gt;</th><th scope=col>⋯</th><th scope=col>&lt;dbl&gt;</th><th scope=col>&lt;dbl&gt;</th><th scope=col>&lt;dbl&gt;</th><th scope=col>&lt;dbl&gt;</th><th scope=col>&lt;dbl&gt;</th><th scope=col>&lt;dbl&gt;</th><th scope=col>&lt;dbl&gt;</th><th scope=col>&lt;dbl&gt;</th><th scope=col>&lt;dbl&gt;</th><th scope=col>&lt;dbl&gt;</th></tr>\n",
       "</thead>\n",
       "<tbody>\n",
       "\t<tr><th scope=row>CRP</th><td>0.000000e+00</td><td>0.000000e+00</td><td>0.000000e+00</td><td>0.000000e+00</td><td>0.000000e+00</td><td>0.000000e+00</td><td>0.000000e+00</td><td>0.000000e+00</td><td>0.000000e+00</td><td>0.000000e+00</td><td>⋯</td><td>0.000000e+00</td><td>0.000000e+00</td><td> 0.000000000</td><td>0.000000e+00</td><td>0.000000e+00</td><td>0.000000e+00</td><td>0.000000e+00</td><td>0.000000e+00</td><td>0.000000e+00</td><td>0.000000e+00</td></tr>\n",
       "\t<tr><th scope=row>Epinephrine</th><td>3.002440e-01</td><td>3.607928e-01</td><td>          NA</td><td>2.690253e-01</td><td>2.344736e-01</td><td>2.996330e-01</td><td>4.897782e-01</td><td>6.080983e-01</td><td>5.010548e-01</td><td>3.977886e-01</td><td>⋯</td><td>          NA</td><td>2.134204e-01</td><td>          NA</td><td>5.144977e-01</td><td>3.141313e-01</td><td>3.440169e-01</td><td>          NA</td><td>4.505604e-01</td><td>3.246302e-01</td><td>4.802793e-01</td></tr>\n",
       "\t<tr><th scope=row>Fibrinogen</th><td>0.000000e+00</td><td>0.000000e+00</td><td>0.000000e+00</td><td>0.000000e+00</td><td>0.000000e+00</td><td>0.000000e+00</td><td>0.000000e+00</td><td>0.000000e+00</td><td>0.000000e+00</td><td>0.000000e+00</td><td>⋯</td><td>0.000000e+00</td><td>0.000000e+00</td><td> 0.000000000</td><td>0.000000e+00</td><td>0.000000e+00</td><td>0.000000e+00</td><td>0.000000e+00</td><td>0.000000e+00</td><td>0.000000e+00</td><td>0.000000e+00</td></tr>\n",
       "\t<tr><th scope=row>Hba1c</th><td>0.000000e+00</td><td>0.000000e+00</td><td>0.000000e+00</td><td>0.000000e+00</td><td>0.000000e+00</td><td>0.000000e+00</td><td>0.000000e+00</td><td>0.000000e+00</td><td>0.000000e+00</td><td>0.000000e+00</td><td>⋯</td><td>0.000000e+00</td><td>0.000000e+00</td><td> 0.000000000</td><td>0.000000e+00</td><td>0.000000e+00</td><td>0.000000e+00</td><td>0.000000e+00</td><td>0.000000e+00</td><td>0.000000e+00</td><td>0.000000e+00</td></tr>\n",
       "\t<tr><th scope=row>HDL</th><td>2.164238e+02</td><td>6.266891e+01</td><td>1.514023e+02</td><td>3.222466e+02</td><td>1.943302e+02</td><td>1.797586e+02</td><td>1.356898e+02</td><td>1.076019e+02</td><td>2.133738e+02</td><td>2.047818e+02</td><td>⋯</td><td>1.280296e+02</td><td>2.438712e+02</td><td>82.280728233</td><td>1.403591e+02</td><td>1.254029e+02</td><td>1.070875e+02</td><td>1.165688e+02</td><td>2.057763e+02</td><td>9.484772e+01</td><td>9.430964e+01</td></tr>\n",
       "\t<tr><th scope=row>IFNg</th><td>0.000000e+00</td><td>0.000000e+00</td><td>0.000000e+00</td><td>0.000000e+00</td><td>0.000000e+00</td><td>0.000000e+00</td><td>0.000000e+00</td><td>0.000000e+00</td><td>0.000000e+00</td><td>0.000000e+00</td><td>⋯</td><td>0.000000e+00</td><td>0.000000e+00</td><td> 0.000000000</td><td>0.000000e+00</td><td>0.000000e+00</td><td>0.000000e+00</td><td>0.000000e+00</td><td>0.000000e+00</td><td>0.000000e+00</td><td>0.000000e+00</td></tr>\n",
       "\t<tr><th scope=row>IL10</th><td>9.120242e-02</td><td>3.458360e-02</td><td>4.399703e-02</td><td>6.513554e-02</td><td>4.626367e-02</td><td>9.209684e-02</td><td>6.496353e-02</td><td>5.371670e-02</td><td>3.908812e-02</td><td>6.389235e-02</td><td>⋯</td><td>3.308166e-02</td><td>5.542343e-02</td><td> 0.037586820</td><td>1.031467e-01</td><td>2.631988e-02</td><td>4.734202e-02</td><td>3.402039e-02</td><td>3.354138e-01</td><td>7.320141e-02</td><td>5.371670e-02</td></tr>\n",
       "\t<tr><th scope=row>IL12p70</th><td>1.133582e+01</td><td>2.345206e+00</td><td>1.949794e+01</td><td>1.579754e+01</td><td>1.108136e+01</td><td>5.151058e+01</td><td>1.048485e+01</td><td>3.551011e+01</td><td>4.452958e+00</td><td>1.363195e+01</td><td>⋯</td><td>7.118021e-01</td><td>1.060189e+01</td><td> 0.237101536</td><td>3.834708e+00</td><td>2.058891e+00</td><td>1.410078e+00</td><td>4.349138e+00</td><td>7.245651e+00</td><td>9.670045e-01</td><td>3.128688e+00</td></tr>\n",
       "\t<tr><th scope=row>IL13</th><td>2.912806e+00</td><td>6.079737e-01</td><td>5.501335e+00</td><td>3.758952e+00</td><td>2.664031e+00</td><td>5.374215e+00</td><td>2.712814e+00</td><td>7.564335e-01</td><td>8.067670e-01</td><td>4.738776e+00</td><td>⋯</td><td>1.850539e+00</td><td>9.674194e-02</td><td> 0.280349403</td><td>1.683614e+00</td><td>1.766834e+00</td><td>7.065086e-01</td><td>1.302238e+00</td><td>1.195602e+00</td><td>5.836324e-01</td><td>1.329069e+00</td></tr>\n",
       "\t<tr><th scope=row>IL1B</th><td>0.000000e+00</td><td>0.000000e+00</td><td>0.000000e+00</td><td>0.000000e+00</td><td>0.000000e+00</td><td>0.000000e+00</td><td>0.000000e+00</td><td>0.000000e+00</td><td>0.000000e+00</td><td>0.000000e+00</td><td>⋯</td><td>0.000000e+00</td><td>0.000000e+00</td><td> 0.000000000</td><td>0.000000e+00</td><td>0.000000e+00</td><td>0.000000e+00</td><td>0.000000e+00</td><td>0.000000e+00</td><td>0.000000e+00</td><td>0.000000e+00</td></tr>\n",
       "\t<tr><th scope=row>IL2</th><td>2.857483e+03</td><td>3.793422e+00</td><td>1.182696e+03</td><td>8.972783e+02</td><td>2.804474e+00</td><td>6.104134e-02</td><td>6.218385e+02</td><td>4.617701e+00</td><td>3.609353e+00</td><td>1.119410e+03</td><td>⋯</td><td>1.491203e+00</td><td>6.277585e+02</td><td> 3.793422109</td><td>1.120712e+01</td><td>1.736996e+01</td><td>3.609353e+00</td><td>5.016312e+01</td><td>5.157836e+07</td><td>1.892017e+01</td><td>5.851949e+01</td></tr>\n",
       "\t<tr><th scope=row>IL4</th><td>4.195632e-04</td><td>2.835994e-04</td><td>8.517294e-04</td><td>1.391461e-03</td><td>2.602134e-04</td><td>1.167069e-03</td><td>3.568361e-04</td><td>2.835994e-04</td><td>3.600673e-04</td><td>4.471864e-04</td><td>⋯</td><td>3.939843e-04</td><td>5.724343e-04</td><td> 0.000129764</td><td>3.515818e-04</td><td>3.855086e-04</td><td>1.211661e-04</td><td>4.701676e-04</td><td>3.600673e-04</td><td>1.812148e-04</td><td>4.363292e-04</td></tr>\n",
       "\t<tr><th scope=row>IL6</th><td>0.000000e+00</td><td>0.000000e+00</td><td>0.000000e+00</td><td>0.000000e+00</td><td>0.000000e+00</td><td>0.000000e+00</td><td>0.000000e+00</td><td>0.000000e+00</td><td>0.000000e+00</td><td>0.000000e+00</td><td>⋯</td><td>0.000000e+00</td><td>0.000000e+00</td><td> 0.000000000</td><td>0.000000e+00</td><td>0.000000e+00</td><td>0.000000e+00</td><td>0.000000e+00</td><td>0.000000e+00</td><td>0.000000e+00</td><td>0.000000e+00</td></tr>\n",
       "\t<tr><th scope=row>IL8</th><td>7.264807e+00</td><td>1.715148e+00</td><td>4.549850e+00</td><td>8.680783e+00</td><td>4.863412e+00</td><td>7.587370e+00</td><td>2.736965e+00</td><td>2.667378e+00</td><td>2.311162e+00</td><td>4.494157e+00</td><td>⋯</td><td>1.118915e+00</td><td>5.428529e+00</td><td> 1.764137417</td><td>9.893222e+00</td><td>2.437373e+00</td><td>2.130910e+00</td><td>1.838623e+00</td><td>1.745500e+00</td><td>2.727237e+00</td><td>2.063247e+00</td></tr>\n",
       "\t<tr><th scope=row>IP10</th><td>0.000000e+00</td><td>0.000000e+00</td><td>0.000000e+00</td><td>0.000000e+00</td><td>0.000000e+00</td><td>0.000000e+00</td><td>0.000000e+00</td><td>0.000000e+00</td><td>0.000000e+00</td><td>0.000000e+00</td><td>⋯</td><td>0.000000e+00</td><td>0.000000e+00</td><td> 0.000000000</td><td>0.000000e+00</td><td>0.000000e+00</td><td>0.000000e+00</td><td>0.000000e+00</td><td>0.000000e+00</td><td>0.000000e+00</td><td>0.000000e+00</td></tr>\n",
       "\t<tr><th scope=row>Noradrenaline</th><td>8.634712e+01</td><td>1.880238e+02</td><td>4.588528e+01</td><td>1.282839e+02</td><td>1.837953e+01</td><td>8.565013e+01</td><td>1.162458e+01</td><td>1.168647e+02</td><td>8.136105e+01</td><td>4.362501e+01</td><td>⋯</td><td>8.209918e+01</td><td>2.969353e+01</td><td>49.751094080</td><td>3.068599e+01</td><td>6.944215e+01</td><td>4.453062e+01</td><td>6.076710e+01</td><td>1.492243e+02</td><td>1.116355e+02</td><td>6.651745e+01</td></tr>\n",
       "\t<tr><th scope=row>TNFa</th><td>0.000000e+00</td><td>0.000000e+00</td><td>0.000000e+00</td><td>0.000000e+00</td><td>0.000000e+00</td><td>0.000000e+00</td><td>0.000000e+00</td><td>0.000000e+00</td><td>0.000000e+00</td><td>0.000000e+00</td><td>⋯</td><td>0.000000e+00</td><td>0.000000e+00</td><td> 0.000000000</td><td>0.000000e+00</td><td>0.000000e+00</td><td>0.000000e+00</td><td>0.000000e+00</td><td>0.000000e+00</td><td>0.000000e+00</td><td>0.000000e+00</td></tr>\n",
       "</tbody>\n",
       "</table>\n"
      ],
      "text/latex": [
       "A data.frame: 17 × 63\n",
       "\\begin{tabular}{r|lllllllllllllllllllll}\n",
       "  & CS\\_1 & CS\\_10 & CS\\_11 & CS\\_12 & CS\\_13 & CS\\_14 & CS\\_15 & CS\\_16 & CS\\_17 & CS\\_18 & ⋯ & NS\\_54 & NS\\_55 & NS\\_56 & NS\\_57 & NS\\_58 & NS\\_59 & NS\\_60 & NS\\_61 & NS\\_62 & NS\\_63\\\\\n",
       "  & <dbl> & <dbl> & <dbl> & <dbl> & <dbl> & <dbl> & <dbl> & <dbl> & <dbl> & <dbl> & ⋯ & <dbl> & <dbl> & <dbl> & <dbl> & <dbl> & <dbl> & <dbl> & <dbl> & <dbl> & <dbl>\\\\\n",
       "\\hline\n",
       "\tCRP & 0.000000e+00 & 0.000000e+00 & 0.000000e+00 & 0.000000e+00 & 0.000000e+00 & 0.000000e+00 & 0.000000e+00 & 0.000000e+00 & 0.000000e+00 & 0.000000e+00 & ⋯ & 0.000000e+00 & 0.000000e+00 &  0.000000000 & 0.000000e+00 & 0.000000e+00 & 0.000000e+00 & 0.000000e+00 & 0.000000e+00 & 0.000000e+00 & 0.000000e+00\\\\\n",
       "\tEpinephrine & 3.002440e-01 & 3.607928e-01 &           NA & 2.690253e-01 & 2.344736e-01 & 2.996330e-01 & 4.897782e-01 & 6.080983e-01 & 5.010548e-01 & 3.977886e-01 & ⋯ &           NA & 2.134204e-01 &           NA & 5.144977e-01 & 3.141313e-01 & 3.440169e-01 &           NA & 4.505604e-01 & 3.246302e-01 & 4.802793e-01\\\\\n",
       "\tFibrinogen & 0.000000e+00 & 0.000000e+00 & 0.000000e+00 & 0.000000e+00 & 0.000000e+00 & 0.000000e+00 & 0.000000e+00 & 0.000000e+00 & 0.000000e+00 & 0.000000e+00 & ⋯ & 0.000000e+00 & 0.000000e+00 &  0.000000000 & 0.000000e+00 & 0.000000e+00 & 0.000000e+00 & 0.000000e+00 & 0.000000e+00 & 0.000000e+00 & 0.000000e+00\\\\\n",
       "\tHba1c & 0.000000e+00 & 0.000000e+00 & 0.000000e+00 & 0.000000e+00 & 0.000000e+00 & 0.000000e+00 & 0.000000e+00 & 0.000000e+00 & 0.000000e+00 & 0.000000e+00 & ⋯ & 0.000000e+00 & 0.000000e+00 &  0.000000000 & 0.000000e+00 & 0.000000e+00 & 0.000000e+00 & 0.000000e+00 & 0.000000e+00 & 0.000000e+00 & 0.000000e+00\\\\\n",
       "\tHDL & 2.164238e+02 & 6.266891e+01 & 1.514023e+02 & 3.222466e+02 & 1.943302e+02 & 1.797586e+02 & 1.356898e+02 & 1.076019e+02 & 2.133738e+02 & 2.047818e+02 & ⋯ & 1.280296e+02 & 2.438712e+02 & 82.280728233 & 1.403591e+02 & 1.254029e+02 & 1.070875e+02 & 1.165688e+02 & 2.057763e+02 & 9.484772e+01 & 9.430964e+01\\\\\n",
       "\tIFNg & 0.000000e+00 & 0.000000e+00 & 0.000000e+00 & 0.000000e+00 & 0.000000e+00 & 0.000000e+00 & 0.000000e+00 & 0.000000e+00 & 0.000000e+00 & 0.000000e+00 & ⋯ & 0.000000e+00 & 0.000000e+00 &  0.000000000 & 0.000000e+00 & 0.000000e+00 & 0.000000e+00 & 0.000000e+00 & 0.000000e+00 & 0.000000e+00 & 0.000000e+00\\\\\n",
       "\tIL10 & 9.120242e-02 & 3.458360e-02 & 4.399703e-02 & 6.513554e-02 & 4.626367e-02 & 9.209684e-02 & 6.496353e-02 & 5.371670e-02 & 3.908812e-02 & 6.389235e-02 & ⋯ & 3.308166e-02 & 5.542343e-02 &  0.037586820 & 1.031467e-01 & 2.631988e-02 & 4.734202e-02 & 3.402039e-02 & 3.354138e-01 & 7.320141e-02 & 5.371670e-02\\\\\n",
       "\tIL12p70 & 1.133582e+01 & 2.345206e+00 & 1.949794e+01 & 1.579754e+01 & 1.108136e+01 & 5.151058e+01 & 1.048485e+01 & 3.551011e+01 & 4.452958e+00 & 1.363195e+01 & ⋯ & 7.118021e-01 & 1.060189e+01 &  0.237101536 & 3.834708e+00 & 2.058891e+00 & 1.410078e+00 & 4.349138e+00 & 7.245651e+00 & 9.670045e-01 & 3.128688e+00\\\\\n",
       "\tIL13 & 2.912806e+00 & 6.079737e-01 & 5.501335e+00 & 3.758952e+00 & 2.664031e+00 & 5.374215e+00 & 2.712814e+00 & 7.564335e-01 & 8.067670e-01 & 4.738776e+00 & ⋯ & 1.850539e+00 & 9.674194e-02 &  0.280349403 & 1.683614e+00 & 1.766834e+00 & 7.065086e-01 & 1.302238e+00 & 1.195602e+00 & 5.836324e-01 & 1.329069e+00\\\\\n",
       "\tIL1B & 0.000000e+00 & 0.000000e+00 & 0.000000e+00 & 0.000000e+00 & 0.000000e+00 & 0.000000e+00 & 0.000000e+00 & 0.000000e+00 & 0.000000e+00 & 0.000000e+00 & ⋯ & 0.000000e+00 & 0.000000e+00 &  0.000000000 & 0.000000e+00 & 0.000000e+00 & 0.000000e+00 & 0.000000e+00 & 0.000000e+00 & 0.000000e+00 & 0.000000e+00\\\\\n",
       "\tIL2 & 2.857483e+03 & 3.793422e+00 & 1.182696e+03 & 8.972783e+02 & 2.804474e+00 & 6.104134e-02 & 6.218385e+02 & 4.617701e+00 & 3.609353e+00 & 1.119410e+03 & ⋯ & 1.491203e+00 & 6.277585e+02 &  3.793422109 & 1.120712e+01 & 1.736996e+01 & 3.609353e+00 & 5.016312e+01 & 5.157836e+07 & 1.892017e+01 & 5.851949e+01\\\\\n",
       "\tIL4 & 4.195632e-04 & 2.835994e-04 & 8.517294e-04 & 1.391461e-03 & 2.602134e-04 & 1.167069e-03 & 3.568361e-04 & 2.835994e-04 & 3.600673e-04 & 4.471864e-04 & ⋯ & 3.939843e-04 & 5.724343e-04 &  0.000129764 & 3.515818e-04 & 3.855086e-04 & 1.211661e-04 & 4.701676e-04 & 3.600673e-04 & 1.812148e-04 & 4.363292e-04\\\\\n",
       "\tIL6 & 0.000000e+00 & 0.000000e+00 & 0.000000e+00 & 0.000000e+00 & 0.000000e+00 & 0.000000e+00 & 0.000000e+00 & 0.000000e+00 & 0.000000e+00 & 0.000000e+00 & ⋯ & 0.000000e+00 & 0.000000e+00 &  0.000000000 & 0.000000e+00 & 0.000000e+00 & 0.000000e+00 & 0.000000e+00 & 0.000000e+00 & 0.000000e+00 & 0.000000e+00\\\\\n",
       "\tIL8 & 7.264807e+00 & 1.715148e+00 & 4.549850e+00 & 8.680783e+00 & 4.863412e+00 & 7.587370e+00 & 2.736965e+00 & 2.667378e+00 & 2.311162e+00 & 4.494157e+00 & ⋯ & 1.118915e+00 & 5.428529e+00 &  1.764137417 & 9.893222e+00 & 2.437373e+00 & 2.130910e+00 & 1.838623e+00 & 1.745500e+00 & 2.727237e+00 & 2.063247e+00\\\\\n",
       "\tIP10 & 0.000000e+00 & 0.000000e+00 & 0.000000e+00 & 0.000000e+00 & 0.000000e+00 & 0.000000e+00 & 0.000000e+00 & 0.000000e+00 & 0.000000e+00 & 0.000000e+00 & ⋯ & 0.000000e+00 & 0.000000e+00 &  0.000000000 & 0.000000e+00 & 0.000000e+00 & 0.000000e+00 & 0.000000e+00 & 0.000000e+00 & 0.000000e+00 & 0.000000e+00\\\\\n",
       "\tNoradrenaline & 8.634712e+01 & 1.880238e+02 & 4.588528e+01 & 1.282839e+02 & 1.837953e+01 & 8.565013e+01 & 1.162458e+01 & 1.168647e+02 & 8.136105e+01 & 4.362501e+01 & ⋯ & 8.209918e+01 & 2.969353e+01 & 49.751094080 & 3.068599e+01 & 6.944215e+01 & 4.453062e+01 & 6.076710e+01 & 1.492243e+02 & 1.116355e+02 & 6.651745e+01\\\\\n",
       "\tTNFa & 0.000000e+00 & 0.000000e+00 & 0.000000e+00 & 0.000000e+00 & 0.000000e+00 & 0.000000e+00 & 0.000000e+00 & 0.000000e+00 & 0.000000e+00 & 0.000000e+00 & ⋯ & 0.000000e+00 & 0.000000e+00 &  0.000000000 & 0.000000e+00 & 0.000000e+00 & 0.000000e+00 & 0.000000e+00 & 0.000000e+00 & 0.000000e+00 & 0.000000e+00\\\\\n",
       "\\end{tabular}\n"
      ],
      "text/markdown": [
       "\n",
       "A data.frame: 17 × 63\n",
       "\n",
       "| <!--/--> | CS_1 &lt;dbl&gt; | CS_10 &lt;dbl&gt; | CS_11 &lt;dbl&gt; | CS_12 &lt;dbl&gt; | CS_13 &lt;dbl&gt; | CS_14 &lt;dbl&gt; | CS_15 &lt;dbl&gt; | CS_16 &lt;dbl&gt; | CS_17 &lt;dbl&gt; | CS_18 &lt;dbl&gt; | ⋯ ⋯ | NS_54 &lt;dbl&gt; | NS_55 &lt;dbl&gt; | NS_56 &lt;dbl&gt; | NS_57 &lt;dbl&gt; | NS_58 &lt;dbl&gt; | NS_59 &lt;dbl&gt; | NS_60 &lt;dbl&gt; | NS_61 &lt;dbl&gt; | NS_62 &lt;dbl&gt; | NS_63 &lt;dbl&gt; |\n",
       "|---|---|---|---|---|---|---|---|---|---|---|---|---|---|---|---|---|---|---|---|---|---|\n",
       "| CRP | 0.000000e+00 | 0.000000e+00 | 0.000000e+00 | 0.000000e+00 | 0.000000e+00 | 0.000000e+00 | 0.000000e+00 | 0.000000e+00 | 0.000000e+00 | 0.000000e+00 | ⋯ | 0.000000e+00 | 0.000000e+00 |  0.000000000 | 0.000000e+00 | 0.000000e+00 | 0.000000e+00 | 0.000000e+00 | 0.000000e+00 | 0.000000e+00 | 0.000000e+00 |\n",
       "| Epinephrine | 3.002440e-01 | 3.607928e-01 |           NA | 2.690253e-01 | 2.344736e-01 | 2.996330e-01 | 4.897782e-01 | 6.080983e-01 | 5.010548e-01 | 3.977886e-01 | ⋯ |           NA | 2.134204e-01 |           NA | 5.144977e-01 | 3.141313e-01 | 3.440169e-01 |           NA | 4.505604e-01 | 3.246302e-01 | 4.802793e-01 |\n",
       "| Fibrinogen | 0.000000e+00 | 0.000000e+00 | 0.000000e+00 | 0.000000e+00 | 0.000000e+00 | 0.000000e+00 | 0.000000e+00 | 0.000000e+00 | 0.000000e+00 | 0.000000e+00 | ⋯ | 0.000000e+00 | 0.000000e+00 |  0.000000000 | 0.000000e+00 | 0.000000e+00 | 0.000000e+00 | 0.000000e+00 | 0.000000e+00 | 0.000000e+00 | 0.000000e+00 |\n",
       "| Hba1c | 0.000000e+00 | 0.000000e+00 | 0.000000e+00 | 0.000000e+00 | 0.000000e+00 | 0.000000e+00 | 0.000000e+00 | 0.000000e+00 | 0.000000e+00 | 0.000000e+00 | ⋯ | 0.000000e+00 | 0.000000e+00 |  0.000000000 | 0.000000e+00 | 0.000000e+00 | 0.000000e+00 | 0.000000e+00 | 0.000000e+00 | 0.000000e+00 | 0.000000e+00 |\n",
       "| HDL | 2.164238e+02 | 6.266891e+01 | 1.514023e+02 | 3.222466e+02 | 1.943302e+02 | 1.797586e+02 | 1.356898e+02 | 1.076019e+02 | 2.133738e+02 | 2.047818e+02 | ⋯ | 1.280296e+02 | 2.438712e+02 | 82.280728233 | 1.403591e+02 | 1.254029e+02 | 1.070875e+02 | 1.165688e+02 | 2.057763e+02 | 9.484772e+01 | 9.430964e+01 |\n",
       "| IFNg | 0.000000e+00 | 0.000000e+00 | 0.000000e+00 | 0.000000e+00 | 0.000000e+00 | 0.000000e+00 | 0.000000e+00 | 0.000000e+00 | 0.000000e+00 | 0.000000e+00 | ⋯ | 0.000000e+00 | 0.000000e+00 |  0.000000000 | 0.000000e+00 | 0.000000e+00 | 0.000000e+00 | 0.000000e+00 | 0.000000e+00 | 0.000000e+00 | 0.000000e+00 |\n",
       "| IL10 | 9.120242e-02 | 3.458360e-02 | 4.399703e-02 | 6.513554e-02 | 4.626367e-02 | 9.209684e-02 | 6.496353e-02 | 5.371670e-02 | 3.908812e-02 | 6.389235e-02 | ⋯ | 3.308166e-02 | 5.542343e-02 |  0.037586820 | 1.031467e-01 | 2.631988e-02 | 4.734202e-02 | 3.402039e-02 | 3.354138e-01 | 7.320141e-02 | 5.371670e-02 |\n",
       "| IL12p70 | 1.133582e+01 | 2.345206e+00 | 1.949794e+01 | 1.579754e+01 | 1.108136e+01 | 5.151058e+01 | 1.048485e+01 | 3.551011e+01 | 4.452958e+00 | 1.363195e+01 | ⋯ | 7.118021e-01 | 1.060189e+01 |  0.237101536 | 3.834708e+00 | 2.058891e+00 | 1.410078e+00 | 4.349138e+00 | 7.245651e+00 | 9.670045e-01 | 3.128688e+00 |\n",
       "| IL13 | 2.912806e+00 | 6.079737e-01 | 5.501335e+00 | 3.758952e+00 | 2.664031e+00 | 5.374215e+00 | 2.712814e+00 | 7.564335e-01 | 8.067670e-01 | 4.738776e+00 | ⋯ | 1.850539e+00 | 9.674194e-02 |  0.280349403 | 1.683614e+00 | 1.766834e+00 | 7.065086e-01 | 1.302238e+00 | 1.195602e+00 | 5.836324e-01 | 1.329069e+00 |\n",
       "| IL1B | 0.000000e+00 | 0.000000e+00 | 0.000000e+00 | 0.000000e+00 | 0.000000e+00 | 0.000000e+00 | 0.000000e+00 | 0.000000e+00 | 0.000000e+00 | 0.000000e+00 | ⋯ | 0.000000e+00 | 0.000000e+00 |  0.000000000 | 0.000000e+00 | 0.000000e+00 | 0.000000e+00 | 0.000000e+00 | 0.000000e+00 | 0.000000e+00 | 0.000000e+00 |\n",
       "| IL2 | 2.857483e+03 | 3.793422e+00 | 1.182696e+03 | 8.972783e+02 | 2.804474e+00 | 6.104134e-02 | 6.218385e+02 | 4.617701e+00 | 3.609353e+00 | 1.119410e+03 | ⋯ | 1.491203e+00 | 6.277585e+02 |  3.793422109 | 1.120712e+01 | 1.736996e+01 | 3.609353e+00 | 5.016312e+01 | 5.157836e+07 | 1.892017e+01 | 5.851949e+01 |\n",
       "| IL4 | 4.195632e-04 | 2.835994e-04 | 8.517294e-04 | 1.391461e-03 | 2.602134e-04 | 1.167069e-03 | 3.568361e-04 | 2.835994e-04 | 3.600673e-04 | 4.471864e-04 | ⋯ | 3.939843e-04 | 5.724343e-04 |  0.000129764 | 3.515818e-04 | 3.855086e-04 | 1.211661e-04 | 4.701676e-04 | 3.600673e-04 | 1.812148e-04 | 4.363292e-04 |\n",
       "| IL6 | 0.000000e+00 | 0.000000e+00 | 0.000000e+00 | 0.000000e+00 | 0.000000e+00 | 0.000000e+00 | 0.000000e+00 | 0.000000e+00 | 0.000000e+00 | 0.000000e+00 | ⋯ | 0.000000e+00 | 0.000000e+00 |  0.000000000 | 0.000000e+00 | 0.000000e+00 | 0.000000e+00 | 0.000000e+00 | 0.000000e+00 | 0.000000e+00 | 0.000000e+00 |\n",
       "| IL8 | 7.264807e+00 | 1.715148e+00 | 4.549850e+00 | 8.680783e+00 | 4.863412e+00 | 7.587370e+00 | 2.736965e+00 | 2.667378e+00 | 2.311162e+00 | 4.494157e+00 | ⋯ | 1.118915e+00 | 5.428529e+00 |  1.764137417 | 9.893222e+00 | 2.437373e+00 | 2.130910e+00 | 1.838623e+00 | 1.745500e+00 | 2.727237e+00 | 2.063247e+00 |\n",
       "| IP10 | 0.000000e+00 | 0.000000e+00 | 0.000000e+00 | 0.000000e+00 | 0.000000e+00 | 0.000000e+00 | 0.000000e+00 | 0.000000e+00 | 0.000000e+00 | 0.000000e+00 | ⋯ | 0.000000e+00 | 0.000000e+00 |  0.000000000 | 0.000000e+00 | 0.000000e+00 | 0.000000e+00 | 0.000000e+00 | 0.000000e+00 | 0.000000e+00 | 0.000000e+00 |\n",
       "| Noradrenaline | 8.634712e+01 | 1.880238e+02 | 4.588528e+01 | 1.282839e+02 | 1.837953e+01 | 8.565013e+01 | 1.162458e+01 | 1.168647e+02 | 8.136105e+01 | 4.362501e+01 | ⋯ | 8.209918e+01 | 2.969353e+01 | 49.751094080 | 3.068599e+01 | 6.944215e+01 | 4.453062e+01 | 6.076710e+01 | 1.492243e+02 | 1.116355e+02 | 6.651745e+01 |\n",
       "| TNFa | 0.000000e+00 | 0.000000e+00 | 0.000000e+00 | 0.000000e+00 | 0.000000e+00 | 0.000000e+00 | 0.000000e+00 | 0.000000e+00 | 0.000000e+00 | 0.000000e+00 | ⋯ | 0.000000e+00 | 0.000000e+00 |  0.000000000 | 0.000000e+00 | 0.000000e+00 | 0.000000e+00 | 0.000000e+00 | 0.000000e+00 | 0.000000e+00 | 0.000000e+00 |\n",
       "\n"
      ],
      "text/plain": [
       "              CS_1         CS_10        CS_11        CS_12        CS_13       \n",
       "CRP           0.000000e+00 0.000000e+00 0.000000e+00 0.000000e+00 0.000000e+00\n",
       "Epinephrine   3.002440e-01 3.607928e-01           NA 2.690253e-01 2.344736e-01\n",
       "Fibrinogen    0.000000e+00 0.000000e+00 0.000000e+00 0.000000e+00 0.000000e+00\n",
       "Hba1c         0.000000e+00 0.000000e+00 0.000000e+00 0.000000e+00 0.000000e+00\n",
       "HDL           2.164238e+02 6.266891e+01 1.514023e+02 3.222466e+02 1.943302e+02\n",
       "IFNg          0.000000e+00 0.000000e+00 0.000000e+00 0.000000e+00 0.000000e+00\n",
       "IL10          9.120242e-02 3.458360e-02 4.399703e-02 6.513554e-02 4.626367e-02\n",
       "IL12p70       1.133582e+01 2.345206e+00 1.949794e+01 1.579754e+01 1.108136e+01\n",
       "IL13          2.912806e+00 6.079737e-01 5.501335e+00 3.758952e+00 2.664031e+00\n",
       "IL1B          0.000000e+00 0.000000e+00 0.000000e+00 0.000000e+00 0.000000e+00\n",
       "IL2           2.857483e+03 3.793422e+00 1.182696e+03 8.972783e+02 2.804474e+00\n",
       "IL4           4.195632e-04 2.835994e-04 8.517294e-04 1.391461e-03 2.602134e-04\n",
       "IL6           0.000000e+00 0.000000e+00 0.000000e+00 0.000000e+00 0.000000e+00\n",
       "IL8           7.264807e+00 1.715148e+00 4.549850e+00 8.680783e+00 4.863412e+00\n",
       "IP10          0.000000e+00 0.000000e+00 0.000000e+00 0.000000e+00 0.000000e+00\n",
       "Noradrenaline 8.634712e+01 1.880238e+02 4.588528e+01 1.282839e+02 1.837953e+01\n",
       "TNFa          0.000000e+00 0.000000e+00 0.000000e+00 0.000000e+00 0.000000e+00\n",
       "              CS_14        CS_15        CS_16        CS_17        CS_18       \n",
       "CRP           0.000000e+00 0.000000e+00 0.000000e+00 0.000000e+00 0.000000e+00\n",
       "Epinephrine   2.996330e-01 4.897782e-01 6.080983e-01 5.010548e-01 3.977886e-01\n",
       "Fibrinogen    0.000000e+00 0.000000e+00 0.000000e+00 0.000000e+00 0.000000e+00\n",
       "Hba1c         0.000000e+00 0.000000e+00 0.000000e+00 0.000000e+00 0.000000e+00\n",
       "HDL           1.797586e+02 1.356898e+02 1.076019e+02 2.133738e+02 2.047818e+02\n",
       "IFNg          0.000000e+00 0.000000e+00 0.000000e+00 0.000000e+00 0.000000e+00\n",
       "IL10          9.209684e-02 6.496353e-02 5.371670e-02 3.908812e-02 6.389235e-02\n",
       "IL12p70       5.151058e+01 1.048485e+01 3.551011e+01 4.452958e+00 1.363195e+01\n",
       "IL13          5.374215e+00 2.712814e+00 7.564335e-01 8.067670e-01 4.738776e+00\n",
       "IL1B          0.000000e+00 0.000000e+00 0.000000e+00 0.000000e+00 0.000000e+00\n",
       "IL2           6.104134e-02 6.218385e+02 4.617701e+00 3.609353e+00 1.119410e+03\n",
       "IL4           1.167069e-03 3.568361e-04 2.835994e-04 3.600673e-04 4.471864e-04\n",
       "IL6           0.000000e+00 0.000000e+00 0.000000e+00 0.000000e+00 0.000000e+00\n",
       "IL8           7.587370e+00 2.736965e+00 2.667378e+00 2.311162e+00 4.494157e+00\n",
       "IP10          0.000000e+00 0.000000e+00 0.000000e+00 0.000000e+00 0.000000e+00\n",
       "Noradrenaline 8.565013e+01 1.162458e+01 1.168647e+02 8.136105e+01 4.362501e+01\n",
       "TNFa          0.000000e+00 0.000000e+00 0.000000e+00 0.000000e+00 0.000000e+00\n",
       "              ⋯ NS_54        NS_55        NS_56        NS_57       \n",
       "CRP           ⋯ 0.000000e+00 0.000000e+00  0.000000000 0.000000e+00\n",
       "Epinephrine   ⋯           NA 2.134204e-01           NA 5.144977e-01\n",
       "Fibrinogen    ⋯ 0.000000e+00 0.000000e+00  0.000000000 0.000000e+00\n",
       "Hba1c         ⋯ 0.000000e+00 0.000000e+00  0.000000000 0.000000e+00\n",
       "HDL           ⋯ 1.280296e+02 2.438712e+02 82.280728233 1.403591e+02\n",
       "IFNg          ⋯ 0.000000e+00 0.000000e+00  0.000000000 0.000000e+00\n",
       "IL10          ⋯ 3.308166e-02 5.542343e-02  0.037586820 1.031467e-01\n",
       "IL12p70       ⋯ 7.118021e-01 1.060189e+01  0.237101536 3.834708e+00\n",
       "IL13          ⋯ 1.850539e+00 9.674194e-02  0.280349403 1.683614e+00\n",
       "IL1B          ⋯ 0.000000e+00 0.000000e+00  0.000000000 0.000000e+00\n",
       "IL2           ⋯ 1.491203e+00 6.277585e+02  3.793422109 1.120712e+01\n",
       "IL4           ⋯ 3.939843e-04 5.724343e-04  0.000129764 3.515818e-04\n",
       "IL6           ⋯ 0.000000e+00 0.000000e+00  0.000000000 0.000000e+00\n",
       "IL8           ⋯ 1.118915e+00 5.428529e+00  1.764137417 9.893222e+00\n",
       "IP10          ⋯ 0.000000e+00 0.000000e+00  0.000000000 0.000000e+00\n",
       "Noradrenaline ⋯ 8.209918e+01 2.969353e+01 49.751094080 3.068599e+01\n",
       "TNFa          ⋯ 0.000000e+00 0.000000e+00  0.000000000 0.000000e+00\n",
       "              NS_58        NS_59        NS_60        NS_61        NS_62       \n",
       "CRP           0.000000e+00 0.000000e+00 0.000000e+00 0.000000e+00 0.000000e+00\n",
       "Epinephrine   3.141313e-01 3.440169e-01           NA 4.505604e-01 3.246302e-01\n",
       "Fibrinogen    0.000000e+00 0.000000e+00 0.000000e+00 0.000000e+00 0.000000e+00\n",
       "Hba1c         0.000000e+00 0.000000e+00 0.000000e+00 0.000000e+00 0.000000e+00\n",
       "HDL           1.254029e+02 1.070875e+02 1.165688e+02 2.057763e+02 9.484772e+01\n",
       "IFNg          0.000000e+00 0.000000e+00 0.000000e+00 0.000000e+00 0.000000e+00\n",
       "IL10          2.631988e-02 4.734202e-02 3.402039e-02 3.354138e-01 7.320141e-02\n",
       "IL12p70       2.058891e+00 1.410078e+00 4.349138e+00 7.245651e+00 9.670045e-01\n",
       "IL13          1.766834e+00 7.065086e-01 1.302238e+00 1.195602e+00 5.836324e-01\n",
       "IL1B          0.000000e+00 0.000000e+00 0.000000e+00 0.000000e+00 0.000000e+00\n",
       "IL2           1.736996e+01 3.609353e+00 5.016312e+01 5.157836e+07 1.892017e+01\n",
       "IL4           3.855086e-04 1.211661e-04 4.701676e-04 3.600673e-04 1.812148e-04\n",
       "IL6           0.000000e+00 0.000000e+00 0.000000e+00 0.000000e+00 0.000000e+00\n",
       "IL8           2.437373e+00 2.130910e+00 1.838623e+00 1.745500e+00 2.727237e+00\n",
       "IP10          0.000000e+00 0.000000e+00 0.000000e+00 0.000000e+00 0.000000e+00\n",
       "Noradrenaline 6.944215e+01 4.453062e+01 6.076710e+01 1.492243e+02 1.116355e+02\n",
       "TNFa          0.000000e+00 0.000000e+00 0.000000e+00 0.000000e+00 0.000000e+00\n",
       "              NS_63       \n",
       "CRP           0.000000e+00\n",
       "Epinephrine   4.802793e-01\n",
       "Fibrinogen    0.000000e+00\n",
       "Hba1c         0.000000e+00\n",
       "HDL           9.430964e+01\n",
       "IFNg          0.000000e+00\n",
       "IL10          5.371670e-02\n",
       "IL12p70       3.128688e+00\n",
       "IL13          1.329069e+00\n",
       "IL1B          0.000000e+00\n",
       "IL2           5.851949e+01\n",
       "IL4           4.363292e-04\n",
       "IL6           0.000000e+00\n",
       "IL8           2.063247e+00\n",
       "IP10          0.000000e+00\n",
       "Noradrenaline 6.651745e+01\n",
       "TNFa          0.000000e+00"
      ]
     },
     "metadata": {},
     "output_type": "display_data"
    }
   ],
   "source": [
    "#mutate(wider_biomarker_df[,1:63], across(contains(\"_\"), ~.x*wider_biomarker_df$Coefficient))\n",
    "\n",
    "wider_biomarker_df[,1:63] %>%\n",
    "    # words\n",
    "    mutate(\n",
    "        across(contains(\"_\"), ~.x*wider_biomarker_df$Coefficient)) %>%\n",
    "    # removing rows with only zeros ADD MORE WORDS\n",
    "    "
   ]
  },
  {
   "cell_type": "code",
   "execution_count": null,
   "id": "9d129ae0-20a4-4f3f-9644-63c216b82656",
   "metadata": {},
   "outputs": [],
   "source": []
  }
 ],
 "metadata": {
  "kernelspec": {
   "display_name": "R",
   "language": "R",
   "name": "ir"
  },
  "language_info": {
   "codemirror_mode": "r",
   "file_extension": ".r",
   "mimetype": "text/x-r-source",
   "name": "R",
   "pygments_lexer": "r",
   "version": "4.3.1"
  }
 },
 "nbformat": 4,
 "nbformat_minor": 5
}
