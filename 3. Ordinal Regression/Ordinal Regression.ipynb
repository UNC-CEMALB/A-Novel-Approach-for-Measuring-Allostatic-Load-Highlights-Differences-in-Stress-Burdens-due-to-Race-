{
 "cells": [
  {
   "cell_type": "code",
   "execution_count": 1,
   "id": "9863b40f-c1d0-4b36-83a8-07055c92fe8f",
   "metadata": {},
   "outputs": [
    {
     "name": "stderr",
     "output_type": "stream",
     "text": [
      "── \u001b[1mAttaching core tidyverse packages\u001b[22m ──────────────────────── tidyverse 2.0.0 ──\n",
      "\u001b[32m✔\u001b[39m \u001b[34mdplyr    \u001b[39m 1.1.3     \u001b[32m✔\u001b[39m \u001b[34mreadr    \u001b[39m 2.1.4\n",
      "\u001b[32m✔\u001b[39m \u001b[34mforcats  \u001b[39m 1.0.0     \u001b[32m✔\u001b[39m \u001b[34mstringr  \u001b[39m 1.5.0\n",
      "\u001b[32m✔\u001b[39m \u001b[34mggplot2  \u001b[39m 3.4.3     \u001b[32m✔\u001b[39m \u001b[34mtibble   \u001b[39m 3.2.1\n",
      "\u001b[32m✔\u001b[39m \u001b[34mlubridate\u001b[39m 1.9.2     \u001b[32m✔\u001b[39m \u001b[34mtidyr    \u001b[39m 1.3.0\n",
      "\u001b[32m✔\u001b[39m \u001b[34mpurrr    \u001b[39m 1.0.2     \n",
      "── \u001b[1mConflicts\u001b[22m ────────────────────────────────────────── tidyverse_conflicts() ──\n",
      "\u001b[31m✖\u001b[39m \u001b[34mdplyr\u001b[39m::\u001b[32mfilter()\u001b[39m masks \u001b[34mstats\u001b[39m::filter()\n",
      "\u001b[31m✖\u001b[39m \u001b[34mdplyr\u001b[39m::\u001b[32mlag()\u001b[39m    masks \u001b[34mstats\u001b[39m::lag()\n",
      "\u001b[36mℹ\u001b[39m Use the conflicted package (\u001b[3m\u001b[34m<http://conflicted.r-lib.org/>\u001b[39m\u001b[23m) to force all conflicts to become errors\n",
      "\n",
      "Attaching package: ‘reshape2’\n",
      "\n",
      "\n",
      "The following object is masked from ‘package:tidyr’:\n",
      "\n",
      "    smiths\n",
      "\n",
      "\n"
     ]
    }
   ],
   "source": [
    "Output = ('/Users/alexis/Library/CloudStorage/OneDrive-UniversityofNorthCarolinaatChapelHill/CEMALB_DataAnalysisPM/Projects/P1012. Allostatic Load/P1012.3. Analyses/P1012.3.2. Ordinal Regression/Output')\n",
    "cur_date = \"060424\"\n",
    "\n",
    "library(readxl)\n",
    "library(openxlsx)\n",
    "library(tidyverse)\n",
    "library(ordinalNet)\n",
    "library(reshape2)\n",
    "\n",
    "# reading in file\n",
    "#biomarker_df = data.frame(read_excel(\"Input/Allostatic_Mediator_Data_050824.xlsx\", sheet = 2))\n",
    "bp_df = data.frame(read_excel(\"Input/Allostatic_Mediator_Data_050824.xlsx\", sheet = 4)) \n",
    "subject_info_df = data.frame(read_excel(\"Input/Subject_Info_050824.xlsx\", sheet = 2))\n",
    "mediator_scores_df = data.frame(read_excel(\"Input/Mediator_Scores_BP_Subjects_060324.xlsx\"))\n",
    "#mediator_scores_df$Race = as.character(mediator_scores_df$Race)"
   ]
  },
  {
   "cell_type": "code",
   "execution_count": 2,
   "id": "4eae0161-33b8-4c89-80c2-75116265c536",
   "metadata": {},
   "outputs": [
    {
     "data": {
      "text/html": [
       "<table class=\"dataframe\">\n",
       "<caption>A data.frame: 6 × 4</caption>\n",
       "<thead>\n",
       "\t<tr><th></th><th scope=col>Subject_ID</th><th scope=col>Systolic</th><th scope=col>Diastolic</th><th scope=col>BP_Classification</th></tr>\n",
       "\t<tr><th></th><th scope=col>&lt;chr&gt;</th><th scope=col>&lt;dbl&gt;</th><th scope=col>&lt;dbl&gt;</th><th scope=col>&lt;chr&gt;</th></tr>\n",
       "</thead>\n",
       "<tbody>\n",
       "\t<tr><th scope=row>1</th><td>CS_M_21_W_5 </td><td>114</td><td>70</td><td>N</td></tr>\n",
       "\t<tr><th scope=row>2</th><td>CS_M_24_W_8 </td><td>118</td><td>71</td><td>N</td></tr>\n",
       "\t<tr><th scope=row>3</th><td>CS_M_25_W_10</td><td>121</td><td>83</td><td>E</td></tr>\n",
       "\t<tr><th scope=row>4</th><td>CS_M_28_W_16</td><td>115</td><td>74</td><td>N</td></tr>\n",
       "\t<tr><th scope=row>5</th><td>CS_M_29_W_17</td><td>118</td><td>80</td><td>N</td></tr>\n",
       "\t<tr><th scope=row>6</th><td>CS_F_31_B_21</td><td>112</td><td>77</td><td>N</td></tr>\n",
       "</tbody>\n",
       "</table>\n"
      ],
      "text/latex": [
       "A data.frame: 6 × 4\n",
       "\\begin{tabular}{r|llll}\n",
       "  & Subject\\_ID & Systolic & Diastolic & BP\\_Classification\\\\\n",
       "  & <chr> & <dbl> & <dbl> & <chr>\\\\\n",
       "\\hline\n",
       "\t1 & CS\\_M\\_21\\_W\\_5  & 114 & 70 & N\\\\\n",
       "\t2 & CS\\_M\\_24\\_W\\_8  & 118 & 71 & N\\\\\n",
       "\t3 & CS\\_M\\_25\\_W\\_10 & 121 & 83 & E\\\\\n",
       "\t4 & CS\\_M\\_28\\_W\\_16 & 115 & 74 & N\\\\\n",
       "\t5 & CS\\_M\\_29\\_W\\_17 & 118 & 80 & N\\\\\n",
       "\t6 & CS\\_F\\_31\\_B\\_21 & 112 & 77 & N\\\\\n",
       "\\end{tabular}\n"
      ],
      "text/markdown": [
       "\n",
       "A data.frame: 6 × 4\n",
       "\n",
       "| <!--/--> | Subject_ID &lt;chr&gt; | Systolic &lt;dbl&gt; | Diastolic &lt;dbl&gt; | BP_Classification &lt;chr&gt; |\n",
       "|---|---|---|---|---|\n",
       "| 1 | CS_M_21_W_5  | 114 | 70 | N |\n",
       "| 2 | CS_M_24_W_8  | 118 | 71 | N |\n",
       "| 3 | CS_M_25_W_10 | 121 | 83 | E |\n",
       "| 4 | CS_M_28_W_16 | 115 | 74 | N |\n",
       "| 5 | CS_M_29_W_17 | 118 | 80 | N |\n",
       "| 6 | CS_F_31_B_21 | 112 | 77 | N |\n",
       "\n"
      ],
      "text/plain": [
       "  Subject_ID   Systolic Diastolic BP_Classification\n",
       "1 CS_M_21_W_5  114      70        N                \n",
       "2 CS_M_24_W_8  118      71        N                \n",
       "3 CS_M_25_W_10 121      83        E                \n",
       "4 CS_M_28_W_16 115      74        N                \n",
       "5 CS_M_29_W_17 118      80        N                \n",
       "6 CS_F_31_B_21 112      77        N                "
      ]
     },
     "metadata": {},
     "output_type": "display_data"
    },
    {
     "data": {
      "text/html": [
       "<table class=\"dataframe\">\n",
       "<caption>A data.frame: 6 × 8</caption>\n",
       "<thead>\n",
       "\t<tr><th></th><th scope=col>Study</th><th scope=col>Original_Subject_Number</th><th scope=col>Subject_ID</th><th scope=col>Subject_Number</th><th scope=col>Smoking_Status</th><th scope=col>Sex</th><th scope=col>Age</th><th scope=col>Race</th></tr>\n",
       "\t<tr><th></th><th scope=col>&lt;chr&gt;</th><th scope=col>&lt;dbl&gt;</th><th scope=col>&lt;chr&gt;</th><th scope=col>&lt;dbl&gt;</th><th scope=col>&lt;chr&gt;</th><th scope=col>&lt;chr&gt;</th><th scope=col>&lt;dbl&gt;</th><th scope=col>&lt;chr&gt;</th></tr>\n",
       "</thead>\n",
       "<tbody>\n",
       "\t<tr><th scope=row>1</th><td>FM2       </td><td> 97</td><td>CS_M_18_B_1</td><td>1</td><td>CS</td><td>M</td><td>18</td><td>B</td></tr>\n",
       "\t<tr><th scope=row>2</th><td>FM2       </td><td> 99</td><td>CS_F_20_W_2</td><td>2</td><td>CS</td><td>F</td><td>20</td><td>W</td></tr>\n",
       "\t<tr><th scope=row>3</th><td>FM2       </td><td>101</td><td>CS_F_20_W_3</td><td>3</td><td>CS</td><td>F</td><td>20</td><td>W</td></tr>\n",
       "\t<tr><th scope=row>4</th><td>FM2       </td><td> 98</td><td>CS_F_21_W_4</td><td>4</td><td>CS</td><td>F</td><td>21</td><td>W</td></tr>\n",
       "\t<tr><th scope=row>5</th><td>TCORS LAIV</td><td> 39</td><td>CS_M_21_W_5</td><td>5</td><td>CS</td><td>M</td><td>21</td><td>W</td></tr>\n",
       "\t<tr><th scope=row>6</th><td>FM2       </td><td>100</td><td>CS_F_22_W_6</td><td>6</td><td>CS</td><td>F</td><td>22</td><td>W</td></tr>\n",
       "</tbody>\n",
       "</table>\n"
      ],
      "text/latex": [
       "A data.frame: 6 × 8\n",
       "\\begin{tabular}{r|llllllll}\n",
       "  & Study & Original\\_Subject\\_Number & Subject\\_ID & Subject\\_Number & Smoking\\_Status & Sex & Age & Race\\\\\n",
       "  & <chr> & <dbl> & <chr> & <dbl> & <chr> & <chr> & <dbl> & <chr>\\\\\n",
       "\\hline\n",
       "\t1 & FM2        &  97 & CS\\_M\\_18\\_B\\_1 & 1 & CS & M & 18 & B\\\\\n",
       "\t2 & FM2        &  99 & CS\\_F\\_20\\_W\\_2 & 2 & CS & F & 20 & W\\\\\n",
       "\t3 & FM2        & 101 & CS\\_F\\_20\\_W\\_3 & 3 & CS & F & 20 & W\\\\\n",
       "\t4 & FM2        &  98 & CS\\_F\\_21\\_W\\_4 & 4 & CS & F & 21 & W\\\\\n",
       "\t5 & TCORS LAIV &  39 & CS\\_M\\_21\\_W\\_5 & 5 & CS & M & 21 & W\\\\\n",
       "\t6 & FM2        & 100 & CS\\_F\\_22\\_W\\_6 & 6 & CS & F & 22 & W\\\\\n",
       "\\end{tabular}\n"
      ],
      "text/markdown": [
       "\n",
       "A data.frame: 6 × 8\n",
       "\n",
       "| <!--/--> | Study &lt;chr&gt; | Original_Subject_Number &lt;dbl&gt; | Subject_ID &lt;chr&gt; | Subject_Number &lt;dbl&gt; | Smoking_Status &lt;chr&gt; | Sex &lt;chr&gt; | Age &lt;dbl&gt; | Race &lt;chr&gt; |\n",
       "|---|---|---|---|---|---|---|---|---|\n",
       "| 1 | FM2        |  97 | CS_M_18_B_1 | 1 | CS | M | 18 | B |\n",
       "| 2 | FM2        |  99 | CS_F_20_W_2 | 2 | CS | F | 20 | W |\n",
       "| 3 | FM2        | 101 | CS_F_20_W_3 | 3 | CS | F | 20 | W |\n",
       "| 4 | FM2        |  98 | CS_F_21_W_4 | 4 | CS | F | 21 | W |\n",
       "| 5 | TCORS LAIV |  39 | CS_M_21_W_5 | 5 | CS | M | 21 | W |\n",
       "| 6 | FM2        | 100 | CS_F_22_W_6 | 6 | CS | F | 22 | W |\n",
       "\n"
      ],
      "text/plain": [
       "  Study      Original_Subject_Number Subject_ID  Subject_Number Smoking_Status\n",
       "1 FM2         97                     CS_M_18_B_1 1              CS            \n",
       "2 FM2         99                     CS_F_20_W_2 2              CS            \n",
       "3 FM2        101                     CS_F_20_W_3 3              CS            \n",
       "4 FM2         98                     CS_F_21_W_4 4              CS            \n",
       "5 TCORS LAIV  39                     CS_M_21_W_5 5              CS            \n",
       "6 FM2        100                     CS_F_22_W_6 6              CS            \n",
       "  Sex Age Race\n",
       "1 M   18  B   \n",
       "2 F   20  W   \n",
       "3 F   20  W   \n",
       "4 F   21  W   \n",
       "5 M   21  W   \n",
       "6 F   22  W   "
      ]
     },
     "metadata": {},
     "output_type": "display_data"
    },
    {
     "data": {
      "text/html": [
       "<table class=\"dataframe\">\n",
       "<caption>A data.frame: 6 × 5</caption>\n",
       "<thead>\n",
       "\t<tr><th></th><th scope=col>Variable</th><th scope=col>Subject_ID</th><th scope=col>Mediator_Score</th><th scope=col>Smoking_Status</th><th scope=col>Race</th></tr>\n",
       "\t<tr><th></th><th scope=col>&lt;chr&gt;</th><th scope=col>&lt;chr&gt;</th><th scope=col>&lt;dbl&gt;</th><th scope=col>&lt;chr&gt;</th><th scope=col>&lt;chr&gt;</th></tr>\n",
       "</thead>\n",
       "<tbody>\n",
       "\t<tr><th scope=row>1</th><td>Cortisol</td><td>CS_M_21_W_5 </td><td>0.24743096</td><td>NA</td><td>NA</td></tr>\n",
       "\t<tr><th scope=row>2</th><td>Cortisol</td><td>CS_M_24_W_8 </td><td>0.31083055</td><td>NA</td><td>NA</td></tr>\n",
       "\t<tr><th scope=row>3</th><td>Cortisol</td><td>CS_M_25_W_10</td><td>0.13144609</td><td>NA</td><td>NA</td></tr>\n",
       "\t<tr><th scope=row>4</th><td>Cortisol</td><td>CS_M_28_W_16</td><td>0.06754252</td><td>NA</td><td>NA</td></tr>\n",
       "\t<tr><th scope=row>5</th><td>Cortisol</td><td>CS_M_29_W_17</td><td>0.44649218</td><td>NA</td><td>NA</td></tr>\n",
       "\t<tr><th scope=row>6</th><td>Cortisol</td><td>CS_F_31_B_21</td><td>0.21687581</td><td>NA</td><td>NA</td></tr>\n",
       "</tbody>\n",
       "</table>\n"
      ],
      "text/latex": [
       "A data.frame: 6 × 5\n",
       "\\begin{tabular}{r|lllll}\n",
       "  & Variable & Subject\\_ID & Mediator\\_Score & Smoking\\_Status & Race\\\\\n",
       "  & <chr> & <chr> & <dbl> & <chr> & <chr>\\\\\n",
       "\\hline\n",
       "\t1 & Cortisol & CS\\_M\\_21\\_W\\_5  & 0.24743096 & NA & NA\\\\\n",
       "\t2 & Cortisol & CS\\_M\\_24\\_W\\_8  & 0.31083055 & NA & NA\\\\\n",
       "\t3 & Cortisol & CS\\_M\\_25\\_W\\_10 & 0.13144609 & NA & NA\\\\\n",
       "\t4 & Cortisol & CS\\_M\\_28\\_W\\_16 & 0.06754252 & NA & NA\\\\\n",
       "\t5 & Cortisol & CS\\_M\\_29\\_W\\_17 & 0.44649218 & NA & NA\\\\\n",
       "\t6 & Cortisol & CS\\_F\\_31\\_B\\_21 & 0.21687581 & NA & NA\\\\\n",
       "\\end{tabular}\n"
      ],
      "text/markdown": [
       "\n",
       "A data.frame: 6 × 5\n",
       "\n",
       "| <!--/--> | Variable &lt;chr&gt; | Subject_ID &lt;chr&gt; | Mediator_Score &lt;dbl&gt; | Smoking_Status &lt;chr&gt; | Race &lt;chr&gt; |\n",
       "|---|---|---|---|---|---|\n",
       "| 1 | Cortisol | CS_M_21_W_5  | 0.24743096 | NA | NA |\n",
       "| 2 | Cortisol | CS_M_24_W_8  | 0.31083055 | NA | NA |\n",
       "| 3 | Cortisol | CS_M_25_W_10 | 0.13144609 | NA | NA |\n",
       "| 4 | Cortisol | CS_M_28_W_16 | 0.06754252 | NA | NA |\n",
       "| 5 | Cortisol | CS_M_29_W_17 | 0.44649218 | NA | NA |\n",
       "| 6 | Cortisol | CS_F_31_B_21 | 0.21687581 | NA | NA |\n",
       "\n"
      ],
      "text/plain": [
       "  Variable Subject_ID   Mediator_Score Smoking_Status Race\n",
       "1 Cortisol CS_M_21_W_5  0.24743096     NA             NA  \n",
       "2 Cortisol CS_M_24_W_8  0.31083055     NA             NA  \n",
       "3 Cortisol CS_M_25_W_10 0.13144609     NA             NA  \n",
       "4 Cortisol CS_M_28_W_16 0.06754252     NA             NA  \n",
       "5 Cortisol CS_M_29_W_17 0.44649218     NA             NA  \n",
       "6 Cortisol CS_F_31_B_21 0.21687581     NA             NA  "
      ]
     },
     "metadata": {},
     "output_type": "display_data"
    }
   ],
   "source": [
    "head(bp_df)\n",
    "head(subject_info_df)\n",
    "head(mediator_scores_df)"
   ]
  },
  {
   "cell_type": "markdown",
   "id": "93dedb52-1e14-4811-9dfa-cbb225fed96a",
   "metadata": {},
   "source": [
    "In this analysis, we're using [ordinal regression](https://www.statisticssolutions.com/free-resources/directory-of-statistical-analyses/ordinal-regression/) to predict blood pressure classification using mediator scores from 18 biomarkers. \n",
    "\n",
    "Starting by combining the dataframes. The `mediator_scores_df` needs to be split for each covariate group tested."
   ]
  },
  {
   "cell_type": "code",
   "execution_count": 3,
   "id": "81dcded5-675d-495f-972b-693d8ff29cac",
   "metadata": {},
   "outputs": [
    {
     "data": {
      "text/html": [
       "<table class=\"dataframe\">\n",
       "<caption>A tibble: 6 × 5</caption>\n",
       "<thead>\n",
       "\t<tr><th scope=col>Variable</th><th scope=col>Subject_ID</th><th scope=col>Mediator_Score</th><th scope=col>Smoking_Status</th><th scope=col>Race</th></tr>\n",
       "\t<tr><th scope=col>&lt;chr&gt;</th><th scope=col>&lt;chr&gt;</th><th scope=col>&lt;dbl&gt;</th><th scope=col>&lt;chr&gt;</th><th scope=col>&lt;chr&gt;</th></tr>\n",
       "</thead>\n",
       "<tbody>\n",
       "\t<tr><td>Cortisol</td><td>NS_F_21_B_37</td><td>0.4416750</td><td>NS</td><td>B</td></tr>\n",
       "\t<tr><td>Cortisol</td><td>NS_F_21_B_39</td><td>0.1358074</td><td>NS</td><td>B</td></tr>\n",
       "\t<tr><td>Cortisol</td><td>NS_F_27_B_50</td><td>1.0000000</td><td>NS</td><td>B</td></tr>\n",
       "\t<tr><td>Cortisol</td><td>NS_F_28_B_53</td><td>0.8294634</td><td>NS</td><td>B</td></tr>\n",
       "\t<tr><td>Cortisol</td><td>NS_F_32_B_56</td><td>0.4883275</td><td>NS</td><td>B</td></tr>\n",
       "\t<tr><td>Cortisol</td><td>NS_F_32_B_57</td><td>0.5678661</td><td>NS</td><td>B</td></tr>\n",
       "</tbody>\n",
       "</table>\n"
      ],
      "text/latex": [
       "A tibble: 6 × 5\n",
       "\\begin{tabular}{lllll}\n",
       " Variable & Subject\\_ID & Mediator\\_Score & Smoking\\_Status & Race\\\\\n",
       " <chr> & <chr> & <dbl> & <chr> & <chr>\\\\\n",
       "\\hline\n",
       "\t Cortisol & NS\\_F\\_21\\_B\\_37 & 0.4416750 & NS & B\\\\\n",
       "\t Cortisol & NS\\_F\\_21\\_B\\_39 & 0.1358074 & NS & B\\\\\n",
       "\t Cortisol & NS\\_F\\_27\\_B\\_50 & 1.0000000 & NS & B\\\\\n",
       "\t Cortisol & NS\\_F\\_28\\_B\\_53 & 0.8294634 & NS & B\\\\\n",
       "\t Cortisol & NS\\_F\\_32\\_B\\_56 & 0.4883275 & NS & B\\\\\n",
       "\t Cortisol & NS\\_F\\_32\\_B\\_57 & 0.5678661 & NS & B\\\\\n",
       "\\end{tabular}\n"
      ],
      "text/markdown": [
       "\n",
       "A tibble: 6 × 5\n",
       "\n",
       "| Variable &lt;chr&gt; | Subject_ID &lt;chr&gt; | Mediator_Score &lt;dbl&gt; | Smoking_Status &lt;chr&gt; | Race &lt;chr&gt; |\n",
       "|---|---|---|---|---|\n",
       "| Cortisol | NS_F_21_B_37 | 0.4416750 | NS | B |\n",
       "| Cortisol | NS_F_21_B_39 | 0.1358074 | NS | B |\n",
       "| Cortisol | NS_F_27_B_50 | 1.0000000 | NS | B |\n",
       "| Cortisol | NS_F_28_B_53 | 0.8294634 | NS | B |\n",
       "| Cortisol | NS_F_32_B_56 | 0.4883275 | NS | B |\n",
       "| Cortisol | NS_F_32_B_57 | 0.5678661 | NS | B |\n",
       "\n"
      ],
      "text/plain": [
       "  Variable Subject_ID   Mediator_Score Smoking_Status Race\n",
       "1 Cortisol NS_F_21_B_37 0.4416750      NS             B   \n",
       "2 Cortisol NS_F_21_B_39 0.1358074      NS             B   \n",
       "3 Cortisol NS_F_27_B_50 1.0000000      NS             B   \n",
       "4 Cortisol NS_F_28_B_53 0.8294634      NS             B   \n",
       "5 Cortisol NS_F_32_B_56 0.4883275      NS             B   \n",
       "6 Cortisol NS_F_32_B_57 0.5678661      NS             B   "
      ]
     },
     "metadata": {},
     "output_type": "display_data"
    }
   ],
   "source": [
    "# splitting the df based on group and race, to make the code more efficient\n",
    "split_mediator_df = mediator_scores_df %>%\n",
    "    group_by(Smoking_Status, Race) %>%\n",
    "    # splitting the df based on those variables\n",
    "    group_split()\n",
    "\n",
    "no_covariates_df = split_mediator_df[[4]]\n",
    "smoker_df = split_mediator_df[[2]]\n",
    "nonsmoker_df = split_mediator_df[[6]]\n",
    "black_nonsmoker_df = split_mediator_df[[5]]\n",
    "black_smoker_df = split_mediator_df[[1]]\n",
    "white_nonsmoker_df = split_mediator_df[[7]]\n",
    "white_smoker_df = split_mediator_df[[3]]\n",
    "\n",
    "# # viewing one of the dataframes \n",
    "head(black_nonsmoker_df)"
   ]
  },
  {
   "cell_type": "code",
   "execution_count": 18,
   "id": "5a21565a-4207-422e-bd1f-e57fc4ce8b43",
   "metadata": {},
   "outputs": [
    {
     "name": "stderr",
     "output_type": "stream",
     "text": [
      "\u001b[1m\u001b[22mJoining with `by = join_by(Subject_ID)`\n",
      "\u001b[1m\u001b[22mJoining with `by = join_by(Subject_ID)`\n",
      "\u001b[1m\u001b[22mJoining with `by = join_by(Subject_ID)`\n",
      "\u001b[1m\u001b[22mJoining with `by = join_by(Subject_ID)`\n",
      "\u001b[1m\u001b[22mJoining with `by = join_by(Subject_ID)`\n",
      "\u001b[1m\u001b[22mJoining with `by = join_by(Subject_ID)`\n",
      "\u001b[1m\u001b[22mJoining with `by = join_by(Subject_ID)`\n",
      "\u001b[1m\u001b[22mJoining with `by = join_by(Subject_ID)`\n",
      "\u001b[1m\u001b[22mJoining with `by = join_by(Subject_ID)`\n",
      "\u001b[1m\u001b[22mJoining with `by = join_by(Subject_ID)`\n",
      "\u001b[1m\u001b[22mJoining with `by = join_by(Subject_ID)`\n",
      "\u001b[1m\u001b[22mJoining with `by = join_by(Subject_ID)`\n",
      "\u001b[1m\u001b[22mJoining with `by = join_by(Subject_ID)`\n",
      "\u001b[1m\u001b[22mJoining with `by = join_by(Subject_ID)`\n"
     ]
    }
   ],
   "source": [
    "# creating a vector for variables that increase atherosclerotic risk\n",
    "# HDL decreases risk\n",
    "allostatic_load_biomarkers = c('Cortisol','Noradrenaline','Epinephrine','Hba1c','Fibrinogen','CRP', 'HDL')\n",
    "\n",
    "ordinal_regression = function(dataset){\n",
    "    # add words!!!!!\n",
    "    # creating 1 df\n",
    "    ordinal_regression_df = inner_join(bp_df[,c(1,4)], subject_info_df[,3:8]) %>%\n",
    "        # adding mediator scores data\n",
    "        inner_join(dataset[,1:3]) %>%\n",
    "        # obtaining allostatic load biomarkers only\n",
    "        filter(Variable %in% allostatic_load_biomarkers) %>%\n",
    "        pivot_wider(names_from = Variable, values_from = Mediator_Score)\n",
    "    \n",
    "    # turning BP into a factor\n",
    "    ordinal_regression_df$BP_Classification = factor(ordinal_regression_df$BP_Classification, levels = c(\"N\", \"E\", \"1\", '2'))\n",
    "\n",
    "    #reordering and removing some columns\n",
    "    ordinal_regression_df = ordinal_regression_df[,c(1,8:14,2)]\n",
    "\n",
    "    return(ordinal_regression_df)\n",
    "    }\n",
    "\n",
    "# calling fn\n",
    "reg_df = ordinal_regression(no_covariates_df)\n",
    "smoker_reg_df = ordinal_regression(smoker_df)\n",
    "nonsmoker_reg_df = ordinal_regression(nonsmoker_df)\n",
    "black_nonsmoker_reg_df = ordinal_regression(black_nonsmoker_df)\n",
    "black_smoker_reg_df = ordinal_regression(black_smoker_df)\n",
    "white_nonsmoker_reg_df = ordinal_regression(white_nonsmoker_df)\n",
    "white_smoker_reg_df = ordinal_regression(white_smoker_df)"
   ]
  },
  {
   "cell_type": "code",
   "execution_count": 27,
   "id": "fb1ed418-053f-4b77-a625-f236f975aded",
   "metadata": {},
   "outputs": [
    {
     "name": "stderr",
     "output_type": "stream",
     "text": [
      "Warning message in mirlsNet(xList, yMat, alpha, penaltyFactors, positiveID, linkfun, :\n",
      "“Reached outer loop iteration limit before convergence for at least one lambda value. Consider increasing maxiterOut.”\n",
      "Warning message in mirlsNet(xList, yMat, alpha, penaltyFactors, positiveID, linkfun, :\n",
      "“Reached outer loop iteration limit before convergence for at least one lambda value. Consider increasing maxiterOut.”\n"
     ]
    },
    {
     "data": {
      "text/html": [
       "<table class=\"dataframe\">\n",
       "<caption>A data.frame: 7 × 2</caption>\n",
       "<thead>\n",
       "\t<tr><th scope=col>Variable</th><th scope=col>Coefficient</th></tr>\n",
       "\t<tr><th scope=col>&lt;chr&gt;</th><th scope=col>&lt;dbl&gt;</th></tr>\n",
       "</thead>\n",
       "<tbody>\n",
       "\t<tr><td>Epinephrine  </td><td>0.55594942</td></tr>\n",
       "\t<tr><td>Fibrinogen   </td><td>0.25770925</td></tr>\n",
       "\t<tr><td>Noradrenaline</td><td>0.15662389</td></tr>\n",
       "\t<tr><td>Cortisol     </td><td>0.02971744</td></tr>\n",
       "\t<tr><td>Hba1c        </td><td>0.00000000</td></tr>\n",
       "\t<tr><td>CRP          </td><td>0.00000000</td></tr>\n",
       "\t<tr><td>HDL          </td><td>0.00000000</td></tr>\n",
       "</tbody>\n",
       "</table>\n"
      ],
      "text/latex": [
       "A data.frame: 7 × 2\n",
       "\\begin{tabular}{ll}\n",
       " Variable & Coefficient\\\\\n",
       " <chr> & <dbl>\\\\\n",
       "\\hline\n",
       "\t Epinephrine   & 0.55594942\\\\\n",
       "\t Fibrinogen    & 0.25770925\\\\\n",
       "\t Noradrenaline & 0.15662389\\\\\n",
       "\t Cortisol      & 0.02971744\\\\\n",
       "\t Hba1c         & 0.00000000\\\\\n",
       "\t CRP           & 0.00000000\\\\\n",
       "\t HDL           & 0.00000000\\\\\n",
       "\\end{tabular}\n"
      ],
      "text/markdown": [
       "\n",
       "A data.frame: 7 × 2\n",
       "\n",
       "| Variable &lt;chr&gt; | Coefficient &lt;dbl&gt; |\n",
       "|---|---|\n",
       "| Epinephrine   | 0.55594942 |\n",
       "| Fibrinogen    | 0.25770925 |\n",
       "| Noradrenaline | 0.15662389 |\n",
       "| Cortisol      | 0.02971744 |\n",
       "| Hba1c         | 0.00000000 |\n",
       "| CRP           | 0.00000000 |\n",
       "| HDL           | 0.00000000 |\n",
       "\n"
      ],
      "text/plain": [
       "  Variable      Coefficient\n",
       "1 Epinephrine   0.55594942 \n",
       "2 Fibrinogen    0.25770925 \n",
       "3 Noradrenaline 0.15662389 \n",
       "4 Cortisol      0.02971744 \n",
       "5 Hba1c         0.00000000 \n",
       "6 CRP           0.00000000 \n",
       "7 HDL           0.00000000 "
      ]
     },
     "metadata": {},
     "output_type": "display_data"
    }
   ],
   "source": [
    "# creating a vector of booleans that specifies whether or not the coefficient should be\n",
    "# positive (TRUE) or negative (FALSE), only HDL will be negative\n",
    "biomarker_coefficients = c(rep(TRUE, ncol(reg_df) - 2))\n",
    "\n",
    "estimateOrdWeights <- function(dataset, response, coefficients_magnitude){\n",
    "    # \"\"\"\n",
    "    # Creating a function to run ordinal regression to estimate ordinal weights of mediator data based\n",
    "    # on blood pressure classification\n",
    "    # :param (input): wide df with biomarker data, response variable, magnitude of the coefficients\n",
    "    # :output: 1 df with the ordinal weights\n",
    "    # \"\"\"\n",
    "    \n",
    "    # setting seed for reproducibility\n",
    "    set.seed(12)\n",
    "    \n",
    "    #get number of response levels\n",
    "    NoBins <- length(unique(dataset[[response]]))\n",
    "\n",
    "    #get number of features or slices\n",
    "    noSlices <- ncol(dataset) - 2\n",
    "\n",
    "    # HDL needs to be negative so we'll make all the values negative\n",
    "    dataset$HDL = dataset$HDL * -1\n",
    "    \n",
    "    # obtaining the features and converting into a matrix\n",
    "    feature_data <- as.matrix(dataset[,c(2:(ncol(dataset) - 1))])\n",
    "\n",
    "    # ordinal regression\n",
    "    # positiveID specifies whether or not each coefficient for each ind. variable should be constrained to be non-negative\n",
    "    regression_model <- ordinalNet(feature_data, dataset[[response]], positiveID = coefficients_magnitude, \n",
    "                            # lambdaVals defines how quickly your coefficients drop to 0\n",
    "                            # keeping it at 0 tries to minimize feature reduction\n",
    "                            # maxiterout defines the number of iterations before it stops\n",
    "                         lambdaVals = 0, maxiterOut = 150)\n",
    "    testW <- regression_model$coefs[NoBins:(noSlices + NoBins - 1)]\n",
    "\n",
    "    # rescaling the coefficients so that they sum to 1\n",
    "    normalizer = 1/sum(testW)\n",
    "    rescaled_weight <- testW * normalizer\n",
    "\n",
    "    # adding the variable names back in \n",
    "    test_weights_df = data.frame(Variable = colnames(feature_data), Coefficient = rescaled_weight) %>%\n",
    "        arrange(-Coefficient) \n",
    "    \n",
    "    return(test_weights_df)\n",
    "}\n",
    "\n",
    "# calling fn\n",
    "weights_df = estimateOrdWeights(reg_df, 'BP_Classification', biomarker_coefficients)\n",
    "smoker_weights_df = estimateOrdWeights(smoker_reg_df, 'BP_Classification', biomarker_coefficients)\n",
    "nonsmoker_weights_df = estimateOrdWeights(nonsmoker_reg_df, 'BP_Classification', biomarker_coefficients)\n",
    "black_nonsmoker_weights_df = estimateOrdWeights(black_nonsmoker_reg_df, 'BP_Classification', biomarker_coefficients)\n",
    "black_smoker_weights_df = estimateOrdWeights(black_smoker_reg_df, 'BP_Classification', biomarker_coefficients)\n",
    "white_nonsmoker_weights_df = estimateOrdWeights(white_nonsmoker_reg_df, 'BP_Classification', biomarker_coefficients)\n",
    "white_smoker_weights_df = estimateOrdWeights(white_smoker_reg_df, 'BP_Classification', biomarker_coefficients)\n",
    "\n",
    "weights_df"
   ]
  },
  {
   "cell_type": "markdown",
   "id": "83f580e0-19d4-436e-a87e-06dabef40b33",
   "metadata": {},
   "source": [
    "Based on the overall results with all 34 subjects, we can see that epinephrine had the largest (56%) contribution to blood pressure classification, while 3 variables were constrained to 0 having no impact on BP classification.\n",
    "\n",
    "# Allostatic Load Calculation using Linear Regression\n",
    "\n",
    "Now that we have these weights from the ordinal regression, we'll use a linear regression to calculate allostatic load scores for each subject using both the previously calculated mediator scores multiplied the ordinal weight for the 7 allostatic load biomarkers (cortisol, noradrenaline, epinephrine, HDL, Hba1c, fibrinogen, and CRP). The formula looks like...\n",
    "\n",
    "Allostatic Load = Cortisol ordinal weight * Cortisol score + CRP ordinal weight * CRP score..."
   ]
  },
  {
   "cell_type": "code",
   "execution_count": 33,
   "id": "74837d21-07ab-4d1e-a84c-521fb3ac8c4d",
   "metadata": {},
   "outputs": [
    {
     "name": "stderr",
     "output_type": "stream",
     "text": [
      "\u001b[1m\u001b[22mJoining with `by = join_by(Variable)`\n",
      "\u001b[1m\u001b[22mJoining with `by = join_by(Variable)`\n",
      "\u001b[1m\u001b[22mJoining with `by = join_by(Variable)`\n",
      "\u001b[1m\u001b[22mJoining with `by = join_by(Variable)`\n",
      "\u001b[1m\u001b[22mJoining with `by = join_by(Variable)`\n",
      "\u001b[1m\u001b[22mJoining with `by = join_by(Variable)`\n",
      "\u001b[1m\u001b[22mJoining with `by = join_by(Variable)`\n"
     ]
    },
    {
     "data": {
      "text/html": [
       "<table class=\"dataframe\">\n",
       "<caption>A data.frame: 6 × 2</caption>\n",
       "<thead>\n",
       "\t<tr><th></th><th scope=col>Allostatic_Load</th><th scope=col>Stratification</th></tr>\n",
       "\t<tr><th></th><th scope=col>&lt;dbl&gt;</th><th scope=col>&lt;chr&gt;</th></tr>\n",
       "</thead>\n",
       "<tbody>\n",
       "\t<tr><th scope=row>NS_F_27_B_50</th><td>0.6464005</td><td>None</td></tr>\n",
       "\t<tr><th scope=row>CS_M_28_W_16</th><td>0.6365527</td><td>None</td></tr>\n",
       "\t<tr><th scope=row>NS_F_23_W_41</th><td>0.6262244</td><td>None</td></tr>\n",
       "\t<tr><th scope=row>NS_F_38_B_61</th><td>0.6007436</td><td>None</td></tr>\n",
       "\t<tr><th scope=row>NS_F_32_B_57</th><td>0.5484291</td><td>None</td></tr>\n",
       "\t<tr><th scope=row>NS_F_21_B_37</th><td>0.5341852</td><td>None</td></tr>\n",
       "</tbody>\n",
       "</table>\n"
      ],
      "text/latex": [
       "A data.frame: 6 × 2\n",
       "\\begin{tabular}{r|ll}\n",
       "  & Allostatic\\_Load & Stratification\\\\\n",
       "  & <dbl> & <chr>\\\\\n",
       "\\hline\n",
       "\tNS\\_F\\_27\\_B\\_50 & 0.6464005 & None\\\\\n",
       "\tCS\\_M\\_28\\_W\\_16 & 0.6365527 & None\\\\\n",
       "\tNS\\_F\\_23\\_W\\_41 & 0.6262244 & None\\\\\n",
       "\tNS\\_F\\_38\\_B\\_61 & 0.6007436 & None\\\\\n",
       "\tNS\\_F\\_32\\_B\\_57 & 0.5484291 & None\\\\\n",
       "\tNS\\_F\\_21\\_B\\_37 & 0.5341852 & None\\\\\n",
       "\\end{tabular}\n"
      ],
      "text/markdown": [
       "\n",
       "A data.frame: 6 × 2\n",
       "\n",
       "| <!--/--> | Allostatic_Load &lt;dbl&gt; | Stratification &lt;chr&gt; |\n",
       "|---|---|---|\n",
       "| NS_F_27_B_50 | 0.6464005 | None |\n",
       "| CS_M_28_W_16 | 0.6365527 | None |\n",
       "| NS_F_23_W_41 | 0.6262244 | None |\n",
       "| NS_F_38_B_61 | 0.6007436 | None |\n",
       "| NS_F_32_B_57 | 0.5484291 | None |\n",
       "| NS_F_21_B_37 | 0.5341852 | None |\n",
       "\n"
      ],
      "text/plain": [
       "             Allostatic_Load Stratification\n",
       "NS_F_27_B_50 0.6464005       None          \n",
       "CS_M_28_W_16 0.6365527       None          \n",
       "NS_F_23_W_41 0.6262244       None          \n",
       "NS_F_38_B_61 0.6007436       None          \n",
       "NS_F_32_B_57 0.5484291       None          \n",
       "NS_F_21_B_37 0.5341852       None          "
      ]
     },
     "metadata": {},
     "output_type": "display_data"
    }
   ],
   "source": [
    "allostatic_load = function(ordinal_weights_df, mediator_scores_df, covariate){\n",
    "    # add words!!\n",
    "    \n",
    "    # combining the mediator scores with the ordinal weights into one dataframe\n",
    "    wider_weights_df = dcast(mediator_scores_df, Variable ~ Subject_ID, value.var = \"Mediator_Score\") %>% \n",
    "        inner_join(ordinal_weights_df) %>%\n",
    "        column_to_rownames(\"Variable\")\n",
    "\n",
    "    # multiplying the value of the mediator in each row by its respective ordinal\n",
    "    # weight found in the last column\n",
    "    multiplication_df = wider_weights_df %>%\n",
    "        select(-Coefficient) %>%\n",
    "        mutate(across(contains(\"_\"), ~.x*wider_weights_df$Coefficient))\n",
    "\n",
    "    # calculating allostatic load by summing by the columns\n",
    "    allostatic_load_df = data.frame(Allostatic_Load = apply(multiplication_df, 2, sum)) %>%\n",
    "        arrange(-Allostatic_Load) %>%\n",
    "        # adding a col that denotes the stratification\n",
    "        mutate(Stratification = covariate)\n",
    "\n",
    "    return(allostatic_load_df)\n",
    "    }\n",
    "\n",
    "# calling fn\n",
    "all_allostatic_df = allostatic_load(weights_df, no_covariates_df, \"None\")\n",
    "smoker_allostatic_df = allostatic_load(smoker_weights_df, smoker_df, \"CS\")\n",
    "nonsmoker_allostatic_df = allostatic_load(nonsmoker_weights_df, nonsmoker_df, \"NS\")\n",
    "black_nonsmoker_allostatic_df = allostatic_load(black_nonsmoker_weights_df, black_nonsmoker_df, \"NS + B\")\n",
    "black_smoker_allostatic_df = allostatic_load(black_smoker_weights_df, black_smoker_df, \"CS + B\")\n",
    "white_nonsmoker_allostatic_df = allostatic_load(white_nonsmoker_weights_df, white_nonsmoker_df, \"NS + W\")\n",
    "white_smoker_allostatic_df = allostatic_load(white_smoker_weights_df, white_smoker_df, \"CS + W\")\n",
    "\n",
    "head(all_allostatic_df)"
   ]
  },
  {
   "cell_type": "code",
   "execution_count": 34,
   "id": "3c9774aa-45a3-424f-8bef-a3ec7feaac92",
   "metadata": {},
   "outputs": [
    {
     "data": {
      "text/html": [
       "<table class=\"dataframe\">\n",
       "<caption>A data.frame: 6 × 2</caption>\n",
       "<thead>\n",
       "\t<tr><th></th><th scope=col>Allostatic_Load</th><th scope=col>Stratification</th></tr>\n",
       "\t<tr><th></th><th scope=col>&lt;dbl&gt;</th><th scope=col>&lt;chr&gt;</th></tr>\n",
       "</thead>\n",
       "<tbody>\n",
       "\t<tr><th scope=row>NS_F_27_B_50</th><td>0.6464005</td><td>None</td></tr>\n",
       "\t<tr><th scope=row>CS_M_28_W_16</th><td>0.6365527</td><td>None</td></tr>\n",
       "\t<tr><th scope=row>NS_F_23_W_41</th><td>0.6262244</td><td>None</td></tr>\n",
       "\t<tr><th scope=row>NS_F_38_B_61</th><td>0.6007436</td><td>None</td></tr>\n",
       "\t<tr><th scope=row>NS_F_32_B_57</th><td>0.5484291</td><td>None</td></tr>\n",
       "\t<tr><th scope=row>NS_F_21_B_37</th><td>0.5341852</td><td>None</td></tr>\n",
       "</tbody>\n",
       "</table>\n"
      ],
      "text/latex": [
       "A data.frame: 6 × 2\n",
       "\\begin{tabular}{r|ll}\n",
       "  & Allostatic\\_Load & Stratification\\\\\n",
       "  & <dbl> & <chr>\\\\\n",
       "\\hline\n",
       "\tNS\\_F\\_27\\_B\\_50 & 0.6464005 & None\\\\\n",
       "\tCS\\_M\\_28\\_W\\_16 & 0.6365527 & None\\\\\n",
       "\tNS\\_F\\_23\\_W\\_41 & 0.6262244 & None\\\\\n",
       "\tNS\\_F\\_38\\_B\\_61 & 0.6007436 & None\\\\\n",
       "\tNS\\_F\\_32\\_B\\_57 & 0.5484291 & None\\\\\n",
       "\tNS\\_F\\_21\\_B\\_37 & 0.5341852 & None\\\\\n",
       "\\end{tabular}\n"
      ],
      "text/markdown": [
       "\n",
       "A data.frame: 6 × 2\n",
       "\n",
       "| <!--/--> | Allostatic_Load &lt;dbl&gt; | Stratification &lt;chr&gt; |\n",
       "|---|---|---|\n",
       "| NS_F_27_B_50 | 0.6464005 | None |\n",
       "| CS_M_28_W_16 | 0.6365527 | None |\n",
       "| NS_F_23_W_41 | 0.6262244 | None |\n",
       "| NS_F_38_B_61 | 0.6007436 | None |\n",
       "| NS_F_32_B_57 | 0.5484291 | None |\n",
       "| NS_F_21_B_37 | 0.5341852 | None |\n",
       "\n"
      ],
      "text/plain": [
       "             Allostatic_Load Stratification\n",
       "NS_F_27_B_50 0.6464005       None          \n",
       "CS_M_28_W_16 0.6365527       None          \n",
       "NS_F_23_W_41 0.6262244       None          \n",
       "NS_F_38_B_61 0.6007436       None          \n",
       "NS_F_32_B_57 0.5484291       None          \n",
       "NS_F_21_B_37 0.5341852       None          "
      ]
     },
     "metadata": {},
     "output_type": "display_data"
    }
   ],
   "source": [
    "# combining into 1 df \n",
    "allostatic_df = rbind(all_allostatic_df, smoker_allostatic_df, nonsmoker_allostatic_df, black_nonsmoker_allostatic_df,\n",
    "                      black_smoker_allostatic_df, white_nonsmoker_allostatic_df, white_smoker_allostatic_df)\n",
    "\n",
    "head(allostatic_df)"
   ]
  },
  {
   "cell_type": "code",
   "execution_count": 50,
   "id": "72858518-9527-45ea-adb9-03d321133e98",
   "metadata": {},
   "outputs": [
    {
     "data": {
      "text/html": [
       "<table class=\"dataframe\">\n",
       "<caption>A data.frame: 7 × 6</caption>\n",
       "<thead>\n",
       "\t<tr><th scope=col>Min</th><th scope=col>1st Quartile</th><th scope=col>Median</th><th scope=col>Mean</th><th scope=col>3rd Quartile</th><th scope=col>Max</th></tr>\n",
       "\t<tr><th scope=col>&lt;chr&gt;</th><th scope=col>&lt;chr&gt;</th><th scope=col>&lt;chr&gt;</th><th scope=col>&lt;chr&gt;</th><th scope=col>&lt;chr&gt;</th><th scope=col>&lt;chr&gt;</th></tr>\n",
       "</thead>\n",
       "<tbody>\n",
       "\t<tr><td>0.0473154587990443 </td><td>0.222031356751587</td><td>0.317579370204926</td><td>0.475603124702992</td><td>0.646400486283046</td><td>None  </td></tr>\n",
       "\t<tr><td>0.00668567724376996</td><td>0.115447541196695</td><td>0.316473780126944</td><td>0.484824715098937</td><td>0.95374043422709 </td><td>CS    </td></tr>\n",
       "\t<tr><td>0.00653572026952985</td><td>0.112536686654793</td><td>0.24364024542474 </td><td>0.447067958069341</td><td>0.912865077341964</td><td>NS    </td></tr>\n",
       "\t<tr><td>0.172888910618316  </td><td>0.232367055706593</td><td>0.478969231378742</td><td>0.581981242652988</td><td>0.84968128742046 </td><td>NS + B</td></tr>\n",
       "\t<tr><td>-0.144220781054255 </td><td>0.217389501360755</td><td>0.384699912165989</td><td>0.471906221240395</td><td>0.850777032570847</td><td>CS + B</td></tr>\n",
       "\t<tr><td>0.00979024072757351</td><td>0.142797974929403</td><td>0.193858020668922</td><td>0.805598402433754</td><td>0.989759180085761</td><td>NS + W</td></tr>\n",
       "\t<tr><td>0.0259611216083772 </td><td>0.165331487263094</td><td>0.243446644944437</td><td>0.575176003779962</td><td>0.802572290796885</td><td>CS + W</td></tr>\n",
       "</tbody>\n",
       "</table>\n"
      ],
      "text/latex": [
       "A data.frame: 7 × 6\n",
       "\\begin{tabular}{llllll}\n",
       " Min & 1st Quartile & Median & Mean & 3rd Quartile & Max\\\\\n",
       " <chr> & <chr> & <chr> & <chr> & <chr> & <chr>\\\\\n",
       "\\hline\n",
       "\t 0.0473154587990443  & 0.222031356751587 & 0.317579370204926 & 0.475603124702992 & 0.646400486283046 & None  \\\\\n",
       "\t 0.00668567724376996 & 0.115447541196695 & 0.316473780126944 & 0.484824715098937 & 0.95374043422709  & CS    \\\\\n",
       "\t 0.00653572026952985 & 0.112536686654793 & 0.24364024542474  & 0.447067958069341 & 0.912865077341964 & NS    \\\\\n",
       "\t 0.172888910618316   & 0.232367055706593 & 0.478969231378742 & 0.581981242652988 & 0.84968128742046  & NS + B\\\\\n",
       "\t -0.144220781054255  & 0.217389501360755 & 0.384699912165989 & 0.471906221240395 & 0.850777032570847 & CS + B\\\\\n",
       "\t 0.00979024072757351 & 0.142797974929403 & 0.193858020668922 & 0.805598402433754 & 0.989759180085761 & NS + W\\\\\n",
       "\t 0.0259611216083772  & 0.165331487263094 & 0.243446644944437 & 0.575176003779962 & 0.802572290796885 & CS + W\\\\\n",
       "\\end{tabular}\n"
      ],
      "text/markdown": [
       "\n",
       "A data.frame: 7 × 6\n",
       "\n",
       "| Min &lt;chr&gt; | 1st Quartile &lt;chr&gt; | Median &lt;chr&gt; | Mean &lt;chr&gt; | 3rd Quartile &lt;chr&gt; | Max &lt;chr&gt; |\n",
       "|---|---|---|---|---|---|\n",
       "| 0.0473154587990443  | 0.222031356751587 | 0.317579370204926 | 0.475603124702992 | 0.646400486283046 | None   |\n",
       "| 0.00668567724376996 | 0.115447541196695 | 0.316473780126944 | 0.484824715098937 | 0.95374043422709  | CS     |\n",
       "| 0.00653572026952985 | 0.112536686654793 | 0.24364024542474  | 0.447067958069341 | 0.912865077341964 | NS     |\n",
       "| 0.172888910618316   | 0.232367055706593 | 0.478969231378742 | 0.581981242652988 | 0.84968128742046  | NS + B |\n",
       "| -0.144220781054255  | 0.217389501360755 | 0.384699912165989 | 0.471906221240395 | 0.850777032570847 | CS + B |\n",
       "| 0.00979024072757351 | 0.142797974929403 | 0.193858020668922 | 0.805598402433754 | 0.989759180085761 | NS + W |\n",
       "| 0.0259611216083772  | 0.165331487263094 | 0.243446644944437 | 0.575176003779962 | 0.802572290796885 | CS + W |\n",
       "\n"
      ],
      "text/plain": [
       "  Min                 1st Quartile      Median            Mean             \n",
       "1 0.0473154587990443  0.222031356751587 0.317579370204926 0.475603124702992\n",
       "2 0.00668567724376996 0.115447541196695 0.316473780126944 0.484824715098937\n",
       "3 0.00653572026952985 0.112536686654793 0.24364024542474  0.447067958069341\n",
       "4 0.172888910618316   0.232367055706593 0.478969231378742 0.581981242652988\n",
       "5 -0.144220781054255  0.217389501360755 0.384699912165989 0.471906221240395\n",
       "6 0.00979024072757351 0.142797974929403 0.193858020668922 0.805598402433754\n",
       "7 0.0259611216083772  0.165331487263094 0.243446644944437 0.575176003779962\n",
       "  3rd Quartile      Max   \n",
       "1 0.646400486283046 None  \n",
       "2 0.95374043422709  CS    \n",
       "3 0.912865077341964 NS    \n",
       "4 0.84968128742046  NS + B\n",
       "5 0.850777032570847 CS + B\n",
       "6 0.989759180085761 NS + W\n",
       "7 0.802572290796885 CS + W"
      ]
     },
     "metadata": {},
     "output_type": "display_data"
    }
   ],
   "source": [
    "# using descriptive stats to explore differences\n",
    "five_sum_df = data.frame()\n",
    "for (i in 1:length(unique(allostatic_df$Stratification))){\n",
    "    filtered_df = allostatic_df %>%\n",
    "        filter(Stratification == unique(allostatic_df$Stratification)[i])\n",
    "\n",
    "    values_vector = c(fivenum(filtered_df$Allostatic_Load), filtered_df$Stratification[i])\n",
    "    five_sum_df = rbind(five_sum_df, values_vector)\n",
    "\n",
    "    # adding col names\n",
    "    colnames(five_sum_df) = c(\"Min\", \"1st Quartile\", \"Median\", \"Mean\", \"3rd Quartile\", \"Max\")\n",
    "\n",
    "    }\n",
    "\n",
    "five_sum_df"
   ]
  },
  {
   "cell_type": "code",
   "execution_count": 58,
   "id": "5f5302dc-2158-48e8-8a92-d20f108b787a",
   "metadata": {},
   "outputs": [
    {
     "data": {
      "image/png": "[encoded data removed]",
      "text/plain": [
       "plot without title"
      ]
     },
     "metadata": {
      "image/png": {
       "height": 420,
       "width": 720
      }
     },
     "output_type": "display_data"
    }
   ],
   "source": [
    "options(repr.plot.width=12, repr.plot.height=7) #changing size\n",
    "\n",
    "ggplot(data = allostatic_df, aes(y = Allostatic_Load, x = Stratification)) + \n",
    "  geom_boxplot() +\n",
    "  geom_point()"
   ]
  },
  {
   "cell_type": "code",
   "execution_count": null,
   "id": "2e6ccbc7-fede-4ed8-8b14-24e392f2d777",
   "metadata": {},
   "outputs": [],
   "source": []
  }
 ],
 "metadata": {
  "kernelspec": {
   "display_name": "R",
   "language": "R",
   "name": "ir"
  },
  "language_info": {
   "codemirror_mode": "r",
   "file_extension": ".r",
   "mimetype": "text/x-r-source",
   "name": "R",
   "pygments_lexer": "r",
   "version": "4.3.1"
  }
 },
 "nbformat": 4,
 "nbformat_minor": 5
}
