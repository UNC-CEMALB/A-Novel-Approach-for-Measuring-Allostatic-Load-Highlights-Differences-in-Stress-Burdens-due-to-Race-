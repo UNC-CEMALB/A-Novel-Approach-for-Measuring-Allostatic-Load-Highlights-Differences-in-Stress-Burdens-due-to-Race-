{
 "cells": [
  {
   "cell_type": "code",
   "execution_count": 1,
   "id": "9863b40f-c1d0-4b36-83a8-07055c92fe8f",
   "metadata": {},
   "outputs": [
    {
     "name": "stderr",
     "output_type": "stream",
     "text": [
      "── \u001b[1mAttaching core tidyverse packages\u001b[22m ──────────────────────── tidyverse 2.0.0 ──\n",
      "\u001b[32m✔\u001b[39m \u001b[34mdplyr    \u001b[39m 1.1.3     \u001b[32m✔\u001b[39m \u001b[34mreadr    \u001b[39m 2.1.4\n",
      "\u001b[32m✔\u001b[39m \u001b[34mforcats  \u001b[39m 1.0.0     \u001b[32m✔\u001b[39m \u001b[34mstringr  \u001b[39m 1.5.0\n",
      "\u001b[32m✔\u001b[39m \u001b[34mggplot2  \u001b[39m 3.4.3     \u001b[32m✔\u001b[39m \u001b[34mtibble   \u001b[39m 3.2.1\n",
      "\u001b[32m✔\u001b[39m \u001b[34mlubridate\u001b[39m 1.9.2     \u001b[32m✔\u001b[39m \u001b[34mtidyr    \u001b[39m 1.3.0\n",
      "\u001b[32m✔\u001b[39m \u001b[34mpurrr    \u001b[39m 1.0.2     \n",
      "── \u001b[1mConflicts\u001b[22m ────────────────────────────────────────── tidyverse_conflicts() ──\n",
      "\u001b[31m✖\u001b[39m \u001b[34mdplyr\u001b[39m::\u001b[32mfilter()\u001b[39m masks \u001b[34mstats\u001b[39m::filter()\n",
      "\u001b[31m✖\u001b[39m \u001b[34mdplyr\u001b[39m::\u001b[32mlag()\u001b[39m    masks \u001b[34mstats\u001b[39m::lag()\n",
      "\u001b[36mℹ\u001b[39m Use the conflicted package (\u001b[3m\u001b[34m<http://conflicted.r-lib.org/>\u001b[39m\u001b[23m) to force all conflicts to become errors\n",
      "\n",
      "Attaching package: ‘reshape2’\n",
      "\n",
      "\n",
      "The following object is masked from ‘package:tidyr’:\n",
      "\n",
      "    smiths\n",
      "\n",
      "\n"
     ]
    }
   ],
   "source": [
    "Output = ('/Users/alexis/Library/CloudStorage/OneDrive-UniversityofNorthCarolinaatChapelHill/CEMALB_DataAnalysisPM/Projects/P1012. Allostatic Load/P1012.3. Analyses/P1012.3.2. Ordinal Regression/Output')\n",
    "cur_date = \"060124\"\n",
    "\n",
    "library(readxl)\n",
    "library(openxlsx)\n",
    "library(tidyverse)\n",
    "library(ordinalNet)\n",
    "library(reshape2)\n",
    "\n",
    "# reading in file\n",
    "#biomarker_df = data.frame(read_excel(\"Input/Allostatic_Mediator_Data_050824.xlsx\", sheet = 2)) # GO BACK FOR IMPUTED VALUES!!!\n",
    "bp_df = data.frame(read_excel(\"Input/Allostatic_Mediator_Data_050824.xlsx\", sheet = 4)) \n",
    "subject_info_df = data.frame(read_excel(\"Input/Subject_Info_050824.xlsx\", sheet = 2))\n",
    "mediator_scores_df = data.frame(read_excel(\"Input/Mediator_Scores_BP_Subjects_052724.xlsx\"))"
   ]
  },
  {
   "cell_type": "code",
   "execution_count": 2,
   "id": "4eae0161-33b8-4c89-80c2-75116265c536",
   "metadata": {},
   "outputs": [
    {
     "data": {
      "text/html": [
       "<table class=\"dataframe\">\n",
       "<caption>A data.frame: 6 × 4</caption>\n",
       "<thead>\n",
       "\t<tr><th></th><th scope=col>Subject_ID</th><th scope=col>Systolic</th><th scope=col>Diastolic</th><th scope=col>BP_Classification</th></tr>\n",
       "\t<tr><th></th><th scope=col>&lt;chr&gt;</th><th scope=col>&lt;dbl&gt;</th><th scope=col>&lt;dbl&gt;</th><th scope=col>&lt;chr&gt;</th></tr>\n",
       "</thead>\n",
       "<tbody>\n",
       "\t<tr><th scope=row>1</th><td>CS_26</td><td>133</td><td>86</td><td>1</td></tr>\n",
       "\t<tr><th scope=row>2</th><td>CS_29</td><td>116</td><td>84</td><td>N</td></tr>\n",
       "\t<tr><th scope=row>3</th><td>CS_17</td><td>118</td><td>80</td><td>N</td></tr>\n",
       "\t<tr><th scope=row>4</th><td>NS_63</td><td>122</td><td>85</td><td>E</td></tr>\n",
       "\t<tr><th scope=row>5</th><td>CS_21</td><td>112</td><td>77</td><td>N</td></tr>\n",
       "\t<tr><th scope=row>6</th><td>CS_27</td><td>131</td><td>91</td><td>1</td></tr>\n",
       "</tbody>\n",
       "</table>\n"
      ],
      "text/latex": [
       "A data.frame: 6 × 4\n",
       "\\begin{tabular}{r|llll}\n",
       "  & Subject\\_ID & Systolic & Diastolic & BP\\_Classification\\\\\n",
       "  & <chr> & <dbl> & <dbl> & <chr>\\\\\n",
       "\\hline\n",
       "\t1 & CS\\_26 & 133 & 86 & 1\\\\\n",
       "\t2 & CS\\_29 & 116 & 84 & N\\\\\n",
       "\t3 & CS\\_17 & 118 & 80 & N\\\\\n",
       "\t4 & NS\\_63 & 122 & 85 & E\\\\\n",
       "\t5 & CS\\_21 & 112 & 77 & N\\\\\n",
       "\t6 & CS\\_27 & 131 & 91 & 1\\\\\n",
       "\\end{tabular}\n"
      ],
      "text/markdown": [
       "\n",
       "A data.frame: 6 × 4\n",
       "\n",
       "| <!--/--> | Subject_ID &lt;chr&gt; | Systolic &lt;dbl&gt; | Diastolic &lt;dbl&gt; | BP_Classification &lt;chr&gt; |\n",
       "|---|---|---|---|---|\n",
       "| 1 | CS_26 | 133 | 86 | 1 |\n",
       "| 2 | CS_29 | 116 | 84 | N |\n",
       "| 3 | CS_17 | 118 | 80 | N |\n",
       "| 4 | NS_63 | 122 | 85 | E |\n",
       "| 5 | CS_21 | 112 | 77 | N |\n",
       "| 6 | CS_27 | 131 | 91 | 1 |\n",
       "\n"
      ],
      "text/plain": [
       "  Subject_ID Systolic Diastolic BP_Classification\n",
       "1 CS_26      133      86        1                \n",
       "2 CS_29      116      84        N                \n",
       "3 CS_17      118      80        N                \n",
       "4 NS_63      122      85        E                \n",
       "5 CS_21      112      77        N                \n",
       "6 CS_27      131      91        1                "
      ]
     },
     "metadata": {},
     "output_type": "display_data"
    },
    {
     "data": {
      "text/html": [
       "<table class=\"dataframe\">\n",
       "<caption>A data.frame: 6 × 8</caption>\n",
       "<thead>\n",
       "\t<tr><th></th><th scope=col>Study</th><th scope=col>Original_Subject_Number</th><th scope=col>Subject_Number</th><th scope=col>Group</th><th scope=col>Subject_ID</th><th scope=col>Sex</th><th scope=col>Age</th><th scope=col>Race</th></tr>\n",
       "\t<tr><th></th><th scope=col>&lt;chr&gt;</th><th scope=col>&lt;dbl&gt;</th><th scope=col>&lt;dbl&gt;</th><th scope=col>&lt;chr&gt;</th><th scope=col>&lt;chr&gt;</th><th scope=col>&lt;chr&gt;</th><th scope=col>&lt;dbl&gt;</th><th scope=col>&lt;chr&gt;</th></tr>\n",
       "</thead>\n",
       "<tbody>\n",
       "\t<tr><th scope=row>1</th><td>FM2       </td><td> 97</td><td>1</td><td>CS</td><td>CS_1</td><td>M</td><td>18</td><td>B</td></tr>\n",
       "\t<tr><th scope=row>2</th><td>FM2       </td><td> 99</td><td>2</td><td>CS</td><td>CS_2</td><td>F</td><td>20</td><td>W</td></tr>\n",
       "\t<tr><th scope=row>3</th><td>FM2       </td><td>101</td><td>3</td><td>CS</td><td>CS_3</td><td>F</td><td>20</td><td>W</td></tr>\n",
       "\t<tr><th scope=row>4</th><td>FM2       </td><td> 98</td><td>4</td><td>CS</td><td>CS_4</td><td>F</td><td>21</td><td>W</td></tr>\n",
       "\t<tr><th scope=row>5</th><td>TCORS LAIV</td><td> 39</td><td>5</td><td>CS</td><td>CS_5</td><td>M</td><td>21</td><td>W</td></tr>\n",
       "\t<tr><th scope=row>6</th><td>FM2       </td><td>100</td><td>6</td><td>CS</td><td>CS_6</td><td>F</td><td>22</td><td>W</td></tr>\n",
       "</tbody>\n",
       "</table>\n"
      ],
      "text/latex": [
       "A data.frame: 6 × 8\n",
       "\\begin{tabular}{r|llllllll}\n",
       "  & Study & Original\\_Subject\\_Number & Subject\\_Number & Group & Subject\\_ID & Sex & Age & Race\\\\\n",
       "  & <chr> & <dbl> & <dbl> & <chr> & <chr> & <chr> & <dbl> & <chr>\\\\\n",
       "\\hline\n",
       "\t1 & FM2        &  97 & 1 & CS & CS\\_1 & M & 18 & B\\\\\n",
       "\t2 & FM2        &  99 & 2 & CS & CS\\_2 & F & 20 & W\\\\\n",
       "\t3 & FM2        & 101 & 3 & CS & CS\\_3 & F & 20 & W\\\\\n",
       "\t4 & FM2        &  98 & 4 & CS & CS\\_4 & F & 21 & W\\\\\n",
       "\t5 & TCORS LAIV &  39 & 5 & CS & CS\\_5 & M & 21 & W\\\\\n",
       "\t6 & FM2        & 100 & 6 & CS & CS\\_6 & F & 22 & W\\\\\n",
       "\\end{tabular}\n"
      ],
      "text/markdown": [
       "\n",
       "A data.frame: 6 × 8\n",
       "\n",
       "| <!--/--> | Study &lt;chr&gt; | Original_Subject_Number &lt;dbl&gt; | Subject_Number &lt;dbl&gt; | Group &lt;chr&gt; | Subject_ID &lt;chr&gt; | Sex &lt;chr&gt; | Age &lt;dbl&gt; | Race &lt;chr&gt; |\n",
       "|---|---|---|---|---|---|---|---|---|\n",
       "| 1 | FM2        |  97 | 1 | CS | CS_1 | M | 18 | B |\n",
       "| 2 | FM2        |  99 | 2 | CS | CS_2 | F | 20 | W |\n",
       "| 3 | FM2        | 101 | 3 | CS | CS_3 | F | 20 | W |\n",
       "| 4 | FM2        |  98 | 4 | CS | CS_4 | F | 21 | W |\n",
       "| 5 | TCORS LAIV |  39 | 5 | CS | CS_5 | M | 21 | W |\n",
       "| 6 | FM2        | 100 | 6 | CS | CS_6 | F | 22 | W |\n",
       "\n"
      ],
      "text/plain": [
       "  Study      Original_Subject_Number Subject_Number Group Subject_ID Sex Age\n",
       "1 FM2         97                     1              CS    CS_1       M   18 \n",
       "2 FM2         99                     2              CS    CS_2       F   20 \n",
       "3 FM2        101                     3              CS    CS_3       F   20 \n",
       "4 FM2         98                     4              CS    CS_4       F   21 \n",
       "5 TCORS LAIV  39                     5              CS    CS_5       M   21 \n",
       "6 FM2        100                     6              CS    CS_6       F   22 \n",
       "  Race\n",
       "1 B   \n",
       "2 W   \n",
       "3 W   \n",
       "4 W   \n",
       "5 W   \n",
       "6 W   "
      ]
     },
     "metadata": {},
     "output_type": "display_data"
    },
    {
     "data": {
      "text/html": [
       "<table class=\"dataframe\">\n",
       "<caption>A data.frame: 6 × 3</caption>\n",
       "<thead>\n",
       "\t<tr><th></th><th scope=col>Variable</th><th scope=col>Subject_ID</th><th scope=col>Mediator_Score</th></tr>\n",
       "\t<tr><th></th><th scope=col>&lt;chr&gt;</th><th scope=col>&lt;chr&gt;</th><th scope=col>&lt;dbl&gt;</th></tr>\n",
       "</thead>\n",
       "<tbody>\n",
       "\t<tr><th scope=row>1</th><td>Cortisol</td><td>CS_5 </td><td>0.24743096</td></tr>\n",
       "\t<tr><th scope=row>2</th><td>Cortisol</td><td>CS_8 </td><td>0.31083055</td></tr>\n",
       "\t<tr><th scope=row>3</th><td>Cortisol</td><td>CS_10</td><td>0.13144609</td></tr>\n",
       "\t<tr><th scope=row>4</th><td>Cortisol</td><td>CS_16</td><td>0.06754252</td></tr>\n",
       "\t<tr><th scope=row>5</th><td>Cortisol</td><td>CS_17</td><td>0.44649218</td></tr>\n",
       "\t<tr><th scope=row>6</th><td>Cortisol</td><td>CS_21</td><td>0.21687581</td></tr>\n",
       "</tbody>\n",
       "</table>\n"
      ],
      "text/latex": [
       "A data.frame: 6 × 3\n",
       "\\begin{tabular}{r|lll}\n",
       "  & Variable & Subject\\_ID & Mediator\\_Score\\\\\n",
       "  & <chr> & <chr> & <dbl>\\\\\n",
       "\\hline\n",
       "\t1 & Cortisol & CS\\_5  & 0.24743096\\\\\n",
       "\t2 & Cortisol & CS\\_8  & 0.31083055\\\\\n",
       "\t3 & Cortisol & CS\\_10 & 0.13144609\\\\\n",
       "\t4 & Cortisol & CS\\_16 & 0.06754252\\\\\n",
       "\t5 & Cortisol & CS\\_17 & 0.44649218\\\\\n",
       "\t6 & Cortisol & CS\\_21 & 0.21687581\\\\\n",
       "\\end{tabular}\n"
      ],
      "text/markdown": [
       "\n",
       "A data.frame: 6 × 3\n",
       "\n",
       "| <!--/--> | Variable &lt;chr&gt; | Subject_ID &lt;chr&gt; | Mediator_Score &lt;dbl&gt; |\n",
       "|---|---|---|---|\n",
       "| 1 | Cortisol | CS_5  | 0.24743096 |\n",
       "| 2 | Cortisol | CS_8  | 0.31083055 |\n",
       "| 3 | Cortisol | CS_10 | 0.13144609 |\n",
       "| 4 | Cortisol | CS_16 | 0.06754252 |\n",
       "| 5 | Cortisol | CS_17 | 0.44649218 |\n",
       "| 6 | Cortisol | CS_21 | 0.21687581 |\n",
       "\n"
      ],
      "text/plain": [
       "  Variable Subject_ID Mediator_Score\n",
       "1 Cortisol CS_5       0.24743096    \n",
       "2 Cortisol CS_8       0.31083055    \n",
       "3 Cortisol CS_10      0.13144609    \n",
       "4 Cortisol CS_16      0.06754252    \n",
       "5 Cortisol CS_17      0.44649218    \n",
       "6 Cortisol CS_21      0.21687581    "
      ]
     },
     "metadata": {},
     "output_type": "display_data"
    }
   ],
   "source": [
    "head(bp_df)\n",
    "head(subject_info_df)\n",
    "head(mediator_scores_df)"
   ]
  },
  {
   "cell_type": "markdown",
   "id": "93dedb52-1e14-4811-9dfa-cbb225fed96a",
   "metadata": {},
   "source": [
    "In this analysis, we're using [ordinal regression](https://www.statisticssolutions.com/free-resources/directory-of-statistical-analyses/ordinal-regression/) to predict blood pressure classification using mediator scores from 18 biomarkers. "
   ]
  },
  {
   "cell_type": "code",
   "execution_count": 3,
   "id": "c921b84d-4579-4f4f-b1d5-7705201c472d",
   "metadata": {},
   "outputs": [
    {
     "name": "stderr",
     "output_type": "stream",
     "text": [
      "\u001b[1m\u001b[22mJoining with `by = join_by(Subject_ID)`\n",
      "\u001b[1m\u001b[22mJoining with `by = join_by(Subject_ID)`\n"
     ]
    },
    {
     "data": {
      "text/html": [
       "<table class=\"dataframe\">\n",
       "<caption>A tibble: 6 × 24</caption>\n",
       "<thead>\n",
       "\t<tr><th scope=col>Subject_ID</th><th scope=col>Group</th><th scope=col>Sex</th><th scope=col>Age</th><th scope=col>Race</th><th scope=col>Cortisol</th><th scope=col>Noradrenaline</th><th scope=col>Hba1c</th><th scope=col>Fibrinogen</th><th scope=col>CRP</th><th scope=col>⋯</th><th scope=col>IL13</th><th scope=col>IL1B</th><th scope=col>IL2</th><th scope=col>IL4</th><th scope=col>IL6</th><th scope=col>IL8</th><th scope=col>TNFa</th><th scope=col>Epinephrine</th><th scope=col>HDL</th><th scope=col>BP_Classification</th></tr>\n",
       "\t<tr><th scope=col>&lt;chr&gt;</th><th scope=col>&lt;chr&gt;</th><th scope=col>&lt;chr&gt;</th><th scope=col>&lt;dbl&gt;</th><th scope=col>&lt;chr&gt;</th><th scope=col>&lt;dbl&gt;</th><th scope=col>&lt;dbl&gt;</th><th scope=col>&lt;dbl&gt;</th><th scope=col>&lt;dbl&gt;</th><th scope=col>&lt;dbl&gt;</th><th scope=col>⋯</th><th scope=col>&lt;dbl&gt;</th><th scope=col>&lt;dbl&gt;</th><th scope=col>&lt;dbl&gt;</th><th scope=col>&lt;dbl&gt;</th><th scope=col>&lt;dbl&gt;</th><th scope=col>&lt;dbl&gt;</th><th scope=col>&lt;dbl&gt;</th><th scope=col>&lt;dbl&gt;</th><th scope=col>&lt;dbl&gt;</th><th scope=col>&lt;fct&gt;</th></tr>\n",
       "</thead>\n",
       "<tbody>\n",
       "\t<tr><td>CS_26</td><td>CS</td><td>F</td><td>34</td><td>B</td><td>0.15123818</td><td>0.00000000</td><td>0.1261076</td><td>0.35238170</td><td>0.03189947</td><td>⋯</td><td>0.3271404</td><td>0.00000000</td><td>2.351685e-07</td><td>0.25823172</td><td>0.18675526</td><td>0.001686759</td><td>0.14780720</td><td>0.09189689</td><td>0.01961938</td><td>1</td></tr>\n",
       "\t<tr><td>CS_29</td><td>CS</td><td>F</td><td>36</td><td>B</td><td>0.06791410</td><td>0.09028609</td><td>0.3276962</td><td>0.18618128</td><td>0.04754286</td><td>⋯</td><td>0.7220417</td><td>0.01153174</td><td>1.419332e-08</td><td>0.53046857</td><td>0.43704343</td><td>0.355268670</td><td>0.08243793</td><td>0.48260060</td><td>0.29810436</td><td>N</td></tr>\n",
       "\t<tr><td>CS_17</td><td>CS</td><td>M</td><td>29</td><td>W</td><td>0.44649218</td><td>0.32976117</td><td>0.2873836</td><td>0.18107212</td><td>0.01664812</td><td>⋯</td><td>0.3411684</td><td>0.00000000</td><td>6.761111e-08</td><td>0.49508420</td><td>0.03189408</td><td>0.147350214</td><td>0.26384236</td><td>0.72404411</td><td>0.52779975</td><td>N</td></tr>\n",
       "\t<tr><td>NS_63</td><td>NS</td><td>M</td><td>43</td><td>B</td><td>0.21687581</td><td>0.25782803</td><td>0.4462655</td><td>0.11215630</td><td>0.22912585</td><td>⋯</td><td>0.6317240</td><td>0.00000000</td><td>1.132208e-06</td><td>0.60115086</td><td>1.00000000</td><td>0.119470619</td><td>0.42067290</td><td>0.67048546</td><td>0.13049306</td><td>E</td></tr>\n",
       "\t<tr><td>CS_21</td><td>CS</td><td>F</td><td>31</td><td>B</td><td>0.21687581</td><td>0.27113435</td><td>0.7550424</td><td>0.16931582</td><td>0.12987698</td><td>⋯</td><td>0.2035670</td><td>0.00000000</td><td>9.701944e-07</td><td>0.07874693</td><td>0.30264289</td><td>0.418614119</td><td>0.26384236</td><td>0.31548045</td><td>0.06673031</td><td>N</td></tr>\n",
       "\t<tr><td>CS_27</td><td>CS</td><td>F</td><td>35</td><td>W</td><td>0.09156722</td><td>0.23404945</td><td>0.3807725</td><td>0.03079665</td><td>0.02882542</td><td>⋯</td><td>0.4987997</td><td>0.00000000</td><td>7.491238e-08</td><td>0.35320369</td><td>0.14274251</td><td>0.033546943</td><td>0.38209701</td><td>0.00000000</td><td>0.14858426</td><td>1</td></tr>\n",
       "</tbody>\n",
       "</table>\n"
      ],
      "text/latex": [
       "A tibble: 6 × 24\n",
       "\\begin{tabular}{lllllllllllllllllllll}\n",
       " Subject\\_ID & Group & Sex & Age & Race & Cortisol & Noradrenaline & Hba1c & Fibrinogen & CRP & ⋯ & IL13 & IL1B & IL2 & IL4 & IL6 & IL8 & TNFa & Epinephrine & HDL & BP\\_Classification\\\\\n",
       " <chr> & <chr> & <chr> & <dbl> & <chr> & <dbl> & <dbl> & <dbl> & <dbl> & <dbl> & ⋯ & <dbl> & <dbl> & <dbl> & <dbl> & <dbl> & <dbl> & <dbl> & <dbl> & <dbl> & <fct>\\\\\n",
       "\\hline\n",
       "\t CS\\_26 & CS & F & 34 & B & 0.15123818 & 0.00000000 & 0.1261076 & 0.35238170 & 0.03189947 & ⋯ & 0.3271404 & 0.00000000 & 2.351685e-07 & 0.25823172 & 0.18675526 & 0.001686759 & 0.14780720 & 0.09189689 & 0.01961938 & 1\\\\\n",
       "\t CS\\_29 & CS & F & 36 & B & 0.06791410 & 0.09028609 & 0.3276962 & 0.18618128 & 0.04754286 & ⋯ & 0.7220417 & 0.01153174 & 1.419332e-08 & 0.53046857 & 0.43704343 & 0.355268670 & 0.08243793 & 0.48260060 & 0.29810436 & N\\\\\n",
       "\t CS\\_17 & CS & M & 29 & W & 0.44649218 & 0.32976117 & 0.2873836 & 0.18107212 & 0.01664812 & ⋯ & 0.3411684 & 0.00000000 & 6.761111e-08 & 0.49508420 & 0.03189408 & 0.147350214 & 0.26384236 & 0.72404411 & 0.52779975 & N\\\\\n",
       "\t NS\\_63 & NS & M & 43 & B & 0.21687581 & 0.25782803 & 0.4462655 & 0.11215630 & 0.22912585 & ⋯ & 0.6317240 & 0.00000000 & 1.132208e-06 & 0.60115086 & 1.00000000 & 0.119470619 & 0.42067290 & 0.67048546 & 0.13049306 & E\\\\\n",
       "\t CS\\_21 & CS & F & 31 & B & 0.21687581 & 0.27113435 & 0.7550424 & 0.16931582 & 0.12987698 & ⋯ & 0.2035670 & 0.00000000 & 9.701944e-07 & 0.07874693 & 0.30264289 & 0.418614119 & 0.26384236 & 0.31548045 & 0.06673031 & N\\\\\n",
       "\t CS\\_27 & CS & F & 35 & W & 0.09156722 & 0.23404945 & 0.3807725 & 0.03079665 & 0.02882542 & ⋯ & 0.4987997 & 0.00000000 & 7.491238e-08 & 0.35320369 & 0.14274251 & 0.033546943 & 0.38209701 & 0.00000000 & 0.14858426 & 1\\\\\n",
       "\\end{tabular}\n"
      ],
      "text/markdown": [
       "\n",
       "A tibble: 6 × 24\n",
       "\n",
       "| Subject_ID &lt;chr&gt; | Group &lt;chr&gt; | Sex &lt;chr&gt; | Age &lt;dbl&gt; | Race &lt;chr&gt; | Cortisol &lt;dbl&gt; | Noradrenaline &lt;dbl&gt; | Hba1c &lt;dbl&gt; | Fibrinogen &lt;dbl&gt; | CRP &lt;dbl&gt; | ⋯ ⋯ | IL13 &lt;dbl&gt; | IL1B &lt;dbl&gt; | IL2 &lt;dbl&gt; | IL4 &lt;dbl&gt; | IL6 &lt;dbl&gt; | IL8 &lt;dbl&gt; | TNFa &lt;dbl&gt; | Epinephrine &lt;dbl&gt; | HDL &lt;dbl&gt; | BP_Classification &lt;fct&gt; |\n",
       "|---|---|---|---|---|---|---|---|---|---|---|---|---|---|---|---|---|---|---|---|---|\n",
       "| CS_26 | CS | F | 34 | B | 0.15123818 | 0.00000000 | 0.1261076 | 0.35238170 | 0.03189947 | ⋯ | 0.3271404 | 0.00000000 | 2.351685e-07 | 0.25823172 | 0.18675526 | 0.001686759 | 0.14780720 | 0.09189689 | 0.01961938 | 1 |\n",
       "| CS_29 | CS | F | 36 | B | 0.06791410 | 0.09028609 | 0.3276962 | 0.18618128 | 0.04754286 | ⋯ | 0.7220417 | 0.01153174 | 1.419332e-08 | 0.53046857 | 0.43704343 | 0.355268670 | 0.08243793 | 0.48260060 | 0.29810436 | N |\n",
       "| CS_17 | CS | M | 29 | W | 0.44649218 | 0.32976117 | 0.2873836 | 0.18107212 | 0.01664812 | ⋯ | 0.3411684 | 0.00000000 | 6.761111e-08 | 0.49508420 | 0.03189408 | 0.147350214 | 0.26384236 | 0.72404411 | 0.52779975 | N |\n",
       "| NS_63 | NS | M | 43 | B | 0.21687581 | 0.25782803 | 0.4462655 | 0.11215630 | 0.22912585 | ⋯ | 0.6317240 | 0.00000000 | 1.132208e-06 | 0.60115086 | 1.00000000 | 0.119470619 | 0.42067290 | 0.67048546 | 0.13049306 | E |\n",
       "| CS_21 | CS | F | 31 | B | 0.21687581 | 0.27113435 | 0.7550424 | 0.16931582 | 0.12987698 | ⋯ | 0.2035670 | 0.00000000 | 9.701944e-07 | 0.07874693 | 0.30264289 | 0.418614119 | 0.26384236 | 0.31548045 | 0.06673031 | N |\n",
       "| CS_27 | CS | F | 35 | W | 0.09156722 | 0.23404945 | 0.3807725 | 0.03079665 | 0.02882542 | ⋯ | 0.4987997 | 0.00000000 | 7.491238e-08 | 0.35320369 | 0.14274251 | 0.033546943 | 0.38209701 | 0.00000000 | 0.14858426 | 1 |\n",
       "\n"
      ],
      "text/plain": [
       "  Subject_ID Group Sex Age Race Cortisol   Noradrenaline Hba1c     Fibrinogen\n",
       "1 CS_26      CS    F   34  B    0.15123818 0.00000000    0.1261076 0.35238170\n",
       "2 CS_29      CS    F   36  B    0.06791410 0.09028609    0.3276962 0.18618128\n",
       "3 CS_17      CS    M   29  W    0.44649218 0.32976117    0.2873836 0.18107212\n",
       "4 NS_63      NS    M   43  B    0.21687581 0.25782803    0.4462655 0.11215630\n",
       "5 CS_21      CS    F   31  B    0.21687581 0.27113435    0.7550424 0.16931582\n",
       "6 CS_27      CS    F   35  W    0.09156722 0.23404945    0.3807725 0.03079665\n",
       "  CRP        ⋯ IL13      IL1B       IL2          IL4        IL6       \n",
       "1 0.03189947 ⋯ 0.3271404 0.00000000 2.351685e-07 0.25823172 0.18675526\n",
       "2 0.04754286 ⋯ 0.7220417 0.01153174 1.419332e-08 0.53046857 0.43704343\n",
       "3 0.01664812 ⋯ 0.3411684 0.00000000 6.761111e-08 0.49508420 0.03189408\n",
       "4 0.22912585 ⋯ 0.6317240 0.00000000 1.132208e-06 0.60115086 1.00000000\n",
       "5 0.12987698 ⋯ 0.2035670 0.00000000 9.701944e-07 0.07874693 0.30264289\n",
       "6 0.02882542 ⋯ 0.4987997 0.00000000 7.491238e-08 0.35320369 0.14274251\n",
       "  IL8         TNFa       Epinephrine HDL        BP_Classification\n",
       "1 0.001686759 0.14780720 0.09189689  0.01961938 1                \n",
       "2 0.355268670 0.08243793 0.48260060  0.29810436 N                \n",
       "3 0.147350214 0.26384236 0.72404411  0.52779975 N                \n",
       "4 0.119470619 0.42067290 0.67048546  0.13049306 E                \n",
       "5 0.418614119 0.26384236 0.31548045  0.06673031 N                \n",
       "6 0.033546943 0.38209701 0.00000000  0.14858426 1                "
      ]
     },
     "metadata": {},
     "output_type": "display_data"
    }
   ],
   "source": [
    "# creating a vector for variables that increase atherosclerotic risk\n",
    "# HDL decreases risk\n",
    "allostatic_load_biomarkers = c('Cortisol','Noradrenaline','Epinephrine','Hba1c','Fibrinogen','CRP', 'HDL')\n",
    "\n",
    "# creating 1 df\n",
    "ordinal_regression_df = inner_join(bp_df[,c(1,4)], subject_info_df[,4:8]) %>%\n",
    "    # adding allostatic load data\n",
    "    inner_join(mediator_scores_df) %>%\n",
    "    # obtaining allostatic load biomarkers only\n",
    "    #filter(Variable %in% allostatic_load_biomarkers) %>%\n",
    "    pivot_wider(names_from = Variable, values_from = Mediator_Score)\n",
    "\n",
    "# turning BP into a factor\n",
    "ordinal_regression_df$BP_Classification = factor(ordinal_regression_df$BP_Classification, levels = c(\"N\", \"E\", \"1\", '2'))\n",
    "\n",
    "#reordering columns\n",
    "ordinal_regression_df = ordinal_regression_df[,c(1,3:22,24,23,2)]\n",
    "    \n",
    "\n",
    "head(ordinal_regression_df)"
   ]
  },
  {
   "cell_type": "code",
   "execution_count": 4,
   "id": "fb1ed418-053f-4b77-a625-f236f975aded",
   "metadata": {},
   "outputs": [
    {
     "data": {
      "text/html": [
       "<table class=\"dataframe\">\n",
       "<caption>A data.frame: 6 × 2</caption>\n",
       "<thead>\n",
       "\t<tr><th></th><th scope=col>Variable</th><th scope=col>Coefficient</th></tr>\n",
       "\t<tr><th></th><th scope=col>&lt;chr&gt;</th><th scope=col>&lt;dbl&gt;</th></tr>\n",
       "</thead>\n",
       "<tbody>\n",
       "\t<tr><th scope=row>1</th><td>IL2        </td><td>0.32461122</td></tr>\n",
       "\t<tr><th scope=row>2</th><td>IL8        </td><td>0.17739730</td></tr>\n",
       "\t<tr><th scope=row>3</th><td>IL12p70    </td><td>0.17591443</td></tr>\n",
       "\t<tr><th scope=row>4</th><td>HDL        </td><td>0.08853286</td></tr>\n",
       "\t<tr><th scope=row>5</th><td>IL10       </td><td>0.07997711</td></tr>\n",
       "\t<tr><th scope=row>6</th><td>Epinephrine</td><td>0.04285506</td></tr>\n",
       "</tbody>\n",
       "</table>\n"
      ],
      "text/latex": [
       "A data.frame: 6 × 2\n",
       "\\begin{tabular}{r|ll}\n",
       "  & Variable & Coefficient\\\\\n",
       "  & <chr> & <dbl>\\\\\n",
       "\\hline\n",
       "\t1 & IL2         & 0.32461122\\\\\n",
       "\t2 & IL8         & 0.17739730\\\\\n",
       "\t3 & IL12p70     & 0.17591443\\\\\n",
       "\t4 & HDL         & 0.08853286\\\\\n",
       "\t5 & IL10        & 0.07997711\\\\\n",
       "\t6 & Epinephrine & 0.04285506\\\\\n",
       "\\end{tabular}\n"
      ],
      "text/markdown": [
       "\n",
       "A data.frame: 6 × 2\n",
       "\n",
       "| <!--/--> | Variable &lt;chr&gt; | Coefficient &lt;dbl&gt; |\n",
       "|---|---|---|\n",
       "| 1 | IL2         | 0.32461122 |\n",
       "| 2 | IL8         | 0.17739730 |\n",
       "| 3 | IL12p70     | 0.17591443 |\n",
       "| 4 | HDL         | 0.08853286 |\n",
       "| 5 | IL10        | 0.07997711 |\n",
       "| 6 | Epinephrine | 0.04285506 |\n",
       "\n"
      ],
      "text/plain": [
       "  Variable    Coefficient\n",
       "1 IL2         0.32461122 \n",
       "2 IL8         0.17739730 \n",
       "3 IL12p70     0.17591443 \n",
       "4 HDL         0.08853286 \n",
       "5 IL10        0.07997711 \n",
       "6 Epinephrine 0.04285506 "
      ]
     },
     "metadata": {},
     "output_type": "display_data"
    }
   ],
   "source": [
    "# creating a vector of booleans that specifies whether or not the coefficient should be\n",
    "# positive (TRUE) or negative (FALSE), only HDL will be negative\n",
    "biomarker_coefficients = c(rep(TRUE, ncol(ordinal_regression_df) - 7), FALSE)\n",
    "\n",
    "estimateOrdWeights <- function(dataset, response, coefficients_magnitude){\n",
    "    # \"\"\"\n",
    "    # Creating a function to run ordinal regression to estimate ordinal weights of mediator data based\n",
    "    # on blood pressure classification\n",
    "    # :param (input): wide df with biomarker data, response variable, magnitude of the coefficients\n",
    "    # :output: 1 df with the ordinal weights\n",
    "    # \"\"\"\n",
    "    \n",
    "    #get number of response levels\n",
    "    NoBins <- length(unique(dataset[[response]]))\n",
    "\n",
    "    #get number of features or slieces\n",
    "    noSlices <- ncol(dataset) - 2\n",
    "    \n",
    "    # obtaining the features and converting into a matrix\n",
    "    feature_data <- as.matrix(dataset[,c(2:(ncol(dataset) - 1))])\n",
    "\n",
    "    # ordinal regression\n",
    "    # positiveID specifies whether or not each coefficient for each ind. variable should be constrained to be non-negative\n",
    "    regression_model <- ordinalNet(feature_data, dataset[[response]], positiveID = coefficients_magnitude, \n",
    "                            # lambdaVals defines how quickly your coefficients drop to 0\n",
    "                            # keeping it at 0 tries to minimize feature reduction\n",
    "                            # maxiterout defines the number of iterations before it stops\n",
    "                         lambdaVals = 0, maxiterOut = 100)\n",
    "    testW <- regression_model$coefs[NoBins:(noSlices + NoBins - 1)]\n",
    "\n",
    "    # rescaling the coefficients so that they sum to 1\n",
    "    normalizer = 1/sum(testW)\n",
    "    rescaled_weight <- testW * normalizer\n",
    "\n",
    "    # adding the variable names back in \n",
    "    test_weights_df = data.frame(Variable = colnames(feature_data), Coefficient = rescaled_weight) %>%\n",
    "        arrange(-Coefficient) \n",
    "    \n",
    "    return(test_weights_df)\n",
    "}\n",
    "\n",
    "# calling fn\n",
    "biomarker_coefficients_df = estimateOrdWeights(ordinal_regression_df[,c(1,6:24)], 'BP_Classification', biomarker_coefficients)\n",
    "\n",
    "head(biomarker_coefficients_df)"
   ]
  },
  {
   "cell_type": "code",
   "execution_count": 5,
   "id": "f602092b-a5c8-429b-8958-c434e099dbc3",
   "metadata": {},
   "outputs": [
    {
     "data": {
      "text/html": [
       "<table class=\"dataframe\">\n",
       "<caption>A data.frame: 18 × 2</caption>\n",
       "<thead>\n",
       "\t<tr><th scope=col>Variable</th><th scope=col>Coefficient</th></tr>\n",
       "\t<tr><th scope=col>&lt;chr&gt;</th><th scope=col>&lt;dbl&gt;</th></tr>\n",
       "</thead>\n",
       "<tbody>\n",
       "\t<tr><td>IL2          </td><td>0.32461122</td></tr>\n",
       "\t<tr><td>IL8          </td><td>0.17739730</td></tr>\n",
       "\t<tr><td>IL12p70      </td><td>0.17591443</td></tr>\n",
       "\t<tr><td>HDL          </td><td>0.08853286</td></tr>\n",
       "\t<tr><td>IL10         </td><td>0.07997711</td></tr>\n",
       "\t<tr><td>Epinephrine  </td><td>0.04285506</td></tr>\n",
       "\t<tr><td>Cortisol     </td><td>0.04247511</td></tr>\n",
       "\t<tr><td>IL13         </td><td>0.02969636</td></tr>\n",
       "\t<tr><td>IL4          </td><td>0.01933184</td></tr>\n",
       "\t<tr><td>Noradrenaline</td><td>0.01920870</td></tr>\n",
       "\t<tr><td>Hba1c        </td><td>0.00000000</td></tr>\n",
       "\t<tr><td>Fibrinogen   </td><td>0.00000000</td></tr>\n",
       "\t<tr><td>CRP          </td><td>0.00000000</td></tr>\n",
       "\t<tr><td>IP10         </td><td>0.00000000</td></tr>\n",
       "\t<tr><td>IFNg         </td><td>0.00000000</td></tr>\n",
       "\t<tr><td>IL1B         </td><td>0.00000000</td></tr>\n",
       "\t<tr><td>IL6          </td><td>0.00000000</td></tr>\n",
       "\t<tr><td>TNFa         </td><td>0.00000000</td></tr>\n",
       "</tbody>\n",
       "</table>\n"
      ],
      "text/latex": [
       "A data.frame: 18 × 2\n",
       "\\begin{tabular}{ll}\n",
       " Variable & Coefficient\\\\\n",
       " <chr> & <dbl>\\\\\n",
       "\\hline\n",
       "\t IL2           & 0.32461122\\\\\n",
       "\t IL8           & 0.17739730\\\\\n",
       "\t IL12p70       & 0.17591443\\\\\n",
       "\t HDL           & 0.08853286\\\\\n",
       "\t IL10          & 0.07997711\\\\\n",
       "\t Epinephrine   & 0.04285506\\\\\n",
       "\t Cortisol      & 0.04247511\\\\\n",
       "\t IL13          & 0.02969636\\\\\n",
       "\t IL4           & 0.01933184\\\\\n",
       "\t Noradrenaline & 0.01920870\\\\\n",
       "\t Hba1c         & 0.00000000\\\\\n",
       "\t Fibrinogen    & 0.00000000\\\\\n",
       "\t CRP           & 0.00000000\\\\\n",
       "\t IP10          & 0.00000000\\\\\n",
       "\t IFNg          & 0.00000000\\\\\n",
       "\t IL1B          & 0.00000000\\\\\n",
       "\t IL6           & 0.00000000\\\\\n",
       "\t TNFa          & 0.00000000\\\\\n",
       "\\end{tabular}\n"
      ],
      "text/markdown": [
       "\n",
       "A data.frame: 18 × 2\n",
       "\n",
       "| Variable &lt;chr&gt; | Coefficient &lt;dbl&gt; |\n",
       "|---|---|\n",
       "| IL2           | 0.32461122 |\n",
       "| IL8           | 0.17739730 |\n",
       "| IL12p70       | 0.17591443 |\n",
       "| HDL           | 0.08853286 |\n",
       "| IL10          | 0.07997711 |\n",
       "| Epinephrine   | 0.04285506 |\n",
       "| Cortisol      | 0.04247511 |\n",
       "| IL13          | 0.02969636 |\n",
       "| IL4           | 0.01933184 |\n",
       "| Noradrenaline | 0.01920870 |\n",
       "| Hba1c         | 0.00000000 |\n",
       "| Fibrinogen    | 0.00000000 |\n",
       "| CRP           | 0.00000000 |\n",
       "| IP10          | 0.00000000 |\n",
       "| IFNg          | 0.00000000 |\n",
       "| IL1B          | 0.00000000 |\n",
       "| IL6           | 0.00000000 |\n",
       "| TNFa          | 0.00000000 |\n",
       "\n"
      ],
      "text/plain": [
       "   Variable      Coefficient\n",
       "1  IL2           0.32461122 \n",
       "2  IL8           0.17739730 \n",
       "3  IL12p70       0.17591443 \n",
       "4  HDL           0.08853286 \n",
       "5  IL10          0.07997711 \n",
       "6  Epinephrine   0.04285506 \n",
       "7  Cortisol      0.04247511 \n",
       "8  IL13          0.02969636 \n",
       "9  IL4           0.01933184 \n",
       "10 Noradrenaline 0.01920870 \n",
       "11 Hba1c         0.00000000 \n",
       "12 Fibrinogen    0.00000000 \n",
       "13 CRP           0.00000000 \n",
       "14 IP10          0.00000000 \n",
       "15 IFNg          0.00000000 \n",
       "16 IL1B          0.00000000 \n",
       "17 IL6           0.00000000 \n",
       "18 TNFa          0.00000000 "
      ]
     },
     "metadata": {},
     "output_type": "display_data"
    }
   ],
   "source": [
    "biomarker_coefficients_df"
   ]
  },
  {
   "cell_type": "markdown",
   "id": "83f580e0-19d4-436e-a87e-06dabef40b33",
   "metadata": {},
   "source": [
    "Why wasn't HDL able to be constrained to negative?\n",
    "\n",
    "Based on these results, we can see that IL-2 had the largest (36%) contribution to blood pressure classification.\n",
    "\n",
    "# Allostatic Load Calculation using Linear Regression\n",
    "\n",
    "Now that we have these weights from the ordinal regression, we'll use a linear regression to calculate allostatic load scores for each subject using both the previously calculated mediator scores multiplied the ordinal weight for the 7 allostatic load biomarkers (cortisol, noradrenaline, epinephrine, HDL, Hba1c, fibrinogen, and CRP). The formula looks like...\n",
    "\n",
    "Allostatic Load = Cortisol ordinal weight * Cortisol score + CRP ordinal weight * CRP score...\n",
    "\n",
    "First, we'll combine the mediator scores with the ordinal weights into one dataframe."
   ]
  },
  {
   "cell_type": "code",
   "execution_count": 6,
   "id": "74837d21-07ab-4d1e-a84c-521fb3ac8c4d",
   "metadata": {},
   "outputs": [
    {
     "name": "stderr",
     "output_type": "stream",
     "text": [
      "\u001b[1m\u001b[22mJoining with `by = join_by(Variable)`\n"
     ]
    },
    {
     "data": {
      "text/html": [
       "<table class=\"dataframe\">\n",
       "<caption>A data.frame: 7 × 35</caption>\n",
       "<thead>\n",
       "\t<tr><th></th><th scope=col>CS_10</th><th scope=col>CS_16</th><th scope=col>CS_17</th><th scope=col>CS_21</th><th scope=col>CS_22</th><th scope=col>CS_23</th><th scope=col>CS_24</th><th scope=col>CS_26</th><th scope=col>CS_27</th><th scope=col>CS_28</th><th scope=col>⋯</th><th scope=col>NS_54</th><th scope=col>NS_56</th><th scope=col>NS_57</th><th scope=col>NS_58</th><th scope=col>NS_59</th><th scope=col>NS_60</th><th scope=col>NS_61</th><th scope=col>NS_62</th><th scope=col>NS_63</th><th scope=col>Coefficient</th></tr>\n",
       "\t<tr><th></th><th scope=col>&lt;dbl&gt;</th><th scope=col>&lt;dbl&gt;</th><th scope=col>&lt;dbl&gt;</th><th scope=col>&lt;dbl&gt;</th><th scope=col>&lt;dbl&gt;</th><th scope=col>&lt;dbl&gt;</th><th scope=col>&lt;dbl&gt;</th><th scope=col>&lt;dbl&gt;</th><th scope=col>&lt;dbl&gt;</th><th scope=col>&lt;dbl&gt;</th><th scope=col>⋯</th><th scope=col>&lt;dbl&gt;</th><th scope=col>&lt;dbl&gt;</th><th scope=col>&lt;dbl&gt;</th><th scope=col>&lt;dbl&gt;</th><th scope=col>&lt;dbl&gt;</th><th scope=col>&lt;dbl&gt;</th><th scope=col>&lt;dbl&gt;</th><th scope=col>&lt;dbl&gt;</th><th scope=col>&lt;dbl&gt;</th><th scope=col>&lt;dbl&gt;</th></tr>\n",
       "</thead>\n",
       "<tbody>\n",
       "\t<tr><th scope=row>Cortisol</th><td>0.13144609</td><td>0.06754252</td><td>0.44649218</td><td>0.21687581</td><td>0.04373137</td><td>0.03011523</td><td>0.22022432</td><td>0.15123818</td><td>0.09156722</td><td>0.00000000</td><td>⋯</td><td>0.162261782</td><td>0.21854579</td><td>0.24564138</td><td>0.1446778341</td><td>0.1936156</td><td>0.15076409</td><td>0.2174310</td><td>0.05219233</td><td>0.2168758</td><td>0.04247511</td></tr>\n",
       "\t<tr><th scope=row>CRP</th><td>0.06081895</td><td>0.02650878</td><td>0.01664812</td><td>0.12987698</td><td>0.03117062</td><td>0.03881788</td><td>0.09376314</td><td>0.03189947</td><td>0.02882542</td><td>0.03715937</td><td>⋯</td><td>0.003752825</td><td>0.14078284</td><td>0.09701449</td><td>0.0002840778</td><td>0.6071295</td><td>0.33981318</td><td>0.3777298</td><td>0.98635392</td><td>0.2291258</td><td>0.00000000</td></tr>\n",
       "\t<tr><th scope=row>Epinephrine</th><td>0.36245167</td><td>1.00000000</td><td>0.72404411</td><td>0.31548045</td><td>0.64614063</td><td>0.07919232</td><td>0.14750107</td><td>0.09189689</td><td>0.00000000</td><td>0.50379493</td><td>⋯</td><td>0.095549052</td><td>0.09458031</td><td>0.75869970</td><td>0.2421595303</td><td>0.3192038</td><td>0.09565971</td><td>0.5938708</td><td>0.26922526</td><td>0.6704855</td><td>0.04285506</td></tr>\n",
       "\t<tr><th scope=row>Fibrinogen</th><td>0.26137633</td><td>0.00000000</td><td>0.18107212</td><td>0.16931582</td><td>0.10842287</td><td>0.44374148</td><td>0.27818307</td><td>0.35238170</td><td>0.03079665</td><td>0.11464564</td><td>⋯</td><td>0.100644949</td><td>0.21754258</td><td>0.41187896</td><td>0.1571598428</td><td>0.2116680</td><td>0.16188742</td><td>0.6245899</td><td>0.30306729</td><td>0.1121563</td><td>0.00000000</td></tr>\n",
       "\t<tr><th scope=row>Hba1c</th><td>0.64414592</td><td>0.11121726</td><td>0.28738359</td><td>0.75504241</td><td>0.57615251</td><td>0.73684025</td><td>0.78829727</td><td>0.12610762</td><td>0.38077250</td><td>0.20661601</td><td>⋯</td><td>0.296014746</td><td>0.33486693</td><td>0.41211041</td><td>0.2201362250</td><td>0.7033799</td><td>0.15901222</td><td>0.0000000</td><td>0.67872332</td><td>0.4462655</td><td>0.00000000</td></tr>\n",
       "\t<tr><th scope=row>HDL</th><td>0.02491066</td><td>0.17484827</td><td>0.52779975</td><td>0.06673031</td><td>0.14420877</td><td>0.26613495</td><td>0.24611656</td><td>0.01961938</td><td>0.14858426</td><td>0.07812076</td><td>⋯</td><td>0.243013639</td><td>0.09035361</td><td>0.28415615</td><td>0.2342484850</td><td>0.1731317</td><td>0.20476993</td><td>0.5024475</td><td>0.13228858</td><td>0.1304931</td><td>0.08853286</td></tr>\n",
       "\t<tr><th scope=row>Noradrenaline</th><td>0.84665641</td><td>0.50181436</td><td>0.32976117</td><td>0.27113435</td><td>0.33094643</td><td>0.22862238</td><td>0.67059913</td><td>0.00000000</td><td>0.23404945</td><td>0.08305481</td><td>⋯</td><td>0.333338197</td><td>0.17657712</td><td>0.08418630</td><td>0.2720013321</td><td>0.1512783</td><td>0.22996146</td><td>0.6586311</td><td>0.47647309</td><td>0.2578280</td><td>0.01920870</td></tr>\n",
       "</tbody>\n",
       "</table>\n"
      ],
      "text/latex": [
       "A data.frame: 7 × 35\n",
       "\\begin{tabular}{r|lllllllllllllllllllll}\n",
       "  & CS\\_10 & CS\\_16 & CS\\_17 & CS\\_21 & CS\\_22 & CS\\_23 & CS\\_24 & CS\\_26 & CS\\_27 & CS\\_28 & ⋯ & NS\\_54 & NS\\_56 & NS\\_57 & NS\\_58 & NS\\_59 & NS\\_60 & NS\\_61 & NS\\_62 & NS\\_63 & Coefficient\\\\\n",
       "  & <dbl> & <dbl> & <dbl> & <dbl> & <dbl> & <dbl> & <dbl> & <dbl> & <dbl> & <dbl> & ⋯ & <dbl> & <dbl> & <dbl> & <dbl> & <dbl> & <dbl> & <dbl> & <dbl> & <dbl> & <dbl>\\\\\n",
       "\\hline\n",
       "\tCortisol & 0.13144609 & 0.06754252 & 0.44649218 & 0.21687581 & 0.04373137 & 0.03011523 & 0.22022432 & 0.15123818 & 0.09156722 & 0.00000000 & ⋯ & 0.162261782 & 0.21854579 & 0.24564138 & 0.1446778341 & 0.1936156 & 0.15076409 & 0.2174310 & 0.05219233 & 0.2168758 & 0.04247511\\\\\n",
       "\tCRP & 0.06081895 & 0.02650878 & 0.01664812 & 0.12987698 & 0.03117062 & 0.03881788 & 0.09376314 & 0.03189947 & 0.02882542 & 0.03715937 & ⋯ & 0.003752825 & 0.14078284 & 0.09701449 & 0.0002840778 & 0.6071295 & 0.33981318 & 0.3777298 & 0.98635392 & 0.2291258 & 0.00000000\\\\\n",
       "\tEpinephrine & 0.36245167 & 1.00000000 & 0.72404411 & 0.31548045 & 0.64614063 & 0.07919232 & 0.14750107 & 0.09189689 & 0.00000000 & 0.50379493 & ⋯ & 0.095549052 & 0.09458031 & 0.75869970 & 0.2421595303 & 0.3192038 & 0.09565971 & 0.5938708 & 0.26922526 & 0.6704855 & 0.04285506\\\\\n",
       "\tFibrinogen & 0.26137633 & 0.00000000 & 0.18107212 & 0.16931582 & 0.10842287 & 0.44374148 & 0.27818307 & 0.35238170 & 0.03079665 & 0.11464564 & ⋯ & 0.100644949 & 0.21754258 & 0.41187896 & 0.1571598428 & 0.2116680 & 0.16188742 & 0.6245899 & 0.30306729 & 0.1121563 & 0.00000000\\\\\n",
       "\tHba1c & 0.64414592 & 0.11121726 & 0.28738359 & 0.75504241 & 0.57615251 & 0.73684025 & 0.78829727 & 0.12610762 & 0.38077250 & 0.20661601 & ⋯ & 0.296014746 & 0.33486693 & 0.41211041 & 0.2201362250 & 0.7033799 & 0.15901222 & 0.0000000 & 0.67872332 & 0.4462655 & 0.00000000\\\\\n",
       "\tHDL & 0.02491066 & 0.17484827 & 0.52779975 & 0.06673031 & 0.14420877 & 0.26613495 & 0.24611656 & 0.01961938 & 0.14858426 & 0.07812076 & ⋯ & 0.243013639 & 0.09035361 & 0.28415615 & 0.2342484850 & 0.1731317 & 0.20476993 & 0.5024475 & 0.13228858 & 0.1304931 & 0.08853286\\\\\n",
       "\tNoradrenaline & 0.84665641 & 0.50181436 & 0.32976117 & 0.27113435 & 0.33094643 & 0.22862238 & 0.67059913 & 0.00000000 & 0.23404945 & 0.08305481 & ⋯ & 0.333338197 & 0.17657712 & 0.08418630 & 0.2720013321 & 0.1512783 & 0.22996146 & 0.6586311 & 0.47647309 & 0.2578280 & 0.01920870\\\\\n",
       "\\end{tabular}\n"
      ],
      "text/markdown": [
       "\n",
       "A data.frame: 7 × 35\n",
       "\n",
       "| <!--/--> | CS_10 &lt;dbl&gt; | CS_16 &lt;dbl&gt; | CS_17 &lt;dbl&gt; | CS_21 &lt;dbl&gt; | CS_22 &lt;dbl&gt; | CS_23 &lt;dbl&gt; | CS_24 &lt;dbl&gt; | CS_26 &lt;dbl&gt; | CS_27 &lt;dbl&gt; | CS_28 &lt;dbl&gt; | ⋯ ⋯ | NS_54 &lt;dbl&gt; | NS_56 &lt;dbl&gt; | NS_57 &lt;dbl&gt; | NS_58 &lt;dbl&gt; | NS_59 &lt;dbl&gt; | NS_60 &lt;dbl&gt; | NS_61 &lt;dbl&gt; | NS_62 &lt;dbl&gt; | NS_63 &lt;dbl&gt; | Coefficient &lt;dbl&gt; |\n",
       "|---|---|---|---|---|---|---|---|---|---|---|---|---|---|---|---|---|---|---|---|---|---|\n",
       "| Cortisol | 0.13144609 | 0.06754252 | 0.44649218 | 0.21687581 | 0.04373137 | 0.03011523 | 0.22022432 | 0.15123818 | 0.09156722 | 0.00000000 | ⋯ | 0.162261782 | 0.21854579 | 0.24564138 | 0.1446778341 | 0.1936156 | 0.15076409 | 0.2174310 | 0.05219233 | 0.2168758 | 0.04247511 |\n",
       "| CRP | 0.06081895 | 0.02650878 | 0.01664812 | 0.12987698 | 0.03117062 | 0.03881788 | 0.09376314 | 0.03189947 | 0.02882542 | 0.03715937 | ⋯ | 0.003752825 | 0.14078284 | 0.09701449 | 0.0002840778 | 0.6071295 | 0.33981318 | 0.3777298 | 0.98635392 | 0.2291258 | 0.00000000 |\n",
       "| Epinephrine | 0.36245167 | 1.00000000 | 0.72404411 | 0.31548045 | 0.64614063 | 0.07919232 | 0.14750107 | 0.09189689 | 0.00000000 | 0.50379493 | ⋯ | 0.095549052 | 0.09458031 | 0.75869970 | 0.2421595303 | 0.3192038 | 0.09565971 | 0.5938708 | 0.26922526 | 0.6704855 | 0.04285506 |\n",
       "| Fibrinogen | 0.26137633 | 0.00000000 | 0.18107212 | 0.16931582 | 0.10842287 | 0.44374148 | 0.27818307 | 0.35238170 | 0.03079665 | 0.11464564 | ⋯ | 0.100644949 | 0.21754258 | 0.41187896 | 0.1571598428 | 0.2116680 | 0.16188742 | 0.6245899 | 0.30306729 | 0.1121563 | 0.00000000 |\n",
       "| Hba1c | 0.64414592 | 0.11121726 | 0.28738359 | 0.75504241 | 0.57615251 | 0.73684025 | 0.78829727 | 0.12610762 | 0.38077250 | 0.20661601 | ⋯ | 0.296014746 | 0.33486693 | 0.41211041 | 0.2201362250 | 0.7033799 | 0.15901222 | 0.0000000 | 0.67872332 | 0.4462655 | 0.00000000 |\n",
       "| HDL | 0.02491066 | 0.17484827 | 0.52779975 | 0.06673031 | 0.14420877 | 0.26613495 | 0.24611656 | 0.01961938 | 0.14858426 | 0.07812076 | ⋯ | 0.243013639 | 0.09035361 | 0.28415615 | 0.2342484850 | 0.1731317 | 0.20476993 | 0.5024475 | 0.13228858 | 0.1304931 | 0.08853286 |\n",
       "| Noradrenaline | 0.84665641 | 0.50181436 | 0.32976117 | 0.27113435 | 0.33094643 | 0.22862238 | 0.67059913 | 0.00000000 | 0.23404945 | 0.08305481 | ⋯ | 0.333338197 | 0.17657712 | 0.08418630 | 0.2720013321 | 0.1512783 | 0.22996146 | 0.6586311 | 0.47647309 | 0.2578280 | 0.01920870 |\n",
       "\n"
      ],
      "text/plain": [
       "              CS_10      CS_16      CS_17      CS_21      CS_22      CS_23     \n",
       "Cortisol      0.13144609 0.06754252 0.44649218 0.21687581 0.04373137 0.03011523\n",
       "CRP           0.06081895 0.02650878 0.01664812 0.12987698 0.03117062 0.03881788\n",
       "Epinephrine   0.36245167 1.00000000 0.72404411 0.31548045 0.64614063 0.07919232\n",
       "Fibrinogen    0.26137633 0.00000000 0.18107212 0.16931582 0.10842287 0.44374148\n",
       "Hba1c         0.64414592 0.11121726 0.28738359 0.75504241 0.57615251 0.73684025\n",
       "HDL           0.02491066 0.17484827 0.52779975 0.06673031 0.14420877 0.26613495\n",
       "Noradrenaline 0.84665641 0.50181436 0.32976117 0.27113435 0.33094643 0.22862238\n",
       "              CS_24      CS_26      CS_27      CS_28      ⋯ NS_54      \n",
       "Cortisol      0.22022432 0.15123818 0.09156722 0.00000000 ⋯ 0.162261782\n",
       "CRP           0.09376314 0.03189947 0.02882542 0.03715937 ⋯ 0.003752825\n",
       "Epinephrine   0.14750107 0.09189689 0.00000000 0.50379493 ⋯ 0.095549052\n",
       "Fibrinogen    0.27818307 0.35238170 0.03079665 0.11464564 ⋯ 0.100644949\n",
       "Hba1c         0.78829727 0.12610762 0.38077250 0.20661601 ⋯ 0.296014746\n",
       "HDL           0.24611656 0.01961938 0.14858426 0.07812076 ⋯ 0.243013639\n",
       "Noradrenaline 0.67059913 0.00000000 0.23404945 0.08305481 ⋯ 0.333338197\n",
       "              NS_56      NS_57      NS_58        NS_59     NS_60      NS_61    \n",
       "Cortisol      0.21854579 0.24564138 0.1446778341 0.1936156 0.15076409 0.2174310\n",
       "CRP           0.14078284 0.09701449 0.0002840778 0.6071295 0.33981318 0.3777298\n",
       "Epinephrine   0.09458031 0.75869970 0.2421595303 0.3192038 0.09565971 0.5938708\n",
       "Fibrinogen    0.21754258 0.41187896 0.1571598428 0.2116680 0.16188742 0.6245899\n",
       "Hba1c         0.33486693 0.41211041 0.2201362250 0.7033799 0.15901222 0.0000000\n",
       "HDL           0.09035361 0.28415615 0.2342484850 0.1731317 0.20476993 0.5024475\n",
       "Noradrenaline 0.17657712 0.08418630 0.2720013321 0.1512783 0.22996146 0.6586311\n",
       "              NS_62      NS_63     Coefficient\n",
       "Cortisol      0.05219233 0.2168758 0.04247511 \n",
       "CRP           0.98635392 0.2291258 0.00000000 \n",
       "Epinephrine   0.26922526 0.6704855 0.04285506 \n",
       "Fibrinogen    0.30306729 0.1121563 0.00000000 \n",
       "Hba1c         0.67872332 0.4462655 0.00000000 \n",
       "HDL           0.13228858 0.1304931 0.08853286 \n",
       "Noradrenaline 0.47647309 0.2578280 0.01920870 "
      ]
     },
     "metadata": {},
     "output_type": "display_data"
    }
   ],
   "source": [
    "wider_scores_df = dcast(mediator_scores_df, Variable ~ Subject_ID, value.var = \"Mediator_Score\") %>% \n",
    "    inner_join(biomarker_coefficients_df) %>%\n",
    "    # obtaining allostatic load biomarkers only\n",
    "    filter(Variable %in% allostatic_load_biomarkers) %>%\n",
    "    column_to_rownames(\"Variable\")\n",
    "\n",
    "wider_scores_df"
   ]
  },
  {
   "cell_type": "code",
   "execution_count": 7,
   "id": "3d09c8e6-db70-4932-ba39-56e1fe6fb23b",
   "metadata": {
    "scrolled": true
   },
   "outputs": [
    {
     "data": {
      "text/html": [
       "<table class=\"dataframe\">\n",
       "<caption>A data.frame: 7 × 34</caption>\n",
       "<thead>\n",
       "\t<tr><th></th><th scope=col>CS_10</th><th scope=col>CS_16</th><th scope=col>CS_17</th><th scope=col>CS_21</th><th scope=col>CS_22</th><th scope=col>CS_23</th><th scope=col>CS_24</th><th scope=col>CS_26</th><th scope=col>CS_27</th><th scope=col>CS_28</th><th scope=col>⋯</th><th scope=col>NS_53</th><th scope=col>NS_54</th><th scope=col>NS_56</th><th scope=col>NS_57</th><th scope=col>NS_58</th><th scope=col>NS_59</th><th scope=col>NS_60</th><th scope=col>NS_61</th><th scope=col>NS_62</th><th scope=col>NS_63</th></tr>\n",
       "\t<tr><th></th><th scope=col>&lt;dbl&gt;</th><th scope=col>&lt;dbl&gt;</th><th scope=col>&lt;dbl&gt;</th><th scope=col>&lt;dbl&gt;</th><th scope=col>&lt;dbl&gt;</th><th scope=col>&lt;dbl&gt;</th><th scope=col>&lt;dbl&gt;</th><th scope=col>&lt;dbl&gt;</th><th scope=col>&lt;dbl&gt;</th><th scope=col>&lt;dbl&gt;</th><th scope=col>⋯</th><th scope=col>&lt;dbl&gt;</th><th scope=col>&lt;dbl&gt;</th><th scope=col>&lt;dbl&gt;</th><th scope=col>&lt;dbl&gt;</th><th scope=col>&lt;dbl&gt;</th><th scope=col>&lt;dbl&gt;</th><th scope=col>&lt;dbl&gt;</th><th scope=col>&lt;dbl&gt;</th><th scope=col>&lt;dbl&gt;</th><th scope=col>&lt;dbl&gt;</th></tr>\n",
       "</thead>\n",
       "<tbody>\n",
       "\t<tr><th scope=row>Cortisol</th><td>0.005583187</td><td>0.002868876</td><td>0.018964803</td><td>0.009211823</td><td>0.001857494</td><td>0.001279148</td><td>0.009354051</td><td>0.006423858</td><td>0.003889328</td><td>0.000000000</td><td>⋯</td><td>1.421884e-02</td><td>0.006892086</td><td>0.009282756</td><td>0.01043364</td><td>0.006145206</td><td>0.008223844</td><td>0.006403721</td><td>0.009235407</td><td>0.002216875</td><td>0.009211823</td></tr>\n",
       "\t<tr><th scope=row>CRP</th><td>0.000000000</td><td>0.000000000</td><td>0.000000000</td><td>0.000000000</td><td>0.000000000</td><td>0.000000000</td><td>0.000000000</td><td>0.000000000</td><td>0.000000000</td><td>0.000000000</td><td>⋯</td><td>0.000000e+00</td><td>0.000000000</td><td>0.000000000</td><td>0.00000000</td><td>0.000000000</td><td>0.000000000</td><td>0.000000000</td><td>0.000000000</td><td>0.000000000</td><td>0.000000000</td></tr>\n",
       "\t<tr><th scope=row>Epinephrine</th><td>0.015532887</td><td>0.042855058</td><td>0.031028952</td><td>0.013519933</td><td>0.027690394</td><td>0.003393792</td><td>0.006321167</td><td>0.003938247</td><td>0.000000000</td><td>0.021590161</td><td>⋯</td><td>2.351106e-02</td><td>0.004094760</td><td>0.004053245</td><td>0.03251412</td><td>0.010377761</td><td>0.013679497</td><td>0.004099502</td><td>0.025450369</td><td>0.011537664</td><td>0.028733693</td></tr>\n",
       "\t<tr><th scope=row>Fibrinogen</th><td>0.000000000</td><td>0.000000000</td><td>0.000000000</td><td>0.000000000</td><td>0.000000000</td><td>0.000000000</td><td>0.000000000</td><td>0.000000000</td><td>0.000000000</td><td>0.000000000</td><td>⋯</td><td>0.000000e+00</td><td>0.000000000</td><td>0.000000000</td><td>0.00000000</td><td>0.000000000</td><td>0.000000000</td><td>0.000000000</td><td>0.000000000</td><td>0.000000000</td><td>0.000000000</td></tr>\n",
       "\t<tr><th scope=row>Hba1c</th><td>0.000000000</td><td>0.000000000</td><td>0.000000000</td><td>0.000000000</td><td>0.000000000</td><td>0.000000000</td><td>0.000000000</td><td>0.000000000</td><td>0.000000000</td><td>0.000000000</td><td>⋯</td><td>0.000000e+00</td><td>0.000000000</td><td>0.000000000</td><td>0.00000000</td><td>0.000000000</td><td>0.000000000</td><td>0.000000000</td><td>0.000000000</td><td>0.000000000</td><td>0.000000000</td></tr>\n",
       "\t<tr><th scope=row>HDL</th><td>0.002205412</td><td>0.015479817</td><td>0.046727621</td><td>0.005907825</td><td>0.012767215</td><td>0.023561688</td><td>0.021789403</td><td>0.001736960</td><td>0.013154589</td><td>0.006916254</td><td>⋯</td><td>4.546348e-02</td><td>0.021514693</td><td>0.007999264</td><td>0.02515716</td><td>0.020738688</td><td>0.015327843</td><td>0.018128867</td><td>0.044483117</td><td>0.011711887</td><td>0.011552924</td></tr>\n",
       "\t<tr><th scope=row>Noradrenaline</th><td>0.016263172</td><td>0.009639203</td><td>0.006334285</td><td>0.005208139</td><td>0.006357052</td><td>0.004391540</td><td>0.012881340</td><td>0.000000000</td><td>0.004495786</td><td>0.001595375</td><td>⋯</td><td>6.646191e-05</td><td>0.006402995</td><td>0.003391818</td><td>0.00161711</td><td>0.005224793</td><td>0.002905861</td><td>0.004417262</td><td>0.012651450</td><td>0.009152430</td><td>0.004952542</td></tr>\n",
       "</tbody>\n",
       "</table>\n"
      ],
      "text/latex": [
       "A data.frame: 7 × 34\n",
       "\\begin{tabular}{r|lllllllllllllllllllll}\n",
       "  & CS\\_10 & CS\\_16 & CS\\_17 & CS\\_21 & CS\\_22 & CS\\_23 & CS\\_24 & CS\\_26 & CS\\_27 & CS\\_28 & ⋯ & NS\\_53 & NS\\_54 & NS\\_56 & NS\\_57 & NS\\_58 & NS\\_59 & NS\\_60 & NS\\_61 & NS\\_62 & NS\\_63\\\\\n",
       "  & <dbl> & <dbl> & <dbl> & <dbl> & <dbl> & <dbl> & <dbl> & <dbl> & <dbl> & <dbl> & ⋯ & <dbl> & <dbl> & <dbl> & <dbl> & <dbl> & <dbl> & <dbl> & <dbl> & <dbl> & <dbl>\\\\\n",
       "\\hline\n",
       "\tCortisol & 0.005583187 & 0.002868876 & 0.018964803 & 0.009211823 & 0.001857494 & 0.001279148 & 0.009354051 & 0.006423858 & 0.003889328 & 0.000000000 & ⋯ & 1.421884e-02 & 0.006892086 & 0.009282756 & 0.01043364 & 0.006145206 & 0.008223844 & 0.006403721 & 0.009235407 & 0.002216875 & 0.009211823\\\\\n",
       "\tCRP & 0.000000000 & 0.000000000 & 0.000000000 & 0.000000000 & 0.000000000 & 0.000000000 & 0.000000000 & 0.000000000 & 0.000000000 & 0.000000000 & ⋯ & 0.000000e+00 & 0.000000000 & 0.000000000 & 0.00000000 & 0.000000000 & 0.000000000 & 0.000000000 & 0.000000000 & 0.000000000 & 0.000000000\\\\\n",
       "\tEpinephrine & 0.015532887 & 0.042855058 & 0.031028952 & 0.013519933 & 0.027690394 & 0.003393792 & 0.006321167 & 0.003938247 & 0.000000000 & 0.021590161 & ⋯ & 2.351106e-02 & 0.004094760 & 0.004053245 & 0.03251412 & 0.010377761 & 0.013679497 & 0.004099502 & 0.025450369 & 0.011537664 & 0.028733693\\\\\n",
       "\tFibrinogen & 0.000000000 & 0.000000000 & 0.000000000 & 0.000000000 & 0.000000000 & 0.000000000 & 0.000000000 & 0.000000000 & 0.000000000 & 0.000000000 & ⋯ & 0.000000e+00 & 0.000000000 & 0.000000000 & 0.00000000 & 0.000000000 & 0.000000000 & 0.000000000 & 0.000000000 & 0.000000000 & 0.000000000\\\\\n",
       "\tHba1c & 0.000000000 & 0.000000000 & 0.000000000 & 0.000000000 & 0.000000000 & 0.000000000 & 0.000000000 & 0.000000000 & 0.000000000 & 0.000000000 & ⋯ & 0.000000e+00 & 0.000000000 & 0.000000000 & 0.00000000 & 0.000000000 & 0.000000000 & 0.000000000 & 0.000000000 & 0.000000000 & 0.000000000\\\\\n",
       "\tHDL & 0.002205412 & 0.015479817 & 0.046727621 & 0.005907825 & 0.012767215 & 0.023561688 & 0.021789403 & 0.001736960 & 0.013154589 & 0.006916254 & ⋯ & 4.546348e-02 & 0.021514693 & 0.007999264 & 0.02515716 & 0.020738688 & 0.015327843 & 0.018128867 & 0.044483117 & 0.011711887 & 0.011552924\\\\\n",
       "\tNoradrenaline & 0.016263172 & 0.009639203 & 0.006334285 & 0.005208139 & 0.006357052 & 0.004391540 & 0.012881340 & 0.000000000 & 0.004495786 & 0.001595375 & ⋯ & 6.646191e-05 & 0.006402995 & 0.003391818 & 0.00161711 & 0.005224793 & 0.002905861 & 0.004417262 & 0.012651450 & 0.009152430 & 0.004952542\\\\\n",
       "\\end{tabular}\n"
      ],
      "text/markdown": [
       "\n",
       "A data.frame: 7 × 34\n",
       "\n",
       "| <!--/--> | CS_10 &lt;dbl&gt; | CS_16 &lt;dbl&gt; | CS_17 &lt;dbl&gt; | CS_21 &lt;dbl&gt; | CS_22 &lt;dbl&gt; | CS_23 &lt;dbl&gt; | CS_24 &lt;dbl&gt; | CS_26 &lt;dbl&gt; | CS_27 &lt;dbl&gt; | CS_28 &lt;dbl&gt; | ⋯ ⋯ | NS_53 &lt;dbl&gt; | NS_54 &lt;dbl&gt; | NS_56 &lt;dbl&gt; | NS_57 &lt;dbl&gt; | NS_58 &lt;dbl&gt; | NS_59 &lt;dbl&gt; | NS_60 &lt;dbl&gt; | NS_61 &lt;dbl&gt; | NS_62 &lt;dbl&gt; | NS_63 &lt;dbl&gt; |\n",
       "|---|---|---|---|---|---|---|---|---|---|---|---|---|---|---|---|---|---|---|---|---|---|\n",
       "| Cortisol | 0.005583187 | 0.002868876 | 0.018964803 | 0.009211823 | 0.001857494 | 0.001279148 | 0.009354051 | 0.006423858 | 0.003889328 | 0.000000000 | ⋯ | 1.421884e-02 | 0.006892086 | 0.009282756 | 0.01043364 | 0.006145206 | 0.008223844 | 0.006403721 | 0.009235407 | 0.002216875 | 0.009211823 |\n",
       "| CRP | 0.000000000 | 0.000000000 | 0.000000000 | 0.000000000 | 0.000000000 | 0.000000000 | 0.000000000 | 0.000000000 | 0.000000000 | 0.000000000 | ⋯ | 0.000000e+00 | 0.000000000 | 0.000000000 | 0.00000000 | 0.000000000 | 0.000000000 | 0.000000000 | 0.000000000 | 0.000000000 | 0.000000000 |\n",
       "| Epinephrine | 0.015532887 | 0.042855058 | 0.031028952 | 0.013519933 | 0.027690394 | 0.003393792 | 0.006321167 | 0.003938247 | 0.000000000 | 0.021590161 | ⋯ | 2.351106e-02 | 0.004094760 | 0.004053245 | 0.03251412 | 0.010377761 | 0.013679497 | 0.004099502 | 0.025450369 | 0.011537664 | 0.028733693 |\n",
       "| Fibrinogen | 0.000000000 | 0.000000000 | 0.000000000 | 0.000000000 | 0.000000000 | 0.000000000 | 0.000000000 | 0.000000000 | 0.000000000 | 0.000000000 | ⋯ | 0.000000e+00 | 0.000000000 | 0.000000000 | 0.00000000 | 0.000000000 | 0.000000000 | 0.000000000 | 0.000000000 | 0.000000000 | 0.000000000 |\n",
       "| Hba1c | 0.000000000 | 0.000000000 | 0.000000000 | 0.000000000 | 0.000000000 | 0.000000000 | 0.000000000 | 0.000000000 | 0.000000000 | 0.000000000 | ⋯ | 0.000000e+00 | 0.000000000 | 0.000000000 | 0.00000000 | 0.000000000 | 0.000000000 | 0.000000000 | 0.000000000 | 0.000000000 | 0.000000000 |\n",
       "| HDL | 0.002205412 | 0.015479817 | 0.046727621 | 0.005907825 | 0.012767215 | 0.023561688 | 0.021789403 | 0.001736960 | 0.013154589 | 0.006916254 | ⋯ | 4.546348e-02 | 0.021514693 | 0.007999264 | 0.02515716 | 0.020738688 | 0.015327843 | 0.018128867 | 0.044483117 | 0.011711887 | 0.011552924 |\n",
       "| Noradrenaline | 0.016263172 | 0.009639203 | 0.006334285 | 0.005208139 | 0.006357052 | 0.004391540 | 0.012881340 | 0.000000000 | 0.004495786 | 0.001595375 | ⋯ | 6.646191e-05 | 0.006402995 | 0.003391818 | 0.00161711 | 0.005224793 | 0.002905861 | 0.004417262 | 0.012651450 | 0.009152430 | 0.004952542 |\n",
       "\n"
      ],
      "text/plain": [
       "              CS_10       CS_16       CS_17       CS_21       CS_22      \n",
       "Cortisol      0.005583187 0.002868876 0.018964803 0.009211823 0.001857494\n",
       "CRP           0.000000000 0.000000000 0.000000000 0.000000000 0.000000000\n",
       "Epinephrine   0.015532887 0.042855058 0.031028952 0.013519933 0.027690394\n",
       "Fibrinogen    0.000000000 0.000000000 0.000000000 0.000000000 0.000000000\n",
       "Hba1c         0.000000000 0.000000000 0.000000000 0.000000000 0.000000000\n",
       "HDL           0.002205412 0.015479817 0.046727621 0.005907825 0.012767215\n",
       "Noradrenaline 0.016263172 0.009639203 0.006334285 0.005208139 0.006357052\n",
       "              CS_23       CS_24       CS_26       CS_27       CS_28       ⋯\n",
       "Cortisol      0.001279148 0.009354051 0.006423858 0.003889328 0.000000000 ⋯\n",
       "CRP           0.000000000 0.000000000 0.000000000 0.000000000 0.000000000 ⋯\n",
       "Epinephrine   0.003393792 0.006321167 0.003938247 0.000000000 0.021590161 ⋯\n",
       "Fibrinogen    0.000000000 0.000000000 0.000000000 0.000000000 0.000000000 ⋯\n",
       "Hba1c         0.000000000 0.000000000 0.000000000 0.000000000 0.000000000 ⋯\n",
       "HDL           0.023561688 0.021789403 0.001736960 0.013154589 0.006916254 ⋯\n",
       "Noradrenaline 0.004391540 0.012881340 0.000000000 0.004495786 0.001595375 ⋯\n",
       "              NS_53        NS_54       NS_56       NS_57      NS_58      \n",
       "Cortisol      1.421884e-02 0.006892086 0.009282756 0.01043364 0.006145206\n",
       "CRP           0.000000e+00 0.000000000 0.000000000 0.00000000 0.000000000\n",
       "Epinephrine   2.351106e-02 0.004094760 0.004053245 0.03251412 0.010377761\n",
       "Fibrinogen    0.000000e+00 0.000000000 0.000000000 0.00000000 0.000000000\n",
       "Hba1c         0.000000e+00 0.000000000 0.000000000 0.00000000 0.000000000\n",
       "HDL           4.546348e-02 0.021514693 0.007999264 0.02515716 0.020738688\n",
       "Noradrenaline 6.646191e-05 0.006402995 0.003391818 0.00161711 0.005224793\n",
       "              NS_59       NS_60       NS_61       NS_62       NS_63      \n",
       "Cortisol      0.008223844 0.006403721 0.009235407 0.002216875 0.009211823\n",
       "CRP           0.000000000 0.000000000 0.000000000 0.000000000 0.000000000\n",
       "Epinephrine   0.013679497 0.004099502 0.025450369 0.011537664 0.028733693\n",
       "Fibrinogen    0.000000000 0.000000000 0.000000000 0.000000000 0.000000000\n",
       "Hba1c         0.000000000 0.000000000 0.000000000 0.000000000 0.000000000\n",
       "HDL           0.015327843 0.018128867 0.044483117 0.011711887 0.011552924\n",
       "Noradrenaline 0.002905861 0.004417262 0.012651450 0.009152430 0.004952542"
      ]
     },
     "metadata": {},
     "output_type": "display_data"
    }
   ],
   "source": [
    "# multiplying the value of the mediator in each row by its respective ordinal\n",
    "# weight found in the last column\n",
    "multiplication_df = wider_scores_df %>%\n",
    "    select(-Coefficient) %>%\n",
    "    mutate(across(contains(\"_\"), ~.x*wider_scores_df$Coefficient))\n",
    "\n",
    "# # identifying the rows with only zeros \n",
    "# zero_booleans = apply(multiplication_df, 1, function(row) all(row == 0)) \n",
    "# zero_rownames = rownames(multiplication_df)[zero_booleans]\n",
    "\n",
    "# `%notin%` <- Negate(`%in%`)\n",
    "# zero_df = wider_biomarker_df[rownames(wider_biomarker_df) %in% zero_rownames,] %>%\n",
    "#     select(-Coefficient)\n",
    "# non_zero_df = multiplication_df[rownames(multiplication_df) %notin% zero_rownames,] \n",
    "                          \n",
    "# # recombining data\n",
    "# weighted_mediator_score_df = rbind(zero_df, non_zero_df)\n",
    "                      \n",
    "# head(weighted_mediator_score_df)\n",
    "\n",
    "multiplication_df"
   ]
  },
  {
   "cell_type": "code",
   "execution_count": 8,
   "id": "4f12dfba-65eb-4a3a-a38a-2e5fc232b617",
   "metadata": {},
   "outputs": [
    {
     "data": {
      "text/html": [
       "<table class=\"dataframe\">\n",
       "<caption>A data.frame: 6 × 1</caption>\n",
       "<thead>\n",
       "\t<tr><th></th><th scope=col>Allostatic_Load</th></tr>\n",
       "\t<tr><th></th><th scope=col>&lt;dbl&gt;</th></tr>\n",
       "</thead>\n",
       "<tbody>\n",
       "\t<tr><th scope=row>NS_41</th><td>0.11948496</td></tr>\n",
       "\t<tr><th scope=row>CS_31</th><td>0.11776398</td></tr>\n",
       "\t<tr><th scope=row>CS_17</th><td>0.10305566</td></tr>\n",
       "\t<tr><th scope=row>NS_38</th><td>0.09541933</td></tr>\n",
       "\t<tr><th scope=row>NS_61</th><td>0.09182034</td></tr>\n",
       "\t<tr><th scope=row>NS_53</th><td>0.08325984</td></tr>\n",
       "</tbody>\n",
       "</table>\n"
      ],
      "text/latex": [
       "A data.frame: 6 × 1\n",
       "\\begin{tabular}{r|l}\n",
       "  & Allostatic\\_Load\\\\\n",
       "  & <dbl>\\\\\n",
       "\\hline\n",
       "\tNS\\_41 & 0.11948496\\\\\n",
       "\tCS\\_31 & 0.11776398\\\\\n",
       "\tCS\\_17 & 0.10305566\\\\\n",
       "\tNS\\_38 & 0.09541933\\\\\n",
       "\tNS\\_61 & 0.09182034\\\\\n",
       "\tNS\\_53 & 0.08325984\\\\\n",
       "\\end{tabular}\n"
      ],
      "text/markdown": [
       "\n",
       "A data.frame: 6 × 1\n",
       "\n",
       "| <!--/--> | Allostatic_Load &lt;dbl&gt; |\n",
       "|---|---|\n",
       "| NS_41 | 0.11948496 |\n",
       "| CS_31 | 0.11776398 |\n",
       "| CS_17 | 0.10305566 |\n",
       "| NS_38 | 0.09541933 |\n",
       "| NS_61 | 0.09182034 |\n",
       "| NS_53 | 0.08325984 |\n",
       "\n"
      ],
      "text/plain": [
       "      Allostatic_Load\n",
       "NS_41 0.11948496     \n",
       "CS_31 0.11776398     \n",
       "CS_17 0.10305566     \n",
       "NS_38 0.09541933     \n",
       "NS_61 0.09182034     \n",
       "NS_53 0.08325984     "
      ]
     },
     "metadata": {},
     "output_type": "display_data"
    }
   ],
   "source": [
    "# calculating allostatic load by summing by the columns\n",
    "allostatic_load_df = data.frame(Allostatic_Load = apply(multiplication_df, 2, sum)) %>%\n",
    "    arrange(-Allostatic_Load)\n",
    "\n",
    "head(allostatic_load_df)"
   ]
  },
  {
   "cell_type": "code",
   "execution_count": null,
   "id": "83dc3e51-aacb-4afb-a898-954eff14cc7f",
   "metadata": {},
   "outputs": [],
   "source": []
  }
 ],
 "metadata": {
  "kernelspec": {
   "display_name": "R",
   "language": "R",
   "name": "ir"
  },
  "language_info": {
   "codemirror_mode": "r",
   "file_extension": ".r",
   "mimetype": "text/x-r-source",
   "name": "R",
   "pygments_lexer": "r",
   "version": "4.3.1"
  }
 },
 "nbformat": 4,
 "nbformat_minor": 5
}
