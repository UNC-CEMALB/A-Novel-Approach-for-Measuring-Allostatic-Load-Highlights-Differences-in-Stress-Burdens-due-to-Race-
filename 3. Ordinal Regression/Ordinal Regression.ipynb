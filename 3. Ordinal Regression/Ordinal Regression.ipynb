{
 "cells": [
  {
   "cell_type": "code",
   "execution_count": 7,
   "id": "9863b40f-c1d0-4b36-83a8-07055c92fe8f",
   "metadata": {},
   "outputs": [],
   "source": [
    "Output = ('/Users/alexis/Library/CloudStorage/OneDrive-UniversityofNorthCarolinaatChapelHill/CEMALB_DataAnalysisPM/Projects/P1012. Allostatic Load/P1012.3. Analyses/P1012.3.2. Ordinal Regression/Output')\n",
    "cur_date = \"052324\"\n",
    "\n",
    "library(readxl)\n",
    "library(openxlsx)\n",
    "library(tidyverse)\n",
    "library(ordinalNet)\n",
    "\n",
    "# reading in file\n",
    "#cytokine_df = data.frame(read_excel(\"Input/Allostatic_Mediator_Data_050824.xlsx\", sheet = 2)) \n",
    "bp_df = data.frame(read_excel(\"Input/Allostatic_Mediator_Data_050824.xlsx\", sheet = 4)) \n",
    "subject_info_df = data.frame(read_excel(\"Input/Subject_Info_050824.xlsx\", sheet = 2))\n",
    "allostatic_load_df = data.frame(read_excel(\"Input/Allostatic_Load_BP_Subjects_051324.xlsx\"))"
   ]
  },
  {
   "cell_type": "code",
   "execution_count": 8,
   "id": "4eae0161-33b8-4c89-80c2-75116265c536",
   "metadata": {},
   "outputs": [
    {
     "data": {
      "text/html": [
       "<table class=\"dataframe\">\n",
       "<caption>A data.frame: 6 × 4</caption>\n",
       "<thead>\n",
       "\t<tr><th></th><th scope=col>Subject_ID</th><th scope=col>Systolic</th><th scope=col>Diastolic</th><th scope=col>BP_Classification</th></tr>\n",
       "\t<tr><th></th><th scope=col>&lt;chr&gt;</th><th scope=col>&lt;dbl&gt;</th><th scope=col>&lt;dbl&gt;</th><th scope=col>&lt;chr&gt;</th></tr>\n",
       "</thead>\n",
       "<tbody>\n",
       "\t<tr><th scope=row>1</th><td>CS_26</td><td>133</td><td>86</td><td>1</td></tr>\n",
       "\t<tr><th scope=row>2</th><td>CS_29</td><td>116</td><td>84</td><td>N</td></tr>\n",
       "\t<tr><th scope=row>3</th><td>CS_17</td><td>118</td><td>80</td><td>N</td></tr>\n",
       "\t<tr><th scope=row>4</th><td>NS_63</td><td>122</td><td>85</td><td>E</td></tr>\n",
       "\t<tr><th scope=row>5</th><td>CS_21</td><td>112</td><td>77</td><td>N</td></tr>\n",
       "\t<tr><th scope=row>6</th><td>CS_27</td><td>131</td><td>91</td><td>1</td></tr>\n",
       "</tbody>\n",
       "</table>\n"
      ],
      "text/latex": [
       "A data.frame: 6 × 4\n",
       "\\begin{tabular}{r|llll}\n",
       "  & Subject\\_ID & Systolic & Diastolic & BP\\_Classification\\\\\n",
       "  & <chr> & <dbl> & <dbl> & <chr>\\\\\n",
       "\\hline\n",
       "\t1 & CS\\_26 & 133 & 86 & 1\\\\\n",
       "\t2 & CS\\_29 & 116 & 84 & N\\\\\n",
       "\t3 & CS\\_17 & 118 & 80 & N\\\\\n",
       "\t4 & NS\\_63 & 122 & 85 & E\\\\\n",
       "\t5 & CS\\_21 & 112 & 77 & N\\\\\n",
       "\t6 & CS\\_27 & 131 & 91 & 1\\\\\n",
       "\\end{tabular}\n"
      ],
      "text/markdown": [
       "\n",
       "A data.frame: 6 × 4\n",
       "\n",
       "| <!--/--> | Subject_ID &lt;chr&gt; | Systolic &lt;dbl&gt; | Diastolic &lt;dbl&gt; | BP_Classification &lt;chr&gt; |\n",
       "|---|---|---|---|---|\n",
       "| 1 | CS_26 | 133 | 86 | 1 |\n",
       "| 2 | CS_29 | 116 | 84 | N |\n",
       "| 3 | CS_17 | 118 | 80 | N |\n",
       "| 4 | NS_63 | 122 | 85 | E |\n",
       "| 5 | CS_21 | 112 | 77 | N |\n",
       "| 6 | CS_27 | 131 | 91 | 1 |\n",
       "\n"
      ],
      "text/plain": [
       "  Subject_ID Systolic Diastolic BP_Classification\n",
       "1 CS_26      133      86        1                \n",
       "2 CS_29      116      84        N                \n",
       "3 CS_17      118      80        N                \n",
       "4 NS_63      122      85        E                \n",
       "5 CS_21      112      77        N                \n",
       "6 CS_27      131      91        1                "
      ]
     },
     "metadata": {},
     "output_type": "display_data"
    },
    {
     "data": {
      "text/html": [
       "<table class=\"dataframe\">\n",
       "<caption>A data.frame: 6 × 8</caption>\n",
       "<thead>\n",
       "\t<tr><th></th><th scope=col>Study</th><th scope=col>Original_Subject_Number</th><th scope=col>Subject_Number</th><th scope=col>Group</th><th scope=col>Subject_ID</th><th scope=col>Sex</th><th scope=col>Age</th><th scope=col>Race</th></tr>\n",
       "\t<tr><th></th><th scope=col>&lt;chr&gt;</th><th scope=col>&lt;dbl&gt;</th><th scope=col>&lt;dbl&gt;</th><th scope=col>&lt;chr&gt;</th><th scope=col>&lt;chr&gt;</th><th scope=col>&lt;chr&gt;</th><th scope=col>&lt;dbl&gt;</th><th scope=col>&lt;chr&gt;</th></tr>\n",
       "</thead>\n",
       "<tbody>\n",
       "\t<tr><th scope=row>1</th><td>FM2       </td><td> 97</td><td>1</td><td>CS</td><td>CS_1</td><td>M</td><td>18</td><td>B</td></tr>\n",
       "\t<tr><th scope=row>2</th><td>FM2       </td><td> 99</td><td>2</td><td>CS</td><td>CS_2</td><td>F</td><td>20</td><td>W</td></tr>\n",
       "\t<tr><th scope=row>3</th><td>FM2       </td><td>101</td><td>3</td><td>CS</td><td>CS_3</td><td>F</td><td>20</td><td>W</td></tr>\n",
       "\t<tr><th scope=row>4</th><td>FM2       </td><td> 98</td><td>4</td><td>CS</td><td>CS_4</td><td>F</td><td>21</td><td>W</td></tr>\n",
       "\t<tr><th scope=row>5</th><td>TCORS LAIV</td><td> 39</td><td>5</td><td>CS</td><td>CS_5</td><td>M</td><td>21</td><td>W</td></tr>\n",
       "\t<tr><th scope=row>6</th><td>FM2       </td><td>100</td><td>6</td><td>CS</td><td>CS_6</td><td>F</td><td>22</td><td>W</td></tr>\n",
       "</tbody>\n",
       "</table>\n"
      ],
      "text/latex": [
       "A data.frame: 6 × 8\n",
       "\\begin{tabular}{r|llllllll}\n",
       "  & Study & Original\\_Subject\\_Number & Subject\\_Number & Group & Subject\\_ID & Sex & Age & Race\\\\\n",
       "  & <chr> & <dbl> & <dbl> & <chr> & <chr> & <chr> & <dbl> & <chr>\\\\\n",
       "\\hline\n",
       "\t1 & FM2        &  97 & 1 & CS & CS\\_1 & M & 18 & B\\\\\n",
       "\t2 & FM2        &  99 & 2 & CS & CS\\_2 & F & 20 & W\\\\\n",
       "\t3 & FM2        & 101 & 3 & CS & CS\\_3 & F & 20 & W\\\\\n",
       "\t4 & FM2        &  98 & 4 & CS & CS\\_4 & F & 21 & W\\\\\n",
       "\t5 & TCORS LAIV &  39 & 5 & CS & CS\\_5 & M & 21 & W\\\\\n",
       "\t6 & FM2        & 100 & 6 & CS & CS\\_6 & F & 22 & W\\\\\n",
       "\\end{tabular}\n"
      ],
      "text/markdown": [
       "\n",
       "A data.frame: 6 × 8\n",
       "\n",
       "| <!--/--> | Study &lt;chr&gt; | Original_Subject_Number &lt;dbl&gt; | Subject_Number &lt;dbl&gt; | Group &lt;chr&gt; | Subject_ID &lt;chr&gt; | Sex &lt;chr&gt; | Age &lt;dbl&gt; | Race &lt;chr&gt; |\n",
       "|---|---|---|---|---|---|---|---|---|\n",
       "| 1 | FM2        |  97 | 1 | CS | CS_1 | M | 18 | B |\n",
       "| 2 | FM2        |  99 | 2 | CS | CS_2 | F | 20 | W |\n",
       "| 3 | FM2        | 101 | 3 | CS | CS_3 | F | 20 | W |\n",
       "| 4 | FM2        |  98 | 4 | CS | CS_4 | F | 21 | W |\n",
       "| 5 | TCORS LAIV |  39 | 5 | CS | CS_5 | M | 21 | W |\n",
       "| 6 | FM2        | 100 | 6 | CS | CS_6 | F | 22 | W |\n",
       "\n"
      ],
      "text/plain": [
       "  Study      Original_Subject_Number Subject_Number Group Subject_ID Sex Age\n",
       "1 FM2         97                     1              CS    CS_1       M   18 \n",
       "2 FM2         99                     2              CS    CS_2       F   20 \n",
       "3 FM2        101                     3              CS    CS_3       F   20 \n",
       "4 FM2         98                     4              CS    CS_4       F   21 \n",
       "5 TCORS LAIV  39                     5              CS    CS_5       M   21 \n",
       "6 FM2        100                     6              CS    CS_6       F   22 \n",
       "  Race\n",
       "1 B   \n",
       "2 W   \n",
       "3 W   \n",
       "4 W   \n",
       "5 W   \n",
       "6 W   "
      ]
     },
     "metadata": {},
     "output_type": "display_data"
    },
    {
     "data": {
      "text/html": [
       "<table class=\"dataframe\">\n",
       "<caption>A data.frame: 6 × 4</caption>\n",
       "<thead>\n",
       "\t<tr><th></th><th scope=col>Group</th><th scope=col>Covariate</th><th scope=col>Subject_ID</th><th scope=col>Allostatic_Load</th></tr>\n",
       "\t<tr><th></th><th scope=col>&lt;chr&gt;</th><th scope=col>&lt;chr&gt;</th><th scope=col>&lt;chr&gt;</th><th scope=col>&lt;dbl&gt;</th></tr>\n",
       "</thead>\n",
       "<tbody>\n",
       "\t<tr><th scope=row>1</th><td>NS</td><td>B </td><td>NS_50</td><td>3.075079</td></tr>\n",
       "\t<tr><th scope=row>2</th><td>CS</td><td>B </td><td>CS_24</td><td>2.982104</td></tr>\n",
       "\t<tr><th scope=row>3</th><td>CS</td><td>NA</td><td>CS_32</td><td>2.902104</td></tr>\n",
       "\t<tr><th scope=row>4</th><td>NS</td><td>W </td><td>NS_49</td><td>2.873066</td></tr>\n",
       "\t<tr><th scope=row>5</th><td>CS</td><td>W </td><td>CS_31</td><td>2.832494</td></tr>\n",
       "\t<tr><th scope=row>6</th><td>NS</td><td>W </td><td>NS_38</td><td>2.815190</td></tr>\n",
       "</tbody>\n",
       "</table>\n"
      ],
      "text/latex": [
       "A data.frame: 6 × 4\n",
       "\\begin{tabular}{r|llll}\n",
       "  & Group & Covariate & Subject\\_ID & Allostatic\\_Load\\\\\n",
       "  & <chr> & <chr> & <chr> & <dbl>\\\\\n",
       "\\hline\n",
       "\t1 & NS & B  & NS\\_50 & 3.075079\\\\\n",
       "\t2 & CS & B  & CS\\_24 & 2.982104\\\\\n",
       "\t3 & CS & NA & CS\\_32 & 2.902104\\\\\n",
       "\t4 & NS & W  & NS\\_49 & 2.873066\\\\\n",
       "\t5 & CS & W  & CS\\_31 & 2.832494\\\\\n",
       "\t6 & NS & W  & NS\\_38 & 2.815190\\\\\n",
       "\\end{tabular}\n"
      ],
      "text/markdown": [
       "\n",
       "A data.frame: 6 × 4\n",
       "\n",
       "| <!--/--> | Group &lt;chr&gt; | Covariate &lt;chr&gt; | Subject_ID &lt;chr&gt; | Allostatic_Load &lt;dbl&gt; |\n",
       "|---|---|---|---|---|\n",
       "| 1 | NS | B  | NS_50 | 3.075079 |\n",
       "| 2 | CS | B  | CS_24 | 2.982104 |\n",
       "| 3 | CS | NA | CS_32 | 2.902104 |\n",
       "| 4 | NS | W  | NS_49 | 2.873066 |\n",
       "| 5 | CS | W  | CS_31 | 2.832494 |\n",
       "| 6 | NS | W  | NS_38 | 2.815190 |\n",
       "\n"
      ],
      "text/plain": [
       "  Group Covariate Subject_ID Allostatic_Load\n",
       "1 NS    B         NS_50      3.075079       \n",
       "2 CS    B         CS_24      2.982104       \n",
       "3 CS    NA        CS_32      2.902104       \n",
       "4 NS    W         NS_49      2.873066       \n",
       "5 CS    W         CS_31      2.832494       \n",
       "6 NS    W         NS_38      2.815190       "
      ]
     },
     "metadata": {},
     "output_type": "display_data"
    }
   ],
   "source": [
    "#head(cytokine_df)\n",
    "head(bp_df)\n",
    "head(subject_info_df)\n",
    "head(allostatic_load_df)"
   ]
  },
  {
   "cell_type": "markdown",
   "id": "93dedb52-1e14-4811-9dfa-cbb225fed96a",
   "metadata": {},
   "source": [
    "In this analysis, we're using [ordinal regression](https://www.statisticssolutions.com/free-resources/directory-of-statistical-analyses/ordinal-regression/) to predict blood pressure classification using allostatic load scores and ???. "
   ]
  },
  {
   "cell_type": "code",
   "execution_count": 9,
   "id": "c921b84d-4579-4f4f-b1d5-7705201c472d",
   "metadata": {},
   "outputs": [
    {
     "name": "stderr",
     "output_type": "stream",
     "text": [
      "\u001b[1m\u001b[22mJoining with `by = join_by(Subject_ID)`\n",
      "\u001b[1m\u001b[22mJoining with `by = join_by(Subject_ID, Group)`\n"
     ]
    },
    {
     "data": {
      "text/html": [
       "<table class=\"dataframe\">\n",
       "<caption>A data.frame: 6 × 7</caption>\n",
       "<thead>\n",
       "\t<tr><th></th><th scope=col>Subject_ID</th><th scope=col>Group</th><th scope=col>Sex</th><th scope=col>Age</th><th scope=col>Race</th><th scope=col>Allostatic_Load</th><th scope=col>BP_Classification</th></tr>\n",
       "\t<tr><th></th><th scope=col>&lt;chr&gt;</th><th scope=col>&lt;chr&gt;</th><th scope=col>&lt;chr&gt;</th><th scope=col>&lt;dbl&gt;</th><th scope=col>&lt;chr&gt;</th><th scope=col>&lt;dbl&gt;</th><th scope=col>&lt;fct&gt;</th></tr>\n",
       "</thead>\n",
       "<tbody>\n",
       "\t<tr><th scope=row>1</th><td>CS_26</td><td>CS</td><td>F</td><td>34</td><td>B</td><td>0.6931927</td><td>1</td></tr>\n",
       "\t<tr><th scope=row>2</th><td>CS_29</td><td>CS</td><td>F</td><td>36</td><td>B</td><td>0.7449297</td><td>N</td></tr>\n",
       "\t<tr><th scope=row>3</th><td>CS_17</td><td>CS</td><td>M</td><td>29</td><td>W</td><td>1.8285318</td><td>N</td></tr>\n",
       "\t<tr><th scope=row>4</th><td>NS_63</td><td>NS</td><td>M</td><td>43</td><td>B</td><td>1.0934833</td><td>E</td></tr>\n",
       "\t<tr><th scope=row>5</th><td>CS_21</td><td>CS</td><td>F</td><td>31</td><td>B</td><td>1.8805092</td><td>N</td></tr>\n",
       "\t<tr><th scope=row>6</th><td>CS_27</td><td>CS</td><td>F</td><td>35</td><td>W</td><td>0.6372032</td><td>1</td></tr>\n",
       "</tbody>\n",
       "</table>\n"
      ],
      "text/latex": [
       "A data.frame: 6 × 7\n",
       "\\begin{tabular}{r|lllllll}\n",
       "  & Subject\\_ID & Group & Sex & Age & Race & Allostatic\\_Load & BP\\_Classification\\\\\n",
       "  & <chr> & <chr> & <chr> & <dbl> & <chr> & <dbl> & <fct>\\\\\n",
       "\\hline\n",
       "\t1 & CS\\_26 & CS & F & 34 & B & 0.6931927 & 1\\\\\n",
       "\t2 & CS\\_29 & CS & F & 36 & B & 0.7449297 & N\\\\\n",
       "\t3 & CS\\_17 & CS & M & 29 & W & 1.8285318 & N\\\\\n",
       "\t4 & NS\\_63 & NS & M & 43 & B & 1.0934833 & E\\\\\n",
       "\t5 & CS\\_21 & CS & F & 31 & B & 1.8805092 & N\\\\\n",
       "\t6 & CS\\_27 & CS & F & 35 & W & 0.6372032 & 1\\\\\n",
       "\\end{tabular}\n"
      ],
      "text/markdown": [
       "\n",
       "A data.frame: 6 × 7\n",
       "\n",
       "| <!--/--> | Subject_ID &lt;chr&gt; | Group &lt;chr&gt; | Sex &lt;chr&gt; | Age &lt;dbl&gt; | Race &lt;chr&gt; | Allostatic_Load &lt;dbl&gt; | BP_Classification &lt;fct&gt; |\n",
       "|---|---|---|---|---|---|---|---|\n",
       "| 1 | CS_26 | CS | F | 34 | B | 0.6931927 | 1 |\n",
       "| 2 | CS_29 | CS | F | 36 | B | 0.7449297 | N |\n",
       "| 3 | CS_17 | CS | M | 29 | W | 1.8285318 | N |\n",
       "| 4 | NS_63 | NS | M | 43 | B | 1.0934833 | E |\n",
       "| 5 | CS_21 | CS | F | 31 | B | 1.8805092 | N |\n",
       "| 6 | CS_27 | CS | F | 35 | W | 0.6372032 | 1 |\n",
       "\n"
      ],
      "text/plain": [
       "  Subject_ID Group Sex Age Race Allostatic_Load BP_Classification\n",
       "1 CS_26      CS    F   34  B    0.6931927       1                \n",
       "2 CS_29      CS    F   36  B    0.7449297       N                \n",
       "3 CS_17      CS    M   29  W    1.8285318       N                \n",
       "4 NS_63      NS    M   43  B    1.0934833       E                \n",
       "5 CS_21      CS    F   31  B    1.8805092       N                \n",
       "6 CS_27      CS    F   35  W    0.6372032       1                "
      ]
     },
     "metadata": {},
     "output_type": "display_data"
    }
   ],
   "source": [
    "# creating 1 df\n",
    "full_df = inner_join(bp_df[,c(1,4)], subject_info_df[,4:8]) %>%\n",
    "    # filtering for subjects who have blood pressure measurements\n",
    "    #filter(Subject_ID %in% unique(bp_df$Subject_ID)) %>%\n",
    "    # adding allostatic load data\n",
    "    inner_join(allostatic_load_df) %>%\n",
    "    # only keep overall allostatic load scores   \n",
    "    filter(if_any(Covariate, is.na)) %>%\n",
    "    select(-Covariate) \n",
    "\n",
    "# turning BP into a factor\n",
    "full_df$BP_Classification = factor(full_df$BP_Classification, levels = c(\"N\", \"E\", \"1\", '2'))\n",
    "\n",
    "full_df = full_df[,c(1,3:7,2)]\n",
    "    \n",
    "\n",
    "head(full_df)"
   ]
  },
  {
   "cell_type": "markdown",
   "id": "669315c1-27e1-461d-a364-7f4c977191ab",
   "metadata": {},
   "source": [
    "# Ordinal Regression\n",
    "\n",
    "dataset is a data frame containing the sample names under the first column, the feature data in the next n-1 columns, and the response data in the last column under response. This order matters for line 25, where you get a matrix of just the features. Could be obtained in better ways.\n",
    "Line 27 runs the actual regression using the matrix of features, and a factor of responses, both having the same order of samples they were obtained from."
   ]
  },
  {
   "cell_type": "code",
   "execution_count": 19,
   "id": "ebaea5d5-9dc1-472a-a2d9-b3db502485bf",
   "metadata": {},
   "outputs": [],
   "source": [
    "############## Start Weight Estimation Process #####################\n",
    "estimateOrdWeights <- function(dataset, response){\n",
    "    # ADD WORDS\n",
    "    # ordinal regression or estimating ordinal weights\n",
    "    \n",
    "    ############# get required Regression Parameters\n",
    "    \n",
    "    #get number of response levels\n",
    "    NoBins <- length(unique(dataset[[response]]))\n",
    "    print(NoBins)\n",
    "    #get number of features or slieces\n",
    "    noSlices <- ncol(dataset) - 2\n",
    "    \n",
    "    #set ordering of response levels as factor\n",
    "    # orderedBins <- vector()\n",
    "    # for(i in 1:NoBins){\n",
    "    #   orderedBins <- c(orderedBins, as.character(i))\n",
    "    # }\n",
    "    # Bins_factor <- factor(dataset[,'response'], ordered = TRUE, levels = orderedBins)\n",
    "    trues <- rep(TRUE, noSlices)\n",
    "    print(trues)\n",
    "    \n",
    "    #run the regression\n",
    "    feature_data <- as.matrix(dataset[,c(2:(ncol(dataset)-1))])\n",
    "    #class(featuredata) <- \"numeric\"\n",
    "\n",
    "    # ordinal regression\n",
    "    # positiveID specifies whether or not each coefficient for each ind. variable should be constrained to be non-negative\n",
    "    regression_model <- ordinalNet(feature_data, dataset[[response]], positiveID = trues, \n",
    "                            #?\n",
    "                            #?\n",
    "                         lambdaVals = 0, maxiterOut = 100)\n",
    "    testW <- regression_model$coefs[NoBins:(noSlices + NoBins - 1)]\n",
    "    print(testW)\n",
    "    testW <- testW/sum(testW)\n",
    "    \n",
    "    return(testW)\n",
    "}"
   ]
  },
  {
   "cell_type": "code",
   "execution_count": 20,
   "id": "dae3f631-8de9-4201-a1cf-447f57ca4d97",
   "metadata": {},
   "outputs": [
    {
     "name": "stdout",
     "output_type": "stream",
     "text": [
      "[1] 4\n",
      "[1] TRUE\n",
      "[1] 0\n"
     ]
    },
    {
     "data": {
      "text/html": [
       "NaN"
      ],
      "text/latex": [
       "NaN"
      ],
      "text/markdown": [
       "NaN"
      ],
      "text/plain": [
       "[1] NaN"
      ]
     },
     "metadata": {},
     "output_type": "display_data"
    }
   ],
   "source": [
    "# calling fn\n",
    "estimateOrdWeights(full_df[,c(1,6,7)], 'BP_Classification')"
   ]
  },
  {
   "cell_type": "code",
   "execution_count": 5,
   "id": "e2602d27-f0f1-4158-96cd-b259bbce49ef",
   "metadata": {},
   "outputs": [],
   "source": [
    "############## Create Testing Function #########################################\n",
    "testWeights <- function(data, dataset, w, observedResponse, binRanks){\n",
    "  idName <- 'Name'\n",
    "  tmpData <- as.matrix(data[,-1])\n",
    "  class(tmpData) <- \"numeric\"\n",
    "  score <- rowSums(tmpData*rep(w, each = NROW(tmpData)), na.rm = TRUE)\n",
    "  testData <- cbind(data,score)\n",
    "  \n",
    "  #sort the data based on new scores\n",
    "  testData <- testData[order(testData[,'score'], decreasing = TRUE),]\n",
    "  \n",
    "  #determine the rank and responses of \"known\" profiles using the proposed weights\n",
    "  noSamples <- nrow(data)\n",
    "  noKnown <- nrow(dataset)\n",
    "  rank <- c(1:noSamples)\n",
    "  testData <- cbind(testData, rank)\n",
    "  testData <- cbind(testData, observedResponse)\n",
    "  testKnowns <- testData[testData[,idName] %in% dataset[,idName],]\n",
    "  \n",
    "  #get fitness of weights based on deviation of bins*(indices from bin) for known profiles\n",
    "  deviation <- 0\n",
    "  for(i in 1:noKnown){\n",
    "    #get sample info\n",
    "    id <- testKnowns[i,idName]\n",
    "    trueBin <- dataset[dataset[,idName] == id,'response']\n",
    "    observedBin <- testKnowns[testKnowns[,idName] == id,'observedResponse']\n",
    "    observedRank <- testKnowns[testKnowns[,idName] == id,'rank']\n",
    "    #get rank distance of sample from true bin\n",
    "    if(trueBin < observedBin){\n",
    "      binDist <- abs(binRanks[trueBin+1] - observedRank - 1)\n",
    "    } else if(trueBin > observedBin){\n",
    "      binDist <- binRanks[trueBin] - observedRank\n",
    "    } else {\n",
    "      binDist <- 0\n",
    "    }\n",
    "    #add sample deviations together\n",
    "    deviation <- deviation + abs(trueBin - observedBin)*binDist\n",
    "  }\n",
    "  return(deviation)\n",
    "}"
   ]
  }
 ],
 "metadata": {
  "kernelspec": {
   "display_name": "R",
   "language": "R",
   "name": "ir"
  },
  "language_info": {
   "codemirror_mode": "r",
   "file_extension": ".r",
   "mimetype": "text/x-r-source",
   "name": "R",
   "pygments_lexer": "r",
   "version": "4.3.1"
  }
 },
 "nbformat": 4,
 "nbformat_minor": 5
}
