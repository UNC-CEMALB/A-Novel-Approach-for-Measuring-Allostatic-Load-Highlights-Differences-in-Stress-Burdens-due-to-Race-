{
 "cells": [
  {
   "cell_type": "code",
   "execution_count": 1,
   "id": "9863b40f-c1d0-4b36-83a8-07055c92fe8f",
   "metadata": {},
   "outputs": [
    {
     "name": "stderr",
     "output_type": "stream",
     "text": [
      "── \u001b[1mAttaching core tidyverse packages\u001b[22m ──────────────────────── tidyverse 2.0.0 ──\n",
      "\u001b[32m✔\u001b[39m \u001b[34mdplyr    \u001b[39m 1.1.3     \u001b[32m✔\u001b[39m \u001b[34mreadr    \u001b[39m 2.1.4\n",
      "\u001b[32m✔\u001b[39m \u001b[34mforcats  \u001b[39m 1.0.0     \u001b[32m✔\u001b[39m \u001b[34mstringr  \u001b[39m 1.5.0\n",
      "\u001b[32m✔\u001b[39m \u001b[34mggplot2  \u001b[39m 3.4.3     \u001b[32m✔\u001b[39m \u001b[34mtibble   \u001b[39m 3.2.1\n",
      "\u001b[32m✔\u001b[39m \u001b[34mlubridate\u001b[39m 1.9.2     \u001b[32m✔\u001b[39m \u001b[34mtidyr    \u001b[39m 1.3.0\n",
      "\u001b[32m✔\u001b[39m \u001b[34mpurrr    \u001b[39m 1.0.2     \n",
      "── \u001b[1mConflicts\u001b[22m ────────────────────────────────────────── tidyverse_conflicts() ──\n",
      "\u001b[31m✖\u001b[39m \u001b[34mdplyr\u001b[39m::\u001b[32mfilter()\u001b[39m masks \u001b[34mstats\u001b[39m::filter()\n",
      "\u001b[31m✖\u001b[39m \u001b[34mdplyr\u001b[39m::\u001b[32mlag()\u001b[39m    masks \u001b[34mstats\u001b[39m::lag()\n",
      "\u001b[36mℹ\u001b[39m Use the conflicted package (\u001b[3m\u001b[34m<http://conflicted.r-lib.org/>\u001b[39m\u001b[23m) to force all conflicts to become errors\n",
      "\n",
      "Attaching package: ‘reshape2’\n",
      "\n",
      "\n",
      "The following object is masked from ‘package:tidyr’:\n",
      "\n",
      "    smiths\n",
      "\n",
      "\n"
     ]
    }
   ],
   "source": [
    "Output = ('/Users/alexis/Library/CloudStorage/OneDrive-UniversityofNorthCarolinaatChapelHill/CEMALB_DataAnalysisPM/Projects/P1012. Allostatic Load/P1012.3. Analyses/P1012.3.2. Ordinal Regression/Output')\n",
    "cur_date = \"060624\"\n",
    "\n",
    "library(readxl)\n",
    "library(openxlsx)\n",
    "library(tidyverse)\n",
    "library(ordinalNet)\n",
    "library(reshape2)\n",
    "library(ggpubr)\n",
    "\n",
    "# reading in file\n",
    "bp_df = data.frame(read_excel(\"Input/Allostatic_Mediator_Data_050824.xlsx\", sheet = 4)) \n",
    "subject_info_df = data.frame(read_excel(\"Input/Subject_Info_050824.xlsx\", sheet = 2))\n",
    "mediator_scores_df = data.frame(read_excel(\"Input/Mediator_Scores_BP_Subjects_060324.xlsx\"))"
   ]
  },
  {
   "cell_type": "code",
   "execution_count": 2,
   "id": "4eae0161-33b8-4c89-80c2-75116265c536",
   "metadata": {},
   "outputs": [
    {
     "data": {
      "text/html": [
       "<table class=\"dataframe\">\n",
       "<caption>A data.frame: 6 × 4</caption>\n",
       "<thead>\n",
       "\t<tr><th></th><th scope=col>Subject_ID</th><th scope=col>Systolic</th><th scope=col>Diastolic</th><th scope=col>BP_Classification</th></tr>\n",
       "\t<tr><th></th><th scope=col>&lt;chr&gt;</th><th scope=col>&lt;dbl&gt;</th><th scope=col>&lt;dbl&gt;</th><th scope=col>&lt;chr&gt;</th></tr>\n",
       "</thead>\n",
       "<tbody>\n",
       "\t<tr><th scope=row>1</th><td>CS_M_21_W_5 </td><td>114</td><td>70</td><td>N</td></tr>\n",
       "\t<tr><th scope=row>2</th><td>CS_M_24_W_8 </td><td>118</td><td>71</td><td>N</td></tr>\n",
       "\t<tr><th scope=row>3</th><td>CS_M_25_W_10</td><td>121</td><td>83</td><td>E</td></tr>\n",
       "\t<tr><th scope=row>4</th><td>CS_M_28_W_16</td><td>115</td><td>74</td><td>N</td></tr>\n",
       "\t<tr><th scope=row>5</th><td>CS_M_29_W_17</td><td>118</td><td>80</td><td>N</td></tr>\n",
       "\t<tr><th scope=row>6</th><td>CS_F_31_B_21</td><td>112</td><td>77</td><td>N</td></tr>\n",
       "</tbody>\n",
       "</table>\n"
      ],
      "text/latex": [
       "A data.frame: 6 × 4\n",
       "\\begin{tabular}{r|llll}\n",
       "  & Subject\\_ID & Systolic & Diastolic & BP\\_Classification\\\\\n",
       "  & <chr> & <dbl> & <dbl> & <chr>\\\\\n",
       "\\hline\n",
       "\t1 & CS\\_M\\_21\\_W\\_5  & 114 & 70 & N\\\\\n",
       "\t2 & CS\\_M\\_24\\_W\\_8  & 118 & 71 & N\\\\\n",
       "\t3 & CS\\_M\\_25\\_W\\_10 & 121 & 83 & E\\\\\n",
       "\t4 & CS\\_M\\_28\\_W\\_16 & 115 & 74 & N\\\\\n",
       "\t5 & CS\\_M\\_29\\_W\\_17 & 118 & 80 & N\\\\\n",
       "\t6 & CS\\_F\\_31\\_B\\_21 & 112 & 77 & N\\\\\n",
       "\\end{tabular}\n"
      ],
      "text/markdown": [
       "\n",
       "A data.frame: 6 × 4\n",
       "\n",
       "| <!--/--> | Subject_ID &lt;chr&gt; | Systolic &lt;dbl&gt; | Diastolic &lt;dbl&gt; | BP_Classification &lt;chr&gt; |\n",
       "|---|---|---|---|---|\n",
       "| 1 | CS_M_21_W_5  | 114 | 70 | N |\n",
       "| 2 | CS_M_24_W_8  | 118 | 71 | N |\n",
       "| 3 | CS_M_25_W_10 | 121 | 83 | E |\n",
       "| 4 | CS_M_28_W_16 | 115 | 74 | N |\n",
       "| 5 | CS_M_29_W_17 | 118 | 80 | N |\n",
       "| 6 | CS_F_31_B_21 | 112 | 77 | N |\n",
       "\n"
      ],
      "text/plain": [
       "  Subject_ID   Systolic Diastolic BP_Classification\n",
       "1 CS_M_21_W_5  114      70        N                \n",
       "2 CS_M_24_W_8  118      71        N                \n",
       "3 CS_M_25_W_10 121      83        E                \n",
       "4 CS_M_28_W_16 115      74        N                \n",
       "5 CS_M_29_W_17 118      80        N                \n",
       "6 CS_F_31_B_21 112      77        N                "
      ]
     },
     "metadata": {},
     "output_type": "display_data"
    },
    {
     "data": {
      "text/html": [
       "<table class=\"dataframe\">\n",
       "<caption>A data.frame: 6 × 8</caption>\n",
       "<thead>\n",
       "\t<tr><th></th><th scope=col>Study</th><th scope=col>Original_Subject_Number</th><th scope=col>Subject_ID</th><th scope=col>Subject_Number</th><th scope=col>Smoking_Status</th><th scope=col>Sex</th><th scope=col>Age</th><th scope=col>Race</th></tr>\n",
       "\t<tr><th></th><th scope=col>&lt;chr&gt;</th><th scope=col>&lt;dbl&gt;</th><th scope=col>&lt;chr&gt;</th><th scope=col>&lt;dbl&gt;</th><th scope=col>&lt;chr&gt;</th><th scope=col>&lt;chr&gt;</th><th scope=col>&lt;dbl&gt;</th><th scope=col>&lt;chr&gt;</th></tr>\n",
       "</thead>\n",
       "<tbody>\n",
       "\t<tr><th scope=row>1</th><td>FM2       </td><td> 97</td><td>CS_M_18_B_1</td><td>1</td><td>CS</td><td>M</td><td>18</td><td>B</td></tr>\n",
       "\t<tr><th scope=row>2</th><td>FM2       </td><td> 99</td><td>CS_F_20_W_2</td><td>2</td><td>CS</td><td>F</td><td>20</td><td>W</td></tr>\n",
       "\t<tr><th scope=row>3</th><td>FM2       </td><td>101</td><td>CS_F_20_W_3</td><td>3</td><td>CS</td><td>F</td><td>20</td><td>W</td></tr>\n",
       "\t<tr><th scope=row>4</th><td>FM2       </td><td> 98</td><td>CS_F_21_W_4</td><td>4</td><td>CS</td><td>F</td><td>21</td><td>W</td></tr>\n",
       "\t<tr><th scope=row>5</th><td>TCORS LAIV</td><td> 39</td><td>CS_M_21_W_5</td><td>5</td><td>CS</td><td>M</td><td>21</td><td>W</td></tr>\n",
       "\t<tr><th scope=row>6</th><td>FM2       </td><td>100</td><td>CS_F_22_W_6</td><td>6</td><td>CS</td><td>F</td><td>22</td><td>W</td></tr>\n",
       "</tbody>\n",
       "</table>\n"
      ],
      "text/latex": [
       "A data.frame: 6 × 8\n",
       "\\begin{tabular}{r|llllllll}\n",
       "  & Study & Original\\_Subject\\_Number & Subject\\_ID & Subject\\_Number & Smoking\\_Status & Sex & Age & Race\\\\\n",
       "  & <chr> & <dbl> & <chr> & <dbl> & <chr> & <chr> & <dbl> & <chr>\\\\\n",
       "\\hline\n",
       "\t1 & FM2        &  97 & CS\\_M\\_18\\_B\\_1 & 1 & CS & M & 18 & B\\\\\n",
       "\t2 & FM2        &  99 & CS\\_F\\_20\\_W\\_2 & 2 & CS & F & 20 & W\\\\\n",
       "\t3 & FM2        & 101 & CS\\_F\\_20\\_W\\_3 & 3 & CS & F & 20 & W\\\\\n",
       "\t4 & FM2        &  98 & CS\\_F\\_21\\_W\\_4 & 4 & CS & F & 21 & W\\\\\n",
       "\t5 & TCORS LAIV &  39 & CS\\_M\\_21\\_W\\_5 & 5 & CS & M & 21 & W\\\\\n",
       "\t6 & FM2        & 100 & CS\\_F\\_22\\_W\\_6 & 6 & CS & F & 22 & W\\\\\n",
       "\\end{tabular}\n"
      ],
      "text/markdown": [
       "\n",
       "A data.frame: 6 × 8\n",
       "\n",
       "| <!--/--> | Study &lt;chr&gt; | Original_Subject_Number &lt;dbl&gt; | Subject_ID &lt;chr&gt; | Subject_Number &lt;dbl&gt; | Smoking_Status &lt;chr&gt; | Sex &lt;chr&gt; | Age &lt;dbl&gt; | Race &lt;chr&gt; |\n",
       "|---|---|---|---|---|---|---|---|---|\n",
       "| 1 | FM2        |  97 | CS_M_18_B_1 | 1 | CS | M | 18 | B |\n",
       "| 2 | FM2        |  99 | CS_F_20_W_2 | 2 | CS | F | 20 | W |\n",
       "| 3 | FM2        | 101 | CS_F_20_W_3 | 3 | CS | F | 20 | W |\n",
       "| 4 | FM2        |  98 | CS_F_21_W_4 | 4 | CS | F | 21 | W |\n",
       "| 5 | TCORS LAIV |  39 | CS_M_21_W_5 | 5 | CS | M | 21 | W |\n",
       "| 6 | FM2        | 100 | CS_F_22_W_6 | 6 | CS | F | 22 | W |\n",
       "\n"
      ],
      "text/plain": [
       "  Study      Original_Subject_Number Subject_ID  Subject_Number Smoking_Status\n",
       "1 FM2         97                     CS_M_18_B_1 1              CS            \n",
       "2 FM2         99                     CS_F_20_W_2 2              CS            \n",
       "3 FM2        101                     CS_F_20_W_3 3              CS            \n",
       "4 FM2         98                     CS_F_21_W_4 4              CS            \n",
       "5 TCORS LAIV  39                     CS_M_21_W_5 5              CS            \n",
       "6 FM2        100                     CS_F_22_W_6 6              CS            \n",
       "  Sex Age Race\n",
       "1 M   18  B   \n",
       "2 F   20  W   \n",
       "3 F   20  W   \n",
       "4 F   21  W   \n",
       "5 M   21  W   \n",
       "6 F   22  W   "
      ]
     },
     "metadata": {},
     "output_type": "display_data"
    },
    {
     "data": {
      "text/html": [
       "<table class=\"dataframe\">\n",
       "<caption>A data.frame: 6 × 5</caption>\n",
       "<thead>\n",
       "\t<tr><th></th><th scope=col>Variable</th><th scope=col>Subject_ID</th><th scope=col>Mediator_Score</th><th scope=col>Smoking_Status</th><th scope=col>Race</th></tr>\n",
       "\t<tr><th></th><th scope=col>&lt;chr&gt;</th><th scope=col>&lt;chr&gt;</th><th scope=col>&lt;dbl&gt;</th><th scope=col>&lt;chr&gt;</th><th scope=col>&lt;chr&gt;</th></tr>\n",
       "</thead>\n",
       "<tbody>\n",
       "\t<tr><th scope=row>1</th><td>Cortisol</td><td>CS_M_21_W_5 </td><td>0.24743096</td><td>NA</td><td>NA</td></tr>\n",
       "\t<tr><th scope=row>2</th><td>Cortisol</td><td>CS_M_24_W_8 </td><td>0.31083055</td><td>NA</td><td>NA</td></tr>\n",
       "\t<tr><th scope=row>3</th><td>Cortisol</td><td>CS_M_25_W_10</td><td>0.13144609</td><td>NA</td><td>NA</td></tr>\n",
       "\t<tr><th scope=row>4</th><td>Cortisol</td><td>CS_M_28_W_16</td><td>0.06754252</td><td>NA</td><td>NA</td></tr>\n",
       "\t<tr><th scope=row>5</th><td>Cortisol</td><td>CS_M_29_W_17</td><td>0.44649218</td><td>NA</td><td>NA</td></tr>\n",
       "\t<tr><th scope=row>6</th><td>Cortisol</td><td>CS_F_31_B_21</td><td>0.21687581</td><td>NA</td><td>NA</td></tr>\n",
       "</tbody>\n",
       "</table>\n"
      ],
      "text/latex": [
       "A data.frame: 6 × 5\n",
       "\\begin{tabular}{r|lllll}\n",
       "  & Variable & Subject\\_ID & Mediator\\_Score & Smoking\\_Status & Race\\\\\n",
       "  & <chr> & <chr> & <dbl> & <chr> & <chr>\\\\\n",
       "\\hline\n",
       "\t1 & Cortisol & CS\\_M\\_21\\_W\\_5  & 0.24743096 & NA & NA\\\\\n",
       "\t2 & Cortisol & CS\\_M\\_24\\_W\\_8  & 0.31083055 & NA & NA\\\\\n",
       "\t3 & Cortisol & CS\\_M\\_25\\_W\\_10 & 0.13144609 & NA & NA\\\\\n",
       "\t4 & Cortisol & CS\\_M\\_28\\_W\\_16 & 0.06754252 & NA & NA\\\\\n",
       "\t5 & Cortisol & CS\\_M\\_29\\_W\\_17 & 0.44649218 & NA & NA\\\\\n",
       "\t6 & Cortisol & CS\\_F\\_31\\_B\\_21 & 0.21687581 & NA & NA\\\\\n",
       "\\end{tabular}\n"
      ],
      "text/markdown": [
       "\n",
       "A data.frame: 6 × 5\n",
       "\n",
       "| <!--/--> | Variable &lt;chr&gt; | Subject_ID &lt;chr&gt; | Mediator_Score &lt;dbl&gt; | Smoking_Status &lt;chr&gt; | Race &lt;chr&gt; |\n",
       "|---|---|---|---|---|---|\n",
       "| 1 | Cortisol | CS_M_21_W_5  | 0.24743096 | NA | NA |\n",
       "| 2 | Cortisol | CS_M_24_W_8  | 0.31083055 | NA | NA |\n",
       "| 3 | Cortisol | CS_M_25_W_10 | 0.13144609 | NA | NA |\n",
       "| 4 | Cortisol | CS_M_28_W_16 | 0.06754252 | NA | NA |\n",
       "| 5 | Cortisol | CS_M_29_W_17 | 0.44649218 | NA | NA |\n",
       "| 6 | Cortisol | CS_F_31_B_21 | 0.21687581 | NA | NA |\n",
       "\n"
      ],
      "text/plain": [
       "  Variable Subject_ID   Mediator_Score Smoking_Status Race\n",
       "1 Cortisol CS_M_21_W_5  0.24743096     NA             NA  \n",
       "2 Cortisol CS_M_24_W_8  0.31083055     NA             NA  \n",
       "3 Cortisol CS_M_25_W_10 0.13144609     NA             NA  \n",
       "4 Cortisol CS_M_28_W_16 0.06754252     NA             NA  \n",
       "5 Cortisol CS_M_29_W_17 0.44649218     NA             NA  \n",
       "6 Cortisol CS_F_31_B_21 0.21687581     NA             NA  "
      ]
     },
     "metadata": {},
     "output_type": "display_data"
    }
   ],
   "source": [
    "head(bp_df)\n",
    "head(subject_info_df)\n",
    "head(mediator_scores_df)"
   ]
  },
  {
   "cell_type": "markdown",
   "id": "93dedb52-1e14-4811-9dfa-cbb225fed96a",
   "metadata": {},
   "source": [
    "In this analysis, we're using [ordinal regression](https://www.statisticssolutions.com/free-resources/directory-of-statistical-analyses/ordinal-regression/) to predict blood pressure classification using mediator scores from 18 biomarkers. \n",
    "\n",
    "Starting by combining the dataframes."
   ]
  },
  {
   "cell_type": "code",
   "execution_count": 3,
   "id": "81dcded5-675d-495f-972b-693d8ff29cac",
   "metadata": {},
   "outputs": [],
   "source": [
    "# splitting the df based on group and race, to make the code more efficient\n",
    "split_mediator_df = mediator_scores_df %>%\n",
    "    group_by(Smoking_Status, Race) %>%\n",
    "    # splitting the df based on those variables\n",
    "    group_split()\n",
    "\n",
    "no_covariates_df = split_mediator_df[[4]]"
   ]
  },
  {
   "cell_type": "code",
   "execution_count": 4,
   "id": "5a21565a-4207-422e-bd1f-e57fc4ce8b43",
   "metadata": {},
   "outputs": [
    {
     "name": "stderr",
     "output_type": "stream",
     "text": [
      "\u001b[1m\u001b[22mJoining with `by = join_by(Subject_ID)`\n",
      "\u001b[1m\u001b[22mJoining with `by = join_by(Subject_ID)`\n"
     ]
    }
   ],
   "source": [
    "# creating a vector for variables that increase atherosclerotic risk\n",
    "# HDL decreases risk\n",
    "allostatic_load_biomarkers = c('Cortisol','Noradrenaline','Epinephrine','Hba1c','Fibrinogen','CRP', 'HDL')\n",
    "\n",
    "ordinal_regression = function(dataset){\n",
    "    # add words!!!!!\n",
    "    # creating 1 df\n",
    "    ordinal_regression_df = inner_join(bp_df[,c(1,4)], subject_info_df[,3:8]) %>%\n",
    "        # adding mediator scores data\n",
    "        inner_join(dataset[,1:3]) %>%\n",
    "        # obtaining allostatic load biomarkers only\n",
    "        filter(Variable %in% allostatic_load_biomarkers) %>%\n",
    "        pivot_wider(names_from = Variable, values_from = Mediator_Score)\n",
    "    \n",
    "    # turning BP into a factor\n",
    "    ordinal_regression_df$BP_Classification = factor(ordinal_regression_df$BP_Classification, levels = c(\"N\", \"E\", \"1\", '2'))\n",
    "\n",
    "    #reordering and removing some columns\n",
    "    ordinal_regression_df = ordinal_regression_df[,c(1,8:14,2)]\n",
    "\n",
    "    return(ordinal_regression_df)\n",
    "    }\n",
    "\n",
    "# calling fn\n",
    "reg_df = ordinal_regression(no_covariates_df)"
   ]
  },
  {
   "cell_type": "code",
   "execution_count": 5,
   "id": "fb1ed418-053f-4b77-a625-f236f975aded",
   "metadata": {},
   "outputs": [
    {
     "data": {
      "text/html": [
       "<table class=\"dataframe\">\n",
       "<caption>A data.frame: 7 × 2</caption>\n",
       "<thead>\n",
       "\t<tr><th scope=col>Variable</th><th scope=col>Coefficient</th></tr>\n",
       "\t<tr><th scope=col>&lt;chr&gt;</th><th scope=col>&lt;dbl&gt;</th></tr>\n",
       "</thead>\n",
       "<tbody>\n",
       "\t<tr><td>Epinephrine  </td><td>0.55594942</td></tr>\n",
       "\t<tr><td>Fibrinogen   </td><td>0.25770925</td></tr>\n",
       "\t<tr><td>Noradrenaline</td><td>0.15662389</td></tr>\n",
       "\t<tr><td>Cortisol     </td><td>0.02971744</td></tr>\n",
       "\t<tr><td>Hba1c        </td><td>0.00000000</td></tr>\n",
       "\t<tr><td>CRP          </td><td>0.00000000</td></tr>\n",
       "\t<tr><td>HDL          </td><td>0.00000000</td></tr>\n",
       "</tbody>\n",
       "</table>\n"
      ],
      "text/latex": [
       "A data.frame: 7 × 2\n",
       "\\begin{tabular}{ll}\n",
       " Variable & Coefficient\\\\\n",
       " <chr> & <dbl>\\\\\n",
       "\\hline\n",
       "\t Epinephrine   & 0.55594942\\\\\n",
       "\t Fibrinogen    & 0.25770925\\\\\n",
       "\t Noradrenaline & 0.15662389\\\\\n",
       "\t Cortisol      & 0.02971744\\\\\n",
       "\t Hba1c         & 0.00000000\\\\\n",
       "\t CRP           & 0.00000000\\\\\n",
       "\t HDL           & 0.00000000\\\\\n",
       "\\end{tabular}\n"
      ],
      "text/markdown": [
       "\n",
       "A data.frame: 7 × 2\n",
       "\n",
       "| Variable &lt;chr&gt; | Coefficient &lt;dbl&gt; |\n",
       "|---|---|\n",
       "| Epinephrine   | 0.55594942 |\n",
       "| Fibrinogen    | 0.25770925 |\n",
       "| Noradrenaline | 0.15662389 |\n",
       "| Cortisol      | 0.02971744 |\n",
       "| Hba1c         | 0.00000000 |\n",
       "| CRP           | 0.00000000 |\n",
       "| HDL           | 0.00000000 |\n",
       "\n"
      ],
      "text/plain": [
       "  Variable      Coefficient\n",
       "1 Epinephrine   0.55594942 \n",
       "2 Fibrinogen    0.25770925 \n",
       "3 Noradrenaline 0.15662389 \n",
       "4 Cortisol      0.02971744 \n",
       "5 Hba1c         0.00000000 \n",
       "6 CRP           0.00000000 \n",
       "7 HDL           0.00000000 "
      ]
     },
     "metadata": {},
     "output_type": "display_data"
    }
   ],
   "source": [
    "# creating a vector of booleans that specifies whether or not the coefficient should be\n",
    "# positive (TRUE) or negative (FALSE), only HDL will be negative\n",
    "biomarker_coefficients = c(rep(TRUE, ncol(reg_df) - 2))\n",
    "\n",
    "estimateOrdWeights <- function(dataset, response, coefficients_magnitude){\n",
    "    # \"\"\"\n",
    "    # Creating a function to run ordinal regression to estimate ordinal weights of mediator data based\n",
    "    # on blood pressure classification\n",
    "    # :param (input): wide df with biomarker data, response variable, magnitude of the coefficients\n",
    "    # :output: 1 df with the ordinal weights\n",
    "    # \"\"\"\n",
    "    \n",
    "    # setting seed for reproducibility\n",
    "    set.seed(12)\n",
    "    \n",
    "    #get number of response levels\n",
    "    NoBins <- length(unique(dataset[[response]]))\n",
    "\n",
    "    #get number of features or slices\n",
    "    noSlices <- ncol(dataset) - 2\n",
    "\n",
    "    # HDL needs to be negative so we'll make all the values negative\n",
    "    dataset$HDL = dataset$HDL * -1\n",
    "    \n",
    "    # obtaining the features and converting into a matrix\n",
    "    feature_data <- as.matrix(dataset[,c(2:(ncol(dataset) - 1))])\n",
    "\n",
    "    # ordinal regression\n",
    "    # positiveID specifies whether or not each coefficient for each ind. variable should be constrained to be non-negative\n",
    "    regression_model <- ordinalNet(feature_data, dataset[[response]], positiveID = coefficients_magnitude, \n",
    "                            # lambdaVals defines how quickly your coefficients drop to 0\n",
    "                            # keeping it at 0 tries to minimize feature reduction\n",
    "                            # maxiterout defines the number of iterations before it stops\n",
    "                         lambdaVals = 0, maxiterOut = 150)\n",
    "    testW <- regression_model$coefs[NoBins:(noSlices + NoBins - 1)]\n",
    "\n",
    "    # rescaling the coefficients so that they sum to 1\n",
    "    normalizer = 1/sum(testW)\n",
    "    rescaled_weight <- testW * normalizer\n",
    "\n",
    "    # adding the variable names back in \n",
    "    test_weights_df = data.frame(Variable = colnames(feature_data), Coefficient = rescaled_weight) %>%\n",
    "        arrange(-Coefficient) \n",
    "    \n",
    "    return(test_weights_df)\n",
    "}\n",
    "\n",
    "# calling fn\n",
    "weights_df = estimateOrdWeights(reg_df, 'BP_Classification', biomarker_coefficients)\n",
    "\n",
    "weights_df"
   ]
  },
  {
   "cell_type": "markdown",
   "id": "83f580e0-19d4-436e-a87e-06dabef40b33",
   "metadata": {},
   "source": [
    "Based on the overall results with all 34 subjects, we can see that epinephrine had the largest (56%) contribution to blood pressure classification, while 3 variables were constrained to 0 having no impact on BP classification.\n",
    "\n",
    "# Allostatic Load Summation\n",
    "\n",
    "Now that we have these weights from the ordinal regression, we'll calculate allostatic load scores for each subject using both the previously calculated mediator scores multiplied the ordinal weight for the 7 allostatic load biomarkers (cortisol, noradrenaline, epinephrine, HDL, Hba1c, fibrinogen, and CRP). The formula looks like...\n",
    "\n",
    "Allostatic Load = Cortisol ordinal weight * Cortisol score + CRP ordinal weight * CRP score..."
   ]
  },
  {
   "cell_type": "code",
   "execution_count": 6,
   "id": "74837d21-07ab-4d1e-a84c-521fb3ac8c4d",
   "metadata": {},
   "outputs": [
    {
     "name": "stderr",
     "output_type": "stream",
     "text": [
      "\u001b[1m\u001b[22mJoining with `by = join_by(Variable)`\n"
     ]
    },
    {
     "data": {
      "text/html": [
       "<table class=\"dataframe\">\n",
       "<caption>A data.frame: 6 × 2</caption>\n",
       "<thead>\n",
       "\t<tr><th></th><th scope=col>Subject_ID</th><th scope=col>Allostatic_Load</th></tr>\n",
       "\t<tr><th></th><th scope=col>&lt;chr&gt;</th><th scope=col>&lt;dbl&gt;</th></tr>\n",
       "</thead>\n",
       "<tbody>\n",
       "\t<tr><th scope=row>1</th><td>NS_F_27_B_50</td><td>0.6464005</td></tr>\n",
       "\t<tr><th scope=row>2</th><td>CS_M_28_W_16</td><td>0.6365527</td></tr>\n",
       "\t<tr><th scope=row>3</th><td>NS_F_23_W_41</td><td>0.6262244</td></tr>\n",
       "\t<tr><th scope=row>4</th><td>NS_F_38_B_61</td><td>0.6007436</td></tr>\n",
       "\t<tr><th scope=row>5</th><td>NS_F_32_B_57</td><td>0.5484291</td></tr>\n",
       "\t<tr><th scope=row>6</th><td>NS_F_21_B_37</td><td>0.5341852</td></tr>\n",
       "</tbody>\n",
       "</table>\n"
      ],
      "text/latex": [
       "A data.frame: 6 × 2\n",
       "\\begin{tabular}{r|ll}\n",
       "  & Subject\\_ID & Allostatic\\_Load\\\\\n",
       "  & <chr> & <dbl>\\\\\n",
       "\\hline\n",
       "\t1 & NS\\_F\\_27\\_B\\_50 & 0.6464005\\\\\n",
       "\t2 & CS\\_M\\_28\\_W\\_16 & 0.6365527\\\\\n",
       "\t3 & NS\\_F\\_23\\_W\\_41 & 0.6262244\\\\\n",
       "\t4 & NS\\_F\\_38\\_B\\_61 & 0.6007436\\\\\n",
       "\t5 & NS\\_F\\_32\\_B\\_57 & 0.5484291\\\\\n",
       "\t6 & NS\\_F\\_21\\_B\\_37 & 0.5341852\\\\\n",
       "\\end{tabular}\n"
      ],
      "text/markdown": [
       "\n",
       "A data.frame: 6 × 2\n",
       "\n",
       "| <!--/--> | Subject_ID &lt;chr&gt; | Allostatic_Load &lt;dbl&gt; |\n",
       "|---|---|---|\n",
       "| 1 | NS_F_27_B_50 | 0.6464005 |\n",
       "| 2 | CS_M_28_W_16 | 0.6365527 |\n",
       "| 3 | NS_F_23_W_41 | 0.6262244 |\n",
       "| 4 | NS_F_38_B_61 | 0.6007436 |\n",
       "| 5 | NS_F_32_B_57 | 0.5484291 |\n",
       "| 6 | NS_F_21_B_37 | 0.5341852 |\n",
       "\n"
      ],
      "text/plain": [
       "  Subject_ID   Allostatic_Load\n",
       "1 NS_F_27_B_50 0.6464005      \n",
       "2 CS_M_28_W_16 0.6365527      \n",
       "3 NS_F_23_W_41 0.6262244      \n",
       "4 NS_F_38_B_61 0.6007436      \n",
       "5 NS_F_32_B_57 0.5484291      \n",
       "6 NS_F_21_B_37 0.5341852      "
      ]
     },
     "metadata": {},
     "output_type": "display_data"
    }
   ],
   "source": [
    "allostatic_load = function(mediator_scores_df){\n",
    "    # add words!!\n",
    "    \n",
    "    # combining the mediator scores with the ordinal weights into one dataframe\n",
    "    wider_weights_df = dcast(mediator_scores_df, Variable ~ Subject_ID, value.var = \"Mediator_Score\") %>% \n",
    "        inner_join(weights_df) %>%\n",
    "        column_to_rownames(\"Variable\")\n",
    "\n",
    "    # multiplying the value of the mediator in each row by its respective ordinal\n",
    "    # weight found in the last column\n",
    "    multiplication_df = wider_weights_df %>%\n",
    "        select(-Coefficient) %>%\n",
    "        mutate(across(contains(\"_\"), ~.x*wider_weights_df$Coefficient))\n",
    "\n",
    "    # calculating allostatic load by summing by the columns\n",
    "    allostatic_load_df = data.frame(Allostatic_Load = apply(multiplication_df, 2, sum)) %>%\n",
    "        arrange(-Allostatic_Load) %>%\n",
    "        rownames_to_column(var = \"Subject_ID\")\n",
    "    \n",
    "    return(allostatic_load_df)\n",
    "    }\n",
    "\n",
    "# calling fn\n",
    "allostatic_df = allostatic_load(no_covariates_df)\n",
    "\n",
    "head(allostatic_df)"
   ]
  },
  {
   "cell_type": "markdown",
   "id": "14568402-86bb-4344-bc82-ab15b7389c53",
   "metadata": {},
   "source": [
    "Now testing for statistical differences based on sex and smoking status using a two way anova."
   ]
  },
  {
   "cell_type": "code",
   "execution_count": 10,
   "id": "203727fc-9642-45ec-919b-f0c13364bb26",
   "metadata": {},
   "outputs": [
    {
     "name": "stderr",
     "output_type": "stream",
     "text": [
      "\u001b[1m\u001b[22mJoining with `by = join_by(Subject_ID)`\n"
     ]
    },
    {
     "data": {
      "text/html": [
       "<table class=\"dataframe\">\n",
       "<caption>A data.frame: 6 × 5</caption>\n",
       "<thead>\n",
       "\t<tr><th></th><th scope=col>Subject_ID</th><th scope=col>Allostatic_Load</th><th scope=col>Smoking_Status</th><th scope=col>Sex</th><th scope=col>Race</th></tr>\n",
       "\t<tr><th></th><th scope=col>&lt;chr&gt;</th><th scope=col>&lt;dbl&gt;</th><th scope=col>&lt;chr&gt;</th><th scope=col>&lt;chr&gt;</th><th scope=col>&lt;chr&gt;</th></tr>\n",
       "</thead>\n",
       "<tbody>\n",
       "\t<tr><th scope=row>1</th><td>NS_F_27_B_50</td><td>0.6464005</td><td>NS</td><td>F</td><td>B</td></tr>\n",
       "\t<tr><th scope=row>2</th><td>CS_M_28_W_16</td><td>0.6365527</td><td>CS</td><td>M</td><td>W</td></tr>\n",
       "\t<tr><th scope=row>3</th><td>NS_F_23_W_41</td><td>0.6262244</td><td>NS</td><td>F</td><td>W</td></tr>\n",
       "\t<tr><th scope=row>4</th><td>NS_F_38_B_61</td><td>0.6007436</td><td>NS</td><td>F</td><td>B</td></tr>\n",
       "\t<tr><th scope=row>5</th><td>NS_F_32_B_57</td><td>0.5484291</td><td>NS</td><td>F</td><td>B</td></tr>\n",
       "\t<tr><th scope=row>6</th><td>NS_F_21_B_37</td><td>0.5341852</td><td>NS</td><td>F</td><td>B</td></tr>\n",
       "</tbody>\n",
       "</table>\n"
      ],
      "text/latex": [
       "A data.frame: 6 × 5\n",
       "\\begin{tabular}{r|lllll}\n",
       "  & Subject\\_ID & Allostatic\\_Load & Smoking\\_Status & Sex & Race\\\\\n",
       "  & <chr> & <dbl> & <chr> & <chr> & <chr>\\\\\n",
       "\\hline\n",
       "\t1 & NS\\_F\\_27\\_B\\_50 & 0.6464005 & NS & F & B\\\\\n",
       "\t2 & CS\\_M\\_28\\_W\\_16 & 0.6365527 & CS & M & W\\\\\n",
       "\t3 & NS\\_F\\_23\\_W\\_41 & 0.6262244 & NS & F & W\\\\\n",
       "\t4 & NS\\_F\\_38\\_B\\_61 & 0.6007436 & NS & F & B\\\\\n",
       "\t5 & NS\\_F\\_32\\_B\\_57 & 0.5484291 & NS & F & B\\\\\n",
       "\t6 & NS\\_F\\_21\\_B\\_37 & 0.5341852 & NS & F & B\\\\\n",
       "\\end{tabular}\n"
      ],
      "text/markdown": [
       "\n",
       "A data.frame: 6 × 5\n",
       "\n",
       "| <!--/--> | Subject_ID &lt;chr&gt; | Allostatic_Load &lt;dbl&gt; | Smoking_Status &lt;chr&gt; | Sex &lt;chr&gt; | Race &lt;chr&gt; |\n",
       "|---|---|---|---|---|---|\n",
       "| 1 | NS_F_27_B_50 | 0.6464005 | NS | F | B |\n",
       "| 2 | CS_M_28_W_16 | 0.6365527 | CS | M | W |\n",
       "| 3 | NS_F_23_W_41 | 0.6262244 | NS | F | W |\n",
       "| 4 | NS_F_38_B_61 | 0.6007436 | NS | F | B |\n",
       "| 5 | NS_F_32_B_57 | 0.5484291 | NS | F | B |\n",
       "| 6 | NS_F_21_B_37 | 0.5341852 | NS | F | B |\n",
       "\n"
      ],
      "text/plain": [
       "  Subject_ID   Allostatic_Load Smoking_Status Sex Race\n",
       "1 NS_F_27_B_50 0.6464005       NS             F   B   \n",
       "2 CS_M_28_W_16 0.6365527       CS             M   W   \n",
       "3 NS_F_23_W_41 0.6262244       NS             F   W   \n",
       "4 NS_F_38_B_61 0.6007436       NS             F   B   \n",
       "5 NS_F_32_B_57 0.5484291       NS             F   B   \n",
       "6 NS_F_21_B_37 0.5341852       NS             F   B   "
      ]
     },
     "metadata": {},
     "output_type": "display_data"
    },
    {
     "data": {
      "text/plain": [
       "              Race\n",
       "Smoking_Status  B  W\n",
       "            CS  8  9\n",
       "            NS 11  6"
      ]
     },
     "metadata": {},
     "output_type": "display_data"
    }
   ],
   "source": [
    "# adding in demographic info for each subject\n",
    "anova_df = inner_join(allostatic_df, subject_info_df[,c(3,5,6,8)])\n",
    "head(anova_df)\n",
    "\n",
    "# looking at counts for each variable\n",
    "table(anova_df[,c(3,5)])"
   ]
  },
  {
   "cell_type": "code",
   "execution_count": 12,
   "id": "9ed007f7-0f48-4a1b-af9c-041970384c46",
   "metadata": {},
   "outputs": [
    {
     "data": {
      "text/plain": [
       "                    Df Sum Sq Mean Sq F value Pr(>F)\n",
       "Smoking_Status       1 0.0700 0.06999   2.713  0.110\n",
       "Race                 1 0.0033 0.00331   0.128  0.723\n",
       "Smoking_Status:Race  1 0.0517 0.05168   2.003  0.167\n",
       "Residuals           30 0.7740 0.02580               "
      ]
     },
     "metadata": {},
     "output_type": "display_data"
    }
   ],
   "source": [
    "# two way anova\n",
    "anova = aov(Allostatic_Load ~ Smoking_Status * Race, data = test)\n",
    "\n",
    "summary(anova)"
   ]
  },
  {
   "cell_type": "code",
   "execution_count": 13,
   "id": "325e7cc8-0a45-4404-8d45-ed00715d33ed",
   "metadata": {},
   "outputs": [
    {
     "data": {
      "text/plain": [
       "  Tukey multiple comparisons of means\n",
       "    95% family-wise confidence level\n",
       "\n",
       "Fit: aov(formula = Allostatic_Load ~ Smoking_Status * Race, data = test)\n",
       "\n",
       "$Smoking_Status\n",
       "            diff         lwr       upr     p adj\n",
       "NS-CS 0.09074047 -0.02177559 0.2032565 0.1099898\n",
       "\n",
       "$Race\n",
       "          diff         lwr       upr     p adj\n",
       "W-B 0.01955001 -0.09375289 0.1328529 0.7270119\n",
       "\n",
       "$`Smoking_Status:Race`\n",
       "                  diff         lwr       upr     p adj\n",
       "NS:B-CS:B  0.164159922 -0.03878232 0.3671022 0.1465005\n",
       "CS:W-CS:B  0.096580778 -0.11564357 0.3088051 0.6085870\n",
       "NS:W-CS:B  0.101009321 -0.13486486 0.3368835 0.6533612\n",
       "CS:W-NS:B -0.067579144 -0.26388552 0.1287272 0.7858285\n",
       "NS:W-NS:B -0.063150602 -0.28481171 0.1585105 0.8652566\n",
       "NS:W-CS:W  0.004428543 -0.22576108 0.2346182 0.9999474\n"
      ]
     },
     "metadata": {},
     "output_type": "display_data"
    }
   ],
   "source": [
    "# post hoc\n",
    "TukeyHSD(anova)"
   ]
  },
  {
   "cell_type": "code",
   "execution_count": 20,
   "id": "bdecfa15-174e-49a5-be41-45f2b4c20f20",
   "metadata": {},
   "outputs": [
    {
     "data": {
      "image/png": "[encoded data removed]",
      "text/plain": [
       "plot without title"
      ]
     },
     "metadata": {
      "image/png": {
       "height": 360,
       "width": 480
      }
     },
     "output_type": "display_data"
    },
    {
     "data": {
      "image/png": "[encoded data removed]",
      "text/plain": [
       "plot without title"
      ]
     },
     "metadata": {
      "image/png": {
       "height": 360,
       "width": 480
      }
     },
     "output_type": "display_data"
    }
   ],
   "source": [
    "# visualizing using boxplots\n",
    "options(repr.plot.width=8, repr.plot.height=6) #changing size\n",
    "\n",
    "ggplot(data = anova_df, aes(y = Allostatic_Load, x = Smoking_Status)) + \n",
    "  geom_boxplot() +\n",
    "  geom_point() + \n",
    "\n",
    " stat_anova_test(wid = \"Smoking_Status\", p.adjust.method = \"none\", label = \"p = {p.format}\", \n",
    "                     label.x.npc = \"left\", size = 5)\n",
    "\n",
    "ggplot(data = anova_df, aes(y = Allostatic_Load, x = Race)) + \n",
    "  geom_boxplot() +\n",
    "  geom_point() + \n",
    "\n",
    " stat_anova_test(wid = \"Race\", p.adjust.method = \"none\", label = \"p = {p.format}\", \n",
    "                     label.x.npc = \"left\", size = 5)"
   ]
  },
  {
   "cell_type": "markdown",
   "id": "518d12e1-7905-4741-9cd6-6134480448a2",
   "metadata": {},
   "source": [
    "There are no statistically significant differences in allostatic load by smoking status (p value = 0.11), race (p value = 0.95), nor the interaction between the two variables (p value = 0.95). (Not sure why the p values for race are different in the boxplot vs. the `aov` function, but either way it's still insignificant.)"
   ]
  },
  {
   "cell_type": "code",
   "execution_count": null,
   "id": "baf3409e-3504-49b5-b799-9fac21804dac",
   "metadata": {},
   "outputs": [],
   "source": []
  }
 ],
 "metadata": {
  "kernelspec": {
   "display_name": "R",
   "language": "R",
   "name": "ir"
  },
  "language_info": {
   "codemirror_mode": "r",
   "file_extension": ".r",
   "mimetype": "text/x-r-source",
   "name": "R",
   "pygments_lexer": "r",
   "version": "4.3.1"
  }
 },
 "nbformat": 4,
 "nbformat_minor": 5
}
