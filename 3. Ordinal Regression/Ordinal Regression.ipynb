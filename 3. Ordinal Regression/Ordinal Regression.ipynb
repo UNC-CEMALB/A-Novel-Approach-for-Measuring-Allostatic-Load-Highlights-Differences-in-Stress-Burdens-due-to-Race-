{
 "cells": [
  {
   "cell_type": "code",
   "execution_count": 1,
   "id": "9863b40f-c1d0-4b36-83a8-07055c92fe8f",
   "metadata": {},
   "outputs": [
    {
     "name": "stderr",
     "output_type": "stream",
     "text": [
      "── \u001b[1mAttaching core tidyverse packages\u001b[22m ──────────────────────── tidyverse 2.0.0 ──\n",
      "\u001b[32m✔\u001b[39m \u001b[34mdplyr    \u001b[39m 1.1.3     \u001b[32m✔\u001b[39m \u001b[34mreadr    \u001b[39m 2.1.4\n",
      "\u001b[32m✔\u001b[39m \u001b[34mforcats  \u001b[39m 1.0.0     \u001b[32m✔\u001b[39m \u001b[34mstringr  \u001b[39m 1.5.0\n",
      "\u001b[32m✔\u001b[39m \u001b[34mggplot2  \u001b[39m 3.4.3     \u001b[32m✔\u001b[39m \u001b[34mtibble   \u001b[39m 3.2.1\n",
      "\u001b[32m✔\u001b[39m \u001b[34mlubridate\u001b[39m 1.9.2     \u001b[32m✔\u001b[39m \u001b[34mtidyr    \u001b[39m 1.3.0\n",
      "\u001b[32m✔\u001b[39m \u001b[34mpurrr    \u001b[39m 1.0.2     \n",
      "── \u001b[1mConflicts\u001b[22m ────────────────────────────────────────── tidyverse_conflicts() ──\n",
      "\u001b[31m✖\u001b[39m \u001b[34mdplyr\u001b[39m::\u001b[32mfilter()\u001b[39m masks \u001b[34mstats\u001b[39m::filter()\n",
      "\u001b[31m✖\u001b[39m \u001b[34mdplyr\u001b[39m::\u001b[32mlag()\u001b[39m    masks \u001b[34mstats\u001b[39m::lag()\n",
      "\u001b[36mℹ\u001b[39m Use the conflicted package (\u001b[3m\u001b[34m<http://conflicted.r-lib.org/>\u001b[39m\u001b[23m) to force all conflicts to become errors\n"
     ]
    }
   ],
   "source": [
    "Output = ('/Users/alexis/Library/CloudStorage/OneDrive-UniversityofNorthCarolinaatChapelHill/CEMALB_DataAnalysisPM/Projects/P1012. Allostatic Load/P1012.3. Analyses/P1012.3.2. Ordinal Regression/Output')\n",
    "cur_date = \"052724\"\n",
    "\n",
    "library(readxl)\n",
    "library(openxlsx)\n",
    "library(tidyverse)\n",
    "library(ordinalNet)\n",
    "\n",
    "# reading in file\n",
    "bp_df = data.frame(read_excel(\"Input/Allostatic_Mediator_Data_050824.xlsx\", sheet = 4)) \n",
    "subject_info_df = data.frame(read_excel(\"Input/Subject_Info_050824.xlsx\", sheet = 2))\n",
    "mediator_scores_df = data.frame(read_excel(\"Input/Mediator_Scores_BP_Subjects_052724.xlsx\"))"
   ]
  },
  {
   "cell_type": "code",
   "execution_count": 2,
   "id": "4eae0161-33b8-4c89-80c2-75116265c536",
   "metadata": {},
   "outputs": [
    {
     "data": {
      "text/html": [
       "<table class=\"dataframe\">\n",
       "<caption>A data.frame: 6 × 4</caption>\n",
       "<thead>\n",
       "\t<tr><th></th><th scope=col>Subject_ID</th><th scope=col>Systolic</th><th scope=col>Diastolic</th><th scope=col>BP_Classification</th></tr>\n",
       "\t<tr><th></th><th scope=col>&lt;chr&gt;</th><th scope=col>&lt;dbl&gt;</th><th scope=col>&lt;dbl&gt;</th><th scope=col>&lt;chr&gt;</th></tr>\n",
       "</thead>\n",
       "<tbody>\n",
       "\t<tr><th scope=row>1</th><td>CS_26</td><td>133</td><td>86</td><td>1</td></tr>\n",
       "\t<tr><th scope=row>2</th><td>CS_29</td><td>116</td><td>84</td><td>N</td></tr>\n",
       "\t<tr><th scope=row>3</th><td>CS_17</td><td>118</td><td>80</td><td>N</td></tr>\n",
       "\t<tr><th scope=row>4</th><td>NS_63</td><td>122</td><td>85</td><td>E</td></tr>\n",
       "\t<tr><th scope=row>5</th><td>CS_21</td><td>112</td><td>77</td><td>N</td></tr>\n",
       "\t<tr><th scope=row>6</th><td>CS_27</td><td>131</td><td>91</td><td>1</td></tr>\n",
       "</tbody>\n",
       "</table>\n"
      ],
      "text/latex": [
       "A data.frame: 6 × 4\n",
       "\\begin{tabular}{r|llll}\n",
       "  & Subject\\_ID & Systolic & Diastolic & BP\\_Classification\\\\\n",
       "  & <chr> & <dbl> & <dbl> & <chr>\\\\\n",
       "\\hline\n",
       "\t1 & CS\\_26 & 133 & 86 & 1\\\\\n",
       "\t2 & CS\\_29 & 116 & 84 & N\\\\\n",
       "\t3 & CS\\_17 & 118 & 80 & N\\\\\n",
       "\t4 & NS\\_63 & 122 & 85 & E\\\\\n",
       "\t5 & CS\\_21 & 112 & 77 & N\\\\\n",
       "\t6 & CS\\_27 & 131 & 91 & 1\\\\\n",
       "\\end{tabular}\n"
      ],
      "text/markdown": [
       "\n",
       "A data.frame: 6 × 4\n",
       "\n",
       "| <!--/--> | Subject_ID &lt;chr&gt; | Systolic &lt;dbl&gt; | Diastolic &lt;dbl&gt; | BP_Classification &lt;chr&gt; |\n",
       "|---|---|---|---|---|\n",
       "| 1 | CS_26 | 133 | 86 | 1 |\n",
       "| 2 | CS_29 | 116 | 84 | N |\n",
       "| 3 | CS_17 | 118 | 80 | N |\n",
       "| 4 | NS_63 | 122 | 85 | E |\n",
       "| 5 | CS_21 | 112 | 77 | N |\n",
       "| 6 | CS_27 | 131 | 91 | 1 |\n",
       "\n"
      ],
      "text/plain": [
       "  Subject_ID Systolic Diastolic BP_Classification\n",
       "1 CS_26      133      86        1                \n",
       "2 CS_29      116      84        N                \n",
       "3 CS_17      118      80        N                \n",
       "4 NS_63      122      85        E                \n",
       "5 CS_21      112      77        N                \n",
       "6 CS_27      131      91        1                "
      ]
     },
     "metadata": {},
     "output_type": "display_data"
    },
    {
     "data": {
      "text/html": [
       "<table class=\"dataframe\">\n",
       "<caption>A data.frame: 6 × 8</caption>\n",
       "<thead>\n",
       "\t<tr><th></th><th scope=col>Study</th><th scope=col>Original_Subject_Number</th><th scope=col>Subject_Number</th><th scope=col>Group</th><th scope=col>Subject_ID</th><th scope=col>Sex</th><th scope=col>Age</th><th scope=col>Race</th></tr>\n",
       "\t<tr><th></th><th scope=col>&lt;chr&gt;</th><th scope=col>&lt;dbl&gt;</th><th scope=col>&lt;dbl&gt;</th><th scope=col>&lt;chr&gt;</th><th scope=col>&lt;chr&gt;</th><th scope=col>&lt;chr&gt;</th><th scope=col>&lt;dbl&gt;</th><th scope=col>&lt;chr&gt;</th></tr>\n",
       "</thead>\n",
       "<tbody>\n",
       "\t<tr><th scope=row>1</th><td>FM2       </td><td> 97</td><td>1</td><td>CS</td><td>CS_1</td><td>M</td><td>18</td><td>B</td></tr>\n",
       "\t<tr><th scope=row>2</th><td>FM2       </td><td> 99</td><td>2</td><td>CS</td><td>CS_2</td><td>F</td><td>20</td><td>W</td></tr>\n",
       "\t<tr><th scope=row>3</th><td>FM2       </td><td>101</td><td>3</td><td>CS</td><td>CS_3</td><td>F</td><td>20</td><td>W</td></tr>\n",
       "\t<tr><th scope=row>4</th><td>FM2       </td><td> 98</td><td>4</td><td>CS</td><td>CS_4</td><td>F</td><td>21</td><td>W</td></tr>\n",
       "\t<tr><th scope=row>5</th><td>TCORS LAIV</td><td> 39</td><td>5</td><td>CS</td><td>CS_5</td><td>M</td><td>21</td><td>W</td></tr>\n",
       "\t<tr><th scope=row>6</th><td>FM2       </td><td>100</td><td>6</td><td>CS</td><td>CS_6</td><td>F</td><td>22</td><td>W</td></tr>\n",
       "</tbody>\n",
       "</table>\n"
      ],
      "text/latex": [
       "A data.frame: 6 × 8\n",
       "\\begin{tabular}{r|llllllll}\n",
       "  & Study & Original\\_Subject\\_Number & Subject\\_Number & Group & Subject\\_ID & Sex & Age & Race\\\\\n",
       "  & <chr> & <dbl> & <dbl> & <chr> & <chr> & <chr> & <dbl> & <chr>\\\\\n",
       "\\hline\n",
       "\t1 & FM2        &  97 & 1 & CS & CS\\_1 & M & 18 & B\\\\\n",
       "\t2 & FM2        &  99 & 2 & CS & CS\\_2 & F & 20 & W\\\\\n",
       "\t3 & FM2        & 101 & 3 & CS & CS\\_3 & F & 20 & W\\\\\n",
       "\t4 & FM2        &  98 & 4 & CS & CS\\_4 & F & 21 & W\\\\\n",
       "\t5 & TCORS LAIV &  39 & 5 & CS & CS\\_5 & M & 21 & W\\\\\n",
       "\t6 & FM2        & 100 & 6 & CS & CS\\_6 & F & 22 & W\\\\\n",
       "\\end{tabular}\n"
      ],
      "text/markdown": [
       "\n",
       "A data.frame: 6 × 8\n",
       "\n",
       "| <!--/--> | Study &lt;chr&gt; | Original_Subject_Number &lt;dbl&gt; | Subject_Number &lt;dbl&gt; | Group &lt;chr&gt; | Subject_ID &lt;chr&gt; | Sex &lt;chr&gt; | Age &lt;dbl&gt; | Race &lt;chr&gt; |\n",
       "|---|---|---|---|---|---|---|---|---|\n",
       "| 1 | FM2        |  97 | 1 | CS | CS_1 | M | 18 | B |\n",
       "| 2 | FM2        |  99 | 2 | CS | CS_2 | F | 20 | W |\n",
       "| 3 | FM2        | 101 | 3 | CS | CS_3 | F | 20 | W |\n",
       "| 4 | FM2        |  98 | 4 | CS | CS_4 | F | 21 | W |\n",
       "| 5 | TCORS LAIV |  39 | 5 | CS | CS_5 | M | 21 | W |\n",
       "| 6 | FM2        | 100 | 6 | CS | CS_6 | F | 22 | W |\n",
       "\n"
      ],
      "text/plain": [
       "  Study      Original_Subject_Number Subject_Number Group Subject_ID Sex Age\n",
       "1 FM2         97                     1              CS    CS_1       M   18 \n",
       "2 FM2         99                     2              CS    CS_2       F   20 \n",
       "3 FM2        101                     3              CS    CS_3       F   20 \n",
       "4 FM2         98                     4              CS    CS_4       F   21 \n",
       "5 TCORS LAIV  39                     5              CS    CS_5       M   21 \n",
       "6 FM2        100                     6              CS    CS_6       F   22 \n",
       "  Race\n",
       "1 B   \n",
       "2 W   \n",
       "3 W   \n",
       "4 W   \n",
       "5 W   \n",
       "6 W   "
      ]
     },
     "metadata": {},
     "output_type": "display_data"
    },
    {
     "data": {
      "text/html": [
       "<table class=\"dataframe\">\n",
       "<caption>A data.frame: 6 × 3</caption>\n",
       "<thead>\n",
       "\t<tr><th></th><th scope=col>Variable</th><th scope=col>Subject_ID</th><th scope=col>Mediator_Score</th></tr>\n",
       "\t<tr><th></th><th scope=col>&lt;chr&gt;</th><th scope=col>&lt;chr&gt;</th><th scope=col>&lt;dbl&gt;</th></tr>\n",
       "</thead>\n",
       "<tbody>\n",
       "\t<tr><th scope=row>1</th><td>Noradrenaline</td><td>CS_5 </td><td>0.9209663</td></tr>\n",
       "\t<tr><th scope=row>2</th><td>Noradrenaline</td><td>CS_8 </td><td>0.5018144</td></tr>\n",
       "\t<tr><th scope=row>3</th><td>Noradrenaline</td><td>CS_10</td><td>0.8466564</td></tr>\n",
       "\t<tr><th scope=row>4</th><td>Noradrenaline</td><td>CS_16</td><td>0.5018144</td></tr>\n",
       "\t<tr><th scope=row>5</th><td>Noradrenaline</td><td>CS_17</td><td>0.3297612</td></tr>\n",
       "\t<tr><th scope=row>6</th><td>Noradrenaline</td><td>CS_21</td><td>0.2711344</td></tr>\n",
       "</tbody>\n",
       "</table>\n"
      ],
      "text/latex": [
       "A data.frame: 6 × 3\n",
       "\\begin{tabular}{r|lll}\n",
       "  & Variable & Subject\\_ID & Mediator\\_Score\\\\\n",
       "  & <chr> & <chr> & <dbl>\\\\\n",
       "\\hline\n",
       "\t1 & Noradrenaline & CS\\_5  & 0.9209663\\\\\n",
       "\t2 & Noradrenaline & CS\\_8  & 0.5018144\\\\\n",
       "\t3 & Noradrenaline & CS\\_10 & 0.8466564\\\\\n",
       "\t4 & Noradrenaline & CS\\_16 & 0.5018144\\\\\n",
       "\t5 & Noradrenaline & CS\\_17 & 0.3297612\\\\\n",
       "\t6 & Noradrenaline & CS\\_21 & 0.2711344\\\\\n",
       "\\end{tabular}\n"
      ],
      "text/markdown": [
       "\n",
       "A data.frame: 6 × 3\n",
       "\n",
       "| <!--/--> | Variable &lt;chr&gt; | Subject_ID &lt;chr&gt; | Mediator_Score &lt;dbl&gt; |\n",
       "|---|---|---|---|\n",
       "| 1 | Noradrenaline | CS_5  | 0.9209663 |\n",
       "| 2 | Noradrenaline | CS_8  | 0.5018144 |\n",
       "| 3 | Noradrenaline | CS_10 | 0.8466564 |\n",
       "| 4 | Noradrenaline | CS_16 | 0.5018144 |\n",
       "| 5 | Noradrenaline | CS_17 | 0.3297612 |\n",
       "| 6 | Noradrenaline | CS_21 | 0.2711344 |\n",
       "\n"
      ],
      "text/plain": [
       "  Variable      Subject_ID Mediator_Score\n",
       "1 Noradrenaline CS_5       0.9209663     \n",
       "2 Noradrenaline CS_8       0.5018144     \n",
       "3 Noradrenaline CS_10      0.8466564     \n",
       "4 Noradrenaline CS_16      0.5018144     \n",
       "5 Noradrenaline CS_17      0.3297612     \n",
       "6 Noradrenaline CS_21      0.2711344     "
      ]
     },
     "metadata": {},
     "output_type": "display_data"
    }
   ],
   "source": [
    "head(bp_df)\n",
    "head(subject_info_df)\n",
    "head(mediator_scores_df)"
   ]
  },
  {
   "cell_type": "markdown",
   "id": "93dedb52-1e14-4811-9dfa-cbb225fed96a",
   "metadata": {},
   "source": [
    "In this analysis, we're using [ordinal regression](https://www.statisticssolutions.com/free-resources/directory-of-statistical-analyses/ordinal-regression/) to predict blood pressure classification using mediator scores from 17 biomarkers. "
   ]
  },
  {
   "cell_type": "code",
   "execution_count": 3,
   "id": "c921b84d-4579-4f4f-b1d5-7705201c472d",
   "metadata": {},
   "outputs": [
    {
     "name": "stderr",
     "output_type": "stream",
     "text": [
      "\u001b[1m\u001b[22mJoining with `by = join_by(Subject_ID)`\n",
      "\u001b[1m\u001b[22mJoining with `by = join_by(Subject_ID)`\n"
     ]
    },
    {
     "data": {
      "text/html": [
       "<table class=\"dataframe\">\n",
       "<caption>A tibble: 6 × 23</caption>\n",
       "<thead>\n",
       "\t<tr><th scope=col>Subject_ID</th><th scope=col>Group</th><th scope=col>Sex</th><th scope=col>Age</th><th scope=col>Race</th><th scope=col>Noradrenaline</th><th scope=col>Hba1c</th><th scope=col>Fibrinogen</th><th scope=col>CRP</th><th scope=col>IP10</th><th scope=col>⋯</th><th scope=col>IL13</th><th scope=col>IL1B</th><th scope=col>IL2</th><th scope=col>IL4</th><th scope=col>IL6</th><th scope=col>IL8</th><th scope=col>TNFa</th><th scope=col>HDL</th><th scope=col>Epinephrine</th><th scope=col>BP_Classification</th></tr>\n",
       "\t<tr><th scope=col>&lt;chr&gt;</th><th scope=col>&lt;chr&gt;</th><th scope=col>&lt;chr&gt;</th><th scope=col>&lt;dbl&gt;</th><th scope=col>&lt;chr&gt;</th><th scope=col>&lt;dbl&gt;</th><th scope=col>&lt;dbl&gt;</th><th scope=col>&lt;dbl&gt;</th><th scope=col>&lt;dbl&gt;</th><th scope=col>&lt;dbl&gt;</th><th scope=col>⋯</th><th scope=col>&lt;dbl&gt;</th><th scope=col>&lt;dbl&gt;</th><th scope=col>&lt;dbl&gt;</th><th scope=col>&lt;dbl&gt;</th><th scope=col>&lt;dbl&gt;</th><th scope=col>&lt;dbl&gt;</th><th scope=col>&lt;dbl&gt;</th><th scope=col>&lt;dbl&gt;</th><th scope=col>&lt;dbl&gt;</th><th scope=col>&lt;fct&gt;</th></tr>\n",
       "</thead>\n",
       "<tbody>\n",
       "\t<tr><td>CS_26</td><td>CS</td><td>F</td><td>34</td><td>B</td><td>0.00000000</td><td>0.1261076</td><td>0.35238170</td><td>0.03189947</td><td>0.07017161</td><td>⋯</td><td>0.3271404</td><td>0.00000000</td><td>2.351685e-07</td><td>0.25823172</td><td>0.18675526</td><td>0.001686759</td><td>0.14780720</td><td>0.01961938</td><td>0.09668427</td><td>1</td></tr>\n",
       "\t<tr><td>CS_29</td><td>CS</td><td>F</td><td>36</td><td>B</td><td>0.09028609</td><td>0.3276962</td><td>0.18618128</td><td>0.04754286</td><td>0.03571227</td><td>⋯</td><td>0.7220417</td><td>0.01153174</td><td>1.419332e-08</td><td>0.53046857</td><td>0.43704343</td><td>0.355268670</td><td>0.08243793</td><td>0.29810436</td><td>0.48260060</td><td>N</td></tr>\n",
       "\t<tr><td>CS_17</td><td>CS</td><td>M</td><td>29</td><td>W</td><td>0.32976117</td><td>0.2873836</td><td>0.18107212</td><td>0.01664812</td><td>0.12055087</td><td>⋯</td><td>0.3411684</td><td>0.00000000</td><td>6.761111e-08</td><td>0.49508420</td><td>0.03189408</td><td>0.147350214</td><td>0.26384236</td><td>0.52779975</td><td>0.72404411</td><td>N</td></tr>\n",
       "\t<tr><td>NS_63</td><td>NS</td><td>M</td><td>43</td><td>B</td><td>0.25782803</td><td>0.4462655</td><td>0.11215630</td><td>0.22912585</td><td>0.42703285</td><td>⋯</td><td>0.6317240</td><td>0.00000000</td><td>1.132208e-06</td><td>0.60115086</td><td>1.00000000</td><td>0.119470619</td><td>0.42067290</td><td>0.13049306</td><td>0.67048546</td><td>E</td></tr>\n",
       "\t<tr><td>CS_21</td><td>CS</td><td>F</td><td>31</td><td>B</td><td>0.27113435</td><td>0.7550424</td><td>0.16931582</td><td>0.12987698</td><td>0.35359516</td><td>⋯</td><td>0.2035670</td><td>0.00000000</td><td>9.701944e-07</td><td>0.07874693</td><td>0.30264289</td><td>0.418614119</td><td>0.26384236</td><td>0.06673031</td><td>0.31548045</td><td>N</td></tr>\n",
       "\t<tr><td>CS_27</td><td>CS</td><td>F</td><td>35</td><td>W</td><td>0.23404945</td><td>0.3807725</td><td>0.03079665</td><td>0.02882542</td><td>0.02232779</td><td>⋯</td><td>0.4987997</td><td>0.00000000</td><td>7.491238e-08</td><td>0.35320369</td><td>0.14274251</td><td>0.033546943</td><td>0.38209701</td><td>0.14858426</td><td>0.00000000</td><td>1</td></tr>\n",
       "</tbody>\n",
       "</table>\n"
      ],
      "text/latex": [
       "A tibble: 6 × 23\n",
       "\\begin{tabular}{lllllllllllllllllllll}\n",
       " Subject\\_ID & Group & Sex & Age & Race & Noradrenaline & Hba1c & Fibrinogen & CRP & IP10 & ⋯ & IL13 & IL1B & IL2 & IL4 & IL6 & IL8 & TNFa & HDL & Epinephrine & BP\\_Classification\\\\\n",
       " <chr> & <chr> & <chr> & <dbl> & <chr> & <dbl> & <dbl> & <dbl> & <dbl> & <dbl> & ⋯ & <dbl> & <dbl> & <dbl> & <dbl> & <dbl> & <dbl> & <dbl> & <dbl> & <dbl> & <fct>\\\\\n",
       "\\hline\n",
       "\t CS\\_26 & CS & F & 34 & B & 0.00000000 & 0.1261076 & 0.35238170 & 0.03189947 & 0.07017161 & ⋯ & 0.3271404 & 0.00000000 & 2.351685e-07 & 0.25823172 & 0.18675526 & 0.001686759 & 0.14780720 & 0.01961938 & 0.09668427 & 1\\\\\n",
       "\t CS\\_29 & CS & F & 36 & B & 0.09028609 & 0.3276962 & 0.18618128 & 0.04754286 & 0.03571227 & ⋯ & 0.7220417 & 0.01153174 & 1.419332e-08 & 0.53046857 & 0.43704343 & 0.355268670 & 0.08243793 & 0.29810436 & 0.48260060 & N\\\\\n",
       "\t CS\\_17 & CS & M & 29 & W & 0.32976117 & 0.2873836 & 0.18107212 & 0.01664812 & 0.12055087 & ⋯ & 0.3411684 & 0.00000000 & 6.761111e-08 & 0.49508420 & 0.03189408 & 0.147350214 & 0.26384236 & 0.52779975 & 0.72404411 & N\\\\\n",
       "\t NS\\_63 & NS & M & 43 & B & 0.25782803 & 0.4462655 & 0.11215630 & 0.22912585 & 0.42703285 & ⋯ & 0.6317240 & 0.00000000 & 1.132208e-06 & 0.60115086 & 1.00000000 & 0.119470619 & 0.42067290 & 0.13049306 & 0.67048546 & E\\\\\n",
       "\t CS\\_21 & CS & F & 31 & B & 0.27113435 & 0.7550424 & 0.16931582 & 0.12987698 & 0.35359516 & ⋯ & 0.2035670 & 0.00000000 & 9.701944e-07 & 0.07874693 & 0.30264289 & 0.418614119 & 0.26384236 & 0.06673031 & 0.31548045 & N\\\\\n",
       "\t CS\\_27 & CS & F & 35 & W & 0.23404945 & 0.3807725 & 0.03079665 & 0.02882542 & 0.02232779 & ⋯ & 0.4987997 & 0.00000000 & 7.491238e-08 & 0.35320369 & 0.14274251 & 0.033546943 & 0.38209701 & 0.14858426 & 0.00000000 & 1\\\\\n",
       "\\end{tabular}\n"
      ],
      "text/markdown": [
       "\n",
       "A tibble: 6 × 23\n",
       "\n",
       "| Subject_ID &lt;chr&gt; | Group &lt;chr&gt; | Sex &lt;chr&gt; | Age &lt;dbl&gt; | Race &lt;chr&gt; | Noradrenaline &lt;dbl&gt; | Hba1c &lt;dbl&gt; | Fibrinogen &lt;dbl&gt; | CRP &lt;dbl&gt; | IP10 &lt;dbl&gt; | ⋯ ⋯ | IL13 &lt;dbl&gt; | IL1B &lt;dbl&gt; | IL2 &lt;dbl&gt; | IL4 &lt;dbl&gt; | IL6 &lt;dbl&gt; | IL8 &lt;dbl&gt; | TNFa &lt;dbl&gt; | HDL &lt;dbl&gt; | Epinephrine &lt;dbl&gt; | BP_Classification &lt;fct&gt; |\n",
       "|---|---|---|---|---|---|---|---|---|---|---|---|---|---|---|---|---|---|---|---|---|\n",
       "| CS_26 | CS | F | 34 | B | 0.00000000 | 0.1261076 | 0.35238170 | 0.03189947 | 0.07017161 | ⋯ | 0.3271404 | 0.00000000 | 2.351685e-07 | 0.25823172 | 0.18675526 | 0.001686759 | 0.14780720 | 0.01961938 | 0.09668427 | 1 |\n",
       "| CS_29 | CS | F | 36 | B | 0.09028609 | 0.3276962 | 0.18618128 | 0.04754286 | 0.03571227 | ⋯ | 0.7220417 | 0.01153174 | 1.419332e-08 | 0.53046857 | 0.43704343 | 0.355268670 | 0.08243793 | 0.29810436 | 0.48260060 | N |\n",
       "| CS_17 | CS | M | 29 | W | 0.32976117 | 0.2873836 | 0.18107212 | 0.01664812 | 0.12055087 | ⋯ | 0.3411684 | 0.00000000 | 6.761111e-08 | 0.49508420 | 0.03189408 | 0.147350214 | 0.26384236 | 0.52779975 | 0.72404411 | N |\n",
       "| NS_63 | NS | M | 43 | B | 0.25782803 | 0.4462655 | 0.11215630 | 0.22912585 | 0.42703285 | ⋯ | 0.6317240 | 0.00000000 | 1.132208e-06 | 0.60115086 | 1.00000000 | 0.119470619 | 0.42067290 | 0.13049306 | 0.67048546 | E |\n",
       "| CS_21 | CS | F | 31 | B | 0.27113435 | 0.7550424 | 0.16931582 | 0.12987698 | 0.35359516 | ⋯ | 0.2035670 | 0.00000000 | 9.701944e-07 | 0.07874693 | 0.30264289 | 0.418614119 | 0.26384236 | 0.06673031 | 0.31548045 | N |\n",
       "| CS_27 | CS | F | 35 | W | 0.23404945 | 0.3807725 | 0.03079665 | 0.02882542 | 0.02232779 | ⋯ | 0.4987997 | 0.00000000 | 7.491238e-08 | 0.35320369 | 0.14274251 | 0.033546943 | 0.38209701 | 0.14858426 | 0.00000000 | 1 |\n",
       "\n"
      ],
      "text/plain": [
       "  Subject_ID Group Sex Age Race Noradrenaline Hba1c     Fibrinogen CRP       \n",
       "1 CS_26      CS    F   34  B    0.00000000    0.1261076 0.35238170 0.03189947\n",
       "2 CS_29      CS    F   36  B    0.09028609    0.3276962 0.18618128 0.04754286\n",
       "3 CS_17      CS    M   29  W    0.32976117    0.2873836 0.18107212 0.01664812\n",
       "4 NS_63      NS    M   43  B    0.25782803    0.4462655 0.11215630 0.22912585\n",
       "5 CS_21      CS    F   31  B    0.27113435    0.7550424 0.16931582 0.12987698\n",
       "6 CS_27      CS    F   35  W    0.23404945    0.3807725 0.03079665 0.02882542\n",
       "  IP10       ⋯ IL13      IL1B       IL2          IL4        IL6       \n",
       "1 0.07017161 ⋯ 0.3271404 0.00000000 2.351685e-07 0.25823172 0.18675526\n",
       "2 0.03571227 ⋯ 0.7220417 0.01153174 1.419332e-08 0.53046857 0.43704343\n",
       "3 0.12055087 ⋯ 0.3411684 0.00000000 6.761111e-08 0.49508420 0.03189408\n",
       "4 0.42703285 ⋯ 0.6317240 0.00000000 1.132208e-06 0.60115086 1.00000000\n",
       "5 0.35359516 ⋯ 0.2035670 0.00000000 9.701944e-07 0.07874693 0.30264289\n",
       "6 0.02232779 ⋯ 0.4987997 0.00000000 7.491238e-08 0.35320369 0.14274251\n",
       "  IL8         TNFa       HDL        Epinephrine BP_Classification\n",
       "1 0.001686759 0.14780720 0.01961938 0.09668427  1                \n",
       "2 0.355268670 0.08243793 0.29810436 0.48260060  N                \n",
       "3 0.147350214 0.26384236 0.52779975 0.72404411  N                \n",
       "4 0.119470619 0.42067290 0.13049306 0.67048546  E                \n",
       "5 0.418614119 0.26384236 0.06673031 0.31548045  N                \n",
       "6 0.033546943 0.38209701 0.14858426 0.00000000  1                "
      ]
     },
     "metadata": {},
     "output_type": "display_data"
    }
   ],
   "source": [
    "# creating a vector for variables that increase atherosclerotic risk\n",
    "# HDL decreases risk\n",
    "#allostatic_load_biomarkers = c('Cortisol','Noradrenaline','Epinephrine','Hba1c','Fibrinogen','CRP', 'HDL')\n",
    "\n",
    "# creating 1 df\n",
    "ordinal_regression_df = inner_join(bp_df[,c(1,4)], subject_info_df[,4:8]) %>%\n",
    "    # adding allostatic load data\n",
    "    inner_join(mediator_scores_df) %>%\n",
    "    # obtaining allostatic load biomarkers only\n",
    "    #filter(Variable %in% allostatic_load_biomarkers) %>%\n",
    "    pivot_wider(names_from = Variable, values_from = Mediator_Score)\n",
    "\n",
    "# turning BP into a factor\n",
    "ordinal_regression_df$BP_Classification = factor(ordinal_regression_df$BP_Classification, levels = c(\"N\", \"E\", \"1\", '2'))\n",
    "\n",
    "#reordering columns\n",
    "ordinal_regression_df = ordinal_regression_df[,c(1,3:23,2)]\n",
    "    \n",
    "\n",
    "head(ordinal_regression_df)"
   ]
  },
  {
   "cell_type": "code",
   "execution_count": 11,
   "id": "fb1ed418-053f-4b77-a625-f236f975aded",
   "metadata": {},
   "outputs": [
    {
     "data": {
      "text/html": [
       "<table class=\"dataframe\">\n",
       "<caption>A data.frame: 17 × 2</caption>\n",
       "<thead>\n",
       "\t<tr><th scope=col>Variable</th><th scope=col>Coefficient</th></tr>\n",
       "\t<tr><th scope=col>&lt;chr&gt;</th><th scope=col>&lt;dbl&gt;</th></tr>\n",
       "</thead>\n",
       "<tbody>\n",
       "\t<tr><td>IL2          </td><td>0.356268450</td></tr>\n",
       "\t<tr><td>IL8          </td><td>0.178089301</td></tr>\n",
       "\t<tr><td>IL12p70      </td><td>0.147449601</td></tr>\n",
       "\t<tr><td>HDL          </td><td>0.092405715</td></tr>\n",
       "\t<tr><td>IL10         </td><td>0.088587150</td></tr>\n",
       "\t<tr><td>Epinephrine  </td><td>0.055549307</td></tr>\n",
       "\t<tr><td>IL13         </td><td>0.040986936</td></tr>\n",
       "\t<tr><td>Noradrenaline</td><td>0.032724287</td></tr>\n",
       "\t<tr><td>IL4          </td><td>0.007939252</td></tr>\n",
       "\t<tr><td>Hba1c        </td><td>0.000000000</td></tr>\n",
       "\t<tr><td>Fibrinogen   </td><td>0.000000000</td></tr>\n",
       "\t<tr><td>CRP          </td><td>0.000000000</td></tr>\n",
       "\t<tr><td>IP10         </td><td>0.000000000</td></tr>\n",
       "\t<tr><td>IFNg         </td><td>0.000000000</td></tr>\n",
       "\t<tr><td>IL1B         </td><td>0.000000000</td></tr>\n",
       "\t<tr><td>IL6          </td><td>0.000000000</td></tr>\n",
       "\t<tr><td>TNFa         </td><td>0.000000000</td></tr>\n",
       "</tbody>\n",
       "</table>\n"
      ],
      "text/latex": [
       "A data.frame: 17 × 2\n",
       "\\begin{tabular}{ll}\n",
       " Variable & Coefficient\\\\\n",
       " <chr> & <dbl>\\\\\n",
       "\\hline\n",
       "\t IL2           & 0.356268450\\\\\n",
       "\t IL8           & 0.178089301\\\\\n",
       "\t IL12p70       & 0.147449601\\\\\n",
       "\t HDL           & 0.092405715\\\\\n",
       "\t IL10          & 0.088587150\\\\\n",
       "\t Epinephrine   & 0.055549307\\\\\n",
       "\t IL13          & 0.040986936\\\\\n",
       "\t Noradrenaline & 0.032724287\\\\\n",
       "\t IL4           & 0.007939252\\\\\n",
       "\t Hba1c         & 0.000000000\\\\\n",
       "\t Fibrinogen    & 0.000000000\\\\\n",
       "\t CRP           & 0.000000000\\\\\n",
       "\t IP10          & 0.000000000\\\\\n",
       "\t IFNg          & 0.000000000\\\\\n",
       "\t IL1B          & 0.000000000\\\\\n",
       "\t IL6           & 0.000000000\\\\\n",
       "\t TNFa          & 0.000000000\\\\\n",
       "\\end{tabular}\n"
      ],
      "text/markdown": [
       "\n",
       "A data.frame: 17 × 2\n",
       "\n",
       "| Variable &lt;chr&gt; | Coefficient &lt;dbl&gt; |\n",
       "|---|---|\n",
       "| IL2           | 0.356268450 |\n",
       "| IL8           | 0.178089301 |\n",
       "| IL12p70       | 0.147449601 |\n",
       "| HDL           | 0.092405715 |\n",
       "| IL10          | 0.088587150 |\n",
       "| Epinephrine   | 0.055549307 |\n",
       "| IL13          | 0.040986936 |\n",
       "| Noradrenaline | 0.032724287 |\n",
       "| IL4           | 0.007939252 |\n",
       "| Hba1c         | 0.000000000 |\n",
       "| Fibrinogen    | 0.000000000 |\n",
       "| CRP           | 0.000000000 |\n",
       "| IP10          | 0.000000000 |\n",
       "| IFNg          | 0.000000000 |\n",
       "| IL1B          | 0.000000000 |\n",
       "| IL6           | 0.000000000 |\n",
       "| TNFa          | 0.000000000 |\n",
       "\n"
      ],
      "text/plain": [
       "   Variable      Coefficient\n",
       "1  IL2           0.356268450\n",
       "2  IL8           0.178089301\n",
       "3  IL12p70       0.147449601\n",
       "4  HDL           0.092405715\n",
       "5  IL10          0.088587150\n",
       "6  Epinephrine   0.055549307\n",
       "7  IL13          0.040986936\n",
       "8  Noradrenaline 0.032724287\n",
       "9  IL4           0.007939252\n",
       "10 Hba1c         0.000000000\n",
       "11 Fibrinogen    0.000000000\n",
       "12 CRP           0.000000000\n",
       "13 IP10          0.000000000\n",
       "14 IFNg          0.000000000\n",
       "15 IL1B          0.000000000\n",
       "16 IL6           0.000000000\n",
       "17 TNFa          0.000000000"
      ]
     },
     "metadata": {},
     "output_type": "display_data"
    }
   ],
   "source": [
    "# creating a vector of booleans that specifies whether or not the coefficient should be\n",
    "# positive (TRUE) or negative (FALSE), only HDL will be negative\n",
    "biomarker_coefficients = c(rep(TRUE, ncol(ordinal_regression_df) - 8), FALSE, TRUE)\n",
    "\n",
    "estimateOrdWeights <- function(dataset, response, coefficients_magnitude){\n",
    "    # ADD WORDS\n",
    "    # ordinal regression or estimating ordinal weights\n",
    "    \n",
    "    ############# get required Regression Parameters\n",
    "    \n",
    "    #get number of response levels\n",
    "    NoBins <- length(unique(dataset[[response]]))\n",
    "\n",
    "    #get number of features or slieces\n",
    "    noSlices <- ncol(dataset) - 2\n",
    "    \n",
    "    #run the regression\n",
    "    feature_data <- as.matrix(dataset[,c(2:(ncol(dataset)-1))])\n",
    "    #class(featuredata) <- \"numeric\"\n",
    "\n",
    "    # ordinal regression\n",
    "    # positiveID specifies whether or not each coefficient for each ind. variable should be constrained to be non-negative\n",
    "    regression_model <- ordinalNet(feature_data, dataset[[response]], positiveID = coefficients_magnitude, \n",
    "                            #lambdaVals defines how quickly your coefficients drop to 0\n",
    "                            # keeping it at 0 tries to minimize feature reduction\n",
    "                            # maxiterout defines the number of iterations before it stops\n",
    "                         lambdaVals = 0, maxiterOut = 100)\n",
    "    testW <- regression_model$coefs[NoBins:(noSlices + NoBins - 1)]\n",
    "\n",
    "    # rescaling the coefficients so that they sum to 1,  but double check!!!\n",
    "    # add absolute value to make this work\n",
    "    testW <- testW/sum(testW)\n",
    "\n",
    "    # adding the variable names back in \n",
    "    test_weights_df = data.frame(Variable = colnames(feature_data), Coefficient = testW) %>%\n",
    "        arrange(-Coefficient)\n",
    "    \n",
    "    return(test_weights_df)\n",
    "}\n",
    "\n",
    "# calling fn\n",
    "estimateOrdWeights(ordinal_regression_df[,c(1,6:23)], 'BP_Classification', biomarker_coefficients)"
   ]
  },
  {
   "cell_type": "markdown",
   "id": "83f580e0-19d4-436e-a87e-06dabef40b33",
   "metadata": {},
   "source": [
    "Why wasn't HDL able to be constrained to negative?\n",
    "What do the values mean? What considered high vs. low?\n",
    "How does this first function relate to the second function below?\n",
    "\n",
    "Run a linear regression to determine allostatic load score before looking at the chunk below. This will allow me to focus on the known samples and rank those using the coe"
   ]
  }
 ],
 "metadata": {
  "kernelspec": {
   "display_name": "R",
   "language": "R",
   "name": "ir"
  },
  "language_info": {
   "codemirror_mode": "r",
   "file_extension": ".r",
   "mimetype": "text/x-r-source",
   "name": "R",
   "pygments_lexer": "r",
   "version": "4.3.1"
  }
 },
 "nbformat": 4,
 "nbformat_minor": 5
}
