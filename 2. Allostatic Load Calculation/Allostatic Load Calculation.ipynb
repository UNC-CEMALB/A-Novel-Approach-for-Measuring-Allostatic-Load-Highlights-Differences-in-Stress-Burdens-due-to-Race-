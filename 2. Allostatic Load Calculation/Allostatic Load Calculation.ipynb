{
 "cells": [
  {
   "cell_type": "code",
   "execution_count": 1,
   "id": "9863b40f-c1d0-4b36-83a8-07055c92fe8f",
   "metadata": {},
   "outputs": [
    {
     "name": "stderr",
     "output_type": "stream",
     "text": [
      "── \u001b[1mAttaching core tidyverse packages\u001b[22m ──────────────────────── tidyverse 2.0.0 ──\n",
      "\u001b[32m✔\u001b[39m \u001b[34mdplyr    \u001b[39m 1.1.3     \u001b[32m✔\u001b[39m \u001b[34mreadr    \u001b[39m 2.1.4\n",
      "\u001b[32m✔\u001b[39m \u001b[34mforcats  \u001b[39m 1.0.0     \u001b[32m✔\u001b[39m \u001b[34mstringr  \u001b[39m 1.5.0\n",
      "\u001b[32m✔\u001b[39m \u001b[34mggplot2  \u001b[39m 3.4.3     \u001b[32m✔\u001b[39m \u001b[34mtibble   \u001b[39m 3.2.1\n",
      "\u001b[32m✔\u001b[39m \u001b[34mlubridate\u001b[39m 1.9.2     \u001b[32m✔\u001b[39m \u001b[34mtidyr    \u001b[39m 1.3.0\n",
      "\u001b[32m✔\u001b[39m \u001b[34mpurrr    \u001b[39m 1.0.2     \n",
      "── \u001b[1mConflicts\u001b[22m ────────────────────────────────────────── tidyverse_conflicts() ──\n",
      "\u001b[31m✖\u001b[39m \u001b[34mdplyr\u001b[39m::\u001b[32mfilter()\u001b[39m masks \u001b[34mstats\u001b[39m::filter()\n",
      "\u001b[31m✖\u001b[39m \u001b[34mdplyr\u001b[39m::\u001b[32mlag()\u001b[39m    masks \u001b[34mstats\u001b[39m::lag()\n",
      "\u001b[36mℹ\u001b[39m Use the conflicted package (\u001b[3m\u001b[34m<http://conflicted.r-lib.org/>\u001b[39m\u001b[23m) to force all conflicts to become errors\n",
      "\n",
      "Attaching package: ‘reshape2’\n",
      "\n",
      "\n",
      "The following object is masked from ‘package:tidyr’:\n",
      "\n",
      "    smiths\n",
      "\n",
      "\n",
      "Loading required package: recipes\n",
      "\n",
      "\n",
      "Attaching package: ‘recipes’\n",
      "\n",
      "\n",
      "The following object is masked from ‘package:stringr’:\n",
      "\n",
      "    fixed\n",
      "\n",
      "\n",
      "The following object is masked from ‘package:stats’:\n",
      "\n",
      "    step\n",
      "\n",
      "\n"
     ]
    }
   ],
   "source": [
    "Output = ('/Users/alexis/Library/CloudStorage/OneDrive-UniversityofNorthCarolinaatChapelHill/CEMALB_DataAnalysisPM/Projects/P1012. Allostatic Load/P1012.3. Analyses/P1012.3.2. Ordinal Regression/Output')\n",
    "cur_date = \"060724\"\n",
    "\n",
    "library(readxl)\n",
    "library(openxlsx)\n",
    "library(tidyverse)\n",
    "library(ordinalNet)\n",
    "library(reshape2)\n",
    "library(ggpubr)\n",
    "library(themis)\n",
    "\n",
    "# reading in file\n",
    "bp_df = data.frame(read_excel(\"Input/Allostatic_Mediator_Data_050824.xlsx\", sheet = 4)) \n",
    "subject_info_df = data.frame(read_excel(\"Input/Subject_Info_050824.xlsx\", sheet = 2))\n",
    "mediator_scores_df = data.frame(read_excel(\"Input/Mediator_Scores_BP_Subjects_060724.xlsx\"))"
   ]
  },
  {
   "cell_type": "code",
   "execution_count": 2,
   "id": "4eae0161-33b8-4c89-80c2-75116265c536",
   "metadata": {},
   "outputs": [
    {
     "data": {
      "text/html": [
       "<table class=\"dataframe\">\n",
       "<caption>A data.frame: 6 × 4</caption>\n",
       "<thead>\n",
       "\t<tr><th></th><th scope=col>Subject_ID</th><th scope=col>Systolic</th><th scope=col>Diastolic</th><th scope=col>BP_Classification</th></tr>\n",
       "\t<tr><th></th><th scope=col>&lt;chr&gt;</th><th scope=col>&lt;dbl&gt;</th><th scope=col>&lt;dbl&gt;</th><th scope=col>&lt;chr&gt;</th></tr>\n",
       "</thead>\n",
       "<tbody>\n",
       "\t<tr><th scope=row>1</th><td>CS_M_21_W_5 </td><td>114</td><td>70</td><td>N</td></tr>\n",
       "\t<tr><th scope=row>2</th><td>CS_M_24_W_8 </td><td>118</td><td>71</td><td>N</td></tr>\n",
       "\t<tr><th scope=row>3</th><td>CS_M_25_W_10</td><td>121</td><td>83</td><td>E</td></tr>\n",
       "\t<tr><th scope=row>4</th><td>CS_M_28_W_16</td><td>115</td><td>74</td><td>N</td></tr>\n",
       "\t<tr><th scope=row>5</th><td>CS_M_29_W_17</td><td>118</td><td>80</td><td>N</td></tr>\n",
       "\t<tr><th scope=row>6</th><td>CS_F_31_B_21</td><td>112</td><td>77</td><td>N</td></tr>\n",
       "</tbody>\n",
       "</table>\n"
      ],
      "text/latex": [
       "A data.frame: 6 × 4\n",
       "\\begin{tabular}{r|llll}\n",
       "  & Subject\\_ID & Systolic & Diastolic & BP\\_Classification\\\\\n",
       "  & <chr> & <dbl> & <dbl> & <chr>\\\\\n",
       "\\hline\n",
       "\t1 & CS\\_M\\_21\\_W\\_5  & 114 & 70 & N\\\\\n",
       "\t2 & CS\\_M\\_24\\_W\\_8  & 118 & 71 & N\\\\\n",
       "\t3 & CS\\_M\\_25\\_W\\_10 & 121 & 83 & E\\\\\n",
       "\t4 & CS\\_M\\_28\\_W\\_16 & 115 & 74 & N\\\\\n",
       "\t5 & CS\\_M\\_29\\_W\\_17 & 118 & 80 & N\\\\\n",
       "\t6 & CS\\_F\\_31\\_B\\_21 & 112 & 77 & N\\\\\n",
       "\\end{tabular}\n"
      ],
      "text/markdown": [
       "\n",
       "A data.frame: 6 × 4\n",
       "\n",
       "| <!--/--> | Subject_ID &lt;chr&gt; | Systolic &lt;dbl&gt; | Diastolic &lt;dbl&gt; | BP_Classification &lt;chr&gt; |\n",
       "|---|---|---|---|---|\n",
       "| 1 | CS_M_21_W_5  | 114 | 70 | N |\n",
       "| 2 | CS_M_24_W_8  | 118 | 71 | N |\n",
       "| 3 | CS_M_25_W_10 | 121 | 83 | E |\n",
       "| 4 | CS_M_28_W_16 | 115 | 74 | N |\n",
       "| 5 | CS_M_29_W_17 | 118 | 80 | N |\n",
       "| 6 | CS_F_31_B_21 | 112 | 77 | N |\n",
       "\n"
      ],
      "text/plain": [
       "  Subject_ID   Systolic Diastolic BP_Classification\n",
       "1 CS_M_21_W_5  114      70        N                \n",
       "2 CS_M_24_W_8  118      71        N                \n",
       "3 CS_M_25_W_10 121      83        E                \n",
       "4 CS_M_28_W_16 115      74        N                \n",
       "5 CS_M_29_W_17 118      80        N                \n",
       "6 CS_F_31_B_21 112      77        N                "
      ]
     },
     "metadata": {},
     "output_type": "display_data"
    },
    {
     "data": {
      "text/html": [
       "<table class=\"dataframe\">\n",
       "<caption>A data.frame: 6 × 8</caption>\n",
       "<thead>\n",
       "\t<tr><th></th><th scope=col>Study</th><th scope=col>Original_Subject_Number</th><th scope=col>Subject_ID</th><th scope=col>Subject_Number</th><th scope=col>Smoking_Status</th><th scope=col>Sex</th><th scope=col>Age</th><th scope=col>Race</th></tr>\n",
       "\t<tr><th></th><th scope=col>&lt;chr&gt;</th><th scope=col>&lt;dbl&gt;</th><th scope=col>&lt;chr&gt;</th><th scope=col>&lt;dbl&gt;</th><th scope=col>&lt;chr&gt;</th><th scope=col>&lt;chr&gt;</th><th scope=col>&lt;dbl&gt;</th><th scope=col>&lt;chr&gt;</th></tr>\n",
       "</thead>\n",
       "<tbody>\n",
       "\t<tr><th scope=row>1</th><td>FM2       </td><td> 97</td><td>CS_M_18_B_1</td><td>1</td><td>CS</td><td>M</td><td>18</td><td>B</td></tr>\n",
       "\t<tr><th scope=row>2</th><td>FM2       </td><td> 99</td><td>CS_F_20_W_2</td><td>2</td><td>CS</td><td>F</td><td>20</td><td>W</td></tr>\n",
       "\t<tr><th scope=row>3</th><td>FM2       </td><td>101</td><td>CS_F_20_W_3</td><td>3</td><td>CS</td><td>F</td><td>20</td><td>W</td></tr>\n",
       "\t<tr><th scope=row>4</th><td>FM2       </td><td> 98</td><td>CS_F_21_W_4</td><td>4</td><td>CS</td><td>F</td><td>21</td><td>W</td></tr>\n",
       "\t<tr><th scope=row>5</th><td>TCORS LAIV</td><td> 39</td><td>CS_M_21_W_5</td><td>5</td><td>CS</td><td>M</td><td>21</td><td>W</td></tr>\n",
       "\t<tr><th scope=row>6</th><td>FM2       </td><td>100</td><td>CS_F_22_W_6</td><td>6</td><td>CS</td><td>F</td><td>22</td><td>W</td></tr>\n",
       "</tbody>\n",
       "</table>\n"
      ],
      "text/latex": [
       "A data.frame: 6 × 8\n",
       "\\begin{tabular}{r|llllllll}\n",
       "  & Study & Original\\_Subject\\_Number & Subject\\_ID & Subject\\_Number & Smoking\\_Status & Sex & Age & Race\\\\\n",
       "  & <chr> & <dbl> & <chr> & <dbl> & <chr> & <chr> & <dbl> & <chr>\\\\\n",
       "\\hline\n",
       "\t1 & FM2        &  97 & CS\\_M\\_18\\_B\\_1 & 1 & CS & M & 18 & B\\\\\n",
       "\t2 & FM2        &  99 & CS\\_F\\_20\\_W\\_2 & 2 & CS & F & 20 & W\\\\\n",
       "\t3 & FM2        & 101 & CS\\_F\\_20\\_W\\_3 & 3 & CS & F & 20 & W\\\\\n",
       "\t4 & FM2        &  98 & CS\\_F\\_21\\_W\\_4 & 4 & CS & F & 21 & W\\\\\n",
       "\t5 & TCORS LAIV &  39 & CS\\_M\\_21\\_W\\_5 & 5 & CS & M & 21 & W\\\\\n",
       "\t6 & FM2        & 100 & CS\\_F\\_22\\_W\\_6 & 6 & CS & F & 22 & W\\\\\n",
       "\\end{tabular}\n"
      ],
      "text/markdown": [
       "\n",
       "A data.frame: 6 × 8\n",
       "\n",
       "| <!--/--> | Study &lt;chr&gt; | Original_Subject_Number &lt;dbl&gt; | Subject_ID &lt;chr&gt; | Subject_Number &lt;dbl&gt; | Smoking_Status &lt;chr&gt; | Sex &lt;chr&gt; | Age &lt;dbl&gt; | Race &lt;chr&gt; |\n",
       "|---|---|---|---|---|---|---|---|---|\n",
       "| 1 | FM2        |  97 | CS_M_18_B_1 | 1 | CS | M | 18 | B |\n",
       "| 2 | FM2        |  99 | CS_F_20_W_2 | 2 | CS | F | 20 | W |\n",
       "| 3 | FM2        | 101 | CS_F_20_W_3 | 3 | CS | F | 20 | W |\n",
       "| 4 | FM2        |  98 | CS_F_21_W_4 | 4 | CS | F | 21 | W |\n",
       "| 5 | TCORS LAIV |  39 | CS_M_21_W_5 | 5 | CS | M | 21 | W |\n",
       "| 6 | FM2        | 100 | CS_F_22_W_6 | 6 | CS | F | 22 | W |\n",
       "\n"
      ],
      "text/plain": [
       "  Study      Original_Subject_Number Subject_ID  Subject_Number Smoking_Status\n",
       "1 FM2         97                     CS_M_18_B_1 1              CS            \n",
       "2 FM2         99                     CS_F_20_W_2 2              CS            \n",
       "3 FM2        101                     CS_F_20_W_3 3              CS            \n",
       "4 FM2         98                     CS_F_21_W_4 4              CS            \n",
       "5 TCORS LAIV  39                     CS_M_21_W_5 5              CS            \n",
       "6 FM2        100                     CS_F_22_W_6 6              CS            \n",
       "  Sex Age Race\n",
       "1 M   18  B   \n",
       "2 F   20  W   \n",
       "3 F   20  W   \n",
       "4 F   21  W   \n",
       "5 M   21  W   \n",
       "6 F   22  W   "
      ]
     },
     "metadata": {},
     "output_type": "display_data"
    },
    {
     "data": {
      "text/html": [
       "<table class=\"dataframe\">\n",
       "<caption>A data.frame: 6 × 3</caption>\n",
       "<thead>\n",
       "\t<tr><th></th><th scope=col>Variable</th><th scope=col>Subject_ID</th><th scope=col>Mediator_Score</th></tr>\n",
       "\t<tr><th></th><th scope=col>&lt;chr&gt;</th><th scope=col>&lt;chr&gt;</th><th scope=col>&lt;dbl&gt;</th></tr>\n",
       "</thead>\n",
       "<tbody>\n",
       "\t<tr><th scope=row>1</th><td>Cortisol</td><td>CS_M_21_W_5 </td><td>0.24743096</td></tr>\n",
       "\t<tr><th scope=row>2</th><td>Cortisol</td><td>CS_M_24_W_8 </td><td>0.31083055</td></tr>\n",
       "\t<tr><th scope=row>3</th><td>Cortisol</td><td>CS_M_25_W_10</td><td>0.13144609</td></tr>\n",
       "\t<tr><th scope=row>4</th><td>Cortisol</td><td>CS_M_28_W_16</td><td>0.06754252</td></tr>\n",
       "\t<tr><th scope=row>5</th><td>Cortisol</td><td>CS_M_29_W_17</td><td>0.44649218</td></tr>\n",
       "\t<tr><th scope=row>6</th><td>Cortisol</td><td>CS_F_31_B_21</td><td>0.21687581</td></tr>\n",
       "</tbody>\n",
       "</table>\n"
      ],
      "text/latex": [
       "A data.frame: 6 × 3\n",
       "\\begin{tabular}{r|lll}\n",
       "  & Variable & Subject\\_ID & Mediator\\_Score\\\\\n",
       "  & <chr> & <chr> & <dbl>\\\\\n",
       "\\hline\n",
       "\t1 & Cortisol & CS\\_M\\_21\\_W\\_5  & 0.24743096\\\\\n",
       "\t2 & Cortisol & CS\\_M\\_24\\_W\\_8  & 0.31083055\\\\\n",
       "\t3 & Cortisol & CS\\_M\\_25\\_W\\_10 & 0.13144609\\\\\n",
       "\t4 & Cortisol & CS\\_M\\_28\\_W\\_16 & 0.06754252\\\\\n",
       "\t5 & Cortisol & CS\\_M\\_29\\_W\\_17 & 0.44649218\\\\\n",
       "\t6 & Cortisol & CS\\_F\\_31\\_B\\_21 & 0.21687581\\\\\n",
       "\\end{tabular}\n"
      ],
      "text/markdown": [
       "\n",
       "A data.frame: 6 × 3\n",
       "\n",
       "| <!--/--> | Variable &lt;chr&gt; | Subject_ID &lt;chr&gt; | Mediator_Score &lt;dbl&gt; |\n",
       "|---|---|---|---|\n",
       "| 1 | Cortisol | CS_M_21_W_5  | 0.24743096 |\n",
       "| 2 | Cortisol | CS_M_24_W_8  | 0.31083055 |\n",
       "| 3 | Cortisol | CS_M_25_W_10 | 0.13144609 |\n",
       "| 4 | Cortisol | CS_M_28_W_16 | 0.06754252 |\n",
       "| 5 | Cortisol | CS_M_29_W_17 | 0.44649218 |\n",
       "| 6 | Cortisol | CS_F_31_B_21 | 0.21687581 |\n",
       "\n"
      ],
      "text/plain": [
       "  Variable Subject_ID   Mediator_Score\n",
       "1 Cortisol CS_M_21_W_5  0.24743096    \n",
       "2 Cortisol CS_M_24_W_8  0.31083055    \n",
       "3 Cortisol CS_M_25_W_10 0.13144609    \n",
       "4 Cortisol CS_M_28_W_16 0.06754252    \n",
       "5 Cortisol CS_M_29_W_17 0.44649218    \n",
       "6 Cortisol CS_F_31_B_21 0.21687581    "
      ]
     },
     "metadata": {},
     "output_type": "display_data"
    }
   ],
   "source": [
    "head(bp_df)\n",
    "head(subject_info_df)\n",
    "head(mediator_scores_df)"
   ]
  },
  {
   "cell_type": "markdown",
   "id": "93dedb52-1e14-4811-9dfa-cbb225fed96a",
   "metadata": {},
   "source": [
    "In this analysis, we're using [ordinal regression](https://www.statisticssolutions.com/free-resources/directory-of-statistical-analyses/ordinal-regression/) to predict blood pressure classification using mediator scores from 18 biomarkers. \n",
    "\n",
    "Starting by combining the dataframes."
   ]
  },
  {
   "cell_type": "code",
   "execution_count": 3,
   "id": "5a21565a-4207-422e-bd1f-e57fc4ce8b43",
   "metadata": {},
   "outputs": [
    {
     "name": "stderr",
     "output_type": "stream",
     "text": [
      "\u001b[1m\u001b[22mJoining with `by = join_by(Subject_ID)`\n",
      "\u001b[1m\u001b[22mJoining with `by = join_by(Subject_ID)`\n"
     ]
    },
    {
     "data": {
      "text/html": [
       "<table class=\"dataframe\">\n",
       "<caption>A tibble: 6 × 9</caption>\n",
       "<thead>\n",
       "\t<tr><th scope=col>Subject_ID</th><th scope=col>Cortisol</th><th scope=col>Noradrenaline</th><th scope=col>Hba1c</th><th scope=col>Fibrinogen</th><th scope=col>CRP</th><th scope=col>HDL</th><th scope=col>Epinephrine</th><th scope=col>BP_Classification</th></tr>\n",
       "\t<tr><th scope=col>&lt;chr&gt;</th><th scope=col>&lt;dbl&gt;</th><th scope=col>&lt;dbl&gt;</th><th scope=col>&lt;dbl&gt;</th><th scope=col>&lt;dbl&gt;</th><th scope=col>&lt;dbl&gt;</th><th scope=col>&lt;dbl&gt;</th><th scope=col>&lt;dbl&gt;</th><th scope=col>&lt;chr&gt;</th></tr>\n",
       "</thead>\n",
       "<tbody>\n",
       "\t<tr><td>CS_M_21_W_5 </td><td>0.24743096</td><td>0.9209663</td><td>0.06894884</td><td>0.23783025</td><td>0.017763222</td><td>0.29358611</td><td>0.09415997</td><td>N</td></tr>\n",
       "\t<tr><td>CS_M_24_W_8 </td><td>0.31083055</td><td>0.5018144</td><td>0.29255348</td><td>0.05082129</td><td>0.008710668</td><td>0.23290254</td><td>0.08473086</td><td>N</td></tr>\n",
       "\t<tr><td>CS_M_25_W_10</td><td>0.13144609</td><td>0.8466564</td><td>0.64414592</td><td>0.26137633</td><td>0.060818954</td><td>0.02491066</td><td>0.36245167</td><td>E</td></tr>\n",
       "\t<tr><td>CS_M_28_W_16</td><td>0.06754252</td><td>0.5018144</td><td>0.11121726</td><td>0.00000000</td><td>0.026508784</td><td>0.17484827</td><td>1.00000000</td><td>N</td></tr>\n",
       "\t<tr><td>CS_M_29_W_17</td><td>0.44649218</td><td>0.3297612</td><td>0.28738359</td><td>0.18107212</td><td>0.016648117</td><td>0.52779975</td><td>0.72404411</td><td>N</td></tr>\n",
       "\t<tr><td>CS_F_31_B_21</td><td>0.21687581</td><td>0.2711344</td><td>0.75504241</td><td>0.16931582</td><td>0.129876982</td><td>0.06673031</td><td>0.31548045</td><td>N</td></tr>\n",
       "</tbody>\n",
       "</table>\n"
      ],
      "text/latex": [
       "A tibble: 6 × 9\n",
       "\\begin{tabular}{lllllllll}\n",
       " Subject\\_ID & Cortisol & Noradrenaline & Hba1c & Fibrinogen & CRP & HDL & Epinephrine & BP\\_Classification\\\\\n",
       " <chr> & <dbl> & <dbl> & <dbl> & <dbl> & <dbl> & <dbl> & <dbl> & <chr>\\\\\n",
       "\\hline\n",
       "\t CS\\_M\\_21\\_W\\_5  & 0.24743096 & 0.9209663 & 0.06894884 & 0.23783025 & 0.017763222 & 0.29358611 & 0.09415997 & N\\\\\n",
       "\t CS\\_M\\_24\\_W\\_8  & 0.31083055 & 0.5018144 & 0.29255348 & 0.05082129 & 0.008710668 & 0.23290254 & 0.08473086 & N\\\\\n",
       "\t CS\\_M\\_25\\_W\\_10 & 0.13144609 & 0.8466564 & 0.64414592 & 0.26137633 & 0.060818954 & 0.02491066 & 0.36245167 & E\\\\\n",
       "\t CS\\_M\\_28\\_W\\_16 & 0.06754252 & 0.5018144 & 0.11121726 & 0.00000000 & 0.026508784 & 0.17484827 & 1.00000000 & N\\\\\n",
       "\t CS\\_M\\_29\\_W\\_17 & 0.44649218 & 0.3297612 & 0.28738359 & 0.18107212 & 0.016648117 & 0.52779975 & 0.72404411 & N\\\\\n",
       "\t CS\\_F\\_31\\_B\\_21 & 0.21687581 & 0.2711344 & 0.75504241 & 0.16931582 & 0.129876982 & 0.06673031 & 0.31548045 & N\\\\\n",
       "\\end{tabular}\n"
      ],
      "text/markdown": [
       "\n",
       "A tibble: 6 × 9\n",
       "\n",
       "| Subject_ID &lt;chr&gt; | Cortisol &lt;dbl&gt; | Noradrenaline &lt;dbl&gt; | Hba1c &lt;dbl&gt; | Fibrinogen &lt;dbl&gt; | CRP &lt;dbl&gt; | HDL &lt;dbl&gt; | Epinephrine &lt;dbl&gt; | BP_Classification &lt;chr&gt; |\n",
       "|---|---|---|---|---|---|---|---|---|\n",
       "| CS_M_21_W_5  | 0.24743096 | 0.9209663 | 0.06894884 | 0.23783025 | 0.017763222 | 0.29358611 | 0.09415997 | N |\n",
       "| CS_M_24_W_8  | 0.31083055 | 0.5018144 | 0.29255348 | 0.05082129 | 0.008710668 | 0.23290254 | 0.08473086 | N |\n",
       "| CS_M_25_W_10 | 0.13144609 | 0.8466564 | 0.64414592 | 0.26137633 | 0.060818954 | 0.02491066 | 0.36245167 | E |\n",
       "| CS_M_28_W_16 | 0.06754252 | 0.5018144 | 0.11121726 | 0.00000000 | 0.026508784 | 0.17484827 | 1.00000000 | N |\n",
       "| CS_M_29_W_17 | 0.44649218 | 0.3297612 | 0.28738359 | 0.18107212 | 0.016648117 | 0.52779975 | 0.72404411 | N |\n",
       "| CS_F_31_B_21 | 0.21687581 | 0.2711344 | 0.75504241 | 0.16931582 | 0.129876982 | 0.06673031 | 0.31548045 | N |\n",
       "\n"
      ],
      "text/plain": [
       "  Subject_ID   Cortisol   Noradrenaline Hba1c      Fibrinogen CRP        \n",
       "1 CS_M_21_W_5  0.24743096 0.9209663     0.06894884 0.23783025 0.017763222\n",
       "2 CS_M_24_W_8  0.31083055 0.5018144     0.29255348 0.05082129 0.008710668\n",
       "3 CS_M_25_W_10 0.13144609 0.8466564     0.64414592 0.26137633 0.060818954\n",
       "4 CS_M_28_W_16 0.06754252 0.5018144     0.11121726 0.00000000 0.026508784\n",
       "5 CS_M_29_W_17 0.44649218 0.3297612     0.28738359 0.18107212 0.016648117\n",
       "6 CS_F_31_B_21 0.21687581 0.2711344     0.75504241 0.16931582 0.129876982\n",
       "  HDL        Epinephrine BP_Classification\n",
       "1 0.29358611 0.09415997  N                \n",
       "2 0.23290254 0.08473086  N                \n",
       "3 0.02491066 0.36245167  E                \n",
       "4 0.17484827 1.00000000  N                \n",
       "5 0.52779975 0.72404411  N                \n",
       "6 0.06673031 0.31548045  N                "
      ]
     },
     "metadata": {},
     "output_type": "display_data"
    }
   ],
   "source": [
    "# creating a vector for variables that increase atherosclerotic risk\n",
    "# HDL decreases risk\n",
    "allostatic_load_biomarkers = c('Cortisol','Noradrenaline','Epinephrine','Hba1c','Fibrinogen','CRP', 'HDL')\n",
    "\n",
    "ordinal_regression = function(dataset){\n",
    "    # add words!!!!!\n",
    "    # creating 1 df\n",
    "    ordinal_regression_df = inner_join(bp_df[,c(1,4)], subject_info_df[,3:8]) %>%\n",
    "        # adding mediator scores data\n",
    "        inner_join(dataset[,1:3]) %>%\n",
    "        # obtaining allostatic load biomarkers only\n",
    "        filter(Variable %in% allostatic_load_biomarkers) %>%\n",
    "        pivot_wider(names_from = Variable, values_from = Mediator_Score)\n",
    "\n",
    "    #reordering and removing some columns\n",
    "    ordinal_regression_df = ordinal_regression_df[,c(1,8:14,2)]\n",
    "\n",
    "    return(ordinal_regression_df)\n",
    "    }\n",
    "\n",
    "# calling fn\n",
    "reg_df = ordinal_regression(mediator_scores_df)\n",
    "\n",
    "head(reg_df)"
   ]
  },
  {
   "cell_type": "markdown",
   "id": "f1b6da12-ec7e-4664-a004-cf16a459bd2a",
   "metadata": {},
   "source": [
    "# Assessing Distributions\n",
    "\n",
    "Looking at the distributions of blood pressure classifications and the mediator scores for each variable."
   ]
  },
  {
   "cell_type": "code",
   "execution_count": 4,
   "id": "f25bd531-8ae4-482d-8393-01b3e14c3697",
   "metadata": {},
   "outputs": [
    {
     "data": {
      "text/plain": [
       "\n",
       " 1  2  E  N \n",
       " 6  1  9 18 "
      ]
     },
     "metadata": {},
     "output_type": "display_data"
    }
   ],
   "source": [
    "table(reg_df$BP_Classification)"
   ]
  },
  {
   "cell_type": "markdown",
   "id": "94c0aed7-3ac1-442e-909c-571fd877dc13",
   "metadata": {},
   "source": [
    "The stage 1 and stage 2 classes are on the smaller side with 6 and 1 subject, respectively. There weren't enough observation of the stage 2 class to perform SMOTE; therefore, the hypertension classes (the elevated, stage 1 and 2) will be grouped together into `H` for hypertension."
   ]
  },
  {
   "cell_type": "code",
   "execution_count": 5,
   "id": "99a5e42c-20e3-4df2-ac5d-770b0fea89dc",
   "metadata": {},
   "outputs": [],
   "source": [
    "two_reg_df = reg_df %>%\n",
    "    mutate(BP_Classification = ifelse(BP_Classification %in% c(\"1\", \"2\"), \"H\", BP_Classification))\n",
    "\n",
    "three_reg_df = reg_df %>%\n",
    "    mutate(BP_Classification = ifelse(BP_Classification %in% c(\"1\", \"2\", \"E\"), \"H\", BP_Classification))\n",
    "\n",
    "# turning BP into a factor\n",
    "two_reg_df$BP_Classification = factor(two_reg_df$BP_Classification, levels = c(\"N\", \"E\", \"H\"))\n",
    "three_reg_df$BP_Classification = factor(three_reg_df$BP_Classification, levels = c(\"N\", \"H\"))"
   ]
  },
  {
   "cell_type": "code",
   "execution_count": 6,
   "id": "f721cfc2-dd44-45e0-a939-58ab45044320",
   "metadata": {},
   "outputs": [
    {
     "data": {
      "text/plain": [
       "\n",
       " N  E  H \n",
       "18  9  7 "
      ]
     },
     "metadata": {},
     "output_type": "display_data"
    },
    {
     "data": {
      "text/plain": [
       "\n",
       " N  H \n",
       "18 16 "
      ]
     },
     "metadata": {},
     "output_type": "display_data"
    }
   ],
   "source": [
    "table(two_reg_df$BP_Classification)\n",
    "table(three_reg_df$BP_Classification)"
   ]
  },
  {
   "cell_type": "markdown",
   "id": "1c014177-81db-481f-ade8-6fb5db99e64f",
   "metadata": {},
   "source": [
    "Now assessing normality of the biomarkers using a shapiro wilk test."
   ]
  },
  {
   "cell_type": "code",
   "execution_count": 7,
   "id": "53c60b0a-e1f6-42bf-9766-a2389efcdc4a",
   "metadata": {},
   "outputs": [
    {
     "data": {
      "text/html": [
       "<table class=\"dataframe\">\n",
       "<caption>A data.frame: 7 × 4</caption>\n",
       "<thead>\n",
       "\t<tr><th></th><th scope=col>statistic</th><th scope=col>p.value</th><th scope=col>method</th><th scope=col>Normality</th></tr>\n",
       "\t<tr><th></th><th scope=col>&lt;dbl&gt;</th><th scope=col>&lt;dbl&gt;</th><th scope=col>&lt;chr&gt;</th><th scope=col>&lt;chr&gt;</th></tr>\n",
       "</thead>\n",
       "<tbody>\n",
       "\t<tr><th scope=row>Cortisol</th><td>0.7429965</td><td>2.411103e-06</td><td>Shapiro-Wilk normality test</td><td>Non-normal</td></tr>\n",
       "\t<tr><th scope=row>Noradrenaline</th><td>0.9351777</td><td>4.436357e-02</td><td>Shapiro-Wilk normality test</td><td>Non-normal</td></tr>\n",
       "\t<tr><th scope=row>Hba1c</th><td>0.9603241</td><td>2.484953e-01</td><td>Shapiro-Wilk normality test</td><td>Normal    </td></tr>\n",
       "\t<tr><th scope=row>Fibrinogen</th><td>0.8901584</td><td>2.546482e-03</td><td>Shapiro-Wilk normality test</td><td>Non-normal</td></tr>\n",
       "\t<tr><th scope=row>CRP</th><td>0.6714903</td><td>1.848939e-07</td><td>Shapiro-Wilk normality test</td><td>Non-normal</td></tr>\n",
       "\t<tr><th scope=row>HDL</th><td>0.8326592</td><td>1.173812e-04</td><td>Shapiro-Wilk normality test</td><td>Non-normal</td></tr>\n",
       "\t<tr><th scope=row>Epinephrine</th><td>0.9324863</td><td>3.697532e-02</td><td>Shapiro-Wilk normality test</td><td>Non-normal</td></tr>\n",
       "</tbody>\n",
       "</table>\n"
      ],
      "text/latex": [
       "A data.frame: 7 × 4\n",
       "\\begin{tabular}{r|llll}\n",
       "  & statistic & p.value & method & Normality\\\\\n",
       "  & <dbl> & <dbl> & <chr> & <chr>\\\\\n",
       "\\hline\n",
       "\tCortisol & 0.7429965 & 2.411103e-06 & Shapiro-Wilk normality test & Non-normal\\\\\n",
       "\tNoradrenaline & 0.9351777 & 4.436357e-02 & Shapiro-Wilk normality test & Non-normal\\\\\n",
       "\tHba1c & 0.9603241 & 2.484953e-01 & Shapiro-Wilk normality test & Normal    \\\\\n",
       "\tFibrinogen & 0.8901584 & 2.546482e-03 & Shapiro-Wilk normality test & Non-normal\\\\\n",
       "\tCRP & 0.6714903 & 1.848939e-07 & Shapiro-Wilk normality test & Non-normal\\\\\n",
       "\tHDL & 0.8326592 & 1.173812e-04 & Shapiro-Wilk normality test & Non-normal\\\\\n",
       "\tEpinephrine & 0.9324863 & 3.697532e-02 & Shapiro-Wilk normality test & Non-normal\\\\\n",
       "\\end{tabular}\n"
      ],
      "text/markdown": [
       "\n",
       "A data.frame: 7 × 4\n",
       "\n",
       "| <!--/--> | statistic &lt;dbl&gt; | p.value &lt;dbl&gt; | method &lt;chr&gt; | Normality &lt;chr&gt; |\n",
       "|---|---|---|---|---|\n",
       "| Cortisol | 0.7429965 | 2.411103e-06 | Shapiro-Wilk normality test | Non-normal |\n",
       "| Noradrenaline | 0.9351777 | 4.436357e-02 | Shapiro-Wilk normality test | Non-normal |\n",
       "| Hba1c | 0.9603241 | 2.484953e-01 | Shapiro-Wilk normality test | Normal     |\n",
       "| Fibrinogen | 0.8901584 | 2.546482e-03 | Shapiro-Wilk normality test | Non-normal |\n",
       "| CRP | 0.6714903 | 1.848939e-07 | Shapiro-Wilk normality test | Non-normal |\n",
       "| HDL | 0.8326592 | 1.173812e-04 | Shapiro-Wilk normality test | Non-normal |\n",
       "| Epinephrine | 0.9324863 | 3.697532e-02 | Shapiro-Wilk normality test | Non-normal |\n",
       "\n"
      ],
      "text/plain": [
       "              statistic p.value      method                      Normality \n",
       "Cortisol      0.7429965 2.411103e-06 Shapiro-Wilk normality test Non-normal\n",
       "Noradrenaline 0.9351777 4.436357e-02 Shapiro-Wilk normality test Non-normal\n",
       "Hba1c         0.9603241 2.484953e-01 Shapiro-Wilk normality test Normal    \n",
       "Fibrinogen    0.8901584 2.546482e-03 Shapiro-Wilk normality test Non-normal\n",
       "CRP           0.6714903 1.848939e-07 Shapiro-Wilk normality test Non-normal\n",
       "HDL           0.8326592 1.173812e-04 Shapiro-Wilk normality test Non-normal\n",
       "Epinephrine   0.9324863 3.697532e-02 Shapiro-Wilk normality test Non-normal"
      ]
     },
     "metadata": {},
     "output_type": "display_data"
    }
   ],
   "source": [
    "# using a shapiro wilk test to assess normality\n",
    "do.call(rbind.data.frame, apply(reg_df[,2:8], 2, shapiro.test))[,1:3] %>%\n",
    "    # adding a column that clarifies whether or not a variable is normally distributed or not\n",
    "    mutate(Normality = ifelse(p.value < 0.05, \"Non-normal\", \"Normal\"))"
   ]
  },
  {
   "cell_type": "markdown",
   "id": "d87a942f-ff06-49b0-bcac-bd163b1e5b90",
   "metadata": {},
   "source": [
    "The only variable that is normally distributed is Hba1c. Therefore, we'll perform a data transformation (pseudo log 2) to see if that helps."
   ]
  },
  {
   "cell_type": "code",
   "execution_count": 13,
   "id": "9362539d-ef9c-4ea3-95ac-6addbfa4bc30",
   "metadata": {},
   "outputs": [
    {
     "data": {
      "text/html": [
       "<table class=\"dataframe\">\n",
       "<caption>A tibble: 6 × 9</caption>\n",
       "<thead>\n",
       "\t<tr><th scope=col>Subject_ID</th><th scope=col>Cortisol</th><th scope=col>Noradrenaline</th><th scope=col>Hba1c</th><th scope=col>Fibrinogen</th><th scope=col>CRP</th><th scope=col>HDL</th><th scope=col>Epinephrine</th><th scope=col>BP_Classification</th></tr>\n",
       "\t<tr><th scope=col>&lt;chr&gt;</th><th scope=col>&lt;dbl&gt;</th><th scope=col>&lt;dbl&gt;</th><th scope=col>&lt;dbl&gt;</th><th scope=col>&lt;dbl&gt;</th><th scope=col>&lt;dbl&gt;</th><th scope=col>&lt;dbl&gt;</th><th scope=col>&lt;dbl&gt;</th><th scope=col>&lt;chr&gt;</th></tr>\n",
       "</thead>\n",
       "<tbody>\n",
       "\t<tr><td>CS_M_21_W_5 </td><td>0.31895997</td><td>0.9418322</td><td>0.09619281</td><td>0.30781349</td><td>0.02540196</td><td>0.37137609</td><td>0.1298237</td><td>N</td></tr>\n",
       "\t<tr><td>CS_M_24_W_8 </td><td>0.39048120</td><td>0.5867065</td><td>0.37022397</td><td>0.07151733</td><td>0.01251242</td><td>0.30205876</td><td>0.1173371</td><td>N</td></tr>\n",
       "\t<tr><td>CS_M_25_W_10</td><td>0.17816785</td><td>0.8849155</td><td>0.71733834</td><td>0.33499877</td><td>0.08517846</td><td>0.03549816</td><td>0.4462051</td><td>E</td></tr>\n",
       "\t<tr><td>CS_M_28_W_16</td><td>0.09429353</td><td>0.5867065</td><td>0.15214092</td><td>0.00000000</td><td>0.03774597</td><td>0.23247445</td><td>1.0000000</td><td>N</td></tr>\n",
       "\t<tr><td>CS_M_29_W_17</td><td>0.53255852</td><td>0.4111672</td><td>0.36444198</td><td>0.24009707</td><td>0.02382042</td><td>0.61145546</td><td>0.7857967</td><td>N</td></tr>\n",
       "\t<tr><td>CS_F_31_B_21</td><td>0.28318193</td><td>0.3461165</td><td>0.81150589</td><td>0.22566464</td><td>0.17616570</td><td>0.09319548</td><td>0.3955898</td><td>N</td></tr>\n",
       "</tbody>\n",
       "</table>\n"
      ],
      "text/latex": [
       "A tibble: 6 × 9\n",
       "\\begin{tabular}{lllllllll}\n",
       " Subject\\_ID & Cortisol & Noradrenaline & Hba1c & Fibrinogen & CRP & HDL & Epinephrine & BP\\_Classification\\\\\n",
       " <chr> & <dbl> & <dbl> & <dbl> & <dbl> & <dbl> & <dbl> & <dbl> & <chr>\\\\\n",
       "\\hline\n",
       "\t CS\\_M\\_21\\_W\\_5  & 0.31895997 & 0.9418322 & 0.09619281 & 0.30781349 & 0.02540196 & 0.37137609 & 0.1298237 & N\\\\\n",
       "\t CS\\_M\\_24\\_W\\_8  & 0.39048120 & 0.5867065 & 0.37022397 & 0.07151733 & 0.01251242 & 0.30205876 & 0.1173371 & N\\\\\n",
       "\t CS\\_M\\_25\\_W\\_10 & 0.17816785 & 0.8849155 & 0.71733834 & 0.33499877 & 0.08517846 & 0.03549816 & 0.4462051 & E\\\\\n",
       "\t CS\\_M\\_28\\_W\\_16 & 0.09429353 & 0.5867065 & 0.15214092 & 0.00000000 & 0.03774597 & 0.23247445 & 1.0000000 & N\\\\\n",
       "\t CS\\_M\\_29\\_W\\_17 & 0.53255852 & 0.4111672 & 0.36444198 & 0.24009707 & 0.02382042 & 0.61145546 & 0.7857967 & N\\\\\n",
       "\t CS\\_F\\_31\\_B\\_21 & 0.28318193 & 0.3461165 & 0.81150589 & 0.22566464 & 0.17616570 & 0.09319548 & 0.3955898 & N\\\\\n",
       "\\end{tabular}\n"
      ],
      "text/markdown": [
       "\n",
       "A tibble: 6 × 9\n",
       "\n",
       "| Subject_ID &lt;chr&gt; | Cortisol &lt;dbl&gt; | Noradrenaline &lt;dbl&gt; | Hba1c &lt;dbl&gt; | Fibrinogen &lt;dbl&gt; | CRP &lt;dbl&gt; | HDL &lt;dbl&gt; | Epinephrine &lt;dbl&gt; | BP_Classification &lt;chr&gt; |\n",
       "|---|---|---|---|---|---|---|---|---|\n",
       "| CS_M_21_W_5  | 0.31895997 | 0.9418322 | 0.09619281 | 0.30781349 | 0.02540196 | 0.37137609 | 0.1298237 | N |\n",
       "| CS_M_24_W_8  | 0.39048120 | 0.5867065 | 0.37022397 | 0.07151733 | 0.01251242 | 0.30205876 | 0.1173371 | N |\n",
       "| CS_M_25_W_10 | 0.17816785 | 0.8849155 | 0.71733834 | 0.33499877 | 0.08517846 | 0.03549816 | 0.4462051 | E |\n",
       "| CS_M_28_W_16 | 0.09429353 | 0.5867065 | 0.15214092 | 0.00000000 | 0.03774597 | 0.23247445 | 1.0000000 | N |\n",
       "| CS_M_29_W_17 | 0.53255852 | 0.4111672 | 0.36444198 | 0.24009707 | 0.02382042 | 0.61145546 | 0.7857967 | N |\n",
       "| CS_F_31_B_21 | 0.28318193 | 0.3461165 | 0.81150589 | 0.22566464 | 0.17616570 | 0.09319548 | 0.3955898 | N |\n",
       "\n"
      ],
      "text/plain": [
       "  Subject_ID   Cortisol   Noradrenaline Hba1c      Fibrinogen CRP       \n",
       "1 CS_M_21_W_5  0.31895997 0.9418322     0.09619281 0.30781349 0.02540196\n",
       "2 CS_M_24_W_8  0.39048120 0.5867065     0.37022397 0.07151733 0.01251242\n",
       "3 CS_M_25_W_10 0.17816785 0.8849155     0.71733834 0.33499877 0.08517846\n",
       "4 CS_M_28_W_16 0.09429353 0.5867065     0.15214092 0.00000000 0.03774597\n",
       "5 CS_M_29_W_17 0.53255852 0.4111672     0.36444198 0.24009707 0.02382042\n",
       "6 CS_F_31_B_21 0.28318193 0.3461165     0.81150589 0.22566464 0.17616570\n",
       "  HDL        Epinephrine BP_Classification\n",
       "1 0.37137609 0.1298237   N                \n",
       "2 0.30205876 0.1173371   N                \n",
       "3 0.03549816 0.4462051   E                \n",
       "4 0.23247445 1.0000000   N                \n",
       "5 0.61145546 0.7857967   N                \n",
       "6 0.09319548 0.3955898   N                "
      ]
     },
     "metadata": {},
     "output_type": "display_data"
    }
   ],
   "source": [
    "pslog2_df = reg_df %>%\n",
    "    mutate(across(Cortisol:Epinephrine, ~ log2(.x + 1)))\n",
    "\n",
    "head(pslog2_df)"
   ]
  },
  {
   "cell_type": "code",
   "execution_count": 9,
   "id": "4ca34bc3-8568-4b05-9823-deceed0d5684",
   "metadata": {},
   "outputs": [
    {
     "data": {
      "text/html": [
       "<table class=\"dataframe\">\n",
       "<caption>A data.frame: 7 × 4</caption>\n",
       "<thead>\n",
       "\t<tr><th></th><th scope=col>statistic</th><th scope=col>p.value</th><th scope=col>method</th><th scope=col>Normality</th></tr>\n",
       "\t<tr><th></th><th scope=col>&lt;dbl&gt;</th><th scope=col>&lt;dbl&gt;</th><th scope=col>&lt;chr&gt;</th><th scope=col>&lt;chr&gt;</th></tr>\n",
       "</thead>\n",
       "<tbody>\n",
       "\t<tr><th scope=row>Cortisol</th><td>0.8291083</td><td>9.879115e-05</td><td>Shapiro-Wilk normality test</td><td>Non-normal</td></tr>\n",
       "\t<tr><th scope=row>Noradrenaline</th><td>0.9530450</td><td>1.514515e-01</td><td>Shapiro-Wilk normality test</td><td>Normal    </td></tr>\n",
       "\t<tr><th scope=row>Hba1c</th><td>0.9695032</td><td>4.479052e-01</td><td>Shapiro-Wilk normality test</td><td>Normal    </td></tr>\n",
       "\t<tr><th scope=row>Fibrinogen</th><td>0.9404895</td><td>6.375442e-02</td><td>Shapiro-Wilk normality test</td><td>Normal    </td></tr>\n",
       "\t<tr><th scope=row>CRP</th><td>0.7209469</td><td>1.048238e-06</td><td>Shapiro-Wilk normality test</td><td>Non-normal</td></tr>\n",
       "\t<tr><th scope=row>HDL</th><td>0.9079889</td><td>7.507847e-03</td><td>Shapiro-Wilk normality test</td><td>Non-normal</td></tr>\n",
       "\t<tr><th scope=row>Epinephrine</th><td>0.9437510</td><td>7.978057e-02</td><td>Shapiro-Wilk normality test</td><td>Normal    </td></tr>\n",
       "</tbody>\n",
       "</table>\n"
      ],
      "text/latex": [
       "A data.frame: 7 × 4\n",
       "\\begin{tabular}{r|llll}\n",
       "  & statistic & p.value & method & Normality\\\\\n",
       "  & <dbl> & <dbl> & <chr> & <chr>\\\\\n",
       "\\hline\n",
       "\tCortisol & 0.8291083 & 9.879115e-05 & Shapiro-Wilk normality test & Non-normal\\\\\n",
       "\tNoradrenaline & 0.9530450 & 1.514515e-01 & Shapiro-Wilk normality test & Normal    \\\\\n",
       "\tHba1c & 0.9695032 & 4.479052e-01 & Shapiro-Wilk normality test & Normal    \\\\\n",
       "\tFibrinogen & 0.9404895 & 6.375442e-02 & Shapiro-Wilk normality test & Normal    \\\\\n",
       "\tCRP & 0.7209469 & 1.048238e-06 & Shapiro-Wilk normality test & Non-normal\\\\\n",
       "\tHDL & 0.9079889 & 7.507847e-03 & Shapiro-Wilk normality test & Non-normal\\\\\n",
       "\tEpinephrine & 0.9437510 & 7.978057e-02 & Shapiro-Wilk normality test & Normal    \\\\\n",
       "\\end{tabular}\n"
      ],
      "text/markdown": [
       "\n",
       "A data.frame: 7 × 4\n",
       "\n",
       "| <!--/--> | statistic &lt;dbl&gt; | p.value &lt;dbl&gt; | method &lt;chr&gt; | Normality &lt;chr&gt; |\n",
       "|---|---|---|---|---|\n",
       "| Cortisol | 0.8291083 | 9.879115e-05 | Shapiro-Wilk normality test | Non-normal |\n",
       "| Noradrenaline | 0.9530450 | 1.514515e-01 | Shapiro-Wilk normality test | Normal     |\n",
       "| Hba1c | 0.9695032 | 4.479052e-01 | Shapiro-Wilk normality test | Normal     |\n",
       "| Fibrinogen | 0.9404895 | 6.375442e-02 | Shapiro-Wilk normality test | Normal     |\n",
       "| CRP | 0.7209469 | 1.048238e-06 | Shapiro-Wilk normality test | Non-normal |\n",
       "| HDL | 0.9079889 | 7.507847e-03 | Shapiro-Wilk normality test | Non-normal |\n",
       "| Epinephrine | 0.9437510 | 7.978057e-02 | Shapiro-Wilk normality test | Normal     |\n",
       "\n"
      ],
      "text/plain": [
       "              statistic p.value      method                      Normality \n",
       "Cortisol      0.8291083 9.879115e-05 Shapiro-Wilk normality test Non-normal\n",
       "Noradrenaline 0.9530450 1.514515e-01 Shapiro-Wilk normality test Normal    \n",
       "Hba1c         0.9695032 4.479052e-01 Shapiro-Wilk normality test Normal    \n",
       "Fibrinogen    0.9404895 6.375442e-02 Shapiro-Wilk normality test Normal    \n",
       "CRP           0.7209469 1.048238e-06 Shapiro-Wilk normality test Non-normal\n",
       "HDL           0.9079889 7.507847e-03 Shapiro-Wilk normality test Non-normal\n",
       "Epinephrine   0.9437510 7.978057e-02 Shapiro-Wilk normality test Normal    "
      ]
     },
     "metadata": {},
     "output_type": "display_data"
    }
   ],
   "source": [
    "do.call(rbind.data.frame, apply(pslog2_df[,2:8], 2, shapiro.test))[,1:3] %>%\n",
    "    mutate(Normality = ifelse(p.value < 0.05, \"Non-normal\", \"Normal\"))"
   ]
  },
  {
   "cell_type": "markdown",
   "id": "fe9174cd-a5bc-47fd-b817-cda64719a5e8",
   "metadata": {},
   "source": [
    "Now we have 4 out of 7 variables that are normally distributed. Let's go ahead and run ordinal regression."
   ]
  },
  {
   "cell_type": "code",
   "execution_count": 8,
   "id": "b7292a77-47c7-41fe-a99c-3c5738ba147c",
   "metadata": {},
   "outputs": [
    {
     "data": {
      "text/html": [
       "<table class=\"dataframe\">\n",
       "<caption>A tibble: 6 × 9</caption>\n",
       "<thead>\n",
       "\t<tr><th scope=col>Subject_ID</th><th scope=col>Cortisol</th><th scope=col>Noradrenaline</th><th scope=col>Hba1c</th><th scope=col>Fibrinogen</th><th scope=col>CRP</th><th scope=col>HDL</th><th scope=col>Epinephrine</th><th scope=col>BP_Classification</th></tr>\n",
       "\t<tr><th scope=col>&lt;chr&gt;</th><th scope=col>&lt;dbl&gt;</th><th scope=col>&lt;dbl&gt;</th><th scope=col>&lt;dbl&gt;</th><th scope=col>&lt;dbl&gt;</th><th scope=col>&lt;dbl&gt;</th><th scope=col>&lt;dbl&gt;</th><th scope=col>&lt;dbl&gt;</th><th scope=col>&lt;fct&gt;</th></tr>\n",
       "</thead>\n",
       "<tbody>\n",
       "\t<tr><td>CS_M_21_W_5 </td><td>0.3994008</td><td>0.9574185</td><td>0.1325016</td><td>0.38715681</td><td>0.03618957</td><td>0.45562427</td><td>0.1760976</td><td>N</td></tr>\n",
       "\t<tr><td>CS_M_24_W_8 </td><td>0.4755842</td><td>0.6660353</td><td>0.4544117</td><td>0.09965519</td><td>0.01793960</td><td>0.38079455</td><td>0.1600646</td><td>N</td></tr>\n",
       "\t<tr><td>CS_M_25_W_10</td><td>0.2365451</td><td>0.9144998</td><td>0.7801743</td><td>0.41683841</td><td>0.11793231</td><td>0.05032499</td><td>0.5322721</td><td>E</td></tr>\n",
       "\t<tr><td>CS_M_28_W_16</td><td>0.1299998</td><td>0.6660353</td><td>0.2043172</td><td>0.00000000</td><td>0.05345333</td><td>0.30155773</td><td>1.0000000</td><td>N</td></tr>\n",
       "\t<tr><td>CS_M_29_W_17</td><td>0.6159422</td><td>0.4968889</td><td>0.4483111</td><td>0.31045305</td><td>0.03396268</td><td>0.68836431</td><td>0.8365678</td><td>N</td></tr>\n",
       "\t<tr><td>CS_F_31_B_21</td><td>0.3597257</td><td>0.4288033</td><td>0.8571895</td><td>0.29356429</td><td>0.23409133</td><td>0.12855140</td><td>0.4808750</td><td>N</td></tr>\n",
       "</tbody>\n",
       "</table>\n"
      ],
      "text/latex": [
       "A tibble: 6 × 9\n",
       "\\begin{tabular}{lllllllll}\n",
       " Subject\\_ID & Cortisol & Noradrenaline & Hba1c & Fibrinogen & CRP & HDL & Epinephrine & BP\\_Classification\\\\\n",
       " <chr> & <dbl> & <dbl> & <dbl> & <dbl> & <dbl> & <dbl> & <dbl> & <fct>\\\\\n",
       "\\hline\n",
       "\t CS\\_M\\_21\\_W\\_5  & 0.3994008 & 0.9574185 & 0.1325016 & 0.38715681 & 0.03618957 & 0.45562427 & 0.1760976 & N\\\\\n",
       "\t CS\\_M\\_24\\_W\\_8  & 0.4755842 & 0.6660353 & 0.4544117 & 0.09965519 & 0.01793960 & 0.38079455 & 0.1600646 & N\\\\\n",
       "\t CS\\_M\\_25\\_W\\_10 & 0.2365451 & 0.9144998 & 0.7801743 & 0.41683841 & 0.11793231 & 0.05032499 & 0.5322721 & E\\\\\n",
       "\t CS\\_M\\_28\\_W\\_16 & 0.1299998 & 0.6660353 & 0.2043172 & 0.00000000 & 0.05345333 & 0.30155773 & 1.0000000 & N\\\\\n",
       "\t CS\\_M\\_29\\_W\\_17 & 0.6159422 & 0.4968889 & 0.4483111 & 0.31045305 & 0.03396268 & 0.68836431 & 0.8365678 & N\\\\\n",
       "\t CS\\_F\\_31\\_B\\_21 & 0.3597257 & 0.4288033 & 0.8571895 & 0.29356429 & 0.23409133 & 0.12855140 & 0.4808750 & N\\\\\n",
       "\\end{tabular}\n"
      ],
      "text/markdown": [
       "\n",
       "A tibble: 6 × 9\n",
       "\n",
       "| Subject_ID &lt;chr&gt; | Cortisol &lt;dbl&gt; | Noradrenaline &lt;dbl&gt; | Hba1c &lt;dbl&gt; | Fibrinogen &lt;dbl&gt; | CRP &lt;dbl&gt; | HDL &lt;dbl&gt; | Epinephrine &lt;dbl&gt; | BP_Classification &lt;fct&gt; |\n",
       "|---|---|---|---|---|---|---|---|---|\n",
       "| CS_M_21_W_5  | 0.3994008 | 0.9574185 | 0.1325016 | 0.38715681 | 0.03618957 | 0.45562427 | 0.1760976 | N |\n",
       "| CS_M_24_W_8  | 0.4755842 | 0.6660353 | 0.4544117 | 0.09965519 | 0.01793960 | 0.38079455 | 0.1600646 | N |\n",
       "| CS_M_25_W_10 | 0.2365451 | 0.9144998 | 0.7801743 | 0.41683841 | 0.11793231 | 0.05032499 | 0.5322721 | E |\n",
       "| CS_M_28_W_16 | 0.1299998 | 0.6660353 | 0.2043172 | 0.00000000 | 0.05345333 | 0.30155773 | 1.0000000 | N |\n",
       "| CS_M_29_W_17 | 0.6159422 | 0.4968889 | 0.4483111 | 0.31045305 | 0.03396268 | 0.68836431 | 0.8365678 | N |\n",
       "| CS_F_31_B_21 | 0.3597257 | 0.4288033 | 0.8571895 | 0.29356429 | 0.23409133 | 0.12855140 | 0.4808750 | N |\n",
       "\n"
      ],
      "text/plain": [
       "  Subject_ID   Cortisol  Noradrenaline Hba1c     Fibrinogen CRP       \n",
       "1 CS_M_21_W_5  0.3994008 0.9574185     0.1325016 0.38715681 0.03618957\n",
       "2 CS_M_24_W_8  0.4755842 0.6660353     0.4544117 0.09965519 0.01793960\n",
       "3 CS_M_25_W_10 0.2365451 0.9144998     0.7801743 0.41683841 0.11793231\n",
       "4 CS_M_28_W_16 0.1299998 0.6660353     0.2043172 0.00000000 0.05345333\n",
       "5 CS_M_29_W_17 0.6159422 0.4968889     0.4483111 0.31045305 0.03396268\n",
       "6 CS_F_31_B_21 0.3597257 0.4288033     0.8571895 0.29356429 0.23409133\n",
       "  HDL        Epinephrine BP_Classification\n",
       "1 0.45562427 0.1760976   N                \n",
       "2 0.38079455 0.1600646   N                \n",
       "3 0.05032499 0.5322721   E                \n",
       "4 0.30155773 1.0000000   N                \n",
       "5 0.68836431 0.8365678   N                \n",
       "6 0.12855140 0.4808750   N                "
      ]
     },
     "metadata": {},
     "output_type": "display_data"
    }
   ],
   "source": [
    "# need to use the pslog2 data\n",
    "two_reg_df = two_reg_df %>%\n",
    "    mutate(across(Cortisol:Epinephrine, ~ log2(.x + 1)))\n",
    "\n",
    "three_reg_df = three_reg_df %>%\n",
    "    mutate(across(Cortisol:Epinephrine, ~ log2(.x + 1)))\n",
    "\n",
    "head(two_reg_df)"
   ]
  },
  {
   "cell_type": "markdown",
   "id": "c14249e7-28a9-4baa-9fe8-c362caf897f7",
   "metadata": {},
   "source": [
    "# Ordinal Regression\n",
    "\n",
    "Using [ordinal regression](https://www.statisticssolutions.com/free-resources/directory-of-statistical-analyses/ordinal-regression/) to predict blood pressure classification using mediator scores from 18 biomarkers. "
   ]
  },
  {
   "cell_type": "code",
   "execution_count": 10,
   "id": "fb1ed418-053f-4b77-a625-f236f975aded",
   "metadata": {},
   "outputs": [
    {
     "data": {
      "text/html": [
       "<table class=\"dataframe\">\n",
       "<caption>A data.frame: 7 × 2</caption>\n",
       "<thead>\n",
       "\t<tr><th scope=col>Variable</th><th scope=col>Coefficient</th></tr>\n",
       "\t<tr><th scope=col>&lt;chr&gt;</th><th scope=col>&lt;dbl&gt;</th></tr>\n",
       "</thead>\n",
       "<tbody>\n",
       "\t<tr><td>Epinephrine  </td><td>0.5323710</td></tr>\n",
       "\t<tr><td>Noradrenaline</td><td>0.1740116</td></tr>\n",
       "\t<tr><td>Fibrinogen   </td><td>0.1733724</td></tr>\n",
       "\t<tr><td>Cortisol     </td><td>0.1202450</td></tr>\n",
       "\t<tr><td>Hba1c        </td><td>0.0000000</td></tr>\n",
       "\t<tr><td>CRP          </td><td>0.0000000</td></tr>\n",
       "\t<tr><td>HDL          </td><td>0.0000000</td></tr>\n",
       "</tbody>\n",
       "</table>\n"
      ],
      "text/latex": [
       "A data.frame: 7 × 2\n",
       "\\begin{tabular}{ll}\n",
       " Variable & Coefficient\\\\\n",
       " <chr> & <dbl>\\\\\n",
       "\\hline\n",
       "\t Epinephrine   & 0.5323710\\\\\n",
       "\t Noradrenaline & 0.1740116\\\\\n",
       "\t Fibrinogen    & 0.1733724\\\\\n",
       "\t Cortisol      & 0.1202450\\\\\n",
       "\t Hba1c         & 0.0000000\\\\\n",
       "\t CRP           & 0.0000000\\\\\n",
       "\t HDL           & 0.0000000\\\\\n",
       "\\end{tabular}\n"
      ],
      "text/markdown": [
       "\n",
       "A data.frame: 7 × 2\n",
       "\n",
       "| Variable &lt;chr&gt; | Coefficient &lt;dbl&gt; |\n",
       "|---|---|\n",
       "| Epinephrine   | 0.5323710 |\n",
       "| Noradrenaline | 0.1740116 |\n",
       "| Fibrinogen    | 0.1733724 |\n",
       "| Cortisol      | 0.1202450 |\n",
       "| Hba1c         | 0.0000000 |\n",
       "| CRP           | 0.0000000 |\n",
       "| HDL           | 0.0000000 |\n",
       "\n"
      ],
      "text/plain": [
       "  Variable      Coefficient\n",
       "1 Epinephrine   0.5323710  \n",
       "2 Noradrenaline 0.1740116  \n",
       "3 Fibrinogen    0.1733724  \n",
       "4 Cortisol      0.1202450  \n",
       "5 Hba1c         0.0000000  \n",
       "6 CRP           0.0000000  \n",
       "7 HDL           0.0000000  "
      ]
     },
     "metadata": {},
     "output_type": "display_data"
    },
    {
     "data": {
      "text/html": [
       "<table class=\"dataframe\">\n",
       "<caption>A data.frame: 7 × 2</caption>\n",
       "<thead>\n",
       "\t<tr><th scope=col>Variable</th><th scope=col>Coefficient</th></tr>\n",
       "\t<tr><th scope=col>&lt;chr&gt;</th><th scope=col>&lt;dbl&gt;</th></tr>\n",
       "</thead>\n",
       "<tbody>\n",
       "\t<tr><td>Epinephrine  </td><td>0.4883158</td></tr>\n",
       "\t<tr><td>Cortisol     </td><td>0.3303183</td></tr>\n",
       "\t<tr><td>Fibrinogen   </td><td>0.1222687</td></tr>\n",
       "\t<tr><td>Noradrenaline</td><td>0.0590972</td></tr>\n",
       "\t<tr><td>Hba1c        </td><td>0.0000000</td></tr>\n",
       "\t<tr><td>CRP          </td><td>0.0000000</td></tr>\n",
       "\t<tr><td>HDL          </td><td>0.0000000</td></tr>\n",
       "</tbody>\n",
       "</table>\n"
      ],
      "text/latex": [
       "A data.frame: 7 × 2\n",
       "\\begin{tabular}{ll}\n",
       " Variable & Coefficient\\\\\n",
       " <chr> & <dbl>\\\\\n",
       "\\hline\n",
       "\t Epinephrine   & 0.4883158\\\\\n",
       "\t Cortisol      & 0.3303183\\\\\n",
       "\t Fibrinogen    & 0.1222687\\\\\n",
       "\t Noradrenaline & 0.0590972\\\\\n",
       "\t Hba1c         & 0.0000000\\\\\n",
       "\t CRP           & 0.0000000\\\\\n",
       "\t HDL           & 0.0000000\\\\\n",
       "\\end{tabular}\n"
      ],
      "text/markdown": [
       "\n",
       "A data.frame: 7 × 2\n",
       "\n",
       "| Variable &lt;chr&gt; | Coefficient &lt;dbl&gt; |\n",
       "|---|---|\n",
       "| Epinephrine   | 0.4883158 |\n",
       "| Cortisol      | 0.3303183 |\n",
       "| Fibrinogen    | 0.1222687 |\n",
       "| Noradrenaline | 0.0590972 |\n",
       "| Hba1c         | 0.0000000 |\n",
       "| CRP           | 0.0000000 |\n",
       "| HDL           | 0.0000000 |\n",
       "\n"
      ],
      "text/plain": [
       "  Variable      Coefficient\n",
       "1 Epinephrine   0.4883158  \n",
       "2 Cortisol      0.3303183  \n",
       "3 Fibrinogen    0.1222687  \n",
       "4 Noradrenaline 0.0590972  \n",
       "5 Hba1c         0.0000000  \n",
       "6 CRP           0.0000000  \n",
       "7 HDL           0.0000000  "
      ]
     },
     "metadata": {},
     "output_type": "display_data"
    }
   ],
   "source": [
    "# creating a vector of booleans that specifies whether or not the coefficient should be\n",
    "# positive (TRUE) or negative (FALSE), only HDL will be negative\n",
    "biomarker_coefficients = c(rep(TRUE, ncol(reg_df) - 2))\n",
    "\n",
    "estimateOrdWeights <- function(dataset, response, coefficients_magnitude){\n",
    "    # \"\"\"\n",
    "    # Creating a function to run ordinal regression to estimate ordinal weights of mediator data based\n",
    "    # on blood pressure classification\n",
    "    # :param (input): wide df with biomarker data, response variable, magnitude of the coefficients\n",
    "    # :output: 1 df with the ordinal weights\n",
    "    # \"\"\"\n",
    "    \n",
    "    # setting seed for reproducibility\n",
    "    set.seed(12)\n",
    "    \n",
    "    #get number of response levels\n",
    "    NoBins <- length(unique(dataset[[response]]))\n",
    "\n",
    "    #get number of features or slices\n",
    "    noSlices <- ncol(dataset) - 2\n",
    "\n",
    "    # HDL needs to be negative so we'll make all the values negative\n",
    "    dataset$HDL = dataset$HDL * -1\n",
    "    \n",
    "    # obtaining the features and converting into a matrix\n",
    "    feature_data <- as.matrix(dataset[,c(2:(ncol(dataset) - 1))])\n",
    "\n",
    "    # ordinal regression\n",
    "    # positiveID specifies whether or not each coefficient for each ind. variable should be constrained to be non-negative\n",
    "    regression_model <- ordinalNet(feature_data, dataset[[response]], positiveID = coefficients_magnitude, \n",
    "                            # lambdaVals defines how quickly your coefficients drop to 0\n",
    "                            # keeping it at 0 tries to minimize feature reduction\n",
    "                            # maxiterout defines the number of iterations before it stops\n",
    "                         lambdaVals = 0, maxiterOut = 150)\n",
    "    testW <- regression_model$coefs[NoBins:(noSlices + NoBins - 1)]\n",
    "\n",
    "    # rescaling the coefficients so that they sum to 1\n",
    "    normalizer = 1/sum(testW)\n",
    "    rescaled_weight <- testW * normalizer\n",
    "\n",
    "    # adding the variable names back in \n",
    "    test_weights_df = data.frame(Variable = colnames(feature_data), Coefficient = rescaled_weight) %>%\n",
    "        arrange(-Coefficient) \n",
    "    \n",
    "    return(test_weights_df)\n",
    "}\n",
    "\n",
    "# calling fn\n",
    "two_weights_df = estimateOrdWeights(two_reg_df, 'BP_Classification', biomarker_coefficients)\n",
    "three_weights_df = estimateOrdWeights(three_reg_df, 'BP_Classification', biomarker_coefficients)\n",
    "\n",
    "two_weights_df\n",
    "three_weights_df"
   ]
  },
  {
   "cell_type": "markdown",
   "id": "83f580e0-19d4-436e-a87e-06dabef40b33",
   "metadata": {},
   "source": [
    "Based on the overall results with all 34 subjects, we can see that epinephrine had the largest (56%) contribution to blood pressure classification, while 3 variables were constrained to 0 having no impact on BP classification.????\n",
    "\n",
    "# Allostatic Load Summation\n",
    "\n",
    "Now that we have these weights from the ordinal regression, we'll calculate allostatic load scores for each subject using both the previously calculated mediator scores multiplied the ordinal weight for the 7 allostatic load biomarkers (cortisol, noradrenaline, epinephrine, HDL, Hba1c, fibrinogen, and CRP). The formula looks like...\n",
    "\n",
    "Allostatic Load = Cortisol ordinal weight * Cortisol score + CRP ordinal weight * CRP score..."
   ]
  },
  {
   "cell_type": "code",
   "execution_count": 50,
   "id": "74837d21-07ab-4d1e-a84c-521fb3ac8c4d",
   "metadata": {},
   "outputs": [
    {
     "name": "stderr",
     "output_type": "stream",
     "text": [
      "\u001b[1m\u001b[22mJoining with `by = join_by(Variable)`\n",
      "\u001b[1m\u001b[22mJoining with `by = join_by(Variable)`\n"
     ]
    },
    {
     "data": {
      "text/html": [
       "<table class=\"dataframe\">\n",
       "<caption>A data.frame: 6 × 2</caption>\n",
       "<thead>\n",
       "\t<tr><th></th><th scope=col>Subject_ID</th><th scope=col>Allostatic_Load</th></tr>\n",
       "\t<tr><th></th><th scope=col>&lt;chr&gt;</th><th scope=col>&lt;dbl&gt;</th></tr>\n",
       "</thead>\n",
       "<tbody>\n",
       "\t<tr><th scope=row>1</th><td>NS_F_23_W_41</td><td>0.7321116</td></tr>\n",
       "\t<tr><th scope=row>2</th><td>NS_F_27_B_50</td><td>0.6652528</td></tr>\n",
       "\t<tr><th scope=row>3</th><td>NS_F_21_W_38</td><td>0.6577898</td></tr>\n",
       "\t<tr><th scope=row>4</th><td>CS_M_28_W_16</td><td>0.6458030</td></tr>\n",
       "\t<tr><th scope=row>5</th><td>NS_F_38_B_61</td><td>0.6405694</td></tr>\n",
       "\t<tr><th scope=row>6</th><td>CS_M_29_W_17</td><td>0.5955469</td></tr>\n",
       "</tbody>\n",
       "</table>\n"
      ],
      "text/latex": [
       "A data.frame: 6 × 2\n",
       "\\begin{tabular}{r|ll}\n",
       "  & Subject\\_ID & Allostatic\\_Load\\\\\n",
       "  & <chr> & <dbl>\\\\\n",
       "\\hline\n",
       "\t1 & NS\\_F\\_23\\_W\\_41 & 0.7321116\\\\\n",
       "\t2 & NS\\_F\\_27\\_B\\_50 & 0.6652528\\\\\n",
       "\t3 & NS\\_F\\_21\\_W\\_38 & 0.6577898\\\\\n",
       "\t4 & CS\\_M\\_28\\_W\\_16 & 0.6458030\\\\\n",
       "\t5 & NS\\_F\\_38\\_B\\_61 & 0.6405694\\\\\n",
       "\t6 & CS\\_M\\_29\\_W\\_17 & 0.5955469\\\\\n",
       "\\end{tabular}\n"
      ],
      "text/markdown": [
       "\n",
       "A data.frame: 6 × 2\n",
       "\n",
       "| <!--/--> | Subject_ID &lt;chr&gt; | Allostatic_Load &lt;dbl&gt; |\n",
       "|---|---|---|\n",
       "| 1 | NS_F_23_W_41 | 0.7321116 |\n",
       "| 2 | NS_F_27_B_50 | 0.6652528 |\n",
       "| 3 | NS_F_21_W_38 | 0.6577898 |\n",
       "| 4 | CS_M_28_W_16 | 0.6458030 |\n",
       "| 5 | NS_F_38_B_61 | 0.6405694 |\n",
       "| 6 | CS_M_29_W_17 | 0.5955469 |\n",
       "\n"
      ],
      "text/plain": [
       "  Subject_ID   Allostatic_Load\n",
       "1 NS_F_23_W_41 0.7321116      \n",
       "2 NS_F_27_B_50 0.6652528      \n",
       "3 NS_F_21_W_38 0.6577898      \n",
       "4 CS_M_28_W_16 0.6458030      \n",
       "5 NS_F_38_B_61 0.6405694      \n",
       "6 CS_M_29_W_17 0.5955469      "
      ]
     },
     "metadata": {},
     "output_type": "display_data"
    }
   ],
   "source": [
    "allostatic_load = function(weights_df){\n",
    "    # add words!!\n",
    "    \n",
    "    # combining the mediator scores with the ordinal weights into one dataframe\n",
    "    wider_weights_df = pivot_longer(pslog2_df[,1:8], cols = 2:8, names_to = \"Variable\") %>%\n",
    "        dcast(Variable ~ Subject_ID, value.var = \"value\") %>% \n",
    "        inner_join(weights_df) %>%\n",
    "        column_to_rownames(\"Variable\")\n",
    "\n",
    "    # multiplying the value of the mediator in each row by its respective ordinal\n",
    "    # weight found in the last column\n",
    "    multiplication_df = wider_weights_df %>%\n",
    "        select(-Coefficient) %>%\n",
    "        mutate(across(contains(\"_\"), ~.x*wider_weights_df$Coefficient))\n",
    "\n",
    "    # calculating allostatic load by summing by the columns\n",
    "    allostatic_load_df = data.frame(Allostatic_Load = apply(multiplication_df, 2, sum)) %>%\n",
    "        arrange(-Allostatic_Load) %>%\n",
    "        rownames_to_column(var = \"Subject_ID\")\n",
    "    \n",
    "    return(allostatic_load_df)\n",
    "    }\n",
    "\n",
    "# calling fn\n",
    "two_allostatic_df = allostatic_load(two_weights_df)\n",
    "three_allostatic_df = allostatic_load(three_weights_df)\n",
    "\n",
    "head(two_allostatic_df)"
   ]
  },
  {
   "cell_type": "markdown",
   "id": "14568402-86bb-4344-bc82-ab15b7389c53",
   "metadata": {},
   "source": [
    "Now testing for statistical differences based on sex and smoking status using a two way anova."
   ]
  },
  {
   "cell_type": "code",
   "execution_count": 51,
   "id": "203727fc-9642-45ec-919b-f0c13364bb26",
   "metadata": {},
   "outputs": [
    {
     "name": "stderr",
     "output_type": "stream",
     "text": [
      "\u001b[1m\u001b[22mJoining with `by = join_by(Subject_ID)`\n",
      "\u001b[1m\u001b[22mJoining with `by = join_by(Subject_ID)`\n"
     ]
    },
    {
     "data": {
      "text/html": [
       "<table class=\"dataframe\">\n",
       "<caption>A data.frame: 6 × 5</caption>\n",
       "<thead>\n",
       "\t<tr><th></th><th scope=col>Subject_ID</th><th scope=col>Allostatic_Load</th><th scope=col>Smoking_Status</th><th scope=col>Sex</th><th scope=col>Race</th></tr>\n",
       "\t<tr><th></th><th scope=col>&lt;chr&gt;</th><th scope=col>&lt;dbl&gt;</th><th scope=col>&lt;chr&gt;</th><th scope=col>&lt;chr&gt;</th><th scope=col>&lt;chr&gt;</th></tr>\n",
       "</thead>\n",
       "<tbody>\n",
       "\t<tr><th scope=row>1</th><td>NS_F_23_W_41</td><td>0.7321116</td><td>NS</td><td>F</td><td>W</td></tr>\n",
       "\t<tr><th scope=row>2</th><td>NS_F_27_B_50</td><td>0.6652528</td><td>NS</td><td>F</td><td>B</td></tr>\n",
       "\t<tr><th scope=row>3</th><td>NS_F_21_W_38</td><td>0.6577898</td><td>NS</td><td>F</td><td>W</td></tr>\n",
       "\t<tr><th scope=row>4</th><td>CS_M_28_W_16</td><td>0.6458030</td><td>CS</td><td>M</td><td>W</td></tr>\n",
       "\t<tr><th scope=row>5</th><td>NS_F_38_B_61</td><td>0.6405694</td><td>NS</td><td>F</td><td>B</td></tr>\n",
       "\t<tr><th scope=row>6</th><td>CS_M_29_W_17</td><td>0.5955469</td><td>CS</td><td>M</td><td>W</td></tr>\n",
       "</tbody>\n",
       "</table>\n"
      ],
      "text/latex": [
       "A data.frame: 6 × 5\n",
       "\\begin{tabular}{r|lllll}\n",
       "  & Subject\\_ID & Allostatic\\_Load & Smoking\\_Status & Sex & Race\\\\\n",
       "  & <chr> & <dbl> & <chr> & <chr> & <chr>\\\\\n",
       "\\hline\n",
       "\t1 & NS\\_F\\_23\\_W\\_41 & 0.7321116 & NS & F & W\\\\\n",
       "\t2 & NS\\_F\\_27\\_B\\_50 & 0.6652528 & NS & F & B\\\\\n",
       "\t3 & NS\\_F\\_21\\_W\\_38 & 0.6577898 & NS & F & W\\\\\n",
       "\t4 & CS\\_M\\_28\\_W\\_16 & 0.6458030 & CS & M & W\\\\\n",
       "\t5 & NS\\_F\\_38\\_B\\_61 & 0.6405694 & NS & F & B\\\\\n",
       "\t6 & CS\\_M\\_29\\_W\\_17 & 0.5955469 & CS & M & W\\\\\n",
       "\\end{tabular}\n"
      ],
      "text/markdown": [
       "\n",
       "A data.frame: 6 × 5\n",
       "\n",
       "| <!--/--> | Subject_ID &lt;chr&gt; | Allostatic_Load &lt;dbl&gt; | Smoking_Status &lt;chr&gt; | Sex &lt;chr&gt; | Race &lt;chr&gt; |\n",
       "|---|---|---|---|---|---|\n",
       "| 1 | NS_F_23_W_41 | 0.7321116 | NS | F | W |\n",
       "| 2 | NS_F_27_B_50 | 0.6652528 | NS | F | B |\n",
       "| 3 | NS_F_21_W_38 | 0.6577898 | NS | F | W |\n",
       "| 4 | CS_M_28_W_16 | 0.6458030 | CS | M | W |\n",
       "| 5 | NS_F_38_B_61 | 0.6405694 | NS | F | B |\n",
       "| 6 | CS_M_29_W_17 | 0.5955469 | CS | M | W |\n",
       "\n"
      ],
      "text/plain": [
       "  Subject_ID   Allostatic_Load Smoking_Status Sex Race\n",
       "1 NS_F_23_W_41 0.7321116       NS             F   W   \n",
       "2 NS_F_27_B_50 0.6652528       NS             F   B   \n",
       "3 NS_F_21_W_38 0.6577898       NS             F   W   \n",
       "4 CS_M_28_W_16 0.6458030       CS             M   W   \n",
       "5 NS_F_38_B_61 0.6405694       NS             F   B   \n",
       "6 CS_M_29_W_17 0.5955469       CS             M   W   "
      ]
     },
     "metadata": {},
     "output_type": "display_data"
    },
    {
     "data": {
      "text/plain": [
       "              Race\n",
       "Smoking_Status  B  W\n",
       "            CS  8  9\n",
       "            NS 11  6"
      ]
     },
     "metadata": {},
     "output_type": "display_data"
    }
   ],
   "source": [
    "# adding in demographic info for each subject\n",
    "two_anova_df = inner_join(two_allostatic_df, subject_info_df[,c(3,5,6,8)])\n",
    "three_anova_df = inner_join(three_allostatic_df, subject_info_df[,c(3,5,6,8)])\n",
    "head(two_anova_df)\n",
    "\n",
    "# looking at counts for each variable\n",
    "table(two_anova_df[,c(3,5)])"
   ]
  },
  {
   "cell_type": "code",
   "execution_count": 56,
   "id": "9ed007f7-0f48-4a1b-af9c-041970384c46",
   "metadata": {},
   "outputs": [
    {
     "data": {
      "text/plain": [
       "                    Df Sum Sq Mean Sq F value Pr(>F)  \n",
       "Smoking_Status       1 0.0950 0.09496   3.490 0.0716 .\n",
       "Race                 1 0.0102 0.01019   0.374 0.5452  \n",
       "Smoking_Status:Race  1 0.0344 0.03442   1.265 0.2696  \n",
       "Residuals           30 0.8164 0.02721                 \n",
       "---\n",
       "Signif. codes:  0 ‘***’ 0.001 ‘**’ 0.01 ‘*’ 0.05 ‘.’ 0.1 ‘ ’ 1"
      ]
     },
     "metadata": {},
     "output_type": "display_data"
    },
    {
     "data": {
      "text/plain": [
       "                    Df Sum Sq Mean Sq F value Pr(>F)  \n",
       "Smoking_Status       1 0.1296 0.12964   4.791 0.0365 *\n",
       "Race                 1 0.0094 0.00942   0.348 0.5596  \n",
       "Smoking_Status:Race  1 0.0210 0.02100   0.776 0.3854  \n",
       "Residuals           30 0.8117 0.02706                 \n",
       "---\n",
       "Signif. codes:  0 ‘***’ 0.001 ‘**’ 0.01 ‘*’ 0.05 ‘.’ 0.1 ‘ ’ 1"
      ]
     },
     "metadata": {},
     "output_type": "display_data"
    },
    {
     "data": {
      "text/plain": [
       "                   Df Sum Sq Mean Sq F value Pr(>F)  \n",
       "Smoking_Status      1 0.0950 0.09496   3.656 0.0655 .\n",
       "Sex                 1 0.0362 0.03617   1.392 0.2473  \n",
       "Smoking_Status:Sex  1 0.0456 0.04560   1.756 0.1952  \n",
       "Residuals          30 0.7792 0.02597                 \n",
       "---\n",
       "Signif. codes:  0 ‘***’ 0.001 ‘**’ 0.01 ‘*’ 0.05 ‘.’ 0.1 ‘ ’ 1"
      ]
     },
     "metadata": {},
     "output_type": "display_data"
    },
    {
     "data": {
      "text/plain": [
       "                   Df Sum Sq Mean Sq F value Pr(>F)  \n",
       "Smoking_Status      1 0.1296 0.12964   4.879  0.035 *\n",
       "Sex                 1 0.0137 0.01373   0.517  0.478  \n",
       "Smoking_Status:Sex  1 0.0312 0.03124   1.175  0.287  \n",
       "Residuals          30 0.7972 0.02657                 \n",
       "---\n",
       "Signif. codes:  0 ‘***’ 0.001 ‘**’ 0.01 ‘*’ 0.05 ‘.’ 0.1 ‘ ’ 1"
      ]
     },
     "metadata": {},
     "output_type": "display_data"
    }
   ],
   "source": [
    "# anova\n",
    "two_anova_smoking_race = aov(Allostatic_Load ~ Smoking_Status * Race, data = two_anova_df)\n",
    "three_anova_smoking_race = aov(Allostatic_Load ~ Smoking_Status * Race, data = three_anova_df)\n",
    "two_anova_smoking_sex = aov(Allostatic_Load ~ Smoking_Status * Sex, data = two_anova_df)\n",
    "three_anova_smoking_sex = aov(Allostatic_Load ~ Smoking_Status * Sex, data = three_anova_df)\n",
    "\n",
    "summary(two_anova_smoking_race)\n",
    "summary(three_anova_smoking_race)\n",
    "summary(two_anova_smoking_sex)\n",
    "summary(three_anova_smoking_sex)"
   ]
  },
  {
   "cell_type": "code",
   "execution_count": 53,
   "id": "325e7cc8-0a45-4404-8d45-ed00715d33ed",
   "metadata": {},
   "outputs": [],
   "source": [
    "# post hoc\n",
    "#TukeyHSD(anova)"
   ]
  },
  {
   "cell_type": "markdown",
   "id": "6dbde5b1-85df-4108-a72d-914726cc8ba1",
   "metadata": {},
   "source": [
    "There are no statistically significant differences in allostatic load by smoking status (p value = 0.11), race (p value = 0.95), nor the interaction between the two variables (p value = 0.95). (Not sure why the p values for race are different in the boxplot vs. the `aov` function, but either way it's still insignificant.)???"
   ]
  },
  {
   "cell_type": "code",
   "execution_count": 55,
   "id": "bdecfa15-174e-49a5-be41-45f2b4c20f20",
   "metadata": {},
   "outputs": [
    {
     "data": {
      "image/png": "[encoded data removed]",
      "text/plain": [
       "plot without title"
      ]
     },
     "metadata": {
      "image/png": {
       "height": 360,
       "width": 480
      }
     },
     "output_type": "display_data"
    }
   ],
   "source": [
    "# visualizing using boxplots\n",
    "options(repr.plot.width=8, repr.plot.height=6) #changing size\n",
    "\n",
    "ggplot(data = three_anova_df, aes(y = Allostatic_Load, x = Smoking_Status)) + \n",
    "  geom_boxplot() +\n",
    "  geom_point() + \n",
    "\n",
    " stat_anova_test(wid = \"Smoking_Status\", p.adjust.method = \"none\", label = \"p = {p.format}\", \n",
    "                     label.x.npc = \"left\", size = 5)"
   ]
  },
  {
   "cell_type": "markdown",
   "id": "c0d19136-1eff-4234-807d-560532e20274",
   "metadata": {},
   "source": [
    "But why do NS have a higher allostatic load???"
   ]
  },
  {
   "cell_type": "code",
   "execution_count": null,
   "id": "f0246014-9be6-4018-afab-56cd15c08d72",
   "metadata": {},
   "outputs": [],
   "source": []
  }
 ],
 "metadata": {
  "kernelspec": {
   "display_name": "R",
   "language": "R",
   "name": "ir"
  },
  "language_info": {
   "codemirror_mode": "r",
   "file_extension": ".r",
   "mimetype": "text/x-r-source",
   "name": "R",
   "pygments_lexer": "r",
   "version": "4.3.1"
  }
 },
 "nbformat": 4,
 "nbformat_minor": 5
}
