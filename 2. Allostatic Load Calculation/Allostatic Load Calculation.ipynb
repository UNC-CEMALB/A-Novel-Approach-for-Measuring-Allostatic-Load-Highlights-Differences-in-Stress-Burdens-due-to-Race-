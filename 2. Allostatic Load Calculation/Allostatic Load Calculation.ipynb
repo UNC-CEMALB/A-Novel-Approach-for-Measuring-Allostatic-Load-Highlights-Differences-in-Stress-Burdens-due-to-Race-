{
 "cells": [
  {
   "cell_type": "code",
   "execution_count": 1,
   "id": "9863b40f-c1d0-4b36-83a8-07055c92fe8f",
   "metadata": {},
   "outputs": [
    {
     "name": "stderr",
     "output_type": "stream",
     "text": [
      "── \u001b[1mAttaching core tidyverse packages\u001b[22m ──────────────────────── tidyverse 2.0.0 ──\n",
      "\u001b[32m✔\u001b[39m \u001b[34mdplyr    \u001b[39m 1.1.3     \u001b[32m✔\u001b[39m \u001b[34mreadr    \u001b[39m 2.1.4\n",
      "\u001b[32m✔\u001b[39m \u001b[34mforcats  \u001b[39m 1.0.0     \u001b[32m✔\u001b[39m \u001b[34mstringr  \u001b[39m 1.5.0\n",
      "\u001b[32m✔\u001b[39m \u001b[34mggplot2  \u001b[39m 3.4.3     \u001b[32m✔\u001b[39m \u001b[34mtibble   \u001b[39m 3.2.1\n",
      "\u001b[32m✔\u001b[39m \u001b[34mlubridate\u001b[39m 1.9.2     \u001b[32m✔\u001b[39m \u001b[34mtidyr    \u001b[39m 1.3.0\n",
      "\u001b[32m✔\u001b[39m \u001b[34mpurrr    \u001b[39m 1.0.2     \n",
      "── \u001b[1mConflicts\u001b[22m ────────────────────────────────────────── tidyverse_conflicts() ──\n",
      "\u001b[31m✖\u001b[39m \u001b[34mdplyr\u001b[39m::\u001b[32mfilter()\u001b[39m masks \u001b[34mstats\u001b[39m::filter()\n",
      "\u001b[31m✖\u001b[39m \u001b[34mdplyr\u001b[39m::\u001b[32mlag()\u001b[39m    masks \u001b[34mstats\u001b[39m::lag()\n",
      "\u001b[36mℹ\u001b[39m Use the conflicted package (\u001b[3m\u001b[34m<http://conflicted.r-lib.org/>\u001b[39m\u001b[23m) to force all conflicts to become errors\n",
      "#BlackLivesMatter\n",
      "\n",
      "\n",
      "Attaching package: ‘reshape2’\n",
      "\n",
      "\n",
      "The following object is masked from ‘package:tidyr’:\n",
      "\n",
      "    smiths\n",
      "\n",
      "\n",
      "\n",
      "Attaching package: ‘rstatix’\n",
      "\n",
      "\n",
      "The following object is masked from ‘package:stats’:\n",
      "\n",
      "    filter\n",
      "\n",
      "\n",
      "\n",
      "Attaching package: ‘cowplot’\n",
      "\n",
      "\n",
      "The following object is masked from ‘package:lubridate’:\n",
      "\n",
      "    stamp\n",
      "\n",
      "\n",
      "\n",
      "Attaching package: ‘ggpubr’\n",
      "\n",
      "\n",
      "The following object is masked from ‘package:cowplot’:\n",
      "\n",
      "    get_legend\n",
      "\n",
      "\n"
     ]
    }
   ],
   "source": [
    "Output = ('/Users/alexis/Library/CloudStorage/OneDrive-UniversityofNorthCarolinaatChapelHill/CEMALB_DataAnalysisPM/Projects/P1012. Allostatic Load/P1012.3. Analyses/P1012.3.2. Ordinal Regression/Output')\n",
    "cur_date = \"061424\"\n",
    "\n",
    "library(readxl)\n",
    "library(openxlsx)\n",
    "library(tidyverse)\n",
    "library(gtsummary)\n",
    "library(ordinalNet)\n",
    "library(reshape2)\n",
    "library(rstatix)\n",
    "library(ggrepel)\n",
    "library(ggsci)\n",
    "library(cowplot)\n",
    "library(ggpubr)\n",
    "\n",
    "# reading in file\n",
    "bp_df = data.frame(read_excel(\"Input/Allostatic_Mediator_Data_050824.xlsx\", sheet = 4)) \n",
    "subject_info_df = data.frame(read_excel(\"Input/Subject_Info_050824.xlsx\", sheet = 2))\n",
    "mediator_scores_df = data.frame(read_excel(\"Input/Mediator_Scores_061424.xlsx\"))"
   ]
  },
  {
   "cell_type": "code",
   "execution_count": 2,
   "id": "4eae0161-33b8-4c89-80c2-75116265c536",
   "metadata": {},
   "outputs": [
    {
     "data": {
      "text/html": [
       "<table class=\"dataframe\">\n",
       "<caption>A data.frame: 6 × 4</caption>\n",
       "<thead>\n",
       "\t<tr><th></th><th scope=col>Subject_ID</th><th scope=col>Systolic</th><th scope=col>Diastolic</th><th scope=col>BP_Classification</th></tr>\n",
       "\t<tr><th></th><th scope=col>&lt;chr&gt;</th><th scope=col>&lt;dbl&gt;</th><th scope=col>&lt;dbl&gt;</th><th scope=col>&lt;chr&gt;</th></tr>\n",
       "</thead>\n",
       "<tbody>\n",
       "\t<tr><th scope=row>1</th><td>CS_M_21_W_5 </td><td>114</td><td>70</td><td>N</td></tr>\n",
       "\t<tr><th scope=row>2</th><td>CS_M_24_W_8 </td><td>118</td><td>71</td><td>N</td></tr>\n",
       "\t<tr><th scope=row>3</th><td>CS_M_25_W_10</td><td>121</td><td>83</td><td>E</td></tr>\n",
       "\t<tr><th scope=row>4</th><td>CS_M_28_W_16</td><td>115</td><td>74</td><td>N</td></tr>\n",
       "\t<tr><th scope=row>5</th><td>CS_M_29_W_17</td><td>118</td><td>80</td><td>N</td></tr>\n",
       "\t<tr><th scope=row>6</th><td>CS_F_31_B_21</td><td>112</td><td>77</td><td>N</td></tr>\n",
       "</tbody>\n",
       "</table>\n"
      ],
      "text/latex": [
       "A data.frame: 6 × 4\n",
       "\\begin{tabular}{r|llll}\n",
       "  & Subject\\_ID & Systolic & Diastolic & BP\\_Classification\\\\\n",
       "  & <chr> & <dbl> & <dbl> & <chr>\\\\\n",
       "\\hline\n",
       "\t1 & CS\\_M\\_21\\_W\\_5  & 114 & 70 & N\\\\\n",
       "\t2 & CS\\_M\\_24\\_W\\_8  & 118 & 71 & N\\\\\n",
       "\t3 & CS\\_M\\_25\\_W\\_10 & 121 & 83 & E\\\\\n",
       "\t4 & CS\\_M\\_28\\_W\\_16 & 115 & 74 & N\\\\\n",
       "\t5 & CS\\_M\\_29\\_W\\_17 & 118 & 80 & N\\\\\n",
       "\t6 & CS\\_F\\_31\\_B\\_21 & 112 & 77 & N\\\\\n",
       "\\end{tabular}\n"
      ],
      "text/markdown": [
       "\n",
       "A data.frame: 6 × 4\n",
       "\n",
       "| <!--/--> | Subject_ID &lt;chr&gt; | Systolic &lt;dbl&gt; | Diastolic &lt;dbl&gt; | BP_Classification &lt;chr&gt; |\n",
       "|---|---|---|---|---|\n",
       "| 1 | CS_M_21_W_5  | 114 | 70 | N |\n",
       "| 2 | CS_M_24_W_8  | 118 | 71 | N |\n",
       "| 3 | CS_M_25_W_10 | 121 | 83 | E |\n",
       "| 4 | CS_M_28_W_16 | 115 | 74 | N |\n",
       "| 5 | CS_M_29_W_17 | 118 | 80 | N |\n",
       "| 6 | CS_F_31_B_21 | 112 | 77 | N |\n",
       "\n"
      ],
      "text/plain": [
       "  Subject_ID   Systolic Diastolic BP_Classification\n",
       "1 CS_M_21_W_5  114      70        N                \n",
       "2 CS_M_24_W_8  118      71        N                \n",
       "3 CS_M_25_W_10 121      83        E                \n",
       "4 CS_M_28_W_16 115      74        N                \n",
       "5 CS_M_29_W_17 118      80        N                \n",
       "6 CS_F_31_B_21 112      77        N                "
      ]
     },
     "metadata": {},
     "output_type": "display_data"
    },
    {
     "data": {
      "text/html": [
       "<table class=\"dataframe\">\n",
       "<caption>A data.frame: 6 × 8</caption>\n",
       "<thead>\n",
       "\t<tr><th></th><th scope=col>Study</th><th scope=col>Original_Subject_Number</th><th scope=col>Subject_ID</th><th scope=col>Subject_Number</th><th scope=col>Smoking_Status</th><th scope=col>Sex</th><th scope=col>Age</th><th scope=col>Race</th></tr>\n",
       "\t<tr><th></th><th scope=col>&lt;chr&gt;</th><th scope=col>&lt;dbl&gt;</th><th scope=col>&lt;chr&gt;</th><th scope=col>&lt;dbl&gt;</th><th scope=col>&lt;chr&gt;</th><th scope=col>&lt;chr&gt;</th><th scope=col>&lt;dbl&gt;</th><th scope=col>&lt;chr&gt;</th></tr>\n",
       "</thead>\n",
       "<tbody>\n",
       "\t<tr><th scope=row>1</th><td>FM2       </td><td> 97</td><td>CS_M_18_B_1</td><td>1</td><td>CS</td><td>M</td><td>18</td><td>B</td></tr>\n",
       "\t<tr><th scope=row>2</th><td>FM2       </td><td> 99</td><td>CS_F_20_W_2</td><td>2</td><td>CS</td><td>F</td><td>20</td><td>W</td></tr>\n",
       "\t<tr><th scope=row>3</th><td>FM2       </td><td>101</td><td>CS_F_20_W_3</td><td>3</td><td>CS</td><td>F</td><td>20</td><td>W</td></tr>\n",
       "\t<tr><th scope=row>4</th><td>FM2       </td><td> 98</td><td>CS_F_21_W_4</td><td>4</td><td>CS</td><td>F</td><td>21</td><td>W</td></tr>\n",
       "\t<tr><th scope=row>5</th><td>TCORS LAIV</td><td> 39</td><td>CS_M_21_W_5</td><td>5</td><td>CS</td><td>M</td><td>21</td><td>W</td></tr>\n",
       "\t<tr><th scope=row>6</th><td>FM2       </td><td>100</td><td>CS_F_22_W_6</td><td>6</td><td>CS</td><td>F</td><td>22</td><td>W</td></tr>\n",
       "</tbody>\n",
       "</table>\n"
      ],
      "text/latex": [
       "A data.frame: 6 × 8\n",
       "\\begin{tabular}{r|llllllll}\n",
       "  & Study & Original\\_Subject\\_Number & Subject\\_ID & Subject\\_Number & Smoking\\_Status & Sex & Age & Race\\\\\n",
       "  & <chr> & <dbl> & <chr> & <dbl> & <chr> & <chr> & <dbl> & <chr>\\\\\n",
       "\\hline\n",
       "\t1 & FM2        &  97 & CS\\_M\\_18\\_B\\_1 & 1 & CS & M & 18 & B\\\\\n",
       "\t2 & FM2        &  99 & CS\\_F\\_20\\_W\\_2 & 2 & CS & F & 20 & W\\\\\n",
       "\t3 & FM2        & 101 & CS\\_F\\_20\\_W\\_3 & 3 & CS & F & 20 & W\\\\\n",
       "\t4 & FM2        &  98 & CS\\_F\\_21\\_W\\_4 & 4 & CS & F & 21 & W\\\\\n",
       "\t5 & TCORS LAIV &  39 & CS\\_M\\_21\\_W\\_5 & 5 & CS & M & 21 & W\\\\\n",
       "\t6 & FM2        & 100 & CS\\_F\\_22\\_W\\_6 & 6 & CS & F & 22 & W\\\\\n",
       "\\end{tabular}\n"
      ],
      "text/markdown": [
       "\n",
       "A data.frame: 6 × 8\n",
       "\n",
       "| <!--/--> | Study &lt;chr&gt; | Original_Subject_Number &lt;dbl&gt; | Subject_ID &lt;chr&gt; | Subject_Number &lt;dbl&gt; | Smoking_Status &lt;chr&gt; | Sex &lt;chr&gt; | Age &lt;dbl&gt; | Race &lt;chr&gt; |\n",
       "|---|---|---|---|---|---|---|---|---|\n",
       "| 1 | FM2        |  97 | CS_M_18_B_1 | 1 | CS | M | 18 | B |\n",
       "| 2 | FM2        |  99 | CS_F_20_W_2 | 2 | CS | F | 20 | W |\n",
       "| 3 | FM2        | 101 | CS_F_20_W_3 | 3 | CS | F | 20 | W |\n",
       "| 4 | FM2        |  98 | CS_F_21_W_4 | 4 | CS | F | 21 | W |\n",
       "| 5 | TCORS LAIV |  39 | CS_M_21_W_5 | 5 | CS | M | 21 | W |\n",
       "| 6 | FM2        | 100 | CS_F_22_W_6 | 6 | CS | F | 22 | W |\n",
       "\n"
      ],
      "text/plain": [
       "  Study      Original_Subject_Number Subject_ID  Subject_Number Smoking_Status\n",
       "1 FM2         97                     CS_M_18_B_1 1              CS            \n",
       "2 FM2         99                     CS_F_20_W_2 2              CS            \n",
       "3 FM2        101                     CS_F_20_W_3 3              CS            \n",
       "4 FM2         98                     CS_F_21_W_4 4              CS            \n",
       "5 TCORS LAIV  39                     CS_M_21_W_5 5              CS            \n",
       "6 FM2        100                     CS_F_22_W_6 6              CS            \n",
       "  Sex Age Race\n",
       "1 M   18  B   \n",
       "2 F   20  W   \n",
       "3 F   20  W   \n",
       "4 F   21  W   \n",
       "5 M   21  W   \n",
       "6 F   22  W   "
      ]
     },
     "metadata": {},
     "output_type": "display_data"
    },
    {
     "data": {
      "text/html": [
       "<table class=\"dataframe\">\n",
       "<caption>A data.frame: 6 × 3</caption>\n",
       "<thead>\n",
       "\t<tr><th></th><th scope=col>Variable</th><th scope=col>Subject_ID</th><th scope=col>Mediator_Score</th></tr>\n",
       "\t<tr><th></th><th scope=col>&lt;chr&gt;</th><th scope=col>&lt;chr&gt;</th><th scope=col>&lt;dbl&gt;</th></tr>\n",
       "</thead>\n",
       "<tbody>\n",
       "\t<tr><th scope=row>1</th><td>Cortisol</td><td>CS_M_18_B_1</td><td>0.4683470</td></tr>\n",
       "\t<tr><th scope=row>2</th><td>Cortisol</td><td>CS_F_20_W_2</td><td>0.8342112</td></tr>\n",
       "\t<tr><th scope=row>3</th><td>Cortisol</td><td>CS_F_20_W_3</td><td>0.1603803</td></tr>\n",
       "\t<tr><th scope=row>4</th><td>Cortisol</td><td>CS_F_21_W_4</td><td>0.4583014</td></tr>\n",
       "\t<tr><th scope=row>5</th><td>Cortisol</td><td>CS_M_21_W_5</td><td>0.3867217</td></tr>\n",
       "\t<tr><th scope=row>6</th><td>Cortisol</td><td>CS_F_22_W_6</td><td>0.1712352</td></tr>\n",
       "</tbody>\n",
       "</table>\n"
      ],
      "text/latex": [
       "A data.frame: 6 × 3\n",
       "\\begin{tabular}{r|lll}\n",
       "  & Variable & Subject\\_ID & Mediator\\_Score\\\\\n",
       "  & <chr> & <chr> & <dbl>\\\\\n",
       "\\hline\n",
       "\t1 & Cortisol & CS\\_M\\_18\\_B\\_1 & 0.4683470\\\\\n",
       "\t2 & Cortisol & CS\\_F\\_20\\_W\\_2 & 0.8342112\\\\\n",
       "\t3 & Cortisol & CS\\_F\\_20\\_W\\_3 & 0.1603803\\\\\n",
       "\t4 & Cortisol & CS\\_F\\_21\\_W\\_4 & 0.4583014\\\\\n",
       "\t5 & Cortisol & CS\\_M\\_21\\_W\\_5 & 0.3867217\\\\\n",
       "\t6 & Cortisol & CS\\_F\\_22\\_W\\_6 & 0.1712352\\\\\n",
       "\\end{tabular}\n"
      ],
      "text/markdown": [
       "\n",
       "A data.frame: 6 × 3\n",
       "\n",
       "| <!--/--> | Variable &lt;chr&gt; | Subject_ID &lt;chr&gt; | Mediator_Score &lt;dbl&gt; |\n",
       "|---|---|---|---|\n",
       "| 1 | Cortisol | CS_M_18_B_1 | 0.4683470 |\n",
       "| 2 | Cortisol | CS_F_20_W_2 | 0.8342112 |\n",
       "| 3 | Cortisol | CS_F_20_W_3 | 0.1603803 |\n",
       "| 4 | Cortisol | CS_F_21_W_4 | 0.4583014 |\n",
       "| 5 | Cortisol | CS_M_21_W_5 | 0.3867217 |\n",
       "| 6 | Cortisol | CS_F_22_W_6 | 0.1712352 |\n",
       "\n"
      ],
      "text/plain": [
       "  Variable Subject_ID  Mediator_Score\n",
       "1 Cortisol CS_M_18_B_1 0.4683470     \n",
       "2 Cortisol CS_F_20_W_2 0.8342112     \n",
       "3 Cortisol CS_F_20_W_3 0.1603803     \n",
       "4 Cortisol CS_F_21_W_4 0.4583014     \n",
       "5 Cortisol CS_M_21_W_5 0.3867217     \n",
       "6 Cortisol CS_F_22_W_6 0.1712352     "
      ]
     },
     "metadata": {},
     "output_type": "display_data"
    }
   ],
   "source": [
    "head(bp_df)\n",
    "head(subject_info_df)\n",
    "head(mediator_scores_df)"
   ]
  },
  {
   "cell_type": "markdown",
   "id": "464d1b6c-2cb7-4d92-b213-0bf3eea33b9c",
   "metadata": {},
   "source": [
    "Calculating allostatic load (AL) scores for each subject, which serves as a measure for stress.\n",
    "\n",
    "1. **Acute AL**\n",
    "\n",
    "    In this analysis, we're using [ordinal regression](https://www.statisticssolutions.com/free-resources/directory-of-statistical-analyses/ordinal-regression/) to predict blood pressure classification using mediator scores from 4 acute stress biomarkers (Noradrenaline, epinephrine, cortisol, and fibrinogen). Might run models with and without fibrinogen, since it could be considered a chronic biomarker.\n",
    "    \n",
    "\n",
    "3. **Chronic (secondary/tertiary) AL**\n",
    "   \n",
    "    No deriving of ordinal weights in this analysis, since we don't have an outcome that we measured associated with chronic stress. We'll include 3 chronic stress biomarkers (CRP, Hba1c, and HDL). \n",
    "    \n",
    "\n",
    "5. **Overall AL**\n",
    "   \n",
    "    Summing the acute and chronic AL scores.\n",
    "\n",
    "# Acute AL\n",
    "Starting by combining the dataframes."
   ]
  },
  {
   "cell_type": "code",
   "execution_count": 3,
   "id": "5a21565a-4207-422e-bd1f-e57fc4ce8b43",
   "metadata": {},
   "outputs": [
    {
     "name": "stderr",
     "output_type": "stream",
     "text": [
      "\u001b[1m\u001b[22mJoining with `by = join_by(Subject_ID)`\n",
      "\u001b[1m\u001b[22mJoining with `by = join_by(Subject_ID)`\n"
     ]
    },
    {
     "data": {
      "text/html": [
       "<table class=\"dataframe\">\n",
       "<caption>A tibble: 6 × 6</caption>\n",
       "<thead>\n",
       "\t<tr><th scope=col>Subject_ID</th><th scope=col>Cortisol</th><th scope=col>Noradrenaline</th><th scope=col>Fibrinogen</th><th scope=col>Epinephrine</th><th scope=col>BP_Classification</th></tr>\n",
       "\t<tr><th scope=col>&lt;chr&gt;</th><th scope=col>&lt;dbl&gt;</th><th scope=col>&lt;dbl&gt;</th><th scope=col>&lt;dbl&gt;</th><th scope=col>&lt;dbl&gt;</th><th scope=col>&lt;chr&gt;</th></tr>\n",
       "</thead>\n",
       "<tbody>\n",
       "\t<tr><td>CS_M_21_W_5 </td><td>0.3867217</td><td>0.9216080</td><td>0.26135093</td><td>0.02133767</td><td>N</td></tr>\n",
       "\t<tr><td>CS_M_24_W_8 </td><td>0.4378417</td><td>0.5058597</td><td>0.08011309</td><td>0.02155180</td><td>N</td></tr>\n",
       "\t<tr><td>CS_M_25_W_10</td><td>0.2932014</td><td>0.8479016</td><td>0.28417037</td><td>0.18657420</td><td>E</td></tr>\n",
       "\t<tr><td>CS_M_28_W_16</td><td>0.2416750</td><td>0.5058597</td><td>0.03086015</td><td>0.48633181</td><td>N</td></tr>\n",
       "\t<tr><td>CS_M_29_W_17</td><td>0.5472276</td><td>0.3352036</td><td>0.20634436</td><td>0.35658497</td><td>N</td></tr>\n",
       "\t<tr><td>CS_F_31_B_21</td><td>0.3620846</td><td>0.2770528</td><td>0.19495086</td><td>0.16448963</td><td>N</td></tr>\n",
       "</tbody>\n",
       "</table>\n"
      ],
      "text/latex": [
       "A tibble: 6 × 6\n",
       "\\begin{tabular}{llllll}\n",
       " Subject\\_ID & Cortisol & Noradrenaline & Fibrinogen & Epinephrine & BP\\_Classification\\\\\n",
       " <chr> & <dbl> & <dbl> & <dbl> & <dbl> & <chr>\\\\\n",
       "\\hline\n",
       "\t CS\\_M\\_21\\_W\\_5  & 0.3867217 & 0.9216080 & 0.26135093 & 0.02133767 & N\\\\\n",
       "\t CS\\_M\\_24\\_W\\_8  & 0.4378417 & 0.5058597 & 0.08011309 & 0.02155180 & N\\\\\n",
       "\t CS\\_M\\_25\\_W\\_10 & 0.2932014 & 0.8479016 & 0.28417037 & 0.18657420 & E\\\\\n",
       "\t CS\\_M\\_28\\_W\\_16 & 0.2416750 & 0.5058597 & 0.03086015 & 0.48633181 & N\\\\\n",
       "\t CS\\_M\\_29\\_W\\_17 & 0.5472276 & 0.3352036 & 0.20634436 & 0.35658497 & N\\\\\n",
       "\t CS\\_F\\_31\\_B\\_21 & 0.3620846 & 0.2770528 & 0.19495086 & 0.16448963 & N\\\\\n",
       "\\end{tabular}\n"
      ],
      "text/markdown": [
       "\n",
       "A tibble: 6 × 6\n",
       "\n",
       "| Subject_ID &lt;chr&gt; | Cortisol &lt;dbl&gt; | Noradrenaline &lt;dbl&gt; | Fibrinogen &lt;dbl&gt; | Epinephrine &lt;dbl&gt; | BP_Classification &lt;chr&gt; |\n",
       "|---|---|---|---|---|---|\n",
       "| CS_M_21_W_5  | 0.3867217 | 0.9216080 | 0.26135093 | 0.02133767 | N |\n",
       "| CS_M_24_W_8  | 0.4378417 | 0.5058597 | 0.08011309 | 0.02155180 | N |\n",
       "| CS_M_25_W_10 | 0.2932014 | 0.8479016 | 0.28417037 | 0.18657420 | E |\n",
       "| CS_M_28_W_16 | 0.2416750 | 0.5058597 | 0.03086015 | 0.48633181 | N |\n",
       "| CS_M_29_W_17 | 0.5472276 | 0.3352036 | 0.20634436 | 0.35658497 | N |\n",
       "| CS_F_31_B_21 | 0.3620846 | 0.2770528 | 0.19495086 | 0.16448963 | N |\n",
       "\n"
      ],
      "text/plain": [
       "  Subject_ID   Cortisol  Noradrenaline Fibrinogen Epinephrine BP_Classification\n",
       "1 CS_M_21_W_5  0.3867217 0.9216080     0.26135093 0.02133767  N                \n",
       "2 CS_M_24_W_8  0.4378417 0.5058597     0.08011309 0.02155180  N                \n",
       "3 CS_M_25_W_10 0.2932014 0.8479016     0.28417037 0.18657420  E                \n",
       "4 CS_M_28_W_16 0.2416750 0.5058597     0.03086015 0.48633181  N                \n",
       "5 CS_M_29_W_17 0.5472276 0.3352036     0.20634436 0.35658497  N                \n",
       "6 CS_F_31_B_21 0.3620846 0.2770528     0.19495086 0.16448963  N                "
      ]
     },
     "metadata": {},
     "output_type": "display_data"
    }
   ],
   "source": [
    "# creating a vector for variables that increase acute stress\n",
    "acute_biomarkers = c('Cortisol','Noradrenaline','Epinephrine','Fibrinogen')\n",
    "\n",
    "ordinal_regression = function(dataset){\n",
    "    # add words!!!!!\n",
    "    # creating 1 df\n",
    "    ordinal_regression_df = inner_join(bp_df[,c(1,4)], subject_info_df[,3:8]) %>%\n",
    "        # adding mediator scores data\n",
    "        inner_join(dataset[,1:3]) %>%\n",
    "        # obtaining acute biomarkers only\n",
    "        filter(Variable %in% acute_biomarkers) %>%\n",
    "        pivot_wider(names_from = Variable, values_from = Mediator_Score)\n",
    "\n",
    "    #reordering and removing some columns\n",
    "    ordinal_regression_df = ordinal_regression_df[,c(1,8:11,2)]\n",
    "\n",
    "    return(ordinal_regression_df)\n",
    "    }\n",
    "\n",
    "# calling fn\n",
    "reg_df = ordinal_regression(mediator_scores_df)\n",
    "\n",
    "head(reg_df)"
   ]
  },
  {
   "cell_type": "markdown",
   "id": "f1b6da12-ec7e-4664-a004-cf16a459bd2a",
   "metadata": {},
   "source": [
    "## Assessing Distributions\n",
    "\n",
    "Looking at the distributions of blood pressure classifications and the mediator scores for each variable."
   ]
  },
  {
   "cell_type": "code",
   "execution_count": 4,
   "id": "f25bd531-8ae4-482d-8393-01b3e14c3697",
   "metadata": {},
   "outputs": [
    {
     "data": {
      "text/plain": [
       "\n",
       " 1  2  E  N \n",
       " 6  1  9 18 "
      ]
     },
     "metadata": {},
     "output_type": "display_data"
    }
   ],
   "source": [
    "table(reg_df$BP_Classification)"
   ]
  },
  {
   "cell_type": "markdown",
   "id": "94c0aed7-3ac1-442e-909c-571fd877dc13",
   "metadata": {},
   "source": [
    "The stage 1 and stage 2 classes are on the smaller side with 6 and 1 subject, respectively. There weren't enough observation of the stage 2 class to perform SMOTE; therefore, the blood pressure classes will be condensed in two different ways:\n",
    "\n",
    "+ **3 classes**: Normal subjects, at risk (elevated) subjects, and hypertensive subjects (formerly stage 1 and stage 2 subjects)\n",
    "+ **2 classes**: Normal subjects and hypertensive subjects (formerly elevated, stage 1, and stage 2 subjects)"
   ]
  },
  {
   "cell_type": "code",
   "execution_count": 5,
   "id": "99a5e42c-20e3-4df2-ac5d-770b0fea89dc",
   "metadata": {},
   "outputs": [],
   "source": [
    "three_reg_df = reg_df %>%\n",
    "    mutate(BP_Classification = ifelse(BP_Classification %in% c(\"1\", \"2\"), \"H\", BP_Classification))\n",
    "\n",
    "two_reg_df = reg_df %>%\n",
    "    mutate(BP_Classification = ifelse(BP_Classification %in% c(\"1\", \"2\", \"E\"), \"H\", BP_Classification))\n",
    "\n",
    "# turning BP into a factor\n",
    "three_reg_df$BP_Classification = factor(three_reg_df$BP_Classification, levels = c(\"N\", \"E\", \"H\"))\n",
    "two_reg_df$BP_Classification = factor(two_reg_df$BP_Classification, levels = c(\"N\", \"H\"))"
   ]
  },
  {
   "cell_type": "code",
   "execution_count": 6,
   "id": "f721cfc2-dd44-45e0-a939-58ab45044320",
   "metadata": {},
   "outputs": [
    {
     "data": {
      "text/plain": [
       "\n",
       " N  H \n",
       "18 16 "
      ]
     },
     "metadata": {},
     "output_type": "display_data"
    },
    {
     "data": {
      "text/plain": [
       "\n",
       " N  E  H \n",
       "18  9  7 "
      ]
     },
     "metadata": {},
     "output_type": "display_data"
    }
   ],
   "source": [
    "table(two_reg_df$BP_Classification)\n",
    "table(three_reg_df$BP_Classification)"
   ]
  },
  {
   "cell_type": "markdown",
   "id": "1c014177-81db-481f-ade8-6fb5db99e64f",
   "metadata": {},
   "source": [
    "Now assessing normality of the biomarkers using a shapiro wilk test."
   ]
  },
  {
   "cell_type": "code",
   "execution_count": 7,
   "id": "53c60b0a-e1f6-42bf-9766-a2389efcdc4a",
   "metadata": {},
   "outputs": [
    {
     "data": {
      "text/html": [
       "<table class=\"dataframe\">\n",
       "<caption>A data.frame: 4 × 4</caption>\n",
       "<thead>\n",
       "\t<tr><th></th><th scope=col>statistic</th><th scope=col>p.value</th><th scope=col>method</th><th scope=col>Normality</th></tr>\n",
       "\t<tr><th></th><th scope=col>&lt;dbl&gt;</th><th scope=col>&lt;dbl&gt;</th><th scope=col>&lt;chr&gt;</th><th scope=col>&lt;chr&gt;</th></tr>\n",
       "</thead>\n",
       "<tbody>\n",
       "\t<tr><th scope=row>Cortisol</th><td>0.7429965</td><td>2.411103e-06</td><td>Shapiro-Wilk normality test</td><td>Non-normal</td></tr>\n",
       "\t<tr><th scope=row>Noradrenaline</th><td>0.9351777</td><td>4.436357e-02</td><td>Shapiro-Wilk normality test</td><td>Non-normal</td></tr>\n",
       "\t<tr><th scope=row>Fibrinogen</th><td>0.8901584</td><td>2.546482e-03</td><td>Shapiro-Wilk normality test</td><td>Non-normal</td></tr>\n",
       "\t<tr><th scope=row>Epinephrine</th><td>0.9389878</td><td>5.752138e-02</td><td>Shapiro-Wilk normality test</td><td>Normal    </td></tr>\n",
       "</tbody>\n",
       "</table>\n"
      ],
      "text/latex": [
       "A data.frame: 4 × 4\n",
       "\\begin{tabular}{r|llll}\n",
       "  & statistic & p.value & method & Normality\\\\\n",
       "  & <dbl> & <dbl> & <chr> & <chr>\\\\\n",
       "\\hline\n",
       "\tCortisol & 0.7429965 & 2.411103e-06 & Shapiro-Wilk normality test & Non-normal\\\\\n",
       "\tNoradrenaline & 0.9351777 & 4.436357e-02 & Shapiro-Wilk normality test & Non-normal\\\\\n",
       "\tFibrinogen & 0.8901584 & 2.546482e-03 & Shapiro-Wilk normality test & Non-normal\\\\\n",
       "\tEpinephrine & 0.9389878 & 5.752138e-02 & Shapiro-Wilk normality test & Normal    \\\\\n",
       "\\end{tabular}\n"
      ],
      "text/markdown": [
       "\n",
       "A data.frame: 4 × 4\n",
       "\n",
       "| <!--/--> | statistic &lt;dbl&gt; | p.value &lt;dbl&gt; | method &lt;chr&gt; | Normality &lt;chr&gt; |\n",
       "|---|---|---|---|---|\n",
       "| Cortisol | 0.7429965 | 2.411103e-06 | Shapiro-Wilk normality test | Non-normal |\n",
       "| Noradrenaline | 0.9351777 | 4.436357e-02 | Shapiro-Wilk normality test | Non-normal |\n",
       "| Fibrinogen | 0.8901584 | 2.546482e-03 | Shapiro-Wilk normality test | Non-normal |\n",
       "| Epinephrine | 0.9389878 | 5.752138e-02 | Shapiro-Wilk normality test | Normal     |\n",
       "\n"
      ],
      "text/plain": [
       "              statistic p.value      method                      Normality \n",
       "Cortisol      0.7429965 2.411103e-06 Shapiro-Wilk normality test Non-normal\n",
       "Noradrenaline 0.9351777 4.436357e-02 Shapiro-Wilk normality test Non-normal\n",
       "Fibrinogen    0.8901584 2.546482e-03 Shapiro-Wilk normality test Non-normal\n",
       "Epinephrine   0.9389878 5.752138e-02 Shapiro-Wilk normality test Normal    "
      ]
     },
     "metadata": {},
     "output_type": "display_data"
    }
   ],
   "source": [
    "# using a shapiro wilk test to assess normality\n",
    "do.call(rbind.data.frame, apply(reg_df[,2:5], 2, shapiro.test))[,1:3] %>%\n",
    "    # adding a column that clarifies whether or not a variable is normally distributed or not\n",
    "    mutate(Normality = ifelse(p.value < 0.05, \"Non-normal\", \"Normal\"))"
   ]
  },
  {
   "cell_type": "markdown",
   "id": "d87a942f-ff06-49b0-bcac-bd163b1e5b90",
   "metadata": {},
   "source": [
    "Only 1 variable was normally distributed; therefore, we'll perform a data transformation (pseudo log 2) to see if that helps."
   ]
  },
  {
   "cell_type": "code",
   "execution_count": 8,
   "id": "9362539d-ef9c-4ea3-95ac-6addbfa4bc30",
   "metadata": {},
   "outputs": [
    {
     "data": {
      "text/html": [
       "<table class=\"dataframe\">\n",
       "<caption>A tibble: 6 × 6</caption>\n",
       "<thead>\n",
       "\t<tr><th scope=col>Subject_ID</th><th scope=col>Cortisol</th><th scope=col>Noradrenaline</th><th scope=col>Fibrinogen</th><th scope=col>Epinephrine</th><th scope=col>BP_Classification</th></tr>\n",
       "\t<tr><th scope=col>&lt;chr&gt;</th><th scope=col>&lt;dbl&gt;</th><th scope=col>&lt;dbl&gt;</th><th scope=col>&lt;dbl&gt;</th><th scope=col>&lt;dbl&gt;</th><th scope=col>&lt;chr&gt;</th></tr>\n",
       "</thead>\n",
       "<tbody>\n",
       "\t<tr><td>CS_M_21_W_5 </td><td>0.4716783</td><td>0.9423141</td><td>0.33496971</td><td>0.03045993</td><td>N</td></tr>\n",
       "\t<tr><td>CS_M_24_W_8 </td><td>0.5239048</td><td>0.5905873</td><td>0.11118237</td><td>0.03076236</td><td>N</td></tr>\n",
       "\t<tr><td>CS_M_25_W_10</td><td>0.3709470</td><td>0.8858879</td><td>0.36083662</td><td>0.24680232</td><td>E</td></tr>\n",
       "\t<tr><td>CS_M_28_W_16</td><td>0.3122876</td><td>0.5905873</td><td>0.04384863</td><td>0.57175622</td><td>N</td></tr>\n",
       "\t<tr><td>CS_M_29_W_17</td><td>0.6296855</td><td>0.4170597</td><td>0.27064180</td><td>0.43997942</td><td>N</td></tr>\n",
       "\t<tr><td>CS_F_31_B_21</td><td>0.4458163</td><td>0.3528182</td><td>0.25695129</td><td>0.21969779</td><td>N</td></tr>\n",
       "</tbody>\n",
       "</table>\n"
      ],
      "text/latex": [
       "A tibble: 6 × 6\n",
       "\\begin{tabular}{llllll}\n",
       " Subject\\_ID & Cortisol & Noradrenaline & Fibrinogen & Epinephrine & BP\\_Classification\\\\\n",
       " <chr> & <dbl> & <dbl> & <dbl> & <dbl> & <chr>\\\\\n",
       "\\hline\n",
       "\t CS\\_M\\_21\\_W\\_5  & 0.4716783 & 0.9423141 & 0.33496971 & 0.03045993 & N\\\\\n",
       "\t CS\\_M\\_24\\_W\\_8  & 0.5239048 & 0.5905873 & 0.11118237 & 0.03076236 & N\\\\\n",
       "\t CS\\_M\\_25\\_W\\_10 & 0.3709470 & 0.8858879 & 0.36083662 & 0.24680232 & E\\\\\n",
       "\t CS\\_M\\_28\\_W\\_16 & 0.3122876 & 0.5905873 & 0.04384863 & 0.57175622 & N\\\\\n",
       "\t CS\\_M\\_29\\_W\\_17 & 0.6296855 & 0.4170597 & 0.27064180 & 0.43997942 & N\\\\\n",
       "\t CS\\_F\\_31\\_B\\_21 & 0.4458163 & 0.3528182 & 0.25695129 & 0.21969779 & N\\\\\n",
       "\\end{tabular}\n"
      ],
      "text/markdown": [
       "\n",
       "A tibble: 6 × 6\n",
       "\n",
       "| Subject_ID &lt;chr&gt; | Cortisol &lt;dbl&gt; | Noradrenaline &lt;dbl&gt; | Fibrinogen &lt;dbl&gt; | Epinephrine &lt;dbl&gt; | BP_Classification &lt;chr&gt; |\n",
       "|---|---|---|---|---|---|\n",
       "| CS_M_21_W_5  | 0.4716783 | 0.9423141 | 0.33496971 | 0.03045993 | N |\n",
       "| CS_M_24_W_8  | 0.5239048 | 0.5905873 | 0.11118237 | 0.03076236 | N |\n",
       "| CS_M_25_W_10 | 0.3709470 | 0.8858879 | 0.36083662 | 0.24680232 | E |\n",
       "| CS_M_28_W_16 | 0.3122876 | 0.5905873 | 0.04384863 | 0.57175622 | N |\n",
       "| CS_M_29_W_17 | 0.6296855 | 0.4170597 | 0.27064180 | 0.43997942 | N |\n",
       "| CS_F_31_B_21 | 0.4458163 | 0.3528182 | 0.25695129 | 0.21969779 | N |\n",
       "\n"
      ],
      "text/plain": [
       "  Subject_ID   Cortisol  Noradrenaline Fibrinogen Epinephrine BP_Classification\n",
       "1 CS_M_21_W_5  0.4716783 0.9423141     0.33496971 0.03045993  N                \n",
       "2 CS_M_24_W_8  0.5239048 0.5905873     0.11118237 0.03076236  N                \n",
       "3 CS_M_25_W_10 0.3709470 0.8858879     0.36083662 0.24680232  E                \n",
       "4 CS_M_28_W_16 0.3122876 0.5905873     0.04384863 0.57175622  N                \n",
       "5 CS_M_29_W_17 0.6296855 0.4170597     0.27064180 0.43997942  N                \n",
       "6 CS_F_31_B_21 0.4458163 0.3528182     0.25695129 0.21969779  N                "
      ]
     },
     "metadata": {},
     "output_type": "display_data"
    }
   ],
   "source": [
    "pslog2_df = reg_df %>%\n",
    "    mutate(across(Cortisol:Epinephrine, ~ log2(.x + 1)))\n",
    "\n",
    "head(pslog2_df)"
   ]
  },
  {
   "cell_type": "code",
   "execution_count": 9,
   "id": "4ca34bc3-8568-4b05-9823-deceed0d5684",
   "metadata": {},
   "outputs": [
    {
     "data": {
      "text/html": [
       "<table class=\"dataframe\">\n",
       "<caption>A data.frame: 4 × 4</caption>\n",
       "<thead>\n",
       "\t<tr><th></th><th scope=col>statistic</th><th scope=col>p.value</th><th scope=col>method</th><th scope=col>Normality</th></tr>\n",
       "\t<tr><th></th><th scope=col>&lt;dbl&gt;</th><th scope=col>&lt;dbl&gt;</th><th scope=col>&lt;chr&gt;</th><th scope=col>&lt;chr&gt;</th></tr>\n",
       "</thead>\n",
       "<tbody>\n",
       "\t<tr><th scope=row>Cortisol</th><td>0.8080826</td><td>3.687146e-05</td><td>Shapiro-Wilk normality test</td><td>Non-normal</td></tr>\n",
       "\t<tr><th scope=row>Noradrenaline</th><td>0.9528941</td><td>1.498883e-01</td><td>Shapiro-Wilk normality test</td><td>Normal    </td></tr>\n",
       "\t<tr><th scope=row>Fibrinogen</th><td>0.9385847</td><td>5.595681e-02</td><td>Shapiro-Wilk normality test</td><td>Normal    </td></tr>\n",
       "\t<tr><th scope=row>Epinephrine</th><td>0.9413655</td><td>6.770597e-02</td><td>Shapiro-Wilk normality test</td><td>Normal    </td></tr>\n",
       "</tbody>\n",
       "</table>\n"
      ],
      "text/latex": [
       "A data.frame: 4 × 4\n",
       "\\begin{tabular}{r|llll}\n",
       "  & statistic & p.value & method & Normality\\\\\n",
       "  & <dbl> & <dbl> & <chr> & <chr>\\\\\n",
       "\\hline\n",
       "\tCortisol & 0.8080826 & 3.687146e-05 & Shapiro-Wilk normality test & Non-normal\\\\\n",
       "\tNoradrenaline & 0.9528941 & 1.498883e-01 & Shapiro-Wilk normality test & Normal    \\\\\n",
       "\tFibrinogen & 0.9385847 & 5.595681e-02 & Shapiro-Wilk normality test & Normal    \\\\\n",
       "\tEpinephrine & 0.9413655 & 6.770597e-02 & Shapiro-Wilk normality test & Normal    \\\\\n",
       "\\end{tabular}\n"
      ],
      "text/markdown": [
       "\n",
       "A data.frame: 4 × 4\n",
       "\n",
       "| <!--/--> | statistic &lt;dbl&gt; | p.value &lt;dbl&gt; | method &lt;chr&gt; | Normality &lt;chr&gt; |\n",
       "|---|---|---|---|---|\n",
       "| Cortisol | 0.8080826 | 3.687146e-05 | Shapiro-Wilk normality test | Non-normal |\n",
       "| Noradrenaline | 0.9528941 | 1.498883e-01 | Shapiro-Wilk normality test | Normal     |\n",
       "| Fibrinogen | 0.9385847 | 5.595681e-02 | Shapiro-Wilk normality test | Normal     |\n",
       "| Epinephrine | 0.9413655 | 6.770597e-02 | Shapiro-Wilk normality test | Normal     |\n",
       "\n"
      ],
      "text/plain": [
       "              statistic p.value      method                      Normality \n",
       "Cortisol      0.8080826 3.687146e-05 Shapiro-Wilk normality test Non-normal\n",
       "Noradrenaline 0.9528941 1.498883e-01 Shapiro-Wilk normality test Normal    \n",
       "Fibrinogen    0.9385847 5.595681e-02 Shapiro-Wilk normality test Normal    \n",
       "Epinephrine   0.9413655 6.770597e-02 Shapiro-Wilk normality test Normal    "
      ]
     },
     "metadata": {},
     "output_type": "display_data"
    }
   ],
   "source": [
    "do.call(rbind.data.frame, apply(pslog2_df[,2:5], 2, shapiro.test))[,1:3] %>%\n",
    "    mutate(Normality = ifelse(p.value < 0.05, \"Non-normal\", \"Normal\"))"
   ]
  },
  {
   "cell_type": "markdown",
   "id": "fe9174cd-a5bc-47fd-b817-cda64719a5e8",
   "metadata": {},
   "source": [
    "Now we have 3 out of 4 variables that are normally distributed."
   ]
  },
  {
   "cell_type": "code",
   "execution_count": 10,
   "id": "b7292a77-47c7-41fe-a99c-3c5738ba147c",
   "metadata": {},
   "outputs": [
    {
     "data": {
      "text/html": [
       "<table class=\"dataframe\">\n",
       "<caption>A tibble: 6 × 6</caption>\n",
       "<thead>\n",
       "\t<tr><th scope=col>Subject_ID</th><th scope=col>Cortisol</th><th scope=col>Noradrenaline</th><th scope=col>Fibrinogen</th><th scope=col>Epinephrine</th><th scope=col>BP_Classification</th></tr>\n",
       "\t<tr><th scope=col>&lt;chr&gt;</th><th scope=col>&lt;dbl&gt;</th><th scope=col>&lt;dbl&gt;</th><th scope=col>&lt;dbl&gt;</th><th scope=col>&lt;dbl&gt;</th><th scope=col>&lt;fct&gt;</th></tr>\n",
       "</thead>\n",
       "<tbody>\n",
       "\t<tr><td>CS_M_21_W_5 </td><td>0.4716783</td><td>0.9423141</td><td>0.33496971</td><td>0.03045993</td><td>N</td></tr>\n",
       "\t<tr><td>CS_M_24_W_8 </td><td>0.5239048</td><td>0.5905873</td><td>0.11118237</td><td>0.03076236</td><td>N</td></tr>\n",
       "\t<tr><td>CS_M_25_W_10</td><td>0.3709470</td><td>0.8858879</td><td>0.36083662</td><td>0.24680232</td><td>E</td></tr>\n",
       "\t<tr><td>CS_M_28_W_16</td><td>0.3122876</td><td>0.5905873</td><td>0.04384863</td><td>0.57175622</td><td>N</td></tr>\n",
       "\t<tr><td>CS_M_29_W_17</td><td>0.6296855</td><td>0.4170597</td><td>0.27064180</td><td>0.43997942</td><td>N</td></tr>\n",
       "\t<tr><td>CS_F_31_B_21</td><td>0.4458163</td><td>0.3528182</td><td>0.25695129</td><td>0.21969779</td><td>N</td></tr>\n",
       "</tbody>\n",
       "</table>\n"
      ],
      "text/latex": [
       "A tibble: 6 × 6\n",
       "\\begin{tabular}{llllll}\n",
       " Subject\\_ID & Cortisol & Noradrenaline & Fibrinogen & Epinephrine & BP\\_Classification\\\\\n",
       " <chr> & <dbl> & <dbl> & <dbl> & <dbl> & <fct>\\\\\n",
       "\\hline\n",
       "\t CS\\_M\\_21\\_W\\_5  & 0.4716783 & 0.9423141 & 0.33496971 & 0.03045993 & N\\\\\n",
       "\t CS\\_M\\_24\\_W\\_8  & 0.5239048 & 0.5905873 & 0.11118237 & 0.03076236 & N\\\\\n",
       "\t CS\\_M\\_25\\_W\\_10 & 0.3709470 & 0.8858879 & 0.36083662 & 0.24680232 & E\\\\\n",
       "\t CS\\_M\\_28\\_W\\_16 & 0.3122876 & 0.5905873 & 0.04384863 & 0.57175622 & N\\\\\n",
       "\t CS\\_M\\_29\\_W\\_17 & 0.6296855 & 0.4170597 & 0.27064180 & 0.43997942 & N\\\\\n",
       "\t CS\\_F\\_31\\_B\\_21 & 0.4458163 & 0.3528182 & 0.25695129 & 0.21969779 & N\\\\\n",
       "\\end{tabular}\n"
      ],
      "text/markdown": [
       "\n",
       "A tibble: 6 × 6\n",
       "\n",
       "| Subject_ID &lt;chr&gt; | Cortisol &lt;dbl&gt; | Noradrenaline &lt;dbl&gt; | Fibrinogen &lt;dbl&gt; | Epinephrine &lt;dbl&gt; | BP_Classification &lt;fct&gt; |\n",
       "|---|---|---|---|---|---|\n",
       "| CS_M_21_W_5  | 0.4716783 | 0.9423141 | 0.33496971 | 0.03045993 | N |\n",
       "| CS_M_24_W_8  | 0.5239048 | 0.5905873 | 0.11118237 | 0.03076236 | N |\n",
       "| CS_M_25_W_10 | 0.3709470 | 0.8858879 | 0.36083662 | 0.24680232 | E |\n",
       "| CS_M_28_W_16 | 0.3122876 | 0.5905873 | 0.04384863 | 0.57175622 | N |\n",
       "| CS_M_29_W_17 | 0.6296855 | 0.4170597 | 0.27064180 | 0.43997942 | N |\n",
       "| CS_F_31_B_21 | 0.4458163 | 0.3528182 | 0.25695129 | 0.21969779 | N |\n",
       "\n"
      ],
      "text/plain": [
       "  Subject_ID   Cortisol  Noradrenaline Fibrinogen Epinephrine BP_Classification\n",
       "1 CS_M_21_W_5  0.4716783 0.9423141     0.33496971 0.03045993  N                \n",
       "2 CS_M_24_W_8  0.5239048 0.5905873     0.11118237 0.03076236  N                \n",
       "3 CS_M_25_W_10 0.3709470 0.8858879     0.36083662 0.24680232  E                \n",
       "4 CS_M_28_W_16 0.3122876 0.5905873     0.04384863 0.57175622  N                \n",
       "5 CS_M_29_W_17 0.6296855 0.4170597     0.27064180 0.43997942  N                \n",
       "6 CS_F_31_B_21 0.4458163 0.3528182     0.25695129 0.21969779  N                "
      ]
     },
     "metadata": {},
     "output_type": "display_data"
    }
   ],
   "source": [
    "# need to use the pslog2 data\n",
    "three_reg_df = three_reg_df %>%\n",
    "    mutate(across(Cortisol:Epinephrine, ~ log2(.x + 1)))\n",
    "\n",
    "two_reg_df = two_reg_df %>%\n",
    "    mutate(across(Cortisol:Epinephrine, ~ log2(.x + 1)))\n",
    "\n",
    "head(three_reg_df)"
   ]
  },
  {
   "cell_type": "markdown",
   "id": "7e234805-c708-4578-bbd2-d1d4cb387ff5",
   "metadata": {},
   "source": [
    "## Summary Statistics\n",
    "\n",
    "Determining if there are any significant differences between the features for each outcome class."
   ]
  },
  {
   "cell_type": "code",
   "execution_count": 11,
   "id": "feeec00f-3d95-4d57-b991-ad38c8514e9b",
   "metadata": {},
   "outputs": [
    {
     "name": "stderr",
     "output_type": "stream",
     "text": [
      "\u001b[1m\u001b[22mJoining with `by = join_by(Subject_ID)`\n",
      "Warning for variable 'Smoking_Status':\n",
      "simpleWarning in stats::chisq.test(x = c(\"CS\", \"CS\", \"CS\", \"CS\", \"CS\", \"CS\", \"CS\", : Chi-squared approximation may be incorrect\n",
      "\n",
      "Warning for variable 'Sex':\n",
      "simpleWarning in stats::chisq.test(x = c(\"M\", \"M\", \"M\", \"M\", \"M\", \"F\", \"M\", \"M\", : Chi-squared approximation may be incorrect\n",
      "\n",
      "Warning for variable 'Race':\n",
      "simpleWarning in stats::chisq.test(x = c(\"W\", \"W\", \"W\", \"W\", \"W\", \"B\", \"W\", \"B\", : Chi-squared approximation may be incorrect\n",
      "\n"
     ]
    },
    {
     "data": {
      "text/html": [
       "<table class=\"dataframe\">\n",
       "<caption>A tibble: 14 × 6</caption>\n",
       "<thead>\n",
       "\t<tr><th scope=col>**Characteristic**</th><th scope=col>**N**</th><th scope=col>**N**, N = 18</th><th scope=col>**E**, N = 9</th><th scope=col>**H**, N = 7</th><th scope=col>**p-value**</th></tr>\n",
       "\t<tr><th scope=col>&lt;chr&gt;</th><th scope=col>&lt;chr&gt;</th><th scope=col>&lt;chr&gt;</th><th scope=col>&lt;chr&gt;</th><th scope=col>&lt;chr&gt;</th><th scope=col>&lt;chr&gt;</th></tr>\n",
       "</thead>\n",
       "<tbody>\n",
       "\t<tr><td>Cortisol      </td><td>34</td><td>0.46 (0.17)</td><td>0.36 (0.07)</td><td>0.44 (0.20)</td><td>0.4 </td></tr>\n",
       "\t<tr><td>Noradrenaline </td><td>34</td><td>0.50 (0.31)</td><td>0.47 (0.23)</td><td>0.40 (0.34)</td><td>0.8 </td></tr>\n",
       "\t<tr><td>Fibrinogen    </td><td>34</td><td>0.40 (0.25)</td><td>0.36 (0.20)</td><td>0.34 (0.15)</td><td>0.8 </td></tr>\n",
       "\t<tr><td>Epinephrine   </td><td>34</td><td>0.26 (0.17)</td><td>0.22 (0.12)</td><td>0.16 (0.15)</td><td>0.3 </td></tr>\n",
       "\t<tr><td>Smoking_Status</td><td>34</td><td>NA         </td><td>NA         </td><td>NA         </td><td>0.9 </td></tr>\n",
       "\t<tr><td>CS            </td><td>NA</td><td>9 (50%)    </td><td>5 (56%)    </td><td>3 (43%)    </td><td>NA  </td></tr>\n",
       "\t<tr><td>NS            </td><td>NA</td><td>9 (50%)    </td><td>4 (44%)    </td><td>4 (57%)    </td><td>NA  </td></tr>\n",
       "\t<tr><td>Sex           </td><td>34</td><td>NA         </td><td>NA         </td><td>NA         </td><td>0.2 </td></tr>\n",
       "\t<tr><td>F             </td><td>NA</td><td>12 (67%)   </td><td>4 (44%)    </td><td>6 (86%)    </td><td>NA  </td></tr>\n",
       "\t<tr><td>M             </td><td>NA</td><td>6 (33%)    </td><td>5 (56%)    </td><td>1 (14%)    </td><td>NA  </td></tr>\n",
       "\t<tr><td>Age           </td><td>34</td><td>29.6 (6.3) </td><td>32.2 (6.4) </td><td>33.3 (6.7) </td><td>0.4 </td></tr>\n",
       "\t<tr><td><span style=white-space:pre-wrap>Race          </span></td><td>34</td><td><span style=white-space:pre-wrap>NA         </span></td><td><span style=white-space:pre-wrap>NA         </span></td><td><span style=white-space:pre-wrap>NA         </span></td><td>&gt;0.9</td></tr>\n",
       "\t<tr><td>B             </td><td>NA</td><td>10 (56%)   </td><td>5 (56%)    </td><td>4 (57%)    </td><td>NA  </td></tr>\n",
       "\t<tr><td>W             </td><td>NA</td><td>8 (44%)    </td><td>4 (44%)    </td><td>3 (43%)    </td><td>NA  </td></tr>\n",
       "</tbody>\n",
       "</table>\n"
      ],
      "text/latex": [
       "A tibble: 14 × 6\n",
       "\\begin{tabular}{llllll}\n",
       " **Characteristic** & **N** & **N**, N = 18 & **E**, N = 9 & **H**, N = 7 & **p-value**\\\\\n",
       " <chr> & <chr> & <chr> & <chr> & <chr> & <chr>\\\\\n",
       "\\hline\n",
       "\t Cortisol       & 34 & 0.46 (0.17) & 0.36 (0.07) & 0.44 (0.20) & 0.4 \\\\\n",
       "\t Noradrenaline  & 34 & 0.50 (0.31) & 0.47 (0.23) & 0.40 (0.34) & 0.8 \\\\\n",
       "\t Fibrinogen     & 34 & 0.40 (0.25) & 0.36 (0.20) & 0.34 (0.15) & 0.8 \\\\\n",
       "\t Epinephrine    & 34 & 0.26 (0.17) & 0.22 (0.12) & 0.16 (0.15) & 0.3 \\\\\n",
       "\t Smoking\\_Status & 34 & NA          & NA          & NA          & 0.9 \\\\\n",
       "\t CS             & NA & 9 (50\\%)     & 5 (56\\%)     & 3 (43\\%)     & NA  \\\\\n",
       "\t NS             & NA & 9 (50\\%)     & 4 (44\\%)     & 4 (57\\%)     & NA  \\\\\n",
       "\t Sex            & 34 & NA          & NA          & NA          & 0.2 \\\\\n",
       "\t F              & NA & 12 (67\\%)    & 4 (44\\%)     & 6 (86\\%)     & NA  \\\\\n",
       "\t M              & NA & 6 (33\\%)     & 5 (56\\%)     & 1 (14\\%)     & NA  \\\\\n",
       "\t Age            & 34 & 29.6 (6.3)  & 32.2 (6.4)  & 33.3 (6.7)  & 0.4 \\\\\n",
       "\t Race           & 34 & NA          & NA          & NA          & >0.9\\\\\n",
       "\t B              & NA & 10 (56\\%)    & 5 (56\\%)     & 4 (57\\%)     & NA  \\\\\n",
       "\t W              & NA & 8 (44\\%)     & 4 (44\\%)     & 3 (43\\%)     & NA  \\\\\n",
       "\\end{tabular}\n"
      ],
      "text/markdown": [
       "\n",
       "A tibble: 14 × 6\n",
       "\n",
       "| **Characteristic** &lt;chr&gt; | **N** &lt;chr&gt; | **N**, N = 18 &lt;chr&gt; | **E**, N = 9 &lt;chr&gt; | **H**, N = 7 &lt;chr&gt; | **p-value** &lt;chr&gt; |\n",
       "|---|---|---|---|---|---|\n",
       "| Cortisol       | 34 | 0.46 (0.17) | 0.36 (0.07) | 0.44 (0.20) | 0.4  |\n",
       "| Noradrenaline  | 34 | 0.50 (0.31) | 0.47 (0.23) | 0.40 (0.34) | 0.8  |\n",
       "| Fibrinogen     | 34 | 0.40 (0.25) | 0.36 (0.20) | 0.34 (0.15) | 0.8  |\n",
       "| Epinephrine    | 34 | 0.26 (0.17) | 0.22 (0.12) | 0.16 (0.15) | 0.3  |\n",
       "| Smoking_Status | 34 | NA          | NA          | NA          | 0.9  |\n",
       "| CS             | NA | 9 (50%)     | 5 (56%)     | 3 (43%)     | NA   |\n",
       "| NS             | NA | 9 (50%)     | 4 (44%)     | 4 (57%)     | NA   |\n",
       "| Sex            | 34 | NA          | NA          | NA          | 0.2  |\n",
       "| F              | NA | 12 (67%)    | 4 (44%)     | 6 (86%)     | NA   |\n",
       "| M              | NA | 6 (33%)     | 5 (56%)     | 1 (14%)     | NA   |\n",
       "| Age            | 34 | 29.6 (6.3)  | 32.2 (6.4)  | 33.3 (6.7)  | 0.4  |\n",
       "| Race           | 34 | NA          | NA          | NA          | &gt;0.9 |\n",
       "| B              | NA | 10 (56%)    | 5 (56%)     | 4 (57%)     | NA   |\n",
       "| W              | NA | 8 (44%)     | 4 (44%)     | 3 (43%)     | NA   |\n",
       "\n"
      ],
      "text/plain": [
       "   **Characteristic** **N** **N**, N = 18 **E**, N = 9 **H**, N = 7 **p-value**\n",
       "1  Cortisol           34    0.46 (0.17)   0.36 (0.07)  0.44 (0.20)  0.4        \n",
       "2  Noradrenaline      34    0.50 (0.31)   0.47 (0.23)  0.40 (0.34)  0.8        \n",
       "3  Fibrinogen         34    0.40 (0.25)   0.36 (0.20)  0.34 (0.15)  0.8        \n",
       "4  Epinephrine        34    0.26 (0.17)   0.22 (0.12)  0.16 (0.15)  0.3        \n",
       "5  Smoking_Status     34    NA            NA           NA           0.9        \n",
       "6  CS                 NA    9 (50%)       5 (56%)      3 (43%)      NA         \n",
       "7  NS                 NA    9 (50%)       4 (44%)      4 (57%)      NA         \n",
       "8  Sex                34    NA            NA           NA           0.2        \n",
       "9  F                  NA    12 (67%)      4 (44%)      6 (86%)      NA         \n",
       "10 M                  NA    6 (33%)       5 (56%)      1 (14%)      NA         \n",
       "11 Age                34    29.6 (6.3)    32.2 (6.4)   33.3 (6.7)   0.4        \n",
       "12 Race               34    NA            NA           NA           >0.9       \n",
       "13 B                  NA    10 (56%)      5 (56%)      4 (57%)      NA         \n",
       "14 W                  NA    8 (44%)       4 (44%)      3 (43%)      NA         "
      ]
     },
     "metadata": {},
     "output_type": "display_data"
    }
   ],
   "source": [
    "# 3 class outcome\n",
    "inner_join(three_reg_df, subject_info_df[,c(3,5:8)]) %>%\n",
    "\n",
    "    tbl_summary(by = BP_Classification, missing = \"no\", \n",
    "    include = c(colnames(three_reg_df[2:6]), colnames(subject_info_df[5:8])), \n",
    "              statistic = list(all_continuous() ~ \"{mean} ({sd})\",\n",
    "                               all_categorical() ~ \"{n} ({p}%)\")) %>%\n",
    "    add_n() %>% \n",
    "    #add_overall() %>%\n",
    "    add_p(test = list(all_continuous() ~ \"aov\",\n",
    "                    all_categorical() ~ \"chisq.test\")) %>% # adding p value from anova\n",
    "    as_tibble()"
   ]
  },
  {
   "cell_type": "code",
   "execution_count": 12,
   "id": "1d5405cc-720d-4a6a-bd06-228ad42b4f8c",
   "metadata": {},
   "outputs": [
    {
     "name": "stderr",
     "output_type": "stream",
     "text": [
      "\u001b[1m\u001b[22mJoining with `by = join_by(Subject_ID)`\n"
     ]
    },
    {
     "data": {
      "text/html": [
       "<table class=\"dataframe\">\n",
       "<caption>A tibble: 14 × 5</caption>\n",
       "<thead>\n",
       "\t<tr><th scope=col>**Characteristic**</th><th scope=col>**N**</th><th scope=col>**N**, N = 18</th><th scope=col>**H**, N = 16</th><th scope=col>**p-value**</th></tr>\n",
       "\t<tr><th scope=col>&lt;chr&gt;</th><th scope=col>&lt;chr&gt;</th><th scope=col>&lt;chr&gt;</th><th scope=col>&lt;chr&gt;</th><th scope=col>&lt;chr&gt;</th></tr>\n",
       "</thead>\n",
       "<tbody>\n",
       "\t<tr><td>Cortisol      </td><td>34</td><td>0.46 (0.17)</td><td>0.40 (0.14)</td><td>0.3 </td></tr>\n",
       "\t<tr><td>Noradrenaline </td><td>34</td><td>0.50 (0.31)</td><td>0.44 (0.27)</td><td>0.6 </td></tr>\n",
       "\t<tr><td>Fibrinogen    </td><td>34</td><td>0.40 (0.25)</td><td>0.35 (0.17)</td><td>0.5 </td></tr>\n",
       "\t<tr><td>Epinephrine   </td><td>34</td><td>0.26 (0.17)</td><td>0.19 (0.13)</td><td>0.2 </td></tr>\n",
       "\t<tr><td>Smoking_Status</td><td>34</td><td><span style=white-space:pre-wrap>NA         </span></td><td><span style=white-space:pre-wrap>NA         </span></td><td>&gt;0.9</td></tr>\n",
       "\t<tr><td>CS            </td><td>NA</td><td>9 (50%)    </td><td>8 (50%)    </td><td>NA  </td></tr>\n",
       "\t<tr><td>NS            </td><td>NA</td><td>9 (50%)    </td><td>8 (50%)    </td><td>NA  </td></tr>\n",
       "\t<tr><td><span style=white-space:pre-wrap>Sex           </span></td><td>34</td><td><span style=white-space:pre-wrap>NA         </span></td><td><span style=white-space:pre-wrap>NA         </span></td><td>&gt;0.9</td></tr>\n",
       "\t<tr><td>F             </td><td>NA</td><td>12 (67%)   </td><td>10 (63%)   </td><td>NA  </td></tr>\n",
       "\t<tr><td>M             </td><td>NA</td><td>6 (33%)    </td><td>6 (38%)    </td><td>NA  </td></tr>\n",
       "\t<tr><td>Age           </td><td>34</td><td>29.6 (6.3) </td><td>32.7 (6.4) </td><td>0.2 </td></tr>\n",
       "\t<tr><td><span style=white-space:pre-wrap>Race          </span></td><td>34</td><td><span style=white-space:pre-wrap>NA         </span></td><td><span style=white-space:pre-wrap>NA         </span></td><td>&gt;0.9</td></tr>\n",
       "\t<tr><td>B             </td><td>NA</td><td>10 (56%)   </td><td>9 (56%)    </td><td>NA  </td></tr>\n",
       "\t<tr><td>W             </td><td>NA</td><td>8 (44%)    </td><td>7 (44%)    </td><td>NA  </td></tr>\n",
       "</tbody>\n",
       "</table>\n"
      ],
      "text/latex": [
       "A tibble: 14 × 5\n",
       "\\begin{tabular}{lllll}\n",
       " **Characteristic** & **N** & **N**, N = 18 & **H**, N = 16 & **p-value**\\\\\n",
       " <chr> & <chr> & <chr> & <chr> & <chr>\\\\\n",
       "\\hline\n",
       "\t Cortisol       & 34 & 0.46 (0.17) & 0.40 (0.14) & 0.3 \\\\\n",
       "\t Noradrenaline  & 34 & 0.50 (0.31) & 0.44 (0.27) & 0.6 \\\\\n",
       "\t Fibrinogen     & 34 & 0.40 (0.25) & 0.35 (0.17) & 0.5 \\\\\n",
       "\t Epinephrine    & 34 & 0.26 (0.17) & 0.19 (0.13) & 0.2 \\\\\n",
       "\t Smoking\\_Status & 34 & NA          & NA          & >0.9\\\\\n",
       "\t CS             & NA & 9 (50\\%)     & 8 (50\\%)     & NA  \\\\\n",
       "\t NS             & NA & 9 (50\\%)     & 8 (50\\%)     & NA  \\\\\n",
       "\t Sex            & 34 & NA          & NA          & >0.9\\\\\n",
       "\t F              & NA & 12 (67\\%)    & 10 (63\\%)    & NA  \\\\\n",
       "\t M              & NA & 6 (33\\%)     & 6 (38\\%)     & NA  \\\\\n",
       "\t Age            & 34 & 29.6 (6.3)  & 32.7 (6.4)  & 0.2 \\\\\n",
       "\t Race           & 34 & NA          & NA          & >0.9\\\\\n",
       "\t B              & NA & 10 (56\\%)    & 9 (56\\%)     & NA  \\\\\n",
       "\t W              & NA & 8 (44\\%)     & 7 (44\\%)     & NA  \\\\\n",
       "\\end{tabular}\n"
      ],
      "text/markdown": [
       "\n",
       "A tibble: 14 × 5\n",
       "\n",
       "| **Characteristic** &lt;chr&gt; | **N** &lt;chr&gt; | **N**, N = 18 &lt;chr&gt; | **H**, N = 16 &lt;chr&gt; | **p-value** &lt;chr&gt; |\n",
       "|---|---|---|---|---|\n",
       "| Cortisol       | 34 | 0.46 (0.17) | 0.40 (0.14) | 0.3  |\n",
       "| Noradrenaline  | 34 | 0.50 (0.31) | 0.44 (0.27) | 0.6  |\n",
       "| Fibrinogen     | 34 | 0.40 (0.25) | 0.35 (0.17) | 0.5  |\n",
       "| Epinephrine    | 34 | 0.26 (0.17) | 0.19 (0.13) | 0.2  |\n",
       "| Smoking_Status | 34 | NA          | NA          | &gt;0.9 |\n",
       "| CS             | NA | 9 (50%)     | 8 (50%)     | NA   |\n",
       "| NS             | NA | 9 (50%)     | 8 (50%)     | NA   |\n",
       "| Sex            | 34 | NA          | NA          | &gt;0.9 |\n",
       "| F              | NA | 12 (67%)    | 10 (63%)    | NA   |\n",
       "| M              | NA | 6 (33%)     | 6 (38%)     | NA   |\n",
       "| Age            | 34 | 29.6 (6.3)  | 32.7 (6.4)  | 0.2  |\n",
       "| Race           | 34 | NA          | NA          | &gt;0.9 |\n",
       "| B              | NA | 10 (56%)    | 9 (56%)     | NA   |\n",
       "| W              | NA | 8 (44%)     | 7 (44%)     | NA   |\n",
       "\n"
      ],
      "text/plain": [
       "   **Characteristic** **N** **N**, N = 18 **H**, N = 16 **p-value**\n",
       "1  Cortisol           34    0.46 (0.17)   0.40 (0.14)   0.3        \n",
       "2  Noradrenaline      34    0.50 (0.31)   0.44 (0.27)   0.6        \n",
       "3  Fibrinogen         34    0.40 (0.25)   0.35 (0.17)   0.5        \n",
       "4  Epinephrine        34    0.26 (0.17)   0.19 (0.13)   0.2        \n",
       "5  Smoking_Status     34    NA            NA            >0.9       \n",
       "6  CS                 NA    9 (50%)       8 (50%)       NA         \n",
       "7  NS                 NA    9 (50%)       8 (50%)       NA         \n",
       "8  Sex                34    NA            NA            >0.9       \n",
       "9  F                  NA    12 (67%)      10 (63%)      NA         \n",
       "10 M                  NA    6 (33%)       6 (38%)       NA         \n",
       "11 Age                34    29.6 (6.3)    32.7 (6.4)    0.2        \n",
       "12 Race               34    NA            NA            >0.9       \n",
       "13 B                  NA    10 (56%)      9 (56%)       NA         \n",
       "14 W                  NA    8 (44%)       7 (44%)       NA         "
      ]
     },
     "metadata": {},
     "output_type": "display_data"
    }
   ],
   "source": [
    "# two class outcome\n",
    "inner_join(two_reg_df, subject_info_df[,c(3,5:8)]) %>%\n",
    "\n",
    "    tbl_summary(by = BP_Classification, missing = \"no\", \n",
    "    include = c(colnames(three_reg_df[2:6]), colnames(subject_info_df[5:8])), \n",
    "              statistic = list(all_continuous() ~ \"{mean} ({sd})\",\n",
    "                               all_categorical() ~ \"{n} ({p}%)\")) %>%\n",
    "    add_n() %>% \n",
    "    #add_overall() %>%\n",
    "    add_p(test = list(all_continuous() ~ \"t.test\",\n",
    "                    all_categorical() ~ \"chisq.test\")) %>% # adding p value from anova\n",
    "    as_tibble()"
   ]
  },
  {
   "cell_type": "markdown",
   "id": "c14249e7-28a9-4baa-9fe8-c362caf897f7",
   "metadata": {},
   "source": [
    "## Ordinal Regression\n",
    "\n",
    "Using [ordinal regression](https://www.statisticssolutions.com/free-resources/directory-of-statistical-analyses/ordinal-regression/) to predict blood pressure classification using mediator scores from 4 biomarkers. Just doing this to get weights of these variables."
   ]
  },
  {
   "cell_type": "code",
   "execution_count": 13,
   "id": "fb1ed418-053f-4b77-a625-f236f975aded",
   "metadata": {},
   "outputs": [
    {
     "data": {
      "text/html": [
       "<table class=\"dataframe\">\n",
       "<caption>A data.frame: 4 × 2</caption>\n",
       "<thead>\n",
       "\t<tr><th scope=col>Variable</th><th scope=col>Coefficient</th></tr>\n",
       "\t<tr><th scope=col>&lt;chr&gt;</th><th scope=col>&lt;dbl&gt;</th></tr>\n",
       "</thead>\n",
       "<tbody>\n",
       "\t<tr><td>Epinephrine  </td><td>0.62452599</td></tr>\n",
       "\t<tr><td>Fibrinogen   </td><td>0.16119685</td></tr>\n",
       "\t<tr><td>Noradrenaline</td><td>0.12170835</td></tr>\n",
       "\t<tr><td>Cortisol     </td><td>0.09256881</td></tr>\n",
       "</tbody>\n",
       "</table>\n"
      ],
      "text/latex": [
       "A data.frame: 4 × 2\n",
       "\\begin{tabular}{ll}\n",
       " Variable & Coefficient\\\\\n",
       " <chr> & <dbl>\\\\\n",
       "\\hline\n",
       "\t Epinephrine   & 0.62452599\\\\\n",
       "\t Fibrinogen    & 0.16119685\\\\\n",
       "\t Noradrenaline & 0.12170835\\\\\n",
       "\t Cortisol      & 0.09256881\\\\\n",
       "\\end{tabular}\n"
      ],
      "text/markdown": [
       "\n",
       "A data.frame: 4 × 2\n",
       "\n",
       "| Variable &lt;chr&gt; | Coefficient &lt;dbl&gt; |\n",
       "|---|---|\n",
       "| Epinephrine   | 0.62452599 |\n",
       "| Fibrinogen    | 0.16119685 |\n",
       "| Noradrenaline | 0.12170835 |\n",
       "| Cortisol      | 0.09256881 |\n",
       "\n"
      ],
      "text/plain": [
       "  Variable      Coefficient\n",
       "1 Epinephrine   0.62452599 \n",
       "2 Fibrinogen    0.16119685 \n",
       "3 Noradrenaline 0.12170835 \n",
       "4 Cortisol      0.09256881 "
      ]
     },
     "metadata": {},
     "output_type": "display_data"
    },
    {
     "data": {
      "text/html": [
       "<table class=\"dataframe\">\n",
       "<caption>A data.frame: 4 × 2</caption>\n",
       "<thead>\n",
       "\t<tr><th scope=col>Variable</th><th scope=col>Coefficient</th></tr>\n",
       "\t<tr><th scope=col>&lt;chr&gt;</th><th scope=col>&lt;dbl&gt;</th></tr>\n",
       "</thead>\n",
       "<tbody>\n",
       "\t<tr><td>Epinephrine  </td><td>0.51918135</td></tr>\n",
       "\t<tr><td>Cortisol     </td><td>0.29779486</td></tr>\n",
       "\t<tr><td>Fibrinogen   </td><td>0.13967241</td></tr>\n",
       "\t<tr><td>Noradrenaline</td><td>0.04335138</td></tr>\n",
       "</tbody>\n",
       "</table>\n"
      ],
      "text/latex": [
       "A data.frame: 4 × 2\n",
       "\\begin{tabular}{ll}\n",
       " Variable & Coefficient\\\\\n",
       " <chr> & <dbl>\\\\\n",
       "\\hline\n",
       "\t Epinephrine   & 0.51918135\\\\\n",
       "\t Cortisol      & 0.29779486\\\\\n",
       "\t Fibrinogen    & 0.13967241\\\\\n",
       "\t Noradrenaline & 0.04335138\\\\\n",
       "\\end{tabular}\n"
      ],
      "text/markdown": [
       "\n",
       "A data.frame: 4 × 2\n",
       "\n",
       "| Variable &lt;chr&gt; | Coefficient &lt;dbl&gt; |\n",
       "|---|---|\n",
       "| Epinephrine   | 0.51918135 |\n",
       "| Cortisol      | 0.29779486 |\n",
       "| Fibrinogen    | 0.13967241 |\n",
       "| Noradrenaline | 0.04335138 |\n",
       "\n"
      ],
      "text/plain": [
       "  Variable      Coefficient\n",
       "1 Epinephrine   0.51918135 \n",
       "2 Cortisol      0.29779486 \n",
       "3 Fibrinogen    0.13967241 \n",
       "4 Noradrenaline 0.04335138 "
      ]
     },
     "metadata": {},
     "output_type": "display_data"
    }
   ],
   "source": [
    "# creating a vector of booleans that specifies whether or not the coefficient should be\n",
    "# positive (TRUE) \n",
    "biomarker_coefficients = c(rep(TRUE, ncol(reg_df) - 2))\n",
    "\n",
    "estimateOrdWeights <- function(dataset, response, coefficients_magnitude){\n",
    "    # \"\"\"\n",
    "    # Creating a function to run ordinal regression to estimate ordinal weights of mediator data based\n",
    "    # on blood pressure classification\n",
    "    # :param (input): wide df with biomarker data, response variable, magnitude of the coefficients\n",
    "    # :output: 1 df with the ordinal weights\n",
    "    # \"\"\"\n",
    "    \n",
    "    # setting seed for reproducibility\n",
    "    set.seed(12)\n",
    "    \n",
    "    #get number of response levels\n",
    "    NoBins <- length(unique(dataset[[response]]))\n",
    "\n",
    "    #get number of features or slices\n",
    "    noSlices <- ncol(dataset) - 2\n",
    "    \n",
    "    # obtaining the features and converting into a matrix\n",
    "    feature_data <- as.matrix(dataset[,c(2:(ncol(dataset) - 1))])\n",
    "\n",
    "    # ordinal regression\n",
    "    # positiveID specifies whether or not each coefficient for each ind. variable should be constrained to be non-negative\n",
    "    regression_model <- ordinalNet(feature_data, dataset[[response]], positiveID = coefficients_magnitude, \n",
    "                            # lambdaVals defines how quickly your coefficients drop to 0\n",
    "                            # keeping it at 0 tries to minimize feature reduction\n",
    "                            # maxiterout defines the number of iterations before it stops\n",
    "                         lambdaVals = 0, maxiterOut = 150)\n",
    "    testW <- regression_model$coefs[NoBins:(noSlices + NoBins - 1)]\n",
    "\n",
    "    # rescaling the coefficients so that they sum to 1\n",
    "    normalizer = 1/sum(testW)\n",
    "    rescaled_weight <- testW * normalizer\n",
    "\n",
    "    # adding the variable names back in \n",
    "    test_weights_df = data.frame(Variable = colnames(feature_data), Coefficient = rescaled_weight) %>%\n",
    "        arrange(-Coefficient) \n",
    "    \n",
    "    return(test_weights_df)\n",
    "}\n",
    "\n",
    "# calling fn\n",
    "three_weights_df = estimateOrdWeights(three_reg_df, 'BP_Classification', biomarker_coefficients)\n",
    "two_weights_df = estimateOrdWeights(two_reg_df, 'BP_Classification', biomarker_coefficients)\n",
    "\n",
    "three_weights_df\n",
    "two_weights_df"
   ]
  },
  {
   "cell_type": "markdown",
   "id": "218d6d60-d99b-4863-87e0-b0bcc544de5d",
   "metadata": {},
   "source": [
    "## Ordinal Weights Visualization"
   ]
  },
  {
   "cell_type": "code",
   "execution_count": 14,
   "id": "2808fe92-be90-43f2-a6e2-1b2d54d6cd8a",
   "metadata": {},
   "outputs": [
    {
     "data": {
      "text/html": [
       "<table class=\"dataframe\">\n",
       "<caption>A grouped_df: 6 × 5</caption>\n",
       "<thead>\n",
       "\t<tr><th scope=col>Variable</th><th scope=col>Coefficient</th><th scope=col>Blood_Pressure_Class_No</th><th scope=col>csum</th><th scope=col>pos</th></tr>\n",
       "\t<tr><th scope=col>&lt;chr&gt;</th><th scope=col>&lt;dbl&gt;</th><th scope=col>&lt;dbl&gt;</th><th scope=col>&lt;dbl&gt;</th><th scope=col>&lt;dbl&gt;</th></tr>\n",
       "</thead>\n",
       "<tbody>\n",
       "\t<tr><td>Epinephrine  </td><td>0.62452599</td><td>3</td><td>1.00000000</td><td>0.68773701</td></tr>\n",
       "\t<tr><td>Fibrinogen   </td><td>0.16119685</td><td>3</td><td>0.37547401</td><td>0.29487559</td></tr>\n",
       "\t<tr><td>Noradrenaline</td><td>0.12170835</td><td>3</td><td>0.21427716</td><td>0.15342299</td></tr>\n",
       "\t<tr><td>Cortisol     </td><td>0.09256881</td><td>3</td><td>0.09256881</td><td>0.04628441</td></tr>\n",
       "\t<tr><td>Epinephrine  </td><td>0.51918135</td><td>2</td><td>1.00000000</td><td>0.74040932</td></tr>\n",
       "\t<tr><td>Cortisol     </td><td>0.29779486</td><td>2</td><td>0.48081865</td><td>0.33192122</td></tr>\n",
       "</tbody>\n",
       "</table>\n"
      ],
      "text/latex": [
       "A grouped\\_df: 6 × 5\n",
       "\\begin{tabular}{lllll}\n",
       " Variable & Coefficient & Blood\\_Pressure\\_Class\\_No & csum & pos\\\\\n",
       " <chr> & <dbl> & <dbl> & <dbl> & <dbl>\\\\\n",
       "\\hline\n",
       "\t Epinephrine   & 0.62452599 & 3 & 1.00000000 & 0.68773701\\\\\n",
       "\t Fibrinogen    & 0.16119685 & 3 & 0.37547401 & 0.29487559\\\\\n",
       "\t Noradrenaline & 0.12170835 & 3 & 0.21427716 & 0.15342299\\\\\n",
       "\t Cortisol      & 0.09256881 & 3 & 0.09256881 & 0.04628441\\\\\n",
       "\t Epinephrine   & 0.51918135 & 2 & 1.00000000 & 0.74040932\\\\\n",
       "\t Cortisol      & 0.29779486 & 2 & 0.48081865 & 0.33192122\\\\\n",
       "\\end{tabular}\n"
      ],
      "text/markdown": [
       "\n",
       "A grouped_df: 6 × 5\n",
       "\n",
       "| Variable &lt;chr&gt; | Coefficient &lt;dbl&gt; | Blood_Pressure_Class_No &lt;dbl&gt; | csum &lt;dbl&gt; | pos &lt;dbl&gt; |\n",
       "|---|---|---|---|---|\n",
       "| Epinephrine   | 0.62452599 | 3 | 1.00000000 | 0.68773701 |\n",
       "| Fibrinogen    | 0.16119685 | 3 | 0.37547401 | 0.29487559 |\n",
       "| Noradrenaline | 0.12170835 | 3 | 0.21427716 | 0.15342299 |\n",
       "| Cortisol      | 0.09256881 | 3 | 0.09256881 | 0.04628441 |\n",
       "| Epinephrine   | 0.51918135 | 2 | 1.00000000 | 0.74040932 |\n",
       "| Cortisol      | 0.29779486 | 2 | 0.48081865 | 0.33192122 |\n",
       "\n"
      ],
      "text/plain": [
       "  Variable      Coefficient Blood_Pressure_Class_No csum       pos       \n",
       "1 Epinephrine   0.62452599  3                       1.00000000 0.68773701\n",
       "2 Fibrinogen    0.16119685  3                       0.37547401 0.29487559\n",
       "3 Noradrenaline 0.12170835  3                       0.21427716 0.15342299\n",
       "4 Cortisol      0.09256881  3                       0.09256881 0.04628441\n",
       "5 Epinephrine   0.51918135  2                       1.00000000 0.74040932\n",
       "6 Cortisol      0.29779486  2                       0.48081865 0.33192122"
      ]
     },
     "metadata": {},
     "output_type": "display_data"
    }
   ],
   "source": [
    "# creating 1 df\n",
    "weights_df = cbind(rbind(three_weights_df, two_weights_df), \n",
    "                   # adding a col that specificies the number of classes of blood pressure\n",
    "                   Blood_Pressure_Class_No = c(rep(3, length(three_weights_df$Variable)), \n",
    "                                               rep(2, length(three_weights_df$Variable)))) %>% \n",
    "    # getting the circle positions for the text labels\n",
    "    group_by(Blood_Pressure_Class_No) %>%\n",
    "    mutate(csum = rev(cumsum(rev(Coefficient))), \n",
    "         pos = Coefficient/2 + lead(csum, 1),\n",
    "         pos = if_else(is.na(pos), Coefficient/2, pos))\n",
    "\n",
    "head(weights_df)"
   ]
  },
  {
   "cell_type": "code",
   "execution_count": 15,
   "id": "010cd638-531b-4f03-a2dd-eb1ad99c3b29",
   "metadata": {},
   "outputs": [],
   "source": [
    "options(repr.plot.width=10, repr.plot.height=10) #changing size\n",
    "\n",
    "piechart3 = ggplot(data = weights_df %>%\n",
    "       filter(Blood_Pressure_Class_No == 3), aes(x = \"\", y = Coefficient, fill = fct_inorder(Variable)))+\n",
    "  geom_bar(width = 1, color = 1, stat = \"identity\") +\n",
    "  coord_polar(theta = \"y\") + \n",
    "  # removing labels for biomarkers that = 0\n",
    "  geom_label_repel(data = weights_df %>%\n",
    "                  filter(Coefficient > 0 & Blood_Pressure_Class_No == 3), \n",
    "                  aes(x = 1, y = pos, label = paste0(Variable,\"\\n\", round(Coefficient * 100), \"%\")), \n",
    "                   size = 5, nudge_x = 0.7, show.legend = FALSE) + \n",
    "\n",
    "  theme_void() +\n",
    "  theme(legend.position = \"none\") + \n",
    "  ggtitle(\"Ordinal Weights with 3 Blood Pressure Classes\") + \n",
    "  scale_fill_npg()\n",
    "\n",
    "col_palette = pal_npg()(7)\n",
    "piechart2 = ggplot(data = weights_df %>%\n",
    "       filter(Blood_Pressure_Class_No == 2), aes(x = \"\", y = Coefficient, fill = fct_inorder(Variable)))+\n",
    "  geom_bar(width = 1, color = 1, stat = \"identity\") +\n",
    "  coord_polar(theta = \"y\") + \n",
    "  # removing labels for biomarkers that = 0\n",
    "  geom_label_repel(data = weights_df %>%\n",
    "                  filter(Coefficient > 0 & Blood_Pressure_Class_No == 2), \n",
    "                  aes(x = 1, y = pos, label = paste0(Variable,\"\\n\", round(Coefficient * 100), \"%\")), \n",
    "                   size = 5, nudge_x = 0.7, show.legend = FALSE) + \n",
    "\n",
    "  theme_void() +\n",
    "  theme(legend.position = \"none\") + \n",
    "  ggtitle(\"Ordinal Weights with 2 Blood Pressure Classes\") + \n",
    "  scale_fill_manual(values = col_palette[c(1,4,2,3,5,5,5)])"
   ]
  },
  {
   "cell_type": "code",
   "execution_count": 16,
   "id": "300ed2a9-3576-4caa-b00f-6d15aaf07e3c",
   "metadata": {},
   "outputs": [
    {
     "data": {
      "image/png": "[encoded data removed]",
      "text/plain": [
       "plot without title"
      ]
     },
     "metadata": {
      "image/png": {
       "height": 600,
       "width": 600
      }
     },
     "output_type": "display_data"
    }
   ],
   "source": [
    "plot_grid(piechart3, piechart2)"
   ]
  },
  {
   "cell_type": "markdown",
   "id": "83f580e0-19d4-436e-a87e-06dabef40b33",
   "metadata": {},
   "source": [
    "Based on these results, epinephrine had the largest contribution to blood pressure classification in both cases. \n",
    "\n",
    "## Acute Allostatic Load Summation\n",
    "\n",
    "Now that we have these weights from the ordinal regression, we'll calculate allostatic load scores for each subject using both the previously calculated mediator scores multiplied the ordinal weight for the 4 acute biomarkers (cortisol, noradrenaline, epinephrine, fibrinogen). AL scores will be calculated for all 63 subjects not just the 34 with BP data. The formula looks like...\n",
    "\n",
    "Allostatic Load = Cortisol ordinal weight * Cortisol score + Epinephrine ordinal weight * Epinephrine score..."
   ]
  },
  {
   "cell_type": "code",
   "execution_count": 17,
   "id": "74837d21-07ab-4d1e-a84c-521fb3ac8c4d",
   "metadata": {},
   "outputs": [
    {
     "name": "stderr",
     "output_type": "stream",
     "text": [
      "\u001b[1m\u001b[22mJoining with `by = join_by(Variable)`\n",
      "\u001b[1m\u001b[22mJoining with `by = join_by(Variable)`\n"
     ]
    },
    {
     "data": {
      "text/html": [
       "<table class=\"dataframe\">\n",
       "<caption>A data.frame: 6 × 2</caption>\n",
       "<thead>\n",
       "\t<tr><th></th><th scope=col>Subject_ID</th><th scope=col>Acute_Load</th></tr>\n",
       "\t<tr><th></th><th scope=col>&lt;chr&gt;</th><th scope=col>&lt;dbl&gt;</th></tr>\n",
       "</thead>\n",
       "<tbody>\n",
       "\t<tr><th scope=row>1</th><td>NS_M_28_W_51</td><td>0.7047014</td></tr>\n",
       "\t<tr><th scope=row>2</th><td>NS_F_23_W_41</td><td>0.5223831</td></tr>\n",
       "\t<tr><th scope=row>3</th><td>NS_F_27_B_50</td><td>0.5039698</td></tr>\n",
       "\t<tr><th scope=row>4</th><td>NS_F_38_B_61</td><td>0.4781379</td></tr>\n",
       "\t<tr><th scope=row>5</th><td>NS_F_21_W_38</td><td>0.4709761</td></tr>\n",
       "\t<tr><th scope=row>6</th><td>CS_M_28_W_16</td><td>0.4649324</td></tr>\n",
       "</tbody>\n",
       "</table>\n"
      ],
      "text/latex": [
       "A data.frame: 6 × 2\n",
       "\\begin{tabular}{r|ll}\n",
       "  & Subject\\_ID & Acute\\_Load\\\\\n",
       "  & <chr> & <dbl>\\\\\n",
       "\\hline\n",
       "\t1 & NS\\_M\\_28\\_W\\_51 & 0.7047014\\\\\n",
       "\t2 & NS\\_F\\_23\\_W\\_41 & 0.5223831\\\\\n",
       "\t3 & NS\\_F\\_27\\_B\\_50 & 0.5039698\\\\\n",
       "\t4 & NS\\_F\\_38\\_B\\_61 & 0.4781379\\\\\n",
       "\t5 & NS\\_F\\_21\\_W\\_38 & 0.4709761\\\\\n",
       "\t6 & CS\\_M\\_28\\_W\\_16 & 0.4649324\\\\\n",
       "\\end{tabular}\n"
      ],
      "text/markdown": [
       "\n",
       "A data.frame: 6 × 2\n",
       "\n",
       "| <!--/--> | Subject_ID &lt;chr&gt; | Acute_Load &lt;dbl&gt; |\n",
       "|---|---|---|\n",
       "| 1 | NS_M_28_W_51 | 0.7047014 |\n",
       "| 2 | NS_F_23_W_41 | 0.5223831 |\n",
       "| 3 | NS_F_27_B_50 | 0.5039698 |\n",
       "| 4 | NS_F_38_B_61 | 0.4781379 |\n",
       "| 5 | NS_F_21_W_38 | 0.4709761 |\n",
       "| 6 | CS_M_28_W_16 | 0.4649324 |\n",
       "\n"
      ],
      "text/plain": [
       "  Subject_ID   Acute_Load\n",
       "1 NS_M_28_W_51 0.7047014 \n",
       "2 NS_F_23_W_41 0.5223831 \n",
       "3 NS_F_27_B_50 0.5039698 \n",
       "4 NS_F_38_B_61 0.4781379 \n",
       "5 NS_F_21_W_38 0.4709761 \n",
       "6 CS_M_28_W_16 0.4649324 "
      ]
     },
     "metadata": {},
     "output_type": "display_data"
    }
   ],
   "source": [
    "acute_allostatic_load = function(weights_df){\n",
    "    # add words!!\n",
    "    \n",
    "    # combining the mediator scores for all 63 subjects with the ordinal weights into one dataframe\n",
    "    wider_weights_df = mediator_scores_df %>%\n",
    "        filter(Variable %in% acute_biomarkers) %>%\n",
    "        mutate(Mediator_Score = log2(Mediator_Score + 1)) %>%\n",
    "        dcast(Variable ~ Subject_ID, value.var = \"Mediator_Score\") %>% \n",
    "        inner_join(weights_df) %>%\n",
    "        column_to_rownames(\"Variable\")\n",
    "\n",
    "    # multiplying the value of the mediator in each row by its respective ordinal\n",
    "    # weight found in the last column\n",
    "    multiplication_df = wider_weights_df %>%\n",
    "        select(-Coefficient) %>%\n",
    "        mutate(across(contains(\"_\"), ~.x*wider_weights_df$Coefficient))\n",
    "\n",
    "    # calculating allostatic load by summing by the columns\n",
    "    allostatic_load_df = data.frame(Acute_Load = apply(multiplication_df, 2, sum)) %>%\n",
    "        arrange(-Acute_Load) %>%\n",
    "        rownames_to_column(var = \"Subject_ID\")\n",
    "    \n",
    "    return(allostatic_load_df)\n",
    "    }\n",
    "\n",
    "# calling fn\n",
    "three_acute_allostatic_df = acute_allostatic_load(three_weights_df)\n",
    "two_acute_allostatic_df = acute_allostatic_load(two_weights_df)\n",
    "\n",
    "head(three_acute_allostatic_df)"
   ]
  },
  {
   "cell_type": "markdown",
   "id": "4a0b6ffa-5157-44ab-a09f-0c2a3af2a03c",
   "metadata": {},
   "source": [
    "# Chronic AL \n",
    "\n",
    "This involves normalizing their mediator scores, multiplying HDL by -1 since it's considered protective against atherosclerotic risk, and summing them to get the chronic AL score."
   ]
  },
  {
   "cell_type": "code",
   "execution_count": 18,
   "id": "8eb61b72-0912-4ff2-9458-b3b727d0da53",
   "metadata": {},
   "outputs": [
    {
     "data": {
      "text/html": [
       "<table class=\"dataframe\">\n",
       "<caption>A tibble: 6 × 2</caption>\n",
       "<thead>\n",
       "\t<tr><th scope=col>Subject_ID</th><th scope=col>Chronic_Load</th></tr>\n",
       "\t<tr><th scope=col>&lt;chr&gt;</th><th scope=col>&lt;dbl&gt;</th></tr>\n",
       "</thead>\n",
       "<tbody>\n",
       "\t<tr><td>NS_F_42_B_62</td><td>1.7229253</td></tr>\n",
       "\t<tr><td>NS_F_28_B_53</td><td>1.4891668</td></tr>\n",
       "\t<tr><td>NS_F_35_B_59</td><td>1.4062084</td></tr>\n",
       "\t<tr><td>CS_F_39_W_32</td><td>1.0370584</td></tr>\n",
       "\t<tr><td>NS_F_23_W_41</td><td>1.0230807</td></tr>\n",
       "\t<tr><td>CS_F_31_B_21</td><td>0.9971073</td></tr>\n",
       "</tbody>\n",
       "</table>\n"
      ],
      "text/latex": [
       "A tibble: 6 × 2\n",
       "\\begin{tabular}{ll}\n",
       " Subject\\_ID & Chronic\\_Load\\\\\n",
       " <chr> & <dbl>\\\\\n",
       "\\hline\n",
       "\t NS\\_F\\_42\\_B\\_62 & 1.7229253\\\\\n",
       "\t NS\\_F\\_28\\_B\\_53 & 1.4891668\\\\\n",
       "\t NS\\_F\\_35\\_B\\_59 & 1.4062084\\\\\n",
       "\t CS\\_F\\_39\\_W\\_32 & 1.0370584\\\\\n",
       "\t NS\\_F\\_23\\_W\\_41 & 1.0230807\\\\\n",
       "\t CS\\_F\\_31\\_B\\_21 & 0.9971073\\\\\n",
       "\\end{tabular}\n"
      ],
      "text/markdown": [
       "\n",
       "A tibble: 6 × 2\n",
       "\n",
       "| Subject_ID &lt;chr&gt; | Chronic_Load &lt;dbl&gt; |\n",
       "|---|---|\n",
       "| NS_F_42_B_62 | 1.7229253 |\n",
       "| NS_F_28_B_53 | 1.4891668 |\n",
       "| NS_F_35_B_59 | 1.4062084 |\n",
       "| CS_F_39_W_32 | 1.0370584 |\n",
       "| NS_F_23_W_41 | 1.0230807 |\n",
       "| CS_F_31_B_21 | 0.9971073 |\n",
       "\n"
      ],
      "text/plain": [
       "  Subject_ID   Chronic_Load\n",
       "1 NS_F_42_B_62 1.7229253   \n",
       "2 NS_F_28_B_53 1.4891668   \n",
       "3 NS_F_35_B_59 1.4062084   \n",
       "4 CS_F_39_W_32 1.0370584   \n",
       "5 NS_F_23_W_41 1.0230807   \n",
       "6 CS_F_31_B_21 0.9971073   "
      ]
     },
     "metadata": {},
     "output_type": "display_data"
    }
   ],
   "source": [
    "chronic_biomarkers = c('Hba1c','CRP', 'HDL')\n",
    "\n",
    "chronic_allostatic_df = mediator_scores_df %>%\n",
    "    # filtering for chronic biomarkers\n",
    "    filter(Variable %in% chronic_biomarkers) %>%\n",
    "    # normalizing\n",
    "    mutate(Mediator_Score = log2(Mediator_Score + 1)) %>%\n",
    "    # making HDL negative\n",
    "    mutate(Mediator_Score = ifelse(Variable == \"HDL\", Mediator_Score * -1, Mediator_Score)) %>%\n",
    "    # summing for each subject\n",
    "    group_by(Subject_ID) %>%\n",
    "    summarize(Chronic_Load = sum(Mediator_Score)) %>%\n",
    "    arrange(-Chronic_Load)\n",
    "\n",
    "head(chronic_allostatic_df)"
   ]
  },
  {
   "cell_type": "markdown",
   "id": "06df4dae-0def-45de-97b9-18f33eebd00f",
   "metadata": {},
   "source": [
    "# Overall AL\n",
    "\n",
    "Summing the acute and chronic AL scores."
   ]
  },
  {
   "cell_type": "code",
   "execution_count": 19,
   "id": "37b253f9-bc43-42aa-bfc3-4f8c9a080237",
   "metadata": {},
   "outputs": [
    {
     "name": "stderr",
     "output_type": "stream",
     "text": [
      "\u001b[1m\u001b[22mJoining with `by = join_by(Subject_ID)`\n",
      "\u001b[1m\u001b[22mJoining with `by = join_by(Subject_ID)`\n"
     ]
    },
    {
     "data": {
      "text/html": [
       "<table class=\"dataframe\">\n",
       "<caption>A data.frame: 6 × 4</caption>\n",
       "<thead>\n",
       "\t<tr><th></th><th scope=col>Subject_ID</th><th scope=col>Acute_Load</th><th scope=col>Chronic_Load</th><th scope=col>Allostatic_Load</th></tr>\n",
       "\t<tr><th></th><th scope=col>&lt;chr&gt;</th><th scope=col>&lt;dbl&gt;</th><th scope=col>&lt;dbl&gt;</th><th scope=col>&lt;dbl&gt;</th></tr>\n",
       "</thead>\n",
       "<tbody>\n",
       "\t<tr><th scope=row>1</th><td>NS_M_28_W_51</td><td>0.7047014</td><td>-0.2467837</td><td>0.4579177</td></tr>\n",
       "\t<tr><th scope=row>2</th><td>NS_F_23_W_41</td><td>0.5223831</td><td> 1.0230807</td><td>1.5454638</td></tr>\n",
       "\t<tr><th scope=row>3</th><td>NS_F_27_B_50</td><td>0.5039698</td><td> 0.6825890</td><td>1.1865588</td></tr>\n",
       "\t<tr><th scope=row>4</th><td>NS_F_38_B_61</td><td>0.4781379</td><td> 0.5010212</td><td>0.9791591</td></tr>\n",
       "\t<tr><th scope=row>5</th><td>NS_F_21_W_38</td><td>0.4709761</td><td> 0.4826841</td><td>0.9536602</td></tr>\n",
       "\t<tr><th scope=row>6</th><td>CS_M_28_W_16</td><td>0.4649324</td><td> 0.3588159</td><td>0.8237483</td></tr>\n",
       "</tbody>\n",
       "</table>\n"
      ],
      "text/latex": [
       "A data.frame: 6 × 4\n",
       "\\begin{tabular}{r|llll}\n",
       "  & Subject\\_ID & Acute\\_Load & Chronic\\_Load & Allostatic\\_Load\\\\\n",
       "  & <chr> & <dbl> & <dbl> & <dbl>\\\\\n",
       "\\hline\n",
       "\t1 & NS\\_M\\_28\\_W\\_51 & 0.7047014 & -0.2467837 & 0.4579177\\\\\n",
       "\t2 & NS\\_F\\_23\\_W\\_41 & 0.5223831 &  1.0230807 & 1.5454638\\\\\n",
       "\t3 & NS\\_F\\_27\\_B\\_50 & 0.5039698 &  0.6825890 & 1.1865588\\\\\n",
       "\t4 & NS\\_F\\_38\\_B\\_61 & 0.4781379 &  0.5010212 & 0.9791591\\\\\n",
       "\t5 & NS\\_F\\_21\\_W\\_38 & 0.4709761 &  0.4826841 & 0.9536602\\\\\n",
       "\t6 & CS\\_M\\_28\\_W\\_16 & 0.4649324 &  0.3588159 & 0.8237483\\\\\n",
       "\\end{tabular}\n"
      ],
      "text/markdown": [
       "\n",
       "A data.frame: 6 × 4\n",
       "\n",
       "| <!--/--> | Subject_ID &lt;chr&gt; | Acute_Load &lt;dbl&gt; | Chronic_Load &lt;dbl&gt; | Allostatic_Load &lt;dbl&gt; |\n",
       "|---|---|---|---|---|\n",
       "| 1 | NS_M_28_W_51 | 0.7047014 | -0.2467837 | 0.4579177 |\n",
       "| 2 | NS_F_23_W_41 | 0.5223831 |  1.0230807 | 1.5454638 |\n",
       "| 3 | NS_F_27_B_50 | 0.5039698 |  0.6825890 | 1.1865588 |\n",
       "| 4 | NS_F_38_B_61 | 0.4781379 |  0.5010212 | 0.9791591 |\n",
       "| 5 | NS_F_21_W_38 | 0.4709761 |  0.4826841 | 0.9536602 |\n",
       "| 6 | CS_M_28_W_16 | 0.4649324 |  0.3588159 | 0.8237483 |\n",
       "\n"
      ],
      "text/plain": [
       "  Subject_ID   Acute_Load Chronic_Load Allostatic_Load\n",
       "1 NS_M_28_W_51 0.7047014  -0.2467837   0.4579177      \n",
       "2 NS_F_23_W_41 0.5223831   1.0230807   1.5454638      \n",
       "3 NS_F_27_B_50 0.5039698   0.6825890   1.1865588      \n",
       "4 NS_F_38_B_61 0.4781379   0.5010212   0.9791591      \n",
       "5 NS_F_21_W_38 0.4709761   0.4826841   0.9536602      \n",
       "6 CS_M_28_W_16 0.4649324   0.3588159   0.8237483      "
      ]
     },
     "metadata": {},
     "output_type": "display_data"
    }
   ],
   "source": [
    "allostatic_three_df = inner_join(three_acute_allostatic_df, chronic_allostatic_df) %>%\n",
    "    mutate(Allostatic_Load = Acute_Load + Chronic_Load)\n",
    "\n",
    "allostatic_two_df = inner_join(two_acute_allostatic_df, chronic_allostatic_df) %>%\n",
    "    mutate(Allostatic_Load = Acute_Load + Chronic_Load)\n",
    "\n",
    "head(allostatic_three_df)"
   ]
  },
  {
   "cell_type": "code",
   "execution_count": 20,
   "id": "17b4a0aa-1e28-4b72-b5ff-3021c4880c43",
   "metadata": {},
   "outputs": [],
   "source": [
    "# # seeing if this data is normal\n",
    "# do.call(rbind.data.frame, apply(allostatic_three_df[,2:4], 2, shapiro.test))[,1:3] %>%\n",
    "#     mutate(Normality = ifelse(p.value < 0.05, \"Non-normal\", \"Normal\"))\n",
    "\n",
    "# do.call(rbind.data.frame, apply(allostatic_two_df[,2:4], 2, shapiro.test))[,1:3] %>%\n",
    "#     mutate(Normality = ifelse(p.value < 0.05, \"Non-normal\", \"Normal\"))"
   ]
  },
  {
   "cell_type": "code",
   "execution_count": 21,
   "id": "af5c9271-9f59-42f3-b4db-436bf304eb37",
   "metadata": {},
   "outputs": [],
   "source": [
    "# # it's not so normalizing\n",
    "# norm_allostatic_three_df = allostatic_three_df %>%\n",
    "#     mutate(across(Acute_Load:Allostatic_Load, ~ log2(.x + 1)))\n",
    "\n",
    "# norm_allostatic_two_df = allostatic_two_df %>%\n",
    "#     mutate(across(Acute_Load:Allostatic_Load, ~ log2(.x + 1)))\n",
    "\n",
    "# head(norm_allostatic_three_df)"
   ]
  },
  {
   "cell_type": "code",
   "execution_count": 22,
   "id": "ac161f65-379c-4532-92c9-8bd54a5bdc09",
   "metadata": {},
   "outputs": [],
   "source": [
    "# # seeing if this data is normal\n",
    "# do.call(rbind.data.frame, apply(norm_allostatic_three_df[,2:4], 2, shapiro.test))[,1:3] %>%\n",
    "#     mutate(Normality = ifelse(p.value < 0.05, \"Non-normal\", \"Normal\"))\n",
    "\n",
    "# do.call(rbind.data.frame, apply(norm_allostatic_two_df[,2:4], 2, shapiro.test))[,1:3] %>%\n",
    "#     mutate(Normality = ifelse(p.value < 0.05, \"Non-normal\", \"Normal\"))"
   ]
  },
  {
   "cell_type": "markdown",
   "id": "14568402-86bb-4344-bc82-ab15b7389c53",
   "metadata": {},
   "source": [
    "Now testing for statistical differences based on sex, race, and smoking status using a two way anova."
   ]
  },
  {
   "cell_type": "code",
   "execution_count": 48,
   "id": "203727fc-9642-45ec-919b-f0c13364bb26",
   "metadata": {},
   "outputs": [
    {
     "name": "stderr",
     "output_type": "stream",
     "text": [
      "\u001b[1m\u001b[22mJoining with `by = join_by(Subject_ID)`\n",
      "\u001b[1m\u001b[22mJoining with `by = join_by(Subject_ID)`\n"
     ]
    },
    {
     "data": {
      "text/html": [
       "<table class=\"dataframe\">\n",
       "<caption>A data.frame: 6 × 7</caption>\n",
       "<thead>\n",
       "\t<tr><th></th><th scope=col>Subject_ID</th><th scope=col>Acute_Load</th><th scope=col>Chronic_Load</th><th scope=col>Allostatic_Load</th><th scope=col>Smoking_Status</th><th scope=col>Sex</th><th scope=col>Race</th></tr>\n",
       "\t<tr><th></th><th scope=col>&lt;chr&gt;</th><th scope=col>&lt;dbl&gt;</th><th scope=col>&lt;dbl&gt;</th><th scope=col>&lt;dbl&gt;</th><th scope=col>&lt;fct&gt;</th><th scope=col>&lt;fct&gt;</th><th scope=col>&lt;fct&gt;</th></tr>\n",
       "</thead>\n",
       "<tbody>\n",
       "\t<tr><th scope=row>1</th><td>NS_M_28_W_51</td><td>0.7047014</td><td>-0.2467837</td><td>0.4579177</td><td>NS</td><td>M</td><td>W</td></tr>\n",
       "\t<tr><th scope=row>2</th><td>NS_F_23_W_41</td><td>0.5223831</td><td> 1.0230807</td><td>1.5454638</td><td>NS</td><td>F</td><td>W</td></tr>\n",
       "\t<tr><th scope=row>3</th><td>NS_F_27_B_50</td><td>0.5039698</td><td> 0.6825890</td><td>1.1865588</td><td>NS</td><td>F</td><td>B</td></tr>\n",
       "\t<tr><th scope=row>4</th><td>NS_F_38_B_61</td><td>0.4781379</td><td> 0.5010212</td><td>0.9791591</td><td>NS</td><td>F</td><td>B</td></tr>\n",
       "\t<tr><th scope=row>5</th><td>NS_F_21_W_38</td><td>0.4709761</td><td> 0.4826841</td><td>0.9536602</td><td>NS</td><td>F</td><td>W</td></tr>\n",
       "\t<tr><th scope=row>6</th><td>CS_M_28_W_16</td><td>0.4649324</td><td> 0.3588159</td><td>0.8237483</td><td>CS</td><td>M</td><td>W</td></tr>\n",
       "</tbody>\n",
       "</table>\n"
      ],
      "text/latex": [
       "A data.frame: 6 × 7\n",
       "\\begin{tabular}{r|lllllll}\n",
       "  & Subject\\_ID & Acute\\_Load & Chronic\\_Load & Allostatic\\_Load & Smoking\\_Status & Sex & Race\\\\\n",
       "  & <chr> & <dbl> & <dbl> & <dbl> & <fct> & <fct> & <fct>\\\\\n",
       "\\hline\n",
       "\t1 & NS\\_M\\_28\\_W\\_51 & 0.7047014 & -0.2467837 & 0.4579177 & NS & M & W\\\\\n",
       "\t2 & NS\\_F\\_23\\_W\\_41 & 0.5223831 &  1.0230807 & 1.5454638 & NS & F & W\\\\\n",
       "\t3 & NS\\_F\\_27\\_B\\_50 & 0.5039698 &  0.6825890 & 1.1865588 & NS & F & B\\\\\n",
       "\t4 & NS\\_F\\_38\\_B\\_61 & 0.4781379 &  0.5010212 & 0.9791591 & NS & F & B\\\\\n",
       "\t5 & NS\\_F\\_21\\_W\\_38 & 0.4709761 &  0.4826841 & 0.9536602 & NS & F & W\\\\\n",
       "\t6 & CS\\_M\\_28\\_W\\_16 & 0.4649324 &  0.3588159 & 0.8237483 & CS & M & W\\\\\n",
       "\\end{tabular}\n"
      ],
      "text/markdown": [
       "\n",
       "A data.frame: 6 × 7\n",
       "\n",
       "| <!--/--> | Subject_ID &lt;chr&gt; | Acute_Load &lt;dbl&gt; | Chronic_Load &lt;dbl&gt; | Allostatic_Load &lt;dbl&gt; | Smoking_Status &lt;fct&gt; | Sex &lt;fct&gt; | Race &lt;fct&gt; |\n",
       "|---|---|---|---|---|---|---|---|\n",
       "| 1 | NS_M_28_W_51 | 0.7047014 | -0.2467837 | 0.4579177 | NS | M | W |\n",
       "| 2 | NS_F_23_W_41 | 0.5223831 |  1.0230807 | 1.5454638 | NS | F | W |\n",
       "| 3 | NS_F_27_B_50 | 0.5039698 |  0.6825890 | 1.1865588 | NS | F | B |\n",
       "| 4 | NS_F_38_B_61 | 0.4781379 |  0.5010212 | 0.9791591 | NS | F | B |\n",
       "| 5 | NS_F_21_W_38 | 0.4709761 |  0.4826841 | 0.9536602 | NS | F | W |\n",
       "| 6 | CS_M_28_W_16 | 0.4649324 |  0.3588159 | 0.8237483 | CS | M | W |\n",
       "\n"
      ],
      "text/plain": [
       "  Subject_ID   Acute_Load Chronic_Load Allostatic_Load Smoking_Status Sex Race\n",
       "1 NS_M_28_W_51 0.7047014  -0.2467837   0.4579177       NS             M   W   \n",
       "2 NS_F_23_W_41 0.5223831   1.0230807   1.5454638       NS             F   W   \n",
       "3 NS_F_27_B_50 0.5039698   0.6825890   1.1865588       NS             F   B   \n",
       "4 NS_F_38_B_61 0.4781379   0.5010212   0.9791591       NS             F   B   \n",
       "5 NS_F_21_W_38 0.4709761   0.4826841   0.9536602       NS             F   W   \n",
       "6 CS_M_28_W_16 0.4649324   0.3588159   0.8237483       CS             M   W   "
      ]
     },
     "metadata": {},
     "output_type": "display_data"
    },
    {
     "data": {
      "text/plain": [
       "              Sex\n",
       "Smoking_Status  M  F\n",
       "            NS  7 23\n",
       "            CS 16 17"
      ]
     },
     "metadata": {},
     "output_type": "display_data"
    },
    {
     "data": {
      "text/plain": [
       "              Race\n",
       "Smoking_Status  W  B\n",
       "            NS 16 14\n",
       "            CS 16 17"
      ]
     },
     "metadata": {},
     "output_type": "display_data"
    }
   ],
   "source": [
    "# adding in demographic info for each subject\n",
    "three_anova_df = inner_join(allostatic_three_df, subject_info_df[,c(3,5,6,8)])\n",
    "two_anova_df = inner_join(allostatic_two_df, subject_info_df[,c(3,5,6,8)])\n",
    "\n",
    "\n",
    "# converting into factors\n",
    "three_anova_df$Smoking_Status = factor(three_anova_df$Smoking_Status, levels = c(\"NS\", \"CS\"))\n",
    "three_anova_df$Sex = factor(three_anova_df$Sex, levels = c(\"M\", \"F\"))\n",
    "three_anova_df$Race = factor(three_anova_df$Race, levels = c(\"W\", \"B\"))\n",
    "two_anova_df$Smoking_Status = factor(two_anova_df$Smoking_Status, levels = c(\"NS\", \"CS\"))\n",
    "two_anova_df$Sex = factor(two_anova_df$Sex, levels = c(\"M\", \"F\"))\n",
    "two_anova_df$Race = factor(two_anova_df$Race, levels = c(\"W\", \"B\"))\n",
    "\n",
    "head(three_anova_df)\n",
    "\n",
    "# looking at counts for each variable\n",
    "table(three_anova_df[,c(5:6)])\n",
    "table(three_anova_df[,c(5,7)])"
   ]
  },
  {
   "cell_type": "code",
   "execution_count": 77,
   "id": "70482691-acc2-4545-828b-163e511a2c5d",
   "metadata": {},
   "outputs": [],
   "source": [
    "# anova\n",
    "three_anova_smoking_race = aov(Allostatic_Load ~ Smoking_Status * Race, data = three_anova_df)\n",
    "three_anova_smoking_sex = aov(Allostatic_Load ~ Smoking_Status * Sex, data = three_anova_df)\n",
    "three_anova_sex_race = aov(Allostatic_Load ~ Sex * Race, data = three_anova_df)\n",
    "two_anova_smoking_race = aov(Allostatic_Load ~ Smoking_Status * Race, data = two_anova_df)\n",
    "two_anova_smoking_sex = aov(Allostatic_Load ~ Smoking_Status * Sex, data = two_anova_df)\n",
    "two_anova_sex_race = aov(Allostatic_Load ~ Sex * Race, data = two_anova_df)"
   ]
  },
  {
   "cell_type": "code",
   "execution_count": 25,
   "id": "d7020259-a353-400a-834c-41744ff6a854",
   "metadata": {},
   "outputs": [
    {
     "data": {
      "text/plain": [
       "                    Df Sum Sq Mean Sq F value Pr(>F)  \n",
       "Smoking_Status       1  0.401  0.4006   1.364 0.2476  \n",
       "Race                 1  1.218  1.2183   4.147 0.0462 *\n",
       "Smoking_Status:Race  1  0.627  0.6269   2.134 0.1493  \n",
       "Residuals           59 17.332  0.2938                 \n",
       "---\n",
       "Signif. codes:  0 ‘***’ 0.001 ‘**’ 0.01 ‘*’ 0.05 ‘.’ 0.1 ‘ ’ 1"
      ]
     },
     "metadata": {},
     "output_type": "display_data"
    },
    {
     "data": {
      "text/plain": [
       "                   Df Sum Sq Mean Sq F value Pr(>F)\n",
       "Smoking_Status      1  0.401  0.4006   1.238  0.270\n",
       "Sex                 1  0.004  0.0040   0.012  0.912\n",
       "Smoking_Status:Sex  1  0.087  0.0873   0.270  0.605\n",
       "Residuals          59 19.086  0.3235               "
      ]
     },
     "metadata": {},
     "output_type": "display_data"
    },
    {
     "data": {
      "text/plain": [
       "            Df Sum Sq Mean Sq F value  Pr(>F)   \n",
       "Sex          1  0.011  0.0109   0.040 0.84190   \n",
       "Race         1  1.145  1.1446   4.232 0.04409 * \n",
       "Sex:Race     1  2.466  2.4664   9.120 0.00373 **\n",
       "Residuals   59 15.956  0.2704                   \n",
       "---\n",
       "Signif. codes:  0 ‘***’ 0.001 ‘**’ 0.01 ‘*’ 0.05 ‘.’ 0.1 ‘ ’ 1"
      ]
     },
     "metadata": {},
     "output_type": "display_data"
    }
   ],
   "source": [
    "summary(three_anova_smoking_race) \n",
    "summary(three_anova_smoking_sex)\n",
    "summary(three_anova_sex_race)"
   ]
  },
  {
   "cell_type": "code",
   "execution_count": 26,
   "id": "6e05ce91-5f2b-45bb-8784-a41d27a1db18",
   "metadata": {},
   "outputs": [
    {
     "data": {
      "text/plain": [
       "                    Df Sum Sq Mean Sq F value Pr(>F)  \n",
       "Smoking_Status       1  0.403  0.4027   1.420 0.2382  \n",
       "Race                 1  1.218  1.2183   4.296 0.0426 *\n",
       "Smoking_Status:Race  1  0.652  0.6523   2.300 0.1347  \n",
       "Residuals           59 16.731  0.2836                 \n",
       "---\n",
       "Signif. codes:  0 ‘***’ 0.001 ‘**’ 0.01 ‘*’ 0.05 ‘.’ 0.1 ‘ ’ 1"
      ]
     },
     "metadata": {},
     "output_type": "display_data"
    },
    {
     "data": {
      "text/plain": [
       "                   Df Sum Sq Mean Sq F value Pr(>F)\n",
       "Smoking_Status      1  0.403  0.4027   1.285  0.262\n",
       "Sex                 1  0.003  0.0032   0.010  0.920\n",
       "Smoking_Status:Sex  1  0.111  0.1113   0.355  0.554\n",
       "Residuals          59 18.487  0.3133               "
      ]
     },
     "metadata": {},
     "output_type": "display_data"
    },
    {
     "data": {
      "text/plain": [
       "            Df Sum Sq Mean Sq F value  Pr(>F)   \n",
       "Sex          1  0.048  0.0484   0.182 0.67125   \n",
       "Race         1  1.139  1.1393   4.279 0.04297 * \n",
       "Sex:Race     1  2.109  2.1093   7.923 0.00662 **\n",
       "Residuals   59 15.707  0.2662                   \n",
       "---\n",
       "Signif. codes:  0 ‘***’ 0.001 ‘**’ 0.01 ‘*’ 0.05 ‘.’ 0.1 ‘ ’ 1"
      ]
     },
     "metadata": {},
     "output_type": "display_data"
    }
   ],
   "source": [
    "summary(two_anova_smoking_race)\n",
    "summary(two_anova_smoking_sex)\n",
    "summary(two_anova_sex_race)"
   ]
  },
  {
   "cell_type": "code",
   "execution_count": 55,
   "id": "2a375702-c09c-469b-ba77-c5992be4c01f",
   "metadata": {},
   "outputs": [
    {
     "data": {
      "text/html": [
       "<table class=\"dataframe\">\n",
       "<caption>A rstatix_test: 6 × 9</caption>\n",
       "<thead>\n",
       "\t<tr><th scope=col>Sex:Race</th><th scope=col>group1</th><th scope=col>group2</th><th scope=col>null.value</th><th scope=col>estimate</th><th scope=col>conf.low</th><th scope=col>conf.high</th><th scope=col>p.adj</th><th scope=col>p.adj.signif</th></tr>\n",
       "\t<tr><th scope=col>&lt;chr&gt;</th><th scope=col>&lt;chr&gt;</th><th scope=col>&lt;chr&gt;</th><th scope=col>&lt;dbl&gt;</th><th scope=col>&lt;dbl&gt;</th><th scope=col>&lt;dbl&gt;</th><th scope=col>&lt;dbl&gt;</th><th scope=col>&lt;dbl&gt;</th><th scope=col>&lt;chr&gt;</th></tr>\n",
       "</thead>\n",
       "<tbody>\n",
       "\t<tr><td>Sex:Race</td><td>M:W</td><td>F:W</td><td>0</td><td>-0.3784576</td><td>-0.88048611</td><td>0.1235709</td><td>0.20200</td><td>ns</td></tr>\n",
       "\t<tr><td>Sex:Race</td><td>M:W</td><td>M:B</td><td>0</td><td>-0.2528687</td><td>-0.82676838</td><td>0.3210309</td><td>0.65100</td><td>ns</td></tr>\n",
       "\t<tr><td>Sex:Race</td><td>M:W</td><td>F:B</td><td>0</td><td> 0.1911097</td><td>-0.31091878</td><td>0.6931382</td><td>0.74600</td><td>ns</td></tr>\n",
       "\t<tr><td>Sex:Race</td><td>F:W</td><td>M:B</td><td>0</td><td> 0.1255889</td><td>-0.39050478</td><td>0.6416825</td><td>0.91700</td><td>ns</td></tr>\n",
       "\t<tr><td>Sex:Race</td><td>F:W</td><td>F:B</td><td>0</td><td> 0.5695673</td><td> 0.13479788</td><td>1.0043368</td><td>0.00538</td><td>**</td></tr>\n",
       "\t<tr><td>Sex:Race</td><td>M:B</td><td>F:B</td><td>0</td><td> 0.4439784</td><td>-0.07211521</td><td>0.9600721</td><td>0.11600</td><td>ns</td></tr>\n",
       "</tbody>\n",
       "</table>\n"
      ],
      "text/latex": [
       "A rstatix\\_test: 6 × 9\n",
       "\\begin{tabular}{lllllllll}\n",
       " Sex:Race & group1 & group2 & null.value & estimate & conf.low & conf.high & p.adj & p.adj.signif\\\\\n",
       " <chr> & <chr> & <chr> & <dbl> & <dbl> & <dbl> & <dbl> & <dbl> & <chr>\\\\\n",
       "\\hline\n",
       "\t Sex:Race & M:W & F:W & 0 & -0.3784576 & -0.88048611 & 0.1235709 & 0.20200 & ns\\\\\n",
       "\t Sex:Race & M:W & M:B & 0 & -0.2528687 & -0.82676838 & 0.3210309 & 0.65100 & ns\\\\\n",
       "\t Sex:Race & M:W & F:B & 0 &  0.1911097 & -0.31091878 & 0.6931382 & 0.74600 & ns\\\\\n",
       "\t Sex:Race & F:W & M:B & 0 &  0.1255889 & -0.39050478 & 0.6416825 & 0.91700 & ns\\\\\n",
       "\t Sex:Race & F:W & F:B & 0 &  0.5695673 &  0.13479788 & 1.0043368 & 0.00538 & **\\\\\n",
       "\t Sex:Race & M:B & F:B & 0 &  0.4439784 & -0.07211521 & 0.9600721 & 0.11600 & ns\\\\\n",
       "\\end{tabular}\n"
      ],
      "text/markdown": [
       "\n",
       "A rstatix_test: 6 × 9\n",
       "\n",
       "| Sex:Race &lt;chr&gt; | group1 &lt;chr&gt; | group2 &lt;chr&gt; | null.value &lt;dbl&gt; | estimate &lt;dbl&gt; | conf.low &lt;dbl&gt; | conf.high &lt;dbl&gt; | p.adj &lt;dbl&gt; | p.adj.signif &lt;chr&gt; |\n",
       "|---|---|---|---|---|---|---|---|---|\n",
       "| Sex:Race | M:W | F:W | 0 | -0.3784576 | -0.88048611 | 0.1235709 | 0.20200 | ns |\n",
       "| Sex:Race | M:W | M:B | 0 | -0.2528687 | -0.82676838 | 0.3210309 | 0.65100 | ns |\n",
       "| Sex:Race | M:W | F:B | 0 |  0.1911097 | -0.31091878 | 0.6931382 | 0.74600 | ns |\n",
       "| Sex:Race | F:W | M:B | 0 |  0.1255889 | -0.39050478 | 0.6416825 | 0.91700 | ns |\n",
       "| Sex:Race | F:W | F:B | 0 |  0.5695673 |  0.13479788 | 1.0043368 | 0.00538 | ** |\n",
       "| Sex:Race | M:B | F:B | 0 |  0.4439784 | -0.07211521 | 0.9600721 | 0.11600 | ns |\n",
       "\n"
      ],
      "text/plain": [
       "  Sex:Race group1 group2 null.value estimate   conf.low    conf.high p.adj  \n",
       "1 Sex:Race M:W    F:W    0          -0.3784576 -0.88048611 0.1235709 0.20200\n",
       "2 Sex:Race M:W    M:B    0          -0.2528687 -0.82676838 0.3210309 0.65100\n",
       "3 Sex:Race M:W    F:B    0           0.1911097 -0.31091878 0.6931382 0.74600\n",
       "4 Sex:Race F:W    M:B    0           0.1255889 -0.39050478 0.6416825 0.91700\n",
       "5 Sex:Race F:W    F:B    0           0.5695673  0.13479788 1.0043368 0.00538\n",
       "6 Sex:Race M:B    F:B    0           0.4439784 -0.07211521 0.9600721 0.11600\n",
       "  p.adj.signif\n",
       "1 ns          \n",
       "2 ns          \n",
       "3 ns          \n",
       "4 ns          \n",
       "5 **          \n",
       "6 ns          "
      ]
     },
     "metadata": {},
     "output_type": "display_data"
    }
   ],
   "source": [
    "three_anova_df %>%\n",
    "    tukey_hsd(Allostatic_Load ~ Sex * Race) %>%\n",
    "    # only keeping interaction results\n",
    "    filter(term == 'Sex:Race') %>%\n",
    "    rename('Sex:Race' = 'term') #%>%\n",
    "    #add_xy_position(x = \"Sex:Race\")"
   ]
  },
  {
   "cell_type": "code",
   "execution_count": 40,
   "id": "325e7cc8-0a45-4404-8d45-ed00715d33ed",
   "metadata": {},
   "outputs": [
    {
     "ename": "ERROR",
     "evalue": "Error in add_xy_position(x = \"Sex\", step.increase = 2): argument \"test\" is missing, with no default\n",
     "output_type": "error",
     "traceback": [
      "Error in add_xy_position(x = \"Sex\", step.increase = 2): argument \"test\" is missing, with no default\nTraceback:\n",
      "1. add_xy_position(x = \"Sex\", step.increase = 2)",
      "2. test %>% add_y_position(fun = fun, step.increase = step.increase, \n .     stack = stack, scales = scales, ...) %>% add_x_position(x = x, \n .     group = group, dodge = dodge)",
      "3. add_x_position(., x = x, group = group, dodge = dodge)",
      "4. asserttat_group_columns_exists(test)",
      "5. c(\"group1\", \"group2\") %in% colnames(data)",
      "6. colnames(data)",
      "7. is.data.frame(x)",
      "8. add_y_position(., fun = fun, step.increase = step.increase, stack = stack, \n .     scales = scales, ...)",
      "9. asserttat_group_columns_exists(test)",
      "10. c(\"group1\", \"group2\") %in% colnames(data)",
      "11. colnames(data)",
      "12. is.data.frame(x)"
     ]
    }
   ],
   "source": [
    "# post hoc for sex and race anova\n",
    "three_tukey = TukeyHSD(three_anova_sex_race)\n",
    "two_tukey = TukeyHSD(two_anova_sex_race)\n",
    "\n",
    "three_tukey_df = data.frame(three_tukey$`Sex:Race`) %>%\n",
    "    #mutate(p.adj.signif = ifelse(p.adj < 0.05, \"*\", \"ns\")) %>%\n",
    "    # adding a col that contains the label to be plotted\n",
    "    add_significance(\"p.adj\") %>%\n",
    "    mutate(`.y.` = \"Allostatic_Load\", group1 = \"Sex\", group2 = \"Race\")\n",
    "    #rownames_to_column(var = 'Comparison') %>%\n",
    "    #separate(Comparison, sep = \"-\", into = c(\"group1\", \"group2\")) %>%\n",
    "    # adding a col that will tell ggplot where to plot these numbers\n",
    "    add_xy_position(x = \"Sex\", step.increase = 2)\n",
    "two_tukey_df = data.frame(two_tukey$`Sex:Race`) %>%\n",
    "     mutate(p.adj.signif = ifelse(p.adj < 0.05, \"*\", \"ns\"))\n",
    "\n",
    "head(three_tukey_df)"
   ]
  },
  {
   "cell_type": "markdown",
   "id": "af59d05a-c255-4a09-8273-2c0c2959bc5e",
   "metadata": {},
   "source": [
    "There are statistically significant differences in allostatic load based on race (p value = 0.04) and the interaction between race and sex (p value = 0.007). These significant differences were present using ordinal weights from blood pressure classification with two classes and three classes. This indicates that the ordinal weights from either cases didn't have a substantial impact on the statistical results.\n",
    "\n",
    "Tukey's post hoc tests revealed that black females have a higher overall AL than white females."
   ]
  },
  {
   "cell_type": "code",
   "execution_count": 86,
   "id": "f0246014-9be6-4018-afab-56cd15c08d72",
   "metadata": {},
   "outputs": [
    {
     "data": {
      "text/html": [
       "<table class=\"dataframe\">\n",
       "<caption>A data.frame: 6 × 8</caption>\n",
       "<thead>\n",
       "\t<tr><th></th><th scope=col>Subject_ID</th><th scope=col>Acute_Load</th><th scope=col>Chronic_Load</th><th scope=col>Allostatic_Load</th><th scope=col>Smoking_Status</th><th scope=col>Sex:Race</th><th scope=col>Sex</th><th scope=col>Race</th></tr>\n",
       "\t<tr><th></th><th scope=col>&lt;chr&gt;</th><th scope=col>&lt;dbl&gt;</th><th scope=col>&lt;dbl&gt;</th><th scope=col>&lt;dbl&gt;</th><th scope=col>&lt;fct&gt;</th><th scope=col>&lt;chr&gt;</th><th scope=col>&lt;fct&gt;</th><th scope=col>&lt;fct&gt;</th></tr>\n",
       "</thead>\n",
       "<tbody>\n",
       "\t<tr><th scope=row>1</th><td>NS_M_28_W_51</td><td>0.7047014</td><td>-0.2467837</td><td>0.4579177</td><td>NS</td><td>M:W</td><td>M</td><td>W</td></tr>\n",
       "\t<tr><th scope=row>2</th><td>NS_F_23_W_41</td><td>0.5223831</td><td> 1.0230807</td><td>1.5454638</td><td>NS</td><td>F:W</td><td>F</td><td>W</td></tr>\n",
       "\t<tr><th scope=row>3</th><td>NS_F_27_B_50</td><td>0.5039698</td><td> 0.6825890</td><td>1.1865588</td><td>NS</td><td>F:B</td><td>F</td><td>B</td></tr>\n",
       "\t<tr><th scope=row>4</th><td>NS_F_38_B_61</td><td>0.4781379</td><td> 0.5010212</td><td>0.9791591</td><td>NS</td><td>F:B</td><td>F</td><td>B</td></tr>\n",
       "\t<tr><th scope=row>5</th><td>NS_F_21_W_38</td><td>0.4709761</td><td> 0.4826841</td><td>0.9536602</td><td>NS</td><td>F:W</td><td>F</td><td>W</td></tr>\n",
       "\t<tr><th scope=row>6</th><td>CS_M_28_W_16</td><td>0.4649324</td><td> 0.3588159</td><td>0.8237483</td><td>CS</td><td>M:W</td><td>M</td><td>W</td></tr>\n",
       "</tbody>\n",
       "</table>\n"
      ],
      "text/latex": [
       "A data.frame: 6 × 8\n",
       "\\begin{tabular}{r|llllllll}\n",
       "  & Subject\\_ID & Acute\\_Load & Chronic\\_Load & Allostatic\\_Load & Smoking\\_Status & Sex:Race & Sex & Race\\\\\n",
       "  & <chr> & <dbl> & <dbl> & <dbl> & <fct> & <chr> & <fct> & <fct>\\\\\n",
       "\\hline\n",
       "\t1 & NS\\_M\\_28\\_W\\_51 & 0.7047014 & -0.2467837 & 0.4579177 & NS & M:W & M & W\\\\\n",
       "\t2 & NS\\_F\\_23\\_W\\_41 & 0.5223831 &  1.0230807 & 1.5454638 & NS & F:W & F & W\\\\\n",
       "\t3 & NS\\_F\\_27\\_B\\_50 & 0.5039698 &  0.6825890 & 1.1865588 & NS & F:B & F & B\\\\\n",
       "\t4 & NS\\_F\\_38\\_B\\_61 & 0.4781379 &  0.5010212 & 0.9791591 & NS & F:B & F & B\\\\\n",
       "\t5 & NS\\_F\\_21\\_W\\_38 & 0.4709761 &  0.4826841 & 0.9536602 & NS & F:W & F & W\\\\\n",
       "\t6 & CS\\_M\\_28\\_W\\_16 & 0.4649324 &  0.3588159 & 0.8237483 & CS & M:W & M & W\\\\\n",
       "\\end{tabular}\n"
      ],
      "text/markdown": [
       "\n",
       "A data.frame: 6 × 8\n",
       "\n",
       "| <!--/--> | Subject_ID &lt;chr&gt; | Acute_Load &lt;dbl&gt; | Chronic_Load &lt;dbl&gt; | Allostatic_Load &lt;dbl&gt; | Smoking_Status &lt;fct&gt; | Sex:Race &lt;chr&gt; | Sex &lt;fct&gt; | Race &lt;fct&gt; |\n",
       "|---|---|---|---|---|---|---|---|---|\n",
       "| 1 | NS_M_28_W_51 | 0.7047014 | -0.2467837 | 0.4579177 | NS | M:W | M | W |\n",
       "| 2 | NS_F_23_W_41 | 0.5223831 |  1.0230807 | 1.5454638 | NS | F:W | F | W |\n",
       "| 3 | NS_F_27_B_50 | 0.5039698 |  0.6825890 | 1.1865588 | NS | F:B | F | B |\n",
       "| 4 | NS_F_38_B_61 | 0.4781379 |  0.5010212 | 0.9791591 | NS | F:B | F | B |\n",
       "| 5 | NS_F_21_W_38 | 0.4709761 |  0.4826841 | 0.9536602 | NS | F:W | F | W |\n",
       "| 6 | CS_M_28_W_16 | 0.4649324 |  0.3588159 | 0.8237483 | CS | M:W | M | W |\n",
       "\n"
      ],
      "text/plain": [
       "  Subject_ID   Acute_Load Chronic_Load Allostatic_Load Smoking_Status Sex:Race\n",
       "1 NS_M_28_W_51 0.7047014  -0.2467837   0.4579177       NS             M:W     \n",
       "2 NS_F_23_W_41 0.5223831   1.0230807   1.5454638       NS             F:W     \n",
       "3 NS_F_27_B_50 0.5039698   0.6825890   1.1865588       NS             F:B     \n",
       "4 NS_F_38_B_61 0.4781379   0.5010212   0.9791591       NS             F:B     \n",
       "5 NS_F_21_W_38 0.4709761   0.4826841   0.9536602       NS             F:W     \n",
       "6 CS_M_28_W_16 0.4649324   0.3588159   0.8237483       CS             M:W     \n",
       "  Sex Race\n",
       "1 M   W   \n",
       "2 F   W   \n",
       "3 F   B   \n",
       "4 F   B   \n",
       "5 F   W   \n",
       "6 M   W   "
      ]
     },
     "metadata": {},
     "output_type": "display_data"
    },
    {
     "data": {
      "image/png": "[encoded data removed]",
      "text/plain": [
       "plot without title"
      ]
     },
     "metadata": {
      "image/png": {
       "height": 360,
       "width": 480
      }
     },
     "output_type": "display_data"
    }
   ],
   "source": [
    "options(repr.plot.width=8, repr.plot.height=6) #changing size\n",
    "boxplot_df = three_anova_df %>%\n",
    "    unite(`Sex:Race`, Sex, Race, sep = \":\", remove = FALSE)\n",
    "\n",
    "head(boxplot_df)\n",
    "\n",
    "ggplot(data = boxplot_df, aes(x = Sex:Race, y = Allostatic_Load)) + \n",
    "  geom_boxplot() + \n",
    "  geom_point() + \n",
    "  stat_anova_test(wid = \"Sex:Race\", p.adjust.method = \"none\", label = \"p = {p.format}\", \n",
    "                     label.x.npc = \"right\", size = 5) #+\n",
    "  #stat_pvalue_manual(three_tukey_df, label = \"p.adj.signif\", size = 12, hide.ns = TRUE)"
   ]
  },
  {
   "cell_type": "code",
   "execution_count": 78,
   "id": "276272b2-80ea-4f64-a30d-6a5287f980b5",
   "metadata": {},
   "outputs": [],
   "source": [
    "# ggplot(data = boxplot_df, aes(x = Race, y = Allostatic_Load)) + \n",
    "#   geom_boxplot() + \n",
    "#   geom_point() + \n",
    "#   stat_anova_test(wid = \"Race\", p.adjust.method = \"none\", label = \"p = {p.format}\", \n",
    "#                      label.x.npc = \"right\", size = 5) "
   ]
  },
  {
   "cell_type": "markdown",
   "id": "d0f43552-00aa-4a16-b927-372eb396bb84",
   "metadata": {},
   "source": [
    "Now looking at statistical differences between acute and chronic AL."
   ]
  },
  {
   "cell_type": "code",
   "execution_count": 64,
   "id": "3fd08f35-2281-45a3-bc83-8032e51039f7",
   "metadata": {},
   "outputs": [],
   "source": [
    "# acute AL anova\n",
    "three_anova_smoking_race = aov(Acute_Load ~ Smoking_Status * Race, data = three_anova_df)\n",
    "three_anova_smoking_sex = aov(Acute_Load ~ Smoking_Status * Sex, data = three_anova_df)\n",
    "three_anova_sex_race = aov(Acute_Load ~ Sex * Race, data = three_anova_df)\n",
    "two_anova_smoking_race = aov(Acute_Load ~ Smoking_Status * Race, data = two_anova_df)\n",
    "two_anova_smoking_sex = aov(Acute_Load ~ Smoking_Status * Sex, data = two_anova_df)\n",
    "two_anova_sex_race = aov(Acute_Load ~ Sex * Race, data = two_anova_df)"
   ]
  },
  {
   "cell_type": "code",
   "execution_count": 65,
   "id": "d82aed3b-1c08-4fd3-ab4f-4d5171af9729",
   "metadata": {},
   "outputs": [
    {
     "data": {
      "text/plain": [
       "                    Df Sum Sq Mean Sq F value Pr(>F)  \n",
       "Smoking_Status       1 0.0711 0.07105   4.504  0.038 *\n",
       "Race                 1 0.0000 0.00002   0.001  0.970  \n",
       "Smoking_Status:Race  1 0.0113 0.01130   0.716  0.401  \n",
       "Residuals           59 0.9307 0.01577                 \n",
       "---\n",
       "Signif. codes:  0 ‘***’ 0.001 ‘**’ 0.01 ‘*’ 0.05 ‘.’ 0.1 ‘ ’ 1"
      ]
     },
     "metadata": {},
     "output_type": "display_data"
    },
    {
     "data": {
      "text/plain": [
       "                   Df Sum Sq Mean Sq F value Pr(>F)  \n",
       "Smoking_Status      1 0.0711 0.07105   4.753 0.0333 *\n",
       "Sex                 1 0.0554 0.05544   3.708 0.0590 .\n",
       "Smoking_Status:Sex  1 0.0046 0.00455   0.305 0.5831  \n",
       "Residuals          59 0.8820 0.01495                 \n",
       "---\n",
       "Signif. codes:  0 ‘***’ 0.001 ‘**’ 0.01 ‘*’ 0.05 ‘.’ 0.1 ‘ ’ 1"
      ]
     },
     "metadata": {},
     "output_type": "display_data"
    },
    {
     "data": {
      "text/plain": [
       "            Df Sum Sq Mean Sq F value Pr(>F)  \n",
       "Sex          1 0.0249 0.02489   1.663 0.2022  \n",
       "Race         1 0.0000 0.00002   0.002 0.9684  \n",
       "Sex:Race     1 0.1055 0.10547   7.049 0.0102 *\n",
       "Residuals   59 0.8827 0.01496                 \n",
       "---\n",
       "Signif. codes:  0 ‘***’ 0.001 ‘**’ 0.01 ‘*’ 0.05 ‘.’ 0.1 ‘ ’ 1"
      ]
     },
     "metadata": {},
     "output_type": "display_data"
    }
   ],
   "source": [
    "summary(three_anova_smoking_race) \n",
    "summary(three_anova_smoking_sex)\n",
    "summary(three_anova_sex_race)"
   ]
  },
  {
   "cell_type": "code",
   "execution_count": 66,
   "id": "9553d8d2-5301-40a4-b604-761f9e9e6698",
   "metadata": {},
   "outputs": [
    {
     "data": {
      "text/plain": [
       "                    Df Sum Sq Mean Sq F value Pr(>F)  \n",
       "Smoking_Status       1 0.0719 0.07193   5.352 0.0242 *\n",
       "Race                 1 0.0000 0.00002   0.002 0.9675  \n",
       "Smoking_Status:Race  1 0.0149 0.01492   1.110 0.2963  \n",
       "Residuals           59 0.7929 0.01344                 \n",
       "---\n",
       "Signif. codes:  0 ‘***’ 0.001 ‘**’ 0.01 ‘*’ 0.05 ‘.’ 0.1 ‘ ’ 1"
      ]
     },
     "metadata": {},
     "output_type": "display_data"
    },
    {
     "data": {
      "text/plain": [
       "                   Df Sum Sq Mean Sq F value Pr(>F)  \n",
       "Smoking_Status      1 0.0719 0.07193   5.418 0.0234 *\n",
       "Sex                 1 0.0134 0.01342   1.011 0.3189  \n",
       "Smoking_Status:Sex  1 0.0112 0.01115   0.840 0.3632  \n",
       "Residuals          59 0.7833 0.01328                 \n",
       "---\n",
       "Signif. codes:  0 ‘***’ 0.001 ‘**’ 0.01 ‘*’ 0.05 ‘.’ 0.1 ‘ ’ 1"
      ]
     },
     "metadata": {},
     "output_type": "display_data"
    },
    {
     "data": {
      "text/plain": [
       "            Df Sum Sq Mean Sq F value Pr(>F)  \n",
       "Sex          1 0.0018 0.00175   0.124 0.7263  \n",
       "Race         1 0.0001 0.00005   0.004 0.9508  \n",
       "Sex:Race     1 0.0427 0.04269   3.016 0.0877 .\n",
       "Residuals   59 0.8353 0.01416                 \n",
       "---\n",
       "Signif. codes:  0 ‘***’ 0.001 ‘**’ 0.01 ‘*’ 0.05 ‘.’ 0.1 ‘ ’ 1"
      ]
     },
     "metadata": {},
     "output_type": "display_data"
    }
   ],
   "source": [
    "summary(two_anova_smoking_race)\n",
    "summary(two_anova_smoking_sex)\n",
    "summary(two_anova_sex_race)"
   ]
  },
  {
   "cell_type": "code",
   "execution_count": 70,
   "id": "c120545f-d34a-44b2-aaf9-d1a5e735e136",
   "metadata": {},
   "outputs": [
    {
     "data": {
      "text/html": [
       "<table class=\"dataframe\">\n",
       "<caption>A data.frame: 6 × 5</caption>\n",
       "<thead>\n",
       "\t<tr><th></th><th scope=col>diff</th><th scope=col>lwr</th><th scope=col>upr</th><th scope=col>p.adj</th><th scope=col>p.adj.signif</th></tr>\n",
       "\t<tr><th></th><th scope=col>&lt;dbl&gt;</th><th scope=col>&lt;dbl&gt;</th><th scope=col>&lt;dbl&gt;</th><th scope=col>&lt;dbl&gt;</th><th scope=col>&lt;chr&gt;</th></tr>\n",
       "</thead>\n",
       "<tbody>\n",
       "\t<tr><th scope=row>F:W-M:W</th><td>-0.12394017</td><td>-0.24202099</td><td>-0.005859349</td><td>0.03612587</td><td>* </td></tr>\n",
       "\t<tr><th scope=row>M:B-M:W</th><td>-0.10928114</td><td>-0.24426659</td><td> 0.025704301</td><td>0.15243604</td><td>ns</td></tr>\n",
       "\t<tr><th scope=row>F:B-M:W</th><td>-0.06315254</td><td>-0.18123336</td><td> 0.054928282</td><td>0.49582661</td><td>ns</td></tr>\n",
       "\t<tr><th scope=row>M:B-F:W</th><td> 0.01465902</td><td>-0.10673002</td><td> 0.136048071</td><td>0.98862720</td><td>ns</td></tr>\n",
       "\t<tr><th scope=row>F:B-F:W</th><td> 0.06078763</td><td>-0.04147336</td><td> 0.163048621</td><td>0.40251562</td><td>ns</td></tr>\n",
       "\t<tr><th scope=row>F:B-M:B</th><td> 0.04612861</td><td>-0.07526044</td><td> 0.167517652</td><td>0.74729926</td><td>ns</td></tr>\n",
       "</tbody>\n",
       "</table>\n"
      ],
      "text/latex": [
       "A data.frame: 6 × 5\n",
       "\\begin{tabular}{r|lllll}\n",
       "  & diff & lwr & upr & p.adj & p.adj.signif\\\\\n",
       "  & <dbl> & <dbl> & <dbl> & <dbl> & <chr>\\\\\n",
       "\\hline\n",
       "\tF:W-M:W & -0.12394017 & -0.24202099 & -0.005859349 & 0.03612587 & * \\\\\n",
       "\tM:B-M:W & -0.10928114 & -0.24426659 &  0.025704301 & 0.15243604 & ns\\\\\n",
       "\tF:B-M:W & -0.06315254 & -0.18123336 &  0.054928282 & 0.49582661 & ns\\\\\n",
       "\tM:B-F:W &  0.01465902 & -0.10673002 &  0.136048071 & 0.98862720 & ns\\\\\n",
       "\tF:B-F:W &  0.06078763 & -0.04147336 &  0.163048621 & 0.40251562 & ns\\\\\n",
       "\tF:B-M:B &  0.04612861 & -0.07526044 &  0.167517652 & 0.74729926 & ns\\\\\n",
       "\\end{tabular}\n"
      ],
      "text/markdown": [
       "\n",
       "A data.frame: 6 × 5\n",
       "\n",
       "| <!--/--> | diff &lt;dbl&gt; | lwr &lt;dbl&gt; | upr &lt;dbl&gt; | p.adj &lt;dbl&gt; | p.adj.signif &lt;chr&gt; |\n",
       "|---|---|---|---|---|---|\n",
       "| F:W-M:W | -0.12394017 | -0.24202099 | -0.005859349 | 0.03612587 | *  |\n",
       "| M:B-M:W | -0.10928114 | -0.24426659 |  0.025704301 | 0.15243604 | ns |\n",
       "| F:B-M:W | -0.06315254 | -0.18123336 |  0.054928282 | 0.49582661 | ns |\n",
       "| M:B-F:W |  0.01465902 | -0.10673002 |  0.136048071 | 0.98862720 | ns |\n",
       "| F:B-F:W |  0.06078763 | -0.04147336 |  0.163048621 | 0.40251562 | ns |\n",
       "| F:B-M:B |  0.04612861 | -0.07526044 |  0.167517652 | 0.74729926 | ns |\n",
       "\n"
      ],
      "text/plain": [
       "        diff        lwr         upr          p.adj      p.adj.signif\n",
       "F:W-M:W -0.12394017 -0.24202099 -0.005859349 0.03612587 *           \n",
       "M:B-M:W -0.10928114 -0.24426659  0.025704301 0.15243604 ns          \n",
       "F:B-M:W -0.06315254 -0.18123336  0.054928282 0.49582661 ns          \n",
       "M:B-F:W  0.01465902 -0.10673002  0.136048071 0.98862720 ns          \n",
       "F:B-F:W  0.06078763 -0.04147336  0.163048621 0.40251562 ns          \n",
       "F:B-M:B  0.04612861 -0.07526044  0.167517652 0.74729926 ns          "
      ]
     },
     "metadata": {},
     "output_type": "display_data"
    }
   ],
   "source": [
    "# post hoc for sex and race anova\n",
    "three_tukey = TukeyHSD(three_anova_sex_race)\n",
    "\n",
    "three_tukey_df = data.frame(three_tukey$`Sex:Race`) %>%\n",
    "    #mutate(p.adj.signif = ifelse(p.adj < 0.05, \"*\", \"ns\")) %>%\n",
    "    # adding a col that contains the label to be plotted\n",
    "    add_significance(\"p.adj\")\n",
    "\n",
    "three_tukey_df"
   ]
  },
  {
   "cell_type": "markdown",
   "id": "fbb972bc-5fe7-41a8-a50c-b995524cf222",
   "metadata": {},
   "source": [
    "There are statistically significant differences in acute allostatic load (stress) between non-smokers and cigarette smokers (p value = 0.02). The interaction between sex and race was significant when using the ordinal weights derived from the 3 class BP prediction. Tukey's post hoc tests revealed that white males have a lower acute AL than white females (p adj < 0.05)."
   ]
  },
  {
   "cell_type": "code",
   "execution_count": 68,
   "id": "f36a17f0-ba34-45ac-80a7-07ac024d3f9f",
   "metadata": {},
   "outputs": [
    {
     "data": {
      "image/png": "[encoded data removed]",
      "text/plain": [
       "plot without title"
      ]
     },
     "metadata": {
      "image/png": {
       "height": 360,
       "width": 480
      }
     },
     "output_type": "display_data"
    }
   ],
   "source": [
    "# # visualizing using boxplots\n",
    "options(repr.plot.width=8, repr.plot.height=6) #changing size\n",
    "\n",
    "ggplot(data = three_anova_df, aes(y = Acute_Load, x = Smoking_Status)) + \n",
    "  geom_boxplot() +\n",
    "  geom_point() + \n",
    "\n",
    " stat_anova_test(wid = \"Smoking_Status\", p.adjust.method = \"none\", label = \"p = {p.format}\", \n",
    "                     label.x.npc = \"left\", size = 5)"
   ]
  },
  {
   "cell_type": "code",
   "execution_count": 71,
   "id": "187ca376-5dc9-4924-84da-f3a1b1e16bc0",
   "metadata": {},
   "outputs": [],
   "source": [
    "# insert another boxplot for sex and race"
   ]
  },
  {
   "cell_type": "code",
   "execution_count": 79,
   "id": "e766da71-7d29-4dfd-a1c2-057ebed90197",
   "metadata": {},
   "outputs": [],
   "source": [
    "# acute AL anova\n",
    "three_anova_smoking_race = aov(Chronic_Load ~ Smoking_Status * Race, data = three_anova_df)\n",
    "three_anova_smoking_sex = aov(Chronic_Load ~ Smoking_Status * Sex, data = three_anova_df)\n",
    "three_anova_sex_race = aov(Chronic_Load ~ Sex * Race, data = three_anova_df)\n",
    "two_anova_smoking_race = aov(Chronic_Load ~ Smoking_Status * Race, data = two_anova_df)\n",
    "two_anova_smoking_sex = aov(Chronic_Load ~ Smoking_Status * Sex, data = two_anova_df)\n",
    "two_anova_sex_race = aov(Chronic_Load ~ Sex * Race, data = two_anova_df)"
   ]
  },
  {
   "cell_type": "code",
   "execution_count": 80,
   "id": "e379cac8-9f13-4aa9-9049-ae7c243b377b",
   "metadata": {},
   "outputs": [
    {
     "data": {
      "text/plain": [
       "                    Df Sum Sq Mean Sq F value Pr(>F)  \n",
       "Smoking_Status       1  0.134  0.1342   0.544 0.4638  \n",
       "Race                 1  1.208  1.2078   4.893 0.0309 *\n",
       "Smoking_Status:Race  1  0.470  0.4699   1.903 0.1729  \n",
       "Residuals           59 14.565  0.2469                 \n",
       "---\n",
       "Signif. codes:  0 ‘***’ 0.001 ‘**’ 0.01 ‘*’ 0.05 ‘.’ 0.1 ‘ ’ 1"
      ]
     },
     "metadata": {},
     "output_type": "display_data"
    },
    {
     "data": {
      "text/plain": [
       "                   Df Sum Sq Mean Sq F value Pr(>F)\n",
       "Smoking_Status      1  0.134 0.13422   0.490  0.487\n",
       "Sex                 1  0.030 0.02969   0.108  0.743\n",
       "Smoking_Status:Sex  1  0.052 0.05197   0.190  0.665\n",
       "Residuals          59 16.161 0.27392               "
      ]
     },
     "metadata": {},
     "output_type": "display_data"
    },
    {
     "data": {
      "text/plain": [
       "            Df Sum Sq Mean Sq F value Pr(>F)  \n",
       "Sex          1  0.069  0.0686   0.298 0.5874  \n",
       "Race         1  1.155  1.1550   5.010 0.0290 *\n",
       "Sex:Race     1  1.552  1.5518   6.731 0.0119 *\n",
       "Residuals   59 13.602  0.2305                 \n",
       "---\n",
       "Signif. codes:  0 ‘***’ 0.001 ‘**’ 0.01 ‘*’ 0.05 ‘.’ 0.1 ‘ ’ 1"
      ]
     },
     "metadata": {},
     "output_type": "display_data"
    }
   ],
   "source": [
    "summary(three_anova_smoking_race) \n",
    "summary(three_anova_smoking_sex)\n",
    "summary(three_anova_sex_race)"
   ]
  },
  {
   "cell_type": "code",
   "execution_count": 81,
   "id": "0249bdb8-f68a-4578-894a-8d9be36fe078",
   "metadata": {},
   "outputs": [
    {
     "data": {
      "text/plain": [
       "                    Df Sum Sq Mean Sq F value Pr(>F)  \n",
       "Smoking_Status       1  0.134  0.1342   0.544 0.4638  \n",
       "Race                 1  1.208  1.2078   4.893 0.0309 *\n",
       "Smoking_Status:Race  1  0.470  0.4699   1.903 0.1729  \n",
       "Residuals           59 14.565  0.2469                 \n",
       "---\n",
       "Signif. codes:  0 ‘***’ 0.001 ‘**’ 0.01 ‘*’ 0.05 ‘.’ 0.1 ‘ ’ 1"
      ]
     },
     "metadata": {},
     "output_type": "display_data"
    },
    {
     "data": {
      "text/plain": [
       "                   Df Sum Sq Mean Sq F value Pr(>F)\n",
       "Smoking_Status      1  0.134 0.13422   0.490  0.487\n",
       "Sex                 1  0.030 0.02969   0.108  0.743\n",
       "Smoking_Status:Sex  1  0.052 0.05197   0.190  0.665\n",
       "Residuals          59 16.161 0.27392               "
      ]
     },
     "metadata": {},
     "output_type": "display_data"
    },
    {
     "data": {
      "text/plain": [
       "            Df Sum Sq Mean Sq F value Pr(>F)  \n",
       "Sex          1  0.069  0.0686   0.298 0.5874  \n",
       "Race         1  1.155  1.1550   5.010 0.0290 *\n",
       "Sex:Race     1  1.552  1.5518   6.731 0.0119 *\n",
       "Residuals   59 13.602  0.2305                 \n",
       "---\n",
       "Signif. codes:  0 ‘***’ 0.001 ‘**’ 0.01 ‘*’ 0.05 ‘.’ 0.1 ‘ ’ 1"
      ]
     },
     "metadata": {},
     "output_type": "display_data"
    }
   ],
   "source": [
    "summary(two_anova_smoking_race)\n",
    "summary(two_anova_smoking_sex)\n",
    "summary(two_anova_sex_race)"
   ]
  },
  {
   "cell_type": "code",
   "execution_count": 82,
   "id": "62102d95-6661-41fd-873d-0b39ba08a25e",
   "metadata": {},
   "outputs": [
    {
     "data": {
      "text/html": [
       "<table class=\"dataframe\">\n",
       "<caption>A data.frame: 6 × 5</caption>\n",
       "<thead>\n",
       "\t<tr><th></th><th scope=col>diff</th><th scope=col>lwr</th><th scope=col>upr</th><th scope=col>p.adj</th><th scope=col>p.adj.signif</th></tr>\n",
       "\t<tr><th></th><th scope=col>&lt;dbl&gt;</th><th scope=col>&lt;dbl&gt;</th><th scope=col>&lt;dbl&gt;</th><th scope=col>&lt;dbl&gt;</th><th scope=col>&lt;chr&gt;</th></tr>\n",
       "</thead>\n",
       "<tbody>\n",
       "\t<tr><th scope=row>F:W-M:W</th><td>-0.2545174</td><td>-0.71803895</td><td>0.2090041</td><td>0.472873338</td><td>ns</td></tr>\n",
       "\t<tr><th scope=row>M:B-M:W</th><td>-0.1435876</td><td>-0.67346752</td><td>0.3862924</td><td>0.890186474</td><td>ns</td></tr>\n",
       "\t<tr><th scope=row>F:B-M:W</th><td> 0.2542623</td><td>-0.20925925</td><td>0.7177838</td><td>0.473752729</td><td>ns</td></tr>\n",
       "\t<tr><th scope=row>M:B-F:W</th><td> 0.1109299</td><td>-0.36557797</td><td>0.5874377</td><td>0.926756034</td><td>ns</td></tr>\n",
       "\t<tr><th scope=row>F:B-F:W</th><td> 0.5087797</td><td> 0.10735828</td><td>0.9102011</td><td>0.007497662</td><td>**</td></tr>\n",
       "\t<tr><th scope=row>F:B-M:B</th><td> 0.3978498</td><td>-0.07865799</td><td>0.8743577</td><td>0.133124035</td><td>ns</td></tr>\n",
       "</tbody>\n",
       "</table>\n"
      ],
      "text/latex": [
       "A data.frame: 6 × 5\n",
       "\\begin{tabular}{r|lllll}\n",
       "  & diff & lwr & upr & p.adj & p.adj.signif\\\\\n",
       "  & <dbl> & <dbl> & <dbl> & <dbl> & <chr>\\\\\n",
       "\\hline\n",
       "\tF:W-M:W & -0.2545174 & -0.71803895 & 0.2090041 & 0.472873338 & ns\\\\\n",
       "\tM:B-M:W & -0.1435876 & -0.67346752 & 0.3862924 & 0.890186474 & ns\\\\\n",
       "\tF:B-M:W &  0.2542623 & -0.20925925 & 0.7177838 & 0.473752729 & ns\\\\\n",
       "\tM:B-F:W &  0.1109299 & -0.36557797 & 0.5874377 & 0.926756034 & ns\\\\\n",
       "\tF:B-F:W &  0.5087797 &  0.10735828 & 0.9102011 & 0.007497662 & **\\\\\n",
       "\tF:B-M:B &  0.3978498 & -0.07865799 & 0.8743577 & 0.133124035 & ns\\\\\n",
       "\\end{tabular}\n"
      ],
      "text/markdown": [
       "\n",
       "A data.frame: 6 × 5\n",
       "\n",
       "| <!--/--> | diff &lt;dbl&gt; | lwr &lt;dbl&gt; | upr &lt;dbl&gt; | p.adj &lt;dbl&gt; | p.adj.signif &lt;chr&gt; |\n",
       "|---|---|---|---|---|---|\n",
       "| F:W-M:W | -0.2545174 | -0.71803895 | 0.2090041 | 0.472873338 | ns |\n",
       "| M:B-M:W | -0.1435876 | -0.67346752 | 0.3862924 | 0.890186474 | ns |\n",
       "| F:B-M:W |  0.2542623 | -0.20925925 | 0.7177838 | 0.473752729 | ns |\n",
       "| M:B-F:W |  0.1109299 | -0.36557797 | 0.5874377 | 0.926756034 | ns |\n",
       "| F:B-F:W |  0.5087797 |  0.10735828 | 0.9102011 | 0.007497662 | ** |\n",
       "| F:B-M:B |  0.3978498 | -0.07865799 | 0.8743577 | 0.133124035 | ns |\n",
       "\n"
      ],
      "text/plain": [
       "        diff       lwr         upr       p.adj       p.adj.signif\n",
       "F:W-M:W -0.2545174 -0.71803895 0.2090041 0.472873338 ns          \n",
       "M:B-M:W -0.1435876 -0.67346752 0.3862924 0.890186474 ns          \n",
       "F:B-M:W  0.2542623 -0.20925925 0.7177838 0.473752729 ns          \n",
       "M:B-F:W  0.1109299 -0.36557797 0.5874377 0.926756034 ns          \n",
       "F:B-F:W  0.5087797  0.10735828 0.9102011 0.007497662 **          \n",
       "F:B-M:B  0.3978498 -0.07865799 0.8743577 0.133124035 ns          "
      ]
     },
     "metadata": {},
     "output_type": "display_data"
    }
   ],
   "source": [
    "# post hoc for sex and race anova\n",
    "three_tukey = TukeyHSD(three_anova_sex_race)\n",
    "\n",
    "three_tukey_df = data.frame(three_tukey$`Sex:Race`) %>%\n",
    "    #mutate(p.adj.signif = ifelse(p.adj < 0.05, \"*\", \"ns\")) %>%\n",
    "    # adding a col that contains the label to be plotted\n",
    "    add_significance(\"p.adj\")\n",
    "\n",
    "three_tukey_df"
   ]
  },
  {
   "cell_type": "markdown",
   "id": "f4e70cce-1873-477e-8cf8-3f292f035737",
   "metadata": {},
   "source": [
    "There are statistically significant differences in chronic allostatic load (stress) based on race (p value = 0.03). The interaction between sex and race was significant (p value < 0.01). \n",
    "\n",
    "Tukey's post hoc tests revealed that white females have a higher chronic AL than black females (p adj < 0.05)."
   ]
  },
  {
   "cell_type": "code",
   "execution_count": 83,
   "id": "6a4330e8-1d40-4a8b-8114-f6c7519d8ce6",
   "metadata": {},
   "outputs": [],
   "source": [
    "# insert another boxplot for sex and race"
   ]
  },
  {
   "cell_type": "code",
   "execution_count": 84,
   "id": "604dc888-5c34-41e7-b942-e4bd60411f5f",
   "metadata": {},
   "outputs": [
    {
     "data": {
      "image/png": "[encoded data removed]",
      "text/plain": [
       "plot without title"
      ]
     },
     "metadata": {
      "image/png": {
       "height": 360,
       "width": 480
      }
     },
     "output_type": "display_data"
    }
   ],
   "source": [
    "ggplot(data = three_anova_df, aes(y = Chronic_Load, x = Race)) + \n",
    "  geom_boxplot() +\n",
    "  geom_point() + \n",
    "\n",
    " stat_anova_test(wid = \"Race\", p.adjust.method = \"none\", label = \"p = {p.format}\", \n",
    "                     label.x.npc = \"left\", size = 5)"
   ]
  },
  {
   "cell_type": "markdown",
   "id": "161ca526-b740-45fb-807a-6378234d8a88",
   "metadata": {},
   "source": [
    "# Recap of Significant Results\n",
    "\n",
    "**Overall AL**\n",
    "+ *Race*\n",
    "  + black subjects have a higher overall AL than white subjects\n",
    "+ *Interaction of Sex and Race*\n",
    "    + black females have a higher overall AL than white females\n",
    "\n",
    "**Acute AL**\n",
    "+ *Smoking Status*\n",
    "    + non-smokers had a higher acute AL than cigarette smokers\n",
    "+ *Interaction of Sex and Race*\n",
    "    + only significant when using the ordinal weights derived from the 3 class BP prediction\n",
    "    + white females have a higher acute AL than white males\n",
    "\n",
    "**Chronic AL**\n",
    "+ *Race*\n",
    "  + black subjects have a higher chronic AL than white subjects\n",
    "+ *Interaction of Sex and Race*\n",
    "    + black females have a higher chronic AL than white females"
   ]
  },
  {
   "cell_type": "code",
   "execution_count": null,
   "id": "8528875d-e6d5-417a-b754-b8b620a89330",
   "metadata": {},
   "outputs": [],
   "source": []
  }
 ],
 "metadata": {
  "kernelspec": {
   "display_name": "R",
   "language": "R",
   "name": "ir"
  },
  "language_info": {
   "codemirror_mode": "r",
   "file_extension": ".r",
   "mimetype": "text/x-r-source",
   "name": "R",
   "pygments_lexer": "r",
   "version": "4.3.1"
  }
 },
 "nbformat": 4,
 "nbformat_minor": 5
}
