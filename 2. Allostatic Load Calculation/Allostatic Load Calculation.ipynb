{
 "cells": [
  {
   "cell_type": "code",
   "execution_count": 4,
   "id": "9863b40f-c1d0-4b36-83a8-07055c92fe8f",
   "metadata": {},
   "outputs": [
    {
     "name": "stderr",
     "output_type": "stream",
     "text": [
      "\n",
      "Attaching package: ‘reshape2’\n",
      "\n",
      "\n",
      "The following object is masked from ‘package:tidyr’:\n",
      "\n",
      "    smiths\n",
      "\n",
      "\n",
      "\n",
      "Attaching package: ‘rstatix’\n",
      "\n",
      "\n",
      "The following object is masked from ‘package:stats’:\n",
      "\n",
      "    filter\n",
      "\n",
      "\n",
      "\n",
      "Attaching package: ‘cowplot’\n",
      "\n",
      "\n",
      "The following object is masked from ‘package:lubridate’:\n",
      "\n",
      "    stamp\n",
      "\n",
      "\n",
      "\n",
      "Attaching package: ‘ggpubr’\n",
      "\n",
      "\n",
      "The following object is masked from ‘package:cowplot’:\n",
      "\n",
      "    get_legend\n",
      "\n",
      "\n",
      "Loading required package: mvtnorm\n",
      "\n",
      "Loading required package: survival\n",
      "\n",
      "Loading required package: TH.data\n",
      "\n",
      "Loading required package: MASS\n",
      "\n",
      "\n",
      "Attaching package: ‘MASS’\n",
      "\n",
      "\n",
      "The following object is masked from ‘package:rstatix’:\n",
      "\n",
      "    select\n",
      "\n",
      "\n",
      "The following object is masked from ‘package:gtsummary’:\n",
      "\n",
      "    select\n",
      "\n",
      "\n",
      "The following object is masked from ‘package:dplyr’:\n",
      "\n",
      "    select\n",
      "\n",
      "\n",
      "\n",
      "Attaching package: ‘TH.data’\n",
      "\n",
      "\n",
      "The following object is masked from ‘package:MASS’:\n",
      "\n",
      "    geyser\n",
      "\n",
      "\n",
      "\n",
      "Attaching package: ‘rlang’\n",
      "\n",
      "\n",
      "The following objects are masked from ‘package:purrr’:\n",
      "\n",
      "    %@%, flatten, flatten_chr, flatten_dbl, flatten_int, flatten_lgl,\n",
      "    flatten_raw, invoke, splice\n",
      "\n",
      "\n"
     ]
    }
   ],
   "source": [
    "Output = ('/Users/alexis/Library/CloudStorage/OneDrive-UniversityofNorthCarolinaatChapelHill/CEMALB_DataAnalysisPM/Projects/P1012. Allostatic Load/P1012.3. Analyses/P1012.3.2. Ordinal Regression/Output')\n",
    "cur_date = \"062024\"\n",
    "\n",
    "library(readxl)\n",
    "library(openxlsx)\n",
    "library(tidyverse)\n",
    "library(gtsummary)\n",
    "library(ordinalNet)\n",
    "library(reshape2)\n",
    "library(rstatix)\n",
    "library(ggrepel)\n",
    "library(ggsci)\n",
    "library(cowplot)\n",
    "library(ggpubr)\n",
    "library(multcomp)\n",
    "library(rlang)\n",
    "\n",
    "# reading in file\n",
    "bp_df = data.frame(read_excel(\"Input/Allostatic_Mediator_Data_050824.xlsx\", sheet = 4)) \n",
    "subject_info_df = data.frame(read_excel(\"Input/Subject_Info_050824.xlsx\", sheet = 2))\n",
    "mediator_scores_df = data.frame(read_excel(\"Input/Mediator_Scores_061424.xlsx\"))"
   ]
  },
  {
   "cell_type": "code",
   "execution_count": 5,
   "id": "4eae0161-33b8-4c89-80c2-75116265c536",
   "metadata": {},
   "outputs": [
    {
     "data": {
      "text/html": [
       "<table class=\"dataframe\">\n",
       "<caption>A data.frame: 6 × 4</caption>\n",
       "<thead>\n",
       "\t<tr><th></th><th scope=col>Subject_ID</th><th scope=col>Systolic</th><th scope=col>Diastolic</th><th scope=col>BP_Classification</th></tr>\n",
       "\t<tr><th></th><th scope=col>&lt;chr&gt;</th><th scope=col>&lt;dbl&gt;</th><th scope=col>&lt;dbl&gt;</th><th scope=col>&lt;chr&gt;</th></tr>\n",
       "</thead>\n",
       "<tbody>\n",
       "\t<tr><th scope=row>1</th><td>CS_M_21_W_5 </td><td>114</td><td>70</td><td>N</td></tr>\n",
       "\t<tr><th scope=row>2</th><td>CS_M_24_W_8 </td><td>118</td><td>71</td><td>N</td></tr>\n",
       "\t<tr><th scope=row>3</th><td>CS_M_25_W_10</td><td>121</td><td>83</td><td>E</td></tr>\n",
       "\t<tr><th scope=row>4</th><td>CS_M_28_W_16</td><td>115</td><td>74</td><td>N</td></tr>\n",
       "\t<tr><th scope=row>5</th><td>CS_M_29_W_17</td><td>118</td><td>80</td><td>N</td></tr>\n",
       "\t<tr><th scope=row>6</th><td>CS_F_31_B_21</td><td>112</td><td>77</td><td>N</td></tr>\n",
       "</tbody>\n",
       "</table>\n"
      ],
      "text/latex": [
       "A data.frame: 6 × 4\n",
       "\\begin{tabular}{r|llll}\n",
       "  & Subject\\_ID & Systolic & Diastolic & BP\\_Classification\\\\\n",
       "  & <chr> & <dbl> & <dbl> & <chr>\\\\\n",
       "\\hline\n",
       "\t1 & CS\\_M\\_21\\_W\\_5  & 114 & 70 & N\\\\\n",
       "\t2 & CS\\_M\\_24\\_W\\_8  & 118 & 71 & N\\\\\n",
       "\t3 & CS\\_M\\_25\\_W\\_10 & 121 & 83 & E\\\\\n",
       "\t4 & CS\\_M\\_28\\_W\\_16 & 115 & 74 & N\\\\\n",
       "\t5 & CS\\_M\\_29\\_W\\_17 & 118 & 80 & N\\\\\n",
       "\t6 & CS\\_F\\_31\\_B\\_21 & 112 & 77 & N\\\\\n",
       "\\end{tabular}\n"
      ],
      "text/markdown": [
       "\n",
       "A data.frame: 6 × 4\n",
       "\n",
       "| <!--/--> | Subject_ID &lt;chr&gt; | Systolic &lt;dbl&gt; | Diastolic &lt;dbl&gt; | BP_Classification &lt;chr&gt; |\n",
       "|---|---|---|---|---|\n",
       "| 1 | CS_M_21_W_5  | 114 | 70 | N |\n",
       "| 2 | CS_M_24_W_8  | 118 | 71 | N |\n",
       "| 3 | CS_M_25_W_10 | 121 | 83 | E |\n",
       "| 4 | CS_M_28_W_16 | 115 | 74 | N |\n",
       "| 5 | CS_M_29_W_17 | 118 | 80 | N |\n",
       "| 6 | CS_F_31_B_21 | 112 | 77 | N |\n",
       "\n"
      ],
      "text/plain": [
       "  Subject_ID   Systolic Diastolic BP_Classification\n",
       "1 CS_M_21_W_5  114      70        N                \n",
       "2 CS_M_24_W_8  118      71        N                \n",
       "3 CS_M_25_W_10 121      83        E                \n",
       "4 CS_M_28_W_16 115      74        N                \n",
       "5 CS_M_29_W_17 118      80        N                \n",
       "6 CS_F_31_B_21 112      77        N                "
      ]
     },
     "metadata": {},
     "output_type": "display_data"
    },
    {
     "data": {
      "text/html": [
       "<table class=\"dataframe\">\n",
       "<caption>A data.frame: 6 × 8</caption>\n",
       "<thead>\n",
       "\t<tr><th></th><th scope=col>Study</th><th scope=col>Original_Subject_Number</th><th scope=col>Subject_ID</th><th scope=col>Subject_Number</th><th scope=col>Smoking_Status</th><th scope=col>Sex</th><th scope=col>Age</th><th scope=col>Race</th></tr>\n",
       "\t<tr><th></th><th scope=col>&lt;chr&gt;</th><th scope=col>&lt;dbl&gt;</th><th scope=col>&lt;chr&gt;</th><th scope=col>&lt;dbl&gt;</th><th scope=col>&lt;chr&gt;</th><th scope=col>&lt;chr&gt;</th><th scope=col>&lt;dbl&gt;</th><th scope=col>&lt;chr&gt;</th></tr>\n",
       "</thead>\n",
       "<tbody>\n",
       "\t<tr><th scope=row>1</th><td>FM2       </td><td> 97</td><td>CS_M_18_B_1</td><td>1</td><td>CS</td><td>M</td><td>18</td><td>B</td></tr>\n",
       "\t<tr><th scope=row>2</th><td>FM2       </td><td> 99</td><td>CS_F_20_W_2</td><td>2</td><td>CS</td><td>F</td><td>20</td><td>W</td></tr>\n",
       "\t<tr><th scope=row>3</th><td>FM2       </td><td>101</td><td>CS_F_20_W_3</td><td>3</td><td>CS</td><td>F</td><td>20</td><td>W</td></tr>\n",
       "\t<tr><th scope=row>4</th><td>FM2       </td><td> 98</td><td>CS_F_21_W_4</td><td>4</td><td>CS</td><td>F</td><td>21</td><td>W</td></tr>\n",
       "\t<tr><th scope=row>5</th><td>TCORS LAIV</td><td> 39</td><td>CS_M_21_W_5</td><td>5</td><td>CS</td><td>M</td><td>21</td><td>W</td></tr>\n",
       "\t<tr><th scope=row>6</th><td>FM2       </td><td>100</td><td>CS_F_22_W_6</td><td>6</td><td>CS</td><td>F</td><td>22</td><td>W</td></tr>\n",
       "</tbody>\n",
       "</table>\n"
      ],
      "text/latex": [
       "A data.frame: 6 × 8\n",
       "\\begin{tabular}{r|llllllll}\n",
       "  & Study & Original\\_Subject\\_Number & Subject\\_ID & Subject\\_Number & Smoking\\_Status & Sex & Age & Race\\\\\n",
       "  & <chr> & <dbl> & <chr> & <dbl> & <chr> & <chr> & <dbl> & <chr>\\\\\n",
       "\\hline\n",
       "\t1 & FM2        &  97 & CS\\_M\\_18\\_B\\_1 & 1 & CS & M & 18 & B\\\\\n",
       "\t2 & FM2        &  99 & CS\\_F\\_20\\_W\\_2 & 2 & CS & F & 20 & W\\\\\n",
       "\t3 & FM2        & 101 & CS\\_F\\_20\\_W\\_3 & 3 & CS & F & 20 & W\\\\\n",
       "\t4 & FM2        &  98 & CS\\_F\\_21\\_W\\_4 & 4 & CS & F & 21 & W\\\\\n",
       "\t5 & TCORS LAIV &  39 & CS\\_M\\_21\\_W\\_5 & 5 & CS & M & 21 & W\\\\\n",
       "\t6 & FM2        & 100 & CS\\_F\\_22\\_W\\_6 & 6 & CS & F & 22 & W\\\\\n",
       "\\end{tabular}\n"
      ],
      "text/markdown": [
       "\n",
       "A data.frame: 6 × 8\n",
       "\n",
       "| <!--/--> | Study &lt;chr&gt; | Original_Subject_Number &lt;dbl&gt; | Subject_ID &lt;chr&gt; | Subject_Number &lt;dbl&gt; | Smoking_Status &lt;chr&gt; | Sex &lt;chr&gt; | Age &lt;dbl&gt; | Race &lt;chr&gt; |\n",
       "|---|---|---|---|---|---|---|---|---|\n",
       "| 1 | FM2        |  97 | CS_M_18_B_1 | 1 | CS | M | 18 | B |\n",
       "| 2 | FM2        |  99 | CS_F_20_W_2 | 2 | CS | F | 20 | W |\n",
       "| 3 | FM2        | 101 | CS_F_20_W_3 | 3 | CS | F | 20 | W |\n",
       "| 4 | FM2        |  98 | CS_F_21_W_4 | 4 | CS | F | 21 | W |\n",
       "| 5 | TCORS LAIV |  39 | CS_M_21_W_5 | 5 | CS | M | 21 | W |\n",
       "| 6 | FM2        | 100 | CS_F_22_W_6 | 6 | CS | F | 22 | W |\n",
       "\n"
      ],
      "text/plain": [
       "  Study      Original_Subject_Number Subject_ID  Subject_Number Smoking_Status\n",
       "1 FM2         97                     CS_M_18_B_1 1              CS            \n",
       "2 FM2         99                     CS_F_20_W_2 2              CS            \n",
       "3 FM2        101                     CS_F_20_W_3 3              CS            \n",
       "4 FM2         98                     CS_F_21_W_4 4              CS            \n",
       "5 TCORS LAIV  39                     CS_M_21_W_5 5              CS            \n",
       "6 FM2        100                     CS_F_22_W_6 6              CS            \n",
       "  Sex Age Race\n",
       "1 M   18  B   \n",
       "2 F   20  W   \n",
       "3 F   20  W   \n",
       "4 F   21  W   \n",
       "5 M   21  W   \n",
       "6 F   22  W   "
      ]
     },
     "metadata": {},
     "output_type": "display_data"
    },
    {
     "data": {
      "text/html": [
       "<table class=\"dataframe\">\n",
       "<caption>A data.frame: 6 × 3</caption>\n",
       "<thead>\n",
       "\t<tr><th></th><th scope=col>Variable</th><th scope=col>Subject_ID</th><th scope=col>Mediator_Score</th></tr>\n",
       "\t<tr><th></th><th scope=col>&lt;chr&gt;</th><th scope=col>&lt;chr&gt;</th><th scope=col>&lt;dbl&gt;</th></tr>\n",
       "</thead>\n",
       "<tbody>\n",
       "\t<tr><th scope=row>1</th><td>Cortisol</td><td>CS_M_18_B_1</td><td>0.4683470</td></tr>\n",
       "\t<tr><th scope=row>2</th><td>Cortisol</td><td>CS_F_20_W_2</td><td>0.8342112</td></tr>\n",
       "\t<tr><th scope=row>3</th><td>Cortisol</td><td>CS_F_20_W_3</td><td>0.1603803</td></tr>\n",
       "\t<tr><th scope=row>4</th><td>Cortisol</td><td>CS_F_21_W_4</td><td>0.4583014</td></tr>\n",
       "\t<tr><th scope=row>5</th><td>Cortisol</td><td>CS_M_21_W_5</td><td>0.3867217</td></tr>\n",
       "\t<tr><th scope=row>6</th><td>Cortisol</td><td>CS_F_22_W_6</td><td>0.1712352</td></tr>\n",
       "</tbody>\n",
       "</table>\n"
      ],
      "text/latex": [
       "A data.frame: 6 × 3\n",
       "\\begin{tabular}{r|lll}\n",
       "  & Variable & Subject\\_ID & Mediator\\_Score\\\\\n",
       "  & <chr> & <chr> & <dbl>\\\\\n",
       "\\hline\n",
       "\t1 & Cortisol & CS\\_M\\_18\\_B\\_1 & 0.4683470\\\\\n",
       "\t2 & Cortisol & CS\\_F\\_20\\_W\\_2 & 0.8342112\\\\\n",
       "\t3 & Cortisol & CS\\_F\\_20\\_W\\_3 & 0.1603803\\\\\n",
       "\t4 & Cortisol & CS\\_F\\_21\\_W\\_4 & 0.4583014\\\\\n",
       "\t5 & Cortisol & CS\\_M\\_21\\_W\\_5 & 0.3867217\\\\\n",
       "\t6 & Cortisol & CS\\_F\\_22\\_W\\_6 & 0.1712352\\\\\n",
       "\\end{tabular}\n"
      ],
      "text/markdown": [
       "\n",
       "A data.frame: 6 × 3\n",
       "\n",
       "| <!--/--> | Variable &lt;chr&gt; | Subject_ID &lt;chr&gt; | Mediator_Score &lt;dbl&gt; |\n",
       "|---|---|---|---|\n",
       "| 1 | Cortisol | CS_M_18_B_1 | 0.4683470 |\n",
       "| 2 | Cortisol | CS_F_20_W_2 | 0.8342112 |\n",
       "| 3 | Cortisol | CS_F_20_W_3 | 0.1603803 |\n",
       "| 4 | Cortisol | CS_F_21_W_4 | 0.4583014 |\n",
       "| 5 | Cortisol | CS_M_21_W_5 | 0.3867217 |\n",
       "| 6 | Cortisol | CS_F_22_W_6 | 0.1712352 |\n",
       "\n"
      ],
      "text/plain": [
       "  Variable Subject_ID  Mediator_Score\n",
       "1 Cortisol CS_M_18_B_1 0.4683470     \n",
       "2 Cortisol CS_F_20_W_2 0.8342112     \n",
       "3 Cortisol CS_F_20_W_3 0.1603803     \n",
       "4 Cortisol CS_F_21_W_4 0.4583014     \n",
       "5 Cortisol CS_M_21_W_5 0.3867217     \n",
       "6 Cortisol CS_F_22_W_6 0.1712352     "
      ]
     },
     "metadata": {},
     "output_type": "display_data"
    }
   ],
   "source": [
    "head(bp_df)\n",
    "head(subject_info_df)\n",
    "head(mediator_scores_df)"
   ]
  },
  {
   "cell_type": "markdown",
   "id": "464d1b6c-2cb7-4d92-b213-0bf3eea33b9c",
   "metadata": {},
   "source": [
    "Calculating allostatic load (AL) scores for each subject, which serves as a measure for stress.\n",
    "\n",
    "1. **Acute Stress**\n",
    "\n",
    "    In this analysis, we're using [ordinal regression](https://www.statisticssolutions.com/free-resources/directory-of-statistical-analyses/ordinal-regression/) to predict blood pressure classification using mediator scores from 3 acute stress biomarkers (Noradrenaline, epinephrine, and cortisol).\n",
    "    \n",
    "\n",
    "3. **Chronic (secondary/tertiary) Stress**\n",
    "   \n",
    "    No deriving of ordinal weights in this analysis, since we don't have an outcome that we measured associated with chronic stress. We'll include 4 chronic stress biomarkers (CRP, Hba1c, Fibrnogen, and HDL). \n",
    "    \n",
    "\n",
    "5. **Overall AL**\n",
    "   \n",
    "    Summing the acute and chronic AL scores.\n",
    "\n",
    "# Acute Sress\n",
    "Starting by combining the dataframes."
   ]
  },
  {
   "cell_type": "code",
   "execution_count": 6,
   "id": "5a21565a-4207-422e-bd1f-e57fc4ce8b43",
   "metadata": {},
   "outputs": [
    {
     "name": "stderr",
     "output_type": "stream",
     "text": [
      "\u001b[1m\u001b[22mJoining with `by = join_by(Subject_ID)`\n",
      "\u001b[1m\u001b[22mJoining with `by = join_by(Subject_ID)`\n"
     ]
    },
    {
     "data": {
      "text/html": [
       "<table class=\"dataframe\">\n",
       "<caption>A tibble: 6 × 5</caption>\n",
       "<thead>\n",
       "\t<tr><th scope=col>Subject_ID</th><th scope=col>Cortisol</th><th scope=col>Noradrenaline</th><th scope=col>Epinephrine</th><th scope=col>BP_Classification</th></tr>\n",
       "\t<tr><th scope=col>&lt;chr&gt;</th><th scope=col>&lt;dbl&gt;</th><th scope=col>&lt;dbl&gt;</th><th scope=col>&lt;dbl&gt;</th><th scope=col>&lt;chr&gt;</th></tr>\n",
       "</thead>\n",
       "<tbody>\n",
       "\t<tr><td>CS_M_21_W_5 </td><td>0.3867217</td><td>0.9216080</td><td>0.02133767</td><td>N</td></tr>\n",
       "\t<tr><td>CS_M_24_W_8 </td><td>0.4378417</td><td>0.5058597</td><td>0.02155180</td><td>N</td></tr>\n",
       "\t<tr><td>CS_M_25_W_10</td><td>0.2932014</td><td>0.8479016</td><td>0.18657420</td><td>E</td></tr>\n",
       "\t<tr><td>CS_M_28_W_16</td><td>0.2416750</td><td>0.5058597</td><td>0.48633181</td><td>N</td></tr>\n",
       "\t<tr><td>CS_M_29_W_17</td><td>0.5472276</td><td>0.3352036</td><td>0.35658497</td><td>N</td></tr>\n",
       "\t<tr><td>CS_F_31_B_21</td><td>0.3620846</td><td>0.2770528</td><td>0.16448963</td><td>N</td></tr>\n",
       "</tbody>\n",
       "</table>\n"
      ],
      "text/latex": [
       "A tibble: 6 × 5\n",
       "\\begin{tabular}{lllll}\n",
       " Subject\\_ID & Cortisol & Noradrenaline & Epinephrine & BP\\_Classification\\\\\n",
       " <chr> & <dbl> & <dbl> & <dbl> & <chr>\\\\\n",
       "\\hline\n",
       "\t CS\\_M\\_21\\_W\\_5  & 0.3867217 & 0.9216080 & 0.02133767 & N\\\\\n",
       "\t CS\\_M\\_24\\_W\\_8  & 0.4378417 & 0.5058597 & 0.02155180 & N\\\\\n",
       "\t CS\\_M\\_25\\_W\\_10 & 0.2932014 & 0.8479016 & 0.18657420 & E\\\\\n",
       "\t CS\\_M\\_28\\_W\\_16 & 0.2416750 & 0.5058597 & 0.48633181 & N\\\\\n",
       "\t CS\\_M\\_29\\_W\\_17 & 0.5472276 & 0.3352036 & 0.35658497 & N\\\\\n",
       "\t CS\\_F\\_31\\_B\\_21 & 0.3620846 & 0.2770528 & 0.16448963 & N\\\\\n",
       "\\end{tabular}\n"
      ],
      "text/markdown": [
       "\n",
       "A tibble: 6 × 5\n",
       "\n",
       "| Subject_ID &lt;chr&gt; | Cortisol &lt;dbl&gt; | Noradrenaline &lt;dbl&gt; | Epinephrine &lt;dbl&gt; | BP_Classification &lt;chr&gt; |\n",
       "|---|---|---|---|---|\n",
       "| CS_M_21_W_5  | 0.3867217 | 0.9216080 | 0.02133767 | N |\n",
       "| CS_M_24_W_8  | 0.4378417 | 0.5058597 | 0.02155180 | N |\n",
       "| CS_M_25_W_10 | 0.2932014 | 0.8479016 | 0.18657420 | E |\n",
       "| CS_M_28_W_16 | 0.2416750 | 0.5058597 | 0.48633181 | N |\n",
       "| CS_M_29_W_17 | 0.5472276 | 0.3352036 | 0.35658497 | N |\n",
       "| CS_F_31_B_21 | 0.3620846 | 0.2770528 | 0.16448963 | N |\n",
       "\n"
      ],
      "text/plain": [
       "  Subject_ID   Cortisol  Noradrenaline Epinephrine BP_Classification\n",
       "1 CS_M_21_W_5  0.3867217 0.9216080     0.02133767  N                \n",
       "2 CS_M_24_W_8  0.4378417 0.5058597     0.02155180  N                \n",
       "3 CS_M_25_W_10 0.2932014 0.8479016     0.18657420  E                \n",
       "4 CS_M_28_W_16 0.2416750 0.5058597     0.48633181  N                \n",
       "5 CS_M_29_W_17 0.5472276 0.3352036     0.35658497  N                \n",
       "6 CS_F_31_B_21 0.3620846 0.2770528     0.16448963  N                "
      ]
     },
     "metadata": {},
     "output_type": "display_data"
    }
   ],
   "source": [
    "# creating a vector for variables that increase acute stress\n",
    "acute_biomarkers = c('Cortisol','Noradrenaline','Epinephrine')\n",
    "\n",
    "ordinal_regression = function(dataset){\n",
    "    # add words!!!!!\n",
    "    # creating 1 df\n",
    "    ordinal_regression_df = inner_join(bp_df[,c(1,4)], subject_info_df[,3:8]) %>%\n",
    "        # adding mediator scores data\n",
    "        inner_join(dataset[,1:3]) %>%\n",
    "        # obtaining acute biomarkers only\n",
    "        filter(Variable %in% acute_biomarkers) %>%\n",
    "        pivot_wider(names_from = Variable, values_from = Mediator_Score)\n",
    "\n",
    "    #reordering and removing some columns\n",
    "    ordinal_regression_df = ordinal_regression_df[,c(1,8:10,2)]\n",
    "\n",
    "    return(ordinal_regression_df)\n",
    "    }\n",
    "\n",
    "# calling fn\n",
    "reg_df = ordinal_regression(mediator_scores_df)\n",
    "\n",
    "head(reg_df)"
   ]
  },
  {
   "cell_type": "markdown",
   "id": "f1b6da12-ec7e-4664-a004-cf16a459bd2a",
   "metadata": {},
   "source": [
    "## Assessing Distributions\n",
    "\n",
    "Looking at the distributions of blood pressure classifications and the mediator scores for each variable."
   ]
  },
  {
   "cell_type": "code",
   "execution_count": 7,
   "id": "f25bd531-8ae4-482d-8393-01b3e14c3697",
   "metadata": {},
   "outputs": [
    {
     "data": {
      "text/plain": [
       "\n",
       " 1  2  E  N \n",
       " 6  1  9 18 "
      ]
     },
     "metadata": {},
     "output_type": "display_data"
    }
   ],
   "source": [
    "table(reg_df$BP_Classification)"
   ]
  },
  {
   "cell_type": "markdown",
   "id": "94c0aed7-3ac1-442e-909c-571fd877dc13",
   "metadata": {},
   "source": [
    "The stage 1 and stage 2 classes are on the smaller side with 6 and 1 subject, respectively. There weren't enough observation of the stage 2 class to perform SMOTE; therefore, the blood pressure classes will be condensed in two different ways:\n",
    "\n",
    "+ **3 classes**: Normal subjects, at risk (elevated) subjects, and hypertensive subjects (formerly stage 1 and stage 2 subjects)\n",
    "+ **2 classes**: Normal subjects and hypertensive subjects (formerly elevated, stage 1, and stage 2 subjects)"
   ]
  },
  {
   "cell_type": "code",
   "execution_count": 8,
   "id": "99a5e42c-20e3-4df2-ac5d-770b0fea89dc",
   "metadata": {},
   "outputs": [],
   "source": [
    "three_reg_df = reg_df %>%\n",
    "    mutate(BP_Classification = ifelse(BP_Classification %in% c(\"1\", \"2\"), \"H\", BP_Classification))\n",
    "\n",
    "two_reg_df = reg_df %>%\n",
    "    mutate(BP_Classification = ifelse(BP_Classification %in% c(\"1\", \"2\", \"E\"), \"H\", BP_Classification))\n",
    "\n",
    "# turning BP into a factor\n",
    "three_reg_df$BP_Classification = factor(three_reg_df$BP_Classification, levels = c(\"N\", \"E\", \"H\"))\n",
    "two_reg_df$BP_Classification = factor(two_reg_df$BP_Classification, levels = c(\"N\", \"H\"))"
   ]
  },
  {
   "cell_type": "code",
   "execution_count": 9,
   "id": "f721cfc2-dd44-45e0-a939-58ab45044320",
   "metadata": {},
   "outputs": [
    {
     "data": {
      "text/plain": [
       "\n",
       " N  H \n",
       "18 16 "
      ]
     },
     "metadata": {},
     "output_type": "display_data"
    },
    {
     "data": {
      "text/plain": [
       "\n",
       " N  E  H \n",
       "18  9  7 "
      ]
     },
     "metadata": {},
     "output_type": "display_data"
    }
   ],
   "source": [
    "table(two_reg_df$BP_Classification)\n",
    "table(three_reg_df$BP_Classification)"
   ]
  },
  {
   "cell_type": "markdown",
   "id": "1c014177-81db-481f-ade8-6fb5db99e64f",
   "metadata": {},
   "source": [
    "Now assessing normality of the biomarkers using a shapiro wilk test."
   ]
  },
  {
   "cell_type": "code",
   "execution_count": 10,
   "id": "53c60b0a-e1f6-42bf-9766-a2389efcdc4a",
   "metadata": {},
   "outputs": [
    {
     "data": {
      "text/html": [
       "<table class=\"dataframe\">\n",
       "<caption>A data.frame: 3 × 4</caption>\n",
       "<thead>\n",
       "\t<tr><th></th><th scope=col>statistic</th><th scope=col>p.value</th><th scope=col>method</th><th scope=col>Normality</th></tr>\n",
       "\t<tr><th></th><th scope=col>&lt;dbl&gt;</th><th scope=col>&lt;dbl&gt;</th><th scope=col>&lt;chr&gt;</th><th scope=col>&lt;chr&gt;</th></tr>\n",
       "</thead>\n",
       "<tbody>\n",
       "\t<tr><th scope=row>Cortisol</th><td>0.7429965</td><td>2.411103e-06</td><td>Shapiro-Wilk normality test</td><td>Non-normal</td></tr>\n",
       "\t<tr><th scope=row>Noradrenaline</th><td>0.9351777</td><td>4.436357e-02</td><td>Shapiro-Wilk normality test</td><td>Non-normal</td></tr>\n",
       "\t<tr><th scope=row>Epinephrine</th><td>0.9389878</td><td>5.752138e-02</td><td>Shapiro-Wilk normality test</td><td>Normal    </td></tr>\n",
       "</tbody>\n",
       "</table>\n"
      ],
      "text/latex": [
       "A data.frame: 3 × 4\n",
       "\\begin{tabular}{r|llll}\n",
       "  & statistic & p.value & method & Normality\\\\\n",
       "  & <dbl> & <dbl> & <chr> & <chr>\\\\\n",
       "\\hline\n",
       "\tCortisol & 0.7429965 & 2.411103e-06 & Shapiro-Wilk normality test & Non-normal\\\\\n",
       "\tNoradrenaline & 0.9351777 & 4.436357e-02 & Shapiro-Wilk normality test & Non-normal\\\\\n",
       "\tEpinephrine & 0.9389878 & 5.752138e-02 & Shapiro-Wilk normality test & Normal    \\\\\n",
       "\\end{tabular}\n"
      ],
      "text/markdown": [
       "\n",
       "A data.frame: 3 × 4\n",
       "\n",
       "| <!--/--> | statistic &lt;dbl&gt; | p.value &lt;dbl&gt; | method &lt;chr&gt; | Normality &lt;chr&gt; |\n",
       "|---|---|---|---|---|\n",
       "| Cortisol | 0.7429965 | 2.411103e-06 | Shapiro-Wilk normality test | Non-normal |\n",
       "| Noradrenaline | 0.9351777 | 4.436357e-02 | Shapiro-Wilk normality test | Non-normal |\n",
       "| Epinephrine | 0.9389878 | 5.752138e-02 | Shapiro-Wilk normality test | Normal     |\n",
       "\n"
      ],
      "text/plain": [
       "              statistic p.value      method                      Normality \n",
       "Cortisol      0.7429965 2.411103e-06 Shapiro-Wilk normality test Non-normal\n",
       "Noradrenaline 0.9351777 4.436357e-02 Shapiro-Wilk normality test Non-normal\n",
       "Epinephrine   0.9389878 5.752138e-02 Shapiro-Wilk normality test Normal    "
      ]
     },
     "metadata": {},
     "output_type": "display_data"
    }
   ],
   "source": [
    "# using a shapiro wilk test to assess normality\n",
    "do.call(rbind.data.frame, apply(reg_df[,2:4], 2, shapiro.test))[,1:3] %>%\n",
    "    # adding a column that clarifies whether or not a variable is normally distributed or not\n",
    "    mutate(Normality = ifelse(p.value < 0.05, \"Non-normal\", \"Normal\"))"
   ]
  },
  {
   "cell_type": "markdown",
   "id": "d87a942f-ff06-49b0-bcac-bd163b1e5b90",
   "metadata": {},
   "source": [
    "Only 1 variable was normally distributed; therefore, we'll perform a data transformation (pseudo log 2) to see if that helps."
   ]
  },
  {
   "cell_type": "code",
   "execution_count": 11,
   "id": "9362539d-ef9c-4ea3-95ac-6addbfa4bc30",
   "metadata": {},
   "outputs": [
    {
     "data": {
      "text/html": [
       "<table class=\"dataframe\">\n",
       "<caption>A tibble: 6 × 5</caption>\n",
       "<thead>\n",
       "\t<tr><th scope=col>Subject_ID</th><th scope=col>Cortisol</th><th scope=col>Noradrenaline</th><th scope=col>Epinephrine</th><th scope=col>BP_Classification</th></tr>\n",
       "\t<tr><th scope=col>&lt;chr&gt;</th><th scope=col>&lt;dbl&gt;</th><th scope=col>&lt;dbl&gt;</th><th scope=col>&lt;dbl&gt;</th><th scope=col>&lt;chr&gt;</th></tr>\n",
       "</thead>\n",
       "<tbody>\n",
       "\t<tr><td>CS_M_21_W_5 </td><td>0.4716783</td><td>0.9423141</td><td>0.03045993</td><td>N</td></tr>\n",
       "\t<tr><td>CS_M_24_W_8 </td><td>0.5239048</td><td>0.5905873</td><td>0.03076236</td><td>N</td></tr>\n",
       "\t<tr><td>CS_M_25_W_10</td><td>0.3709470</td><td>0.8858879</td><td>0.24680232</td><td>E</td></tr>\n",
       "\t<tr><td>CS_M_28_W_16</td><td>0.3122876</td><td>0.5905873</td><td>0.57175622</td><td>N</td></tr>\n",
       "\t<tr><td>CS_M_29_W_17</td><td>0.6296855</td><td>0.4170597</td><td>0.43997942</td><td>N</td></tr>\n",
       "\t<tr><td>CS_F_31_B_21</td><td>0.4458163</td><td>0.3528182</td><td>0.21969779</td><td>N</td></tr>\n",
       "</tbody>\n",
       "</table>\n"
      ],
      "text/latex": [
       "A tibble: 6 × 5\n",
       "\\begin{tabular}{lllll}\n",
       " Subject\\_ID & Cortisol & Noradrenaline & Epinephrine & BP\\_Classification\\\\\n",
       " <chr> & <dbl> & <dbl> & <dbl> & <chr>\\\\\n",
       "\\hline\n",
       "\t CS\\_M\\_21\\_W\\_5  & 0.4716783 & 0.9423141 & 0.03045993 & N\\\\\n",
       "\t CS\\_M\\_24\\_W\\_8  & 0.5239048 & 0.5905873 & 0.03076236 & N\\\\\n",
       "\t CS\\_M\\_25\\_W\\_10 & 0.3709470 & 0.8858879 & 0.24680232 & E\\\\\n",
       "\t CS\\_M\\_28\\_W\\_16 & 0.3122876 & 0.5905873 & 0.57175622 & N\\\\\n",
       "\t CS\\_M\\_29\\_W\\_17 & 0.6296855 & 0.4170597 & 0.43997942 & N\\\\\n",
       "\t CS\\_F\\_31\\_B\\_21 & 0.4458163 & 0.3528182 & 0.21969779 & N\\\\\n",
       "\\end{tabular}\n"
      ],
      "text/markdown": [
       "\n",
       "A tibble: 6 × 5\n",
       "\n",
       "| Subject_ID &lt;chr&gt; | Cortisol &lt;dbl&gt; | Noradrenaline &lt;dbl&gt; | Epinephrine &lt;dbl&gt; | BP_Classification &lt;chr&gt; |\n",
       "|---|---|---|---|---|\n",
       "| CS_M_21_W_5  | 0.4716783 | 0.9423141 | 0.03045993 | N |\n",
       "| CS_M_24_W_8  | 0.5239048 | 0.5905873 | 0.03076236 | N |\n",
       "| CS_M_25_W_10 | 0.3709470 | 0.8858879 | 0.24680232 | E |\n",
       "| CS_M_28_W_16 | 0.3122876 | 0.5905873 | 0.57175622 | N |\n",
       "| CS_M_29_W_17 | 0.6296855 | 0.4170597 | 0.43997942 | N |\n",
       "| CS_F_31_B_21 | 0.4458163 | 0.3528182 | 0.21969779 | N |\n",
       "\n"
      ],
      "text/plain": [
       "  Subject_ID   Cortisol  Noradrenaline Epinephrine BP_Classification\n",
       "1 CS_M_21_W_5  0.4716783 0.9423141     0.03045993  N                \n",
       "2 CS_M_24_W_8  0.5239048 0.5905873     0.03076236  N                \n",
       "3 CS_M_25_W_10 0.3709470 0.8858879     0.24680232  E                \n",
       "4 CS_M_28_W_16 0.3122876 0.5905873     0.57175622  N                \n",
       "5 CS_M_29_W_17 0.6296855 0.4170597     0.43997942  N                \n",
       "6 CS_F_31_B_21 0.4458163 0.3528182     0.21969779  N                "
      ]
     },
     "metadata": {},
     "output_type": "display_data"
    }
   ],
   "source": [
    "pslog2_df = reg_df %>%\n",
    "    mutate(across(Cortisol:Epinephrine, ~ log2(.x + 1)))\n",
    "\n",
    "head(pslog2_df)"
   ]
  },
  {
   "cell_type": "code",
   "execution_count": 12,
   "id": "4ca34bc3-8568-4b05-9823-deceed0d5684",
   "metadata": {},
   "outputs": [
    {
     "data": {
      "text/html": [
       "<table class=\"dataframe\">\n",
       "<caption>A data.frame: 3 × 4</caption>\n",
       "<thead>\n",
       "\t<tr><th></th><th scope=col>statistic</th><th scope=col>p.value</th><th scope=col>method</th><th scope=col>Normality</th></tr>\n",
       "\t<tr><th></th><th scope=col>&lt;dbl&gt;</th><th scope=col>&lt;dbl&gt;</th><th scope=col>&lt;chr&gt;</th><th scope=col>&lt;chr&gt;</th></tr>\n",
       "</thead>\n",
       "<tbody>\n",
       "\t<tr><th scope=row>Cortisol</th><td>0.8080826</td><td>3.687146e-05</td><td>Shapiro-Wilk normality test</td><td>Non-normal</td></tr>\n",
       "\t<tr><th scope=row>Noradrenaline</th><td>0.9528941</td><td>1.498883e-01</td><td>Shapiro-Wilk normality test</td><td>Normal    </td></tr>\n",
       "\t<tr><th scope=row>Epinephrine</th><td>0.9413655</td><td>6.770597e-02</td><td>Shapiro-Wilk normality test</td><td>Normal    </td></tr>\n",
       "</tbody>\n",
       "</table>\n"
      ],
      "text/latex": [
       "A data.frame: 3 × 4\n",
       "\\begin{tabular}{r|llll}\n",
       "  & statistic & p.value & method & Normality\\\\\n",
       "  & <dbl> & <dbl> & <chr> & <chr>\\\\\n",
       "\\hline\n",
       "\tCortisol & 0.8080826 & 3.687146e-05 & Shapiro-Wilk normality test & Non-normal\\\\\n",
       "\tNoradrenaline & 0.9528941 & 1.498883e-01 & Shapiro-Wilk normality test & Normal    \\\\\n",
       "\tEpinephrine & 0.9413655 & 6.770597e-02 & Shapiro-Wilk normality test & Normal    \\\\\n",
       "\\end{tabular}\n"
      ],
      "text/markdown": [
       "\n",
       "A data.frame: 3 × 4\n",
       "\n",
       "| <!--/--> | statistic &lt;dbl&gt; | p.value &lt;dbl&gt; | method &lt;chr&gt; | Normality &lt;chr&gt; |\n",
       "|---|---|---|---|---|\n",
       "| Cortisol | 0.8080826 | 3.687146e-05 | Shapiro-Wilk normality test | Non-normal |\n",
       "| Noradrenaline | 0.9528941 | 1.498883e-01 | Shapiro-Wilk normality test | Normal     |\n",
       "| Epinephrine | 0.9413655 | 6.770597e-02 | Shapiro-Wilk normality test | Normal     |\n",
       "\n"
      ],
      "text/plain": [
       "              statistic p.value      method                      Normality \n",
       "Cortisol      0.8080826 3.687146e-05 Shapiro-Wilk normality test Non-normal\n",
       "Noradrenaline 0.9528941 1.498883e-01 Shapiro-Wilk normality test Normal    \n",
       "Epinephrine   0.9413655 6.770597e-02 Shapiro-Wilk normality test Normal    "
      ]
     },
     "metadata": {},
     "output_type": "display_data"
    }
   ],
   "source": [
    "do.call(rbind.data.frame, apply(pslog2_df[,2:4], 2, shapiro.test))[,1:3] %>%\n",
    "    mutate(Normality = ifelse(p.value < 0.05, \"Non-normal\", \"Normal\"))"
   ]
  },
  {
   "cell_type": "markdown",
   "id": "fe9174cd-a5bc-47fd-b817-cda64719a5e8",
   "metadata": {},
   "source": [
    "Now we have 2 out of 3 variables that are normally distributed."
   ]
  },
  {
   "cell_type": "code",
   "execution_count": 13,
   "id": "b7292a77-47c7-41fe-a99c-3c5738ba147c",
   "metadata": {},
   "outputs": [
    {
     "data": {
      "text/html": [
       "<table class=\"dataframe\">\n",
       "<caption>A tibble: 6 × 5</caption>\n",
       "<thead>\n",
       "\t<tr><th scope=col>Subject_ID</th><th scope=col>Cortisol</th><th scope=col>Noradrenaline</th><th scope=col>Epinephrine</th><th scope=col>BP_Classification</th></tr>\n",
       "\t<tr><th scope=col>&lt;chr&gt;</th><th scope=col>&lt;dbl&gt;</th><th scope=col>&lt;dbl&gt;</th><th scope=col>&lt;dbl&gt;</th><th scope=col>&lt;fct&gt;</th></tr>\n",
       "</thead>\n",
       "<tbody>\n",
       "\t<tr><td>CS_M_21_W_5 </td><td>0.4716783</td><td>0.9423141</td><td>0.03045993</td><td>N</td></tr>\n",
       "\t<tr><td>CS_M_24_W_8 </td><td>0.5239048</td><td>0.5905873</td><td>0.03076236</td><td>N</td></tr>\n",
       "\t<tr><td>CS_M_25_W_10</td><td>0.3709470</td><td>0.8858879</td><td>0.24680232</td><td>E</td></tr>\n",
       "\t<tr><td>CS_M_28_W_16</td><td>0.3122876</td><td>0.5905873</td><td>0.57175622</td><td>N</td></tr>\n",
       "\t<tr><td>CS_M_29_W_17</td><td>0.6296855</td><td>0.4170597</td><td>0.43997942</td><td>N</td></tr>\n",
       "\t<tr><td>CS_F_31_B_21</td><td>0.4458163</td><td>0.3528182</td><td>0.21969779</td><td>N</td></tr>\n",
       "</tbody>\n",
       "</table>\n"
      ],
      "text/latex": [
       "A tibble: 6 × 5\n",
       "\\begin{tabular}{lllll}\n",
       " Subject\\_ID & Cortisol & Noradrenaline & Epinephrine & BP\\_Classification\\\\\n",
       " <chr> & <dbl> & <dbl> & <dbl> & <fct>\\\\\n",
       "\\hline\n",
       "\t CS\\_M\\_21\\_W\\_5  & 0.4716783 & 0.9423141 & 0.03045993 & N\\\\\n",
       "\t CS\\_M\\_24\\_W\\_8  & 0.5239048 & 0.5905873 & 0.03076236 & N\\\\\n",
       "\t CS\\_M\\_25\\_W\\_10 & 0.3709470 & 0.8858879 & 0.24680232 & E\\\\\n",
       "\t CS\\_M\\_28\\_W\\_16 & 0.3122876 & 0.5905873 & 0.57175622 & N\\\\\n",
       "\t CS\\_M\\_29\\_W\\_17 & 0.6296855 & 0.4170597 & 0.43997942 & N\\\\\n",
       "\t CS\\_F\\_31\\_B\\_21 & 0.4458163 & 0.3528182 & 0.21969779 & N\\\\\n",
       "\\end{tabular}\n"
      ],
      "text/markdown": [
       "\n",
       "A tibble: 6 × 5\n",
       "\n",
       "| Subject_ID &lt;chr&gt; | Cortisol &lt;dbl&gt; | Noradrenaline &lt;dbl&gt; | Epinephrine &lt;dbl&gt; | BP_Classification &lt;fct&gt; |\n",
       "|---|---|---|---|---|\n",
       "| CS_M_21_W_5  | 0.4716783 | 0.9423141 | 0.03045993 | N |\n",
       "| CS_M_24_W_8  | 0.5239048 | 0.5905873 | 0.03076236 | N |\n",
       "| CS_M_25_W_10 | 0.3709470 | 0.8858879 | 0.24680232 | E |\n",
       "| CS_M_28_W_16 | 0.3122876 | 0.5905873 | 0.57175622 | N |\n",
       "| CS_M_29_W_17 | 0.6296855 | 0.4170597 | 0.43997942 | N |\n",
       "| CS_F_31_B_21 | 0.4458163 | 0.3528182 | 0.21969779 | N |\n",
       "\n"
      ],
      "text/plain": [
       "  Subject_ID   Cortisol  Noradrenaline Epinephrine BP_Classification\n",
       "1 CS_M_21_W_5  0.4716783 0.9423141     0.03045993  N                \n",
       "2 CS_M_24_W_8  0.5239048 0.5905873     0.03076236  N                \n",
       "3 CS_M_25_W_10 0.3709470 0.8858879     0.24680232  E                \n",
       "4 CS_M_28_W_16 0.3122876 0.5905873     0.57175622  N                \n",
       "5 CS_M_29_W_17 0.6296855 0.4170597     0.43997942  N                \n",
       "6 CS_F_31_B_21 0.4458163 0.3528182     0.21969779  N                "
      ]
     },
     "metadata": {},
     "output_type": "display_data"
    }
   ],
   "source": [
    "# need to use the pslog2 data\n",
    "three_reg_df = three_reg_df %>%\n",
    "    mutate(across(Cortisol:Epinephrine, ~ log2(.x + 1)))\n",
    "\n",
    "two_reg_df = two_reg_df %>%\n",
    "    mutate(across(Cortisol:Epinephrine, ~ log2(.x + 1)))\n",
    "\n",
    "head(three_reg_df)"
   ]
  },
  {
   "cell_type": "markdown",
   "id": "7e234805-c708-4578-bbd2-d1d4cb387ff5",
   "metadata": {},
   "source": [
    "## Summary Statistics\n",
    "\n",
    "Determining if there are any significant differences between the features for each outcome class."
   ]
  },
  {
   "cell_type": "code",
   "execution_count": 14,
   "id": "feeec00f-3d95-4d57-b991-ad38c8514e9b",
   "metadata": {},
   "outputs": [
    {
     "name": "stderr",
     "output_type": "stream",
     "text": [
      "\u001b[1m\u001b[22mJoining with `by = join_by(Subject_ID)`\n",
      "Warning for variable 'Smoking_Status':\n",
      "simpleWarning in stats::chisq.test(x = c(\"CS\", \"CS\", \"CS\", \"CS\", \"CS\", \"CS\", \"CS\", : Chi-squared approximation may be incorrect\n",
      "\n",
      "Warning for variable 'Sex':\n",
      "simpleWarning in stats::chisq.test(x = c(\"M\", \"M\", \"M\", \"M\", \"M\", \"F\", \"M\", \"M\", : Chi-squared approximation may be incorrect\n",
      "\n",
      "Warning for variable 'Race':\n",
      "simpleWarning in stats::chisq.test(x = c(\"W\", \"W\", \"W\", \"W\", \"W\", \"B\", \"W\", \"B\", : Chi-squared approximation may be incorrect\n",
      "\n"
     ]
    },
    {
     "data": {
      "text/html": [
       "<table class=\"dataframe\">\n",
       "<caption>A tibble: 13 × 6</caption>\n",
       "<thead>\n",
       "\t<tr><th scope=col>**Characteristic**</th><th scope=col>**N**</th><th scope=col>**N**, N = 18</th><th scope=col>**E**, N = 9</th><th scope=col>**H**, N = 7</th><th scope=col>**p-value**</th></tr>\n",
       "\t<tr><th scope=col>&lt;chr&gt;</th><th scope=col>&lt;chr&gt;</th><th scope=col>&lt;chr&gt;</th><th scope=col>&lt;chr&gt;</th><th scope=col>&lt;chr&gt;</th><th scope=col>&lt;chr&gt;</th></tr>\n",
       "</thead>\n",
       "<tbody>\n",
       "\t<tr><td>Cortisol      </td><td>34</td><td>0.46 (0.17)</td><td>0.36 (0.07)</td><td>0.44 (0.20)</td><td>0.4 </td></tr>\n",
       "\t<tr><td>Noradrenaline </td><td>34</td><td>0.50 (0.31)</td><td>0.47 (0.23)</td><td>0.40 (0.34)</td><td>0.8 </td></tr>\n",
       "\t<tr><td>Epinephrine   </td><td>34</td><td>0.26 (0.17)</td><td>0.22 (0.12)</td><td>0.16 (0.15)</td><td>0.3 </td></tr>\n",
       "\t<tr><td>Smoking_Status</td><td>34</td><td>NA         </td><td>NA         </td><td>NA         </td><td>0.9 </td></tr>\n",
       "\t<tr><td>CS            </td><td>NA</td><td>9 (50%)    </td><td>5 (56%)    </td><td>3 (43%)    </td><td>NA  </td></tr>\n",
       "\t<tr><td>NS            </td><td>NA</td><td>9 (50%)    </td><td>4 (44%)    </td><td>4 (57%)    </td><td>NA  </td></tr>\n",
       "\t<tr><td>Sex           </td><td>34</td><td>NA         </td><td>NA         </td><td>NA         </td><td>0.2 </td></tr>\n",
       "\t<tr><td>F             </td><td>NA</td><td>12 (67%)   </td><td>4 (44%)    </td><td>6 (86%)    </td><td>NA  </td></tr>\n",
       "\t<tr><td>M             </td><td>NA</td><td>6 (33%)    </td><td>5 (56%)    </td><td>1 (14%)    </td><td>NA  </td></tr>\n",
       "\t<tr><td>Age           </td><td>34</td><td>29.6 (6.3) </td><td>32.2 (6.4) </td><td>33.3 (6.7) </td><td>0.4 </td></tr>\n",
       "\t<tr><td><span style=white-space:pre-wrap>Race          </span></td><td>34</td><td><span style=white-space:pre-wrap>NA         </span></td><td><span style=white-space:pre-wrap>NA         </span></td><td><span style=white-space:pre-wrap>NA         </span></td><td>&gt;0.9</td></tr>\n",
       "\t<tr><td>B             </td><td>NA</td><td>10 (56%)   </td><td>5 (56%)    </td><td>4 (57%)    </td><td>NA  </td></tr>\n",
       "\t<tr><td>W             </td><td>NA</td><td>8 (44%)    </td><td>4 (44%)    </td><td>3 (43%)    </td><td>NA  </td></tr>\n",
       "</tbody>\n",
       "</table>\n"
      ],
      "text/latex": [
       "A tibble: 13 × 6\n",
       "\\begin{tabular}{llllll}\n",
       " **Characteristic** & **N** & **N**, N = 18 & **E**, N = 9 & **H**, N = 7 & **p-value**\\\\\n",
       " <chr> & <chr> & <chr> & <chr> & <chr> & <chr>\\\\\n",
       "\\hline\n",
       "\t Cortisol       & 34 & 0.46 (0.17) & 0.36 (0.07) & 0.44 (0.20) & 0.4 \\\\\n",
       "\t Noradrenaline  & 34 & 0.50 (0.31) & 0.47 (0.23) & 0.40 (0.34) & 0.8 \\\\\n",
       "\t Epinephrine    & 34 & 0.26 (0.17) & 0.22 (0.12) & 0.16 (0.15) & 0.3 \\\\\n",
       "\t Smoking\\_Status & 34 & NA          & NA          & NA          & 0.9 \\\\\n",
       "\t CS             & NA & 9 (50\\%)     & 5 (56\\%)     & 3 (43\\%)     & NA  \\\\\n",
       "\t NS             & NA & 9 (50\\%)     & 4 (44\\%)     & 4 (57\\%)     & NA  \\\\\n",
       "\t Sex            & 34 & NA          & NA          & NA          & 0.2 \\\\\n",
       "\t F              & NA & 12 (67\\%)    & 4 (44\\%)     & 6 (86\\%)     & NA  \\\\\n",
       "\t M              & NA & 6 (33\\%)     & 5 (56\\%)     & 1 (14\\%)     & NA  \\\\\n",
       "\t Age            & 34 & 29.6 (6.3)  & 32.2 (6.4)  & 33.3 (6.7)  & 0.4 \\\\\n",
       "\t Race           & 34 & NA          & NA          & NA          & >0.9\\\\\n",
       "\t B              & NA & 10 (56\\%)    & 5 (56\\%)     & 4 (57\\%)     & NA  \\\\\n",
       "\t W              & NA & 8 (44\\%)     & 4 (44\\%)     & 3 (43\\%)     & NA  \\\\\n",
       "\\end{tabular}\n"
      ],
      "text/markdown": [
       "\n",
       "A tibble: 13 × 6\n",
       "\n",
       "| **Characteristic** &lt;chr&gt; | **N** &lt;chr&gt; | **N**, N = 18 &lt;chr&gt; | **E**, N = 9 &lt;chr&gt; | **H**, N = 7 &lt;chr&gt; | **p-value** &lt;chr&gt; |\n",
       "|---|---|---|---|---|---|\n",
       "| Cortisol       | 34 | 0.46 (0.17) | 0.36 (0.07) | 0.44 (0.20) | 0.4  |\n",
       "| Noradrenaline  | 34 | 0.50 (0.31) | 0.47 (0.23) | 0.40 (0.34) | 0.8  |\n",
       "| Epinephrine    | 34 | 0.26 (0.17) | 0.22 (0.12) | 0.16 (0.15) | 0.3  |\n",
       "| Smoking_Status | 34 | NA          | NA          | NA          | 0.9  |\n",
       "| CS             | NA | 9 (50%)     | 5 (56%)     | 3 (43%)     | NA   |\n",
       "| NS             | NA | 9 (50%)     | 4 (44%)     | 4 (57%)     | NA   |\n",
       "| Sex            | 34 | NA          | NA          | NA          | 0.2  |\n",
       "| F              | NA | 12 (67%)    | 4 (44%)     | 6 (86%)     | NA   |\n",
       "| M              | NA | 6 (33%)     | 5 (56%)     | 1 (14%)     | NA   |\n",
       "| Age            | 34 | 29.6 (6.3)  | 32.2 (6.4)  | 33.3 (6.7)  | 0.4  |\n",
       "| Race           | 34 | NA          | NA          | NA          | &gt;0.9 |\n",
       "| B              | NA | 10 (56%)    | 5 (56%)     | 4 (57%)     | NA   |\n",
       "| W              | NA | 8 (44%)     | 4 (44%)     | 3 (43%)     | NA   |\n",
       "\n"
      ],
      "text/plain": [
       "   **Characteristic** **N** **N**, N = 18 **E**, N = 9 **H**, N = 7 **p-value**\n",
       "1  Cortisol           34    0.46 (0.17)   0.36 (0.07)  0.44 (0.20)  0.4        \n",
       "2  Noradrenaline      34    0.50 (0.31)   0.47 (0.23)  0.40 (0.34)  0.8        \n",
       "3  Epinephrine        34    0.26 (0.17)   0.22 (0.12)  0.16 (0.15)  0.3        \n",
       "4  Smoking_Status     34    NA            NA           NA           0.9        \n",
       "5  CS                 NA    9 (50%)       5 (56%)      3 (43%)      NA         \n",
       "6  NS                 NA    9 (50%)       4 (44%)      4 (57%)      NA         \n",
       "7  Sex                34    NA            NA           NA           0.2        \n",
       "8  F                  NA    12 (67%)      4 (44%)      6 (86%)      NA         \n",
       "9  M                  NA    6 (33%)       5 (56%)      1 (14%)      NA         \n",
       "10 Age                34    29.6 (6.3)    32.2 (6.4)   33.3 (6.7)   0.4        \n",
       "11 Race               34    NA            NA           NA           >0.9       \n",
       "12 B                  NA    10 (56%)      5 (56%)      4 (57%)      NA         \n",
       "13 W                  NA    8 (44%)       4 (44%)      3 (43%)      NA         "
      ]
     },
     "metadata": {},
     "output_type": "display_data"
    }
   ],
   "source": [
    "# 3 class outcome\n",
    "inner_join(three_reg_df, subject_info_df[,c(3,5:8)]) %>%\n",
    "\n",
    "    tbl_summary(by = BP_Classification, missing = \"no\", \n",
    "    include = c(colnames(three_reg_df[2:5]), colnames(subject_info_df[5:8])), \n",
    "              statistic = list(all_continuous() ~ \"{mean} ({sd})\",\n",
    "                               all_categorical() ~ \"{n} ({p}%)\")) %>%\n",
    "    add_n() %>% \n",
    "    #add_overall() %>%\n",
    "    add_p(test = list(all_continuous() ~ \"aov\",\n",
    "                    all_categorical() ~ \"chisq.test\")) %>% # adding p value from anova\n",
    "    as_tibble()"
   ]
  },
  {
   "cell_type": "code",
   "execution_count": 15,
   "id": "1d5405cc-720d-4a6a-bd06-228ad42b4f8c",
   "metadata": {},
   "outputs": [
    {
     "name": "stderr",
     "output_type": "stream",
     "text": [
      "\u001b[1m\u001b[22mJoining with `by = join_by(Subject_ID)`\n"
     ]
    },
    {
     "data": {
      "text/html": [
       "<table class=\"dataframe\">\n",
       "<caption>A tibble: 13 × 5</caption>\n",
       "<thead>\n",
       "\t<tr><th scope=col>**Characteristic**</th><th scope=col>**N**</th><th scope=col>**N**, N = 18</th><th scope=col>**H**, N = 16</th><th scope=col>**p-value**</th></tr>\n",
       "\t<tr><th scope=col>&lt;chr&gt;</th><th scope=col>&lt;chr&gt;</th><th scope=col>&lt;chr&gt;</th><th scope=col>&lt;chr&gt;</th><th scope=col>&lt;chr&gt;</th></tr>\n",
       "</thead>\n",
       "<tbody>\n",
       "\t<tr><td>Cortisol      </td><td>34</td><td>0.46 (0.17)</td><td>0.40 (0.14)</td><td>0.3 </td></tr>\n",
       "\t<tr><td>Noradrenaline </td><td>34</td><td>0.50 (0.31)</td><td>0.44 (0.27)</td><td>0.6 </td></tr>\n",
       "\t<tr><td>Epinephrine   </td><td>34</td><td>0.26 (0.17)</td><td>0.19 (0.13)</td><td>0.2 </td></tr>\n",
       "\t<tr><td>Smoking_Status</td><td>34</td><td><span style=white-space:pre-wrap>NA         </span></td><td><span style=white-space:pre-wrap>NA         </span></td><td>&gt;0.9</td></tr>\n",
       "\t<tr><td>CS            </td><td>NA</td><td>9 (50%)    </td><td>8 (50%)    </td><td>NA  </td></tr>\n",
       "\t<tr><td>NS            </td><td>NA</td><td>9 (50%)    </td><td>8 (50%)    </td><td>NA  </td></tr>\n",
       "\t<tr><td><span style=white-space:pre-wrap>Sex           </span></td><td>34</td><td><span style=white-space:pre-wrap>NA         </span></td><td><span style=white-space:pre-wrap>NA         </span></td><td>&gt;0.9</td></tr>\n",
       "\t<tr><td>F             </td><td>NA</td><td>12 (67%)   </td><td>10 (62%)   </td><td>NA  </td></tr>\n",
       "\t<tr><td>M             </td><td>NA</td><td>6 (33%)    </td><td>6 (38%)    </td><td>NA  </td></tr>\n",
       "\t<tr><td>Age           </td><td>34</td><td>29.6 (6.3) </td><td>32.7 (6.4) </td><td>0.2 </td></tr>\n",
       "\t<tr><td><span style=white-space:pre-wrap>Race          </span></td><td>34</td><td><span style=white-space:pre-wrap>NA         </span></td><td><span style=white-space:pre-wrap>NA         </span></td><td>&gt;0.9</td></tr>\n",
       "\t<tr><td>B             </td><td>NA</td><td>10 (56%)   </td><td>9 (56%)    </td><td>NA  </td></tr>\n",
       "\t<tr><td>W             </td><td>NA</td><td>8 (44%)    </td><td>7 (44%)    </td><td>NA  </td></tr>\n",
       "</tbody>\n",
       "</table>\n"
      ],
      "text/latex": [
       "A tibble: 13 × 5\n",
       "\\begin{tabular}{lllll}\n",
       " **Characteristic** & **N** & **N**, N = 18 & **H**, N = 16 & **p-value**\\\\\n",
       " <chr> & <chr> & <chr> & <chr> & <chr>\\\\\n",
       "\\hline\n",
       "\t Cortisol       & 34 & 0.46 (0.17) & 0.40 (0.14) & 0.3 \\\\\n",
       "\t Noradrenaline  & 34 & 0.50 (0.31) & 0.44 (0.27) & 0.6 \\\\\n",
       "\t Epinephrine    & 34 & 0.26 (0.17) & 0.19 (0.13) & 0.2 \\\\\n",
       "\t Smoking\\_Status & 34 & NA          & NA          & >0.9\\\\\n",
       "\t CS             & NA & 9 (50\\%)     & 8 (50\\%)     & NA  \\\\\n",
       "\t NS             & NA & 9 (50\\%)     & 8 (50\\%)     & NA  \\\\\n",
       "\t Sex            & 34 & NA          & NA          & >0.9\\\\\n",
       "\t F              & NA & 12 (67\\%)    & 10 (62\\%)    & NA  \\\\\n",
       "\t M              & NA & 6 (33\\%)     & 6 (38\\%)     & NA  \\\\\n",
       "\t Age            & 34 & 29.6 (6.3)  & 32.7 (6.4)  & 0.2 \\\\\n",
       "\t Race           & 34 & NA          & NA          & >0.9\\\\\n",
       "\t B              & NA & 10 (56\\%)    & 9 (56\\%)     & NA  \\\\\n",
       "\t W              & NA & 8 (44\\%)     & 7 (44\\%)     & NA  \\\\\n",
       "\\end{tabular}\n"
      ],
      "text/markdown": [
       "\n",
       "A tibble: 13 × 5\n",
       "\n",
       "| **Characteristic** &lt;chr&gt; | **N** &lt;chr&gt; | **N**, N = 18 &lt;chr&gt; | **H**, N = 16 &lt;chr&gt; | **p-value** &lt;chr&gt; |\n",
       "|---|---|---|---|---|\n",
       "| Cortisol       | 34 | 0.46 (0.17) | 0.40 (0.14) | 0.3  |\n",
       "| Noradrenaline  | 34 | 0.50 (0.31) | 0.44 (0.27) | 0.6  |\n",
       "| Epinephrine    | 34 | 0.26 (0.17) | 0.19 (0.13) | 0.2  |\n",
       "| Smoking_Status | 34 | NA          | NA          | &gt;0.9 |\n",
       "| CS             | NA | 9 (50%)     | 8 (50%)     | NA   |\n",
       "| NS             | NA | 9 (50%)     | 8 (50%)     | NA   |\n",
       "| Sex            | 34 | NA          | NA          | &gt;0.9 |\n",
       "| F              | NA | 12 (67%)    | 10 (62%)    | NA   |\n",
       "| M              | NA | 6 (33%)     | 6 (38%)     | NA   |\n",
       "| Age            | 34 | 29.6 (6.3)  | 32.7 (6.4)  | 0.2  |\n",
       "| Race           | 34 | NA          | NA          | &gt;0.9 |\n",
       "| B              | NA | 10 (56%)    | 9 (56%)     | NA   |\n",
       "| W              | NA | 8 (44%)     | 7 (44%)     | NA   |\n",
       "\n"
      ],
      "text/plain": [
       "   **Characteristic** **N** **N**, N = 18 **H**, N = 16 **p-value**\n",
       "1  Cortisol           34    0.46 (0.17)   0.40 (0.14)   0.3        \n",
       "2  Noradrenaline      34    0.50 (0.31)   0.44 (0.27)   0.6        \n",
       "3  Epinephrine        34    0.26 (0.17)   0.19 (0.13)   0.2        \n",
       "4  Smoking_Status     34    NA            NA            >0.9       \n",
       "5  CS                 NA    9 (50%)       8 (50%)       NA         \n",
       "6  NS                 NA    9 (50%)       8 (50%)       NA         \n",
       "7  Sex                34    NA            NA            >0.9       \n",
       "8  F                  NA    12 (67%)      10 (62%)      NA         \n",
       "9  M                  NA    6 (33%)       6 (38%)       NA         \n",
       "10 Age                34    29.6 (6.3)    32.7 (6.4)    0.2        \n",
       "11 Race               34    NA            NA            >0.9       \n",
       "12 B                  NA    10 (56%)      9 (56%)       NA         \n",
       "13 W                  NA    8 (44%)       7 (44%)       NA         "
      ]
     },
     "metadata": {},
     "output_type": "display_data"
    }
   ],
   "source": [
    "# two class outcome\n",
    "inner_join(two_reg_df, subject_info_df[,c(3,5:8)]) %>%\n",
    "\n",
    "    tbl_summary(by = BP_Classification, missing = \"no\", \n",
    "    include = c(colnames(three_reg_df[2:5]), colnames(subject_info_df[5:8])), \n",
    "              statistic = list(all_continuous() ~ \"{mean} ({sd})\",\n",
    "                               all_categorical() ~ \"{n} ({p}%)\")) %>%\n",
    "    add_n() %>% \n",
    "    #add_overall() %>%\n",
    "    add_p(test = list(all_continuous() ~ \"t.test\",\n",
    "                    all_categorical() ~ \"chisq.test\")) %>% # adding p value from anova\n",
    "    as_tibble()"
   ]
  },
  {
   "cell_type": "markdown",
   "id": "c14249e7-28a9-4baa-9fe8-c362caf897f7",
   "metadata": {},
   "source": [
    "## Ordinal Regression\n",
    "\n",
    "Using [ordinal regression](https://www.statisticssolutions.com/free-resources/directory-of-statistical-analyses/ordinal-regression/) to predict blood pressure classification using mediator scores from 3 biomarkers. Just doing this to get weights of these variables."
   ]
  },
  {
   "cell_type": "code",
   "execution_count": 16,
   "id": "fb1ed418-053f-4b77-a625-f236f975aded",
   "metadata": {},
   "outputs": [
    {
     "data": {
      "text/html": [
       "<table class=\"dataframe\">\n",
       "<caption>A data.frame: 3 × 2</caption>\n",
       "<thead>\n",
       "\t<tr><th scope=col>Variable</th><th scope=col>Coefficient</th></tr>\n",
       "\t<tr><th scope=col>&lt;chr&gt;</th><th scope=col>&lt;dbl&gt;</th></tr>\n",
       "</thead>\n",
       "<tbody>\n",
       "\t<tr><td>Epinephrine  </td><td>0.7097551</td></tr>\n",
       "\t<tr><td>Noradrenaline</td><td>0.1568101</td></tr>\n",
       "\t<tr><td>Cortisol     </td><td>0.1334348</td></tr>\n",
       "</tbody>\n",
       "</table>\n"
      ],
      "text/latex": [
       "A data.frame: 3 × 2\n",
       "\\begin{tabular}{ll}\n",
       " Variable & Coefficient\\\\\n",
       " <chr> & <dbl>\\\\\n",
       "\\hline\n",
       "\t Epinephrine   & 0.7097551\\\\\n",
       "\t Noradrenaline & 0.1568101\\\\\n",
       "\t Cortisol      & 0.1334348\\\\\n",
       "\\end{tabular}\n"
      ],
      "text/markdown": [
       "\n",
       "A data.frame: 3 × 2\n",
       "\n",
       "| Variable &lt;chr&gt; | Coefficient &lt;dbl&gt; |\n",
       "|---|---|\n",
       "| Epinephrine   | 0.7097551 |\n",
       "| Noradrenaline | 0.1568101 |\n",
       "| Cortisol      | 0.1334348 |\n",
       "\n"
      ],
      "text/plain": [
       "  Variable      Coefficient\n",
       "1 Epinephrine   0.7097551  \n",
       "2 Noradrenaline 0.1568101  \n",
       "3 Cortisol      0.1334348  "
      ]
     },
     "metadata": {},
     "output_type": "display_data"
    },
    {
     "data": {
      "text/html": [
       "<table class=\"dataframe\">\n",
       "<caption>A data.frame: 3 × 2</caption>\n",
       "<thead>\n",
       "\t<tr><th scope=col>Variable</th><th scope=col>Coefficient</th></tr>\n",
       "\t<tr><th scope=col>&lt;chr&gt;</th><th scope=col>&lt;dbl&gt;</th></tr>\n",
       "</thead>\n",
       "<tbody>\n",
       "\t<tr><td>Epinephrine  </td><td>0.58343639</td></tr>\n",
       "\t<tr><td>Cortisol     </td><td>0.34828091</td></tr>\n",
       "\t<tr><td>Noradrenaline</td><td>0.06828269</td></tr>\n",
       "</tbody>\n",
       "</table>\n"
      ],
      "text/latex": [
       "A data.frame: 3 × 2\n",
       "\\begin{tabular}{ll}\n",
       " Variable & Coefficient\\\\\n",
       " <chr> & <dbl>\\\\\n",
       "\\hline\n",
       "\t Epinephrine   & 0.58343639\\\\\n",
       "\t Cortisol      & 0.34828091\\\\\n",
       "\t Noradrenaline & 0.06828269\\\\\n",
       "\\end{tabular}\n"
      ],
      "text/markdown": [
       "\n",
       "A data.frame: 3 × 2\n",
       "\n",
       "| Variable &lt;chr&gt; | Coefficient &lt;dbl&gt; |\n",
       "|---|---|\n",
       "| Epinephrine   | 0.58343639 |\n",
       "| Cortisol      | 0.34828091 |\n",
       "| Noradrenaline | 0.06828269 |\n",
       "\n"
      ],
      "text/plain": [
       "  Variable      Coefficient\n",
       "1 Epinephrine   0.58343639 \n",
       "2 Cortisol      0.34828091 \n",
       "3 Noradrenaline 0.06828269 "
      ]
     },
     "metadata": {},
     "output_type": "display_data"
    }
   ],
   "source": [
    "# creating a vector of booleans that specifies whether or not the coefficient should be\n",
    "# positive (TRUE) \n",
    "biomarker_coefficients = c(rep(TRUE, ncol(reg_df) - 2))\n",
    "\n",
    "estimateOrdWeights <- function(dataset, response, coefficients_magnitude){\n",
    "    # \"\"\"\n",
    "    # Creating a function to run ordinal regression to estimate ordinal weights of mediator data based\n",
    "    # on blood pressure classification\n",
    "    # :param (input): wide df with biomarker data, response variable, magnitude of the coefficients\n",
    "    # :output: 1 df with the ordinal weights\n",
    "    # \"\"\"\n",
    "    \n",
    "    # setting seed for reproducibility\n",
    "    set.seed(12)\n",
    "    \n",
    "    #get number of response levels\n",
    "    NoBins <- length(unique(dataset[[response]]))\n",
    "\n",
    "    #get number of features or slices\n",
    "    noSlices <- ncol(dataset) - 2\n",
    "    \n",
    "    # obtaining the features and converting into a matrix\n",
    "    feature_data <- as.matrix(dataset[,c(2:(ncol(dataset) - 1))])\n",
    "\n",
    "    # ordinal regression\n",
    "    # positiveID specifies whether or not each coefficient for each ind. variable should be constrained to be non-negative\n",
    "    regression_model <- ordinalNet(feature_data, dataset[[response]], positiveID = coefficients_magnitude, \n",
    "                            # lambdaVals defines how quickly your coefficients drop to 0\n",
    "                            # keeping it at 0 tries to minimize feature reduction\n",
    "                            # maxiterout defines the number of iterations before it stops\n",
    "                         lambdaVals = 0, maxiterOut = 150)\n",
    "    testW <- regression_model$coefs[NoBins:(noSlices + NoBins - 1)]\n",
    "\n",
    "    # rescaling the coefficients so that they sum to 1\n",
    "    normalizer = 1/sum(testW)\n",
    "    rescaled_weight <- testW * normalizer\n",
    "\n",
    "    # adding the variable names back in \n",
    "    test_weights_df = data.frame(Variable = colnames(feature_data), Coefficient = rescaled_weight) %>%\n",
    "        arrange(-Coefficient) \n",
    "    \n",
    "    return(test_weights_df)\n",
    "}\n",
    "\n",
    "# calling fn\n",
    "three_weights_df = estimateOrdWeights(three_reg_df, 'BP_Classification', biomarker_coefficients)\n",
    "two_weights_df = estimateOrdWeights(two_reg_df, 'BP_Classification', biomarker_coefficients)\n",
    "\n",
    "three_weights_df\n",
    "two_weights_df"
   ]
  },
  {
   "cell_type": "markdown",
   "id": "218d6d60-d99b-4863-87e0-b0bcc544de5d",
   "metadata": {},
   "source": [
    "## Ordinal Weights Visualization"
   ]
  },
  {
   "cell_type": "code",
   "execution_count": 17,
   "id": "2808fe92-be90-43f2-a6e2-1b2d54d6cd8a",
   "metadata": {},
   "outputs": [
    {
     "data": {
      "text/html": [
       "<table class=\"dataframe\">\n",
       "<caption>A grouped_df: 6 × 5</caption>\n",
       "<thead>\n",
       "\t<tr><th scope=col>Variable</th><th scope=col>Coefficient</th><th scope=col>Blood_Pressure_Class_No</th><th scope=col>csum</th><th scope=col>pos</th></tr>\n",
       "\t<tr><th scope=col>&lt;chr&gt;</th><th scope=col>&lt;dbl&gt;</th><th scope=col>&lt;dbl&gt;</th><th scope=col>&lt;dbl&gt;</th><th scope=col>&lt;dbl&gt;</th></tr>\n",
       "</thead>\n",
       "<tbody>\n",
       "\t<tr><td>Epinephrine  </td><td>0.70975508</td><td>3</td><td>1.00000000</td><td>0.64512246</td></tr>\n",
       "\t<tr><td>Noradrenaline</td><td>0.15681012</td><td>3</td><td>0.29024492</td><td>0.21183986</td></tr>\n",
       "\t<tr><td>Cortisol     </td><td>0.13343480</td><td>3</td><td>0.13343480</td><td>0.06671740</td></tr>\n",
       "\t<tr><td>Epinephrine  </td><td>0.58343639</td><td>2</td><td>1.00000000</td><td>0.70828180</td></tr>\n",
       "\t<tr><td>Cortisol     </td><td>0.34828091</td><td>2</td><td>0.41656361</td><td>0.24242315</td></tr>\n",
       "\t<tr><td>Noradrenaline</td><td>0.06828269</td><td>2</td><td>0.06828269</td><td>0.03414135</td></tr>\n",
       "</tbody>\n",
       "</table>\n"
      ],
      "text/latex": [
       "A grouped\\_df: 6 × 5\n",
       "\\begin{tabular}{lllll}\n",
       " Variable & Coefficient & Blood\\_Pressure\\_Class\\_No & csum & pos\\\\\n",
       " <chr> & <dbl> & <dbl> & <dbl> & <dbl>\\\\\n",
       "\\hline\n",
       "\t Epinephrine   & 0.70975508 & 3 & 1.00000000 & 0.64512246\\\\\n",
       "\t Noradrenaline & 0.15681012 & 3 & 0.29024492 & 0.21183986\\\\\n",
       "\t Cortisol      & 0.13343480 & 3 & 0.13343480 & 0.06671740\\\\\n",
       "\t Epinephrine   & 0.58343639 & 2 & 1.00000000 & 0.70828180\\\\\n",
       "\t Cortisol      & 0.34828091 & 2 & 0.41656361 & 0.24242315\\\\\n",
       "\t Noradrenaline & 0.06828269 & 2 & 0.06828269 & 0.03414135\\\\\n",
       "\\end{tabular}\n"
      ],
      "text/markdown": [
       "\n",
       "A grouped_df: 6 × 5\n",
       "\n",
       "| Variable &lt;chr&gt; | Coefficient &lt;dbl&gt; | Blood_Pressure_Class_No &lt;dbl&gt; | csum &lt;dbl&gt; | pos &lt;dbl&gt; |\n",
       "|---|---|---|---|---|\n",
       "| Epinephrine   | 0.70975508 | 3 | 1.00000000 | 0.64512246 |\n",
       "| Noradrenaline | 0.15681012 | 3 | 0.29024492 | 0.21183986 |\n",
       "| Cortisol      | 0.13343480 | 3 | 0.13343480 | 0.06671740 |\n",
       "| Epinephrine   | 0.58343639 | 2 | 1.00000000 | 0.70828180 |\n",
       "| Cortisol      | 0.34828091 | 2 | 0.41656361 | 0.24242315 |\n",
       "| Noradrenaline | 0.06828269 | 2 | 0.06828269 | 0.03414135 |\n",
       "\n"
      ],
      "text/plain": [
       "  Variable      Coefficient Blood_Pressure_Class_No csum       pos       \n",
       "1 Epinephrine   0.70975508  3                       1.00000000 0.64512246\n",
       "2 Noradrenaline 0.15681012  3                       0.29024492 0.21183986\n",
       "3 Cortisol      0.13343480  3                       0.13343480 0.06671740\n",
       "4 Epinephrine   0.58343639  2                       1.00000000 0.70828180\n",
       "5 Cortisol      0.34828091  2                       0.41656361 0.24242315\n",
       "6 Noradrenaline 0.06828269  2                       0.06828269 0.03414135"
      ]
     },
     "metadata": {},
     "output_type": "display_data"
    }
   ],
   "source": [
    "# creating 1 df\n",
    "weights_df = cbind(rbind(three_weights_df, two_weights_df), \n",
    "                   # adding a col that specificies the number of classes of blood pressure\n",
    "                   Blood_Pressure_Class_No = c(rep(3, length(three_weights_df$Variable)), \n",
    "                                               rep(2, length(three_weights_df$Variable)))) %>% \n",
    "    # getting the circle positions for the text labels\n",
    "    group_by(Blood_Pressure_Class_No) %>%\n",
    "    mutate(csum = rev(cumsum(rev(Coefficient))), \n",
    "         pos = Coefficient/2 + lead(csum, 1),\n",
    "         pos = if_else(is.na(pos), Coefficient/2, pos))\n",
    "\n",
    "head(weights_df)"
   ]
  },
  {
   "cell_type": "code",
   "execution_count": 18,
   "id": "010cd638-531b-4f03-a2dd-eb1ad99c3b29",
   "metadata": {},
   "outputs": [],
   "source": [
    "options(repr.plot.width=10, repr.plot.height=10) #changing size\n",
    "\n",
    "piechart3 = ggplot(data = weights_df %>%\n",
    "       filter(Blood_Pressure_Class_No == 3), aes(x = \"\", y = Coefficient, fill = fct_inorder(Variable)))+\n",
    "  geom_bar(width = 1, color = 1, stat = \"identity\") +\n",
    "  coord_polar(theta = \"y\") + \n",
    "  # removing labels for biomarkers that = 0\n",
    "  geom_label_repel(data = weights_df %>%\n",
    "                  filter(Coefficient > 0 & Blood_Pressure_Class_No == 3), \n",
    "                  aes(x = 1, y = pos, label = paste0(Variable,\"\\n\", round(Coefficient * 100), \"%\")), \n",
    "                   size = 5, nudge_x = 0.7, show.legend = FALSE) + \n",
    "\n",
    "  theme_void() +\n",
    "  theme(legend.position = \"none\") + \n",
    "  ggtitle(\"Ordinal Weights with 3 Blood Pressure Classes\") + \n",
    "  scale_fill_npg()\n",
    "\n",
    "col_palette = pal_npg()(7)\n",
    "\n",
    "piechart2 = ggplot(data = weights_df %>%\n",
    "       filter(Blood_Pressure_Class_No == 2), aes(x = \"\", y = Coefficient, fill = fct_inorder(Variable)))+\n",
    "  geom_bar(width = 1, color = 1, stat = \"identity\") +\n",
    "  coord_polar(theta = \"y\") + \n",
    "  # removing labels for biomarkers that = 0\n",
    "  geom_label_repel(data = weights_df %>%\n",
    "                  filter(Coefficient > 0 & Blood_Pressure_Class_No == 2), \n",
    "                  aes(x = 1, y = pos, label = paste0(Variable,\"\\n\", round(Coefficient * 100), \"%\")), \n",
    "                   size = 5, nudge_x = 0.7, show.legend = FALSE) + \n",
    "\n",
    "  theme_void() +\n",
    "  theme(legend.position = \"none\") + \n",
    "  ggtitle(\"Ordinal Weights with 2 Blood Pressure Classes\") + \n",
    "  scale_fill_manual(values = col_palette[c(1,3,2)])"
   ]
  },
  {
   "cell_type": "code",
   "execution_count": 19,
   "id": "300ed2a9-3576-4caa-b00f-6d15aaf07e3c",
   "metadata": {},
   "outputs": [
    {
     "data": {
      "image/png": "[encoded data removed]",
      "text/plain": [
       "plot without title"
      ]
     },
     "metadata": {
      "image/png": {
       "height": 600,
       "width": 600
      }
     },
     "output_type": "display_data"
    }
   ],
   "source": [
    "plot_grid(piechart3, piechart2)"
   ]
  },
  {
   "cell_type": "markdown",
   "id": "83f580e0-19d4-436e-a87e-06dabef40b33",
   "metadata": {},
   "source": [
    "Based on these results, epinephrine had the largest contribution to blood pressure classification in both cases. \n",
    "\n",
    "## Acute Stress Summation\n",
    "\n",
    "Now that we have these weights from the ordinal regression, we'll calculate stress scores for each subject using both the previously calculated mediator scores multiplied the ordinal weight for the 4 acute biomarkers (cortisol, noradrenaline, epinephrine, fibrinogen). AL scores will be calculated for all 63 subjects not just the 34 with BP data. The formula looks like...\n",
    "\n",
    "Allostatic Load = Cortisol ordinal weight * Cortisol score + Epinephrine ordinal weight * Epinephrine score..."
   ]
  },
  {
   "cell_type": "code",
   "execution_count": 20,
   "id": "74837d21-07ab-4d1e-a84c-521fb3ac8c4d",
   "metadata": {},
   "outputs": [
    {
     "name": "stderr",
     "output_type": "stream",
     "text": [
      "\u001b[1m\u001b[22mJoining with `by = join_by(Variable)`\n",
      "\u001b[1m\u001b[22mJoining with `by = join_by(Variable)`\n"
     ]
    },
    {
     "data": {
      "text/html": [
       "<table class=\"dataframe\">\n",
       "<caption>A data.frame: 6 × 2</caption>\n",
       "<thead>\n",
       "\t<tr><th></th><th scope=col>Subject_ID</th><th scope=col>Acute_Stress</th></tr>\n",
       "\t<tr><th></th><th scope=col>&lt;chr&gt;</th><th scope=col>&lt;dbl&gt;</th></tr>\n",
       "</thead>\n",
       "<tbody>\n",
       "\t<tr><th scope=row>1</th><td>NS_M_28_W_51</td><td>0.8069382</td></tr>\n",
       "\t<tr><th scope=row>2</th><td>NS_F_23_W_41</td><td>0.5635610</td></tr>\n",
       "\t<tr><th scope=row>3</th><td>CS_M_28_W_16</td><td>0.5400870</td></tr>\n",
       "\t<tr><th scope=row>4</th><td>NS_F_21_W_38</td><td>0.5112396</td></tr>\n",
       "\t<tr><th scope=row>5</th><td>CS_M_29_W_17</td><td>0.4616988</td></tr>\n",
       "\t<tr><th scope=row>6</th><td>NS_F_38_B_61</td><td>0.4394047</td></tr>\n",
       "</tbody>\n",
       "</table>\n"
      ],
      "text/latex": [
       "A data.frame: 6 × 2\n",
       "\\begin{tabular}{r|ll}\n",
       "  & Subject\\_ID & Acute\\_Stress\\\\\n",
       "  & <chr> & <dbl>\\\\\n",
       "\\hline\n",
       "\t1 & NS\\_M\\_28\\_W\\_51 & 0.8069382\\\\\n",
       "\t2 & NS\\_F\\_23\\_W\\_41 & 0.5635610\\\\\n",
       "\t3 & CS\\_M\\_28\\_W\\_16 & 0.5400870\\\\\n",
       "\t4 & NS\\_F\\_21\\_W\\_38 & 0.5112396\\\\\n",
       "\t5 & CS\\_M\\_29\\_W\\_17 & 0.4616988\\\\\n",
       "\t6 & NS\\_F\\_38\\_B\\_61 & 0.4394047\\\\\n",
       "\\end{tabular}\n"
      ],
      "text/markdown": [
       "\n",
       "A data.frame: 6 × 2\n",
       "\n",
       "| <!--/--> | Subject_ID &lt;chr&gt; | Acute_Stress &lt;dbl&gt; |\n",
       "|---|---|---|\n",
       "| 1 | NS_M_28_W_51 | 0.8069382 |\n",
       "| 2 | NS_F_23_W_41 | 0.5635610 |\n",
       "| 3 | CS_M_28_W_16 | 0.5400870 |\n",
       "| 4 | NS_F_21_W_38 | 0.5112396 |\n",
       "| 5 | CS_M_29_W_17 | 0.4616988 |\n",
       "| 6 | NS_F_38_B_61 | 0.4394047 |\n",
       "\n"
      ],
      "text/plain": [
       "  Subject_ID   Acute_Stress\n",
       "1 NS_M_28_W_51 0.8069382   \n",
       "2 NS_F_23_W_41 0.5635610   \n",
       "3 CS_M_28_W_16 0.5400870   \n",
       "4 NS_F_21_W_38 0.5112396   \n",
       "5 CS_M_29_W_17 0.4616988   \n",
       "6 NS_F_38_B_61 0.4394047   "
      ]
     },
     "metadata": {},
     "output_type": "display_data"
    }
   ],
   "source": [
    "acute_stress = function(weights_df){\n",
    "    # add words!!\n",
    "    \n",
    "    # combining the mediator scores for all 63 subjects with the ordinal weights into one dataframe\n",
    "    wider_weights_df = mediator_scores_df %>%\n",
    "        filter(Variable %in% acute_biomarkers) %>%\n",
    "        mutate(Mediator_Score = log2(Mediator_Score + 1)) %>%\n",
    "        dcast(Variable ~ Subject_ID, value.var = \"Mediator_Score\") %>% \n",
    "        inner_join(weights_df) %>%\n",
    "        column_to_rownames(\"Variable\")\n",
    "\n",
    "    # multiplying the value of the mediator in each row by its respective ordinal\n",
    "    # weight found in the last column\n",
    "    multiplication_df = wider_weights_df %>%\n",
    "        dplyr::select(-Coefficient) %>%\n",
    "        mutate(across(contains(\"_\"), ~.x*wider_weights_df$Coefficient))\n",
    "\n",
    "    # calculating allostatic load by summing by the columns\n",
    "    allostatic_load_df = data.frame(Acute_Stress = apply(multiplication_df, 2, sum)) %>%\n",
    "        arrange(-Acute_Stress) %>%\n",
    "        rownames_to_column(var = \"Subject_ID\")\n",
    "    \n",
    "    return(allostatic_load_df)\n",
    "    }\n",
    "\n",
    "# calling fn\n",
    "three_acute_stress_df = acute_stress(three_weights_df)\n",
    "two_acute_stress_df = acute_stress(two_weights_df)\n",
    "\n",
    "head(three_acute_stress_df)"
   ]
  },
  {
   "cell_type": "markdown",
   "id": "4a0b6ffa-5157-44ab-a09f-0c2a3af2a03c",
   "metadata": {},
   "source": [
    "# Chronic Stress Summation\n",
    "\n",
    "This involves normalizing their mediator scores, multiplying HDL by -1 since it's considered protective against atherosclerotic risk, and summing them to get the chronic stress score.\n",
    "\n",
    "These biomarkers are essentially weighted with 1 or -1."
   ]
  },
  {
   "cell_type": "code",
   "execution_count": 21,
   "id": "8eb61b72-0912-4ff2-9458-b3b727d0da53",
   "metadata": {},
   "outputs": [
    {
     "data": {
      "text/html": [
       "<table class=\"dataframe\">\n",
       "<caption>A tibble: 6 × 2</caption>\n",
       "<thead>\n",
       "\t<tr><th scope=col>Subject_ID</th><th scope=col>Chronic_Stress</th></tr>\n",
       "\t<tr><th scope=col>&lt;chr&gt;</th><th scope=col>&lt;dbl&gt;</th></tr>\n",
       "</thead>\n",
       "<tbody>\n",
       "\t<tr><td>NS_F_42_B_62</td><td>1.0000000</td></tr>\n",
       "\t<tr><td>CS_F_39_W_32</td><td>0.8849612</td></tr>\n",
       "\t<tr><td>NS_F_28_B_53</td><td>0.8810224</td></tr>\n",
       "\t<tr><td>NS_F_35_B_59</td><td>0.8382134</td></tr>\n",
       "\t<tr><td>NS_F_27_B_50</td><td>0.8268365</td></tr>\n",
       "\t<tr><td>NS_F_23_W_41</td><td>0.7215899</td></tr>\n",
       "</tbody>\n",
       "</table>\n"
      ],
      "text/latex": [
       "A tibble: 6 × 2\n",
       "\\begin{tabular}{ll}\n",
       " Subject\\_ID & Chronic\\_Stress\\\\\n",
       " <chr> & <dbl>\\\\\n",
       "\\hline\n",
       "\t NS\\_F\\_42\\_B\\_62 & 1.0000000\\\\\n",
       "\t CS\\_F\\_39\\_W\\_32 & 0.8849612\\\\\n",
       "\t NS\\_F\\_28\\_B\\_53 & 0.8810224\\\\\n",
       "\t NS\\_F\\_35\\_B\\_59 & 0.8382134\\\\\n",
       "\t NS\\_F\\_27\\_B\\_50 & 0.8268365\\\\\n",
       "\t NS\\_F\\_23\\_W\\_41 & 0.7215899\\\\\n",
       "\\end{tabular}\n"
      ],
      "text/markdown": [
       "\n",
       "A tibble: 6 × 2\n",
       "\n",
       "| Subject_ID &lt;chr&gt; | Chronic_Stress &lt;dbl&gt; |\n",
       "|---|---|\n",
       "| NS_F_42_B_62 | 1.0000000 |\n",
       "| CS_F_39_W_32 | 0.8849612 |\n",
       "| NS_F_28_B_53 | 0.8810224 |\n",
       "| NS_F_35_B_59 | 0.8382134 |\n",
       "| NS_F_27_B_50 | 0.8268365 |\n",
       "| NS_F_23_W_41 | 0.7215899 |\n",
       "\n"
      ],
      "text/plain": [
       "  Subject_ID   Chronic_Stress\n",
       "1 NS_F_42_B_62 1.0000000     \n",
       "2 CS_F_39_W_32 0.8849612     \n",
       "3 NS_F_28_B_53 0.8810224     \n",
       "4 NS_F_35_B_59 0.8382134     \n",
       "5 NS_F_27_B_50 0.8268365     \n",
       "6 NS_F_23_W_41 0.7215899     "
      ]
     },
     "metadata": {},
     "output_type": "display_data"
    }
   ],
   "source": [
    "chronic_biomarkers = c('Hba1c','CRP', 'HDL','Fibrinogen')\n",
    "\n",
    "chronic_stress_df = mediator_scores_df %>%\n",
    "    # filtering for chronic biomarkers\n",
    "    filter(Variable %in% chronic_biomarkers) %>%\n",
    "    # normalizing\n",
    "    mutate(Mediator_Score = log2(Mediator_Score + 1)) %>%\n",
    "    # making HDL negative\n",
    "    mutate(Mediator_Score = ifelse(Variable == \"HDL\", Mediator_Score * -1, Mediator_Score)) %>%\n",
    "    # summing for each subject\n",
    "    group_by(Subject_ID) %>%\n",
    "    summarize(Summed_Score = sum(Mediator_Score)) %>%\n",
    "    # rescaling so that these numbers fall between 0 and 1\n",
    "    mutate(Chronic_Stress = (Summed_Score  - min(Summed_Score))/ (max(Summed_Score) - min(Summed_Score))) %>%\n",
    "    dplyr::select(-Summed_Score) %>%\n",
    "    arrange(-Chronic_Stress)\n",
    "\n",
    "head(chronic_stress_df)"
   ]
  },
  {
   "cell_type": "markdown",
   "id": "06df4dae-0def-45de-97b9-18f33eebd00f",
   "metadata": {},
   "source": [
    "# Overall AL\n",
    "\n",
    "Summing the acute and chronic stress scores. These scores range from 0-2."
   ]
  },
  {
   "cell_type": "code",
   "execution_count": 22,
   "id": "37b253f9-bc43-42aa-bfc3-4f8c9a080237",
   "metadata": {},
   "outputs": [
    {
     "name": "stderr",
     "output_type": "stream",
     "text": [
      "\u001b[1m\u001b[22mJoining with `by = join_by(Subject_ID)`\n",
      "\u001b[1m\u001b[22mJoining with `by = join_by(Subject_ID)`\n"
     ]
    },
    {
     "data": {
      "text/html": [
       "<table class=\"dataframe\">\n",
       "<caption>A data.frame: 6 × 4</caption>\n",
       "<thead>\n",
       "\t<tr><th></th><th scope=col>Subject_ID</th><th scope=col>Acute_Stress</th><th scope=col>Chronic_Stress</th><th scope=col>Allostatic_Load</th></tr>\n",
       "\t<tr><th></th><th scope=col>&lt;chr&gt;</th><th scope=col>&lt;dbl&gt;</th><th scope=col>&lt;dbl&gt;</th><th scope=col>&lt;dbl&gt;</th></tr>\n",
       "</thead>\n",
       "<tbody>\n",
       "\t<tr><th scope=row>1</th><td>NS_M_28_W_51</td><td>0.8069382</td><td>0.09677053</td><td>0.9037087</td></tr>\n",
       "\t<tr><th scope=row>2</th><td>NS_F_23_W_41</td><td>0.5635610</td><td>0.72158988</td><td>1.2851509</td></tr>\n",
       "\t<tr><th scope=row>3</th><td>CS_M_28_W_16</td><td>0.5400870</td><td>0.32974467</td><td>0.8698317</td></tr>\n",
       "\t<tr><th scope=row>4</th><td>NS_F_21_W_38</td><td>0.5112396</td><td>0.51026534</td><td>1.0215049</td></tr>\n",
       "\t<tr><th scope=row>5</th><td>CS_M_29_W_17</td><td>0.4616988</td><td>0.38316708</td><td>0.8448658</td></tr>\n",
       "\t<tr><th scope=row>6</th><td>NS_F_38_B_61</td><td>0.4394047</td><td>0.64381800</td><td>1.0832227</td></tr>\n",
       "</tbody>\n",
       "</table>\n"
      ],
      "text/latex": [
       "A data.frame: 6 × 4\n",
       "\\begin{tabular}{r|llll}\n",
       "  & Subject\\_ID & Acute\\_Stress & Chronic\\_Stress & Allostatic\\_Load\\\\\n",
       "  & <chr> & <dbl> & <dbl> & <dbl>\\\\\n",
       "\\hline\n",
       "\t1 & NS\\_M\\_28\\_W\\_51 & 0.8069382 & 0.09677053 & 0.9037087\\\\\n",
       "\t2 & NS\\_F\\_23\\_W\\_41 & 0.5635610 & 0.72158988 & 1.2851509\\\\\n",
       "\t3 & CS\\_M\\_28\\_W\\_16 & 0.5400870 & 0.32974467 & 0.8698317\\\\\n",
       "\t4 & NS\\_F\\_21\\_W\\_38 & 0.5112396 & 0.51026534 & 1.0215049\\\\\n",
       "\t5 & CS\\_M\\_29\\_W\\_17 & 0.4616988 & 0.38316708 & 0.8448658\\\\\n",
       "\t6 & NS\\_F\\_38\\_B\\_61 & 0.4394047 & 0.64381800 & 1.0832227\\\\\n",
       "\\end{tabular}\n"
      ],
      "text/markdown": [
       "\n",
       "A data.frame: 6 × 4\n",
       "\n",
       "| <!--/--> | Subject_ID &lt;chr&gt; | Acute_Stress &lt;dbl&gt; | Chronic_Stress &lt;dbl&gt; | Allostatic_Load &lt;dbl&gt; |\n",
       "|---|---|---|---|---|\n",
       "| 1 | NS_M_28_W_51 | 0.8069382 | 0.09677053 | 0.9037087 |\n",
       "| 2 | NS_F_23_W_41 | 0.5635610 | 0.72158988 | 1.2851509 |\n",
       "| 3 | CS_M_28_W_16 | 0.5400870 | 0.32974467 | 0.8698317 |\n",
       "| 4 | NS_F_21_W_38 | 0.5112396 | 0.51026534 | 1.0215049 |\n",
       "| 5 | CS_M_29_W_17 | 0.4616988 | 0.38316708 | 0.8448658 |\n",
       "| 6 | NS_F_38_B_61 | 0.4394047 | 0.64381800 | 1.0832227 |\n",
       "\n"
      ],
      "text/plain": [
       "  Subject_ID   Acute_Stress Chronic_Stress Allostatic_Load\n",
       "1 NS_M_28_W_51 0.8069382    0.09677053     0.9037087      \n",
       "2 NS_F_23_W_41 0.5635610    0.72158988     1.2851509      \n",
       "3 CS_M_28_W_16 0.5400870    0.32974467     0.8698317      \n",
       "4 NS_F_21_W_38 0.5112396    0.51026534     1.0215049      \n",
       "5 CS_M_29_W_17 0.4616988    0.38316708     0.8448658      \n",
       "6 NS_F_38_B_61 0.4394047    0.64381800     1.0832227      "
      ]
     },
     "metadata": {},
     "output_type": "display_data"
    }
   ],
   "source": [
    "allostatic_three_df = inner_join(three_acute_stress_df, chronic_stress_df) %>%\n",
    "    mutate(Allostatic_Load = Acute_Stress + Chronic_Stress)\n",
    "\n",
    "allostatic_two_df = inner_join(two_acute_stress_df, chronic_stress_df) %>%\n",
    "    mutate(Allostatic_Load = Acute_Stress + Chronic_Stress)\n",
    "\n",
    "head(allostatic_three_df)"
   ]
  },
  {
   "cell_type": "markdown",
   "id": "c8ac8fb1-cce1-46a7-9968-2baf56dfac58",
   "metadata": {},
   "source": [
    "Before testing for statistical differences, let's check out the distributions for each stress variable."
   ]
  },
  {
   "cell_type": "code",
   "execution_count": 23,
   "id": "17b4a0aa-1e28-4b72-b5ff-3021c4880c43",
   "metadata": {},
   "outputs": [
    {
     "data": {
      "text/html": [
       "<table class=\"dataframe\">\n",
       "<caption>A data.frame: 3 × 4</caption>\n",
       "<thead>\n",
       "\t<tr><th></th><th scope=col>statistic</th><th scope=col>p.value</th><th scope=col>method</th><th scope=col>Normality</th></tr>\n",
       "\t<tr><th></th><th scope=col>&lt;dbl&gt;</th><th scope=col>&lt;dbl&gt;</th><th scope=col>&lt;chr&gt;</th><th scope=col>&lt;chr&gt;</th></tr>\n",
       "</thead>\n",
       "<tbody>\n",
       "\t<tr><th scope=row>Acute_Stress</th><td>0.9145401</td><td>0.0003314206</td><td>Shapiro-Wilk normality test</td><td>Non-normal</td></tr>\n",
       "\t<tr><th scope=row>Chronic_Stress</th><td>0.9517668</td><td>0.0150754390</td><td>Shapiro-Wilk normality test</td><td>Non-normal</td></tr>\n",
       "\t<tr><th scope=row>Allostatic_Load</th><td>0.9521905</td><td>0.0158159192</td><td>Shapiro-Wilk normality test</td><td>Non-normal</td></tr>\n",
       "</tbody>\n",
       "</table>\n"
      ],
      "text/latex": [
       "A data.frame: 3 × 4\n",
       "\\begin{tabular}{r|llll}\n",
       "  & statistic & p.value & method & Normality\\\\\n",
       "  & <dbl> & <dbl> & <chr> & <chr>\\\\\n",
       "\\hline\n",
       "\tAcute\\_Stress & 0.9145401 & 0.0003314206 & Shapiro-Wilk normality test & Non-normal\\\\\n",
       "\tChronic\\_Stress & 0.9517668 & 0.0150754390 & Shapiro-Wilk normality test & Non-normal\\\\\n",
       "\tAllostatic\\_Load & 0.9521905 & 0.0158159192 & Shapiro-Wilk normality test & Non-normal\\\\\n",
       "\\end{tabular}\n"
      ],
      "text/markdown": [
       "\n",
       "A data.frame: 3 × 4\n",
       "\n",
       "| <!--/--> | statistic &lt;dbl&gt; | p.value &lt;dbl&gt; | method &lt;chr&gt; | Normality &lt;chr&gt; |\n",
       "|---|---|---|---|---|\n",
       "| Acute_Stress | 0.9145401 | 0.0003314206 | Shapiro-Wilk normality test | Non-normal |\n",
       "| Chronic_Stress | 0.9517668 | 0.0150754390 | Shapiro-Wilk normality test | Non-normal |\n",
       "| Allostatic_Load | 0.9521905 | 0.0158159192 | Shapiro-Wilk normality test | Non-normal |\n",
       "\n"
      ],
      "text/plain": [
       "                statistic p.value      method                      Normality \n",
       "Acute_Stress    0.9145401 0.0003314206 Shapiro-Wilk normality test Non-normal\n",
       "Chronic_Stress  0.9517668 0.0150754390 Shapiro-Wilk normality test Non-normal\n",
       "Allostatic_Load 0.9521905 0.0158159192 Shapiro-Wilk normality test Non-normal"
      ]
     },
     "metadata": {},
     "output_type": "display_data"
    },
    {
     "data": {
      "text/html": [
       "<table class=\"dataframe\">\n",
       "<caption>A data.frame: 3 × 4</caption>\n",
       "<thead>\n",
       "\t<tr><th></th><th scope=col>statistic</th><th scope=col>p.value</th><th scope=col>method</th><th scope=col>Normality</th></tr>\n",
       "\t<tr><th></th><th scope=col>&lt;dbl&gt;</th><th scope=col>&lt;dbl&gt;</th><th scope=col>&lt;chr&gt;</th><th scope=col>&lt;chr&gt;</th></tr>\n",
       "</thead>\n",
       "<tbody>\n",
       "\t<tr><th scope=row>Acute_Stress</th><td>0.9295009</td><td>0.00140166</td><td>Shapiro-Wilk normality test</td><td>Non-normal</td></tr>\n",
       "\t<tr><th scope=row>Chronic_Stress</th><td>0.9517668</td><td>0.01507544</td><td>Shapiro-Wilk normality test</td><td>Non-normal</td></tr>\n",
       "\t<tr><th scope=row>Allostatic_Load</th><td>0.9556824</td><td>0.02356695</td><td>Shapiro-Wilk normality test</td><td>Non-normal</td></tr>\n",
       "</tbody>\n",
       "</table>\n"
      ],
      "text/latex": [
       "A data.frame: 3 × 4\n",
       "\\begin{tabular}{r|llll}\n",
       "  & statistic & p.value & method & Normality\\\\\n",
       "  & <dbl> & <dbl> & <chr> & <chr>\\\\\n",
       "\\hline\n",
       "\tAcute\\_Stress & 0.9295009 & 0.00140166 & Shapiro-Wilk normality test & Non-normal\\\\\n",
       "\tChronic\\_Stress & 0.9517668 & 0.01507544 & Shapiro-Wilk normality test & Non-normal\\\\\n",
       "\tAllostatic\\_Load & 0.9556824 & 0.02356695 & Shapiro-Wilk normality test & Non-normal\\\\\n",
       "\\end{tabular}\n"
      ],
      "text/markdown": [
       "\n",
       "A data.frame: 3 × 4\n",
       "\n",
       "| <!--/--> | statistic &lt;dbl&gt; | p.value &lt;dbl&gt; | method &lt;chr&gt; | Normality &lt;chr&gt; |\n",
       "|---|---|---|---|---|\n",
       "| Acute_Stress | 0.9295009 | 0.00140166 | Shapiro-Wilk normality test | Non-normal |\n",
       "| Chronic_Stress | 0.9517668 | 0.01507544 | Shapiro-Wilk normality test | Non-normal |\n",
       "| Allostatic_Load | 0.9556824 | 0.02356695 | Shapiro-Wilk normality test | Non-normal |\n",
       "\n"
      ],
      "text/plain": [
       "                statistic p.value    method                      Normality \n",
       "Acute_Stress    0.9295009 0.00140166 Shapiro-Wilk normality test Non-normal\n",
       "Chronic_Stress  0.9517668 0.01507544 Shapiro-Wilk normality test Non-normal\n",
       "Allostatic_Load 0.9556824 0.02356695 Shapiro-Wilk normality test Non-normal"
      ]
     },
     "metadata": {},
     "output_type": "display_data"
    }
   ],
   "source": [
    "# seeing if this data is normal\n",
    "do.call(rbind.data.frame, apply(allostatic_three_df[,2:4], 2, shapiro.test))[,1:3] %>%\n",
    "    mutate(Normality = ifelse(p.value < 0.05, \"Non-normal\", \"Normal\"))\n",
    "\n",
    "do.call(rbind.data.frame, apply(allostatic_two_df[,2:4], 2, shapiro.test))[,1:3] %>%\n",
    "    mutate(Normality = ifelse(p.value < 0.05, \"Non-normal\", \"Normal\"))"
   ]
  },
  {
   "cell_type": "code",
   "execution_count": 24,
   "id": "af5c9271-9f59-42f3-b4db-436bf304eb37",
   "metadata": {},
   "outputs": [],
   "source": [
    "# # it's not so normalizing\n",
    "# norm_allostatic_three_df = allostatic_three_df %>%\n",
    "#     mutate(across(Acute_Stress:Allostatic_Load, ~ log2(.x + 1)))\n",
    "\n",
    "# norm_allostatic_two_df = allostatic_two_df %>%\n",
    "#     mutate(across(Acute_Stress:Allostatic_Load, ~ log2(.x + 1)))\n",
    "\n",
    "# head(norm_allostatic_three_df)"
   ]
  },
  {
   "cell_type": "code",
   "execution_count": 25,
   "id": "ac161f65-379c-4532-92c9-8bd54a5bdc09",
   "metadata": {},
   "outputs": [],
   "source": [
    "# # seeing if this data is normal\n",
    "# do.call(rbind.data.frame, apply(norm_allostatic_three_df[,2:4], 2, shapiro.test))[,1:3] %>%\n",
    "#     mutate(Normality = ifelse(p.value < 0.05, \"Non-normal\", \"Normal\"))\n",
    "\n",
    "# do.call(rbind.data.frame, apply(norm_allostatic_two_df[,2:4], 2, shapiro.test))[,1:3] %>%\n",
    "#     mutate(Normality = ifelse(p.value < 0.05, \"Non-normal\", \"Normal\"))"
   ]
  },
  {
   "cell_type": "code",
   "execution_count": 26,
   "id": "78be8a13-8cb8-47e0-be03-6f47044f88d1",
   "metadata": {},
   "outputs": [
    {
     "name": "stderr",
     "output_type": "stream",
     "text": [
      "\u001b[1m\u001b[22m`stat_bin()` using `bins = 30`. Pick better value with `binwidth`.\n"
     ]
    },
    {
     "data": {
      "image/png": "[encoded data removed]",
      "text/plain": [
       "plot without title"
      ]
     },
     "metadata": {
      "image/png": {
       "height": 420,
       "width": 720
      }
     },
     "output_type": "display_data"
    }
   ],
   "source": [
    "# creating histograms to visualize distribution of acute, chronic, and overall scores\n",
    "# creating a longer df for plotting\n",
    "longer_allostatic_three_df = pivot_longer(allostatic_three_df, cols = 2:4, \n",
    "                                          names_to = \"Variable\", values_to = \"Value\") %>%\n",
    "                                    mutate(No_Weighted_Class = \"Three\")\n",
    "longer_allostatic_two_df = pivot_longer(allostatic_two_df, cols = 2:4, \n",
    "                                          names_to = \"Variable\", values_to = \"Value\") %>%\n",
    "                                    mutate(No_Weighted_Class = \"Two\")\n",
    "\n",
    "longer_allostatic_df = rbind(longer_allostatic_three_df, longer_allostatic_two_df)\n",
    "\n",
    "options(repr.plot.width=12, repr.plot.height=7) #changing size\n",
    "ggplot(longer_allostatic_df) + \n",
    "  geom_histogram(aes(x = Value)) + \n",
    "\n",
    "  facet_grid(No_Weighted_Class~Variable)"
   ]
  },
  {
   "cell_type": "markdown",
   "id": "94b02a32-106c-41a3-85b0-08fb75d6034a",
   "metadata": {},
   "source": [
    "These data aren't normally distributed. However, I'm moving forward and creating the dataframe necessary to run the anova tests."
   ]
  },
  {
   "cell_type": "code",
   "execution_count": 27,
   "id": "2a3002ac-a7c7-42a6-9ec0-28a2f500cb64",
   "metadata": {
    "scrolled": true
   },
   "outputs": [
    {
     "name": "stderr",
     "output_type": "stream",
     "text": [
      "\u001b[1m\u001b[22mJoining with `by = join_by(Subject_ID)`\n",
      "\u001b[1m\u001b[22mJoining with `by = join_by(Subject_ID)`\n"
     ]
    },
    {
     "data": {
      "text/html": [
       "<table class=\"dataframe\">\n",
       "<caption>A data.frame: 6 × 7</caption>\n",
       "<thead>\n",
       "\t<tr><th></th><th scope=col>Subject_ID</th><th scope=col>Acute_Stress</th><th scope=col>Chronic_Stress</th><th scope=col>Allostatic_Load</th><th scope=col>Smoking_Status</th><th scope=col>Sex</th><th scope=col>Race</th></tr>\n",
       "\t<tr><th></th><th scope=col>&lt;chr&gt;</th><th scope=col>&lt;dbl&gt;</th><th scope=col>&lt;dbl&gt;</th><th scope=col>&lt;dbl&gt;</th><th scope=col>&lt;fct&gt;</th><th scope=col>&lt;fct&gt;</th><th scope=col>&lt;fct&gt;</th></tr>\n",
       "</thead>\n",
       "<tbody>\n",
       "\t<tr><th scope=row>1</th><td>NS_M_28_W_51</td><td>0.8069382</td><td>0.09677053</td><td>0.9037087</td><td>NS</td><td>M</td><td>W</td></tr>\n",
       "\t<tr><th scope=row>2</th><td>NS_F_23_W_41</td><td>0.5635610</td><td>0.72158988</td><td>1.2851509</td><td>NS</td><td>F</td><td>W</td></tr>\n",
       "\t<tr><th scope=row>3</th><td>CS_M_28_W_16</td><td>0.5400870</td><td>0.32974467</td><td>0.8698317</td><td>CS</td><td>M</td><td>W</td></tr>\n",
       "\t<tr><th scope=row>4</th><td>NS_F_21_W_38</td><td>0.5112396</td><td>0.51026534</td><td>1.0215049</td><td>NS</td><td>F</td><td>W</td></tr>\n",
       "\t<tr><th scope=row>5</th><td>CS_M_29_W_17</td><td>0.4616988</td><td>0.38316708</td><td>0.8448658</td><td>CS</td><td>M</td><td>W</td></tr>\n",
       "\t<tr><th scope=row>6</th><td>NS_F_38_B_61</td><td>0.4394047</td><td>0.64381800</td><td>1.0832227</td><td>NS</td><td>F</td><td>B</td></tr>\n",
       "</tbody>\n",
       "</table>\n"
      ],
      "text/latex": [
       "A data.frame: 6 × 7\n",
       "\\begin{tabular}{r|lllllll}\n",
       "  & Subject\\_ID & Acute\\_Stress & Chronic\\_Stress & Allostatic\\_Load & Smoking\\_Status & Sex & Race\\\\\n",
       "  & <chr> & <dbl> & <dbl> & <dbl> & <fct> & <fct> & <fct>\\\\\n",
       "\\hline\n",
       "\t1 & NS\\_M\\_28\\_W\\_51 & 0.8069382 & 0.09677053 & 0.9037087 & NS & M & W\\\\\n",
       "\t2 & NS\\_F\\_23\\_W\\_41 & 0.5635610 & 0.72158988 & 1.2851509 & NS & F & W\\\\\n",
       "\t3 & CS\\_M\\_28\\_W\\_16 & 0.5400870 & 0.32974467 & 0.8698317 & CS & M & W\\\\\n",
       "\t4 & NS\\_F\\_21\\_W\\_38 & 0.5112396 & 0.51026534 & 1.0215049 & NS & F & W\\\\\n",
       "\t5 & CS\\_M\\_29\\_W\\_17 & 0.4616988 & 0.38316708 & 0.8448658 & CS & M & W\\\\\n",
       "\t6 & NS\\_F\\_38\\_B\\_61 & 0.4394047 & 0.64381800 & 1.0832227 & NS & F & B\\\\\n",
       "\\end{tabular}\n"
      ],
      "text/markdown": [
       "\n",
       "A data.frame: 6 × 7\n",
       "\n",
       "| <!--/--> | Subject_ID &lt;chr&gt; | Acute_Stress &lt;dbl&gt; | Chronic_Stress &lt;dbl&gt; | Allostatic_Load &lt;dbl&gt; | Smoking_Status &lt;fct&gt; | Sex &lt;fct&gt; | Race &lt;fct&gt; |\n",
       "|---|---|---|---|---|---|---|---|\n",
       "| 1 | NS_M_28_W_51 | 0.8069382 | 0.09677053 | 0.9037087 | NS | M | W |\n",
       "| 2 | NS_F_23_W_41 | 0.5635610 | 0.72158988 | 1.2851509 | NS | F | W |\n",
       "| 3 | CS_M_28_W_16 | 0.5400870 | 0.32974467 | 0.8698317 | CS | M | W |\n",
       "| 4 | NS_F_21_W_38 | 0.5112396 | 0.51026534 | 1.0215049 | NS | F | W |\n",
       "| 5 | CS_M_29_W_17 | 0.4616988 | 0.38316708 | 0.8448658 | CS | M | W |\n",
       "| 6 | NS_F_38_B_61 | 0.4394047 | 0.64381800 | 1.0832227 | NS | F | B |\n",
       "\n"
      ],
      "text/plain": [
       "  Subject_ID   Acute_Stress Chronic_Stress Allostatic_Load Smoking_Status Sex\n",
       "1 NS_M_28_W_51 0.8069382    0.09677053     0.9037087       NS             M  \n",
       "2 NS_F_23_W_41 0.5635610    0.72158988     1.2851509       NS             F  \n",
       "3 CS_M_28_W_16 0.5400870    0.32974467     0.8698317       CS             M  \n",
       "4 NS_F_21_W_38 0.5112396    0.51026534     1.0215049       NS             F  \n",
       "5 CS_M_29_W_17 0.4616988    0.38316708     0.8448658       CS             M  \n",
       "6 NS_F_38_B_61 0.4394047    0.64381800     1.0832227       NS             F  \n",
       "  Race\n",
       "1 W   \n",
       "2 W   \n",
       "3 W   \n",
       "4 W   \n",
       "5 W   \n",
       "6 B   "
      ]
     },
     "metadata": {},
     "output_type": "display_data"
    }
   ],
   "source": [
    "# adding in demographic info for each subject\n",
    "three_anova_df = inner_join(allostatic_three_df, subject_info_df[,c(3,5,6,8)])\n",
    "two_anova_df = inner_join(allostatic_two_df, subject_info_df[,c(3,5,6,8)])\n",
    "\n",
    "\n",
    "# converting into factors\n",
    "three_anova_df$Smoking_Status = factor(three_anova_df$Smoking_Status, levels = c(\"NS\", \"CS\"))\n",
    "three_anova_df$Sex = factor(three_anova_df$Sex, levels = c(\"M\", \"F\"))\n",
    "three_anova_df$Race = factor(three_anova_df$Race, levels = c(\"W\", \"B\"))\n",
    "two_anova_df$Smoking_Status = factor(two_anova_df$Smoking_Status, levels = c(\"NS\", \"CS\"))\n",
    "two_anova_df$Sex = factor(two_anova_df$Sex, levels = c(\"M\", \"F\"))\n",
    "two_anova_df$Race = factor(two_anova_df$Race, levels = c(\"W\", \"B\"))\n",
    "\n",
    "head(three_anova_df)"
   ]
  },
  {
   "cell_type": "code",
   "execution_count": 28,
   "id": "2b215603-bb76-454d-8a1b-aedbda3d126a",
   "metadata": {},
   "outputs": [
    {
     "data": {
      "text/plain": [
       "              Sex\n",
       "Smoking_Status  M  F\n",
       "            NS  7 23\n",
       "            CS 16 17"
      ]
     },
     "metadata": {},
     "output_type": "display_data"
    },
    {
     "data": {
      "text/plain": [
       "\n",
       "\tPearson's Chi-squared test with Yates' continuity correction\n",
       "\n",
       "data:  table(three_anova_df[, c(5:6)])\n",
       "X-squared = 3.2722, df = 1, p-value = 0.07046\n"
      ]
     },
     "metadata": {},
     "output_type": "display_data"
    },
    {
     "data": {
      "text/plain": [
       "              Race\n",
       "Smoking_Status  W  B\n",
       "            NS 16 14\n",
       "            CS 16 17"
      ]
     },
     "metadata": {},
     "output_type": "display_data"
    },
    {
     "data": {
      "text/plain": [
       "\n",
       "\tPearson's Chi-squared test with Yates' continuity correction\n",
       "\n",
       "data:  table(three_anova_df[, c(5, 7)])\n",
       "X-squared = 0.017465, df = 1, p-value = 0.8949\n"
      ]
     },
     "metadata": {},
     "output_type": "display_data"
    },
    {
     "data": {
      "text/plain": [
       "   Race\n",
       "Sex  W  B\n",
       "  M 12 11\n",
       "  F 20 20"
      ]
     },
     "metadata": {},
     "output_type": "display_data"
    },
    {
     "data": {
      "text/plain": [
       "\n",
       "\tPearson's Chi-squared test with Yates' continuity correction\n",
       "\n",
       "data:  table(three_anova_df[, c(6:7)])\n",
       "X-squared = 5.4891e-31, df = 1, p-value = 1\n"
      ]
     },
     "metadata": {},
     "output_type": "display_data"
    }
   ],
   "source": [
    "# looking at counts for each variable\n",
    "# smoking status and sex\n",
    "table(three_anova_df[,c(5:6)])\n",
    "chisq.test(table(three_anova_df[,c(5:6)]))\n",
    "# smoking status and race\n",
    "table(three_anova_df[,c(5,7)])\n",
    "chisq.test(table(three_anova_df[,c(5,7)]))\n",
    "# race and sex\n",
    "table(three_anova_df[,c(6:7)])\n",
    "chisq.test(table(three_anova_df[,c(6:7)]))"
   ]
  },
  {
   "cell_type": "markdown",
   "id": "debac84a-8a55-4ca8-b698-74618ec0b7a8",
   "metadata": {},
   "source": [
    "Although there were no significant differences between the demographic variables, it's clear that our dataset underrepresents non-smoking men.\n",
    "\n",
    "# Statistical Tests of AL and Stress Scores\n",
    "Now testing for statistical differences based on sex, race, and smoking status using a two way anova and the tukey's post hoc tests. \n",
    "\n",
    "## Allostatic Load"
   ]
  },
  {
   "cell_type": "code",
   "execution_count": 29,
   "id": "66316b61",
   "metadata": {},
   "outputs": [],
   "source": [
    "get_anova = function(anova_df, variable1, variable2, outcome, bp_class){\n",
    "    # add words!!\n",
    "    # creating a function to run an anova\n",
    "\n",
    "    # runing anova\n",
    "    anova_results = aov(eval(rlang::parse_expr(outcome)) ~ eval(rlang::parse_expr(variable1)) * eval(rlang::parse_expr(variable2)), \n",
    "                        data = anova_df) \n",
    "    # type 3 anova\n",
    "    anova_type3 = Anova(anova_results, type = 'III')\n",
    "\n",
    "    # extract f and p values\n",
    "    anova_summary = anova_type3[2:4,3:4]\n",
    "    colnames(anova_summary) = c(\"F_Value\", \"P_Value\")\n",
    "\n",
    "    # creating df to be exported\n",
    "    anova_values = data.frame(Outcome = outcome, BP_Class = bp_class, \n",
    "                              Comparison = c(variable1, variable2, paste(variable1, \":\", variable2)), anova_summary)\n",
    "    # removing row names\n",
    "    rownames(anova_values) = NULL\n",
    "                \n",
    "    return(anova_values)\n",
    "                \n",
    "    }"
   ]
  },
  {
   "cell_type": "code",
   "execution_count": 34,
   "id": "11b6c36d",
   "metadata": {},
   "outputs": [],
   "source": [
    "# calling fn\n",
    "three_anova_smoking_race_AL = get_anova(three_anova_df, 'Smoking_Status', 'Race', 'Allostatic_Load', \"Three\")\n",
    "three_anova_smoking_sex_AL = get_anova(three_anova_df, 'Smoking_Status', 'Sex', 'Allostatic_Load', \"Three\")\n",
    "three_anova_sex_race_AL = get_anova(three_anova_df, 'Sex', 'Race', 'Allostatic_Load', \"Three\")\n",
    "two_anova_smoking_race_AL = get_anova(two_anova_df, 'Smoking_Status', 'Race', 'Allostatic_Load', \"Two\")\n",
    "two_anova_smoking_sex_AL = get_anova(two_anova_df, 'Smoking_Status', 'Sex', 'Allostatic_Load', \"Two\")\n",
    "two_anova_sex_race_AL = get_anova(two_anova_df, 'Sex', 'Race', 'Allostatic_Load', \"Two\")\n",
    "\n",
    "# creating 1 df\n",
    "allostatic_anova_df = unique(rbind(three_anova_smoking_race_AL, three_anova_smoking_sex_AL,\n",
    "                            three_anova_sex_race_AL, two_anova_smoking_race_AL, two_anova_smoking_sex_AL,\n",
    "                            two_anova_smoking_race_AL)) %>%\n",
    "    # adjusting\n",
    "    #group_by(BP_Class) %>%\n",
    "    mutate(P_Adj = p.adjust(as.numeric(as.character(P_Value)), method = \"fdr\"))"
   ]
  },
  {
   "cell_type": "code",
   "execution_count": 35,
   "id": "b5d91f6d-2270-4186-892a-085699abc342",
   "metadata": {},
   "outputs": [
    {
     "data": {
      "text/html": [
       "<table class=\"dataframe\">\n",
       "<caption>A data.frame: 4 × 6</caption>\n",
       "<thead>\n",
       "\t<tr><th scope=col>Outcome</th><th scope=col>BP_Class</th><th scope=col>Comparison</th><th scope=col>F_Value</th><th scope=col>P_Value</th><th scope=col>P_Adj</th></tr>\n",
       "\t<tr><th scope=col>&lt;chr&gt;</th><th scope=col>&lt;chr&gt;</th><th scope=col>&lt;chr&gt;</th><th scope=col>&lt;dbl&gt;</th><th scope=col>&lt;dbl&gt;</th><th scope=col>&lt;dbl&gt;</th></tr>\n",
       "</thead>\n",
       "<tbody>\n",
       "\t<tr><td>Allostatic_Load</td><td>Three</td><td>Race      </td><td>5.679911</td><td>0.020398427</td><td>0.07649410</td></tr>\n",
       "\t<tr><td>Allostatic_Load</td><td>Three</td><td>Sex       </td><td>5.813981</td><td>0.019031417</td><td>0.07649410</td></tr>\n",
       "\t<tr><td>Allostatic_Load</td><td>Three</td><td>Sex : Race</td><td>9.856932</td><td>0.002642525</td><td>0.03963787</td></tr>\n",
       "\t<tr><td>Allostatic_Load</td><td>Two  </td><td>Race      </td><td>6.613339</td><td>0.012661308</td><td>0.07649410</td></tr>\n",
       "</tbody>\n",
       "</table>\n"
      ],
      "text/latex": [
       "A data.frame: 4 × 6\n",
       "\\begin{tabular}{llllll}\n",
       " Outcome & BP\\_Class & Comparison & F\\_Value & P\\_Value & P\\_Adj\\\\\n",
       " <chr> & <chr> & <chr> & <dbl> & <dbl> & <dbl>\\\\\n",
       "\\hline\n",
       "\t Allostatic\\_Load & Three & Race       & 5.679911 & 0.020398427 & 0.07649410\\\\\n",
       "\t Allostatic\\_Load & Three & Sex        & 5.813981 & 0.019031417 & 0.07649410\\\\\n",
       "\t Allostatic\\_Load & Three & Sex : Race & 9.856932 & 0.002642525 & 0.03963787\\\\\n",
       "\t Allostatic\\_Load & Two   & Race       & 6.613339 & 0.012661308 & 0.07649410\\\\\n",
       "\\end{tabular}\n"
      ],
      "text/markdown": [
       "\n",
       "A data.frame: 4 × 6\n",
       "\n",
       "| Outcome &lt;chr&gt; | BP_Class &lt;chr&gt; | Comparison &lt;chr&gt; | F_Value &lt;dbl&gt; | P_Value &lt;dbl&gt; | P_Adj &lt;dbl&gt; |\n",
       "|---|---|---|---|---|---|\n",
       "| Allostatic_Load | Three | Race       | 5.679911 | 0.020398427 | 0.07649410 |\n",
       "| Allostatic_Load | Three | Sex        | 5.813981 | 0.019031417 | 0.07649410 |\n",
       "| Allostatic_Load | Three | Sex : Race | 9.856932 | 0.002642525 | 0.03963787 |\n",
       "| Allostatic_Load | Two   | Race       | 6.613339 | 0.012661308 | 0.07649410 |\n",
       "\n"
      ],
      "text/plain": [
       "  Outcome         BP_Class Comparison F_Value  P_Value     P_Adj     \n",
       "1 Allostatic_Load Three    Race       5.679911 0.020398427 0.07649410\n",
       "2 Allostatic_Load Three    Sex        5.813981 0.019031417 0.07649410\n",
       "3 Allostatic_Load Three    Sex : Race 9.856932 0.002642525 0.03963787\n",
       "4 Allostatic_Load Two      Race       6.613339 0.012661308 0.07649410"
      ]
     },
     "metadata": {},
     "output_type": "display_data"
    }
   ],
   "source": [
    "# viewing sig results\n",
    "allostatic_anova_df %>%\n",
    "    filter(P_Adj < 0.1)"
   ]
  },
  {
   "cell_type": "markdown",
   "id": "5ecaac6c",
   "metadata": {},
   "source": [
    "There are statistically significant differences in allostatic load based on race, sex, and the interaction between race and sex using ordinal weights from blood pressure classification with three classes.\n",
    "\n",
    "Only race was significant when using ordinal weights from blood pressure classification with two classes."
   ]
  },
  {
   "cell_type": "code",
   "execution_count": 44,
   "id": "d06fd8c2-36de-46d3-a478-4d74bc4d0b19",
   "metadata": {},
   "outputs": [],
   "source": [
    "get_tukey = function(anova_df, variable1, variable2, outcome, bp_class){\n",
    "    # add words!!\n",
    "    # creating a function to run tukeys tests\n",
    "    \n",
    "    # tukeys\n",
    "    tukey_df = anova_df %>%\n",
    "        tukey_hsd(as.formula(paste0(outcome, \"~\", variable1, \"*\", variable2)))\n",
    "    \n",
    "    # NEED TO RUN TUKEY'S FROM A TYPE III ANOVA!!\n",
    "\n",
    "    # creating df to be exported\n",
    "    tukey_values = data.frame(Outcome = outcome, BP_Class = bp_class, tukey_df[,c(1:3,5,8,9)])\n",
    "    \n",
    "\n",
    "    return(tukey_values)\n",
    "}\n",
    "\n",
    "# calling fn\n",
    "three_tukey_smoking_race_AL = get_tukey(three_anova_df, 'Smoking_Status', 'Race', 'Allostatic_Load', \"Three\")\n",
    "three_tukey_smoking_sex_AL = get_tukey(three_anova_df, 'Smoking_Status', 'Sex', 'Allostatic_Load', \"Three\")\n",
    "three_tukey_sex_race_AL = get_tukey(three_anova_df, 'Sex', 'Race', 'Allostatic_Load', \"Three\")\n",
    "two_tukey_smoking_race_AL = get_tukey(two_anova_df, 'Smoking_Status', 'Race', 'Allostatic_Load', \"Two\")\n",
    "two_tukey_smoking_sex_AL = get_tukey(two_anova_df, 'Smoking_Status', 'Sex', 'Allostatic_Load', \"Two\")\n",
    "two_tukey_sex_race_AL = get_tukey(two_anova_df, 'Sex', 'Race', 'Allostatic_Load', \"Two\")\n",
    "\n",
    "# creating 1 df\n",
    "allostatic_tukey_df = unique(rbind(three_tukey_smoking_race_AL, three_tukey_smoking_sex_AL,\n",
    "                            three_tukey_sex_race_AL, two_tukey_smoking_race_AL, two_tukey_smoking_sex_AL,\n",
    "                            two_tukey_smoking_race_AL)) %>%\n",
    "    # only need results from interactions\n",
    "    filter(grepl(\":\", term))"
   ]
  },
  {
   "cell_type": "code",
   "execution_count": 45,
   "id": "45190cd4-5200-4dc0-ac03-225ea966c5fa",
   "metadata": {
    "scrolled": true
   },
   "outputs": [
    {
     "data": {
      "text/html": [
       "<table class=\"dataframe\">\n",
       "<caption>A data.frame: 8 × 8</caption>\n",
       "<thead>\n",
       "\t<tr><th scope=col>Outcome</th><th scope=col>BP_Class</th><th scope=col>term</th><th scope=col>group1</th><th scope=col>group2</th><th scope=col>estimate</th><th scope=col>p.adj</th><th scope=col>p.adj.signif</th></tr>\n",
       "\t<tr><th scope=col>&lt;chr&gt;</th><th scope=col>&lt;chr&gt;</th><th scope=col>&lt;chr&gt;</th><th scope=col>&lt;chr&gt;</th><th scope=col>&lt;chr&gt;</th><th scope=col>&lt;dbl&gt;</th><th scope=col>&lt;dbl&gt;</th><th scope=col>&lt;chr&gt;</th></tr>\n",
       "</thead>\n",
       "<tbody>\n",
       "\t<tr><td>Allostatic_Load</td><td>Three</td><td>Smoking_Status:Race</td><td>NS:W</td><td>NS:B</td><td> 0.2543682</td><td>0.09150</td><td>ns</td></tr>\n",
       "\t<tr><td>Allostatic_Load</td><td>Three</td><td>Smoking_Status:Race</td><td>CS:W</td><td>NS:B</td><td> 0.2731844</td><td>0.06120</td><td>ns</td></tr>\n",
       "\t<tr><td>Allostatic_Load</td><td>Three</td><td>Smoking_Status:Race</td><td>NS:B</td><td>CS:B</td><td>-0.2470506</td><td>0.09900</td><td>ns</td></tr>\n",
       "\t<tr><td>Allostatic_Load</td><td>Three</td><td>Sex:Race           </td><td>M:W </td><td>F:W </td><td>-0.2484320</td><td>0.08600</td><td>ns</td></tr>\n",
       "\t<tr><td>Allostatic_Load</td><td>Three</td><td>Sex:Race           </td><td>F:W </td><td>F:B </td><td> 0.2979211</td><td>0.00776</td><td>**</td></tr>\n",
       "\t<tr><td>Allostatic_Load</td><td>Two  </td><td>Smoking_Status:Race</td><td>NS:W</td><td>NS:B</td><td> 0.2640616</td><td>0.05940</td><td>ns</td></tr>\n",
       "\t<tr><td>Allostatic_Load</td><td>Two  </td><td>Smoking_Status:Race</td><td>CS:W</td><td>NS:B</td><td> 0.2777036</td><td>0.04310</td><td>* </td></tr>\n",
       "\t<tr><td>Allostatic_Load</td><td>Two  </td><td>Smoking_Status:Race</td><td>NS:B</td><td>CS:B</td><td>-0.2529730</td><td>0.07060</td><td>ns</td></tr>\n",
       "</tbody>\n",
       "</table>\n"
      ],
      "text/latex": [
       "A data.frame: 8 × 8\n",
       "\\begin{tabular}{llllllll}\n",
       " Outcome & BP\\_Class & term & group1 & group2 & estimate & p.adj & p.adj.signif\\\\\n",
       " <chr> & <chr> & <chr> & <chr> & <chr> & <dbl> & <dbl> & <chr>\\\\\n",
       "\\hline\n",
       "\t Allostatic\\_Load & Three & Smoking\\_Status:Race & NS:W & NS:B &  0.2543682 & 0.09150 & ns\\\\\n",
       "\t Allostatic\\_Load & Three & Smoking\\_Status:Race & CS:W & NS:B &  0.2731844 & 0.06120 & ns\\\\\n",
       "\t Allostatic\\_Load & Three & Smoking\\_Status:Race & NS:B & CS:B & -0.2470506 & 0.09900 & ns\\\\\n",
       "\t Allostatic\\_Load & Three & Sex:Race            & M:W  & F:W  & -0.2484320 & 0.08600 & ns\\\\\n",
       "\t Allostatic\\_Load & Three & Sex:Race            & F:W  & F:B  &  0.2979211 & 0.00776 & **\\\\\n",
       "\t Allostatic\\_Load & Two   & Smoking\\_Status:Race & NS:W & NS:B &  0.2640616 & 0.05940 & ns\\\\\n",
       "\t Allostatic\\_Load & Two   & Smoking\\_Status:Race & CS:W & NS:B &  0.2777036 & 0.04310 & * \\\\\n",
       "\t Allostatic\\_Load & Two   & Smoking\\_Status:Race & NS:B & CS:B & -0.2529730 & 0.07060 & ns\\\\\n",
       "\\end{tabular}\n"
      ],
      "text/markdown": [
       "\n",
       "A data.frame: 8 × 8\n",
       "\n",
       "| Outcome &lt;chr&gt; | BP_Class &lt;chr&gt; | term &lt;chr&gt; | group1 &lt;chr&gt; | group2 &lt;chr&gt; | estimate &lt;dbl&gt; | p.adj &lt;dbl&gt; | p.adj.signif &lt;chr&gt; |\n",
       "|---|---|---|---|---|---|---|---|\n",
       "| Allostatic_Load | Three | Smoking_Status:Race | NS:W | NS:B |  0.2543682 | 0.09150 | ns |\n",
       "| Allostatic_Load | Three | Smoking_Status:Race | CS:W | NS:B |  0.2731844 | 0.06120 | ns |\n",
       "| Allostatic_Load | Three | Smoking_Status:Race | NS:B | CS:B | -0.2470506 | 0.09900 | ns |\n",
       "| Allostatic_Load | Three | Sex:Race            | M:W  | F:W  | -0.2484320 | 0.08600 | ns |\n",
       "| Allostatic_Load | Three | Sex:Race            | F:W  | F:B  |  0.2979211 | 0.00776 | ** |\n",
       "| Allostatic_Load | Two   | Smoking_Status:Race | NS:W | NS:B |  0.2640616 | 0.05940 | ns |\n",
       "| Allostatic_Load | Two   | Smoking_Status:Race | CS:W | NS:B |  0.2777036 | 0.04310 | *  |\n",
       "| Allostatic_Load | Two   | Smoking_Status:Race | NS:B | CS:B | -0.2529730 | 0.07060 | ns |\n",
       "\n"
      ],
      "text/plain": [
       "  Outcome         BP_Class term                group1 group2 estimate   p.adj  \n",
       "1 Allostatic_Load Three    Smoking_Status:Race NS:W   NS:B    0.2543682 0.09150\n",
       "2 Allostatic_Load Three    Smoking_Status:Race CS:W   NS:B    0.2731844 0.06120\n",
       "3 Allostatic_Load Three    Smoking_Status:Race NS:B   CS:B   -0.2470506 0.09900\n",
       "4 Allostatic_Load Three    Sex:Race            M:W    F:W    -0.2484320 0.08600\n",
       "5 Allostatic_Load Three    Sex:Race            F:W    F:B     0.2979211 0.00776\n",
       "6 Allostatic_Load Two      Smoking_Status:Race NS:W   NS:B    0.2640616 0.05940\n",
       "7 Allostatic_Load Two      Smoking_Status:Race CS:W   NS:B    0.2777036 0.04310\n",
       "8 Allostatic_Load Two      Smoking_Status:Race NS:B   CS:B   -0.2529730 0.07060\n",
       "  p.adj.signif\n",
       "1 ns          \n",
       "2 ns          \n",
       "3 ns          \n",
       "4 ns          \n",
       "5 **          \n",
       "6 ns          \n",
       "7 *           \n",
       "8 ns          "
      ]
     },
     "metadata": {},
     "output_type": "display_data"
    }
   ],
   "source": [
    "# viewing sig results\n",
    "allostatic_tukey_df %>%\n",
    "    filter(p.adj < 0.1)"
   ]
  },
  {
   "cell_type": "markdown",
   "id": "d757c8c5",
   "metadata": {},
   "source": [
    "Now visualizing sig comparisons.\n",
    "\n",
    "## Sex & Race Boxplot"
   ]
  },
  {
   "cell_type": "code",
   "execution_count": 117,
   "id": "c4cd52e9",
   "metadata": {},
   "outputs": [
    {
     "data": {
      "text/html": [
       "<table class=\"dataframe\">\n",
       "<caption>A tibble: 6 × 9</caption>\n",
       "<thead>\n",
       "\t<tr><th scope=col>.y.</th><th scope=col>group1</th><th scope=col>group2</th><th scope=col>p</th><th scope=col>p.adj</th><th scope=col>p.format</th><th scope=col>p.signif</th><th scope=col>method</th><th scope=col>y.position</th></tr>\n",
       "\t<tr><th scope=col>&lt;chr&gt;</th><th scope=col>&lt;chr&gt;</th><th scope=col>&lt;chr&gt;</th><th scope=col>&lt;dbl&gt;</th><th scope=col>&lt;dbl&gt;</th><th scope=col>&lt;chr&gt;</th><th scope=col>&lt;chr&gt;</th><th scope=col>&lt;chr&gt;</th><th scope=col>&lt;dbl&gt;</th></tr>\n",
       "</thead>\n",
       "<tbody>\n",
       "\t<tr><td>Allostatic_Load</td><td>M:W</td><td>F:W</td><td>0.01283778</td><td>0.064</td><td>0.0128</td><td>. </td><td>T-test</td><td>1.2</td></tr>\n",
       "\t<tr><td>Allostatic_Load</td><td>M:W</td><td>F:B</td><td>0.60244164</td><td>0.840</td><td>0.6024</td><td>ns</td><td>T-test</td><td>1.0</td></tr>\n",
       "\t<tr><td>Allostatic_Load</td><td>M:W</td><td>M:B</td><td>0.10483932</td><td>0.310</td><td>0.1048</td><td>ns</td><td>T-test</td><td>1.0</td></tr>\n",
       "\t<tr><td>Allostatic_Load</td><td>F:W</td><td>F:B</td><td>0.00383513</td><td>0.023</td><td>0.0038</td><td>* </td><td>T-test</td><td>1.5</td></tr>\n",
       "\t<tr><td>Allostatic_Load</td><td>F:W</td><td>M:B</td><td>0.41956423</td><td>0.840</td><td>0.4196</td><td>ns</td><td>T-test</td><td>1.0</td></tr>\n",
       "\t<tr><td>Allostatic_Load</td><td>F:B</td><td>M:B</td><td>0.04244168</td><td>0.170</td><td>0.0424</td><td>ns</td><td>T-test</td><td>1.0</td></tr>\n",
       "</tbody>\n",
       "</table>\n"
      ],
      "text/latex": [
       "A tibble: 6 × 9\n",
       "\\begin{tabular}{lllllllll}\n",
       " .y. & group1 & group2 & p & p.adj & p.format & p.signif & method & y.position\\\\\n",
       " <chr> & <chr> & <chr> & <dbl> & <dbl> & <chr> & <chr> & <chr> & <dbl>\\\\\n",
       "\\hline\n",
       "\t Allostatic\\_Load & M:W & F:W & 0.01283778 & 0.064 & 0.0128 & .  & T-test & 1.2\\\\\n",
       "\t Allostatic\\_Load & M:W & F:B & 0.60244164 & 0.840 & 0.6024 & ns & T-test & 1.0\\\\\n",
       "\t Allostatic\\_Load & M:W & M:B & 0.10483932 & 0.310 & 0.1048 & ns & T-test & 1.0\\\\\n",
       "\t Allostatic\\_Load & F:W & F:B & 0.00383513 & 0.023 & 0.0038 & *  & T-test & 1.5\\\\\n",
       "\t Allostatic\\_Load & F:W & M:B & 0.41956423 & 0.840 & 0.4196 & ns & T-test & 1.0\\\\\n",
       "\t Allostatic\\_Load & F:B & M:B & 0.04244168 & 0.170 & 0.0424 & ns & T-test & 1.0\\\\\n",
       "\\end{tabular}\n"
      ],
      "text/markdown": [
       "\n",
       "A tibble: 6 × 9\n",
       "\n",
       "| .y. &lt;chr&gt; | group1 &lt;chr&gt; | group2 &lt;chr&gt; | p &lt;dbl&gt; | p.adj &lt;dbl&gt; | p.format &lt;chr&gt; | p.signif &lt;chr&gt; | method &lt;chr&gt; | y.position &lt;dbl&gt; |\n",
       "|---|---|---|---|---|---|---|---|---|\n",
       "| Allostatic_Load | M:W | F:W | 0.01283778 | 0.064 | 0.0128 | .  | T-test | 1.2 |\n",
       "| Allostatic_Load | M:W | F:B | 0.60244164 | 0.840 | 0.6024 | ns | T-test | 1.0 |\n",
       "| Allostatic_Load | M:W | M:B | 0.10483932 | 0.310 | 0.1048 | ns | T-test | 1.0 |\n",
       "| Allostatic_Load | F:W | F:B | 0.00383513 | 0.023 | 0.0038 | *  | T-test | 1.5 |\n",
       "| Allostatic_Load | F:W | M:B | 0.41956423 | 0.840 | 0.4196 | ns | T-test | 1.0 |\n",
       "| Allostatic_Load | F:B | M:B | 0.04244168 | 0.170 | 0.0424 | ns | T-test | 1.0 |\n",
       "\n"
      ],
      "text/plain": [
       "  .y.             group1 group2 p          p.adj p.format p.signif method\n",
       "1 Allostatic_Load M:W    F:W    0.01283778 0.064 0.0128   .        T-test\n",
       "2 Allostatic_Load M:W    F:B    0.60244164 0.840 0.6024   ns       T-test\n",
       "3 Allostatic_Load M:W    M:B    0.10483932 0.310 0.1048   ns       T-test\n",
       "4 Allostatic_Load F:W    F:B    0.00383513 0.023 0.0038   *        T-test\n",
       "5 Allostatic_Load F:W    M:B    0.41956423 0.840 0.4196   ns       T-test\n",
       "6 Allostatic_Load F:B    M:B    0.04244168 0.170 0.0424   ns       T-test\n",
       "  y.position\n",
       "1 1.2       \n",
       "2 1.0       \n",
       "3 1.0       \n",
       "4 1.5       \n",
       "5 1.0       \n",
       "6 1.0       "
      ]
     },
     "metadata": {},
     "output_type": "display_data"
    }
   ],
   "source": [
    "boxplot_df = three_anova_df %>%\n",
    "    unite(`Sex:Race`, Sex, Race, sep = \":\", remove = FALSE)\n",
    "\n",
    "# plotting t test values instead of tukey's since\n",
    "# it gives me both the p values and adjusted p values\n",
    "adjusted_t_test_p_values = compare_means(Allostatic_Load ~ Sex:Race, data = boxplot_df, method = \"t.test\") %>%\n",
    "    # basing the p.signif off of adjusted p values\n",
    "    mutate(p.signif = ifelse(p.adj < 0.0001, '****', \n",
    "                             ifelse(p.adj >= 0.0001 & p.adj < 0.001, '***',\n",
    "                                   ifelse(p.adj >= 0.001 & p.adj < 0.01, '**',\n",
    "                                         ifelse(p.adj >= 0.01 & p.adj < 0.05, '*', \n",
    "                                                ifelse(p.adj >= 0.05 & p.adj < 0.1, '.', \n",
    "                                                    'ns')))))) %>%\n",
    "    # manually adding the y position\n",
    "    mutate(y.position = c(1.2, 1, 1, 1.5, 1, 1))\n",
    "\n",
    "adjusted_t_test_p_values"
   ]
  },
  {
   "cell_type": "code",
   "execution_count": 73,
   "id": "f0246014-9be6-4018-afab-56cd15c08d72",
   "metadata": {},
   "outputs": [
    {
     "data": {
      "image/png": "[encoded data removed]",
      "text/plain": [
       "plot without title"
      ]
     },
     "metadata": {
      "image/png": {
       "height": 360,
       "width": 480
      }
     },
     "output_type": "display_data"
    }
   ],
   "source": [
    "options(repr.plot.width=8, repr.plot.height=6) #changing size\n",
    "\n",
    "# only adding asterisks for comparisons that are significant\n",
    "#significant_comparisons <- list(c(\"M:W\", \"F:W\"), c(\"F:W\", \"F:B\"))#, c(\"M:B\", \"F:B\"))\n",
    "\n",
    "ggplot(data = boxplot_df, aes(x = Sex:Race, y = Allostatic_Load)) + \n",
    "  geom_boxplot() + \n",
    "  geom_point(position = position_jitter(w = 0.1)) + \n",
    "\n",
    "  # adding more space for p value significance\n",
    "  ylim(NA, 1.7) + \n",
    "\n",
    "  # overall anova p value\n",
    "  stat_anova_test(wid = \"Sex:Race\", p.adjust.method = \"none\", label = \"p = {p.format}\", \n",
    "                     label.x.npc = \"left\", size = 7, label.y = 1.6) +\n",
    "#   # unadjusted p value\n",
    "#   stat_compare_means(comparisons = significant_comparisons, label = \"p.signif\", hide.ns = TRUE, size = 10) #+\n",
    "\n",
    "  # adjusted p value\n",
    "  stat_pvalue_manual(adjusted_t_test_p_values %>%\n",
    "                         filter(p.signif != 'ns'), label = \"p.signif\", size = 15)"
   ]
  },
  {
   "cell_type": "markdown",
   "id": "d0f43552-00aa-4a16-b927-372eb396bb84",
   "metadata": {},
   "source": [
    "## Acute Stress"
   ]
  },
  {
   "cell_type": "code",
   "execution_count": 83,
   "id": "3fd08f35-2281-45a3-bc83-8032e51039f7",
   "metadata": {},
   "outputs": [],
   "source": [
    "# calling anova fn\n",
    "three_anova_smoking_race_acute = get_anova(three_anova_df, 'Smoking_Status', 'Race', 'Acute_Stress', \"Three\")\n",
    "three_anova_smoking_sex_acute = get_anova(three_anova_df, 'Smoking_Status', 'Sex', 'Acute_Stress', \"Three\")\n",
    "three_anova_sex_race_acute = get_anova(three_anova_df, 'Sex', 'Race', 'Acute_Stress', \"Three\")\n",
    "two_anova_smoking_race_acute = get_anova(two_anova_df, 'Smoking_Status', 'Race', 'Acute_Stress', \"Two\")\n",
    "two_anova_smoking_sex_acute = get_anova(two_anova_df, 'Smoking_Status', 'Sex', 'Acute_Stress', \"Two\")\n",
    "two_anova_sex_race_acute = get_anova(two_anova_df, 'Sex', 'Race', 'Acute_Stress', \"Two\")"
   ]
  },
  {
   "cell_type": "code",
   "execution_count": 84,
   "id": "88c70a53-ce78-4c45-bb16-a329cd2df311",
   "metadata": {},
   "outputs": [],
   "source": [
    "# creating 1 df\n",
    "acute_anova_df = unique(rbind(three_anova_smoking_race_acute, three_anova_smoking_sex_acute,\n",
    "                            three_anova_sex_race_acute, two_anova_smoking_race_acute, \n",
    "                              two_anova_smoking_sex_acute, two_anova_smoking_race_acute)) %>%\n",
    "    # adjusting\n",
    "    #group_by(BP_Class) %>%\n",
    "    mutate(P_Adj = p.adjust(as.numeric(as.character(P_Value)), method = \"fdr\"))"
   ]
  },
  {
   "cell_type": "code",
   "execution_count": 87,
   "id": "78f0a5c3",
   "metadata": {},
   "outputs": [
    {
     "data": {
      "text/html": [
       "<table class=\"dataframe\">\n",
       "<caption>A data.frame: 3 × 6</caption>\n",
       "<thead>\n",
       "\t<tr><th scope=col>Outcome</th><th scope=col>BP_Class</th><th scope=col>Comparison</th><th scope=col>F_Value</th><th scope=col>P_Value</th><th scope=col>P_Adj</th></tr>\n",
       "\t<tr><th scope=col>&lt;chr&gt;</th><th scope=col>&lt;chr&gt;</th><th scope=col>&lt;chr&gt;</th><th scope=col>&lt;dbl&gt;</th><th scope=col>&lt;dbl&gt;</th><th scope=col>&lt;dbl&gt;</th></tr>\n",
       "</thead>\n",
       "<tbody>\n",
       "\t<tr><td>Acute_Stress</td><td>Three</td><td>Sex       </td><td>8.157491</td><td>0.005912095</td><td>0.06512833</td></tr>\n",
       "\t<tr><td>Acute_Stress</td><td>Three</td><td>Race      </td><td>6.557060</td><td>0.013025666</td><td>0.06512833</td></tr>\n",
       "\t<tr><td>Acute_Stress</td><td>Three</td><td>Sex : Race</td><td>6.574596</td><td>0.012910961</td><td>0.06512833</td></tr>\n",
       "</tbody>\n",
       "</table>\n"
      ],
      "text/latex": [
       "A data.frame: 3 × 6\n",
       "\\begin{tabular}{llllll}\n",
       " Outcome & BP\\_Class & Comparison & F\\_Value & P\\_Value & P\\_Adj\\\\\n",
       " <chr> & <chr> & <chr> & <dbl> & <dbl> & <dbl>\\\\\n",
       "\\hline\n",
       "\t Acute\\_Stress & Three & Sex        & 8.157491 & 0.005912095 & 0.06512833\\\\\n",
       "\t Acute\\_Stress & Three & Race       & 6.557060 & 0.013025666 & 0.06512833\\\\\n",
       "\t Acute\\_Stress & Three & Sex : Race & 6.574596 & 0.012910961 & 0.06512833\\\\\n",
       "\\end{tabular}\n"
      ],
      "text/markdown": [
       "\n",
       "A data.frame: 3 × 6\n",
       "\n",
       "| Outcome &lt;chr&gt; | BP_Class &lt;chr&gt; | Comparison &lt;chr&gt; | F_Value &lt;dbl&gt; | P_Value &lt;dbl&gt; | P_Adj &lt;dbl&gt; |\n",
       "|---|---|---|---|---|---|\n",
       "| Acute_Stress | Three | Sex        | 8.157491 | 0.005912095 | 0.06512833 |\n",
       "| Acute_Stress | Three | Race       | 6.557060 | 0.013025666 | 0.06512833 |\n",
       "| Acute_Stress | Three | Sex : Race | 6.574596 | 0.012910961 | 0.06512833 |\n",
       "\n"
      ],
      "text/plain": [
       "  Outcome      BP_Class Comparison F_Value  P_Value     P_Adj     \n",
       "1 Acute_Stress Three    Sex        8.157491 0.005912095 0.06512833\n",
       "2 Acute_Stress Three    Race       6.557060 0.013025666 0.06512833\n",
       "3 Acute_Stress Three    Sex : Race 6.574596 0.012910961 0.06512833"
      ]
     },
     "metadata": {},
     "output_type": "display_data"
    }
   ],
   "source": [
    "# viewing sig results\n",
    "acute_anova_df %>%\n",
    "    filter(P_Adj < 0.1)"
   ]
  },
  {
   "cell_type": "markdown",
   "id": "648b5779",
   "metadata": {},
   "source": [
    "There are statistically significant differences in acute stress based on race, sex, and the interaction between race and sex using ordinal weights from blood pressure classification with three classes."
   ]
  },
  {
   "cell_type": "code",
   "execution_count": 92,
   "id": "f4e1341f-bfff-48ac-a200-aaaf28178823",
   "metadata": {},
   "outputs": [],
   "source": [
    "# calling fn\n",
    "three_tukey_smoking_race_acute = get_tukey(three_anova_df, 'Smoking_Status', 'Race', 'Acute_Stress', \"Three\")\n",
    "three_tukey_smoking_sex_acute = get_tukey(three_anova_df, 'Smoking_Status', 'Sex', 'Acute_Stress', \"Three\")\n",
    "three_tukey_sex_race_acute = get_tukey(three_anova_df, 'Sex', 'Race', 'Acute_Stress', \"Three\")\n",
    "two_tukey_smoking_race_acute = get_tukey(two_anova_df, 'Smoking_Status', 'Race', 'Acute_Stress', \"Two\")\n",
    "two_tukey_smoking_sex_acute = get_tukey(two_anova_df, 'Smoking_Status', 'Sex', 'Acute_Stress', \"Two\")\n",
    "two_tukey_sex_race_acute = get_tukey(two_anova_df, 'Sex', 'Race', 'Acute_Stress', \"Two\")\n",
    "\n",
    "# creating 1 df\n",
    "acute_tukey_df = unique(rbind(three_tukey_smoking_race_acute, three_tukey_smoking_sex_acute,\n",
    "                            three_tukey_sex_race_acute, two_tukey_smoking_race_acute, \n",
    "                            two_tukey_smoking_sex_acute, two_tukey_smoking_race_acute)) %>%\n",
    "    # only need results from interactions\n",
    "    filter(grepl(\":\", term))"
   ]
  },
  {
   "cell_type": "code",
   "execution_count": 93,
   "id": "28ed1ec3-d92d-4e2a-ad46-79bfddbbe451",
   "metadata": {},
   "outputs": [
    {
     "data": {
      "text/html": [
       "<table class=\"dataframe\">\n",
       "<caption>A data.frame: 4 × 8</caption>\n",
       "<thead>\n",
       "\t<tr><th scope=col>Outcome</th><th scope=col>BP_Class</th><th scope=col>term</th><th scope=col>group1</th><th scope=col>group2</th><th scope=col>estimate</th><th scope=col>p.adj</th><th scope=col>p.adj.signif</th></tr>\n",
       "\t<tr><th scope=col>&lt;chr&gt;</th><th scope=col>&lt;chr&gt;</th><th scope=col>&lt;chr&gt;</th><th scope=col>&lt;chr&gt;</th><th scope=col>&lt;chr&gt;</th><th scope=col>&lt;dbl&gt;</th><th scope=col>&lt;dbl&gt;</th><th scope=col>&lt;chr&gt;</th></tr>\n",
       "</thead>\n",
       "<tbody>\n",
       "\t<tr><td>Acute_Stress</td><td>Three</td><td>Smoking_Status:Sex</td><td>NS:M</td><td>CS:F</td><td>-0.15691188</td><td>0.0511</td><td>ns</td></tr>\n",
       "\t<tr><td>Acute_Stress</td><td>Three</td><td>Sex:Race          </td><td>M:W </td><td>F:W </td><td>-0.13763563</td><td>0.0294</td><td>* </td></tr>\n",
       "\t<tr><td>Acute_Stress</td><td>Three</td><td>Sex:Race          </td><td>M:W </td><td>M:B </td><td>-0.14106353</td><td>0.0610</td><td>ns</td></tr>\n",
       "\t<tr><td>Acute_Stress</td><td>Two  </td><td>Smoking_Status:Sex</td><td>NS:F</td><td>CS:F</td><td>-0.09702454</td><td>0.0855</td><td>ns</td></tr>\n",
       "</tbody>\n",
       "</table>\n"
      ],
      "text/latex": [
       "A data.frame: 4 × 8\n",
       "\\begin{tabular}{llllllll}\n",
       " Outcome & BP\\_Class & term & group1 & group2 & estimate & p.adj & p.adj.signif\\\\\n",
       " <chr> & <chr> & <chr> & <chr> & <chr> & <dbl> & <dbl> & <chr>\\\\\n",
       "\\hline\n",
       "\t Acute\\_Stress & Three & Smoking\\_Status:Sex & NS:M & CS:F & -0.15691188 & 0.0511 & ns\\\\\n",
       "\t Acute\\_Stress & Three & Sex:Race           & M:W  & F:W  & -0.13763563 & 0.0294 & * \\\\\n",
       "\t Acute\\_Stress & Three & Sex:Race           & M:W  & M:B  & -0.14106353 & 0.0610 & ns\\\\\n",
       "\t Acute\\_Stress & Two   & Smoking\\_Status:Sex & NS:F & CS:F & -0.09702454 & 0.0855 & ns\\\\\n",
       "\\end{tabular}\n"
      ],
      "text/markdown": [
       "\n",
       "A data.frame: 4 × 8\n",
       "\n",
       "| Outcome &lt;chr&gt; | BP_Class &lt;chr&gt; | term &lt;chr&gt; | group1 &lt;chr&gt; | group2 &lt;chr&gt; | estimate &lt;dbl&gt; | p.adj &lt;dbl&gt; | p.adj.signif &lt;chr&gt; |\n",
       "|---|---|---|---|---|---|---|---|\n",
       "| Acute_Stress | Three | Smoking_Status:Sex | NS:M | CS:F | -0.15691188 | 0.0511 | ns |\n",
       "| Acute_Stress | Three | Sex:Race           | M:W  | F:W  | -0.13763563 | 0.0294 | *  |\n",
       "| Acute_Stress | Three | Sex:Race           | M:W  | M:B  | -0.14106353 | 0.0610 | ns |\n",
       "| Acute_Stress | Two   | Smoking_Status:Sex | NS:F | CS:F | -0.09702454 | 0.0855 | ns |\n",
       "\n"
      ],
      "text/plain": [
       "  Outcome      BP_Class term               group1 group2 estimate    p.adj \n",
       "1 Acute_Stress Three    Smoking_Status:Sex NS:M   CS:F   -0.15691188 0.0511\n",
       "2 Acute_Stress Three    Sex:Race           M:W    F:W    -0.13763563 0.0294\n",
       "3 Acute_Stress Three    Sex:Race           M:W    M:B    -0.14106353 0.0610\n",
       "4 Acute_Stress Two      Smoking_Status:Sex NS:F   CS:F   -0.09702454 0.0855\n",
       "  p.adj.signif\n",
       "1 ns          \n",
       "2 *           \n",
       "3 ns          \n",
       "4 ns          "
      ]
     },
     "metadata": {},
     "output_type": "display_data"
    }
   ],
   "source": [
    "# viewing sig results\n",
    "acute_tukey_df %>%\n",
    "    filter(p.adj < 0.1)"
   ]
  },
  {
   "cell_type": "markdown",
   "id": "fbb972bc-5fe7-41a8-a50c-b995524cf222",
   "metadata": {},
   "source": [
    "There are statistically significant differences in acute stress between non-smokers and cigarette smokers (p value = 0.02). The interaction between sex and race was significant when using the ordinal weights derived from the 3 class BP prediction. Tukey's post hoc tests revealed that white males have a lower acute stress than white females (p adj < 0.05).?????\n",
    "\n",
    "### Sex & Race Boxplot"
   ]
  },
  {
   "cell_type": "code",
   "execution_count": 94,
   "id": "f36a17f0-ba34-45ac-80a7-07ac024d3f9f",
   "metadata": {},
   "outputs": [
    {
     "data": {
      "text/html": [
       "<table class=\"dataframe\">\n",
       "<caption>A tibble: 6 × 9</caption>\n",
       "<thead>\n",
       "\t<tr><th scope=col>.y.</th><th scope=col>group1</th><th scope=col>group2</th><th scope=col>p</th><th scope=col>p.adj</th><th scope=col>p.format</th><th scope=col>p.signif</th><th scope=col>method</th><th scope=col>y.position</th></tr>\n",
       "\t<tr><th scope=col>&lt;chr&gt;</th><th scope=col>&lt;chr&gt;</th><th scope=col>&lt;chr&gt;</th><th scope=col>&lt;dbl&gt;</th><th scope=col>&lt;dbl&gt;</th><th scope=col>&lt;chr&gt;</th><th scope=col>&lt;chr&gt;</th><th scope=col>&lt;chr&gt;</th><th scope=col>&lt;dbl&gt;</th></tr>\n",
       "</thead>\n",
       "<tbody>\n",
       "\t<tr><td>Acute_Stress</td><td>M:W</td><td>F:W</td><td>0.03099272</td><td>0.15</td><td>0.031</td><td>ns</td><td>T-test</td><td>1.2</td></tr>\n",
       "\t<tr><td>Acute_Stress</td><td>M:W</td><td>F:B</td><td>0.09862810</td><td>0.39</td><td>0.099</td><td>ns</td><td>T-test</td><td>1.0</td></tr>\n",
       "\t<tr><td>Acute_Stress</td><td>M:W</td><td>M:B</td><td>0.02554288</td><td>0.15</td><td>0.026</td><td>ns</td><td>T-test</td><td>1.0</td></tr>\n",
       "\t<tr><td>Acute_Stress</td><td>F:W</td><td>F:B</td><td>0.37195378</td><td>0.91</td><td>0.372</td><td>ns</td><td>T-test</td><td>1.5</td></tr>\n",
       "\t<tr><td>Acute_Stress</td><td>F:W</td><td>M:B</td><td>0.93021694</td><td>0.93</td><td>0.930</td><td>ns</td><td>T-test</td><td>1.0</td></tr>\n",
       "\t<tr><td>Acute_Stress</td><td>F:B</td><td>M:B</td><td>0.30403489</td><td>0.91</td><td>0.304</td><td>ns</td><td>T-test</td><td>1.0</td></tr>\n",
       "</tbody>\n",
       "</table>\n"
      ],
      "text/latex": [
       "A tibble: 6 × 9\n",
       "\\begin{tabular}{lllllllll}\n",
       " .y. & group1 & group2 & p & p.adj & p.format & p.signif & method & y.position\\\\\n",
       " <chr> & <chr> & <chr> & <dbl> & <dbl> & <chr> & <chr> & <chr> & <dbl>\\\\\n",
       "\\hline\n",
       "\t Acute\\_Stress & M:W & F:W & 0.03099272 & 0.15 & 0.031 & ns & T-test & 1.2\\\\\n",
       "\t Acute\\_Stress & M:W & F:B & 0.09862810 & 0.39 & 0.099 & ns & T-test & 1.0\\\\\n",
       "\t Acute\\_Stress & M:W & M:B & 0.02554288 & 0.15 & 0.026 & ns & T-test & 1.0\\\\\n",
       "\t Acute\\_Stress & F:W & F:B & 0.37195378 & 0.91 & 0.372 & ns & T-test & 1.5\\\\\n",
       "\t Acute\\_Stress & F:W & M:B & 0.93021694 & 0.93 & 0.930 & ns & T-test & 1.0\\\\\n",
       "\t Acute\\_Stress & F:B & M:B & 0.30403489 & 0.91 & 0.304 & ns & T-test & 1.0\\\\\n",
       "\\end{tabular}\n"
      ],
      "text/markdown": [
       "\n",
       "A tibble: 6 × 9\n",
       "\n",
       "| .y. &lt;chr&gt; | group1 &lt;chr&gt; | group2 &lt;chr&gt; | p &lt;dbl&gt; | p.adj &lt;dbl&gt; | p.format &lt;chr&gt; | p.signif &lt;chr&gt; | method &lt;chr&gt; | y.position &lt;dbl&gt; |\n",
       "|---|---|---|---|---|---|---|---|---|\n",
       "| Acute_Stress | M:W | F:W | 0.03099272 | 0.15 | 0.031 | ns | T-test | 1.2 |\n",
       "| Acute_Stress | M:W | F:B | 0.09862810 | 0.39 | 0.099 | ns | T-test | 1.0 |\n",
       "| Acute_Stress | M:W | M:B | 0.02554288 | 0.15 | 0.026 | ns | T-test | 1.0 |\n",
       "| Acute_Stress | F:W | F:B | 0.37195378 | 0.91 | 0.372 | ns | T-test | 1.5 |\n",
       "| Acute_Stress | F:W | M:B | 0.93021694 | 0.93 | 0.930 | ns | T-test | 1.0 |\n",
       "| Acute_Stress | F:B | M:B | 0.30403489 | 0.91 | 0.304 | ns | T-test | 1.0 |\n",
       "\n"
      ],
      "text/plain": [
       "  .y.          group1 group2 p          p.adj p.format p.signif method\n",
       "1 Acute_Stress M:W    F:W    0.03099272 0.15  0.031    ns       T-test\n",
       "2 Acute_Stress M:W    F:B    0.09862810 0.39  0.099    ns       T-test\n",
       "3 Acute_Stress M:W    M:B    0.02554288 0.15  0.026    ns       T-test\n",
       "4 Acute_Stress F:W    F:B    0.37195378 0.91  0.372    ns       T-test\n",
       "5 Acute_Stress F:W    M:B    0.93021694 0.93  0.930    ns       T-test\n",
       "6 Acute_Stress F:B    M:B    0.30403489 0.91  0.304    ns       T-test\n",
       "  y.position\n",
       "1 1.2       \n",
       "2 1.0       \n",
       "3 1.0       \n",
       "4 1.5       \n",
       "5 1.0       \n",
       "6 1.0       "
      ]
     },
     "metadata": {},
     "output_type": "display_data"
    }
   ],
   "source": [
    "# plotting t test values instead of tukey's since\n",
    "# it gives me both the p values and adjusted p values\n",
    "adjusted_t_test_p_values = compare_means(Acute_Stress ~ Sex:Race, data = boxplot_df, method = \"t.test\") %>%\n",
    "    # basing the p.signif off of adjusted p values\n",
    "    mutate(p.signif = ifelse(p.adj < 0.0001, '****', \n",
    "                             ifelse(p.adj >= 0.0001 & p.adj < 0.001, '***',\n",
    "                                   ifelse(p.adj >= 0.001 & p.adj < 0.01, '**',\n",
    "                                         ifelse(p.adj >= 0.01 & p.adj < 0.05, '*', \n",
    "                                                ifelse(p.adj >= 0.05 & p.adj < 0.1, '.', \n",
    "                                                    'ns')))))) %>%\n",
    "    # manually adding the y position\n",
    "    mutate(y.position = c(1.2, 1, 1, 1.5, 1, 1))\n",
    "\n",
    "adjusted_t_test_p_values"
   ]
  },
  {
   "cell_type": "code",
   "execution_count": null,
   "id": "244afe4c",
   "metadata": {},
   "outputs": [],
   "source": []
  },
  {
   "cell_type": "markdown",
   "id": "e6876355",
   "metadata": {},
   "source": [
    "### Smoking Status & Sex Boxplot"
   ]
  },
  {
   "cell_type": "code",
   "execution_count": 106,
   "id": "fe7e9176",
   "metadata": {},
   "outputs": [
    {
     "data": {
      "text/html": [
       "<table class=\"dataframe\">\n",
       "<caption>A tibble: 6 × 9</caption>\n",
       "<thead>\n",
       "\t<tr><th scope=col>.y.</th><th scope=col>group1</th><th scope=col>group2</th><th scope=col>p</th><th scope=col>p.adj</th><th scope=col>p.format</th><th scope=col>p.signif</th><th scope=col>method</th><th scope=col>y.position</th></tr>\n",
       "\t<tr><th scope=col>&lt;chr&gt;</th><th scope=col>&lt;chr&gt;</th><th scope=col>&lt;chr&gt;</th><th scope=col>&lt;dbl&gt;</th><th scope=col>&lt;dbl&gt;</th><th scope=col>&lt;chr&gt;</th><th scope=col>&lt;chr&gt;</th><th scope=col>&lt;chr&gt;</th><th scope=col>&lt;dbl&gt;</th></tr>\n",
       "</thead>\n",
       "<tbody>\n",
       "\t<tr><td>Acute_Stress</td><td>M:NS</td><td>F:NS</td><td>0.535800092</td><td>1.000</td><td>0.5358</td><td>ns</td><td>T-test</td><td>1.2</td></tr>\n",
       "\t<tr><td>Acute_Stress</td><td>M:NS</td><td>M:CS</td><td>0.467262038</td><td>1.000</td><td>0.4673</td><td>ns</td><td>T-test</td><td>1.0</td></tr>\n",
       "\t<tr><td>Acute_Stress</td><td>M:NS</td><td>F:CS</td><td>0.122467410</td><td>0.490</td><td>0.1225</td><td>ns</td><td>T-test</td><td>1.0</td></tr>\n",
       "\t<tr><td>Acute_Stress</td><td>F:NS</td><td>M:CS</td><td>0.790013727</td><td>1.000</td><td>0.7900</td><td>ns</td><td>T-test</td><td>1.5</td></tr>\n",
       "\t<tr><td>Acute_Stress</td><td>F:NS</td><td>F:CS</td><td>0.008948007</td><td>0.054</td><td>0.0089</td><td>. </td><td>T-test</td><td>0.7</td></tr>\n",
       "\t<tr><td>Acute_Stress</td><td>M:CS</td><td>F:CS</td><td>0.022352212</td><td>0.110</td><td>0.0224</td><td>ns</td><td>T-test</td><td>1.0</td></tr>\n",
       "</tbody>\n",
       "</table>\n"
      ],
      "text/latex": [
       "A tibble: 6 × 9\n",
       "\\begin{tabular}{lllllllll}\n",
       " .y. & group1 & group2 & p & p.adj & p.format & p.signif & method & y.position\\\\\n",
       " <chr> & <chr> & <chr> & <dbl> & <dbl> & <chr> & <chr> & <chr> & <dbl>\\\\\n",
       "\\hline\n",
       "\t Acute\\_Stress & M:NS & F:NS & 0.535800092 & 1.000 & 0.5358 & ns & T-test & 1.2\\\\\n",
       "\t Acute\\_Stress & M:NS & M:CS & 0.467262038 & 1.000 & 0.4673 & ns & T-test & 1.0\\\\\n",
       "\t Acute\\_Stress & M:NS & F:CS & 0.122467410 & 0.490 & 0.1225 & ns & T-test & 1.0\\\\\n",
       "\t Acute\\_Stress & F:NS & M:CS & 0.790013727 & 1.000 & 0.7900 & ns & T-test & 1.5\\\\\n",
       "\t Acute\\_Stress & F:NS & F:CS & 0.008948007 & 0.054 & 0.0089 & .  & T-test & 0.7\\\\\n",
       "\t Acute\\_Stress & M:CS & F:CS & 0.022352212 & 0.110 & 0.0224 & ns & T-test & 1.0\\\\\n",
       "\\end{tabular}\n"
      ],
      "text/markdown": [
       "\n",
       "A tibble: 6 × 9\n",
       "\n",
       "| .y. &lt;chr&gt; | group1 &lt;chr&gt; | group2 &lt;chr&gt; | p &lt;dbl&gt; | p.adj &lt;dbl&gt; | p.format &lt;chr&gt; | p.signif &lt;chr&gt; | method &lt;chr&gt; | y.position &lt;dbl&gt; |\n",
       "|---|---|---|---|---|---|---|---|---|\n",
       "| Acute_Stress | M:NS | F:NS | 0.535800092 | 1.000 | 0.5358 | ns | T-test | 1.2 |\n",
       "| Acute_Stress | M:NS | M:CS | 0.467262038 | 1.000 | 0.4673 | ns | T-test | 1.0 |\n",
       "| Acute_Stress | M:NS | F:CS | 0.122467410 | 0.490 | 0.1225 | ns | T-test | 1.0 |\n",
       "| Acute_Stress | F:NS | M:CS | 0.790013727 | 1.000 | 0.7900 | ns | T-test | 1.5 |\n",
       "| Acute_Stress | F:NS | F:CS | 0.008948007 | 0.054 | 0.0089 | .  | T-test | 0.7 |\n",
       "| Acute_Stress | M:CS | F:CS | 0.022352212 | 0.110 | 0.0224 | ns | T-test | 1.0 |\n",
       "\n"
      ],
      "text/plain": [
       "  .y.          group1 group2 p           p.adj p.format p.signif method\n",
       "1 Acute_Stress M:NS   F:NS   0.535800092 1.000 0.5358   ns       T-test\n",
       "2 Acute_Stress M:NS   M:CS   0.467262038 1.000 0.4673   ns       T-test\n",
       "3 Acute_Stress M:NS   F:CS   0.122467410 0.490 0.1225   ns       T-test\n",
       "4 Acute_Stress F:NS   M:CS   0.790013727 1.000 0.7900   ns       T-test\n",
       "5 Acute_Stress F:NS   F:CS   0.008948007 0.054 0.0089   .        T-test\n",
       "6 Acute_Stress M:CS   F:CS   0.022352212 0.110 0.0224   ns       T-test\n",
       "  y.position\n",
       "1 1.2       \n",
       "2 1.0       \n",
       "3 1.0       \n",
       "4 1.5       \n",
       "5 0.7       \n",
       "6 1.0       "
      ]
     },
     "metadata": {},
     "output_type": "display_data"
    }
   ],
   "source": [
    "boxplot_df = three_anova_df %>%\n",
    "    unite(`Sex:Smoking_Status`, Sex, Smoking_Status, sep = \":\", remove = FALSE)\n",
    "\n",
    "# plotting t test values instead of tukey's since\n",
    "# it gives me both the p values and adjusted p values\n",
    "adjusted_t_test_p_values = compare_means(Acute_Stress ~ Sex:Smoking_Status, data = boxplot_df, \n",
    "                                         method = \"t.test\") %>%\n",
    "    # basing the p.signif off of adjusted p values\n",
    "    mutate(p.signif = ifelse(p.adj < 0.0001, '****', \n",
    "                             ifelse(p.adj >= 0.0001 & p.adj < 0.001, '***',\n",
    "                                   ifelse(p.adj >= 0.001 & p.adj < 0.01, '**',\n",
    "                                         ifelse(p.adj >= 0.01 & p.adj < 0.05, '*', \n",
    "                                                ifelse(p.adj >= 0.05 & p.adj < 0.1, '.', \n",
    "                                                    'ns')))))) %>%\n",
    "    # manually adding the y position\n",
    "    mutate(y.position = c(1.2, 1, 1, 1.5, 0.7, 1))\n",
    "\n",
    "adjusted_t_test_p_values"
   ]
  },
  {
   "cell_type": "code",
   "execution_count": 105,
   "id": "69f4cf68",
   "metadata": {},
   "outputs": [
    {
     "data": {
      "image/png": "[encoded data removed]",
      "text/plain": [
       "plot without title"
      ]
     },
     "metadata": {
      "image/png": {
       "height": 360,
       "width": 480
      }
     },
     "output_type": "display_data"
    }
   ],
   "source": [
    "ggplot(data = boxplot_df, aes(x = Sex:Smoking_Status, y = Acute_Stress)) + \n",
    "  geom_boxplot() + \n",
    "  geom_point(position = position_jitter(w = 0.1)) + \n",
    "\n",
    "  # adding more space for p value significance\n",
    "  ylim(NA, 1.3) + \n",
    "\n",
    "  # overall anova p value\n",
    "  stat_anova_test(wid = \"Sex:Smoking_Status\", p.adjust.method = \"none\", label = \"p = {p.format}\", \n",
    "                     label.x.npc = \"left\", size = 7, label.y = 1.2) +\n",
    "\n",
    "  # adjusted p value\n",
    "  stat_pvalue_manual(adjusted_t_test_p_values %>%\n",
    "                         filter(p.signif != 'ns'), label = \"p.signif\", size = 15)"
   ]
  },
  {
   "cell_type": "markdown",
   "id": "05c928a4-bff8-4930-aa0c-0cbd2c1c0fc7",
   "metadata": {},
   "source": [
    "## Chronic Stress"
   ]
  },
  {
   "cell_type": "code",
   "execution_count": 109,
   "id": "1929588d-daa9-410f-86c5-f14b9fc25822",
   "metadata": {},
   "outputs": [],
   "source": [
    "# calling anova fn\n",
    "three_anova_smoking_race_chronic = get_anova(three_anova_df, 'Smoking_Status', 'Race', 'Chronic_Stress', \"Three\")\n",
    "three_anova_smoking_sex_chronic = get_anova(three_anova_df, 'Smoking_Status', 'Sex', 'Chronic_Stress', \"Three\")\n",
    "three_anova_sex_race_chronic = get_anova(three_anova_df, 'Sex', 'Race', 'Chronic_Stress', \"Three\")\n",
    "two_anova_smoking_race_chronic = get_anova(two_anova_df, 'Smoking_Status', 'Race', 'Chronic_Stress', \"Two\")\n",
    "two_anova_smoking_sex_chronic = get_anova(two_anova_df, 'Smoking_Status', 'Sex', 'Chronic_Stress', \"Two\")\n",
    "two_anova_sex_race_chronic = get_anova(two_anova_df, 'Sex', 'Race', 'Chronic_Stress', \"Two\")\n",
    "\n",
    "# creating 1 df\n",
    "chronic_anova_df = unique(rbind(three_anova_smoking_race_chronic, three_anova_smoking_sex_chronic,\n",
    "                            three_anova_sex_race_chronic, two_anova_smoking_race_chronic, \n",
    "                                two_anova_smoking_sex_chronic, two_anova_smoking_race_chronic)) %>%\n",
    "    # adjusting\n",
    "    #group_by(BP_Class) %>%\n",
    "    mutate(P_Adj = p.adjust(as.numeric(as.character(P_Value)), method = \"fdr\"))"
   ]
  },
  {
   "cell_type": "code",
   "execution_count": 112,
   "id": "fbc98396",
   "metadata": {},
   "outputs": [
    {
     "data": {
      "text/html": [
       "<table class=\"dataframe\">\n",
       "<caption>A data.frame: 3 × 6</caption>\n",
       "<thead>\n",
       "\t<tr><th scope=col>Outcome</th><th scope=col>BP_Class</th><th scope=col>Comparison</th><th scope=col>F_Value</th><th scope=col>P_Value</th><th scope=col>P_Adj</th></tr>\n",
       "\t<tr><th scope=col>&lt;chr&gt;</th><th scope=col>&lt;chr&gt;</th><th scope=col>&lt;chr&gt;</th><th scope=col>&lt;dbl&gt;</th><th scope=col>&lt;dbl&gt;</th><th scope=col>&lt;dbl&gt;</th></tr>\n",
       "</thead>\n",
       "<tbody>\n",
       "\t<tr><td>Chronic_Stress</td><td>Three</td><td>Race      </td><td>9.560772</td><td>0.003033896</td><td>0.02275422</td></tr>\n",
       "\t<tr><td>Chronic_Stress</td><td>Three</td><td>Sex : Race</td><td>5.808469</td><td>0.019085653</td><td>0.09542826</td></tr>\n",
       "\t<tr><td>Chronic_Stress</td><td>Two  </td><td>Race      </td><td>9.560772</td><td>0.003033896</td><td>0.02275422</td></tr>\n",
       "</tbody>\n",
       "</table>\n"
      ],
      "text/latex": [
       "A data.frame: 3 × 6\n",
       "\\begin{tabular}{llllll}\n",
       " Outcome & BP\\_Class & Comparison & F\\_Value & P\\_Value & P\\_Adj\\\\\n",
       " <chr> & <chr> & <chr> & <dbl> & <dbl> & <dbl>\\\\\n",
       "\\hline\n",
       "\t Chronic\\_Stress & Three & Race       & 9.560772 & 0.003033896 & 0.02275422\\\\\n",
       "\t Chronic\\_Stress & Three & Sex : Race & 5.808469 & 0.019085653 & 0.09542826\\\\\n",
       "\t Chronic\\_Stress & Two   & Race       & 9.560772 & 0.003033896 & 0.02275422\\\\\n",
       "\\end{tabular}\n"
      ],
      "text/markdown": [
       "\n",
       "A data.frame: 3 × 6\n",
       "\n",
       "| Outcome &lt;chr&gt; | BP_Class &lt;chr&gt; | Comparison &lt;chr&gt; | F_Value &lt;dbl&gt; | P_Value &lt;dbl&gt; | P_Adj &lt;dbl&gt; |\n",
       "|---|---|---|---|---|---|\n",
       "| Chronic_Stress | Three | Race       | 9.560772 | 0.003033896 | 0.02275422 |\n",
       "| Chronic_Stress | Three | Sex : Race | 5.808469 | 0.019085653 | 0.09542826 |\n",
       "| Chronic_Stress | Two   | Race       | 9.560772 | 0.003033896 | 0.02275422 |\n",
       "\n"
      ],
      "text/plain": [
       "  Outcome        BP_Class Comparison F_Value  P_Value     P_Adj     \n",
       "1 Chronic_Stress Three    Race       9.560772 0.003033896 0.02275422\n",
       "2 Chronic_Stress Three    Sex : Race 5.808469 0.019085653 0.09542826\n",
       "3 Chronic_Stress Two      Race       9.560772 0.003033896 0.02275422"
      ]
     },
     "metadata": {},
     "output_type": "display_data"
    }
   ],
   "source": [
    "# viewing sig results\n",
    "chronic_anova_df %>%\n",
    "    filter(P_Adj < 0.1)"
   ]
  },
  {
   "cell_type": "markdown",
   "id": "f679b2b6",
   "metadata": {},
   "source": [
    "ADD WORDS"
   ]
  },
  {
   "cell_type": "code",
   "execution_count": 114,
   "id": "6eb2f084-a355-4102-b79d-338a0fc633c8",
   "metadata": {},
   "outputs": [],
   "source": [
    "# calling fn\n",
    "three_tukey_smoking_race_chronic = get_tukey(three_anova_df, 'Smoking_Status', 'Race', 'Acute_Stress', \"Three\")\n",
    "three_tukey_smoking_sex_chronic = get_tukey(three_anova_df, 'Smoking_Status', 'Sex', 'Acute_Stress', \"Three\")\n",
    "three_tukey_sex_race_chronic = get_tukey(three_anova_df, 'Sex', 'Race', 'Acute_Stress', \"Three\")\n",
    "two_tukey_smoking_race_chronic = get_tukey(two_anova_df, 'Smoking_Status', 'Race', 'Acute_Stress', \"Two\")\n",
    "two_tukey_smoking_sex_chronic = get_tukey(two_anova_df, 'Smoking_Status', 'Sex', 'Acute_Stress', \"Two\")\n",
    "two_tukey_sex_race_chronic = get_tukey(two_anova_df, 'Sex', 'Race', 'Acute_Stress', \"Two\")\n",
    "\n",
    "# creating 1 df\n",
    "chronic_tukey_df = rbind(three_tukey_smoking_race_chronic, three_tukey_smoking_sex_chronic,\n",
    "                            three_tukey_sex_race_chronic, two_tukey_smoking_race_chronic, \n",
    "                            two_tukey_smoking_sex_chronic, two_tukey_smoking_race_chronic) %>%\n",
    "    # only need results from interactions\n",
    "    filter(grepl(\":\", term))"
   ]
  },
  {
   "cell_type": "code",
   "execution_count": 115,
   "id": "5ba73c7b-1d74-4bfd-a130-96cc32b5dc9d",
   "metadata": {},
   "outputs": [
    {
     "data": {
      "text/html": [
       "<table class=\"dataframe\">\n",
       "<caption>A data.frame: 4 × 8</caption>\n",
       "<thead>\n",
       "\t<tr><th scope=col>Outcome</th><th scope=col>BP_Class</th><th scope=col>term</th><th scope=col>group1</th><th scope=col>group2</th><th scope=col>estimate</th><th scope=col>p.adj</th><th scope=col>p.adj.signif</th></tr>\n",
       "\t<tr><th scope=col>&lt;chr&gt;</th><th scope=col>&lt;chr&gt;</th><th scope=col>&lt;chr&gt;</th><th scope=col>&lt;chr&gt;</th><th scope=col>&lt;chr&gt;</th><th scope=col>&lt;dbl&gt;</th><th scope=col>&lt;dbl&gt;</th><th scope=col>&lt;chr&gt;</th></tr>\n",
       "</thead>\n",
       "<tbody>\n",
       "\t<tr><td>Acute_Stress</td><td>Three</td><td>Smoking_Status:Sex</td><td>NS:M</td><td>CS:F</td><td>-0.15691188</td><td>0.0511</td><td>ns</td></tr>\n",
       "\t<tr><td>Acute_Stress</td><td>Three</td><td>Sex:Race          </td><td>M:W </td><td>F:W </td><td>-0.13763563</td><td>0.0294</td><td>* </td></tr>\n",
       "\t<tr><td>Acute_Stress</td><td>Three</td><td>Sex:Race          </td><td>M:W </td><td>M:B </td><td>-0.14106353</td><td>0.0610</td><td>ns</td></tr>\n",
       "\t<tr><td>Acute_Stress</td><td>Two  </td><td>Smoking_Status:Sex</td><td>NS:F</td><td>CS:F</td><td>-0.09702454</td><td>0.0855</td><td>ns</td></tr>\n",
       "</tbody>\n",
       "</table>\n"
      ],
      "text/latex": [
       "A data.frame: 4 × 8\n",
       "\\begin{tabular}{llllllll}\n",
       " Outcome & BP\\_Class & term & group1 & group2 & estimate & p.adj & p.adj.signif\\\\\n",
       " <chr> & <chr> & <chr> & <chr> & <chr> & <dbl> & <dbl> & <chr>\\\\\n",
       "\\hline\n",
       "\t Acute\\_Stress & Three & Smoking\\_Status:Sex & NS:M & CS:F & -0.15691188 & 0.0511 & ns\\\\\n",
       "\t Acute\\_Stress & Three & Sex:Race           & M:W  & F:W  & -0.13763563 & 0.0294 & * \\\\\n",
       "\t Acute\\_Stress & Three & Sex:Race           & M:W  & M:B  & -0.14106353 & 0.0610 & ns\\\\\n",
       "\t Acute\\_Stress & Two   & Smoking\\_Status:Sex & NS:F & CS:F & -0.09702454 & 0.0855 & ns\\\\\n",
       "\\end{tabular}\n"
      ],
      "text/markdown": [
       "\n",
       "A data.frame: 4 × 8\n",
       "\n",
       "| Outcome &lt;chr&gt; | BP_Class &lt;chr&gt; | term &lt;chr&gt; | group1 &lt;chr&gt; | group2 &lt;chr&gt; | estimate &lt;dbl&gt; | p.adj &lt;dbl&gt; | p.adj.signif &lt;chr&gt; |\n",
       "|---|---|---|---|---|---|---|---|\n",
       "| Acute_Stress | Three | Smoking_Status:Sex | NS:M | CS:F | -0.15691188 | 0.0511 | ns |\n",
       "| Acute_Stress | Three | Sex:Race           | M:W  | F:W  | -0.13763563 | 0.0294 | *  |\n",
       "| Acute_Stress | Three | Sex:Race           | M:W  | M:B  | -0.14106353 | 0.0610 | ns |\n",
       "| Acute_Stress | Two   | Smoking_Status:Sex | NS:F | CS:F | -0.09702454 | 0.0855 | ns |\n",
       "\n"
      ],
      "text/plain": [
       "  Outcome      BP_Class term               group1 group2 estimate    p.adj \n",
       "1 Acute_Stress Three    Smoking_Status:Sex NS:M   CS:F   -0.15691188 0.0511\n",
       "2 Acute_Stress Three    Sex:Race           M:W    F:W    -0.13763563 0.0294\n",
       "3 Acute_Stress Three    Sex:Race           M:W    M:B    -0.14106353 0.0610\n",
       "4 Acute_Stress Two      Smoking_Status:Sex NS:F   CS:F   -0.09702454 0.0855\n",
       "  p.adj.signif\n",
       "1 ns          \n",
       "2 *           \n",
       "3 ns          \n",
       "4 ns          "
      ]
     },
     "metadata": {},
     "output_type": "display_data"
    }
   ],
   "source": [
    "# viewing sig results\n",
    "chronic_tukey_df %>%\n",
    "    filter(p.adj < 0.1)"
   ]
  },
  {
   "cell_type": "markdown",
   "id": "f4e70cce-1873-477e-8cf8-3f292f035737",
   "metadata": {},
   "source": [
    "There are statistically significant differences in chronic allostatic load (stress) based on race (p value = 0.03). The interaction between sex and race was significant (p value < 0.01). \n",
    "\n",
    "Tukey's post hoc tests revealed that white females have a higher chronic AL than black females (p adj < 0.05).?"
   ]
  },
  {
   "cell_type": "code",
   "execution_count": 41,
   "id": "6a4330e8-1d40-4a8b-8114-f6c7519d8ce6",
   "metadata": {},
   "outputs": [],
   "source": [
    "# insert another boxplot for smoking??"
   ]
  },
  {
   "cell_type": "code",
   "execution_count": 118,
   "id": "9a035d42",
   "metadata": {},
   "outputs": [
    {
     "data": {
      "text/html": [
       "<table class=\"dataframe\">\n",
       "<caption>A tibble: 6 × 9</caption>\n",
       "<thead>\n",
       "\t<tr><th scope=col>.y.</th><th scope=col>group1</th><th scope=col>group2</th><th scope=col>p</th><th scope=col>p.adj</th><th scope=col>p.format</th><th scope=col>p.signif</th><th scope=col>method</th><th scope=col>y.position</th></tr>\n",
       "\t<tr><th scope=col>&lt;chr&gt;</th><th scope=col>&lt;chr&gt;</th><th scope=col>&lt;chr&gt;</th><th scope=col>&lt;dbl&gt;</th><th scope=col>&lt;dbl&gt;</th><th scope=col>&lt;chr&gt;</th><th scope=col>&lt;chr&gt;</th><th scope=col>&lt;chr&gt;</th><th scope=col>&lt;dbl&gt;</th></tr>\n",
       "</thead>\n",
       "<tbody>\n",
       "\t<tr><td>Chronic_Stress</td><td>M:W</td><td>F:W</td><td>0.166445263</td><td>0.5000</td><td>0.1664</td><td>ns</td><td>T-test</td><td>1.2</td></tr>\n",
       "\t<tr><td>Chronic_Stress</td><td>M:W</td><td>F:B</td><td>0.064645064</td><td>0.2600</td><td>0.0646</td><td>ns</td><td>T-test</td><td>1.0</td></tr>\n",
       "\t<tr><td>Chronic_Stress</td><td>M:W</td><td>M:B</td><td>0.770877232</td><td>0.7700</td><td>0.7709</td><td>ns</td><td>T-test</td><td>1.0</td></tr>\n",
       "\t<tr><td>Chronic_Stress</td><td>F:W</td><td>F:B</td><td>0.001389908</td><td>0.0083</td><td>0.0014</td><td>**</td><td>T-test</td><td>1.5</td></tr>\n",
       "\t<tr><td>Chronic_Stress</td><td>F:W</td><td>M:B</td><td>0.306787309</td><td>0.6100</td><td>0.3068</td><td>ns</td><td>T-test</td><td>1.0</td></tr>\n",
       "\t<tr><td>Chronic_Stress</td><td>F:B</td><td>M:B</td><td>0.043933900</td><td>0.2200</td><td>0.0439</td><td>ns</td><td>T-test</td><td>1.0</td></tr>\n",
       "</tbody>\n",
       "</table>\n"
      ],
      "text/latex": [
       "A tibble: 6 × 9\n",
       "\\begin{tabular}{lllllllll}\n",
       " .y. & group1 & group2 & p & p.adj & p.format & p.signif & method & y.position\\\\\n",
       " <chr> & <chr> & <chr> & <dbl> & <dbl> & <chr> & <chr> & <chr> & <dbl>\\\\\n",
       "\\hline\n",
       "\t Chronic\\_Stress & M:W & F:W & 0.166445263 & 0.5000 & 0.1664 & ns & T-test & 1.2\\\\\n",
       "\t Chronic\\_Stress & M:W & F:B & 0.064645064 & 0.2600 & 0.0646 & ns & T-test & 1.0\\\\\n",
       "\t Chronic\\_Stress & M:W & M:B & 0.770877232 & 0.7700 & 0.7709 & ns & T-test & 1.0\\\\\n",
       "\t Chronic\\_Stress & F:W & F:B & 0.001389908 & 0.0083 & 0.0014 & ** & T-test & 1.5\\\\\n",
       "\t Chronic\\_Stress & F:W & M:B & 0.306787309 & 0.6100 & 0.3068 & ns & T-test & 1.0\\\\\n",
       "\t Chronic\\_Stress & F:B & M:B & 0.043933900 & 0.2200 & 0.0439 & ns & T-test & 1.0\\\\\n",
       "\\end{tabular}\n"
      ],
      "text/markdown": [
       "\n",
       "A tibble: 6 × 9\n",
       "\n",
       "| .y. &lt;chr&gt; | group1 &lt;chr&gt; | group2 &lt;chr&gt; | p &lt;dbl&gt; | p.adj &lt;dbl&gt; | p.format &lt;chr&gt; | p.signif &lt;chr&gt; | method &lt;chr&gt; | y.position &lt;dbl&gt; |\n",
       "|---|---|---|---|---|---|---|---|---|\n",
       "| Chronic_Stress | M:W | F:W | 0.166445263 | 0.5000 | 0.1664 | ns | T-test | 1.2 |\n",
       "| Chronic_Stress | M:W | F:B | 0.064645064 | 0.2600 | 0.0646 | ns | T-test | 1.0 |\n",
       "| Chronic_Stress | M:W | M:B | 0.770877232 | 0.7700 | 0.7709 | ns | T-test | 1.0 |\n",
       "| Chronic_Stress | F:W | F:B | 0.001389908 | 0.0083 | 0.0014 | ** | T-test | 1.5 |\n",
       "| Chronic_Stress | F:W | M:B | 0.306787309 | 0.6100 | 0.3068 | ns | T-test | 1.0 |\n",
       "| Chronic_Stress | F:B | M:B | 0.043933900 | 0.2200 | 0.0439 | ns | T-test | 1.0 |\n",
       "\n"
      ],
      "text/plain": [
       "  .y.            group1 group2 p           p.adj  p.format p.signif method\n",
       "1 Chronic_Stress M:W    F:W    0.166445263 0.5000 0.1664   ns       T-test\n",
       "2 Chronic_Stress M:W    F:B    0.064645064 0.2600 0.0646   ns       T-test\n",
       "3 Chronic_Stress M:W    M:B    0.770877232 0.7700 0.7709   ns       T-test\n",
       "4 Chronic_Stress F:W    F:B    0.001389908 0.0083 0.0014   **       T-test\n",
       "5 Chronic_Stress F:W    M:B    0.306787309 0.6100 0.3068   ns       T-test\n",
       "6 Chronic_Stress F:B    M:B    0.043933900 0.2200 0.0439   ns       T-test\n",
       "  y.position\n",
       "1 1.2       \n",
       "2 1.0       \n",
       "3 1.0       \n",
       "4 1.5       \n",
       "5 1.0       \n",
       "6 1.0       "
      ]
     },
     "metadata": {},
     "output_type": "display_data"
    }
   ],
   "source": [
    "# plotting t test values instead of tukey's since\n",
    "# it gives me both the p values and adjusted p values\n",
    "adjusted_t_test_p_values = compare_means(Chronic_Stress ~ Sex:Race, data = boxplot_df, method = \"t.test\") %>%\n",
    "    # basing the p.signif off of adjusted p values\n",
    "    mutate(p.signif = ifelse(p.adj < 0.0001, '****', \n",
    "                             ifelse(p.adj >= 0.0001 & p.adj < 0.001, '***',\n",
    "                                   ifelse(p.adj >= 0.001 & p.adj < 0.01, '**',\n",
    "                                         ifelse(p.adj >= 0.01 & p.adj < 0.05, '*', \n",
    "                                                ifelse(p.adj >= 0.05 & p.adj < 0.1, '.', \n",
    "                                                    'ns')))))) %>%\n",
    "    # manually adding the y position\n",
    "    mutate(y.position = c(1.2, 1, 1, 1.5, 1, 1))\n",
    "\n",
    "adjusted_t_test_p_values"
   ]
  },
  {
   "cell_type": "code",
   "execution_count": 119,
   "id": "604dc888-5c34-41e7-b942-e4bd60411f5f",
   "metadata": {},
   "outputs": [
    {
     "data": {
      "image/png": "[encoded data removed]",
      "text/plain": [
       "plot without title"
      ]
     },
     "metadata": {
      "image/png": {
       "height": 360,
       "width": 480
      }
     },
     "output_type": "display_data"
    }
   ],
   "source": [
    "ggplot(data = boxplot_df, aes(x = Sex:Race, y = Allostatic_Load)) + \n",
    "  geom_boxplot() + \n",
    "  geom_point(position = position_jitter(w = 0.1)) + \n",
    "\n",
    "  # adding more space for p value significance\n",
    "  ylim(NA, 1.7) + \n",
    "\n",
    "  # overall anova p value\n",
    "  stat_anova_test(wid = \"Sex:Race\", p.adjust.method = \"none\", label = \"p = {p.format}\", \n",
    "                     label.x.npc = \"left\", size = 7, label.y = 1.6) +\n",
    "#   # unadjusted p value\n",
    "#   stat_compare_means(comparisons = significant_comparisons, label = \"p.signif\", hide.ns = TRUE, size = 10) #+\n",
    "\n",
    "  # adjusted p value\n",
    "  stat_pvalue_manual(adjusted_t_test_p_values %>%\n",
    "                         filter(p.signif != 'ns'), label = \"p.signif\", size = 15)"
   ]
  },
  {
   "cell_type": "markdown",
   "id": "161ca526-b740-45fb-807a-6378234d8a88",
   "metadata": {},
   "source": [
    "# Recap of Significant Results\n",
    "**Overall AL**\n",
    "+ *Interaction of Sex and Race*\n",
    "    + black females have a higher AL than white females\n",
    "    + Putting Fibrinogen into the chronic stress allowed the two-way anova to pick up more potential significant associations including smoking status and race\n",
    "\n",
    "**Acute Stress**\n",
    "+ *Smoking Status*\n",
    "    + non-smokers had higher acute stress than cigarette smokers\n",
    "+ *Race*\n",
    "    + Removing Fibrinogen made this significant, but only when using the 3 class ordinal weights\n",
    "+ *Interaction of Sex and Race*\n",
    "    + only significant when using the ordinal weights derived from the 3 class BP prediction\n",
    "    + white females have a higher acute stress than white males\n",
    "\n",
    "**Chronic Stress**\n",
    "+ *Race*\n",
    "  + black subjects have higher chronic stress than white subjects\n",
    "  + Adding Fibrinogen made this even more significant\n",
    "+ *Interaction of Sex and Race*\n",
    "    + black females have a higher chronic stress than white females"
   ]
  },
  {
   "cell_type": "code",
   "execution_count": null,
   "id": "8528875d-e6d5-417a-b754-b8b620a89330",
   "metadata": {},
   "outputs": [],
   "source": []
  }
 ],
 "metadata": {
  "kernelspec": {
   "display_name": "R",
   "language": "R",
   "name": "ir"
  },
  "language_info": {
   "codemirror_mode": "r",
   "file_extension": ".r",
   "mimetype": "text/x-r-source",
   "name": "R",
   "pygments_lexer": "r",
   "version": "4.1.3"
  }
 },
 "nbformat": 4,
 "nbformat_minor": 5
}
